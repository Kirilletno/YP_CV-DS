{
  "cells": [
    {
      "cell_type": "markdown",
      "metadata": {
        "toc": true,
        "id": "pHJX2DFR1oZf"
      },
      "source": [
        "<h1>Содержание<span class=\"tocSkip\"></span></h1>\n",
        "<div class=\"toc\"><ul class=\"toc-item\"><li><span><a href=\"#Подготовка-данных\" data-toc-modified-id=\"Подготовка-данных-1\"><span class=\"toc-item-num\">1&nbsp;&nbsp;</span>Подготовка данных</a></span></li><li><span><a href=\"#Исследование-задачи\" data-toc-modified-id=\"Исследование-задачи-2\"><span class=\"toc-item-num\">2&nbsp;&nbsp;</span>Исследование задачи</a></span></li><li><span><a href=\"#Борьба-с-дисбалансом\" data-toc-modified-id=\"Борьба-с-дисбалансом-3\"><span class=\"toc-item-num\">3&nbsp;&nbsp;</span>Борьба с дисбалансом</a></span></li><li><span><a href=\"#Тестирование-модели\" data-toc-modified-id=\"Тестирование-модели-4\"><span class=\"toc-item-num\">4&nbsp;&nbsp;</span>Тестирование модели</a></span></li><li><span><a href=\"#Чек-лист-готовности-проекта\" data-toc-modified-id=\"Чек-лист-готовности-проекта-5\"><span class=\"toc-item-num\">5&nbsp;&nbsp;</span>Чек-лист готовности проекта</a></span></li></ul></div>"
      ]
    },
    {
      "cell_type": "markdown",
      "metadata": {
        "id": "EoKzWyGB1oZf"
      },
      "source": [
        "# Отток клиентов"
      ]
    },
    {
      "cell_type": "markdown",
      "metadata": {
        "id": "mbVMyYHN1oZf"
      },
      "source": [
        "Из «Бета-Банка» стали уходить клиенты. Каждый месяц. Немного, но заметно. Банковские маркетологи посчитали: сохранять текущих клиентов дешевле, чем привлекать новых.\n",
        "\n",
        "Нужно спрогнозировать, уйдёт клиент из банка в ближайшее время или нет. Вам предоставлены исторические данные о поведении клиентов и расторжении договоров с банком.\n",
        "\n",
        "Постройте модель с предельно большим значением *F1*-меры. Чтобы сдать проект успешно, нужно довести метрику до 0.59. Проверьте *F1*-меру на тестовой выборке самостоятельно.\n",
        "\n",
        "Дополнительно измеряйте *AUC-ROC*, сравнивайте её значение с *F1*-мерой.\n",
        "\n",
        "Источник данных: [https://www.kaggle.com/barelydedicated/bank-customer-churn-modeling](https://www.kaggle.com/barelydedicated/bank-customer-churn-modeling)"
      ]
    },
    {
      "cell_type": "markdown",
      "metadata": {
        "id": "QaYNTzxu1oZg"
      },
      "source": [
        "## Подготовка данных"
      ]
    },
    {
      "cell_type": "markdown",
      "metadata": {
        "id": "wbkHFukz1oZg"
      },
      "source": [
        "Импортируем библиотеки, которые понадобятся нам в ходе работы"
      ]
    },
    {
      "cell_type": "code",
      "execution_count": null,
      "metadata": {
        "id": "N5QhosfA1oZg"
      },
      "outputs": [],
      "source": [
        "import pandas as pd\n",
        "import numpy as np\n",
        "\n",
        "from sklearn.model_selection import train_test_split\n",
        "from sklearn.utils import shuffle\n",
        "\n",
        "from sklearn.linear_model import LogisticRegression\n",
        "from sklearn.tree import DecisionTreeClassifier\n",
        "from sklearn.ensemble import RandomForestClassifier\n",
        "\n",
        "from sklearn.metrics import f1_score\n",
        "from sklearn.metrics import roc_auc_score\n",
        "\n",
        "from sklearn.preprocessing import StandardScaler\n",
        "from sklearn.preprocessing import OneHotEncoder\n"
      ]
    },
    {
      "cell_type": "markdown",
      "metadata": {
        "id": "odK5sTIS1oZh"
      },
      "source": [
        "Изучаем полученные данные"
      ]
    },
    {
      "cell_type": "code",
      "execution_count": null,
      "metadata": {
        "id": "-jIpOu2X1oZh",
        "outputId": "d8238b89-799a-4a81-a0ad-31471435162d"
      },
      "outputs": [
        {
          "name": "stdout",
          "output_type": "stream",
          "text": [
            "<class 'pandas.core.frame.DataFrame'>\n",
            "RangeIndex: 10000 entries, 0 to 9999\n",
            "Data columns (total 14 columns):\n",
            " #   Column           Non-Null Count  Dtype  \n",
            "---  ------           --------------  -----  \n",
            " 0   RowNumber        10000 non-null  int64  \n",
            " 1   CustomerId       10000 non-null  int64  \n",
            " 2   Surname          10000 non-null  object \n",
            " 3   CreditScore      10000 non-null  int64  \n",
            " 4   Geography        10000 non-null  object \n",
            " 5   Gender           10000 non-null  object \n",
            " 6   Age              10000 non-null  int64  \n",
            " 7   Tenure           9091 non-null   float64\n",
            " 8   Balance          10000 non-null  float64\n",
            " 9   NumOfProducts    10000 non-null  int64  \n",
            " 10  HasCrCard        10000 non-null  int64  \n",
            " 11  IsActiveMember   10000 non-null  int64  \n",
            " 12  EstimatedSalary  10000 non-null  float64\n",
            " 13  Exited           10000 non-null  int64  \n",
            "dtypes: float64(3), int64(8), object(3)\n",
            "memory usage: 1.1+ MB\n"
          ]
        },
        {
          "data": {
            "text/html": [
              "<div>\n",
              "<style scoped>\n",
              "    .dataframe tbody tr th:only-of-type {\n",
              "        vertical-align: middle;\n",
              "    }\n",
              "\n",
              "    .dataframe tbody tr th {\n",
              "        vertical-align: top;\n",
              "    }\n",
              "\n",
              "    .dataframe thead th {\n",
              "        text-align: right;\n",
              "    }\n",
              "</style>\n",
              "<table border=\"1\" class=\"dataframe\">\n",
              "  <thead>\n",
              "    <tr style=\"text-align: right;\">\n",
              "      <th></th>\n",
              "      <th>RowNumber</th>\n",
              "      <th>CustomerId</th>\n",
              "      <th>Surname</th>\n",
              "      <th>CreditScore</th>\n",
              "      <th>Geography</th>\n",
              "      <th>Gender</th>\n",
              "      <th>Age</th>\n",
              "      <th>Tenure</th>\n",
              "      <th>Balance</th>\n",
              "      <th>NumOfProducts</th>\n",
              "      <th>HasCrCard</th>\n",
              "      <th>IsActiveMember</th>\n",
              "      <th>EstimatedSalary</th>\n",
              "      <th>Exited</th>\n",
              "    </tr>\n",
              "  </thead>\n",
              "  <tbody>\n",
              "    <tr>\n",
              "      <th>0</th>\n",
              "      <td>1</td>\n",
              "      <td>15634602</td>\n",
              "      <td>Hargrave</td>\n",
              "      <td>619</td>\n",
              "      <td>France</td>\n",
              "      <td>Female</td>\n",
              "      <td>42</td>\n",
              "      <td>2.0</td>\n",
              "      <td>0.00</td>\n",
              "      <td>1</td>\n",
              "      <td>1</td>\n",
              "      <td>1</td>\n",
              "      <td>101348.88</td>\n",
              "      <td>1</td>\n",
              "    </tr>\n",
              "    <tr>\n",
              "      <th>1</th>\n",
              "      <td>2</td>\n",
              "      <td>15647311</td>\n",
              "      <td>Hill</td>\n",
              "      <td>608</td>\n",
              "      <td>Spain</td>\n",
              "      <td>Female</td>\n",
              "      <td>41</td>\n",
              "      <td>1.0</td>\n",
              "      <td>83807.86</td>\n",
              "      <td>1</td>\n",
              "      <td>0</td>\n",
              "      <td>1</td>\n",
              "      <td>112542.58</td>\n",
              "      <td>0</td>\n",
              "    </tr>\n",
              "    <tr>\n",
              "      <th>2</th>\n",
              "      <td>3</td>\n",
              "      <td>15619304</td>\n",
              "      <td>Onio</td>\n",
              "      <td>502</td>\n",
              "      <td>France</td>\n",
              "      <td>Female</td>\n",
              "      <td>42</td>\n",
              "      <td>8.0</td>\n",
              "      <td>159660.80</td>\n",
              "      <td>3</td>\n",
              "      <td>1</td>\n",
              "      <td>0</td>\n",
              "      <td>113931.57</td>\n",
              "      <td>1</td>\n",
              "    </tr>\n",
              "    <tr>\n",
              "      <th>3</th>\n",
              "      <td>4</td>\n",
              "      <td>15701354</td>\n",
              "      <td>Boni</td>\n",
              "      <td>699</td>\n",
              "      <td>France</td>\n",
              "      <td>Female</td>\n",
              "      <td>39</td>\n",
              "      <td>1.0</td>\n",
              "      <td>0.00</td>\n",
              "      <td>2</td>\n",
              "      <td>0</td>\n",
              "      <td>0</td>\n",
              "      <td>93826.63</td>\n",
              "      <td>0</td>\n",
              "    </tr>\n",
              "    <tr>\n",
              "      <th>4</th>\n",
              "      <td>5</td>\n",
              "      <td>15737888</td>\n",
              "      <td>Mitchell</td>\n",
              "      <td>850</td>\n",
              "      <td>Spain</td>\n",
              "      <td>Female</td>\n",
              "      <td>43</td>\n",
              "      <td>2.0</td>\n",
              "      <td>125510.82</td>\n",
              "      <td>1</td>\n",
              "      <td>1</td>\n",
              "      <td>1</td>\n",
              "      <td>79084.10</td>\n",
              "      <td>0</td>\n",
              "    </tr>\n",
              "  </tbody>\n",
              "</table>\n",
              "</div>"
            ],
            "text/plain": [
              "   RowNumber  CustomerId   Surname  CreditScore Geography  Gender  Age  \\\n",
              "0          1    15634602  Hargrave          619    France  Female   42   \n",
              "1          2    15647311      Hill          608     Spain  Female   41   \n",
              "2          3    15619304      Onio          502    France  Female   42   \n",
              "3          4    15701354      Boni          699    France  Female   39   \n",
              "4          5    15737888  Mitchell          850     Spain  Female   43   \n",
              "\n",
              "   Tenure    Balance  NumOfProducts  HasCrCard  IsActiveMember  \\\n",
              "0     2.0       0.00              1          1               1   \n",
              "1     1.0   83807.86              1          0               1   \n",
              "2     8.0  159660.80              3          1               0   \n",
              "3     1.0       0.00              2          0               0   \n",
              "4     2.0  125510.82              1          1               1   \n",
              "\n",
              "   EstimatedSalary  Exited  \n",
              "0        101348.88       1  \n",
              "1        112542.58       0  \n",
              "2        113931.57       1  \n",
              "3         93826.63       0  \n",
              "4         79084.10       0  "
            ]
          },
          "execution_count": 3,
          "metadata": {},
          "output_type": "execute_result"
        }
      ],
      "source": [
        "df = pd.read_csv('/datasets/Churn.csv')\n",
        "df.info()\n",
        "df.head()"
      ]
    },
    {
      "cell_type": "markdown",
      "metadata": {
        "id": "cTdOMh3Y1oZi"
      },
      "source": [
        "Подготавим данные для последующего анализа, заполним пропуски и бесконечности из таблицы, во избежание появления ошибки- ValueError: Input contains NaN, infinity or a value too large for dtype('float64'). в дальнейшем, при тренировки модели (происходила из-за пропусков в столбце Tenure)\n",
        "\n",
        "Также, чтобы не плодить огромное колличество столбцов и не увеличивать время работы модели, после преобразования колличественных переменных в категориальные, удаляем неинформативные столбцы- 'Surname', 'CustomerId', 'RowNumber'."
      ]
    },
    {
      "cell_type": "code",
      "execution_count": null,
      "metadata": {
        "id": "v1-GyGSD1oZj"
      },
      "outputs": [],
      "source": [
        "df = df.drop(['Surname', 'CustomerId', 'RowNumber'], axis=1)\n",
        "df = df.replace((np.inf, np.nan), 0).reset_index(drop=True)"
      ]
    },
    {
      "cell_type": "markdown",
      "metadata": {
        "id": "F8RoN7Lu1oZj"
      },
      "source": [
        "Выделяем целевой признак, а также делим выборки на валидационную, тренировочную и тестовую для последующей работы"
      ]
    },
    {
      "cell_type": "code",
      "execution_count": null,
      "metadata": {
        "id": "oEoDTTO51oZj",
        "outputId": "9b2f96e1-2e7e-4ea3-cd50-cc9cfb35862f"
      },
      "outputs": [
        {
          "name": "stdout",
          "output_type": "stream",
          "text": [
            "Количество строк в target_train по классам: [4778 1222]\n",
            "Количество строк в target_valid по классам: [1592  408]\n",
            "Количество строк в target_test по классам: [1593  407]\n"
          ]
        }
      ],
      "source": [
        "target = df['Exited']\n",
        "features = df.drop('Exited', axis=1)\n",
        "\n",
        "features_train, features_test1, target_train, target_test1 = train_test_split(\n",
        "    features, target, test_size=0.4, random_state=12345,  stratify= target)\n",
        "features_valid, features_test,target_valid, target_test = train_test_split(\n",
        "    features_test1, target_test1, test_size=0.5, random_state=12345, stratify= target_test1)\n",
        "\n",
        "print(f\"Количество строк в target_train по классам: {np.bincount(target_train)}\")\n",
        "print(f\"Количество строк в target_valid по классам: {np.bincount(target_valid)}\")\n",
        "print(f\"Количество строк в target_test по классам: {np.bincount(target_test)}\")"
      ]
    },
    {
      "cell_type": "markdown",
      "source": [
        "Преобразуем категориальные перменные методом- get_dummies и изучаем размерность получившихся датасетов."
      ],
      "metadata": {
        "id": "N4teGMcT3MTH"
      }
    },
    {
      "cell_type": "code",
      "execution_count": null,
      "metadata": {
        "scrolled": true,
        "id": "gg0hNMIA1oZk",
        "outputId": "f4ffb0f8-3e5c-4386-e232-0a0be5ddf869"
      },
      "outputs": [
        {
          "name": "stdout",
          "output_type": "stream",
          "text": [
            "<class 'pandas.core.frame.DataFrame'>\n",
            "Int64Index: 6000 entries, 2837 to 700\n",
            "Data columns (total 11 columns):\n",
            " #   Column             Non-Null Count  Dtype  \n",
            "---  ------             --------------  -----  \n",
            " 0   CreditScore        6000 non-null   int64  \n",
            " 1   Age                6000 non-null   int64  \n",
            " 2   Tenure             6000 non-null   float64\n",
            " 3   Balance            6000 non-null   float64\n",
            " 4   NumOfProducts      6000 non-null   int64  \n",
            " 5   HasCrCard          6000 non-null   int64  \n",
            " 6   IsActiveMember     6000 non-null   int64  \n",
            " 7   EstimatedSalary    6000 non-null   float64\n",
            " 8   Geography_Germany  6000 non-null   uint8  \n",
            " 9   Geography_Spain    6000 non-null   uint8  \n",
            " 10  Gender_Male        6000 non-null   uint8  \n",
            "dtypes: float64(3), int64(5), uint8(3)\n",
            "memory usage: 439.5 KB\n"
          ]
        },
        {
          "data": {
            "text/plain": [
              "'Столбцы и значения  Датафрейма features_train'"
            ]
          },
          "metadata": {},
          "output_type": "display_data"
        },
        {
          "data": {
            "text/plain": [
              "None"
            ]
          },
          "metadata": {},
          "output_type": "display_data"
        },
        {
          "name": "stdout",
          "output_type": "stream",
          "text": [
            "<class 'pandas.core.frame.DataFrame'>\n",
            "Int64Index: 2000 entries, 6612 to 828\n",
            "Data columns (total 11 columns):\n",
            " #   Column             Non-Null Count  Dtype  \n",
            "---  ------             --------------  -----  \n",
            " 0   CreditScore        2000 non-null   int64  \n",
            " 1   Age                2000 non-null   int64  \n",
            " 2   Tenure             2000 non-null   float64\n",
            " 3   Balance            2000 non-null   float64\n",
            " 4   NumOfProducts      2000 non-null   int64  \n",
            " 5   HasCrCard          2000 non-null   int64  \n",
            " 6   IsActiveMember     2000 non-null   int64  \n",
            " 7   EstimatedSalary    2000 non-null   float64\n",
            " 8   Geography_Germany  2000 non-null   uint8  \n",
            " 9   Geography_Spain    2000 non-null   uint8  \n",
            " 10  Gender_Male        2000 non-null   uint8  \n",
            "dtypes: float64(3), int64(5), uint8(3)\n",
            "memory usage: 146.5 KB\n"
          ]
        },
        {
          "data": {
            "text/plain": [
              "'Столбцы и значения Датафрейма features_valid'"
            ]
          },
          "metadata": {},
          "output_type": "display_data"
        },
        {
          "data": {
            "text/plain": [
              "None"
            ]
          },
          "metadata": {},
          "output_type": "display_data"
        },
        {
          "name": "stdout",
          "output_type": "stream",
          "text": [
            "<class 'pandas.core.frame.DataFrame'>\n",
            "Int64Index: 2000 entries, 657 to 8832\n",
            "Data columns (total 11 columns):\n",
            " #   Column             Non-Null Count  Dtype  \n",
            "---  ------             --------------  -----  \n",
            " 0   CreditScore        2000 non-null   int64  \n",
            " 1   Age                2000 non-null   int64  \n",
            " 2   Tenure             2000 non-null   float64\n",
            " 3   Balance            2000 non-null   float64\n",
            " 4   NumOfProducts      2000 non-null   int64  \n",
            " 5   HasCrCard          2000 non-null   int64  \n",
            " 6   IsActiveMember     2000 non-null   int64  \n",
            " 7   EstimatedSalary    2000 non-null   float64\n",
            " 8   Geography_Germany  2000 non-null   uint8  \n",
            " 9   Geography_Spain    2000 non-null   uint8  \n",
            " 10  Gender_Male        2000 non-null   uint8  \n",
            "dtypes: float64(3), int64(5), uint8(3)\n",
            "memory usage: 146.5 KB\n"
          ]
        },
        {
          "data": {
            "text/plain": [
              "'Столбцы и значения  Датафрейма features_test'"
            ]
          },
          "metadata": {},
          "output_type": "display_data"
        },
        {
          "data": {
            "text/plain": [
              "None"
            ]
          },
          "metadata": {},
          "output_type": "display_data"
        }
      ],
      "source": [
        "features_train = pd.get_dummies(features_train, drop_first=True)\n",
        "features_valid = pd.get_dummies(features_valid, drop_first=True)\n",
        "features_test = pd.get_dummies(features_test, drop_first=True)\n",
        "display('Столбцы и значения  Датафрейма features_train', features_train.info())\n",
        "display('Столбцы и значения Датафрейма features_valid', features_valid.info())\n",
        "display('Столбцы и значения  Датафрейма features_test', features_test.info())"
      ]
    },
    {
      "cell_type": "markdown",
      "metadata": {
        "id": "HZDrEYFV1oZk"
      },
      "source": [
        "Приводим все данные к единому масштабу, во избежание ситуаций, в которых система, может воспринять какое-либо из значений более важным, нежели другие"
      ]
    },
    {
      "cell_type": "code",
      "execution_count": null,
      "metadata": {
        "id": "9jGrlLNC1oZk",
        "outputId": "e0946c7c-01af-4d85-f822-9784191167e6"
      },
      "outputs": [
        {
          "data": {
            "text/html": [
              "<div>\n",
              "<style scoped>\n",
              "    .dataframe tbody tr th:only-of-type {\n",
              "        vertical-align: middle;\n",
              "    }\n",
              "\n",
              "    .dataframe tbody tr th {\n",
              "        vertical-align: top;\n",
              "    }\n",
              "\n",
              "    .dataframe thead th {\n",
              "        text-align: right;\n",
              "    }\n",
              "</style>\n",
              "<table border=\"1\" class=\"dataframe\">\n",
              "  <thead>\n",
              "    <tr style=\"text-align: right;\">\n",
              "      <th></th>\n",
              "      <th>CreditScore</th>\n",
              "      <th>Age</th>\n",
              "      <th>Tenure</th>\n",
              "      <th>Balance</th>\n",
              "      <th>NumOfProducts</th>\n",
              "      <th>HasCrCard</th>\n",
              "      <th>IsActiveMember</th>\n",
              "      <th>EstimatedSalary</th>\n",
              "      <th>Geography_Germany</th>\n",
              "      <th>Geography_Spain</th>\n",
              "      <th>Gender_Male</th>\n",
              "    </tr>\n",
              "  </thead>\n",
              "  <tbody>\n",
              "    <tr>\n",
              "      <th>2837</th>\n",
              "      <td>-1.040434</td>\n",
              "      <td>0.953312</td>\n",
              "      <td>0.467449</td>\n",
              "      <td>0.774657</td>\n",
              "      <td>1</td>\n",
              "      <td>0</td>\n",
              "      <td>1</td>\n",
              "      <td>-0.119110</td>\n",
              "      <td>1</td>\n",
              "      <td>0</td>\n",
              "      <td>0</td>\n",
              "    </tr>\n",
              "    <tr>\n",
              "      <th>9925</th>\n",
              "      <td>0.454006</td>\n",
              "      <td>-0.095244</td>\n",
              "      <td>-1.461501</td>\n",
              "      <td>1.910540</td>\n",
              "      <td>1</td>\n",
              "      <td>1</td>\n",
              "      <td>1</td>\n",
              "      <td>-0.258658</td>\n",
              "      <td>0</td>\n",
              "      <td>0</td>\n",
              "      <td>0</td>\n",
              "    </tr>\n",
              "    <tr>\n",
              "      <th>8746</th>\n",
              "      <td>0.103585</td>\n",
              "      <td>-0.476537</td>\n",
              "      <td>1.110432</td>\n",
              "      <td>0.481608</td>\n",
              "      <td>2</td>\n",
              "      <td>0</td>\n",
              "      <td>1</td>\n",
              "      <td>1.422836</td>\n",
              "      <td>0</td>\n",
              "      <td>0</td>\n",
              "      <td>1</td>\n",
              "    </tr>\n",
              "    <tr>\n",
              "      <th>660</th>\n",
              "      <td>-0.184996</td>\n",
              "      <td>0.190726</td>\n",
              "      <td>-1.461501</td>\n",
              "      <td>0.088439</td>\n",
              "      <td>1</td>\n",
              "      <td>1</td>\n",
              "      <td>1</td>\n",
              "      <td>-1.160427</td>\n",
              "      <td>1</td>\n",
              "      <td>0</td>\n",
              "      <td>0</td>\n",
              "    </tr>\n",
              "    <tr>\n",
              "      <th>3610</th>\n",
              "      <td>-0.720933</td>\n",
              "      <td>1.620574</td>\n",
              "      <td>-1.140009</td>\n",
              "      <td>0.879129</td>\n",
              "      <td>1</td>\n",
              "      <td>1</td>\n",
              "      <td>0</td>\n",
              "      <td>0.113236</td>\n",
              "      <td>0</td>\n",
              "      <td>0</td>\n",
              "      <td>0</td>\n",
              "    </tr>\n",
              "    <tr>\n",
              "      <th>...</th>\n",
              "      <td>...</td>\n",
              "      <td>...</td>\n",
              "      <td>...</td>\n",
              "      <td>...</td>\n",
              "      <td>...</td>\n",
              "      <td>...</td>\n",
              "      <td>...</td>\n",
              "      <td>...</td>\n",
              "      <td>...</td>\n",
              "      <td>...</td>\n",
              "      <td>...</td>\n",
              "    </tr>\n",
              "    <tr>\n",
              "      <th>6172</th>\n",
              "      <td>-0.844611</td>\n",
              "      <td>0.381372</td>\n",
              "      <td>0.145957</td>\n",
              "      <td>0.180068</td>\n",
              "      <td>4</td>\n",
              "      <td>1</td>\n",
              "      <td>1</td>\n",
              "      <td>0.117350</td>\n",
              "      <td>1</td>\n",
              "      <td>0</td>\n",
              "      <td>1</td>\n",
              "    </tr>\n",
              "    <tr>\n",
              "      <th>2360</th>\n",
              "      <td>-1.359935</td>\n",
              "      <td>0.190726</td>\n",
              "      <td>0.145957</td>\n",
              "      <td>0.547724</td>\n",
              "      <td>1</td>\n",
              "      <td>1</td>\n",
              "      <td>0</td>\n",
              "      <td>-0.192524</td>\n",
              "      <td>1</td>\n",
              "      <td>0</td>\n",
              "      <td>0</td>\n",
              "    </tr>\n",
              "    <tr>\n",
              "      <th>4499</th>\n",
              "      <td>-1.174418</td>\n",
              "      <td>0.476696</td>\n",
              "      <td>-0.175534</td>\n",
              "      <td>0.727840</td>\n",
              "      <td>1</td>\n",
              "      <td>0</td>\n",
              "      <td>0</td>\n",
              "      <td>0.531933</td>\n",
              "      <td>1</td>\n",
              "      <td>0</td>\n",
              "      <td>0</td>\n",
              "    </tr>\n",
              "    <tr>\n",
              "      <th>9162</th>\n",
              "      <td>0.155118</td>\n",
              "      <td>2.287837</td>\n",
              "      <td>-1.461501</td>\n",
              "      <td>0.449382</td>\n",
              "      <td>1</td>\n",
              "      <td>1</td>\n",
              "      <td>1</td>\n",
              "      <td>-1.307769</td>\n",
              "      <td>1</td>\n",
              "      <td>0</td>\n",
              "      <td>1</td>\n",
              "    </tr>\n",
              "    <tr>\n",
              "      <th>700</th>\n",
              "      <td>1.031168</td>\n",
              "      <td>-0.667183</td>\n",
              "      <td>0.145957</td>\n",
              "      <td>-1.219673</td>\n",
              "      <td>2</td>\n",
              "      <td>1</td>\n",
              "      <td>0</td>\n",
              "      <td>-0.083302</td>\n",
              "      <td>0</td>\n",
              "      <td>0</td>\n",
              "      <td>0</td>\n",
              "    </tr>\n",
              "  </tbody>\n",
              "</table>\n",
              "<p>6000 rows × 11 columns</p>\n",
              "</div>"
            ],
            "text/plain": [
              "      CreditScore       Age    Tenure   Balance  NumOfProducts  HasCrCard  \\\n",
              "2837    -1.040434  0.953312  0.467449  0.774657              1          0   \n",
              "9925     0.454006 -0.095244 -1.461501  1.910540              1          1   \n",
              "8746     0.103585 -0.476537  1.110432  0.481608              2          0   \n",
              "660     -0.184996  0.190726 -1.461501  0.088439              1          1   \n",
              "3610    -0.720933  1.620574 -1.140009  0.879129              1          1   \n",
              "...           ...       ...       ...       ...            ...        ...   \n",
              "6172    -0.844611  0.381372  0.145957  0.180068              4          1   \n",
              "2360    -1.359935  0.190726  0.145957  0.547724              1          1   \n",
              "4499    -1.174418  0.476696 -0.175534  0.727840              1          0   \n",
              "9162     0.155118  2.287837 -1.461501  0.449382              1          1   \n",
              "700      1.031168 -0.667183  0.145957 -1.219673              2          1   \n",
              "\n",
              "      IsActiveMember  EstimatedSalary  Geography_Germany  Geography_Spain  \\\n",
              "2837               1        -0.119110                  1                0   \n",
              "9925               1        -0.258658                  0                0   \n",
              "8746               1         1.422836                  0                0   \n",
              "660                1        -1.160427                  1                0   \n",
              "3610               0         0.113236                  0                0   \n",
              "...              ...              ...                ...              ...   \n",
              "6172               1         0.117350                  1                0   \n",
              "2360               0        -0.192524                  1                0   \n",
              "4499               0         0.531933                  1                0   \n",
              "9162               1        -1.307769                  1                0   \n",
              "700                0        -0.083302                  0                0   \n",
              "\n",
              "      Gender_Male  \n",
              "2837            0  \n",
              "9925            0  \n",
              "8746            1  \n",
              "660             0  \n",
              "3610            0  \n",
              "...           ...  \n",
              "6172            1  \n",
              "2360            0  \n",
              "4499            0  \n",
              "9162            1  \n",
              "700             0  \n",
              "\n",
              "[6000 rows x 11 columns]"
            ]
          },
          "execution_count": 7,
          "metadata": {},
          "output_type": "execute_result"
        }
      ],
      "source": [
        "pd.options.mode.chained_assignment = None\n",
        "\n",
        "numeric = ['CreditScore', 'Balance', 'Age', 'Tenure', 'EstimatedSalary' ]\n",
        "\n",
        "scaler = StandardScaler()\n",
        "scaler.fit(features_train[numeric])\n",
        "\n",
        "features_train[numeric] = scaler.transform(features_train[numeric])\n",
        "features_valid[numeric] = scaler.transform(features_valid[numeric])\n",
        "features_test[numeric] = scaler.transform(features_test[numeric])\n",
        "\n",
        "features_train"
      ]
    },
    {
      "cell_type": "markdown",
      "metadata": {
        "id": "H30-NxN81oZo"
      },
      "source": [
        "## Исследование задачи"
      ]
    },
    {
      "cell_type": "markdown",
      "metadata": {
        "id": "c9-Ym2l41oZo"
      },
      "source": [
        "Исследуем баланс классов, проверяем насколько 0 преобладают над 1 в полученной выборке"
      ]
    },
    {
      "cell_type": "code",
      "execution_count": null,
      "metadata": {
        "id": "Zhhu3gHL1oZo",
        "outputId": "985e00ba-7027-4b4a-fa7f-3a649e02ea94"
      },
      "outputs": [
        {
          "name": "stdout",
          "output_type": "stream",
          "text": [
            "(7963,)\n"
          ]
        },
        {
          "data": {
            "text/plain": [
              "(2037,)"
            ]
          },
          "execution_count": 9,
          "metadata": {},
          "output_type": "execute_result"
        }
      ],
      "source": [
        "target_zeros = target[target == 0]\n",
        "target_ones = target[target == 1]\n",
        "print(target_zeros.shape)\n",
        "target_ones.shape"
      ]
    },
    {
      "cell_type": "markdown",
      "metadata": {
        "id": "D7y6zMNB1oZo"
      },
      "source": [
        "Разница довольно ощутима, дисбаланс на лицо\n",
        "\n",
        "Однако, сперва обучим разные модели без учета дисбаланса классов, а затем сравним результаты, с работой модели обученной на данных сбалансированной техникой downsample и upsample."
      ]
    },
    {
      "cell_type": "markdown",
      "metadata": {
        "id": "ymsw817I1oZo"
      },
      "source": [
        "Сперва проверим модель логистическое регрессии"
      ]
    },
    {
      "cell_type": "code",
      "execution_count": null,
      "metadata": {
        "id": "Ch21aRpR1oZo",
        "outputId": "9042cd85-d3b8-4396-817e-a4997e11854c"
      },
      "outputs": [
        {
          "name": "stdout",
          "output_type": "stream",
          "text": [
            "F1: 0.3082568807339449\n",
            "AUC-ROC -  0.7874944575820277\n"
          ]
        }
      ],
      "source": [
        "model = LogisticRegression(random_state=12345, solver='liblinear')\n",
        "model.fit(features_train, target_train)\n",
        "predicted_valid = model.predict(features_valid)\n",
        "\n",
        "probabilities_valid = model.predict_proba(features_valid)\n",
        "probabilities_one_valid = probabilities_valid[:, 1]\n",
        "\n",
        "auc_roc = roc_auc_score(target_valid, probabilities_one_valid)\n",
        "\n",
        "\n",
        "print(\"F1:\", f1_score(target_valid, predicted_valid))\n",
        "print('AUC-ROC - ', auc_roc)"
      ]
    },
    {
      "cell_type": "markdown",
      "metadata": {
        "id": "2x2L687u1oZp"
      },
      "source": [
        "Протестируем также модель дерева решений, чтобы найти наилучшую метрику f1, протестировав разные варианты глубины"
      ]
    },
    {
      "cell_type": "code",
      "execution_count": null,
      "metadata": {
        "id": "rS3YYSEj1oZp",
        "outputId": "b74f47be-2382-4417-a4f3-a9e55e7f3c15"
      },
      "outputs": [
        {
          "name": "stdout",
          "output_type": "stream",
          "text": [
            "Лучшая глубина- 7 и результат- 0.5924855491329479\n",
            "AUC-ROC -  0.8247056360232534\n"
          ]
        }
      ],
      "source": [
        "best_result = 0\n",
        "best_depth = 0\n",
        "best_model = None\n",
        "\n",
        "for depth in range(1, 20):\n",
        "\n",
        "    model = DecisionTreeClassifier(max_depth=depth, random_state=12345)\n",
        "    model.fit(features_train, target_train)\n",
        "    predicted_valid = model.predict(features_valid)\n",
        "    result = f1_score(target_valid, predicted_valid)\n",
        "\n",
        "    if result > best_result:\n",
        "        best_result = result\n",
        "        best_depth = depth\n",
        "        best_model = model\n",
        "\n",
        "probabilities_valid = best_model.predict_proba(features_valid)\n",
        "probabilities_one_valid = probabilities_valid[:, 1]\n",
        "\n",
        "auc_roc = roc_auc_score(target_valid, probabilities_one_valid)\n",
        "\n",
        "\n",
        "print('Лучшая глубина-', best_depth, 'и результат-', best_result)\n",
        "print('AUC-ROC - ', auc_roc)"
      ]
    },
    {
      "cell_type": "markdown",
      "metadata": {
        "id": "GJgCeCS51oZp"
      },
      "source": [
        "Финально протестируем также и модель случайного леса, перебирая разную глубину и колличество решающих деревьев для поиска наилучшего результата"
      ]
    },
    {
      "cell_type": "code",
      "execution_count": null,
      "metadata": {
        "id": "6fmAAY1M1oZp",
        "outputId": "78f79148-c62b-4fba-d5e9-62be6b13e126"
      },
      "outputs": [
        {
          "name": "stdout",
          "output_type": "stream",
          "text": [
            "Лучшая глубина- 22 , лучшее количество деревьев-  10 и лучший результат- 0.6181277860326895\n",
            "AUC-ROC -  0.8430656653364863\n"
          ]
        }
      ],
      "source": [
        "best_result = 0\n",
        "best_est = 0\n",
        "best_depth = 0\n",
        "\n",
        "for est in range(10, 51, 10):\n",
        "    for depth in range (1, 30):\n",
        "        model = RandomForestClassifier(random_state=12345, n_estimators=est, max_depth=depth)\n",
        "        model.fit(features_train, target_train)\n",
        "        predictions_valid = model.predict(features_valid)\n",
        "        result = f1_score(target_valid, predictions_valid)\n",
        "        if result > best_result:\n",
        "            best_result = result\n",
        "            best_est = est\n",
        "            best_depth = depth\n",
        "            best_model = model\n",
        "\n",
        "probabilities_valid = best_model.predict_proba(features_valid)\n",
        "probabilities_one_valid = probabilities_valid[:, 1]\n",
        "\n",
        "auc_roc = roc_auc_score(target_valid, probabilities_one_valid)\n",
        "\n",
        "print('Лучшая глубина-', best_depth, ', лучшее количество деревьев- ', best_est, 'и лучший результат-', best_result)\n",
        "print('AUC-ROC - ', auc_roc)"
      ]
    },
    {
      "cell_type": "markdown",
      "metadata": {
        "id": "xHVBOl2S1oZp"
      },
      "source": [
        "Вывод:\n",
        "- В самом начале, в классах, был выявлен сильный дисбаланс с преобладанием значений - 0, над 1 в целевом признаке, почти в 4 раза\n",
        "- При работе с несбалансированными классами, метрику F1 не удалось поднять более 0.5 на всх проверенных моделях, несмотря на перебор гиперпараметров\n",
        "- Наихудший результат в исследовании дала модель Логистической регрессии с результатом f1, равному 0.3106457242582897, а наилучший дерево решений, при указании параметров глубины в 9 и результата метрики f1 в 0.5843971631205673\n",
        "- AUC-ROC растет вместе с F1 и показывает, наилбольшее значение на модели случайного леса\n",
        "- Интересно, что случайный лес, дал почти одинаковый результат на несбаланированной выборке, в сравнение с деревом решений, однако в то же время, метрика AUC-ROC случайного леса, получилась наибольшей, что потенциально делает ее более эффективной моделью"
      ]
    },
    {
      "cell_type": "markdown",
      "metadata": {
        "id": "MOIV6ynb1oZq"
      },
      "source": [
        "## Борьба с дисбалансом"
      ]
    },
    {
      "cell_type": "markdown",
      "metadata": {
        "id": "P_LJV1zB1oZq"
      },
      "source": [
        "Чтобы решить проблему дисбаланса, мы используем 2 метода, увеличим колличество редких классов- 1, а также уменьшим колличество классов- 0"
      ]
    },
    {
      "cell_type": "markdown",
      "metadata": {
        "id": "J01hINrq1oZq"
      },
      "source": [
        "Исследуем начальные значения"
      ]
    },
    {
      "cell_type": "code",
      "execution_count": null,
      "metadata": {
        "id": "cq8TXg241oZq",
        "outputId": "b148596a-ebb2-46ae-9273-0a022a1f90bf"
      },
      "outputs": [
        {
          "name": "stdout",
          "output_type": "stream",
          "text": [
            "(10000, 10)\n",
            "(10000,)\n"
          ]
        }
      ],
      "source": [
        "print(features.shape)\n",
        "print(target.shape)"
      ]
    },
    {
      "cell_type": "markdown",
      "metadata": {
        "id": "_p5qJe_X1oZr"
      },
      "source": [
        "Сперва используем технику увеличения классов, со значеним- 1 в выборке"
      ]
    },
    {
      "cell_type": "code",
      "execution_count": null,
      "metadata": {
        "id": "h2mk8RE-1oZr",
        "outputId": "b12f8df8-4979-4ada-f893-ed4d4a3c51d6"
      },
      "outputs": [
        {
          "name": "stdout",
          "output_type": "stream",
          "text": [
            "(9666, 11)\n",
            "(9666,)\n"
          ]
        }
      ],
      "source": [
        "def upsample(features, target, repeat):\n",
        "    features_zeros = features[target == 0]\n",
        "    features_ones = features[target == 1]\n",
        "    target_zeros = target[target == 0]\n",
        "    target_ones = target[target == 1]\n",
        "\n",
        "    features_upsampled = pd.concat([features_zeros] + [features_ones] * repeat)\n",
        "    target_upsampled = pd.concat([target_zeros] + [target_ones] * repeat)\n",
        "\n",
        "    features_upsampled = shuffle(features_upsampled, random_state=12345)\n",
        "    target_upsampled = shuffle(target_upsampled, random_state=12345)\n",
        "\n",
        "    return features_upsampled, target_upsampled\n",
        "\n",
        "features_upsampled, target_upsampled = upsample(features_train, target_train, 4)\n",
        "\n",
        "print(features_upsampled.shape)\n",
        "print(target_upsampled.shape)"
      ]
    },
    {
      "cell_type": "code",
      "execution_count": null,
      "metadata": {
        "id": "_v-TdJ8C1oZr",
        "outputId": "33eab25d-0e0d-49fc-f229-19e31d06b305"
      },
      "outputs": [
        {
          "name": "stdout",
          "output_type": "stream",
          "text": [
            "Нулей в новой выборке-  (4778,)\n",
            "Единиц в новой выборке-  (4888,)\n"
          ]
        }
      ],
      "source": [
        "target_zeros = target_upsampled[target == 0]\n",
        "target_ones = target_upsampled[target == 1]\n",
        "print('Нулей в новой выборке- ', target_zeros.shape)\n",
        "print('Единиц в новой выборке- ', target_ones.shape)"
      ]
    },
    {
      "cell_type": "markdown",
      "metadata": {
        "id": "hhcVyFyn1oZs"
      },
      "source": [
        "Отлично, repeat был выбран правильно и кол-во символов сравнялось, теперь проведем тесты на выборке с увеличеной выборкой, для выявления лушчей модели."
      ]
    },
    {
      "cell_type": "markdown",
      "metadata": {
        "id": "xN9Onq0f1oZs"
      },
      "source": [
        "1. Модель Логистической Регрессии"
      ]
    },
    {
      "cell_type": "code",
      "execution_count": null,
      "metadata": {
        "id": "KeX86F-T1oZs",
        "outputId": "f5fb372e-3539-4448-f9e4-e208adf0aef3"
      },
      "outputs": [
        {
          "name": "stdout",
          "output_type": "stream",
          "text": [
            "F1: 0.5246753246753246\n",
            "AUC-ROC -  0.7938312887969258\n"
          ]
        }
      ],
      "source": [
        "model = LogisticRegression(random_state=12345, solver='liblinear')\n",
        "model.fit(features_upsampled, target_upsampled)\n",
        "predicted_valid = model.predict(features_valid)\n",
        "\n",
        "probabilities_valid = model.predict_proba(features_valid)\n",
        "probabilities_one_valid = probabilities_valid[:, 1]\n",
        "\n",
        "auc_roc = roc_auc_score(target_valid, probabilities_one_valid)\n",
        "\n",
        "\n",
        "print(\"F1:\", f1_score(target_valid, predicted_valid))\n",
        "print('AUC-ROC - ', auc_roc)"
      ]
    },
    {
      "cell_type": "markdown",
      "metadata": {
        "id": "Rs3DEXf11oZs"
      },
      "source": [
        "2. Модель дерева решений"
      ]
    },
    {
      "cell_type": "code",
      "execution_count": null,
      "metadata": {
        "id": "zuqbJKAw1oZs",
        "outputId": "2209c2b9-9163-452e-e68e-bca3cbc5c940"
      },
      "outputs": [
        {
          "name": "stdout",
          "output_type": "stream",
          "text": [
            "Лучшая глубина- 6 и результат- 0.575925925925926\n",
            "AUC-ROC -  0.8234278007685487\n"
          ]
        }
      ],
      "source": [
        "best_result = 0\n",
        "best_depth = 0\n",
        "best_model = None\n",
        "\n",
        "for depth in range(1, 30):\n",
        "\n",
        "    model = DecisionTreeClassifier(max_depth=depth, random_state=12345)\n",
        "    model.fit(features_upsampled, target_upsampled)\n",
        "    predicted_valid = model.predict(features_valid)\n",
        "    result = f1_score(target_valid, predicted_valid)\n",
        "\n",
        "    if result > best_result:\n",
        "        best_result = result\n",
        "        best_depth = depth\n",
        "        best_model = model\n",
        "\n",
        "probabilities_valid = best_model.predict_proba(features_valid)\n",
        "probabilities_one_valid = probabilities_valid[:, 1]\n",
        "\n",
        "auc_roc = roc_auc_score(target_valid, probabilities_one_valid)\n",
        "\n",
        "\n",
        "print('Лучшая глубина-', best_depth, 'и результат-', best_result)\n",
        "print('AUC-ROC - ', auc_roc)"
      ]
    },
    {
      "cell_type": "markdown",
      "metadata": {
        "id": "WJBFfcpi1oZs"
      },
      "source": [
        "3. Модель случайного леса"
      ]
    },
    {
      "cell_type": "code",
      "execution_count": null,
      "metadata": {
        "id": "ZyaLKLsc1oZs",
        "outputId": "7dfd6283-a7a9-4962-d892-ac2285b71d73"
      },
      "outputs": [
        {
          "name": "stdout",
          "output_type": "stream",
          "text": [
            "Лучшая глубина- 11 , лучшее количество деревьев-  60 и лучший результат- 0.6483390607101948\n",
            "AUC-ROC -  0.8708277909153612\n"
          ]
        }
      ],
      "source": [
        "best_model = None\n",
        "best_result = 0\n",
        "best_est = 0\n",
        "best_depth = 0\n",
        "\n",
        "for est in range(10, 80, 10):\n",
        "    for depth in range (1, 30):\n",
        "        model = RandomForestClassifier(random_state=12345, n_estimators=est, max_depth=depth)\n",
        "        model.fit(features_upsampled, target_upsampled)\n",
        "        predictions_valid = model.predict(features_valid)\n",
        "        result = f1_score(target_valid, predictions_valid)\n",
        "        if result > best_result:\n",
        "            best_model = model\n",
        "            best_result = result\n",
        "            best_est = est\n",
        "            best_depth = depth\n",
        "\n",
        "\n",
        "probabilities_valid = best_model.predict_proba(features_valid)\n",
        "probabilities_one_valid = probabilities_valid[:, 1]\n",
        "\n",
        "auc_roc = roc_auc_score(target_valid, probabilities_one_valid)\n",
        "\n",
        "print('Лучшая глубина-', best_depth, ', лучшее количество деревьев- ', best_est, 'и лучший результат-', best_result)\n",
        "print('AUC-ROC - ', auc_roc)"
      ]
    },
    {
      "cell_type": "markdown",
      "metadata": {
        "id": "q5s73XuU1oZs"
      },
      "source": [
        "Промежуточный вывод:\n",
        "По итогу исследования на выборке, где проблема дисбаланса была решена за счет увеличения выборки, лучший результат, показала модель случайного леса, со значением, метрики f1 - 0.6446469248291572 и АUC-ROC -  0.8716837865799585, интересно как на изменение результата повлияет борьба с дисбалансом через снижение выборки"
      ]
    },
    {
      "cell_type": "markdown",
      "metadata": {
        "id": "Uh8w0PTr1oZs"
      },
      "source": [
        "Применим, технику уменьшения классов, с уменьшением значения- 0 в выборке, для борьбы с дисбалансом"
      ]
    },
    {
      "cell_type": "code",
      "execution_count": null,
      "metadata": {
        "id": "5u4Sr3Zt1oZs",
        "outputId": "6c383960-27cb-4255-d212-86261ad2ce73"
      },
      "outputs": [
        {
          "name": "stdout",
          "output_type": "stream",
          "text": [
            "(2464, 11)\n",
            "(2464,)\n"
          ]
        }
      ],
      "source": [
        "def downsample(features, target, fraction):\n",
        "    features_zeros = features[target == 0]\n",
        "    features_ones = features[target == 1]\n",
        "    target_zeros = target[target == 0]\n",
        "    target_ones = target[target == 1]\n",
        "    features_downsampled = shuffle(pd.concat(\n",
        "        [features_zeros.sample(frac=fraction, random_state=12345)] + [features_ones]), random_state=12345)\n",
        "    target_downsampled = shuffle(pd.concat(\n",
        "        [target_zeros.sample(frac=fraction, random_state=12345)] + [target_ones]), random_state=12345)\n",
        "\n",
        "\n",
        "    return features_downsampled, target_downsampled\n",
        "\n",
        "features_downsampled, target_downsampled = downsample(features_train, target_train, 0.26)\n",
        "\n",
        "print(features_downsampled.shape)\n",
        "print(target_downsampled.shape)"
      ]
    },
    {
      "cell_type": "code",
      "execution_count": null,
      "metadata": {
        "id": "rH6LRJ731oZt",
        "outputId": "ea4b7431-6e38-42f7-dce8-ee25ea60e474"
      },
      "outputs": [
        {
          "name": "stdout",
          "output_type": "stream",
          "text": [
            "Нулей в новой выборке-  (1242,)\n",
            "Единиц в новой выборке-  (1222,)\n"
          ]
        }
      ],
      "source": [
        "target_zeros = target_downsampled[target == 0]\n",
        "target_ones = target_downsampled[target == 1]\n",
        "print('Нулей в новой выборке- ', target_zeros.shape)\n",
        "print('Единиц в новой выборке- ', target_ones.shape)"
      ]
    },
    {
      "cell_type": "markdown",
      "metadata": {
        "id": "UolCYv7H1oZt"
      },
      "source": [
        "Теперь, когда парамерт fraction был выбран верно, проведем обучение моделей на новых данных, с учетом нового метода борьбы с дисбалансом и сравним результаты, для подбора наилучшей модели."
      ]
    },
    {
      "cell_type": "markdown",
      "metadata": {
        "id": "7XaC_17m1oZt"
      },
      "source": [
        "1. Модель Логистической Регрессии"
      ]
    },
    {
      "cell_type": "code",
      "execution_count": null,
      "metadata": {
        "id": "aYeW0MuZ1oZt",
        "outputId": "c33ebea3-18df-4345-a991-05d9ea05fdd4"
      },
      "outputs": [
        {
          "name": "stdout",
          "output_type": "stream",
          "text": [
            "F1: 0.5286343612334803\n",
            "AUC-ROC -  0.792818257956449\n"
          ]
        }
      ],
      "source": [
        "model = LogisticRegression(random_state=12345, solver='liblinear')\n",
        "model.fit(features_downsampled, target_downsampled)\n",
        "predicted_valid = model.predict(features_valid)\n",
        "\n",
        "probabilities_valid = model.predict_proba(features_valid)\n",
        "probabilities_one_valid = probabilities_valid[:, 1]\n",
        "\n",
        "auc_roc = roc_auc_score(target_valid, probabilities_one_valid)\n",
        "\n",
        "\n",
        "print(\"F1:\", f1_score(target_valid, predicted_valid))\n",
        "print('AUC-ROC - ', auc_roc)"
      ]
    },
    {
      "cell_type": "markdown",
      "metadata": {
        "id": "p2SkxHii1oZu"
      },
      "source": [
        "2. Модель дерева решений"
      ]
    },
    {
      "cell_type": "code",
      "execution_count": null,
      "metadata": {
        "id": "r09ptUVF1oZu",
        "outputId": "7ccf2352-c470-4477-e7d8-330b325121b2"
      },
      "outputs": [
        {
          "name": "stdout",
          "output_type": "stream",
          "text": [
            "Лучшая глубина- 5 и результат- 0.5900681596884129\n",
            "AUC-ROC -  0.8440425165040889\n"
          ]
        }
      ],
      "source": [
        "best_result = 0\n",
        "best_depth = 0\n",
        "best_model = None\n",
        "\n",
        "for depth in range(1, 30):\n",
        "\n",
        "    model = DecisionTreeClassifier(max_depth=depth, random_state=12345)\n",
        "    model.fit(features_downsampled, target_downsampled)\n",
        "    predicted_valid = model.predict(features_valid)\n",
        "    result = f1_score(target_valid, predicted_valid)\n",
        "\n",
        "    if result > best_result:\n",
        "        best_result = result\n",
        "        best_depth = depth\n",
        "        best_model = model\n",
        "\n",
        "probabilities_valid = best_model.predict_proba(features_valid)\n",
        "probabilities_one_valid = probabilities_valid[:, 1]\n",
        "\n",
        "auc_roc = roc_auc_score(target_valid, probabilities_one_valid)\n",
        "\n",
        "\n",
        "print('Лучшая глубина-', best_depth, 'и результат-', best_result)\n",
        "print('AUC-ROC - ', auc_roc)"
      ]
    },
    {
      "cell_type": "markdown",
      "metadata": {
        "id": "UvNK6eMz1oZu"
      },
      "source": [
        "3. Модель случайного леса"
      ]
    },
    {
      "cell_type": "code",
      "execution_count": null,
      "metadata": {
        "id": "1A-tWu4g1oZu",
        "outputId": "abbea4ef-8a06-4a62-f007-a89ffcb38796"
      },
      "outputs": [
        {
          "name": "stdout",
          "output_type": "stream",
          "text": [
            "Лучшая глубина- 9 , лучшее количество деревьев-  60 и лучший результат- 0.6333973128598848\n",
            "AUC-ROC -  0.8686431544979801\n"
          ]
        }
      ],
      "source": [
        "best_model = None\n",
        "best_result = 0\n",
        "best_est = 0\n",
        "best_depth = 0\n",
        "\n",
        "for est in range(10, 80, 10):\n",
        "    for depth in range (1, 30):\n",
        "        model = RandomForestClassifier(random_state=12345, n_estimators=est, max_depth=depth)\n",
        "        model.fit(features_downsampled, target_downsampled)\n",
        "        predictions_valid = model.predict(features_valid)\n",
        "        result = f1_score(target_valid, predictions_valid)\n",
        "        if result > best_result:\n",
        "            best_model = model\n",
        "            best_result = result\n",
        "            best_est = est\n",
        "            best_depth = depth\n",
        "\n",
        "\n",
        "probabilities_valid = best_model.predict_proba(features_valid)\n",
        "probabilities_one_valid = probabilities_valid[:, 1]\n",
        "\n",
        "auc_roc = roc_auc_score(target_valid, probabilities_one_valid)\n",
        "\n",
        "print('Лучшая глубина-', best_depth, ', лучшее количество деревьев- ', best_est, 'и лучший результат-', best_result)\n",
        "print('AUC-ROC - ', auc_roc)"
      ]
    },
    {
      "cell_type": "markdown",
      "metadata": {
        "id": "D5A2Vrj-1oZu"
      },
      "source": [
        "Сравнения результатов обучения модели на выборках с учетом использования разных методов, борьбы с дисбалансом:\n",
        "\n",
        "Логистическая регрессия:\n",
        "Результат, после использования техники- upsampled:\n",
        "F1: 0.5246753246753246\n",
        "AUC-ROC -  0.7938312887969258\n",
        "\n",
        "Результат, после использования техники- downsampled:\n",
        "F1: 0.5286343612334803\n",
        "AUC-ROC -  0.792818257956449\n",
        "\n",
        "Дерево решений:\n",
        "Результат, после использования техники- upsampled:\n",
        "Лучшая глубина- 6 и результат- 0.575925925925926\n",
        "AUC-ROC -  0.8234278007685487\n",
        "\n",
        "Результат, после использования техники- downsampled:\n",
        "Лучшая глубина- 5 и результат- 0.5900681596884129\n",
        "AUC-ROC -  0.8440425165040889\n",
        "\n",
        "Случайный лес:\n",
        "Результат, после использования техники- upsampled:\n",
        "Лучшая глубина- 11 , лучшее количество деревьев-  60 и лучший результат- 0.6483390607101948\n",
        "AUC-ROC -  0.8708277909153612\n",
        "\n",
        "Результат, после использования техники- downsampled:\n",
        "Лучшая глубина- 9 , лучшее количество деревьев-  60 и лучший результат- 0.6333973128598848\n",
        "AUC-ROC -  0.8686431544979801\n"
      ]
    },
    {
      "cell_type": "markdown",
      "metadata": {
        "id": "IFsTFiFo1oZu"
      },
      "source": [
        "Исправление дисбаланса классов, помогло значительно поднять, уровень метрика f1 и AUC-ROC в обеих моделях, при этом:\n",
        "- Гиперпараметры наиболее подходящей модели по результатам перебора, на данных обработанных после downsampled и upsampled отличались во всех случаях\n",
        "- Метрика AUC - ROC во всех случаях увеличивалась пропорционально значению метрики f1\n",
        "- Интересно также, что колличество деревьев, в наилучшей модели для данных обработанных техникой upsampled и downsampled, также совпадало, в этой связи, можно выдвинуть гипотезу, что наилучшее колличество деревьев менее зависимо от изменения размеров выборки, нежели глубина\n",
        "- Дерево решений и Случайный лес, показали лучший результат (если судить по f1 и AUC-ROC) на данных, обработанных техникой downsampled, однако наиболее высокий результат из всех моделей, показала именно модель Случайного леса, после обработки данных, техникой upsampled, из чего потенциально можно сделать вывод, что downsampled, работает лучше для моделей случайного дерева и логистической регрессии за счет уменьшения выборки, в то время как возможно за счет большего колличества гипарпараметров случайный лес, показывает лучшие результаты в случае увеличения колличества данных, техникой downsampled\n",
        "- Будет интересно проверить, обе наилучшие модели по версии техник downsampled и upsampled, чтобы понять не был ли результат на валидационной выборке случайным и действительно ли выбранная модель, лучшая."
      ]
    },
    {
      "cell_type": "markdown",
      "metadata": {
        "id": "obPFfpod1oZv"
      },
      "source": [
        "## Тестирование модели"
      ]
    },
    {
      "cell_type": "markdown",
      "metadata": {
        "id": "tZsP7s6N1oZv"
      },
      "source": [
        "Протестируем результаты работы лучшей модели на тестовой выборке"
      ]
    },
    {
      "cell_type": "code",
      "execution_count": null,
      "metadata": {
        "id": "26rwMMu41oZv",
        "outputId": "087a9203-af12-4efd-8231-258eaa636837"
      },
      "outputs": [
        {
          "name": "stdout",
          "output_type": "stream",
          "text": [
            "Результат метрики F1- 0.5934579439252337\n",
            "AUC-ROC -  0.8507552236365796\n"
          ]
        }
      ],
      "source": [
        "model = RandomForestClassifier(random_state=12345, n_estimators= 60, max_depth= 11)\n",
        "model.fit(features_upsampled, target_upsampled)\n",
        "predictions_test = model.predict(features_test)\n",
        "result = f1_score(target_test, predictions_test)\n",
        "\n",
        "probabilities_valid = model.predict_proba(features_test)\n",
        "probabilities_one_valid = probabilities_valid[:, 1]\n",
        "\n",
        "auc_roc = roc_auc_score(target_test, probabilities_one_valid)\n",
        "\n",
        "print('Результат метрики F1-', result)\n",
        "print('AUC-ROC - ', auc_roc)"
      ]
    },
    {
      "cell_type": "markdown",
      "metadata": {
        "id": "APoCBAha1oZv"
      },
      "source": [
        "А также, в ркамках экспреримента, результаты работы модели, показавшей наибольший результат на данных обработанных с помощью техники- downsampled"
      ]
    },
    {
      "cell_type": "code",
      "execution_count": null,
      "metadata": {
        "id": "8nPFw6Xs1oZv",
        "outputId": "a03871d0-dd40-4f31-f303-c856b03cbd72"
      },
      "outputs": [
        {
          "name": "stdout",
          "output_type": "stream",
          "text": [
            "Результат метрики F1- 0.5772200772200773\n",
            "AUC-ROC -  0.8499840364247144\n"
          ]
        }
      ],
      "source": [
        "model = RandomForestClassifier(random_state=12345, n_estimators= 60, max_depth= 9)\n",
        "model.fit(features_downsampled, target_downsampled)\n",
        "predictions_test = model.predict(features_test)\n",
        "result = f1_score(target_test, predictions_test)\n",
        "\n",
        "probabilities_valid = model.predict_proba(features_test)\n",
        "probabilities_one_valid = probabilities_valid[:, 1]\n",
        "\n",
        "auc_roc = roc_auc_score(target_test, probabilities_one_valid)\n",
        "\n",
        "print('Результат метрики F1-', result)\n",
        "print('AUC-ROC - ', auc_roc)"
      ]
    },
    {
      "cell_type": "markdown",
      "metadata": {
        "id": "npz9AoES1oZw"
      },
      "source": [
        "**ФИНАЛЬНЫЕ ВЫВОДЫ:**\n",
        "\n",
        "    - Лучшей моделью для предсказания результата на данном датасете оказалось, модель случайного леса, обученная на данных, обработанных техникой- upsampled, со занчением макс. глубины- 11 и кол-вом деревьев- 60\n",
        "\n",
        "    - Значение метрики AUC-ROC, всегда росло пропорционально значению метрики F1\n",
        "\n",
        "    - Проверка датасета на пропуски, является крайне важным фактором на стадии предобработки данных, как и удаление лишних и неинформативных столбцов из выборки, на момент начала обучения модели, по итогу это сильно помогает повысить качество ее обучения\n",
        "    \n",
        "    - Преобразование категориальных переменных лучше проводить после разделения выборки\n",
        "    "
      ]
    }
  ],
  "metadata": {
    "ExecuteTimeLog": [
      {
        "duration": 60,
        "start_time": "2023-01-26T05:34:23.991Z"
      },
      {
        "duration": 348,
        "start_time": "2023-01-26T05:34:27.840Z"
      },
      {
        "duration": 100,
        "start_time": "2023-01-26T05:34:28.606Z"
      },
      {
        "duration": 665,
        "start_time": "2023-01-26T05:39:56.804Z"
      },
      {
        "duration": 69,
        "start_time": "2023-01-26T05:40:00.673Z"
      },
      {
        "duration": 2747,
        "start_time": "2023-01-26T05:40:13.011Z"
      },
      {
        "duration": 8,
        "start_time": "2023-01-26T05:40:35.994Z"
      },
      {
        "duration": 9,
        "start_time": "2023-01-26T05:42:40.144Z"
      },
      {
        "duration": 4,
        "start_time": "2023-01-26T05:42:52.294Z"
      },
      {
        "duration": 5,
        "start_time": "2023-01-26T05:43:03.620Z"
      },
      {
        "duration": 7,
        "start_time": "2023-01-26T05:55:28.127Z"
      },
      {
        "duration": 6,
        "start_time": "2023-01-26T05:56:01.317Z"
      },
      {
        "duration": 12,
        "start_time": "2023-01-26T06:08:15.891Z"
      },
      {
        "duration": 21,
        "start_time": "2023-01-26T06:08:19.503Z"
      },
      {
        "duration": 28,
        "start_time": "2023-01-26T06:08:22.401Z"
      },
      {
        "duration": 10,
        "start_time": "2023-01-26T06:09:10.736Z"
      },
      {
        "duration": 24,
        "start_time": "2023-01-26T06:09:21.353Z"
      },
      {
        "duration": 10,
        "start_time": "2023-01-26T06:09:33.045Z"
      },
      {
        "duration": 23,
        "start_time": "2023-01-26T06:09:38.798Z"
      },
      {
        "duration": 10,
        "start_time": "2023-01-26T06:09:45.741Z"
      },
      {
        "duration": 10,
        "start_time": "2023-01-26T06:22:36.425Z"
      },
      {
        "duration": 311,
        "start_time": "2023-01-26T06:32:10.618Z"
      },
      {
        "duration": 693,
        "start_time": "2023-01-26T06:33:21.105Z"
      },
      {
        "duration": 45,
        "start_time": "2023-01-31T03:31:24.800Z"
      },
      {
        "duration": 1053,
        "start_time": "2023-01-31T03:31:28.178Z"
      },
      {
        "duration": 182,
        "start_time": "2023-01-31T03:31:29.785Z"
      },
      {
        "duration": 299,
        "start_time": "2023-01-31T03:31:33.875Z"
      },
      {
        "duration": 7,
        "start_time": "2023-01-31T03:31:50.657Z"
      },
      {
        "duration": 413,
        "start_time": "2023-01-31T03:33:04.159Z"
      },
      {
        "duration": 135,
        "start_time": "2023-01-31T03:33:23.689Z"
      },
      {
        "duration": 9,
        "start_time": "2023-01-31T03:37:00.937Z"
      },
      {
        "duration": 3,
        "start_time": "2023-01-31T03:37:06.476Z"
      },
      {
        "duration": 16,
        "start_time": "2023-01-31T03:37:10.578Z"
      },
      {
        "duration": 17,
        "start_time": "2023-01-31T03:40:50.327Z"
      },
      {
        "duration": 12,
        "start_time": "2023-01-31T03:41:39.267Z"
      },
      {
        "duration": 3,
        "start_time": "2023-01-31T03:41:43.332Z"
      },
      {
        "duration": 46,
        "start_time": "2023-01-31T03:42:04.483Z"
      },
      {
        "duration": 8,
        "start_time": "2023-01-31T03:42:09.271Z"
      },
      {
        "duration": 1144,
        "start_time": "2023-01-31T03:42:20.085Z"
      },
      {
        "duration": 64,
        "start_time": "2023-01-31T03:42:22.184Z"
      },
      {
        "duration": 25,
        "start_time": "2023-01-31T03:42:25.765Z"
      },
      {
        "duration": 80,
        "start_time": "2023-01-31T03:42:34.415Z"
      },
      {
        "duration": 12,
        "start_time": "2023-01-31T03:42:57.454Z"
      },
      {
        "duration": 17,
        "start_time": "2023-01-31T03:43:09.305Z"
      },
      {
        "duration": 56,
        "start_time": "2023-01-31T03:43:24.080Z"
      },
      {
        "duration": 4,
        "start_time": "2023-01-31T03:43:43.149Z"
      },
      {
        "duration": 12,
        "start_time": "2023-01-31T03:43:50.055Z"
      },
      {
        "duration": 12,
        "start_time": "2023-01-31T03:44:00.179Z"
      },
      {
        "duration": 12,
        "start_time": "2023-01-31T03:44:12.231Z"
      },
      {
        "duration": 12,
        "start_time": "2023-01-31T03:44:45.332Z"
      },
      {
        "duration": 1059,
        "start_time": "2023-01-31T03:45:05.695Z"
      },
      {
        "duration": 81,
        "start_time": "2023-01-31T03:45:07.122Z"
      },
      {
        "duration": 14,
        "start_time": "2023-01-31T03:45:09.766Z"
      },
      {
        "duration": 23,
        "start_time": "2023-01-31T03:45:20.384Z"
      },
      {
        "duration": 101,
        "start_time": "2023-01-31T03:45:39.656Z"
      },
      {
        "duration": 20,
        "start_time": "2023-01-31T03:46:22.878Z"
      },
      {
        "duration": 5,
        "start_time": "2023-01-31T03:49:35.685Z"
      },
      {
        "duration": 18,
        "start_time": "2023-01-31T03:50:15.338Z"
      },
      {
        "duration": 12,
        "start_time": "2023-01-31T03:57:25.509Z"
      },
      {
        "duration": 4,
        "start_time": "2023-01-31T03:57:32.024Z"
      },
      {
        "duration": 27,
        "start_time": "2023-01-31T03:57:37.065Z"
      },
      {
        "duration": 24,
        "start_time": "2023-01-31T04:15:22.842Z"
      },
      {
        "duration": 10,
        "start_time": "2023-01-31T04:15:46.136Z"
      },
      {
        "duration": 12,
        "start_time": "2023-01-31T04:18:17.469Z"
      },
      {
        "duration": 37,
        "start_time": "2023-01-31T04:18:22.285Z"
      },
      {
        "duration": 24,
        "start_time": "2023-01-31T04:18:28.952Z"
      },
      {
        "duration": 10,
        "start_time": "2023-01-31T04:33:10.707Z"
      },
      {
        "duration": 18,
        "start_time": "2023-01-31T04:33:43.641Z"
      },
      {
        "duration": 1047,
        "start_time": "2023-02-01T06:09:13.940Z"
      },
      {
        "duration": 98,
        "start_time": "2023-02-01T06:09:15.773Z"
      },
      {
        "duration": 435,
        "start_time": "2023-02-01T06:09:18.912Z"
      },
      {
        "duration": 141,
        "start_time": "2023-02-01T06:09:35.192Z"
      },
      {
        "duration": 7,
        "start_time": "2023-02-01T06:09:37.727Z"
      },
      {
        "duration": 503,
        "start_time": "2023-02-01T06:09:39.696Z"
      },
      {
        "duration": 114,
        "start_time": "2023-02-01T06:09:51.704Z"
      },
      {
        "duration": 382,
        "start_time": "2023-02-01T06:09:57.973Z"
      },
      {
        "duration": 15,
        "start_time": "2023-02-01T06:12:25.885Z"
      },
      {
        "duration": 14,
        "start_time": "2023-02-01T06:12:57.217Z"
      },
      {
        "duration": 120,
        "start_time": "2023-02-01T06:19:19.342Z"
      },
      {
        "duration": 15,
        "start_time": "2023-02-01T06:19:23.082Z"
      },
      {
        "duration": 40,
        "start_time": "2023-02-01T06:20:17.373Z"
      },
      {
        "duration": 68,
        "start_time": "2023-02-01T06:20:25.148Z"
      },
      {
        "duration": 7,
        "start_time": "2023-02-01T06:20:27.605Z"
      },
      {
        "duration": 371,
        "start_time": "2023-02-01T06:20:29.812Z"
      },
      {
        "duration": 365,
        "start_time": "2023-02-01T06:21:15.613Z"
      },
      {
        "duration": 388,
        "start_time": "2023-02-01T06:21:43.739Z"
      },
      {
        "duration": 396,
        "start_time": "2023-02-01T06:22:11.317Z"
      },
      {
        "duration": 7,
        "start_time": "2023-02-01T06:22:21.003Z"
      },
      {
        "duration": 11,
        "start_time": "2023-02-01T06:23:48.370Z"
      },
      {
        "duration": 19,
        "start_time": "2023-02-01T06:23:55.245Z"
      },
      {
        "duration": 15,
        "start_time": "2023-02-01T06:24:51.941Z"
      },
      {
        "duration": 11,
        "start_time": "2023-02-01T06:24:56.842Z"
      },
      {
        "duration": 13,
        "start_time": "2023-02-01T06:25:10.142Z"
      },
      {
        "duration": 12,
        "start_time": "2023-02-01T06:25:16.637Z"
      },
      {
        "duration": 54,
        "start_time": "2023-02-01T06:25:19.254Z"
      },
      {
        "duration": 19,
        "start_time": "2023-02-01T06:25:22.645Z"
      },
      {
        "duration": 51,
        "start_time": "2023-02-01T06:25:40.175Z"
      },
      {
        "duration": 3,
        "start_time": "2023-02-01T06:25:41.477Z"
      },
      {
        "duration": 50,
        "start_time": "2023-02-01T06:25:43.829Z"
      },
      {
        "duration": 14,
        "start_time": "2023-02-01T06:25:46.388Z"
      },
      {
        "duration": 13,
        "start_time": "2023-02-01T06:25:50.282Z"
      },
      {
        "duration": 19,
        "start_time": "2023-02-01T06:25:59.809Z"
      },
      {
        "duration": 400,
        "start_time": "2023-02-01T06:26:08.223Z"
      },
      {
        "duration": 9,
        "start_time": "2023-02-01T06:28:42.015Z"
      },
      {
        "duration": 9,
        "start_time": "2023-02-01T06:28:57.422Z"
      },
      {
        "duration": 18,
        "start_time": "2023-02-01T06:29:08.191Z"
      },
      {
        "duration": 15,
        "start_time": "2023-02-01T06:29:41.135Z"
      },
      {
        "duration": 16,
        "start_time": "2023-02-01T06:36:53.186Z"
      },
      {
        "duration": 16,
        "start_time": "2023-02-01T06:37:56.209Z"
      },
      {
        "duration": 1118,
        "start_time": "2023-02-01T06:38:08.425Z"
      },
      {
        "duration": 10,
        "start_time": "2023-02-01T06:38:30.812Z"
      },
      {
        "duration": 12,
        "start_time": "2023-02-01T06:38:43.493Z"
      },
      {
        "duration": 125,
        "start_time": "2023-02-01T06:39:19.948Z"
      },
      {
        "duration": 1143,
        "start_time": "2023-02-01T06:39:31.809Z"
      },
      {
        "duration": 12,
        "start_time": "2023-02-01T06:40:24.322Z"
      },
      {
        "duration": 11,
        "start_time": "2023-02-01T06:40:33.542Z"
      },
      {
        "duration": 3,
        "start_time": "2023-02-01T06:40:40.619Z"
      },
      {
        "duration": 1040,
        "start_time": "2023-02-01T06:40:49.850Z"
      },
      {
        "duration": 58,
        "start_time": "2023-02-01T06:40:51.320Z"
      },
      {
        "duration": 2,
        "start_time": "2023-02-01T06:40:56.081Z"
      },
      {
        "duration": 1452,
        "start_time": "2023-02-01T06:40:59.194Z"
      },
      {
        "duration": 1185,
        "start_time": "2023-02-01T06:47:28.981Z"
      },
      {
        "duration": 1183,
        "start_time": "2023-02-01T06:47:33.981Z"
      },
      {
        "duration": 46,
        "start_time": "2023-02-01T06:47:39.795Z"
      },
      {
        "duration": 220,
        "start_time": "2023-02-01T06:51:21.855Z"
      },
      {
        "duration": 31,
        "start_time": "2023-02-01T06:51:25.149Z"
      },
      {
        "duration": 71,
        "start_time": "2023-02-01T06:51:26.442Z"
      },
      {
        "duration": 11,
        "start_time": "2023-02-01T06:51:32.342Z"
      },
      {
        "duration": 115,
        "start_time": "2023-02-01T06:52:27.989Z"
      },
      {
        "duration": 384,
        "start_time": "2023-02-01T06:52:33.494Z"
      },
      {
        "duration": 134,
        "start_time": "2023-02-01T06:53:12.092Z"
      },
      {
        "duration": 260,
        "start_time": "2023-02-01T06:53:21.093Z"
      },
      {
        "duration": 208,
        "start_time": "2023-02-01T06:53:41.579Z"
      },
      {
        "duration": 273,
        "start_time": "2023-02-01T06:54:36.259Z"
      },
      {
        "duration": 114,
        "start_time": "2023-02-01T06:54:48.754Z"
      },
      {
        "duration": 121,
        "start_time": "2023-02-01T06:57:19.054Z"
      },
      {
        "duration": 128,
        "start_time": "2023-02-01T06:59:46.152Z"
      },
      {
        "duration": 3,
        "start_time": "2023-02-01T06:59:55.224Z"
      },
      {
        "duration": 125,
        "start_time": "2023-02-01T07:00:00.119Z"
      },
      {
        "duration": 125,
        "start_time": "2023-02-01T07:00:32.649Z"
      },
      {
        "duration": 2,
        "start_time": "2023-02-01T07:00:40.207Z"
      },
      {
        "duration": 134,
        "start_time": "2023-02-01T07:00:41.671Z"
      },
      {
        "duration": 1098,
        "start_time": "2023-02-01T07:00:54.167Z"
      },
      {
        "duration": 61,
        "start_time": "2023-02-01T07:00:55.911Z"
      },
      {
        "duration": 344,
        "start_time": "2023-02-01T07:00:59.727Z"
      },
      {
        "duration": 499,
        "start_time": "2023-02-01T07:01:11.562Z"
      },
      {
        "duration": 20,
        "start_time": "2023-02-01T07:01:25.500Z"
      },
      {
        "duration": 367,
        "start_time": "2023-02-01T07:01:42.174Z"
      },
      {
        "duration": 479,
        "start_time": "2023-02-01T07:01:49.421Z"
      },
      {
        "duration": 60,
        "start_time": "2023-02-01T07:05:31.015Z"
      },
      {
        "duration": 381,
        "start_time": "2023-02-01T07:05:55.068Z"
      },
      {
        "duration": 1112,
        "start_time": "2023-02-01T07:06:04.003Z"
      },
      {
        "duration": 60,
        "start_time": "2023-02-01T07:06:05.755Z"
      },
      {
        "duration": 100,
        "start_time": "2023-02-01T07:06:09.363Z"
      },
      {
        "duration": 10,
        "start_time": "2023-02-01T07:06:32.155Z"
      },
      {
        "duration": 26,
        "start_time": "2023-02-01T07:06:43.971Z"
      },
      {
        "duration": 71,
        "start_time": "2023-02-01T07:07:22.070Z"
      },
      {
        "duration": 9,
        "start_time": "2023-02-01T07:07:29.910Z"
      },
      {
        "duration": 318,
        "start_time": "2023-02-01T07:07:47.418Z"
      },
      {
        "duration": 384,
        "start_time": "2023-02-01T07:07:52.501Z"
      },
      {
        "duration": 729,
        "start_time": "2023-02-01T07:09:15.301Z"
      },
      {
        "duration": 323,
        "start_time": "2023-02-01T07:09:23.097Z"
      },
      {
        "duration": 25,
        "start_time": "2023-02-01T07:09:29.549Z"
      },
      {
        "duration": 967,
        "start_time": "2023-02-01T07:10:54.840Z"
      },
      {
        "duration": 434,
        "start_time": "2023-02-01T07:10:59.758Z"
      },
      {
        "duration": 797,
        "start_time": "2023-02-01T07:23:15.434Z"
      },
      {
        "duration": 861,
        "start_time": "2023-02-01T07:23:22.900Z"
      },
      {
        "duration": 571,
        "start_time": "2023-02-01T07:23:29.130Z"
      },
      {
        "duration": 334,
        "start_time": "2023-02-01T07:23:47.441Z"
      },
      {
        "duration": 496,
        "start_time": "2023-02-01T07:23:52.009Z"
      },
      {
        "duration": 8,
        "start_time": "2023-02-01T07:23:59.993Z"
      },
      {
        "duration": 6,
        "start_time": "2023-02-01T07:24:06.685Z"
      },
      {
        "duration": 575,
        "start_time": "2023-02-01T07:25:13.460Z"
      },
      {
        "duration": 16,
        "start_time": "2023-02-01T07:25:47.640Z"
      },
      {
        "duration": 519,
        "start_time": "2023-02-01T07:26:23.848Z"
      },
      {
        "duration": 546,
        "start_time": "2023-02-01T07:26:27.544Z"
      },
      {
        "duration": 216,
        "start_time": "2023-02-01T07:27:43.991Z"
      },
      {
        "duration": 595,
        "start_time": "2023-02-01T07:30:33.387Z"
      },
      {
        "duration": 618,
        "start_time": "2023-02-01T07:31:27.496Z"
      },
      {
        "duration": 661,
        "start_time": "2023-02-01T07:31:35.925Z"
      },
      {
        "duration": 44,
        "start_time": "2023-02-04T13:25:09.641Z"
      },
      {
        "duration": 1118,
        "start_time": "2023-02-04T13:25:11.097Z"
      },
      {
        "duration": 101,
        "start_time": "2023-02-04T13:25:12.907Z"
      },
      {
        "duration": 68,
        "start_time": "2023-02-04T13:33:16.783Z"
      },
      {
        "duration": 64,
        "start_time": "2023-02-04T13:37:37.395Z"
      },
      {
        "duration": 9,
        "start_time": "2023-02-04T13:38:44.992Z"
      },
      {
        "duration": 8,
        "start_time": "2023-02-04T13:38:48.254Z"
      },
      {
        "duration": 271,
        "start_time": "2023-02-04T13:38:52.246Z"
      },
      {
        "duration": 89,
        "start_time": "2023-02-04T13:38:55.840Z"
      },
      {
        "duration": 22,
        "start_time": "2023-02-04T13:39:01.724Z"
      },
      {
        "duration": 46,
        "start_time": "2023-02-04T13:39:12.316Z"
      },
      {
        "duration": 562,
        "start_time": "2023-02-04T13:40:26.233Z"
      },
      {
        "duration": 524,
        "start_time": "2023-02-04T13:40:38.075Z"
      },
      {
        "duration": 200,
        "start_time": "2023-02-04T13:41:05.646Z"
      },
      {
        "duration": 9704,
        "start_time": "2023-02-04T13:42:40.924Z"
      },
      {
        "duration": 9852,
        "start_time": "2023-02-04T13:43:01.325Z"
      },
      {
        "duration": 47417,
        "start_time": "2023-02-04T13:43:57.148Z"
      },
      {
        "duration": 47142,
        "start_time": "2023-02-04T13:45:36.191Z"
      },
      {
        "duration": 47756,
        "start_time": "2023-02-04T13:50:21.721Z"
      },
      {
        "duration": 96352,
        "start_time": "2023-02-04T13:52:40.176Z"
      },
      {
        "duration": 743,
        "start_time": "2023-02-04T14:24:10.058Z"
      },
      {
        "duration": 4,
        "start_time": "2023-02-04T14:24:18.147Z"
      },
      {
        "duration": 766,
        "start_time": "2023-02-04T14:24:22.128Z"
      },
      {
        "duration": 10092,
        "start_time": "2023-02-04T14:25:32.659Z"
      },
      {
        "duration": 10024,
        "start_time": "2023-02-04T14:28:02.847Z"
      },
      {
        "duration": 95882,
        "start_time": "2023-02-04T14:28:27.373Z"
      },
      {
        "duration": 93,
        "start_time": "2023-02-04T14:38:18.593Z"
      },
      {
        "duration": 112,
        "start_time": "2023-02-04T14:38:42.678Z"
      },
      {
        "duration": 43,
        "start_time": "2023-02-04T17:25:42.648Z"
      },
      {
        "duration": 1049,
        "start_time": "2023-02-04T17:25:46.664Z"
      },
      {
        "duration": 194,
        "start_time": "2023-02-04T17:25:47.715Z"
      },
      {
        "duration": 236,
        "start_time": "2023-02-04T17:25:47.910Z"
      },
      {
        "duration": 115,
        "start_time": "2023-02-04T17:25:48.148Z"
      },
      {
        "duration": 37,
        "start_time": "2023-02-04T17:25:48.265Z"
      },
      {
        "duration": 27,
        "start_time": "2023-02-04T17:25:48.304Z"
      },
      {
        "duration": 607,
        "start_time": "2023-02-04T17:25:48.332Z"
      },
      {
        "duration": 7322,
        "start_time": "2023-02-04T17:25:48.941Z"
      },
      {
        "duration": 73878,
        "start_time": "2023-02-04T17:25:56.264Z"
      },
      {
        "duration": 0,
        "start_time": "2023-02-04T17:27:10.270Z"
      },
      {
        "duration": 46,
        "start_time": "2023-02-04T17:27:29.555Z"
      },
      {
        "duration": 74,
        "start_time": "2023-02-04T17:27:48.851Z"
      },
      {
        "duration": 3,
        "start_time": "2023-02-04T17:27:55.121Z"
      },
      {
        "duration": 170,
        "start_time": "2023-02-04T17:27:58.869Z"
      },
      {
        "duration": 3,
        "start_time": "2023-02-04T17:28:20.377Z"
      },
      {
        "duration": 3,
        "start_time": "2023-02-04T17:28:33.975Z"
      },
      {
        "duration": 202,
        "start_time": "2023-02-04T17:32:34.953Z"
      },
      {
        "duration": 14,
        "start_time": "2023-02-04T17:35:47.822Z"
      },
      {
        "duration": 4,
        "start_time": "2023-02-04T17:35:51.330Z"
      },
      {
        "duration": 52,
        "start_time": "2023-02-04T17:35:51.337Z"
      },
      {
        "duration": 13,
        "start_time": "2023-02-04T17:35:51.425Z"
      },
      {
        "duration": 58,
        "start_time": "2023-02-04T17:35:51.485Z"
      },
      {
        "duration": 0,
        "start_time": "2023-02-04T17:35:51.545Z"
      },
      {
        "duration": 6,
        "start_time": "2023-02-04T17:35:51.615Z"
      },
      {
        "duration": 613,
        "start_time": "2023-02-04T17:35:51.622Z"
      },
      {
        "duration": 9254,
        "start_time": "2023-02-04T17:35:52.237Z"
      },
      {
        "duration": 73872,
        "start_time": "2023-02-04T17:36:01.492Z"
      },
      {
        "duration": 3,
        "start_time": "2023-02-04T17:37:15.366Z"
      },
      {
        "duration": 171,
        "start_time": "2023-02-04T17:37:15.371Z"
      },
      {
        "duration": 204,
        "start_time": "2023-02-04T17:37:15.544Z"
      },
      {
        "duration": 994,
        "start_time": "2023-02-04T17:41:34.051Z"
      },
      {
        "duration": 10133,
        "start_time": "2023-02-04T17:41:46.053Z"
      },
      {
        "duration": 120075,
        "start_time": "2023-02-04T17:41:56.188Z"
      },
      {
        "duration": 69894,
        "start_time": "2023-02-04T17:46:16.434Z"
      },
      {
        "duration": 189,
        "start_time": "2023-02-04T17:51:08.998Z"
      },
      {
        "duration": 982,
        "start_time": "2023-02-04T17:51:20.657Z"
      },
      {
        "duration": 18168,
        "start_time": "2023-02-04T17:55:01.558Z"
      },
      {
        "duration": 12,
        "start_time": "2023-02-04T17:56:44.123Z"
      },
      {
        "duration": 31,
        "start_time": "2023-02-04T17:56:44.137Z"
      },
      {
        "duration": 6,
        "start_time": "2023-02-04T17:56:44.169Z"
      },
      {
        "duration": 63,
        "start_time": "2023-02-04T17:56:44.177Z"
      },
      {
        "duration": 584,
        "start_time": "2023-02-04T17:56:44.980Z"
      },
      {
        "duration": 28062,
        "start_time": "2023-02-04T17:56:45.566Z"
      },
      {
        "duration": 19,
        "start_time": "2023-02-04T17:57:13.630Z"
      },
      {
        "duration": 19,
        "start_time": "2023-02-04T17:57:13.651Z"
      },
      {
        "duration": 157,
        "start_time": "2023-02-04T17:57:13.672Z"
      },
      {
        "duration": 969,
        "start_time": "2023-02-04T17:57:13.831Z"
      },
      {
        "duration": 20434,
        "start_time": "2023-02-04T17:57:14.801Z"
      },
      {
        "duration": 28890,
        "start_time": "2023-02-04T17:58:17.444Z"
      },
      {
        "duration": 561,
        "start_time": "2023-02-04T17:58:46.340Z"
      },
      {
        "duration": 18,
        "start_time": "2023-02-04T18:02:03.053Z"
      },
      {
        "duration": 16,
        "start_time": "2023-02-04T18:02:23.472Z"
      },
      {
        "duration": 6,
        "start_time": "2023-02-04T18:03:46.151Z"
      },
      {
        "duration": 15,
        "start_time": "2023-02-04T18:03:58.653Z"
      },
      {
        "duration": 6,
        "start_time": "2023-02-04T18:04:01.869Z"
      },
      {
        "duration": 15,
        "start_time": "2023-02-04T18:04:14.834Z"
      },
      {
        "duration": 6,
        "start_time": "2023-02-04T18:04:18.253Z"
      },
      {
        "duration": 15,
        "start_time": "2023-02-04T18:04:21.867Z"
      },
      {
        "duration": 15,
        "start_time": "2023-02-04T18:04:25.030Z"
      },
      {
        "duration": 6,
        "start_time": "2023-02-04T18:04:27.221Z"
      },
      {
        "duration": 15,
        "start_time": "2023-02-04T18:04:40.365Z"
      },
      {
        "duration": 6,
        "start_time": "2023-02-04T18:04:43.193Z"
      },
      {
        "duration": 14,
        "start_time": "2023-02-04T18:04:49.080Z"
      },
      {
        "duration": 6,
        "start_time": "2023-02-04T18:04:50.655Z"
      },
      {
        "duration": 15,
        "start_time": "2023-02-04T18:04:56.948Z"
      },
      {
        "duration": 15,
        "start_time": "2023-02-04T18:04:59.402Z"
      },
      {
        "duration": 6,
        "start_time": "2023-02-04T18:05:01.579Z"
      },
      {
        "duration": 14,
        "start_time": "2023-02-04T18:05:23.451Z"
      },
      {
        "duration": 14,
        "start_time": "2023-02-04T18:05:25.039Z"
      },
      {
        "duration": 19,
        "start_time": "2023-02-04T18:05:45.152Z"
      },
      {
        "duration": 14,
        "start_time": "2023-02-04T18:05:46.860Z"
      },
      {
        "duration": 20,
        "start_time": "2023-02-04T18:05:55.353Z"
      },
      {
        "duration": 7,
        "start_time": "2023-02-04T18:06:02.158Z"
      },
      {
        "duration": 14,
        "start_time": "2023-02-04T18:06:04.448Z"
      },
      {
        "duration": 14,
        "start_time": "2023-02-04T18:06:15.594Z"
      },
      {
        "duration": 7,
        "start_time": "2023-02-04T18:06:17.500Z"
      },
      {
        "duration": 20,
        "start_time": "2023-02-04T18:06:26.829Z"
      },
      {
        "duration": 12,
        "start_time": "2023-02-04T18:06:42.453Z"
      },
      {
        "duration": 13,
        "start_time": "2023-02-04T18:06:44.675Z"
      },
      {
        "duration": 7,
        "start_time": "2023-02-04T18:06:47.498Z"
      },
      {
        "duration": 5,
        "start_time": "2023-02-04T18:07:00.061Z"
      },
      {
        "duration": 74,
        "start_time": "2023-02-04T18:07:00.068Z"
      },
      {
        "duration": 13,
        "start_time": "2023-02-04T18:07:00.144Z"
      },
      {
        "duration": 16,
        "start_time": "2023-02-04T18:07:00.159Z"
      },
      {
        "duration": 53,
        "start_time": "2023-02-04T18:07:00.177Z"
      },
      {
        "duration": 6,
        "start_time": "2023-02-04T18:07:00.231Z"
      },
      {
        "duration": 191,
        "start_time": "2023-02-04T18:07:00.238Z"
      },
      {
        "duration": 672,
        "start_time": "2023-02-04T18:07:00.431Z"
      },
      {
        "duration": 27619,
        "start_time": "2023-02-04T18:07:01.105Z"
      },
      {
        "duration": 3,
        "start_time": "2023-02-04T18:07:28.729Z"
      },
      {
        "duration": 14,
        "start_time": "2023-02-04T18:07:28.734Z"
      },
      {
        "duration": 14,
        "start_time": "2023-02-04T18:07:28.750Z"
      },
      {
        "duration": 5,
        "start_time": "2023-02-04T18:07:28.766Z"
      },
      {
        "duration": 59,
        "start_time": "2023-02-04T18:07:28.772Z"
      },
      {
        "duration": 0,
        "start_time": "2023-02-04T18:07:28.833Z"
      },
      {
        "duration": 0,
        "start_time": "2023-02-04T18:07:28.833Z"
      },
      {
        "duration": 0,
        "start_time": "2023-02-04T18:07:28.835Z"
      },
      {
        "duration": 12,
        "start_time": "2023-02-04T18:08:28.157Z"
      },
      {
        "duration": 14,
        "start_time": "2023-02-04T18:08:30.160Z"
      },
      {
        "duration": 7,
        "start_time": "2023-02-04T18:08:32.849Z"
      },
      {
        "duration": 12,
        "start_time": "2023-02-04T18:08:39.986Z"
      },
      {
        "duration": 14,
        "start_time": "2023-02-04T18:08:44.561Z"
      },
      {
        "duration": 13,
        "start_time": "2023-02-04T18:08:51.560Z"
      },
      {
        "duration": 6,
        "start_time": "2023-02-04T18:08:56.465Z"
      },
      {
        "duration": 16,
        "start_time": "2023-02-04T18:09:05.057Z"
      },
      {
        "duration": 13,
        "start_time": "2023-02-04T18:09:07.053Z"
      },
      {
        "duration": 6,
        "start_time": "2023-02-04T18:09:09.678Z"
      },
      {
        "duration": 16,
        "start_time": "2023-02-04T18:09:16.148Z"
      },
      {
        "duration": 7,
        "start_time": "2023-02-04T18:09:17.676Z"
      },
      {
        "duration": 14,
        "start_time": "2023-02-04T18:09:26.749Z"
      },
      {
        "duration": 7,
        "start_time": "2023-02-04T18:09:29.082Z"
      },
      {
        "duration": 18,
        "start_time": "2023-02-04T18:09:38.329Z"
      },
      {
        "duration": 15,
        "start_time": "2023-02-04T18:09:47.951Z"
      },
      {
        "duration": 13,
        "start_time": "2023-02-04T18:09:49.957Z"
      },
      {
        "duration": 6,
        "start_time": "2023-02-04T18:09:52.065Z"
      },
      {
        "duration": 12,
        "start_time": "2023-02-04T18:10:02.384Z"
      },
      {
        "duration": 13,
        "start_time": "2023-02-04T18:10:03.861Z"
      },
      {
        "duration": 6,
        "start_time": "2023-02-04T18:10:07.762Z"
      },
      {
        "duration": 60,
        "start_time": "2023-02-04T18:10:36.868Z"
      },
      {
        "duration": 1098,
        "start_time": "2023-02-04T18:10:39.353Z"
      },
      {
        "duration": 24713,
        "start_time": "2023-02-04T18:10:50.185Z"
      },
      {
        "duration": 442,
        "start_time": "2023-02-04T18:16:09.477Z"
      },
      {
        "duration": 469,
        "start_time": "2023-02-04T18:18:37.251Z"
      },
      {
        "duration": 6,
        "start_time": "2023-02-04T18:21:43.852Z"
      },
      {
        "duration": 6,
        "start_time": "2023-02-04T18:21:54.082Z"
      },
      {
        "duration": 438,
        "start_time": "2023-02-04T18:22:27.748Z"
      },
      {
        "duration": 1141,
        "start_time": "2023-02-04T18:29:48.649Z"
      },
      {
        "duration": 3,
        "start_time": "2023-02-04T18:30:09.784Z"
      },
      {
        "duration": 61,
        "start_time": "2023-02-04T18:30:09.789Z"
      },
      {
        "duration": 11,
        "start_time": "2023-02-04T18:30:09.851Z"
      },
      {
        "duration": 10,
        "start_time": "2023-02-04T18:30:09.863Z"
      },
      {
        "duration": 31,
        "start_time": "2023-02-04T18:30:09.874Z"
      },
      {
        "duration": 34,
        "start_time": "2023-02-04T18:30:09.906Z"
      },
      {
        "duration": 91,
        "start_time": "2023-02-04T18:30:09.943Z"
      },
      {
        "duration": 665,
        "start_time": "2023-02-04T18:30:10.036Z"
      },
      {
        "duration": 28768,
        "start_time": "2023-02-04T18:30:10.703Z"
      },
      {
        "duration": 3,
        "start_time": "2023-02-04T18:30:39.473Z"
      },
      {
        "duration": 19,
        "start_time": "2023-02-04T18:30:39.477Z"
      },
      {
        "duration": 11,
        "start_time": "2023-02-04T18:30:39.498Z"
      },
      {
        "duration": 27,
        "start_time": "2023-02-04T18:30:39.511Z"
      },
      {
        "duration": 104,
        "start_time": "2023-02-04T18:30:39.541Z"
      },
      {
        "duration": 0,
        "start_time": "2023-02-04T18:30:39.646Z"
      },
      {
        "duration": 0,
        "start_time": "2023-02-04T18:30:39.648Z"
      },
      {
        "duration": 1,
        "start_time": "2023-02-04T18:30:39.649Z"
      },
      {
        "duration": 0,
        "start_time": "2023-02-04T18:30:39.729Z"
      },
      {
        "duration": 1092,
        "start_time": "2023-02-04T18:32:03.507Z"
      },
      {
        "duration": 67,
        "start_time": "2023-02-04T18:32:57.661Z"
      },
      {
        "duration": 1113,
        "start_time": "2023-02-04T18:33:01.534Z"
      },
      {
        "duration": 24139,
        "start_time": "2023-02-04T18:33:08.058Z"
      },
      {
        "duration": 396,
        "start_time": "2023-02-04T18:33:42.589Z"
      },
      {
        "duration": 23758,
        "start_time": "2023-02-04T18:35:32.082Z"
      },
      {
        "duration": 1169,
        "start_time": "2023-02-04T18:38:18.342Z"
      },
      {
        "duration": 24284,
        "start_time": "2023-02-04T18:39:33.669Z"
      },
      {
        "duration": 23801,
        "start_time": "2023-02-04T18:39:57.955Z"
      },
      {
        "duration": 419,
        "start_time": "2023-02-04T18:41:43.388Z"
      },
      {
        "duration": 398,
        "start_time": "2023-02-04T18:42:53.498Z"
      },
      {
        "duration": 86,
        "start_time": "2023-02-06T16:16:23.448Z"
      },
      {
        "duration": 71,
        "start_time": "2023-02-07T04:03:29.747Z"
      },
      {
        "duration": 1085,
        "start_time": "2023-02-07T04:04:56.744Z"
      },
      {
        "duration": 204,
        "start_time": "2023-02-07T04:04:59.920Z"
      },
      {
        "duration": 9,
        "start_time": "2023-02-07T04:05:04.002Z"
      },
      {
        "duration": 11,
        "start_time": "2023-02-07T04:06:14.630Z"
      },
      {
        "duration": 16,
        "start_time": "2023-02-07T04:11:50.073Z"
      },
      {
        "duration": 13,
        "start_time": "2023-02-07T04:14:29.699Z"
      },
      {
        "duration": 14,
        "start_time": "2023-02-07T04:14:58.816Z"
      },
      {
        "duration": 74,
        "start_time": "2023-02-07T04:16:47.306Z"
      },
      {
        "duration": 35,
        "start_time": "2023-02-07T04:17:00.826Z"
      },
      {
        "duration": 9,
        "start_time": "2023-02-07T04:17:04.013Z"
      },
      {
        "duration": 20,
        "start_time": "2023-02-07T04:17:06.801Z"
      },
      {
        "duration": 16,
        "start_time": "2023-02-07T04:21:29.671Z"
      },
      {
        "duration": 3,
        "start_time": "2023-02-07T04:21:40.187Z"
      },
      {
        "duration": 58,
        "start_time": "2023-02-07T04:21:42.142Z"
      },
      {
        "duration": 11,
        "start_time": "2023-02-07T04:21:49.838Z"
      },
      {
        "duration": 13,
        "start_time": "2023-02-07T04:21:58.353Z"
      },
      {
        "duration": 16,
        "start_time": "2023-02-07T04:22:07.843Z"
      },
      {
        "duration": 52,
        "start_time": "2023-02-07T04:22:14.244Z"
      },
      {
        "duration": 8,
        "start_time": "2023-02-07T04:38:45.704Z"
      },
      {
        "duration": 4,
        "start_time": "2023-02-07T04:39:04.624Z"
      },
      {
        "duration": 26,
        "start_time": "2023-02-07T04:39:11.704Z"
      },
      {
        "duration": 15,
        "start_time": "2023-02-07T04:40:12.780Z"
      },
      {
        "duration": 21,
        "start_time": "2023-02-07T04:40:17.304Z"
      },
      {
        "duration": 15,
        "start_time": "2023-02-07T04:41:52.954Z"
      },
      {
        "duration": 1118,
        "start_time": "2023-02-07T04:42:09.963Z"
      },
      {
        "duration": 64,
        "start_time": "2023-02-07T04:42:12.474Z"
      },
      {
        "duration": 15,
        "start_time": "2023-02-07T04:42:24.872Z"
      },
      {
        "duration": 140,
        "start_time": "2023-02-07T04:42:27.449Z"
      },
      {
        "duration": 355,
        "start_time": "2023-02-07T04:42:48.342Z"
      },
      {
        "duration": 41,
        "start_time": "2023-02-07T04:43:01.113Z"
      },
      {
        "duration": 19,
        "start_time": "2023-02-07T04:43:23.579Z"
      },
      {
        "duration": 14,
        "start_time": "2023-02-07T04:44:20.255Z"
      },
      {
        "duration": 13,
        "start_time": "2023-02-07T04:45:10.708Z"
      },
      {
        "duration": 5881,
        "start_time": "2023-02-07T04:45:15.154Z"
      },
      {
        "duration": 5811,
        "start_time": "2023-02-07T04:45:29.672Z"
      },
      {
        "duration": 6642,
        "start_time": "2023-02-07T04:45:59.091Z"
      },
      {
        "duration": 16,
        "start_time": "2023-02-07T04:49:22.216Z"
      },
      {
        "duration": 14,
        "start_time": "2023-02-07T04:59:53.567Z"
      },
      {
        "duration": 18,
        "start_time": "2023-02-07T05:01:36.270Z"
      },
      {
        "duration": 20,
        "start_time": "2023-02-07T05:02:04.338Z"
      },
      {
        "duration": 17,
        "start_time": "2023-02-07T05:02:12.342Z"
      },
      {
        "duration": 12,
        "start_time": "2023-02-07T05:03:19.361Z"
      },
      {
        "duration": 1082,
        "start_time": "2023-02-07T05:04:37.864Z"
      },
      {
        "duration": 67,
        "start_time": "2023-02-07T05:04:39.760Z"
      },
      {
        "duration": 18,
        "start_time": "2023-02-07T05:04:47.108Z"
      },
      {
        "duration": 121,
        "start_time": "2023-02-07T05:04:49.617Z"
      },
      {
        "duration": 66,
        "start_time": "2023-02-07T05:05:28.538Z"
      },
      {
        "duration": 166,
        "start_time": "2023-02-07T05:05:51.343Z"
      },
      {
        "duration": 96,
        "start_time": "2023-02-07T05:06:52.822Z"
      },
      {
        "duration": 8,
        "start_time": "2023-02-07T05:08:54.523Z"
      },
      {
        "duration": 92,
        "start_time": "2023-02-07T05:09:06.048Z"
      },
      {
        "duration": 148,
        "start_time": "2023-02-07T05:09:09.587Z"
      },
      {
        "duration": 20,
        "start_time": "2023-02-07T05:09:35.371Z"
      },
      {
        "duration": 27,
        "start_time": "2023-02-07T05:09:38.133Z"
      },
      {
        "duration": 51,
        "start_time": "2023-02-07T05:10:30.752Z"
      },
      {
        "duration": 57,
        "start_time": "2023-02-07T05:10:49.587Z"
      },
      {
        "duration": 52,
        "start_time": "2023-02-07T05:11:06.764Z"
      },
      {
        "duration": 14,
        "start_time": "2023-02-07T05:11:17.095Z"
      },
      {
        "duration": 48,
        "start_time": "2023-02-09T15:18:53.560Z"
      },
      {
        "duration": 1029,
        "start_time": "2023-02-09T15:18:57.686Z"
      },
      {
        "duration": 193,
        "start_time": "2023-02-09T15:18:58.716Z"
      },
      {
        "duration": 7,
        "start_time": "2023-02-09T15:18:58.911Z"
      },
      {
        "duration": 41,
        "start_time": "2023-02-09T15:18:58.920Z"
      },
      {
        "duration": 50,
        "start_time": "2023-02-09T15:18:58.964Z"
      },
      {
        "duration": 59,
        "start_time": "2023-02-09T15:18:59.016Z"
      },
      {
        "duration": 9,
        "start_time": "2023-02-09T15:18:59.077Z"
      },
      {
        "duration": 7,
        "start_time": "2023-02-09T15:18:59.087Z"
      },
      {
        "duration": 159,
        "start_time": "2023-02-09T15:18:59.096Z"
      },
      {
        "duration": 492,
        "start_time": "2023-02-09T15:18:59.262Z"
      },
      {
        "duration": 25598,
        "start_time": "2023-02-09T15:18:59.760Z"
      },
      {
        "duration": 4,
        "start_time": "2023-02-09T15:19:25.364Z"
      },
      {
        "duration": 17,
        "start_time": "2023-02-09T15:19:25.370Z"
      },
      {
        "duration": 44,
        "start_time": "2023-02-09T15:19:25.408Z"
      },
      {
        "duration": 114,
        "start_time": "2023-02-09T15:19:25.455Z"
      },
      {
        "duration": 1010,
        "start_time": "2023-02-09T15:19:25.653Z"
      },
      {
        "duration": 22644,
        "start_time": "2023-02-09T15:19:26.665Z"
      },
      {
        "duration": 50,
        "start_time": "2023-02-09T15:19:49.311Z"
      },
      {
        "duration": 0,
        "start_time": "2023-02-09T15:19:49.363Z"
      },
      {
        "duration": 0,
        "start_time": "2023-02-09T15:19:49.364Z"
      },
      {
        "duration": 0,
        "start_time": "2023-02-09T15:19:49.366Z"
      },
      {
        "duration": 0,
        "start_time": "2023-02-09T15:19:49.369Z"
      },
      {
        "duration": 23,
        "start_time": "2023-02-09T15:20:34.118Z"
      },
      {
        "duration": 13,
        "start_time": "2023-02-09T15:20:38.963Z"
      },
      {
        "duration": 11,
        "start_time": "2023-02-09T15:20:42.299Z"
      },
      {
        "duration": 14,
        "start_time": "2023-02-09T15:20:54.778Z"
      },
      {
        "duration": 7,
        "start_time": "2023-02-09T15:21:07.740Z"
      },
      {
        "duration": 8,
        "start_time": "2023-02-09T15:22:19.886Z"
      },
      {
        "duration": 146,
        "start_time": "2023-02-09T15:29:52.801Z"
      },
      {
        "duration": 845,
        "start_time": "2023-02-09T15:30:23.050Z"
      },
      {
        "duration": 21961,
        "start_time": "2023-02-09T15:30:30.021Z"
      },
      {
        "duration": 13,
        "start_time": "2023-02-09T15:34:51.520Z"
      },
      {
        "duration": 7,
        "start_time": "2023-02-09T15:34:56.500Z"
      },
      {
        "duration": 12,
        "start_time": "2023-02-09T15:35:03.880Z"
      },
      {
        "duration": 5,
        "start_time": "2023-02-09T15:35:05.758Z"
      },
      {
        "duration": 12,
        "start_time": "2023-02-09T15:35:15.135Z"
      },
      {
        "duration": 7,
        "start_time": "2023-02-09T15:35:17.615Z"
      },
      {
        "duration": 11,
        "start_time": "2023-02-09T15:35:27.097Z"
      },
      {
        "duration": 6,
        "start_time": "2023-02-09T15:35:29.220Z"
      },
      {
        "duration": 11,
        "start_time": "2023-02-09T15:35:36.840Z"
      },
      {
        "duration": 7,
        "start_time": "2023-02-09T15:35:38.520Z"
      },
      {
        "duration": 5,
        "start_time": "2023-02-09T15:36:46.520Z"
      },
      {
        "duration": 50,
        "start_time": "2023-02-09T15:37:49.799Z"
      },
      {
        "duration": 26,
        "start_time": "2023-02-09T15:38:11.400Z"
      },
      {
        "duration": 327,
        "start_time": "2023-02-09T15:38:13.591Z"
      },
      {
        "duration": 9133,
        "start_time": "2023-02-09T15:38:17.242Z"
      },
      {
        "duration": 145,
        "start_time": "2023-02-09T16:07:00.637Z"
      },
      {
        "duration": 384,
        "start_time": "2023-02-09T16:10:02.971Z"
      },
      {
        "duration": 318,
        "start_time": "2023-02-09T16:10:19.044Z"
      },
      {
        "duration": 336,
        "start_time": "2023-02-09T16:15:12.206Z"
      },
      {
        "duration": 128,
        "start_time": "2023-02-09T16:17:03.025Z"
      },
      {
        "duration": 45529,
        "start_time": "2023-02-09T16:18:58.382Z"
      },
      {
        "duration": 59445,
        "start_time": "2023-02-09T16:20:23.494Z"
      },
      {
        "duration": 25048,
        "start_time": "2023-02-09T16:21:22.941Z"
      },
      {
        "duration": 479,
        "start_time": "2023-02-09T16:21:48.472Z"
      },
      {
        "duration": 469,
        "start_time": "2023-02-09T16:23:47.304Z"
      },
      {
        "duration": 136,
        "start_time": "2023-02-09T16:23:53.535Z"
      },
      {
        "duration": 193,
        "start_time": "2023-02-09T16:23:57.434Z"
      },
      {
        "duration": 55,
        "start_time": "2023-03-09T04:55:06.047Z"
      },
      {
        "duration": 1144,
        "start_time": "2023-03-09T04:55:10.238Z"
      },
      {
        "duration": 192,
        "start_time": "2023-03-09T04:55:11.384Z"
      },
      {
        "duration": 10,
        "start_time": "2023-03-09T04:55:11.578Z"
      },
      {
        "duration": 18,
        "start_time": "2023-03-09T04:55:11.591Z"
      },
      {
        "duration": 69,
        "start_time": "2023-03-09T04:55:11.611Z"
      },
      {
        "duration": 60,
        "start_time": "2023-03-09T04:55:11.683Z"
      },
      {
        "duration": 9,
        "start_time": "2023-03-09T04:55:11.746Z"
      },
      {
        "duration": 23,
        "start_time": "2023-03-09T04:55:11.757Z"
      },
      {
        "duration": 77,
        "start_time": "2023-03-09T04:55:11.782Z"
      },
      {
        "duration": 566,
        "start_time": "2023-03-09T04:55:11.943Z"
      },
      {
        "duration": 26214,
        "start_time": "2023-03-09T04:55:12.510Z"
      },
      {
        "duration": 4,
        "start_time": "2023-03-09T04:55:38.725Z"
      },
      {
        "duration": 14,
        "start_time": "2023-03-09T04:55:38.740Z"
      },
      {
        "duration": 6,
        "start_time": "2023-03-09T04:55:38.756Z"
      },
      {
        "duration": 79,
        "start_time": "2023-03-09T04:55:38.764Z"
      },
      {
        "duration": 1046,
        "start_time": "2023-03-09T04:55:38.848Z"
      },
      {
        "duration": 65517,
        "start_time": "2023-03-09T04:55:39.896Z"
      },
      {
        "duration": 12,
        "start_time": "2023-03-09T04:56:45.415Z"
      },
      {
        "duration": 5,
        "start_time": "2023-03-09T04:56:45.441Z"
      },
      {
        "duration": 94,
        "start_time": "2023-03-09T04:56:45.448Z"
      },
      {
        "duration": 470,
        "start_time": "2023-03-09T04:56:45.544Z"
      },
      {
        "duration": 26711,
        "start_time": "2023-03-09T04:56:46.016Z"
      },
      {
        "duration": 544,
        "start_time": "2023-03-09T04:57:12.729Z"
      },
      {
        "duration": 225,
        "start_time": "2023-03-09T04:57:13.275Z"
      },
      {
        "duration": 5,
        "start_time": "2023-03-09T04:57:13.502Z"
      }
    ],
    "kernelspec": {
      "display_name": "Python 3 (ipykernel)",
      "language": "python",
      "name": "python3"
    },
    "language_info": {
      "codemirror_mode": {
        "name": "ipython",
        "version": 3
      },
      "file_extension": ".py",
      "mimetype": "text/x-python",
      "name": "python",
      "nbconvert_exporter": "python",
      "pygments_lexer": "ipython3",
      "version": "3.9.5"
    },
    "toc": {
      "base_numbering": 1,
      "nav_menu": {},
      "number_sections": true,
      "sideBar": true,
      "skip_h1_title": true,
      "title_cell": "Содержание",
      "title_sidebar": "Contents",
      "toc_cell": true,
      "toc_position": {},
      "toc_section_display": true,
      "toc_window_display": false
    },
    "colab": {
      "provenance": []
    }
  },
  "nbformat": 4,
  "nbformat_minor": 0
}