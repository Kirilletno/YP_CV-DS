{
  "cells": [
    {
      "cell_type": "markdown",
      "metadata": {
        "id": "BTg2ffo_Sn-n"
      },
      "source": [
        "# Исследование объявлений о продаже квартир\n"
      ]
    },
    {
      "cell_type": "code",
      "source": [
        "import pandas as pd"
      ],
      "metadata": {
        "id": "n2xJrYpkS5t6"
      },
      "execution_count": null,
      "outputs": []
    },
    {
      "cell_type": "markdown",
      "metadata": {
        "id": "bnIXvwX-Sn-r"
      },
      "source": [
        "### Откроем данные и проведем первичный просмотр"
      ]
    },
    {
      "cell_type": "code",
      "execution_count": null,
      "metadata": {
        "id": "79O2R7MPSn-s",
        "outputId": "e2f661fb-f760-4035-c648-36cac0652c42"
      },
      "outputs": [
        {
          "data": {
            "text/html": [
              "<div>\n",
              "<style scoped>\n",
              "    .dataframe tbody tr th:only-of-type {\n",
              "        vertical-align: middle;\n",
              "    }\n",
              "\n",
              "    .dataframe tbody tr th {\n",
              "        vertical-align: top;\n",
              "    }\n",
              "\n",
              "    .dataframe thead th {\n",
              "        text-align: right;\n",
              "    }\n",
              "</style>\n",
              "<table border=\"1\" class=\"dataframe\">\n",
              "  <thead>\n",
              "    <tr style=\"text-align: right;\">\n",
              "      <th></th>\n",
              "      <th>total_images</th>\n",
              "      <th>last_price</th>\n",
              "      <th>total_area</th>\n",
              "      <th>first_day_exposition</th>\n",
              "      <th>rooms</th>\n",
              "      <th>ceiling_height</th>\n",
              "      <th>floors_total</th>\n",
              "      <th>living_area</th>\n",
              "      <th>floor</th>\n",
              "      <th>is_apartment</th>\n",
              "      <th>...</th>\n",
              "      <th>kitchen_area</th>\n",
              "      <th>balcony</th>\n",
              "      <th>locality_name</th>\n",
              "      <th>airports_nearest</th>\n",
              "      <th>cityCenters_nearest</th>\n",
              "      <th>parks_around3000</th>\n",
              "      <th>parks_nearest</th>\n",
              "      <th>ponds_around3000</th>\n",
              "      <th>ponds_nearest</th>\n",
              "      <th>days_exposition</th>\n",
              "    </tr>\n",
              "  </thead>\n",
              "  <tbody>\n",
              "    <tr>\n",
              "      <th>0</th>\n",
              "      <td>20</td>\n",
              "      <td>13000000.0</td>\n",
              "      <td>108.00</td>\n",
              "      <td>2019-03-07T00:00:00</td>\n",
              "      <td>3</td>\n",
              "      <td>2.70</td>\n",
              "      <td>16.0</td>\n",
              "      <td>51.0</td>\n",
              "      <td>8</td>\n",
              "      <td>NaN</td>\n",
              "      <td>...</td>\n",
              "      <td>25.00</td>\n",
              "      <td>NaN</td>\n",
              "      <td>Санкт-Петербург</td>\n",
              "      <td>18863.0</td>\n",
              "      <td>16028.0</td>\n",
              "      <td>1.0</td>\n",
              "      <td>482.0</td>\n",
              "      <td>2.0</td>\n",
              "      <td>755.0</td>\n",
              "      <td>NaN</td>\n",
              "    </tr>\n",
              "    <tr>\n",
              "      <th>1</th>\n",
              "      <td>7</td>\n",
              "      <td>3350000.0</td>\n",
              "      <td>40.40</td>\n",
              "      <td>2018-12-04T00:00:00</td>\n",
              "      <td>1</td>\n",
              "      <td>NaN</td>\n",
              "      <td>11.0</td>\n",
              "      <td>18.6</td>\n",
              "      <td>1</td>\n",
              "      <td>NaN</td>\n",
              "      <td>...</td>\n",
              "      <td>11.00</td>\n",
              "      <td>2.0</td>\n",
              "      <td>посёлок Шушары</td>\n",
              "      <td>12817.0</td>\n",
              "      <td>18603.0</td>\n",
              "      <td>0.0</td>\n",
              "      <td>NaN</td>\n",
              "      <td>0.0</td>\n",
              "      <td>NaN</td>\n",
              "      <td>81.0</td>\n",
              "    </tr>\n",
              "    <tr>\n",
              "      <th>2</th>\n",
              "      <td>10</td>\n",
              "      <td>5196000.0</td>\n",
              "      <td>56.00</td>\n",
              "      <td>2015-08-20T00:00:00</td>\n",
              "      <td>2</td>\n",
              "      <td>NaN</td>\n",
              "      <td>5.0</td>\n",
              "      <td>34.3</td>\n",
              "      <td>4</td>\n",
              "      <td>NaN</td>\n",
              "      <td>...</td>\n",
              "      <td>8.30</td>\n",
              "      <td>0.0</td>\n",
              "      <td>Санкт-Петербург</td>\n",
              "      <td>21741.0</td>\n",
              "      <td>13933.0</td>\n",
              "      <td>1.0</td>\n",
              "      <td>90.0</td>\n",
              "      <td>2.0</td>\n",
              "      <td>574.0</td>\n",
              "      <td>558.0</td>\n",
              "    </tr>\n",
              "    <tr>\n",
              "      <th>3</th>\n",
              "      <td>0</td>\n",
              "      <td>64900000.0</td>\n",
              "      <td>159.00</td>\n",
              "      <td>2015-07-24T00:00:00</td>\n",
              "      <td>3</td>\n",
              "      <td>NaN</td>\n",
              "      <td>14.0</td>\n",
              "      <td>NaN</td>\n",
              "      <td>9</td>\n",
              "      <td>NaN</td>\n",
              "      <td>...</td>\n",
              "      <td>NaN</td>\n",
              "      <td>0.0</td>\n",
              "      <td>Санкт-Петербург</td>\n",
              "      <td>28098.0</td>\n",
              "      <td>6800.0</td>\n",
              "      <td>2.0</td>\n",
              "      <td>84.0</td>\n",
              "      <td>3.0</td>\n",
              "      <td>234.0</td>\n",
              "      <td>424.0</td>\n",
              "    </tr>\n",
              "    <tr>\n",
              "      <th>4</th>\n",
              "      <td>2</td>\n",
              "      <td>10000000.0</td>\n",
              "      <td>100.00</td>\n",
              "      <td>2018-06-19T00:00:00</td>\n",
              "      <td>2</td>\n",
              "      <td>3.03</td>\n",
              "      <td>14.0</td>\n",
              "      <td>32.0</td>\n",
              "      <td>13</td>\n",
              "      <td>NaN</td>\n",
              "      <td>...</td>\n",
              "      <td>41.00</td>\n",
              "      <td>NaN</td>\n",
              "      <td>Санкт-Петербург</td>\n",
              "      <td>31856.0</td>\n",
              "      <td>8098.0</td>\n",
              "      <td>2.0</td>\n",
              "      <td>112.0</td>\n",
              "      <td>1.0</td>\n",
              "      <td>48.0</td>\n",
              "      <td>121.0</td>\n",
              "    </tr>\n",
              "    <tr>\n",
              "      <th>...</th>\n",
              "      <td>...</td>\n",
              "      <td>...</td>\n",
              "      <td>...</td>\n",
              "      <td>...</td>\n",
              "      <td>...</td>\n",
              "      <td>...</td>\n",
              "      <td>...</td>\n",
              "      <td>...</td>\n",
              "      <td>...</td>\n",
              "      <td>...</td>\n",
              "      <td>...</td>\n",
              "      <td>...</td>\n",
              "      <td>...</td>\n",
              "      <td>...</td>\n",
              "      <td>...</td>\n",
              "      <td>...</td>\n",
              "      <td>...</td>\n",
              "      <td>...</td>\n",
              "      <td>...</td>\n",
              "      <td>...</td>\n",
              "      <td>...</td>\n",
              "    </tr>\n",
              "    <tr>\n",
              "      <th>23694</th>\n",
              "      <td>9</td>\n",
              "      <td>9700000.0</td>\n",
              "      <td>133.81</td>\n",
              "      <td>2017-03-21T00:00:00</td>\n",
              "      <td>3</td>\n",
              "      <td>3.70</td>\n",
              "      <td>5.0</td>\n",
              "      <td>73.3</td>\n",
              "      <td>3</td>\n",
              "      <td>NaN</td>\n",
              "      <td>...</td>\n",
              "      <td>13.83</td>\n",
              "      <td>NaN</td>\n",
              "      <td>Санкт-Петербург</td>\n",
              "      <td>24665.0</td>\n",
              "      <td>4232.0</td>\n",
              "      <td>1.0</td>\n",
              "      <td>796.0</td>\n",
              "      <td>3.0</td>\n",
              "      <td>381.0</td>\n",
              "      <td>NaN</td>\n",
              "    </tr>\n",
              "    <tr>\n",
              "      <th>23695</th>\n",
              "      <td>14</td>\n",
              "      <td>3100000.0</td>\n",
              "      <td>59.00</td>\n",
              "      <td>2018-01-15T00:00:00</td>\n",
              "      <td>3</td>\n",
              "      <td>NaN</td>\n",
              "      <td>5.0</td>\n",
              "      <td>38.0</td>\n",
              "      <td>4</td>\n",
              "      <td>NaN</td>\n",
              "      <td>...</td>\n",
              "      <td>8.50</td>\n",
              "      <td>NaN</td>\n",
              "      <td>Тосно</td>\n",
              "      <td>NaN</td>\n",
              "      <td>NaN</td>\n",
              "      <td>NaN</td>\n",
              "      <td>NaN</td>\n",
              "      <td>NaN</td>\n",
              "      <td>NaN</td>\n",
              "      <td>45.0</td>\n",
              "    </tr>\n",
              "    <tr>\n",
              "      <th>23696</th>\n",
              "      <td>18</td>\n",
              "      <td>2500000.0</td>\n",
              "      <td>56.70</td>\n",
              "      <td>2018-02-11T00:00:00</td>\n",
              "      <td>2</td>\n",
              "      <td>NaN</td>\n",
              "      <td>3.0</td>\n",
              "      <td>29.7</td>\n",
              "      <td>1</td>\n",
              "      <td>NaN</td>\n",
              "      <td>...</td>\n",
              "      <td>NaN</td>\n",
              "      <td>NaN</td>\n",
              "      <td>село Рождествено</td>\n",
              "      <td>NaN</td>\n",
              "      <td>NaN</td>\n",
              "      <td>NaN</td>\n",
              "      <td>NaN</td>\n",
              "      <td>NaN</td>\n",
              "      <td>NaN</td>\n",
              "      <td>NaN</td>\n",
              "    </tr>\n",
              "    <tr>\n",
              "      <th>23697</th>\n",
              "      <td>13</td>\n",
              "      <td>11475000.0</td>\n",
              "      <td>76.75</td>\n",
              "      <td>2017-03-28T00:00:00</td>\n",
              "      <td>2</td>\n",
              "      <td>3.00</td>\n",
              "      <td>17.0</td>\n",
              "      <td>NaN</td>\n",
              "      <td>12</td>\n",
              "      <td>NaN</td>\n",
              "      <td>...</td>\n",
              "      <td>23.30</td>\n",
              "      <td>2.0</td>\n",
              "      <td>Санкт-Петербург</td>\n",
              "      <td>39140.0</td>\n",
              "      <td>10364.0</td>\n",
              "      <td>2.0</td>\n",
              "      <td>173.0</td>\n",
              "      <td>3.0</td>\n",
              "      <td>196.0</td>\n",
              "      <td>602.0</td>\n",
              "    </tr>\n",
              "    <tr>\n",
              "      <th>23698</th>\n",
              "      <td>4</td>\n",
              "      <td>1350000.0</td>\n",
              "      <td>32.30</td>\n",
              "      <td>2017-07-21T00:00:00</td>\n",
              "      <td>1</td>\n",
              "      <td>2.50</td>\n",
              "      <td>5.0</td>\n",
              "      <td>12.3</td>\n",
              "      <td>1</td>\n",
              "      <td>NaN</td>\n",
              "      <td>...</td>\n",
              "      <td>9.00</td>\n",
              "      <td>NaN</td>\n",
              "      <td>поселок Новый Учхоз</td>\n",
              "      <td>NaN</td>\n",
              "      <td>NaN</td>\n",
              "      <td>NaN</td>\n",
              "      <td>NaN</td>\n",
              "      <td>NaN</td>\n",
              "      <td>NaN</td>\n",
              "      <td>NaN</td>\n",
              "    </tr>\n",
              "  </tbody>\n",
              "</table>\n",
              "<p>23699 rows × 22 columns</p>\n",
              "</div>"
            ],
            "text/plain": [
              "       total_images  last_price  total_area first_day_exposition  rooms  \\\n",
              "0                20  13000000.0      108.00  2019-03-07T00:00:00      3   \n",
              "1                 7   3350000.0       40.40  2018-12-04T00:00:00      1   \n",
              "2                10   5196000.0       56.00  2015-08-20T00:00:00      2   \n",
              "3                 0  64900000.0      159.00  2015-07-24T00:00:00      3   \n",
              "4                 2  10000000.0      100.00  2018-06-19T00:00:00      2   \n",
              "...             ...         ...         ...                  ...    ...   \n",
              "23694             9   9700000.0      133.81  2017-03-21T00:00:00      3   \n",
              "23695            14   3100000.0       59.00  2018-01-15T00:00:00      3   \n",
              "23696            18   2500000.0       56.70  2018-02-11T00:00:00      2   \n",
              "23697            13  11475000.0       76.75  2017-03-28T00:00:00      2   \n",
              "23698             4   1350000.0       32.30  2017-07-21T00:00:00      1   \n",
              "\n",
              "       ceiling_height  floors_total  living_area  floor is_apartment  ...  \\\n",
              "0                2.70          16.0         51.0      8          NaN  ...   \n",
              "1                 NaN          11.0         18.6      1          NaN  ...   \n",
              "2                 NaN           5.0         34.3      4          NaN  ...   \n",
              "3                 NaN          14.0          NaN      9          NaN  ...   \n",
              "4                3.03          14.0         32.0     13          NaN  ...   \n",
              "...               ...           ...          ...    ...          ...  ...   \n",
              "23694            3.70           5.0         73.3      3          NaN  ...   \n",
              "23695             NaN           5.0         38.0      4          NaN  ...   \n",
              "23696             NaN           3.0         29.7      1          NaN  ...   \n",
              "23697            3.00          17.0          NaN     12          NaN  ...   \n",
              "23698            2.50           5.0         12.3      1          NaN  ...   \n",
              "\n",
              "       kitchen_area  balcony        locality_name  airports_nearest  \\\n",
              "0             25.00      NaN      Санкт-Петербург           18863.0   \n",
              "1             11.00      2.0       посёлок Шушары           12817.0   \n",
              "2              8.30      0.0      Санкт-Петербург           21741.0   \n",
              "3               NaN      0.0      Санкт-Петербург           28098.0   \n",
              "4             41.00      NaN      Санкт-Петербург           31856.0   \n",
              "...             ...      ...                  ...               ...   \n",
              "23694         13.83      NaN      Санкт-Петербург           24665.0   \n",
              "23695          8.50      NaN                Тосно               NaN   \n",
              "23696           NaN      NaN     село Рождествено               NaN   \n",
              "23697         23.30      2.0      Санкт-Петербург           39140.0   \n",
              "23698          9.00      NaN  поселок Новый Учхоз               NaN   \n",
              "\n",
              "      cityCenters_nearest  parks_around3000  parks_nearest  ponds_around3000  \\\n",
              "0                 16028.0               1.0          482.0               2.0   \n",
              "1                 18603.0               0.0            NaN               0.0   \n",
              "2                 13933.0               1.0           90.0               2.0   \n",
              "3                  6800.0               2.0           84.0               3.0   \n",
              "4                  8098.0               2.0          112.0               1.0   \n",
              "...                   ...               ...            ...               ...   \n",
              "23694              4232.0               1.0          796.0               3.0   \n",
              "23695                 NaN               NaN            NaN               NaN   \n",
              "23696                 NaN               NaN            NaN               NaN   \n",
              "23697             10364.0               2.0          173.0               3.0   \n",
              "23698                 NaN               NaN            NaN               NaN   \n",
              "\n",
              "       ponds_nearest  days_exposition  \n",
              "0              755.0              NaN  \n",
              "1                NaN             81.0  \n",
              "2              574.0            558.0  \n",
              "3              234.0            424.0  \n",
              "4               48.0            121.0  \n",
              "...              ...              ...  \n",
              "23694          381.0              NaN  \n",
              "23695            NaN             45.0  \n",
              "23696            NaN              NaN  \n",
              "23697          196.0            602.0  \n",
              "23698            NaN              NaN  \n",
              "\n",
              "[23699 rows x 22 columns]"
            ]
          },
          "execution_count": 3,
          "metadata": {},
          "output_type": "execute_result"
        }
      ],
      "source": [
        "data = pd.read_csv('/datasets/real_estate_data.csv', sep='\\t')\n",
        "data\n"
      ]
    },
    {
      "cell_type": "code",
      "execution_count": null,
      "metadata": {
        "scrolled": true,
        "id": "Y3UtJUyQSn-x",
        "outputId": "4b915d43-1d16-47b1-e0a8-eecb7f11c950"
      },
      "outputs": [
        {
          "name": "stdout",
          "output_type": "stream",
          "text": [
            "<class 'pandas.core.frame.DataFrame'>\n",
            "RangeIndex: 23699 entries, 0 to 23698\n",
            "Data columns (total 22 columns):\n",
            " #   Column                Non-Null Count  Dtype  \n",
            "---  ------                --------------  -----  \n",
            " 0   total_images          23699 non-null  int64  \n",
            " 1   last_price            23699 non-null  float64\n",
            " 2   total_area            23699 non-null  float64\n",
            " 3   first_day_exposition  23699 non-null  object \n",
            " 4   rooms                 23699 non-null  int64  \n",
            " 5   ceiling_height        14504 non-null  float64\n",
            " 6   floors_total          23613 non-null  float64\n",
            " 7   living_area           21796 non-null  float64\n",
            " 8   floor                 23699 non-null  int64  \n",
            " 9   is_apartment          2775 non-null   object \n",
            " 10  studio                23699 non-null  bool   \n",
            " 11  open_plan             23699 non-null  bool   \n",
            " 12  kitchen_area          21421 non-null  float64\n",
            " 13  balcony               12180 non-null  float64\n",
            " 14  locality_name         23650 non-null  object \n",
            " 15  airports_nearest      18157 non-null  float64\n",
            " 16  cityCenters_nearest   18180 non-null  float64\n",
            " 17  parks_around3000      18181 non-null  float64\n",
            " 18  parks_nearest         8079 non-null   float64\n",
            " 19  ponds_around3000      18181 non-null  float64\n",
            " 20  ponds_nearest         9110 non-null   float64\n",
            " 21  days_exposition       20518 non-null  float64\n",
            "dtypes: bool(2), float64(14), int64(3), object(3)\n",
            "memory usage: 3.7+ MB\n"
          ]
        }
      ],
      "source": [
        "data.info()"
      ]
    },
    {
      "cell_type": "code",
      "execution_count": null,
      "metadata": {
        "scrolled": true,
        "id": "BypJ_KBASn-y",
        "outputId": "927bc866-1809-4f1f-b297-d12e100b5693"
      },
      "outputs": [
        {
          "data": {
            "image/png": "[encoded data removed]",
            "text/plain": [
              "<Figure size 1080x1440 with 20 Axes>"
            ]
          },
          "metadata": {
            "needs_background": "light"
          },
          "output_type": "display_data"
        }
      ],
      "source": [
        "data.hist(figsize=(15, 20));"
      ]
    },
    {
      "cell_type": "markdown",
      "source": [
        "**Итак, после первого взгляда на наши данные можно сделать следующие выводы:**\n",
        "\n",
        "- Очень много пропусков, почти в половине из всех столбцов в которых пропущеные значения могут достигать ~ 90% от всех значений.\n",
        "- Нечитабильно отображены даты.\n",
        "- Колличество комнат отображено довольно странно. Минимальное колличество равное 0. Возможно, это студия, не так страшно. Но вот максимальный показатель говорит о том, что у нас 19 комнат при максимальной площади в 900 кв.м. Возьмём на заметку и просто посмотрим на эти данные позже.\n",
        "- Высота потолков. Максимальное значение по нему аж 100 метров. Но так же и минимальный говорит о том, что высота составляет 1 метр.\n",
        "- Максимальное колличество этажей равняется 60. Довольно странная цифра. Обратимся к google, чтобы убедиться, что это верные показатели. По нашему запросу самым большим ЖК является «Князь Александр Невский» с максимальным колличеством в 37 этажей, т.к. в данной выборке представлены исключительно жилые помещения, то данная цифра всё более кажется нереалистичной.\n",
        "- Так же обратим внимание, что в нашей выборке представлены объявления в которых максимальный этаж на котором продаётся квартира равняется 33.\n",
        "- После первого взгляда на наши данные появляется всё больше и больше вопросов. Но прежде чем, проводить какие-либо исследовательские работы для начала надо разобраться с пропусками, а после посмотреть на выбросы и решить, что с ними делать."
      ],
      "metadata": {
        "id": "5q3IS4dBTah8"
      }
    },
    {
      "cell_type": "markdown",
      "metadata": {
        "id": "bv_siuSASn-0"
      },
      "source": [
        "### Предобработка данных"
      ]
    },
    {
      "cell_type": "markdown",
      "metadata": {
        "id": "7qcKP3ziSn-0"
      },
      "source": [
        "1. Устраняем пропуски в данных"
      ]
    },
    {
      "cell_type": "code",
      "execution_count": null,
      "metadata": {
        "id": "GNUD0nVvSn-0",
        "outputId": "67cb89c1-d823-420b-d955-a8eac0e50b52"
      },
      "outputs": [
        {
          "name": "stdout",
          "output_type": "stream",
          "text": [
            "<class 'pandas.core.frame.DataFrame'>\n",
            "RangeIndex: 23699 entries, 0 to 23698\n",
            "Data columns (total 22 columns):\n",
            " #   Column                Non-Null Count  Dtype  \n",
            "---  ------                --------------  -----  \n",
            " 0   total_images          23699 non-null  int64  \n",
            " 1   last_price            23699 non-null  float64\n",
            " 2   total_area            23699 non-null  float64\n",
            " 3   first_day_exposition  23699 non-null  object \n",
            " 4   rooms                 23699 non-null  int64  \n",
            " 5   ceiling_height        14504 non-null  float64\n",
            " 6   floors_total          23613 non-null  float64\n",
            " 7   living_area           21796 non-null  float64\n",
            " 8   floor                 23699 non-null  int64  \n",
            " 9   is_apartment          2775 non-null   object \n",
            " 10  studio                23699 non-null  bool   \n",
            " 11  open_plan             23699 non-null  bool   \n",
            " 12  kitchen_area          21421 non-null  float64\n",
            " 13  balcony               12180 non-null  float64\n",
            " 14  locality_name         23650 non-null  object \n",
            " 15  airports_nearest      18157 non-null  float64\n",
            " 16  cityCenters_nearest   18180 non-null  float64\n",
            " 17  parks_around3000      18181 non-null  float64\n",
            " 18  parks_nearest         8079 non-null   float64\n",
            " 19  ponds_around3000      18181 non-null  float64\n",
            " 20  ponds_nearest         9110 non-null   float64\n",
            " 21  days_exposition       20518 non-null  float64\n",
            "dtypes: bool(2), float64(14), int64(3), object(3)\n",
            "memory usage: 3.7+ MB\n"
          ]
        }
      ],
      "source": [
        "data.info() #Используем метод info, чтобы понять в каких строках есть пропуски"
      ]
    },
    {
      "cell_type": "code",
      "execution_count": null,
      "metadata": {
        "id": "0K1b77vDSn-3",
        "outputId": "47505874-cc6b-420d-faf3-5fa919872a4d"
      },
      "outputs": [
        {
          "data": {
            "text/plain": [
              "False    2725\n",
              "True       50\n",
              "Name: is_apartment, dtype: int64"
            ]
          },
          "execution_count": 8,
          "metadata": {},
          "output_type": "execute_result"
        }
      ],
      "source": [
        "data['is_apartment'].value_counts() #используем метод value_counts для поиска возможных закономерностей в столбцах с пропусками"
      ]
    },
    {
      "cell_type": "markdown",
      "metadata": {
        "id": "FXE2UuT2Sn-4"
      },
      "source": [
        "- Согласно информации из метода info, пропуски находятся в столбцах: ceiling_height, living_area, is_apartment, kitchen_area, balcony, airports_nearest, cityCenters_nearest, parks_around3000, parks_nearest,ponds_around3000,ponds_nearest, days_exposition                   \n",
        "Наибольшее число пропусков допущено в столбцах: ceiling_height, is_apartment, balcony, airports_nearest, cityCenters_nearest, parks_nearest, ponds_around3000, ponds_nearest.\n",
        "\n",
        "- Логически можно предположить, что в случае c перменными: ponds_around3000, parks_around3000, в случае отсуствия значения, это может быть истолковано как отсуствие указанных объектов в обозримом радиусе от дома, так как дом находится в какой-либо очень отдаленной области, так как судя по таблице, чаще всего значение отсуствет сразу по всем этим столбцам, в случае если речь идет о селах или поселках.\n",
        "\n",
        "- В случае отсуствия значения balcony это может быть истолковано как отстуствие балкона в квартире и заменено на 0.\n",
        "\n",
        "- В случае с переменной is_apartment, пропущенное значение по видимому означает, что это именно квартира а не апртаменты, соответственно значение должно быть заменено на False\n",
        "\n",
        "- Пропуски в parks_nearest, cityCenters_nearest, airports_nearest и ponds_nearest считаю ненужными к заполнению, из-за черезмерного колличества пропусков в них и как следствие сильном смещение картины в случае последующего анализа Гистограммы\n",
        "\n",
        "- Таким образом, логически не могут быть заменены только столбцы: ceiling_height, kitchen_area, которые в случае необходимости можно заменить медианным значением, однако сперва эти столбцы надо обработать приведя все к одному значению и удалив пики и неверные значения.\n",
        "\n",
        "- Также для чистоты эксперимента возможно пока их стоит оставить без изменений, так как пока неясно насколько они важны для анализа и с чем связаны пропуски в этих столбцах. А также столбец- living_area, который также можно заменить меиданной исходя из колличества комнат, если это будет необходимо. Значение floors_total нельзя заменить медианой, так как по некоторым квартирам мы знаем их этажность, соответственно медианна подойдет не везде.\n",
        "\n",
        "- Пропуски в  locality_name невозможно заполнить.\n",
        "\n",
        "- Пропуски в days_exposition тоже сложно определить, так как доскончально известно что все эти объявления были сняты с публикации иначе они бы не находилиь в архиве и по ним бы не была указана последняя цена на момент снятия с публикация, поэтому связь между пропуещнными значениями пока непонятна.\n",
        "\n",
        "- Пропуски скорее всего вызваны недостаточным колличеством данных в изначальном файле, из-за незаполнения этих пунктов продавцами недвижимости на сайте или же как в случае с картографисекими данными, отстусвием этих мест в максимальном рассматриваемом программой радиусе от дома.\n"
      ]
    },
    {
      "cell_type": "code",
      "execution_count": null,
      "metadata": {
        "id": "UH4qcGf1Sn-3",
        "outputId": "d6fb33b4-23d6-4443-892c-a62b970604df"
      },
      "outputs": [
        {
          "name": "stdout",
          "output_type": "stream",
          "text": [
            "<class 'pandas.core.frame.DataFrame'>\n",
            "RangeIndex: 23699 entries, 0 to 23698\n",
            "Data columns (total 22 columns):\n",
            " #   Column                Non-Null Count  Dtype  \n",
            "---  ------                --------------  -----  \n",
            " 0   total_images          23699 non-null  int64  \n",
            " 1   last_price            23699 non-null  float64\n",
            " 2   total_area            23699 non-null  float64\n",
            " 3   first_day_exposition  23699 non-null  object \n",
            " 4   rooms                 23699 non-null  int64  \n",
            " 5   ceiling_height        14504 non-null  float64\n",
            " 6   floors_total          23613 non-null  float64\n",
            " 7   living_area           21796 non-null  float64\n",
            " 8   floor                 23699 non-null  int64  \n",
            " 9   is_apartment          23699 non-null  object \n",
            " 10  studio                23699 non-null  bool   \n",
            " 11  open_plan             23699 non-null  bool   \n",
            " 12  kitchen_area          21421 non-null  float64\n",
            " 13  balcony               23699 non-null  float64\n",
            " 14  locality_name         23650 non-null  object \n",
            " 15  airports_nearest      18157 non-null  float64\n",
            " 16  cityCenters_nearest   18180 non-null  float64\n",
            " 17  parks_around3000      23699 non-null  float64\n",
            " 18  parks_nearest         8079 non-null   float64\n",
            " 19  ponds_around3000      23699 non-null  float64\n",
            " 20  ponds_nearest         9110 non-null   float64\n",
            " 21  days_exposition       20518 non-null  float64\n",
            "dtypes: bool(2), float64(14), int64(3), object(3)\n",
            "memory usage: 3.7+ MB\n"
          ]
        }
      ],
      "source": [
        "#устраняем пропуски в столбцах с картографическими данными\n",
        "data['parks_around3000'] = data['parks_around3000'].fillna(0)\n",
        "data['ponds_around3000'] = data['ponds_around3000'].fillna(0)\n",
        "# и столбцах с пользовательскими данными, в которых пропуски можно логически устранить\n",
        "data['is_apartment'] = data['is_apartment'].fillna('False')\n",
        "data['balcony'] = data['balcony'].fillna(0)\n",
        "# проверяем результат\n",
        "data.info()"
      ]
    },
    {
      "cell_type": "code",
      "execution_count": null,
      "metadata": {
        "id": "Bse5RZR9Sn-6",
        "outputId": "87d6794c-879a-48d9-d15d-3dcaf809ceaf"
      },
      "outputs": [
        {
          "data": {
            "text/html": [
              "<div>\n",
              "<style scoped>\n",
              "    .dataframe tbody tr th:only-of-type {\n",
              "        vertical-align: middle;\n",
              "    }\n",
              "\n",
              "    .dataframe tbody tr th {\n",
              "        vertical-align: top;\n",
              "    }\n",
              "\n",
              "    .dataframe thead th {\n",
              "        text-align: right;\n",
              "    }\n",
              "</style>\n",
              "<table border=\"1\" class=\"dataframe\">\n",
              "  <thead>\n",
              "    <tr style=\"text-align: right;\">\n",
              "      <th></th>\n",
              "      <th>total_images</th>\n",
              "      <th>last_price</th>\n",
              "      <th>total_area</th>\n",
              "      <th>first_day_exposition</th>\n",
              "      <th>rooms</th>\n",
              "      <th>ceiling_height</th>\n",
              "      <th>floors_total</th>\n",
              "      <th>living_area</th>\n",
              "      <th>floor</th>\n",
              "      <th>is_apartment</th>\n",
              "      <th>...</th>\n",
              "      <th>kitchen_area</th>\n",
              "      <th>balcony</th>\n",
              "      <th>locality_name</th>\n",
              "      <th>airports_nearest</th>\n",
              "      <th>cityCenters_nearest</th>\n",
              "      <th>parks_around3000</th>\n",
              "      <th>parks_nearest</th>\n",
              "      <th>ponds_around3000</th>\n",
              "      <th>ponds_nearest</th>\n",
              "      <th>days_exposition</th>\n",
              "    </tr>\n",
              "  </thead>\n",
              "  <tbody>\n",
              "  </tbody>\n",
              "</table>\n",
              "<p>0 rows × 22 columns</p>\n",
              "</div>"
            ],
            "text/plain": [
              "Empty DataFrame\n",
              "Columns: [total_images, last_price, total_area, first_day_exposition, rooms, ceiling_height, floors_total, living_area, floor, is_apartment, studio, open_plan, kitchen_area, balcony, locality_name, airports_nearest, cityCenters_nearest, parks_around3000, parks_nearest, ponds_around3000, ponds_nearest, days_exposition]\n",
              "Index: []\n",
              "\n",
              "[0 rows x 22 columns]"
            ]
          },
          "metadata": {},
          "output_type": "display_data"
        },
        {
          "data": {
            "text/plain": [
              "0"
            ]
          },
          "execution_count": 10,
          "metadata": {},
          "output_type": "execute_result"
        }
      ],
      "source": [
        "# Проверим данные на дубликаты\n",
        "data_dup = data[data.duplicated()]\n",
        "display(data_dup)\n",
        "data.duplicated().sum()"
      ]
    },
    {
      "cell_type": "markdown",
      "metadata": {
        "id": "AkYkGSE2Sn-6"
      },
      "source": [
        "2. Работаем с типами данных в каждом столбце"
      ]
    },
    {
      "cell_type": "code",
      "execution_count": null,
      "metadata": {
        "id": "4A_1NRnJSn-7",
        "outputId": "7a6b8927-98b5-4b08-b1cb-4c318b9eb135"
      },
      "outputs": [
        {
          "name": "stdout",
          "output_type": "stream",
          "text": [
            "<class 'pandas.core.frame.DataFrame'>\n",
            "RangeIndex: 23699 entries, 0 to 23698\n",
            "Data columns (total 22 columns):\n",
            " #   Column                Non-Null Count  Dtype  \n",
            "---  ------                --------------  -----  \n",
            " 0   total_images          23699 non-null  int64  \n",
            " 1   last_price            23699 non-null  float64\n",
            " 2   total_area            23699 non-null  float64\n",
            " 3   first_day_exposition  23699 non-null  object \n",
            " 4   rooms                 23699 non-null  int64  \n",
            " 5   ceiling_height        14504 non-null  float64\n",
            " 6   floors_total          23613 non-null  float64\n",
            " 7   living_area           21796 non-null  float64\n",
            " 8   floor                 23699 non-null  int64  \n",
            " 9   is_apartment          23699 non-null  object \n",
            " 10  studio                23699 non-null  bool   \n",
            " 11  open_plan             23699 non-null  bool   \n",
            " 12  kitchen_area          21421 non-null  float64\n",
            " 13  balcony               23699 non-null  float64\n",
            " 14  locality_name         23650 non-null  object \n",
            " 15  airports_nearest      18157 non-null  float64\n",
            " 16  cityCenters_nearest   18180 non-null  float64\n",
            " 17  parks_around3000      23699 non-null  float64\n",
            " 18  parks_nearest         8079 non-null   float64\n",
            " 19  ponds_around3000      23699 non-null  float64\n",
            " 20  ponds_nearest         9110 non-null   float64\n",
            " 21  days_exposition       20518 non-null  float64\n",
            "dtypes: bool(2), float64(14), int64(3), object(3)\n",
            "memory usage: 3.7+ MB\n"
          ]
        }
      ],
      "source": [
        "data.info() #Используем метод info, чтобы понять в каких строках какие типы данных содержатся"
      ]
    },
    {
      "cell_type": "markdown",
      "metadata": {
        "id": "GhI8XltOSn-8"
      },
      "source": [
        "- first_day_exposition  23699 non-null  object  - должны быть дата и время, datetime64\n",
        "- is_apartment          23699 non-null  object - должно быть bool, так как там значения True/False\n",
        "- balcony 23699 non-null  float64 - только целые числа с колличеством объектов, дробей быть не может, должно быть- int64\n",
        "- parks_around3000 23699 non-null  float64 - только целые числа с колличеством объектов, дробей быть не может, должно быть- int64\n",
        "- ponds_around3000 23699 non-null  float64 - только целые числа с колличеством объектов, дробей быть не может, должно быть- int64\n",
        "- days_exposition 20518 non-null  float64 - количественная переменная с кол-вом дней, дробей быть не может, должно быть- int64\n",
        "- last_price - float64 - эта переменная содержит стоиомсть квартиры, маловероятно что кто-то считает стоимость в копейках, поэтому приведем данные к типу int"
      ]
    },
    {
      "cell_type": "code",
      "execution_count": null,
      "metadata": {
        "id": "CMTQC4yOSn-8",
        "outputId": "872a373f-ade3-4fff-9fad-70c0c280b877"
      },
      "outputs": [
        {
          "name": "stdout",
          "output_type": "stream",
          "text": [
            "<class 'pandas.core.frame.DataFrame'>\n",
            "RangeIndex: 23699 entries, 0 to 23698\n",
            "Data columns (total 22 columns):\n",
            " #   Column                Non-Null Count  Dtype         \n",
            "---  ------                --------------  -----         \n",
            " 0   total_images          23699 non-null  int64         \n",
            " 1   last_price            23699 non-null  float64       \n",
            " 2   total_area            23699 non-null  float64       \n",
            " 3   first_day_exposition  23699 non-null  datetime64[ns]\n",
            " 4   rooms                 23699 non-null  int64         \n",
            " 5   ceiling_height        14504 non-null  float64       \n",
            " 6   floors_total          23613 non-null  float64       \n",
            " 7   living_area           21796 non-null  float64       \n",
            " 8   floor                 23699 non-null  int64         \n",
            " 9   is_apartment          23699 non-null  object        \n",
            " 10  studio                23699 non-null  bool          \n",
            " 11  open_plan             23699 non-null  bool          \n",
            " 12  kitchen_area          21421 non-null  float64       \n",
            " 13  balcony               23699 non-null  int64         \n",
            " 14  locality_name         23650 non-null  object        \n",
            " 15  airports_nearest      18157 non-null  float64       \n",
            " 16  cityCenters_nearest   18180 non-null  float64       \n",
            " 17  parks_around3000      23699 non-null  int64         \n",
            " 18  parks_nearest         8079 non-null   float64       \n",
            " 19  ponds_around3000      23699 non-null  int64         \n",
            " 20  ponds_nearest         9110 non-null   float64       \n",
            " 21  days_exposition       20518 non-null  float64       \n",
            "dtypes: bool(2), datetime64[ns](1), float64(11), int64(6), object(2)\n",
            "memory usage: 3.7+ MB\n"
          ]
        }
      ],
      "source": [
        "# преобразуем данные в необходимый формат\n",
        "data['balcony'] = data['balcony'].astype('int')\n",
        "data['parks_around3000'] = data['parks_around3000'].astype('int')\n",
        "data['ponds_around3000'] = data['ponds_around3000'].astype('int')\n",
        "data['days_exposition'] = data['days_exposition'].astype('int', errors='ignore')\n",
        "data['first_day_exposition'] = pd.to_datetime(data['first_day_exposition'], format='%Y-%m-%dT%H:%M:%S')\n",
        "data['last_price'] = data['last_price'].astype('int')\n",
        "# проверяем результат\n",
        "data.info()"
      ]
    },
    {
      "cell_type": "markdown",
      "metadata": {
        "id": "9RlI_0-BSn--"
      },
      "source": [
        "3. Устраняем неявные дубликаты"
      ]
    },
    {
      "cell_type": "code",
      "execution_count": null,
      "metadata": {
        "id": "ohga6ZvOSn--",
        "outputId": "a574b3c7-8fc3-4455-8a71-d4b819ee606a"
      },
      "outputs": [
        {
          "data": {
            "text/plain": [
              "array(['Санкт-Петербург', 'посёлок Шушары', 'городской посёлок Янино-1',\n",
              "       'посёлок Парголово', 'посёлок Мурино', 'Ломоносов', 'Сертолово',\n",
              "       'Петергоф', 'Пушкин', 'деревня Кудрово', 'Коммунар', 'Колпино',\n",
              "       'поселок городского типа Красный Бор', 'Гатчина', 'поселок Мурино',\n",
              "       'деревня Фёдоровское', 'Выборг', 'Кронштадт', 'Кировск',\n",
              "       'деревня Новое Девяткино', 'посёлок Металлострой',\n",
              "       'посёлок городского типа Лебяжье',\n",
              "       'посёлок городского типа Сиверский', 'поселок Молодцово',\n",
              "       'поселок городского типа Кузьмоловский',\n",
              "       'садовое товарищество Новая Ропша', 'Павловск',\n",
              "       'деревня Пикколово', 'Всеволожск', 'Волхов', 'Кингисепп',\n",
              "       'Приозерск', 'Сестрорецк', 'деревня Куттузи', 'посёлок Аннино',\n",
              "       'поселок городского типа Ефимовский', 'посёлок Плодовое',\n",
              "       'деревня Заклинье', 'поселок Торковичи', 'поселок Первомайское',\n",
              "       'Красное Село', 'посёлок Понтонный', 'Сясьстрой', 'деревня Старая',\n",
              "       'деревня Лесколово', 'посёлок Новый Свет', 'Сланцы',\n",
              "       'село Путилово', 'Ивангород', 'Мурино', 'Шлиссельбург',\n",
              "       'Никольское', 'Зеленогорск', 'Сосновый Бор', 'поселок Новый Свет',\n",
              "       'деревня Оржицы', 'деревня Кальтино', 'Кудрово',\n",
              "       'поселок Романовка', 'посёлок Бугры', 'поселок Бугры',\n",
              "       'поселок городского типа Рощино', 'Кириши', 'Луга', 'Волосово',\n",
              "       'Отрадное', 'село Павлово', 'поселок Оредеж', 'село Копорье',\n",
              "       'посёлок городского типа Красный Бор', 'посёлок Молодёжное',\n",
              "       'Тихвин', 'посёлок Победа', 'деревня Нурма',\n",
              "       'поселок городского типа Синявино', 'Тосно',\n",
              "       'посёлок городского типа Кузьмоловский', 'посёлок Стрельна',\n",
              "       'Бокситогорск', 'посёлок Александровская', 'деревня Лопухинка',\n",
              "       'Пикалёво', 'поселок Терволово',\n",
              "       'поселок городского типа Советский', 'Подпорожье',\n",
              "       'посёлок Петровское', 'посёлок городского типа Токсово',\n",
              "       'поселок Сельцо', 'посёлок городского типа Вырица',\n",
              "       'деревня Кипень', 'деревня Келози', 'деревня Вартемяги',\n",
              "       'посёлок Тельмана', 'поселок Севастьяново',\n",
              "       'городской поселок Большая Ижора', nan,\n",
              "       'городской посёлок Павлово', 'деревня Агалатово',\n",
              "       'посёлок Новогорелово', 'городской посёлок Лесогорский',\n",
              "       'деревня Лаголово', 'поселок Цвелодубово',\n",
              "       'поселок городского типа Рахья', 'поселок городского типа Вырица',\n",
              "       'деревня Белогорка', 'поселок Заводской',\n",
              "       'городской посёлок Новоселье', 'деревня Большие Колпаны',\n",
              "       'деревня Горбунки', 'деревня Батово', 'деревня Заневка',\n",
              "       'деревня Иссад', 'Приморск', 'городской посёлок Фёдоровское',\n",
              "       'деревня Мистолово', 'Новая Ладога', 'поселок Зимитицы',\n",
              "       'поселок Барышево', 'деревня Разметелево',\n",
              "       'поселок городского типа имени Свердлова', 'деревня Пеники',\n",
              "       'поселок Рябово', 'деревня Пудомяги', 'поселок станции Корнево',\n",
              "       'деревня Низино', 'деревня Бегуницы', 'посёлок Поляны',\n",
              "       'городской посёлок Мга', 'поселок Елизаветино',\n",
              "       'посёлок городского типа Кузнечное', 'деревня Колтуши',\n",
              "       'поселок Запорожское', 'посёлок городского типа Рощино',\n",
              "       'деревня Гостилицы', 'деревня Малое Карлино',\n",
              "       'посёлок Мичуринское', 'посёлок городского типа имени Морозова',\n",
              "       'посёлок Песочный', 'посёлок Сосново', 'деревня Аро',\n",
              "       'поселок Ильичёво', 'посёлок городского типа Тайцы',\n",
              "       'деревня Малое Верево', 'деревня Извара', 'поселок станции Вещево',\n",
              "       'село Паша', 'деревня Калитино',\n",
              "       'посёлок городского типа Ульяновка', 'деревня Чудской Бор',\n",
              "       'поселок городского типа Дубровка', 'деревня Мины',\n",
              "       'поселок Войсковицы', 'посёлок городского типа имени Свердлова',\n",
              "       'деревня Коркино', 'посёлок Ропша',\n",
              "       'поселок городского типа Приладожский', 'посёлок Щеглово',\n",
              "       'посёлок Гаврилово', 'Лодейное Поле', 'деревня Рабитицы',\n",
              "       'поселок городского типа Никольский', 'деревня Кузьмолово',\n",
              "       'деревня Малые Колпаны', 'поселок Тельмана',\n",
              "       'посёлок Петро-Славянка', 'городской посёлок Назия',\n",
              "       'посёлок Репино', 'посёлок Ильичёво', 'поселок Углово',\n",
              "       'поселок Старая Малукса', 'садовое товарищество Рахья',\n",
              "       'поселок Аннино', 'поселок Победа', 'деревня Меньково',\n",
              "       'деревня Старые Бегуницы', 'посёлок Сапёрный', 'поселок Семрино',\n",
              "       'поселок Гаврилово', 'поселок Глажево', 'поселок Кобринское',\n",
              "       'деревня Гарболово', 'деревня Юкки',\n",
              "       'поселок станции Приветнинское', 'деревня Мануйлово',\n",
              "       'деревня Пчева', 'поселок Поляны', 'поселок Цвылёво',\n",
              "       'поселок Мельниково', 'посёлок Пудость', 'посёлок Усть-Луга',\n",
              "       'Светогорск', 'Любань', 'поселок Селезнёво',\n",
              "       'поселок городского типа Рябово', 'Каменногорск', 'деревня Кривко',\n",
              "       'поселок Глебычево', 'деревня Парицы', 'поселок Жилпосёлок',\n",
              "       'посёлок городского типа Мга', 'городской поселок Янино-1',\n",
              "       'посёлок Войскорово', 'село Никольское', 'посёлок Терволово',\n",
              "       'поселок Стеклянный', 'посёлок городского типа Важины',\n",
              "       'посёлок Мыза-Ивановка', 'село Русско-Высоцкое',\n",
              "       'поселок городского типа Лебяжье',\n",
              "       'поселок городского типа Форносово', 'село Старая Ладога',\n",
              "       'поселок Житково', 'городской посёлок Виллози', 'деревня Лампово',\n",
              "       'деревня Шпаньково', 'деревня Лаврики', 'посёлок Сумино',\n",
              "       'посёлок Возрождение', 'деревня Старосиверская',\n",
              "       'посёлок Кикерино', 'поселок Возрождение',\n",
              "       'деревня Старое Хинколово', 'посёлок Пригородный',\n",
              "       'посёлок Торфяное', 'городской посёлок Будогощь',\n",
              "       'поселок Суходолье', 'поселок Красная Долина', 'деревня Хапо-Ое',\n",
              "       'поселок городского типа Дружная Горка', 'поселок Лисий Нос',\n",
              "       'деревня Яльгелево', 'посёлок Стеклянный', 'село Рождествено',\n",
              "       'деревня Старополье', 'посёлок Левашово', 'деревня Сяськелево',\n",
              "       'деревня Камышовка',\n",
              "       'садоводческое некоммерческое товарищество Лесная Поляна',\n",
              "       'деревня Хязельки', 'поселок Жилгородок',\n",
              "       'посёлок городского типа Павлово', 'деревня Ялгино',\n",
              "       'поселок Новый Учхоз', 'городской посёлок Рощино',\n",
              "       'поселок Гончарово', 'поселок Почап', 'посёлок Сапёрное',\n",
              "       'посёлок Платформа 69-й километр', 'поселок Каложицы',\n",
              "       'деревня Фалилеево', 'деревня Пельгора',\n",
              "       'поселок городского типа Лесогорский', 'деревня Торошковичи',\n",
              "       'посёлок Белоостров', 'посёлок Алексеевка', 'поселок Серебрянский',\n",
              "       'поселок Лукаши', 'поселок Петровское', 'деревня Щеглово',\n",
              "       'поселок Мичуринское', 'деревня Тарасово', 'поселок Кингисеппский',\n",
              "       'посёлок при железнодорожной станции Вещево', 'поселок Ушаки',\n",
              "       'деревня Котлы', 'деревня Сижно', 'деревня Торосово',\n",
              "       'посёлок Форт Красная Горка', 'поселок городского типа Токсово',\n",
              "       'деревня Новолисино', 'посёлок станции Громово', 'деревня Глинка',\n",
              "       'посёлок Мельниково', 'поселок городского типа Назия',\n",
              "       'деревня Старая Пустошь', 'поселок Коммунары', 'поселок Починок',\n",
              "       'посёлок городского типа Вознесенье', 'деревня Разбегаево',\n",
              "       'посёлок городского типа Рябово', 'поселок Гладкое',\n",
              "       'посёлок при железнодорожной станции Приветнинское',\n",
              "       'поселок Тёсово-4', 'посёлок Жилгородок', 'деревня Бор',\n",
              "       'посёлок Коробицыно', 'деревня Большая Вруда', 'деревня Курковицы',\n",
              "       'посёлок Лисий Нос', 'городской посёлок Советский',\n",
              "       'посёлок Кобралово', 'деревня Суоранда', 'поселок Кобралово',\n",
              "       'поселок городского типа Кондратьево',\n",
              "       'коттеджный поселок Счастье', 'поселок Любань', 'деревня Реброво',\n",
              "       'деревня Зимитицы', 'деревня Тойворово', 'поселок Семиозерье',\n",
              "       'поселок Лесное', 'поселок Совхозный', 'поселок Усть-Луга',\n",
              "       'посёлок Ленинское', 'посёлок Суйда',\n",
              "       'посёлок городского типа Форносово', 'деревня Нижние Осельки',\n",
              "       'посёлок станции Свирь', 'поселок Перово', 'Высоцк',\n",
              "       'поселок Гарболово', 'село Шум', 'поселок Котельский',\n",
              "       'поселок станции Лужайка', 'деревня Большая Пустомержа',\n",
              "       'поселок Красносельское', 'деревня Вахнова Кара', 'деревня Пижма',\n",
              "       'коттеджный поселок Кивеннапа Север', 'поселок Коробицыно',\n",
              "       'поселок Ромашки', 'посёлок Перово', 'деревня Каськово',\n",
              "       'деревня Куровицы', 'посёлок Плоское', 'поселок Сумино',\n",
              "       'поселок городского типа Большая Ижора', 'поселок Кирпичное',\n",
              "       'деревня Ям-Тесово', 'деревня Раздолье', 'деревня Терпилицы',\n",
              "       'посёлок Шугозеро', 'деревня Ваганово', 'поселок Пушное',\n",
              "       'садовое товарищество Садко', 'посёлок Усть-Ижора',\n",
              "       'деревня Выскатка', 'городской посёлок Свирьстрой',\n",
              "       'поселок Громово', 'деревня Кисельня', 'посёлок Старая Малукса',\n",
              "       'деревня Трубников Бор', 'поселок Калитино',\n",
              "       'посёлок Высокоключевой', 'садовое товарищество Приладожский',\n",
              "       'посёлок Пансионат Зелёный Бор', 'деревня Ненимяки',\n",
              "       'поселок Пансионат Зелёный Бор', 'деревня Снегирёвка',\n",
              "       'деревня Рапполово', 'деревня Пустынка', 'поселок Рабитицы',\n",
              "       'деревня Большой Сабск', 'деревня Русско', 'деревня Лупполово',\n",
              "       'деревня Большое Рейзино', 'деревня Малая Романовка',\n",
              "       'поселок Дружноселье', 'поселок Пчевжа', 'поселок Володарское',\n",
              "       'деревня Нижняя', 'коттеджный посёлок Лесное', 'деревня Тихковицы',\n",
              "       'деревня Борисова Грива', 'посёлок Дзержинского'], dtype=object)"
            ]
          },
          "execution_count": 14,
          "metadata": {},
          "output_type": "execute_result"
        }
      ],
      "source": [
        "data['locality_name'].unique() #смотрим список уникальных значений в столбце"
      ]
    },
    {
      "cell_type": "code",
      "execution_count": null,
      "metadata": {
        "id": "xHKgeedcSn-_",
        "outputId": "46b1ec50-4c93-4e13-84a5-35f3ab71e962"
      },
      "outputs": [
        {
          "data": {
            "text/plain": [
              "array(['Санкт-Петербург', 'посёлок Шушары', 'посёлок Янино-1',\n",
              "       'посёлок Парголово', 'посёлок Мурино', 'Ломоносов', 'Сертолово',\n",
              "       'Петергоф', 'Пушкин', 'деревня Кудрово', 'Коммунар', 'Колпино',\n",
              "       'посёлок Красный Бор', 'Гатчина', 'деревня Фёдоровское', 'Выборг',\n",
              "       'Кронштадт', 'Кировск', 'деревня Новое Девяткино',\n",
              "       'посёлок Металлострой', 'посёлок Лебяжье', 'посёлок Сиверский',\n",
              "       'посёлок Молодцово', 'посёлок Кузьмоловский',\n",
              "       'посёлок Новая Ропша', 'Павловск', 'деревня Пикколово',\n",
              "       'Всеволожск', 'Волхов', 'Кингисепп', 'Приозерск', 'Сестрорецк',\n",
              "       'деревня Куттузи', 'посёлок Аннино', 'посёлок Ефимовский',\n",
              "       'посёлок Плодовое', 'деревня Заклинье', 'посёлок Торковичи',\n",
              "       'посёлок Первомайское', 'Красное Село', 'посёлок Понтонный',\n",
              "       'Сясьстрой', 'деревня Старая', 'деревня Лесколово',\n",
              "       'посёлок Новый Свет', 'Сланцы', 'село Путилово', 'Ивангород',\n",
              "       'Мурино', 'Шлиссельбург', 'Никольское', 'Зеленогорск',\n",
              "       'Сосновый Бор', 'деревня Оржицы', 'деревня Кальтино', 'Кудрово',\n",
              "       'посёлок Романовка', 'посёлок Бугры', 'посёлок Рощино', 'Кириши',\n",
              "       'Луга', 'Волосово', 'Отрадное', 'село Павлово', 'посёлок Оредеж',\n",
              "       'село Копорье', 'посёлок Молодёжное', 'Тихвин', 'посёлок Победа',\n",
              "       'деревня Нурма', 'посёлок Синявино', 'Тосно', 'посёлок Стрельна',\n",
              "       'Бокситогорск', 'посёлок Александровская', 'деревня Лопухинка',\n",
              "       'Пикалёво', 'посёлок Терволово', 'посёлок Советский', 'Подпорожье',\n",
              "       'посёлок Петровское', 'посёлок Токсово', 'посёлок Сельцо',\n",
              "       'посёлок Вырица', 'деревня Кипень', 'деревня Келози',\n",
              "       'деревня Вартемяги', 'посёлок Тельмана', 'посёлок Севастьяново',\n",
              "       'посёлок Большая Ижора', nan, 'посёлок Павлово',\n",
              "       'деревня Агалатово', 'посёлок Новогорелово', 'посёлок Лесогорский',\n",
              "       'деревня Лаголово', 'посёлок Цвелодубово', 'посёлок Рахья',\n",
              "       'деревня Белогорка', 'посёлок Заводской', 'посёлок Новоселье',\n",
              "       'деревня Большие Колпаны', 'деревня Горбунки', 'деревня Батово',\n",
              "       'деревня Заневка', 'деревня Иссад', 'Приморск',\n",
              "       'посёлок Фёдоровское', 'деревня Мистолово', 'Новая Ладога',\n",
              "       'посёлок Зимитицы', 'посёлок Барышево', 'деревня Разметелево',\n",
              "       'посёлок имени Свердлова', 'деревня Пеники', 'посёлок Рябово',\n",
              "       'деревня Пудомяги', 'посёлок станции Корнево', 'деревня Низино',\n",
              "       'деревня Бегуницы', 'посёлок Поляны', 'посёлок Мга',\n",
              "       'посёлок Елизаветино', 'посёлок Кузнечное', 'деревня Колтуши',\n",
              "       'посёлок Запорожское', 'деревня Гостилицы',\n",
              "       'деревня Малое Карлино', 'посёлок Мичуринское',\n",
              "       'посёлок имени Морозова', 'посёлок Песочный', 'посёлок Сосново',\n",
              "       'деревня Аро', 'посёлок Ильичёво', 'посёлок Тайцы',\n",
              "       'деревня Малое Верево', 'деревня Извара', 'посёлок станции Вещево',\n",
              "       'село Паша', 'деревня Калитино', 'посёлок Ульяновка',\n",
              "       'деревня Чудской Бор', 'посёлок Дубровка', 'деревня Мины',\n",
              "       'посёлок Войсковицы', 'деревня Коркино', 'посёлок Ропша',\n",
              "       'посёлок Приладожский', 'посёлок Щеглово', 'посёлок Гаврилово',\n",
              "       'Лодейное Поле', 'деревня Рабитицы', 'посёлок Никольский',\n",
              "       'деревня Кузьмолово', 'деревня Малые Колпаны',\n",
              "       'посёлок Петро-Славянка', 'посёлок Назия', 'посёлок Репино',\n",
              "       'посёлок Углово', 'посёлок Старая Малукса', 'деревня Меньково',\n",
              "       'деревня Старые Бегуницы', 'посёлок Сапёрный', 'посёлок Семрино',\n",
              "       'посёлок Глажево', 'посёлок Кобринское', 'деревня Гарболово',\n",
              "       'деревня Юкки', 'посёлок станции Приветнинское',\n",
              "       'деревня Мануйлово', 'деревня Пчева', 'посёлок Цвылёво',\n",
              "       'посёлок Мельниково', 'посёлок Пудость', 'посёлок Усть-Луга',\n",
              "       'Светогорск', 'Любань', 'посёлок Селезнёво', 'Каменногорск',\n",
              "       'деревня Кривко', 'посёлок Глебычево', 'деревня Парицы',\n",
              "       'посёлок Жилпосёлок', 'посёлок Войскорово', 'село Никольское',\n",
              "       'посёлок Стеклянный', 'посёлок Важины', 'посёлок Мыза-Ивановка',\n",
              "       'село Русско-Высоцкое', 'посёлок Форносово', 'село Старая Ладога',\n",
              "       'посёлок Житково', 'посёлок Виллози', 'деревня Лампово',\n",
              "       'деревня Шпаньково', 'деревня Лаврики', 'посёлок Сумино',\n",
              "       'посёлок Возрождение', 'деревня Старосиверская',\n",
              "       'посёлок Кикерино', 'деревня Старое Хинколово',\n",
              "       'посёлок Пригородный', 'посёлок Торфяное', 'посёлок Будогощь',\n",
              "       'посёлок Суходолье', 'посёлок Красная Долина', 'деревня Хапо-Ое',\n",
              "       'посёлок Дружная Горка', 'посёлок Лисий Нос', 'деревня Яльгелево',\n",
              "       'село Рождествено', 'деревня Старополье', 'посёлок Левашово',\n",
              "       'деревня Сяськелево', 'деревня Камышовка',\n",
              "       'садоводческое некоммерческое товарищество Лесная Поляна',\n",
              "       'деревня Хязельки', 'посёлок Жилгородок', 'деревня Ялгино',\n",
              "       'посёлок Новый Учхоз', 'посёлок Гончарово', 'посёлок Почап',\n",
              "       'посёлок Сапёрное', 'посёлок Платформа 69-й километр',\n",
              "       'посёлок Каложицы', 'деревня Фалилеево', 'деревня Пельгора',\n",
              "       'деревня Торошковичи', 'посёлок Белоостров', 'посёлок Алексеевка',\n",
              "       'посёлок Серебрянский', 'посёлок Лукаши', 'деревня Щеглово',\n",
              "       'деревня Тарасово', 'посёлок Кингисеппский',\n",
              "       'посёлок при железнодорожной станции Вещево', 'посёлок Ушаки',\n",
              "       'деревня Котлы', 'деревня Сижно', 'деревня Торосово',\n",
              "       'посёлок Форт Красная Горка', 'деревня Новолисино',\n",
              "       'посёлок станции Громово', 'деревня Глинка',\n",
              "       'деревня Старая Пустошь', 'посёлок Коммунары', 'посёлок Починок',\n",
              "       'посёлок Вознесенье', 'деревня Разбегаево', 'посёлок Гладкое',\n",
              "       'посёлок при железнодорожной станции Приветнинское',\n",
              "       'посёлок Тёсово-4', 'деревня Бор', 'посёлок Коробицыно',\n",
              "       'деревня Большая Вруда', 'деревня Курковицы', 'посёлок Кобралово',\n",
              "       'деревня Суоранда', 'посёлок Кондратьево', 'посёлок Счастье',\n",
              "       'посёлок Любань', 'деревня Реброво', 'деревня Зимитицы',\n",
              "       'деревня Тойворово', 'посёлок Семиозерье', 'посёлок Лесное',\n",
              "       'посёлок Совхозный', 'посёлок Ленинское', 'посёлок Суйда',\n",
              "       'деревня Нижние Осельки', 'посёлок станции Свирь',\n",
              "       'посёлок Перово', 'Высоцк', 'посёлок Гарболово', 'село Шум',\n",
              "       'посёлок Котельский', 'посёлок станции Лужайка',\n",
              "       'деревня Большая Пустомержа', 'посёлок Красносельское',\n",
              "       'деревня Вахнова Кара', 'деревня Пижма', 'посёлок Кивеннапа Север',\n",
              "       'посёлок Ромашки', 'деревня Каськово', 'деревня Куровицы',\n",
              "       'посёлок Плоское', 'посёлок Кирпичное', 'деревня Ям-Тесово',\n",
              "       'деревня Раздолье', 'деревня Терпилицы', 'посёлок Шугозеро',\n",
              "       'деревня Ваганово', 'посёлок Пушное', 'посёлок Садко',\n",
              "       'посёлок Усть-Ижора', 'деревня Выскатка', 'посёлок Свирьстрой',\n",
              "       'посёлок Громово', 'деревня Кисельня', 'деревня Трубников Бор',\n",
              "       'посёлок Калитино', 'посёлок Высокоключевой',\n",
              "       'посёлок Пансионат Зелёный Бор', 'деревня Ненимяки',\n",
              "       'деревня Снегирёвка', 'деревня Рапполово', 'деревня Пустынка',\n",
              "       'посёлок Рабитицы', 'деревня Большой Сабск', 'деревня Русско',\n",
              "       'деревня Лупполово', 'деревня Большое Рейзино',\n",
              "       'деревня Малая Романовка', 'посёлок Дружноселье', 'посёлок Пчевжа',\n",
              "       'посёлок Володарское', 'деревня Нижняя', 'деревня Тихковицы',\n",
              "       'деревня Борисова Грива', 'посёлок Дзержинского'], dtype=object)"
            ]
          },
          "execution_count": 15,
          "metadata": {},
          "output_type": "execute_result"
        }
      ],
      "source": [
        "data[\"locality_name\"] = data[\"locality_name\"].str.replace(\"поселок\", \"посёлок\")\n",
        "data[\"locality_name\"] = data[\"locality_name\"].str.replace(\"посёлок городского типа\", \"посёлок\")\n",
        "data[\"locality_name\"] = data[\"locality_name\"].str.replace(\"городской посёлок\", \"посёлок\")\n",
        "data[\"locality_name\"] = data[\"locality_name\"].str.replace(\"коттеджный посёлок\", \"посёлок\")\n",
        "data[\"locality_name\"] = data[\"locality_name\"].str.replace(\"садовое товарищество\", \"посёлок\")\n",
        "# заменяем все эти знаечения на поселок, как так с точки зрения географических названий, все нахвание выше ничем не отличаются от названия территориальной единицы- поселок\n",
        "# проверяем результат\n",
        "data['locality_name'].unique()"
      ]
    },
    {
      "cell_type": "markdown",
      "metadata": {
        "id": "lvRQtkEtSn_I"
      },
      "source": [
        "4. Устраняем редкие и выбивающиеся значения"
      ]
    },
    {
      "cell_type": "code",
      "execution_count": null,
      "metadata": {
        "scrolled": true,
        "id": "bT_OpT5dSn_J",
        "outputId": "fb19c065-3c14-40bd-ae6c-c9eac535994f"
      },
      "outputs": [
        {
          "data": {
            "image/png": "[encoded data removed]",
            "text/plain": [
              "<Figure size 432x288 with 1 Axes>"
            ]
          },
          "metadata": {
            "needs_background": "light"
          },
          "output_type": "display_data"
        }
      ],
      "source": [
        "# Устраняем выбросы в столбце \"ceiling_height\"\n",
        "import matplotlib.pyplot as plt\n",
        "plt.ylim(1, 10)\n",
        "data.boxplot('ceiling_height')\n",
        "data['ceiling_height'].describe()\n",
        "# Находим с помощью диаграммы размаха выбросы и устраняем их, следя за тем, что бы строки с отсуствуюещими значениями не были удалены\n",
        "# Так как наличие потолков выше 3.2 метров и менее 2 кажется крайне маловероятным, удаляем выбивающееся значения\n",
        "data = data.query('2 < ceiling_height < 3.2 or ceiling_height.isna()')"
      ]
    },
    {
      "cell_type": "code",
      "execution_count": null,
      "metadata": {
        "id": "X03giNlvSn_K",
        "outputId": "d0366533-11d4-43e0-fed1-d02590cc271c"
      },
      "outputs": [
        {
          "data": {
            "image/png": "[encoded data removed]",
            "text/plain": [
              "<Figure size 432x288 with 1 Axes>"
            ]
          },
          "metadata": {
            "needs_background": "light"
          },
          "output_type": "display_data"
        }
      ],
      "source": [
        "# Проверяем столбец \"airports_nearest\"\n",
        "data.boxplot('airports_nearest')\n",
        "# Выбросов не так много, можем удалить их без опасений\n",
        "data = data.query('airports_nearest < 70000 or airports_nearest.isna()')"
      ]
    },
    {
      "cell_type": "code",
      "execution_count": null,
      "metadata": {
        "id": "xV_KyTXGSn_K",
        "outputId": "720f5cc5-9bd2-401d-b4dc-2266e395e038"
      },
      "outputs": [
        {
          "data": {
            "text/plain": [
              "<AxesSubplot:>"
            ]
          },
          "execution_count": 18,
          "metadata": {},
          "output_type": "execute_result"
        },
        {
          "data": {
            "image/png": "[encoded data removed]",
            "text/plain": [
              "<Figure size 432x288 with 1 Axes>"
            ]
          },
          "metadata": {
            "needs_background": "light"
          },
          "output_type": "display_data"
        }
      ],
      "source": [
        "# Проверяем столбец \"cityCenters_nearest\"\n",
        "data.boxplot('cityCenters_nearest')\n",
        "# Природа выбросов нам непонятна и велик шанс удалить лишнее, оставляем столбец без измененией"
      ]
    },
    {
      "cell_type": "code",
      "execution_count": null,
      "metadata": {
        "id": "5WPGM3WuSn_L",
        "outputId": "8c7eb108-225e-41b9-96fe-f4eea7e47be9"
      },
      "outputs": [
        {
          "data": {
            "image/png": "[encoded data removed]",
            "text/plain": [
              "<Figure size 432x288 with 1 Axes>"
            ]
          },
          "metadata": {
            "needs_background": "light"
          },
          "output_type": "display_data"
        }
      ],
      "source": [
        "# Проверяем столбец \"balcony\"\n",
        "data.boxplot('balcony')\n",
        "# Устарняем выбросы в столбце, так как наличие более двух балконов в доме крайне маловероятно и эти значения ошибки или же выбросы\n",
        "data = data.query('balcony <= 2 or balcony.isna()')"
      ]
    },
    {
      "cell_type": "code",
      "execution_count": null,
      "metadata": {
        "id": "hR4XnThvSn_M",
        "outputId": "78232d21-2b75-45f0-b990-f52cf7378b3e"
      },
      "outputs": [
        {
          "data": {
            "text/plain": [
              "<AxesSubplot:>"
            ]
          },
          "execution_count": 20,
          "metadata": {},
          "output_type": "execute_result"
        },
        {
          "data": {
            "image/png": "[encoded data removed]",
            "text/plain": [
              "<Figure size 432x288 with 1 Axes>"
            ]
          },
          "metadata": {
            "needs_background": "light"
          },
          "output_type": "display_data"
        }
      ],
      "source": [
        "# Проверяем столбец \"days_exposition \"\n",
        "data.boxplot('days_exposition')\n",
        "# Мы видим что выбросов крайне много, к сожалению нам не известна их природа и есть риск удалить нужные данные, оставляем без изменений\n"
      ]
    },
    {
      "cell_type": "code",
      "execution_count": null,
      "metadata": {
        "id": "DdAW-FhxSn_N",
        "outputId": "18a56475-e2a0-492b-ac50-fb85ff716977"
      },
      "outputs": [
        {
          "data": {
            "image/png": "[encoded data removed]",
            "text/plain": [
              "<Figure size 432x288 with 1 Axes>"
            ]
          },
          "metadata": {
            "needs_background": "light"
          },
          "output_type": "display_data"
        }
      ],
      "source": [
        "# Проверяем столбец \"floors_total\"\n",
        "data.boxplot('floors_total')\n",
        "# Видим, что речь преимущественно идет о квартирах в зданиях не выше, 30 этажей, выбросов не так много (86) но они могут исказить картину\n",
        "# Устарняем выбросы в столбце\n",
        "data = data.query('floors_total < 30 or floors_total.isna()')"
      ]
    },
    {
      "cell_type": "code",
      "execution_count": null,
      "metadata": {
        "id": "BYw3HL3MSn_N",
        "outputId": "c40309b1-c9ed-4b93-ec7d-bef0e768f884"
      },
      "outputs": [
        {
          "data": {
            "image/png": "[encoded data removed]",
            "text/plain": [
              "<Figure size 432x288 with 1 Axes>"
            ]
          },
          "metadata": {
            "needs_background": "light"
          },
          "output_type": "display_data"
        }
      ],
      "source": [
        "# Проверяем столбец \"floor\"\n",
        "data.boxplot('floor')\n",
        "# Насколько мы видим, большая часть квартир расположены до 17 этажа, выбросов не так много и их можно смело удалить\n",
        "# Устраняем выбросы в столбце\n",
        "data = data.query('floor <= 17 or floor.isna()')"
      ]
    },
    {
      "cell_type": "code",
      "execution_count": null,
      "metadata": {
        "id": "JsCKj9kISn_N",
        "outputId": "d0fa199a-f92c-46c4-b665-fbe76d6c0723"
      },
      "outputs": [
        {
          "data": {
            "text/plain": [
              "<AxesSubplot:>"
            ]
          },
          "execution_count": 23,
          "metadata": {},
          "output_type": "execute_result"
        },
        {
          "data": {
            "image/png": "[encoded data removed]",
            "text/plain": [
              "<Figure size 432x288 with 1 Axes>"
            ]
          },
          "metadata": {
            "needs_background": "light"
          },
          "output_type": "display_data"
        }
      ],
      "source": [
        "# Проверяем столбец \"kitchen_area\"\n",
        "data.boxplot('kitchen_area')\n",
        "# Мы видим что выбросов крайне много, к сожалению нам не известна их природа и есть риск удалить нужные данные, оставляем без изменений"
      ]
    },
    {
      "cell_type": "code",
      "execution_count": null,
      "metadata": {
        "id": "ZYR5RXXfSn_O",
        "outputId": "f83ed53e-a21c-497b-e671-cfd0507a72e9"
      },
      "outputs": [
        {
          "data": {
            "text/plain": [
              "<AxesSubplot:>"
            ]
          },
          "execution_count": 24,
          "metadata": {},
          "output_type": "execute_result"
        },
        {
          "data": {
            "image/png": "[encoded data removed]",
            "text/plain": [
              "<Figure size 432x288 with 1 Axes>"
            ]
          },
          "metadata": {
            "needs_background": "light"
          },
          "output_type": "display_data"
        }
      ],
      "source": [
        "# Проверяем столбец \"kitchen_area\"\n",
        "data.boxplot('last_price')\n",
        "# Разброс значений слишком велик, невозможно определить выбросы, оставляем без изменений"
      ]
    },
    {
      "cell_type": "code",
      "execution_count": null,
      "metadata": {
        "id": "FVAEV71OSn_O",
        "outputId": "0673d206-5b52-42ba-a0a1-2c50b9b31104"
      },
      "outputs": [
        {
          "data": {
            "text/plain": [
              "<AxesSubplot:>"
            ]
          },
          "execution_count": 25,
          "metadata": {},
          "output_type": "execute_result"
        },
        {
          "data": {
            "image/png": "[encoded data removed]",
            "text/plain": [
              "<Figure size 432x288 with 1 Axes>"
            ]
          },
          "metadata": {
            "needs_background": "light"
          },
          "output_type": "display_data"
        }
      ],
      "source": [
        "# Проверяем столбец \"living_area\"\n",
        "data.boxplot('living_area')\n",
        "# Выбросов слишком много, нам не известна их природа и есть риск удалить нужные данные, оставляем без изменений"
      ]
    },
    {
      "cell_type": "code",
      "execution_count": null,
      "metadata": {
        "id": "pZ1fhYyRSn_P",
        "outputId": "12233348-df24-4ac0-8620-499c616333bb"
      },
      "outputs": [
        {
          "data": {
            "image/png": "[encoded data removed]",
            "text/plain": [
              "<Figure size 432x288 with 1 Axes>"
            ]
          },
          "metadata": {
            "needs_background": "light"
          },
          "output_type": "display_data"
        }
      ],
      "source": [
        "# Проверяем столбец \"parks_around3000\"\n",
        "data.boxplot('parks_around3000')\n",
        "# Большей частью, речь идет о двух и менее парках в радиусе 3 киллометров, есть только 1 выброс, удаляем его\n",
        "data = data.query('parks_around3000 <= 2 or parks_around3000.isna()')"
      ]
    },
    {
      "cell_type": "code",
      "execution_count": null,
      "metadata": {
        "id": "7w_RnbRqSn_P",
        "outputId": "92353fb8-053c-40d6-d366-838182f90719"
      },
      "outputs": [
        {
          "data": {
            "text/plain": [
              "<AxesSubplot:>"
            ]
          },
          "execution_count": 27,
          "metadata": {},
          "output_type": "execute_result"
        },
        {
          "data": {
            "image/png": "[encoded data removed]",
            "text/plain": [
              "<Figure size 432x288 with 1 Axes>"
            ]
          },
          "metadata": {
            "needs_background": "light"
          },
          "output_type": "display_data"
        }
      ],
      "source": [
        "# Проверяем столбец \"parks_nearest\"\n",
        "data.boxplot('parks_nearest')\n",
        "# Выбросов слишком много, нам не известна их природа и есть риск удалить нужные данные, оставляем без изменений"
      ]
    },
    {
      "cell_type": "code",
      "execution_count": null,
      "metadata": {
        "id": "tN92zxDKSn_Q",
        "outputId": "50a9c6c6-83f1-4bdc-916d-dd9e4e6f338d"
      },
      "outputs": [
        {
          "data": {
            "image/png": "[encoded data removed]",
            "text/plain": [
              "<Figure size 432x288 with 1 Axes>"
            ]
          },
          "metadata": {
            "needs_background": "light"
          },
          "output_type": "display_data"
        }
      ],
      "source": [
        "# Проверяем столбец \"ponds_around3000\"\n",
        "data.boxplot('ponds_around3000')\n",
        "# Большей частью, речь идет о двух и менее прудах в радиусе 3 киллометров, есть только 1 выброс, удаляем его\n",
        "data = data.query('ponds_around3000 <= 2 or ponds_around3000.isna()')"
      ]
    },
    {
      "cell_type": "code",
      "execution_count": null,
      "metadata": {
        "id": "08ZpzA55Sn_Q",
        "outputId": "78324bbe-3591-4310-dfea-004199f36b27"
      },
      "outputs": [
        {
          "data": {
            "text/plain": [
              "<AxesSubplot:>"
            ]
          },
          "execution_count": 29,
          "metadata": {},
          "output_type": "execute_result"
        },
        {
          "data": {
            "image/png": "[encoded data removed]",
            "text/plain": [
              "<Figure size 432x288 with 1 Axes>"
            ]
          },
          "metadata": {
            "needs_background": "light"
          },
          "output_type": "display_data"
        }
      ],
      "source": [
        "# Проверяем столбец \"ponds_nearest\"\n",
        "data.boxplot('ponds_nearest')\n",
        "# Выбросов слишком много, нам не известна их природа и есть риск удалить нужные данные, оставляем без изменений"
      ]
    },
    {
      "cell_type": "code",
      "execution_count": null,
      "metadata": {
        "id": "pPknb9zsSn_R",
        "outputId": "6d14fdf2-d5cf-42b1-e7de-c02ba3743091"
      },
      "outputs": [
        {
          "data": {
            "image/png": "[encoded data removed]",
            "text/plain": [
              "<Figure size 432x288 with 1 Axes>"
            ]
          },
          "metadata": {
            "needs_background": "light"
          },
          "output_type": "display_data"
        }
      ],
      "source": [
        "# Проверяем столбец \"ponds_nearest\"\n",
        "data.boxplot('ponds_nearest')\n",
        "# Устраняем выбросы в столбце\n",
        "data = data.query('ponds_nearest < 810 or ponds_nearest.isna()')"
      ]
    },
    {
      "cell_type": "code",
      "execution_count": null,
      "metadata": {
        "id": "mnJ79fWASn_R",
        "outputId": "8e897a22-f292-4e33-95a4-25736db4b3ff"
      },
      "outputs": [
        {
          "data": {
            "image/png": "[encoded data removed]",
            "text/plain": [
              "<Figure size 432x288 with 1 Axes>"
            ]
          },
          "metadata": {
            "needs_background": "light"
          },
          "output_type": "display_data"
        }
      ],
      "source": [
        "# Проверяем столбец \"rooms\"\n",
        "data.boxplot('rooms')\n",
        "data['rooms'].unique()\n",
        "# Большей частью, речь идет о 6 и менее комнатах в доме, по логике большее колличество комнат в квартире действительно маловероятно, выбросов не так много, удаляем их\n",
        "data = data.query('rooms <= 6 or rooms.isna()')"
      ]
    },
    {
      "cell_type": "code",
      "execution_count": null,
      "metadata": {
        "id": "5hF2zIE5Sn_S",
        "outputId": "15967998-f0d3-4f5c-9cd3-4a1eba825531"
      },
      "outputs": [
        {
          "data": {
            "text/plain": [
              "<AxesSubplot:>"
            ]
          },
          "execution_count": 32,
          "metadata": {},
          "output_type": "execute_result"
        },
        {
          "data": {
            "image/png": "[encoded data removed]",
            "text/plain": [
              "<Figure size 432x288 with 1 Axes>"
            ]
          },
          "metadata": {
            "needs_background": "light"
          },
          "output_type": "display_data"
        }
      ],
      "source": [
        "# Проверяем столбец \"total_area\"\n",
        "data.boxplot('total_area')\n",
        "# # Выбросов слишком много, нам не известна их природа и есть риск удалить нужные данные, оставляем без изменений\n",
        "# data = data.query('total_area > 100 or total_area.isna()')"
      ]
    },
    {
      "cell_type": "code",
      "execution_count": null,
      "metadata": {
        "id": "_t6pDZi8Sn_S",
        "outputId": "522b94b5-a597-4c6a-f34d-e5c89b7accc9"
      },
      "outputs": [
        {
          "data": {
            "image/png": "[encoded data removed]",
            "text/plain": [
              "<Figure size 432x288 with 1 Axes>"
            ]
          },
          "metadata": {
            "needs_background": "light"
          },
          "output_type": "display_data"
        }
      ],
      "source": [
        "# Проверяем столбец \"total_images\"\n",
        "data.boxplot('total_images')\n",
        "# Большей частью, речь идет о 26 и менее фотографиях в объявление, колличество действительно довольно значительно, по логике большее колличество фотографий действительно кажется маловероятно, выбросов не так много, удаляем их\n",
        "data = data.query('total_images <= 26 or total_images.isna()')"
      ]
    },
    {
      "cell_type": "markdown",
      "metadata": {
        "id": "Zrf3QgVTSn_S"
      },
      "source": [
        "Большей частью, выбросы выявить и ликвидировать благодаря логическим выводам (например в столбцах balcony и rooms), в тех столбцах где это было возможно, однако в довольно большом колличесвте столбцов природу аномалий так и не удалось установить и как следствие ликвидировать их не удалив из таблицы большое колличество потенциально ценных данных невозможно. Возможно проблема кроется в источнике данных"
      ]
    },
    {
      "cell_type": "markdown",
      "metadata": {
        "id": "8Z4W2MprSn_U"
      },
      "source": [
        "### Посчитайем и добавим в таблицу новые столбцы для более подробного анализа"
      ]
    },
    {
      "cell_type": "code",
      "execution_count": null,
      "metadata": {
        "id": "yv4BeNwnSn_U"
      },
      "outputs": [],
      "source": [
        "#Добавляем столбец- цена одного квадратного метра;\n",
        "data['price_per1m'] = data['last_price'] / data['living_area']"
      ]
    },
    {
      "cell_type": "code",
      "execution_count": null,
      "metadata": {
        "id": "2KowNsRxSn_U"
      },
      "outputs": [],
      "source": [
        "#Добавляем столбец с указанием дня публикации объявления\n",
        "data['week_day'] = data['first_day_exposition'].dt.weekday"
      ]
    },
    {
      "cell_type": "code",
      "execution_count": null,
      "metadata": {
        "id": "9b3Epc7eSn_V"
      },
      "outputs": [],
      "source": [
        "#Добавляем столбец с указанием года публикации объявления\n",
        "data['year'] = data['first_day_exposition'].dt.year"
      ]
    },
    {
      "cell_type": "markdown",
      "metadata": {
        "id": "tK-fvZrXSn_V"
      },
      "source": [
        "Поскольку обычно в датафреймах содержатся данные за несколько лет. Важно выбрать корректный метод для вычленения месяца, иначе месяца разных годов могут стать одним месяцем. Используем метод astype('datetime64[M]') чтобы избежать данной ошибки. Для его использования не нужно обращаться к pd.DatetimeIndex."
      ]
    },
    {
      "cell_type": "code",
      "execution_count": null,
      "metadata": {
        "id": "o5AaYecbSn_W",
        "outputId": "b216379b-3379-403c-e569-cf1c6aab921a"
      },
      "outputs": [
        {
          "data": {
            "text/plain": [
              "0       2019-03-01\n",
              "1       2018-12-01\n",
              "2       2015-08-01\n",
              "4       2018-06-01\n",
              "5       2018-09-01\n",
              "           ...    \n",
              "23692   2017-07-01\n",
              "23693   2016-08-01\n",
              "23695   2018-01-01\n",
              "23696   2018-02-01\n",
              "23698   2017-07-01\n",
              "Name: month, Length: 18230, dtype: datetime64[ns]"
            ]
          },
          "execution_count": 38,
          "metadata": {},
          "output_type": "execute_result"
        }
      ],
      "source": [
        "#Добавляем столбец с указанием месяца публикации объявления\n",
        "\n",
        "data['month'] = data['first_day_exposition'].dt.date\n",
        "data['month'] = data['first_day_exposition'].astype('datetime64[M]')\n",
        "data['month']"
      ]
    },
    {
      "cell_type": "code",
      "execution_count": null,
      "metadata": {
        "id": "BahtMWLdSn_X"
      },
      "outputs": [],
      "source": [
        "#Добавляем столбец- тип этажа квартиры (значения — «первый», «последний», «другой»);\n",
        "data[\"floor_category\"] = \"другой\"\n",
        "\n",
        "q = data[\"floor\"] == 1\n",
        "data.loc[q, \"floor_category\"] = \"первый\"\n",
        "\n",
        "q = data[\"floor\"] == data[\"floors_total\"]\n",
        "data.loc[q, \"floor_category\"] = \"последний\""
      ]
    },
    {
      "cell_type": "code",
      "execution_count": null,
      "metadata": {
        "id": "moX09JJaSn_X"
      },
      "outputs": [],
      "source": [
        "#Добавляем столбец- расстояние до центра города в километрах (+ с переводом из м в км и округлением до целых значений).);\n",
        "data['cityCenters_km'] = data['cityCenters_nearest']//1000"
      ]
    },
    {
      "cell_type": "code",
      "execution_count": null,
      "metadata": {
        "scrolled": true,
        "id": "dZKobc6WSn_Y",
        "outputId": "c68b1375-a814-41ef-b800-aa9f680d0d7c"
      },
      "outputs": [
        {
          "data": {
            "text/html": [
              "<div>\n",
              "<style scoped>\n",
              "    .dataframe tbody tr th:only-of-type {\n",
              "        vertical-align: middle;\n",
              "    }\n",
              "\n",
              "    .dataframe tbody tr th {\n",
              "        vertical-align: top;\n",
              "    }\n",
              "\n",
              "    .dataframe thead th {\n",
              "        text-align: right;\n",
              "    }\n",
              "</style>\n",
              "<table border=\"1\" class=\"dataframe\">\n",
              "  <thead>\n",
              "    <tr style=\"text-align: right;\">\n",
              "      <th></th>\n",
              "      <th>total_images</th>\n",
              "      <th>last_price</th>\n",
              "      <th>total_area</th>\n",
              "      <th>first_day_exposition</th>\n",
              "      <th>rooms</th>\n",
              "      <th>ceiling_height</th>\n",
              "      <th>floors_total</th>\n",
              "      <th>living_area</th>\n",
              "      <th>floor</th>\n",
              "      <th>is_apartment</th>\n",
              "      <th>...</th>\n",
              "      <th>parks_nearest</th>\n",
              "      <th>ponds_around3000</th>\n",
              "      <th>ponds_nearest</th>\n",
              "      <th>days_exposition</th>\n",
              "      <th>price_per1m</th>\n",
              "      <th>week_day</th>\n",
              "      <th>month</th>\n",
              "      <th>year</th>\n",
              "      <th>floor_category</th>\n",
              "      <th>cityCenters_km</th>\n",
              "    </tr>\n",
              "  </thead>\n",
              "  <tbody>\n",
              "    <tr>\n",
              "      <th>0</th>\n",
              "      <td>20</td>\n",
              "      <td>13000000</td>\n",
              "      <td>108.0</td>\n",
              "      <td>2019-03-07</td>\n",
              "      <td>3</td>\n",
              "      <td>2.70</td>\n",
              "      <td>16.0</td>\n",
              "      <td>51.0</td>\n",
              "      <td>8</td>\n",
              "      <td>False</td>\n",
              "      <td>...</td>\n",
              "      <td>482.0</td>\n",
              "      <td>2</td>\n",
              "      <td>755.0</td>\n",
              "      <td>NaN</td>\n",
              "      <td>254901.960784</td>\n",
              "      <td>3</td>\n",
              "      <td>2019-03-01</td>\n",
              "      <td>2019</td>\n",
              "      <td>другой</td>\n",
              "      <td>16.0</td>\n",
              "    </tr>\n",
              "    <tr>\n",
              "      <th>1</th>\n",
              "      <td>7</td>\n",
              "      <td>3350000</td>\n",
              "      <td>40.4</td>\n",
              "      <td>2018-12-04</td>\n",
              "      <td>1</td>\n",
              "      <td>NaN</td>\n",
              "      <td>11.0</td>\n",
              "      <td>18.6</td>\n",
              "      <td>1</td>\n",
              "      <td>False</td>\n",
              "      <td>...</td>\n",
              "      <td>NaN</td>\n",
              "      <td>0</td>\n",
              "      <td>NaN</td>\n",
              "      <td>81.0</td>\n",
              "      <td>180107.526882</td>\n",
              "      <td>1</td>\n",
              "      <td>2018-12-01</td>\n",
              "      <td>2018</td>\n",
              "      <td>первый</td>\n",
              "      <td>18.0</td>\n",
              "    </tr>\n",
              "    <tr>\n",
              "      <th>2</th>\n",
              "      <td>10</td>\n",
              "      <td>5196000</td>\n",
              "      <td>56.0</td>\n",
              "      <td>2015-08-20</td>\n",
              "      <td>2</td>\n",
              "      <td>NaN</td>\n",
              "      <td>5.0</td>\n",
              "      <td>34.3</td>\n",
              "      <td>4</td>\n",
              "      <td>False</td>\n",
              "      <td>...</td>\n",
              "      <td>90.0</td>\n",
              "      <td>2</td>\n",
              "      <td>574.0</td>\n",
              "      <td>558.0</td>\n",
              "      <td>151486.880466</td>\n",
              "      <td>3</td>\n",
              "      <td>2015-08-01</td>\n",
              "      <td>2015</td>\n",
              "      <td>другой</td>\n",
              "      <td>13.0</td>\n",
              "    </tr>\n",
              "    <tr>\n",
              "      <th>4</th>\n",
              "      <td>2</td>\n",
              "      <td>10000000</td>\n",
              "      <td>100.0</td>\n",
              "      <td>2018-06-19</td>\n",
              "      <td>2</td>\n",
              "      <td>3.03</td>\n",
              "      <td>14.0</td>\n",
              "      <td>32.0</td>\n",
              "      <td>13</td>\n",
              "      <td>False</td>\n",
              "      <td>...</td>\n",
              "      <td>112.0</td>\n",
              "      <td>1</td>\n",
              "      <td>48.0</td>\n",
              "      <td>121.0</td>\n",
              "      <td>312500.000000</td>\n",
              "      <td>1</td>\n",
              "      <td>2018-06-01</td>\n",
              "      <td>2018</td>\n",
              "      <td>другой</td>\n",
              "      <td>8.0</td>\n",
              "    </tr>\n",
              "    <tr>\n",
              "      <th>5</th>\n",
              "      <td>10</td>\n",
              "      <td>2890000</td>\n",
              "      <td>30.4</td>\n",
              "      <td>2018-09-10</td>\n",
              "      <td>1</td>\n",
              "      <td>NaN</td>\n",
              "      <td>12.0</td>\n",
              "      <td>14.4</td>\n",
              "      <td>5</td>\n",
              "      <td>False</td>\n",
              "      <td>...</td>\n",
              "      <td>NaN</td>\n",
              "      <td>0</td>\n",
              "      <td>NaN</td>\n",
              "      <td>55.0</td>\n",
              "      <td>200694.444444</td>\n",
              "      <td>0</td>\n",
              "      <td>2018-09-01</td>\n",
              "      <td>2018</td>\n",
              "      <td>другой</td>\n",
              "      <td>NaN</td>\n",
              "    </tr>\n",
              "    <tr>\n",
              "      <th>...</th>\n",
              "      <td>...</td>\n",
              "      <td>...</td>\n",
              "      <td>...</td>\n",
              "      <td>...</td>\n",
              "      <td>...</td>\n",
              "      <td>...</td>\n",
              "      <td>...</td>\n",
              "      <td>...</td>\n",
              "      <td>...</td>\n",
              "      <td>...</td>\n",
              "      <td>...</td>\n",
              "      <td>...</td>\n",
              "      <td>...</td>\n",
              "      <td>...</td>\n",
              "      <td>...</td>\n",
              "      <td>...</td>\n",
              "      <td>...</td>\n",
              "      <td>...</td>\n",
              "      <td>...</td>\n",
              "      <td>...</td>\n",
              "      <td>...</td>\n",
              "    </tr>\n",
              "    <tr>\n",
              "      <th>23692</th>\n",
              "      <td>2</td>\n",
              "      <td>1350000</td>\n",
              "      <td>30.0</td>\n",
              "      <td>2017-07-07</td>\n",
              "      <td>1</td>\n",
              "      <td>NaN</td>\n",
              "      <td>5.0</td>\n",
              "      <td>17.5</td>\n",
              "      <td>4</td>\n",
              "      <td>False</td>\n",
              "      <td>...</td>\n",
              "      <td>NaN</td>\n",
              "      <td>0</td>\n",
              "      <td>NaN</td>\n",
              "      <td>413.0</td>\n",
              "      <td>77142.857143</td>\n",
              "      <td>4</td>\n",
              "      <td>2017-07-01</td>\n",
              "      <td>2017</td>\n",
              "      <td>другой</td>\n",
              "      <td>NaN</td>\n",
              "    </tr>\n",
              "    <tr>\n",
              "      <th>23693</th>\n",
              "      <td>9</td>\n",
              "      <td>4600000</td>\n",
              "      <td>62.4</td>\n",
              "      <td>2016-08-05</td>\n",
              "      <td>3</td>\n",
              "      <td>2.60</td>\n",
              "      <td>9.0</td>\n",
              "      <td>40.0</td>\n",
              "      <td>8</td>\n",
              "      <td>False</td>\n",
              "      <td>...</td>\n",
              "      <td>352.0</td>\n",
              "      <td>1</td>\n",
              "      <td>675.0</td>\n",
              "      <td>239.0</td>\n",
              "      <td>115000.000000</td>\n",
              "      <td>4</td>\n",
              "      <td>2016-08-01</td>\n",
              "      <td>2016</td>\n",
              "      <td>другой</td>\n",
              "      <td>34.0</td>\n",
              "    </tr>\n",
              "    <tr>\n",
              "      <th>23695</th>\n",
              "      <td>14</td>\n",
              "      <td>3100000</td>\n",
              "      <td>59.0</td>\n",
              "      <td>2018-01-15</td>\n",
              "      <td>3</td>\n",
              "      <td>NaN</td>\n",
              "      <td>5.0</td>\n",
              "      <td>38.0</td>\n",
              "      <td>4</td>\n",
              "      <td>False</td>\n",
              "      <td>...</td>\n",
              "      <td>NaN</td>\n",
              "      <td>0</td>\n",
              "      <td>NaN</td>\n",
              "      <td>45.0</td>\n",
              "      <td>81578.947368</td>\n",
              "      <td>0</td>\n",
              "      <td>2018-01-01</td>\n",
              "      <td>2018</td>\n",
              "      <td>другой</td>\n",
              "      <td>NaN</td>\n",
              "    </tr>\n",
              "    <tr>\n",
              "      <th>23696</th>\n",
              "      <td>18</td>\n",
              "      <td>2500000</td>\n",
              "      <td>56.7</td>\n",
              "      <td>2018-02-11</td>\n",
              "      <td>2</td>\n",
              "      <td>NaN</td>\n",
              "      <td>3.0</td>\n",
              "      <td>29.7</td>\n",
              "      <td>1</td>\n",
              "      <td>False</td>\n",
              "      <td>...</td>\n",
              "      <td>NaN</td>\n",
              "      <td>0</td>\n",
              "      <td>NaN</td>\n",
              "      <td>NaN</td>\n",
              "      <td>84175.084175</td>\n",
              "      <td>6</td>\n",
              "      <td>2018-02-01</td>\n",
              "      <td>2018</td>\n",
              "      <td>первый</td>\n",
              "      <td>NaN</td>\n",
              "    </tr>\n",
              "    <tr>\n",
              "      <th>23698</th>\n",
              "      <td>4</td>\n",
              "      <td>1350000</td>\n",
              "      <td>32.3</td>\n",
              "      <td>2017-07-21</td>\n",
              "      <td>1</td>\n",
              "      <td>2.50</td>\n",
              "      <td>5.0</td>\n",
              "      <td>12.3</td>\n",
              "      <td>1</td>\n",
              "      <td>False</td>\n",
              "      <td>...</td>\n",
              "      <td>NaN</td>\n",
              "      <td>0</td>\n",
              "      <td>NaN</td>\n",
              "      <td>NaN</td>\n",
              "      <td>109756.097561</td>\n",
              "      <td>4</td>\n",
              "      <td>2017-07-01</td>\n",
              "      <td>2017</td>\n",
              "      <td>первый</td>\n",
              "      <td>NaN</td>\n",
              "    </tr>\n",
              "  </tbody>\n",
              "</table>\n",
              "<p>18230 rows × 28 columns</p>\n",
              "</div>"
            ],
            "text/plain": [
              "       total_images  last_price  total_area first_day_exposition  rooms  \\\n",
              "0                20    13000000       108.0           2019-03-07      3   \n",
              "1                 7     3350000        40.4           2018-12-04      1   \n",
              "2                10     5196000        56.0           2015-08-20      2   \n",
              "4                 2    10000000       100.0           2018-06-19      2   \n",
              "5                10     2890000        30.4           2018-09-10      1   \n",
              "...             ...         ...         ...                  ...    ...   \n",
              "23692             2     1350000        30.0           2017-07-07      1   \n",
              "23693             9     4600000        62.4           2016-08-05      3   \n",
              "23695            14     3100000        59.0           2018-01-15      3   \n",
              "23696            18     2500000        56.7           2018-02-11      2   \n",
              "23698             4     1350000        32.3           2017-07-21      1   \n",
              "\n",
              "       ceiling_height  floors_total  living_area  floor is_apartment  ...  \\\n",
              "0                2.70          16.0         51.0      8        False  ...   \n",
              "1                 NaN          11.0         18.6      1        False  ...   \n",
              "2                 NaN           5.0         34.3      4        False  ...   \n",
              "4                3.03          14.0         32.0     13        False  ...   \n",
              "5                 NaN          12.0         14.4      5        False  ...   \n",
              "...               ...           ...          ...    ...          ...  ...   \n",
              "23692             NaN           5.0         17.5      4        False  ...   \n",
              "23693            2.60           9.0         40.0      8        False  ...   \n",
              "23695             NaN           5.0         38.0      4        False  ...   \n",
              "23696             NaN           3.0         29.7      1        False  ...   \n",
              "23698            2.50           5.0         12.3      1        False  ...   \n",
              "\n",
              "       parks_nearest  ponds_around3000  ponds_nearest  days_exposition  \\\n",
              "0              482.0                 2          755.0              NaN   \n",
              "1                NaN                 0            NaN             81.0   \n",
              "2               90.0                 2          574.0            558.0   \n",
              "4              112.0                 1           48.0            121.0   \n",
              "5                NaN                 0            NaN             55.0   \n",
              "...              ...               ...            ...              ...   \n",
              "23692            NaN                 0            NaN            413.0   \n",
              "23693          352.0                 1          675.0            239.0   \n",
              "23695            NaN                 0            NaN             45.0   \n",
              "23696            NaN                 0            NaN              NaN   \n",
              "23698            NaN                 0            NaN              NaN   \n",
              "\n",
              "         price_per1m  week_day      month  year  floor_category  \\\n",
              "0      254901.960784         3 2019-03-01  2019          другой   \n",
              "1      180107.526882         1 2018-12-01  2018          первый   \n",
              "2      151486.880466         3 2015-08-01  2015          другой   \n",
              "4      312500.000000         1 2018-06-01  2018          другой   \n",
              "5      200694.444444         0 2018-09-01  2018          другой   \n",
              "...              ...       ...        ...   ...             ...   \n",
              "23692   77142.857143         4 2017-07-01  2017          другой   \n",
              "23693  115000.000000         4 2016-08-01  2016          другой   \n",
              "23695   81578.947368         0 2018-01-01  2018          другой   \n",
              "23696   84175.084175         6 2018-02-01  2018          первый   \n",
              "23698  109756.097561         4 2017-07-01  2017          первый   \n",
              "\n",
              "       cityCenters_km  \n",
              "0                16.0  \n",
              "1                18.0  \n",
              "2                13.0  \n",
              "4                 8.0  \n",
              "5                 NaN  \n",
              "...               ...  \n",
              "23692             NaN  \n",
              "23693            34.0  \n",
              "23695             NaN  \n",
              "23696             NaN  \n",
              "23698             NaN  \n",
              "\n",
              "[18230 rows x 28 columns]"
            ]
          },
          "execution_count": 41,
          "metadata": {},
          "output_type": "execute_result"
        }
      ],
      "source": [
        "#Проверяем результат, все ли столбцы добавились и верно ли отображаются значения\n",
        "data"
      ]
    },
    {
      "cell_type": "markdown",
      "metadata": {
        "id": "YMr3DWAwSn_Z"
      },
      "source": [
        "### Исследовательский анализ данных"
      ]
    },
    {
      "cell_type": "markdown",
      "metadata": {
        "id": "SE8vKi0lSn_Z"
      },
      "source": [
        "1. Изучаем отдельные параметры объектов"
      ]
    },
    {
      "cell_type": "code",
      "execution_count": null,
      "metadata": {
        "scrolled": true,
        "id": "21ffzXJmSn_Z",
        "outputId": "ca0f3beb-bb3d-4789-e690-c8d9ebab1ec2"
      },
      "outputs": [
        {
          "data": {
            "text/plain": [
              "<AxesSubplot:>"
            ]
          },
          "execution_count": 42,
          "metadata": {},
          "output_type": "execute_result"
        },
        {
          "data": {
            "image/png": "[encoded data removed]",
            "text/plain": [
              "<Figure size 432x288 with 1 Axes>"
            ]
          },
          "metadata": {
            "needs_background": "light"
          },
          "output_type": "display_data"
        }
      ],
      "source": [
        "data['total_area'].hist(bins=100, range=(0,300))\n",
        "# Нормальное распределение графика, площадь наибольшей части квартир не превышает 40-50 квадратных метров, в среднем квартиры находятся в промежутке с 26 до 60 квадратных метров\n",
        "# Хотя есть и ряд аномалий с площадью вплоть до 300 квадратных метров"
      ]
    },
    {
      "cell_type": "code",
      "execution_count": null,
      "metadata": {
        "id": "WBTi6vJwSn_b",
        "outputId": "ea4b3292-76b1-494f-b721-950da0763cae"
      },
      "outputs": [
        {
          "data": {
            "text/plain": [
              "<AxesSubplot:>"
            ]
          },
          "execution_count": 43,
          "metadata": {},
          "output_type": "execute_result"
        },
        {
          "data": {
            "image/png": "[encoded data removed]",
            "text/plain": [
              "<Figure size 432x288 with 1 Axes>"
            ]
          },
          "metadata": {
            "needs_background": "light"
          },
          "output_type": "display_data"
        }
      ],
      "source": [
        "data['total_area'].hist(bins=100, range=(0,60))"
      ]
    },
    {
      "cell_type": "code",
      "execution_count": null,
      "metadata": {
        "id": "5iHeal_1Sn_b",
        "outputId": "25965617-a7b1-48f5-cc0b-310067b37361"
      },
      "outputs": [
        {
          "data": {
            "text/plain": [
              "<AxesSubplot:>"
            ]
          },
          "execution_count": 44,
          "metadata": {},
          "output_type": "execute_result"
        },
        {
          "data": {
            "image/png": "[encoded data removed]",
            "text/plain": [
              "<Figure size 432x288 with 1 Axes>"
            ]
          },
          "metadata": {
            "needs_background": "light"
          },
          "output_type": "display_data"
        }
      ],
      "source": [
        "data['living_area'].hist(bins=100, range=(0,150))\n",
        "# Нормальное распределение графика, жилая площадь наибольшей части квартир не превышает 17-20 квадратных метров\n",
        "# Хотя есть и ряд аномалий с площадью вплоть до 140 квадратных метров"
      ]
    },
    {
      "cell_type": "code",
      "execution_count": null,
      "metadata": {
        "id": "TowHvP-5Sn_c",
        "outputId": "04b9af4d-8762-4061-d21d-65036130a73e"
      },
      "outputs": [
        {
          "data": {
            "text/plain": [
              "<AxesSubplot:>"
            ]
          },
          "execution_count": 45,
          "metadata": {},
          "output_type": "execute_result"
        },
        {
          "data": {
            "image/png": "[encoded data removed]",
            "text/plain": [
              "<Figure size 432x288 with 1 Axes>"
            ]
          },
          "metadata": {
            "needs_background": "light"
          },
          "output_type": "display_data"
        }
      ],
      "source": [
        "data['kitchen_area'].hist(bins=100, range=(0,20))\n",
        "# Нормальное распределение графика, хотя есть и несколько пиков площадь кухни наибольшей части квартир 6 - 10 квадратных метров\n",
        "# Есть также и ряд аномалий с площадью вплоть до 50 квадратных метров"
      ]
    },
    {
      "cell_type": "code",
      "execution_count": null,
      "metadata": {
        "id": "Vrel6CehSn_c",
        "outputId": "35a7e901-208c-41b1-aec7-ba9cf6baced0"
      },
      "outputs": [
        {
          "data": {
            "text/plain": [
              "<AxesSubplot:>"
            ]
          },
          "execution_count": 46,
          "metadata": {},
          "output_type": "execute_result"
        },
        {
          "data": {
            "image/png": "[encoded data removed]",
            "text/plain": [
              "<Figure size 432x288 with 1 Axes>"
            ]
          },
          "metadata": {
            "needs_background": "light"
          },
          "output_type": "display_data"
        }
      ],
      "source": [
        "data['last_price'].hist(bins=100, range=(700000,12000000))\n",
        "# Нормальное распределение графика, цена наибольшей части квартир не превышает 3.5 - 4.2 миллионов"
      ]
    },
    {
      "cell_type": "code",
      "execution_count": null,
      "metadata": {
        "id": "75EdmpfhSn_d",
        "outputId": "36b3f98c-3ea8-4ac9-8544-557df171d99f"
      },
      "outputs": [
        {
          "data": {
            "text/plain": [
              "<AxesSubplot:>"
            ]
          },
          "execution_count": 47,
          "metadata": {},
          "output_type": "execute_result"
        },
        {
          "data": {
            "image/png": "[encoded data removed]",
            "text/plain": [
              "<Figure size 432x288 with 1 Axes>"
            ]
          },
          "metadata": {
            "needs_background": "light"
          },
          "output_type": "display_data"
        }
      ],
      "source": [
        "data['rooms'].hist()\n",
        "# Нормальное распределение графика, большая часть квартир это 1 и 2х комнатные квартиры\n",
        "# Есть небольшое колличество даже и 6х комантных квартир"
      ]
    },
    {
      "cell_type": "code",
      "execution_count": null,
      "metadata": {
        "id": "nDqjX033Sn_d",
        "outputId": "4f724f06-e6df-45bb-a81a-97bc30da03d6"
      },
      "outputs": [
        {
          "data": {
            "text/plain": [
              "<AxesSubplot:>"
            ]
          },
          "execution_count": 48,
          "metadata": {},
          "output_type": "execute_result"
        },
        {
          "data": {
            "image/png": "[encoded data removed]",
            "text/plain": [
              "<Figure size 432x288 with 1 Axes>"
            ]
          },
          "metadata": {
            "needs_background": "light"
          },
          "output_type": "display_data"
        }
      ],
      "source": [
        "data['ceiling_height'].hist()\n",
        "# Нормальное распределение графика, высота потолков квартир в среднем колеблется между 2.5 и 2.6 метрами"
      ]
    },
    {
      "cell_type": "code",
      "execution_count": null,
      "metadata": {
        "id": "oxfZwgC-Sn_d",
        "outputId": "69b681b5-2dda-4eca-c19b-2b4be4fa3455"
      },
      "outputs": [
        {
          "data": {
            "text/plain": [
              "<AxesSubplot:>"
            ]
          },
          "execution_count": 49,
          "metadata": {},
          "output_type": "execute_result"
        },
        {
          "data": {
            "image/png": "[encoded data removed]",
            "text/plain": [
              "<Figure size 432x288 with 1 Axes>"
            ]
          },
          "metadata": {
            "needs_background": "light"
          },
          "output_type": "display_data"
        }
      ],
      "source": [
        "data['floor'].hist()\n",
        "#Согласно графику большая часть выставленных на продажу квартир располагается на 1-3 этажах"
      ]
    },
    {
      "cell_type": "code",
      "execution_count": null,
      "metadata": {
        "scrolled": false,
        "id": "qTpHGMiNSn_e",
        "outputId": "9340f46d-07ec-48d5-8995-0a8affd9340c"
      },
      "outputs": [
        {
          "data": {
            "text/plain": [
              "<AxesSubplot:>"
            ]
          },
          "execution_count": 50,
          "metadata": {},
          "output_type": "execute_result"
        },
        {
          "data": {
            "image/png": "[encoded data removed]",
            "text/plain": [
              "<Figure size 432x288 with 1 Axes>"
            ]
          },
          "metadata": {
            "needs_background": "light"
          },
          "output_type": "display_data"
        }
      ],
      "source": [
        "data['floor_category'].hist()\n",
        "#Но в то-же время болшая часть квартир, расположены не на первом или последнем этажах здания"
      ]
    },
    {
      "cell_type": "code",
      "execution_count": null,
      "metadata": {
        "id": "CSIADfraSn_e",
        "outputId": "0530810f-27af-4558-f275-61d7d33c3eb9"
      },
      "outputs": [
        {
          "data": {
            "text/plain": [
              "<AxesSubplot:>"
            ]
          },
          "execution_count": 78,
          "metadata": {},
          "output_type": "execute_result"
        },
        {
          "data": {
            "image/png": "[encoded data removed]",
            "text/plain": [
              "<Figure size 432x288 with 1 Axes>"
            ]
          },
          "metadata": {
            "needs_background": "light"
          },
          "output_type": "display_data"
        }
      ],
      "source": [
        "data['floors_total'].hist(bins=15)\n",
        "# Большая часть квартир выставленных на продажу, расположены в 4-6 этажных зданиях"
      ]
    },
    {
      "cell_type": "code",
      "execution_count": null,
      "metadata": {
        "id": "bB8k5QJJSn_f",
        "outputId": "2443c27f-3634-4961-d312-f2374bcdbc27"
      },
      "outputs": [
        {
          "data": {
            "text/plain": [
              "<AxesSubplot:>"
            ]
          },
          "execution_count": 52,
          "metadata": {},
          "output_type": "execute_result"
        },
        {
          "data": {
            "image/png": "[encoded data removed]",
            "text/plain": [
              "<Figure size 432x288 with 1 Axes>"
            ]
          },
          "metadata": {
            "needs_background": "light"
          },
          "output_type": "display_data"
        }
      ],
      "source": [
        "data['cityCenters_nearest'].hist(bins=100)\n",
        "# Большая часть выставленных на продажу квартир находится в 15 000 метров от центра города"
      ]
    },
    {
      "cell_type": "code",
      "execution_count": null,
      "metadata": {
        "id": "1Ig5J9sFSn_f",
        "outputId": "c494dec0-8e62-4402-aa24-1f392f42430d"
      },
      "outputs": [
        {
          "data": {
            "text/plain": [
              "<AxesSubplot:>"
            ]
          },
          "execution_count": 53,
          "metadata": {},
          "output_type": "execute_result"
        },
        {
          "data": {
            "image/png": "[encoded data removed]",
            "text/plain": [
              "<Figure size 432x288 with 1 Axes>"
            ]
          },
          "metadata": {
            "needs_background": "light"
          },
          "output_type": "display_data"
        }
      ],
      "source": [
        "data['airports_nearest'].hist(bins=100, range=(0,80000))\n",
        "# Большая часть выставленных на продажу квартир находится в 13 000-15 500 метров от ближайшего аэропорта"
      ]
    },
    {
      "cell_type": "code",
      "execution_count": null,
      "metadata": {
        "id": "2azCGJOlSn_f",
        "outputId": "190d71e9-6393-4e2a-e6f0-47673d79c949"
      },
      "outputs": [
        {
          "data": {
            "text/plain": [
              "<AxesSubplot:>"
            ]
          },
          "execution_count": 54,
          "metadata": {},
          "output_type": "execute_result"
        },
        {
          "data": {
            "image/png": "[encoded data removed]",
            "text/plain": [
              "<Figure size 432x288 with 1 Axes>"
            ]
          },
          "metadata": {
            "needs_background": "light"
          },
          "output_type": "display_data"
        }
      ],
      "source": [
        "data['parks_nearest'].hist()\n",
        "# Большая часть выставленных на продажу квартир находится в 400 - 600 метрах от ближайшего парка, хотя также есть подовлюще большинство значений. для которых расстояние до ближайшего парка не было указано"
      ]
    },
    {
      "cell_type": "code",
      "execution_count": null,
      "metadata": {
        "scrolled": true,
        "id": "0Use2GELSn_g",
        "outputId": "9a8c13c5-1f20-4e10-c3d0-61d933b21fb2"
      },
      "outputs": [
        {
          "data": {
            "text/plain": [
              "<AxesSubplot:>"
            ]
          },
          "execution_count": 55,
          "metadata": {},
          "output_type": "execute_result"
        },
        {
          "data": {
            "image/png": "[encoded data removed]",
            "text/plain": [
              "<Figure size 432x288 with 1 Axes>"
            ]
          },
          "metadata": {
            "needs_background": "light"
          },
          "output_type": "display_data"
        }
      ],
      "source": [
        "data['week_day'].hist(bins=14)\n",
        "# Большая часть выставленных на продажу квартир, были опубликованы в будни, преимущественно во вторник и четверг"
      ]
    },
    {
      "cell_type": "code",
      "execution_count": null,
      "metadata": {
        "id": "aXMXufUzSn_g",
        "outputId": "c6e205b1-2d9e-4f85-c99b-182597305c75"
      },
      "outputs": [
        {
          "data": {
            "text/plain": [
              "<AxesSubplot:>"
            ]
          },
          "execution_count": 56,
          "metadata": {},
          "output_type": "execute_result"
        },
        {
          "data": {
            "image/png": "[encoded data removed]",
            "text/plain": [
              "<Figure size 432x288 with 1 Axes>"
            ]
          },
          "metadata": {
            "needs_background": "light"
          },
          "output_type": "display_data"
        }
      ],
      "source": [
        "data['month'].hist(bins=24)\n",
        "# Большая часть объявлений были опубликованы в феврале, марте, апреле и ноябре"
      ]
    },
    {
      "cell_type": "markdown",
      "metadata": {
        "id": "PnViOJp4Sn_g"
      },
      "source": [
        "- общая площадь- Нормальное распределение графика, площадь наибольшей части квартир не превышает 45-50 квадратных метров, в среднем квартиры находятся в промежутке с 26 до 60 квадратных метров\n",
        "- жилая площадь- Нормальное распределение графика, жилая площадь наибольшей части квартир находится в промежутке 17-20 квадратных метров\n",
        "- площадь кухни- Нормальное распределение графика, хотя есть и несколько пиков площадь кухни наибольшей части квартир 6 - 10 квадратных метров\n",
        "- цена объекта- цена наибольшей части квартир не превышает 3.5 - 4.2 миллиона\n",
        "- количество комнат- Нормальное распределение графика, большая часть квартир это 1 и 2х комнатные квартиры. Есть небольшое колличество даже и 6х комантных квартир\n",
        "- высота потолков- Нормальное распределение графика, высота потолков квартир в среднем колеблется между 2.5 и 2.6 метрами\n",
        "- этаж квартиры- Согласно графику большая часть выставленных на продажу квартир располагается на 1-3 этажах\n",
        "- тип этажа квартиры («первый», «последний», «другой»)- Но в то-же время болшая часть из общего числа квартир, расположены не на первом или последнем этажах здания\n",
        "- общее количество этажей в доме- Большая часть квартир выставленных на продажу, расположены в 4-6 этажных зданиях\n",
        "- расстояние до центра города в метрах-  Большая часть выставленных на продажу квартир находится в 15 000 метров от центра города, однао есть большое колличество квартир длякоторых расстояние до центра города не было указано\n",
        "- расстояние до ближайшего аэропорта- Большая часть выставленных на продажу квартир находится в 13 000-15 500 метров от ближайшего аэропорта, однако есть и очень большое колличество объявленийдля которых расстояние до ближайшего аэропорта не было указано\n",
        "- расстояние до ближайшего парка- Большая часть выставленных на продажу квартир находится в 400 - 600 метрах от ближайшего парка, хотя также есть подовлюще большинство значений. для которых расстояние до ближайшего парка не было указано\n",
        "- день публикации объявления- Большая часть выставленных на продажу квартир, были опубликованы в будни, преимущественно во вторник и четверг\n",
        "- месяц публикации объявления- Большая часть объявлений были опубликованы в феврале, марте, апреле и ноябре"
      ]
    },
    {
      "cell_type": "markdown",
      "metadata": {
        "id": "kOHwVdPlSn_i"
      },
      "source": [
        "Также, одним из результатов ислледования данных с помощью гистограмм, стала очевидная нецелесообразности, замены пропусков на 0 в столбцах: parks_nearest, cityCenters_nearest, airports_nearest и ponds_nearest из-за большого колличества пропусков в данных столбцах и как следствие то влияние, которое они оказывали на всю картину, в связи с чем я отменил заполнение данных столбцов нулями, на этапе предобработки данных, что я использовал ранее."
      ]
    },
    {
      "cell_type": "markdown",
      "metadata": {
        "id": "BefQ5VCsSn_i"
      },
      "source": [
        "2. Изучиаем, как быстро продавались квартиры"
      ]
    },
    {
      "cell_type": "code",
      "execution_count": null,
      "metadata": {
        "id": "jEPKko0XSn_i",
        "outputId": "bc88813b-8855-4216-8670-d45ee0602ecb"
      },
      "outputs": [
        {
          "name": "stdout",
          "output_type": "stream",
          "text": [
            "AxesSubplot(0.125,0.125;0.775x0.755)\n",
            "count    15896.000000\n",
            "mean       173.841721\n",
            "std        212.768629\n",
            "min          1.000000\n",
            "25%         44.000000\n",
            "50%         92.000000\n",
            "75%        218.000000\n",
            "max       1553.000000\n",
            "Name: days_exposition, dtype: float64\n",
            "Cреднее значение= 173.84172118772017\n",
            "Медиана= 92.0\n"
          ]
        },
        {
          "data": {
            "image/png": "[encoded data removed]",
            "text/plain": [
              "<Figure size 432x288 with 1 Axes>"
            ]
          },
          "metadata": {
            "needs_background": "light"
          },
          "output_type": "display_data"
        }
      ],
      "source": [
        "print (data['days_exposition'].hist())\n",
        "print (data['days_exposition'].describe())\n",
        "print('Cреднее значение=', data['days_exposition'].mean())\n",
        "print('Медиана=', data['days_exposition'].median())"
      ]
    },
    {
      "cell_type": "code",
      "execution_count": null,
      "metadata": {
        "id": "HOdqLQVVSn_j",
        "outputId": "2a12e743-1d62-4821-89bd-7fc1b4aac21e"
      },
      "outputs": [
        {
          "name": "stdout",
          "output_type": "stream",
          "text": [
            "AxesSubplot(0.125,0.125;0.775x0.755)\n"
          ]
        },
        {
          "data": {
            "image/png": "[encoded data removed]",
            "text/plain": [
              "<Figure size 432x288 with 1 Axes>"
            ]
          },
          "metadata": {
            "needs_background": "light"
          },
          "output_type": "display_data"
        }
      ],
      "source": [
        "print (data['days_exposition'].hist(bins=100, range=(0,300)))"
      ]
    },
    {
      "cell_type": "markdown",
      "metadata": {
        "id": "LCe9BDDSSn_j"
      },
      "source": [
        "Обычно продажа занимает 92 дня, быстрыми можно считать продажи происходящие в промежутке от 1 до 40 дней, а необычайно долгими, все выходяшее за пределы 220 дней и до 1553 дней\n",
        "\n",
        "Также, на графике мы можем наблюдать аномалии на 45, 60 и 90 день. Возможно в этих случаях речь идет о графиках продажи какого-либо агентсва или автоматическом удалении выставленных объявлений в системе по прошествию опредленного периода времени в случае отсутствия активности по ним или работе какого-либо алгоритма."
      ]
    },
    {
      "cell_type": "markdown",
      "metadata": {
        "id": "LLBkkL2BSn_k"
      },
      "source": [
        "3. Какие факторы больше всего влияют на общую (полную) стоимость объекта?"
      ]
    },
    {
      "cell_type": "code",
      "execution_count": null,
      "metadata": {
        "scrolled": true,
        "id": "TJcf_iHmSn_l",
        "outputId": "7ba39df6-b424-4bd5-8e3a-e31483cae7eb"
      },
      "outputs": [
        {
          "data": {
            "text/plain": [
              "0.7259288003493533"
            ]
          },
          "execution_count": 59,
          "metadata": {},
          "output_type": "execute_result"
        },
        {
          "data": {
            "image/png": "[encoded data removed]",
            "text/plain": [
              "<Figure size 432x288 with 1 Axes>"
            ]
          },
          "metadata": {
            "needs_background": "light"
          },
          "output_type": "display_data"
        }
      ],
      "source": [
        "# Изучаем, зависит ли цена от общей площади\n",
        "# Чтобы узнать это, построим диаграмму рассеяния и посмотрим на значение Коэффициента Пирсона\n",
        "data.plot(x='total_area', y='last_price', kind='scatter')\n",
        "data['total_area'].corr(data['last_price'])"
      ]
    },
    {
      "cell_type": "code",
      "execution_count": null,
      "metadata": {
        "id": "gKVgwCUfSn_l",
        "outputId": "d4e010b4-5c24-4c9c-a0b2-374555679f04"
      },
      "outputs": [
        {
          "data": {
            "text/plain": [
              "0.6291141500831403"
            ]
          },
          "execution_count": 60,
          "metadata": {},
          "output_type": "execute_result"
        },
        {
          "data": {
            "image/png": "[encoded data removed]",
            "text/plain": [
              "<Figure size 432x288 with 1 Axes>"
            ]
          },
          "metadata": {
            "needs_background": "light"
          },
          "output_type": "display_data"
        }
      ],
      "source": [
        "# Изучаем, зависит ли цена от жилой площади\n",
        "# Чтобы узнать это, построим диаграмму рассеяния и посмотрим на значение Коэффициента Пирсона\n",
        "data.plot(x='living_area', y='last_price', kind='scatter')\n",
        "data['living_area'].corr(data['last_price'])"
      ]
    },
    {
      "cell_type": "code",
      "execution_count": null,
      "metadata": {
        "id": "BWaOlCZ6Sn_l",
        "outputId": "a71d1cb5-1422-4c57-bd28-66233de0c2a7"
      },
      "outputs": [
        {
          "data": {
            "text/plain": [
              "0.5451518549082082"
            ]
          },
          "execution_count": 61,
          "metadata": {},
          "output_type": "execute_result"
        },
        {
          "data": {
            "image/png": "[encoded data removed]",
            "text/plain": [
              "<Figure size 432x288 with 1 Axes>"
            ]
          },
          "metadata": {
            "needs_background": "light"
          },
          "output_type": "display_data"
        }
      ],
      "source": [
        "# Изучаем, зависит ли цена от площади кухни\n",
        "# Чтобы узнать это, построим диаграмму рассеяния и посмотрим на значение Коэффициента Пирсона\n",
        "data.plot(x='kitchen_area', y='last_price', kind='scatter')\n",
        "data['kitchen_area'].corr(data['last_price'])"
      ]
    },
    {
      "cell_type": "code",
      "execution_count": null,
      "metadata": {
        "id": "bgds-U0fSn_m",
        "outputId": "eb4eff9b-ffe5-42c5-d209-2adb7724caf7"
      },
      "outputs": [
        {
          "data": {
            "text/plain": [
              "0.3925381716790214"
            ]
          },
          "execution_count": 62,
          "metadata": {},
          "output_type": "execute_result"
        },
        {
          "data": {
            "image/png": "[encoded data removed]",
            "text/plain": [
              "<Figure size 432x288 with 1 Axes>"
            ]
          },
          "metadata": {
            "needs_background": "light"
          },
          "output_type": "display_data"
        }
      ],
      "source": [
        "# Изучаем, зависит ли цена от количества комнат\n",
        "# Чтобы узнать это, построим диаграмму рассеяния и посмотрим на значение Коэффициента Пирсона\n",
        "data.plot(x='rooms', y='last_price', kind='scatter')\n",
        "data['rooms'].corr(data['last_price'])"
      ]
    },
    {
      "cell_type": "code",
      "execution_count": null,
      "metadata": {
        "id": "a7pSsXDbSn_m",
        "outputId": "8740b46b-a507-4940-fcb1-230640d3ecdc"
      },
      "outputs": [
        {
          "data": {
            "text/plain": [
              "<AxesSubplot:xlabel='floor_category', ylabel='last_price'>"
            ]
          },
          "execution_count": 63,
          "metadata": {},
          "output_type": "execute_result"
        },
        {
          "data": {
            "image/png": "[encoded data removed]",
            "text/plain": [
              "<Figure size 432x288 with 1 Axes>"
            ]
          },
          "metadata": {
            "needs_background": "light"
          },
          "output_type": "display_data"
        }
      ],
      "source": [
        "# Изучаем, зависит ли цена от этажа, на котором расположена квартира (первый, последний, другой)\n",
        "# Чтобы узнать это, построим диаграмму рассеяния, коэффициент пирсона в этом случае построить не удастся, так как речь идет о строковом значение\n",
        "data.plot(x='floor_category', y='last_price', kind='scatter')"
      ]
    },
    {
      "cell_type": "code",
      "execution_count": null,
      "metadata": {
        "id": "_L0k_7f3Sn_n",
        "outputId": "5b59978e-abd1-47fb-e9da-d3b7326555a2"
      },
      "outputs": [
        {
          "data": {
            "text/plain": [
              "0.005384136945315869"
            ]
          },
          "execution_count": 64,
          "metadata": {},
          "output_type": "execute_result"
        },
        {
          "data": {
            "image/png": "[encoded data removed]",
            "text/plain": [
              "<Figure size 432x288 with 1 Axes>"
            ]
          },
          "metadata": {
            "needs_background": "light"
          },
          "output_type": "display_data"
        }
      ],
      "source": [
        "# Изучаем, зависит ли цена от даты размещения (день недели).\n",
        "# Чтобы узнать это, построим диаграмму рассеяния и посмотрим на значение Коэффициента Пирсона\n",
        "data.plot(x='week_day', y='last_price', kind='scatter')\n",
        "data['week_day'].corr(data['last_price'])"
      ]
    },
    {
      "cell_type": "code",
      "execution_count": null,
      "metadata": {
        "id": "eVvhHbLPSn_n",
        "outputId": "1aad44c1-3b1d-4b83-bf14-96b552078cd0"
      },
      "outputs": [
        {
          "data": {
            "text/plain": [
              "<AxesSubplot:xlabel='month', ylabel='last_price'>"
            ]
          },
          "execution_count": 65,
          "metadata": {},
          "output_type": "execute_result"
        },
        {
          "data": {
            "image/png": "[encoded data removed]",
            "text/plain": [
              "<Figure size 432x288 with 1 Axes>"
            ]
          },
          "metadata": {
            "needs_background": "light"
          },
          "output_type": "display_data"
        }
      ],
      "source": [
        "# Изучаем, зависит ли цена от даты размещения (месяц).\n",
        "# Чтобы узнать это, построим диаграмму рассеяния и посмотрим на значение Коэффициента Пирсона\n",
        "data.plot(x='month', y='last_price', kind='scatter')"
      ]
    },
    {
      "cell_type": "code",
      "execution_count": null,
      "metadata": {
        "id": "8RLLcwApSn_o",
        "outputId": "ba587589-4aa2-4014-bed8-a76d618322a5"
      },
      "outputs": [
        {
          "data": {
            "text/plain": [
              "-0.04699012966338642"
            ]
          },
          "execution_count": 66,
          "metadata": {},
          "output_type": "execute_result"
        },
        {
          "data": {
            "image/png": "[encoded data removed]",
            "text/plain": [
              "<Figure size 432x288 with 1 Axes>"
            ]
          },
          "metadata": {
            "needs_background": "light"
          },
          "output_type": "display_data"
        }
      ],
      "source": [
        "# Изучаем, зависит ли цена от даты размещения (год).\n",
        "# Чтобы узнать это, построим диаграмму рассеяния и посмотрим на значение Коэффициента Пирсона\n",
        "data.plot(x='year', y='last_price', kind='scatter')\n",
        "data['year'].corr(data['last_price'])"
      ]
    },
    {
      "cell_type": "markdown",
      "metadata": {
        "id": "jFSJiDIlSn_o"
      },
      "source": [
        "Наибольшая корреляция наблюдается между ценой и общей площадью квартиры, площадь кухни и жилая площадь чуть меньше влияют на итоговую цену.\n",
        "\n",
        "Наименьшая корреляция наблюдаетя у дат публикации объявления, день недели и месяц не влияют на цену кваритры, единственное что можно сказать так это то, что с каждым годом стоиомость квартир постепенно снижается и уменьшается число выбросов, наибольший пик приходился на 2016 год.\n",
        "\n",
        "Корреляция между ценой квартиры и колличеством комнат таже есть, однако она крайне невелика. Также небольшая корреляция есть и в связи с этажностью квартиры. Квартиры на первых этажах как правило стоят меньше чем другие квартиры, квартиры на последних этажах стоят в среднем чуть дороже, но не больше чем квартиры расположенные на любом другом этаже, кроме первого и последнего."
      ]
    },
    {
      "cell_type": "code",
      "execution_count": null,
      "metadata": {
        "id": "qr7cTMgwSn_q",
        "outputId": "c855d555-3045-489a-b427-df449f0bb8ce"
      },
      "outputs": [
        {
          "data": {
            "text/plain": [
              "<AxesSubplot:xlabel='year', ylabel='total_area'>"
            ]
          },
          "execution_count": 67,
          "metadata": {},
          "output_type": "execute_result"
        },
        {
          "data": {
            "image/png": "[encoded data removed]",
            "text/plain": [
              "<Figure size 432x288 with 1 Axes>"
            ]
          },
          "metadata": {
            "needs_background": "light"
          },
          "output_type": "display_data"
        }
      ],
      "source": [
        "# Изучим, зависит ли общая площадь квартир от даты размещения (год).\n",
        "# Чтобы узнать это, построим диаграмму рассеяния и посмотрим на значение Коэффициента Пирсона\n",
        "data.plot(x='year', y='total_area', kind='scatter')"
      ]
    },
    {
      "cell_type": "code",
      "execution_count": null,
      "metadata": {
        "id": "uPeLKiTNSn_q",
        "outputId": "33d5fc70-b86c-41b5-b38f-7ea6a4c2caa8"
      },
      "outputs": [
        {
          "data": {
            "text/plain": [
              "-0.07515479641492832"
            ]
          },
          "execution_count": 68,
          "metadata": {},
          "output_type": "execute_result"
        },
        {
          "data": {
            "image/png": "[encoded data removed]",
            "text/plain": [
              "<Figure size 432x288 with 1 Axes>"
            ]
          },
          "metadata": {
            "needs_background": "light"
          },
          "output_type": "display_data"
        }
      ],
      "source": [
        "# Изучим, зависит ли стоимость одного квадратного метра квартиры от даты размещения (год).\n",
        "# Чтобы узнать это, построим диаграмму рассеяния и посмотрим на значение Коэффициента Пирсона\n",
        "data.plot(x='year', y='total_area', kind='scatter')\n",
        "data['year'].corr(data['total_area'])"
      ]
    },
    {
      "cell_type": "markdown",
      "metadata": {
        "id": "oV7OXBFiSn_r"
      },
      "source": [
        "4. Считаем среднюю цену одного квадратного метра в топ 10 населённых пунктах"
      ]
    },
    {
      "cell_type": "code",
      "execution_count": null,
      "metadata": {
        "scrolled": true,
        "id": "SYC_Xj7uSn_r",
        "outputId": "cf1ba050-620d-4a29-eddb-6c3170ec7429"
      },
      "outputs": [
        {
          "data": {
            "text/html": [
              "<div>\n",
              "<style scoped>\n",
              "    .dataframe tbody tr th:only-of-type {\n",
              "        vertical-align: middle;\n",
              "    }\n",
              "\n",
              "    .dataframe tbody tr th {\n",
              "        vertical-align: top;\n",
              "    }\n",
              "\n",
              "    .dataframe thead th {\n",
              "        text-align: right;\n",
              "    }\n",
              "</style>\n",
              "<table border=\"1\" class=\"dataframe\">\n",
              "  <thead>\n",
              "    <tr style=\"text-align: right;\">\n",
              "      <th></th>\n",
              "      <th>price_per1m</th>\n",
              "      <th>floor</th>\n",
              "    </tr>\n",
              "    <tr>\n",
              "      <th>locality_name</th>\n",
              "      <th></th>\n",
              "      <th></th>\n",
              "    </tr>\n",
              "  </thead>\n",
              "  <tbody>\n",
              "    <tr>\n",
              "      <th>Санкт-Петербург</th>\n",
              "      <td>201705.201204</td>\n",
              "      <td>11274</td>\n",
              "    </tr>\n",
              "    <tr>\n",
              "      <th>посёлок Мурино</th>\n",
              "      <td>173676.790836</td>\n",
              "      <td>462</td>\n",
              "    </tr>\n",
              "    <tr>\n",
              "      <th>Всеволожск</th>\n",
              "      <td>133519.525690</td>\n",
              "      <td>377</td>\n",
              "    </tr>\n",
              "    <tr>\n",
              "      <th>посёлок Шушары</th>\n",
              "      <td>156656.572258</td>\n",
              "      <td>375</td>\n",
              "    </tr>\n",
              "    <tr>\n",
              "      <th>Гатчина</th>\n",
              "      <td>120977.187299</td>\n",
              "      <td>291</td>\n",
              "    </tr>\n",
              "    <tr>\n",
              "      <th>Пушкин</th>\n",
              "      <td>186044.949089</td>\n",
              "      <td>263</td>\n",
              "    </tr>\n",
              "    <tr>\n",
              "      <th>деревня Кудрово</th>\n",
              "      <td>190617.002915</td>\n",
              "      <td>255</td>\n",
              "    </tr>\n",
              "    <tr>\n",
              "      <th>Колпино</th>\n",
              "      <td>131213.937341</td>\n",
              "      <td>254</td>\n",
              "    </tr>\n",
              "    <tr>\n",
              "      <th>посёлок Парголово</th>\n",
              "      <td>196295.547011</td>\n",
              "      <td>225</td>\n",
              "    </tr>\n",
              "    <tr>\n",
              "      <th>Выборг</th>\n",
              "      <td>98464.526899</td>\n",
              "      <td>221</td>\n",
              "    </tr>\n",
              "  </tbody>\n",
              "</table>\n",
              "</div>"
            ],
            "text/plain": [
              "                     price_per1m  floor\n",
              "locality_name                          \n",
              "Санкт-Петербург    201705.201204  11274\n",
              "посёлок Мурино     173676.790836    462\n",
              "Всеволожск         133519.525690    377\n",
              "посёлок Шушары     156656.572258    375\n",
              "Гатчина            120977.187299    291\n",
              "Пушкин             186044.949089    263\n",
              "деревня Кудрово    190617.002915    255\n",
              "Колпино            131213.937341    254\n",
              "посёлок Парголово  196295.547011    225\n",
              "Выборг              98464.526899    221"
            ]
          },
          "execution_count": 69,
          "metadata": {},
          "output_type": "execute_result"
        }
      ],
      "source": [
        "#Групируем данные по колличеству объявлений, чтобы получить топ 10\n",
        "data_per1sqm_grouped = data.groupby('locality_name')['floor'].count()\n",
        "#Соритруем их по убыванию и сохраняем\n",
        "data_per1sqm_grouped = data_per1sqm_grouped.sort_values(ascending=False)\n",
        "data_per1sqm_grouped = data_per1sqm_grouped.head(10)\n",
        "# Считаем среднеюю цену квартиры для каждого места\n",
        "data_per1sqm_pivot = data.pivot_table(index= 'locality_name', values= 'price_per1m', aggfunc= 'mean' )\n",
        "# Объединяем таблицы методом merge, дабы оставить средние значения\n",
        "# только по топу квартир с наибольшим колличеством объявлений полученных на первом шаге\n",
        "data_per1sqm = data_per1sqm_pivot.merge(data_per1sqm_grouped, on='locality_name', how='right')\n",
        "data_per1sqm"
      ]
    },
    {
      "cell_type": "code",
      "execution_count": null,
      "metadata": {
        "id": "M2zwAPuiSn_t",
        "outputId": "2e3cc85e-d881-49a7-b035-06457f72852a"
      },
      "outputs": [
        {
          "data": {
            "text/html": [
              "<div>\n",
              "<style scoped>\n",
              "    .dataframe tbody tr th:only-of-type {\n",
              "        vertical-align: middle;\n",
              "    }\n",
              "\n",
              "    .dataframe tbody tr th {\n",
              "        vertical-align: top;\n",
              "    }\n",
              "\n",
              "    .dataframe thead th {\n",
              "        text-align: right;\n",
              "    }\n",
              "</style>\n",
              "<table border=\"1\" class=\"dataframe\">\n",
              "  <thead>\n",
              "    <tr style=\"text-align: right;\">\n",
              "      <th></th>\n",
              "      <th>price_per1m</th>\n",
              "    </tr>\n",
              "    <tr>\n",
              "      <th>locality_name</th>\n",
              "      <th></th>\n",
              "    </tr>\n",
              "  </thead>\n",
              "  <tbody>\n",
              "    <tr>\n",
              "      <th>посёлок Новая Ропша</th>\n",
              "      <td>250000.000000</td>\n",
              "    </tr>\n",
              "    <tr>\n",
              "      <th>Кудрово</th>\n",
              "      <td>209388.770740</td>\n",
              "    </tr>\n",
              "    <tr>\n",
              "      <th>Санкт-Петербург</th>\n",
              "      <td>201705.201204</td>\n",
              "    </tr>\n",
              "    <tr>\n",
              "      <th>Сестрорецк</th>\n",
              "      <td>197432.551871</td>\n",
              "    </tr>\n",
              "    <tr>\n",
              "      <th>посёлок Парголово</th>\n",
              "      <td>196295.547011</td>\n",
              "    </tr>\n",
              "    <tr>\n",
              "      <th>...</th>\n",
              "      <td>...</td>\n",
              "    </tr>\n",
              "    <tr>\n",
              "      <th>посёлок Совхозный</th>\n",
              "      <td>22600.000000</td>\n",
              "    </tr>\n",
              "    <tr>\n",
              "      <th>посёлок Тёсово-4</th>\n",
              "      <td>20833.333333</td>\n",
              "    </tr>\n",
              "    <tr>\n",
              "      <th>деревня Выскатка</th>\n",
              "      <td>18856.907895</td>\n",
              "    </tr>\n",
              "    <tr>\n",
              "      <th>деревня Старополье</th>\n",
              "      <td>14851.485149</td>\n",
              "    </tr>\n",
              "    <tr>\n",
              "      <th>деревня Малая Романовка</th>\n",
              "      <td>14808.362369</td>\n",
              "    </tr>\n",
              "  </tbody>\n",
              "</table>\n",
              "<p>298 rows × 1 columns</p>\n",
              "</div>"
            ],
            "text/plain": [
              "                           price_per1m\n",
              "locality_name                         \n",
              "посёлок Новая Ропша      250000.000000\n",
              "Кудрово                  209388.770740\n",
              "Санкт-Петербург          201705.201204\n",
              "Сестрорецк               197432.551871\n",
              "посёлок Парголово        196295.547011\n",
              "...                                ...\n",
              "посёлок Совхозный         22600.000000\n",
              "посёлок Тёсово-4          20833.333333\n",
              "деревня Выскатка          18856.907895\n",
              "деревня Старополье        14851.485149\n",
              "деревня Малая Романовка   14808.362369\n",
              "\n",
              "[298 rows x 1 columns]"
            ]
          },
          "execution_count": 70,
          "metadata": {},
          "output_type": "execute_result"
        }
      ],
      "source": [
        "#Вычисляем населеднные пункты с самым большой и наименьшей стоимостью квадратного метра.\n",
        "data_per1sqm_all = data.pivot_table(index= 'locality_name', values= 'price_per1m', aggfunc= 'mean' )\n",
        "data_per1sqm_all = data_per1sqm_all.sort_values(by='price_per1m',ascending=False)\n",
        "data_per1sqm_all"
      ]
    },
    {
      "cell_type": "markdown",
      "metadata": {
        "id": "7tTof2juSn_t"
      },
      "source": [
        "Самая высокая стоимость квадратного метра у квартир расположенных в посёлке Новая Ропша, а самая низкая в деревня Малая Романовка. И оба этих населенных пункта не входят в топ 10, по числу опубликованных объявлений."
      ]
    },
    {
      "cell_type": "markdown",
      "metadata": {
        "id": "TTBItVKXSn_t"
      },
      "source": [
        "5. Изучим зависимость между расстоянием от центра и ценой квадратного метра квартиры для Санкт-Петербурга"
      ]
    },
    {
      "cell_type": "code",
      "execution_count": null,
      "metadata": {
        "id": "1AWkp6A5Sn_v",
        "outputId": "5f4b3845-bb9d-4b12-9895-6436ea1f8b4d"
      },
      "outputs": [
        {
          "name": "stderr",
          "output_type": "stream",
          "text": [
            "/tmp/ipykernel_31/2994012846.py:4: SettingWithCopyWarning: \n",
            "A value is trying to be set on a copy of a slice from a DataFrame.\n",
            "Try using .loc[row_indexer,col_indexer] = value instead\n",
            "\n",
            "See the caveats in the documentation: https://pandas.pydata.org/pandas-docs/stable/user_guide/indexing.html#returning-a-view-versus-a-copy\n",
            "  spb_flats['price_per_km_from_CityCenter'] = spb_flats['last_price'] / spb_flats['cityCenters_km']\n"
          ]
        },
        {
          "data": {
            "text/plain": [
              "inf"
            ]
          },
          "execution_count": 72,
          "metadata": {},
          "output_type": "execute_result"
        }
      ],
      "source": [
        "# Отсортировываем из общего списка квартиры находяшиеся в Санкт-Петерубрге и созраняем их в переменной - spb_flats\n",
        "spb_flats= data.query('locality_name == \"Санкт-Петербург\"')\n",
        "# Добавляем в датафрейм новый столбец со стоимостью за каждый килломент от центра города\n",
        "spb_flats['price_per_km_from_CityCenter'] = spb_flats['last_price'] / spb_flats['cityCenters_km']\n",
        "# Высчитываем среднюю цену каждого киллометра и выводим результат на экран\n",
        "spb_flats['price_per_km_from_CityCenter'].mean()"
      ]
    },
    {
      "cell_type": "code",
      "execution_count": null,
      "metadata": {
        "id": "lByx-kKySn_v",
        "outputId": "0b525451-8562-4aa5-d325-a30ff13af983"
      },
      "outputs": [
        {
          "data": {
            "text/plain": [
              "<AxesSubplot:xlabel='cityCenters_km', ylabel='price_per_km_from_CityCenter'>"
            ]
          },
          "execution_count": 73,
          "metadata": {},
          "output_type": "execute_result"
        },
        {
          "data": {
            "image/png": "[encoded data removed]",
            "text/plain": [
              "<Figure size 432x288 with 1 Axes>"
            ]
          },
          "metadata": {
            "needs_background": "light"
          },
          "output_type": "display_data"
        }
      ],
      "source": [
        "# C помощью графика смотрим, как удалленость от центра города влияет на стоимость киллометра\n",
        "spb_flats.plot(x='cityCenters_km', y='price_per_km_from_CityCenter', kind='scatter')\n"
      ]
    },
    {
      "cell_type": "code",
      "execution_count": null,
      "metadata": {
        "id": "H7j6nlm_Sn_v",
        "outputId": "bb6645fb-c70b-43b3-8a42-eb660b7dd8a0"
      },
      "outputs": [
        {
          "data": {
            "text/plain": [
              "<AxesSubplot:xlabel='cityCenters_km', ylabel='last_price'>"
            ]
          },
          "execution_count": 74,
          "metadata": {},
          "output_type": "execute_result"
        },
        {
          "data": {
            "image/png": "[encoded data removed]",
            "text/plain": [
              "<Figure size 432x288 with 1 Axes>"
            ]
          },
          "metadata": {
            "needs_background": "light"
          },
          "output_type": "display_data"
        }
      ],
      "source": [
        "# C помощью графика смотрим, как удалленость от центра города влияет на стоимость квартиры\n",
        "spb_flats.plot(x='cityCenters_km', y='last_price', kind='scatter')\n"
      ]
    },
    {
      "cell_type": "markdown",
      "source": [
        "Добавим ниже линейную диаграмму и посмотрим динамику и зависимость цены от расстояния\n"
      ],
      "metadata": {
        "id": "pm9tH3F_aT4Y"
      }
    },
    {
      "cell_type": "code",
      "execution_count": null,
      "metadata": {
        "id": "Geh1DuJFSn_y",
        "outputId": "2c352721-038d-45ab-cdeb-a0b1401cc3ec"
      },
      "outputs": [
        {
          "data": {
            "image/png": "[encoded data removed]",
            "text/plain": [
              "<Figure size 1440x576 with 1 Axes>"
            ]
          },
          "metadata": {
            "needs_background": "light"
          },
          "output_type": "display_data"
        }
      ],
      "source": [
        "data[data['locality_name'] == 'Санкт-Петербург'].groupby('cityCenters_km')['last_price'].mean().plot(figsize = (20, 8),\n",
        "    title = ('Заголовок'));"
      ]
    },
    {
      "cell_type": "markdown",
      "metadata": {
        "id": "veI6KcgFSn_y"
      },
      "source": [
        "Как и следовало ожидать, чем дальше квартира находится от центра города, тем меньше стоит каждый ее киллометр и тем меньше стоит сама квартира, что мы прекасно можем видеть на графиках. Соответственно чем дальше от центра города находится квартира, тем она дешевле.\n",
        "\n",
        "За вычетом нескольких исключений, где на цену могут сущетсвенно влиять другие факторы, большая часть объявлений соответствует этому правилу. Однако это правило верно только для Санк-Петерьурга, согласно общему выводу по таблице со всеми значениями, чем дальше квартира находится от центра города тем она дороже, однако в случае с Питером зависимость наблюдается ровно противоположная."
      ]
    },
    {
      "cell_type": "markdown",
      "metadata": {
        "id": "rZ8-jmh6Sn_y"
      },
      "source": [
        "### Общий вывод"
      ]
    },
    {
      "cell_type": "markdown",
      "metadata": {
        "id": "fnmq8bOLSn_z"
      },
      "source": [
        "В ходе исследования был выявлен ряд интересных факторов, касающихся как общей ситуации на рынке недвижимости, так и факторов, оказывающих наиболшее влияние на итоговую цену объекта. И даже сделать некоторые предположения касательно будущих объявлений и их динамики.\n",
        "\n",
        "Так например нам удалось вывести портрет среднего, наиболее популярного типа квартиры, выставляемого на продажу, это квартира:\n",
        "общей площадью 45-50 квадратных метров, стоящая 3.5 - 4.2 миллиона, чаще всего это 1 или 2 однкомнатная квартира, с высотой потолка 2.5 - 2.6 метров, расположенная на 2 или 3м этажей в 4-6 этажном доме, находящаяся в 15 000 метров от центра города, в 400-600 метрах от парка и 13-15 000 метров от ближайшего аэропорта, публикуются такие объявления преимущественно в будние дни, прежде всего по вторникам и четвергам, а большая часть объявлений публикуется в Феврале и Марте.\n",
        "\n",
        "Удалось вывести и среднюю скороть продажи квартир. Так, обычно продажа занимает 92 дня, быстрыми можно считать продажи происходящие в промежутке от 1 до 40 дней, а необычайно долгими, все выходяшее за пределы 220 дней и до 1553 дней.\n",
        "\n",
        "Наибольшим фактором влияющим на итоговую стоимость квартиры, является именно общая площадь квартиры, площадь кухни и жилая площадь чуть меньше влияют на итоговую цену, нежели ее общая площадь. Наименьшая корреляция наблюдаетя у дат публикации объявления, день недели и месяц не влияют на цену кваритры, единственное что можно сказать так это то, что с каждым годом стоиомость квартир постепенно снижается и уменьшается число выбросов, наибольший пик приходился на 2016 год.\n",
        "\n",
        "Корреляция между ценой квартиры и колличеством комнат таже есть, однако она крайне невелика. Также небольшая корреляция есть и в связи с этажностью квартиры. Квартиры на первых этажах как правило стоят меньше чем другие квартиры, квартиры на последних этажах стоят в среднем чуть дороже, но не больше чем квартиры расположенные на любом другом этаже, кроме первого и последнего.\n",
        "\n",
        "Также нам удалсь вывести топ10 квартир с наибольшим числом объявлений, в этот список вошли (Санкт-Петербург, посёлок Мурино,\n",
        "Всеволожск, посёлок Шушары, Гатчина, Пушкин, деревня Кудрово, Колпино, посёлок Парголово и Выборг). Самая высокая стоимость квадратного метра у квартир расположенных в посёлке Новая Ропша, а самая низкая в деревня Малая Романовка. И оба этих населенных пункта не входят в топ 10, по числу опубликованных объявлений.\n",
        "\n",
        "Как и следовало ожидать, чем дальше квартира находится от центра города, тем меньше стоит каждый ее киллометр и тем меньше стоит сама квартира, что мы прекасно можем видеть на графиках. Соответственно чем дальше от центра города находится квартира, тем она дешевле. За вычетом нескольких исключений, где на цену могут сущетсвенно влиять другие факторы, большая часть объявлений соответствует этому правилу. Однако это правило верно только для Санк-Петерьурга, согласно общему выводу по таблице со всеми значениями, чем дальше квартира находится от центра города тем она дороже, однако в случае с Питером зависимость наблюдается ровно противоположная.\n",
        "\n",
        "Также, одним из выводов сделанных в процессе анализа можно считать то, что изначально в данных было допущено достаточно много пропусков, причем большей частью они присутствовали в картографических данных, нежели в данных вносимых пользователями, что может говорить или о несовершенстве алгоритмов или же о несовсем верной выгрузке данных."
      ]
    }
  ],
  "metadata": {
    "ExecuteTimeLog": [
      {
        "duration": 656,
        "start_time": "2022-07-15T15:23:17.422Z"
      },
      {
        "duration": 95,
        "start_time": "2022-07-15T15:23:43.973Z"
      },
      {
        "duration": 109,
        "start_time": "2022-07-15T15:23:48.824Z"
      },
      {
        "duration": 93,
        "start_time": "2022-07-15T15:27:45.171Z"
      },
      {
        "duration": 113,
        "start_time": "2022-07-15T15:28:57.640Z"
      },
      {
        "duration": 95,
        "start_time": "2022-07-15T15:29:07.421Z"
      },
      {
        "duration": 107,
        "start_time": "2022-07-15T15:30:10.331Z"
      },
      {
        "duration": 91,
        "start_time": "2022-07-15T15:30:43.195Z"
      },
      {
        "duration": 109,
        "start_time": "2022-07-15T15:33:08.429Z"
      },
      {
        "duration": 101,
        "start_time": "2022-07-15T15:33:20.566Z"
      },
      {
        "duration": 110,
        "start_time": "2022-07-15T15:33:41.358Z"
      },
      {
        "duration": 154,
        "start_time": "2022-07-15T15:35:58.578Z"
      },
      {
        "duration": 182,
        "start_time": "2022-07-15T15:36:20.393Z"
      },
      {
        "duration": 142,
        "start_time": "2022-07-15T15:36:25.230Z"
      },
      {
        "duration": 37,
        "start_time": "2022-07-15T15:40:48.670Z"
      },
      {
        "duration": 187,
        "start_time": "2022-07-15T15:40:57.634Z"
      },
      {
        "duration": 18,
        "start_time": "2022-07-15T15:41:06.068Z"
      },
      {
        "duration": 3094,
        "start_time": "2022-07-15T15:41:36.841Z"
      },
      {
        "duration": 709,
        "start_time": "2022-07-16T08:13:44.807Z"
      },
      {
        "duration": 15,
        "start_time": "2022-07-16T08:15:00.325Z"
      },
      {
        "duration": 14,
        "start_time": "2022-07-16T08:16:42.967Z"
      },
      {
        "duration": 7,
        "start_time": "2022-07-16T08:52:40.981Z"
      },
      {
        "duration": 6,
        "start_time": "2022-07-16T08:53:04.900Z"
      },
      {
        "duration": 5,
        "start_time": "2022-07-16T08:53:27.313Z"
      },
      {
        "duration": 947,
        "start_time": "2022-07-16T08:54:29.392Z"
      },
      {
        "duration": 7,
        "start_time": "2022-07-16T08:54:35.854Z"
      },
      {
        "duration": 7,
        "start_time": "2022-07-16T09:01:33.572Z"
      },
      {
        "duration": 6,
        "start_time": "2022-07-16T09:06:15.618Z"
      },
      {
        "duration": 7,
        "start_time": "2022-07-16T09:20:41.332Z"
      },
      {
        "duration": 7,
        "start_time": "2022-07-16T09:45:48.653Z"
      },
      {
        "duration": 23,
        "start_time": "2022-07-16T09:48:01.173Z"
      },
      {
        "duration": 15,
        "start_time": "2022-07-16T09:48:18.763Z"
      },
      {
        "duration": 14,
        "start_time": "2022-07-16T09:48:31.228Z"
      },
      {
        "duration": 23,
        "start_time": "2022-07-16T09:51:04.670Z"
      },
      {
        "duration": 21,
        "start_time": "2022-07-16T09:53:26.065Z"
      },
      {
        "duration": 20,
        "start_time": "2022-07-16T09:55:02.086Z"
      },
      {
        "duration": 19,
        "start_time": "2022-07-16T10:01:19.344Z"
      },
      {
        "duration": 5,
        "start_time": "2022-07-16T10:16:28.391Z"
      },
      {
        "duration": 4,
        "start_time": "2022-07-16T10:24:31.391Z"
      },
      {
        "duration": 26,
        "start_time": "2022-07-16T10:24:40.130Z"
      },
      {
        "duration": 37,
        "start_time": "2022-07-16T10:24:48.352Z"
      },
      {
        "duration": 19,
        "start_time": "2022-07-16T10:28:23.837Z"
      },
      {
        "duration": 13,
        "start_time": "2022-07-16T10:28:49.106Z"
      },
      {
        "duration": 13,
        "start_time": "2022-07-16T10:30:21.602Z"
      },
      {
        "duration": 18,
        "start_time": "2022-07-16T10:30:42.950Z"
      },
      {
        "duration": 21,
        "start_time": "2022-07-16T10:34:22.586Z"
      },
      {
        "duration": 48,
        "start_time": "2022-07-16T10:37:24.688Z"
      },
      {
        "duration": 9,
        "start_time": "2022-07-16T10:37:29.123Z"
      },
      {
        "duration": 9,
        "start_time": "2022-07-16T10:37:35.564Z"
      },
      {
        "duration": 30,
        "start_time": "2022-07-16T10:51:03.446Z"
      },
      {
        "duration": 19,
        "start_time": "2022-07-16T10:51:12.309Z"
      },
      {
        "duration": 8,
        "start_time": "2022-07-16T10:51:41.211Z"
      },
      {
        "duration": 9,
        "start_time": "2022-07-16T10:51:57.897Z"
      },
      {
        "duration": 6,
        "start_time": "2022-07-16T10:53:32.843Z"
      },
      {
        "duration": 8,
        "start_time": "2022-07-16T10:58:57.314Z"
      },
      {
        "duration": 54,
        "start_time": "2022-07-16T11:00:19.480Z"
      },
      {
        "duration": 20,
        "start_time": "2022-07-16T11:00:28.085Z"
      },
      {
        "duration": 52,
        "start_time": "2022-07-18T14:06:52.978Z"
      },
      {
        "duration": 593,
        "start_time": "2022-07-18T14:07:00.577Z"
      },
      {
        "duration": 16,
        "start_time": "2022-07-18T14:07:01.171Z"
      },
      {
        "duration": 2549,
        "start_time": "2022-07-18T14:07:01.189Z"
      },
      {
        "duration": 16,
        "start_time": "2022-07-18T14:07:03.740Z"
      },
      {
        "duration": 7,
        "start_time": "2022-07-18T14:07:03.758Z"
      },
      {
        "duration": 27,
        "start_time": "2022-07-18T14:07:03.767Z"
      },
      {
        "duration": 14,
        "start_time": "2022-07-18T14:07:03.796Z"
      },
      {
        "duration": 26,
        "start_time": "2022-07-18T14:07:03.812Z"
      },
      {
        "duration": 7,
        "start_time": "2022-07-18T14:07:03.839Z"
      },
      {
        "duration": 64,
        "start_time": "2022-07-18T14:07:03.847Z"
      },
      {
        "duration": 90,
        "start_time": "2022-07-18T14:10:11.823Z"
      },
      {
        "duration": 56,
        "start_time": "2022-07-18T14:32:51.507Z"
      },
      {
        "duration": 41,
        "start_time": "2022-07-18T14:33:12.738Z"
      },
      {
        "duration": 9,
        "start_time": "2022-07-18T14:38:33.370Z"
      },
      {
        "duration": 7,
        "start_time": "2022-07-18T14:39:00.314Z"
      },
      {
        "duration": 8,
        "start_time": "2022-07-18T14:39:09.884Z"
      },
      {
        "duration": 8,
        "start_time": "2022-07-18T14:39:29.778Z"
      },
      {
        "duration": 9,
        "start_time": "2022-07-18T14:39:35.767Z"
      },
      {
        "duration": 10,
        "start_time": "2022-07-18T14:39:38.881Z"
      },
      {
        "duration": 5,
        "start_time": "2022-07-18T14:39:56.078Z"
      },
      {
        "duration": 51,
        "start_time": "2022-07-18T14:40:05.869Z"
      },
      {
        "duration": 1417,
        "start_time": "2022-07-18T14:44:55.228Z"
      },
      {
        "duration": 7,
        "start_time": "2022-07-18T14:45:21.268Z"
      },
      {
        "duration": 144,
        "start_time": "2022-07-18T14:46:30.746Z"
      },
      {
        "duration": 135,
        "start_time": "2022-07-18T14:46:45.694Z"
      },
      {
        "duration": 120,
        "start_time": "2022-07-18T15:00:06.113Z"
      },
      {
        "duration": 118,
        "start_time": "2022-07-18T15:02:26.319Z"
      },
      {
        "duration": 67,
        "start_time": "2022-07-19T17:09:22.724Z"
      },
      {
        "duration": 628,
        "start_time": "2022-07-19T17:09:28.708Z"
      },
      {
        "duration": 29,
        "start_time": "2022-07-19T17:09:29.339Z"
      },
      {
        "duration": 2993,
        "start_time": "2022-07-19T17:09:29.371Z"
      },
      {
        "duration": 16,
        "start_time": "2022-07-19T17:09:32.367Z"
      },
      {
        "duration": 9,
        "start_time": "2022-07-19T17:09:32.385Z"
      },
      {
        "duration": 29,
        "start_time": "2022-07-19T17:09:32.396Z"
      },
      {
        "duration": 23,
        "start_time": "2022-07-19T17:09:32.426Z"
      },
      {
        "duration": 47,
        "start_time": "2022-07-19T17:09:32.451Z"
      },
      {
        "duration": 7,
        "start_time": "2022-07-19T17:09:32.500Z"
      },
      {
        "duration": 87,
        "start_time": "2022-07-19T17:09:32.509Z"
      },
      {
        "duration": 189,
        "start_time": "2022-07-19T17:09:32.597Z"
      },
      {
        "duration": 176,
        "start_time": "2022-07-19T17:09:56.898Z"
      },
      {
        "duration": 158,
        "start_time": "2022-07-19T17:10:11.781Z"
      },
      {
        "duration": 181,
        "start_time": "2022-07-19T17:10:21.613Z"
      },
      {
        "duration": 207,
        "start_time": "2022-07-19T17:10:25.158Z"
      },
      {
        "duration": 283,
        "start_time": "2022-07-19T17:10:40.934Z"
      },
      {
        "duration": 159,
        "start_time": "2022-07-19T17:10:45.376Z"
      },
      {
        "duration": 170,
        "start_time": "2022-07-19T17:10:54.815Z"
      },
      {
        "duration": 184,
        "start_time": "2022-07-19T17:11:04.706Z"
      },
      {
        "duration": 435,
        "start_time": "2022-07-19T17:21:05.078Z"
      },
      {
        "duration": 207,
        "start_time": "2022-07-19T17:22:55.162Z"
      },
      {
        "duration": 143,
        "start_time": "2022-07-19T17:25:02.979Z"
      },
      {
        "duration": 134,
        "start_time": "2022-07-19T17:26:04.483Z"
      },
      {
        "duration": 186,
        "start_time": "2022-07-19T17:26:10.383Z"
      },
      {
        "duration": 61,
        "start_time": "2022-07-19T17:39:02.207Z"
      },
      {
        "duration": 9,
        "start_time": "2022-07-19T17:40:36.966Z"
      },
      {
        "duration": 6,
        "start_time": "2022-07-19T17:40:39.173Z"
      },
      {
        "duration": 7,
        "start_time": "2022-07-19T17:40:40.398Z"
      },
      {
        "duration": 60,
        "start_time": "2022-07-19T17:40:51.767Z"
      },
      {
        "duration": 66,
        "start_time": "2022-07-19T17:41:08.105Z"
      },
      {
        "duration": 52,
        "start_time": "2022-07-19T17:41:17.462Z"
      },
      {
        "duration": 146,
        "start_time": "2022-07-19T17:41:41.069Z"
      },
      {
        "duration": 53,
        "start_time": "2022-07-19T17:41:41.218Z"
      },
      {
        "duration": 2456,
        "start_time": "2022-07-19T17:41:41.275Z"
      },
      {
        "duration": 28,
        "start_time": "2022-07-19T17:41:43.733Z"
      },
      {
        "duration": 24,
        "start_time": "2022-07-19T17:41:43.768Z"
      },
      {
        "duration": 25,
        "start_time": "2022-07-19T17:41:43.794Z"
      },
      {
        "duration": 30,
        "start_time": "2022-07-19T17:41:43.821Z"
      },
      {
        "duration": 55,
        "start_time": "2022-07-19T17:41:43.853Z"
      },
      {
        "duration": 7,
        "start_time": "2022-07-19T17:41:43.910Z"
      },
      {
        "duration": 99,
        "start_time": "2022-07-19T17:41:43.919Z"
      },
      {
        "duration": 159,
        "start_time": "2022-07-19T17:41:44.020Z"
      },
      {
        "duration": 3,
        "start_time": "2022-07-19T17:41:44.181Z"
      },
      {
        "duration": 14,
        "start_time": "2022-07-19T17:41:44.186Z"
      },
      {
        "duration": 7,
        "start_time": "2022-07-19T17:41:44.202Z"
      },
      {
        "duration": 92,
        "start_time": "2022-07-19T17:41:44.210Z"
      },
      {
        "duration": 49,
        "start_time": "2022-07-20T18:39:39.394Z"
      },
      {
        "duration": 653,
        "start_time": "2022-07-20T18:39:43.714Z"
      },
      {
        "duration": 15,
        "start_time": "2022-07-20T18:39:44.369Z"
      },
      {
        "duration": 2424,
        "start_time": "2022-07-20T18:39:44.386Z"
      },
      {
        "duration": 21,
        "start_time": "2022-07-20T18:39:46.812Z"
      },
      {
        "duration": 23,
        "start_time": "2022-07-20T18:39:46.836Z"
      },
      {
        "duration": 33,
        "start_time": "2022-07-20T18:39:46.861Z"
      },
      {
        "duration": 18,
        "start_time": "2022-07-20T18:39:46.896Z"
      },
      {
        "duration": 34,
        "start_time": "2022-07-20T18:39:46.916Z"
      },
      {
        "duration": 8,
        "start_time": "2022-07-20T18:39:46.952Z"
      },
      {
        "duration": 95,
        "start_time": "2022-07-20T18:39:46.962Z"
      },
      {
        "duration": 119,
        "start_time": "2022-07-20T18:39:47.059Z"
      },
      {
        "duration": 5,
        "start_time": "2022-07-20T18:39:47.179Z"
      },
      {
        "duration": 8,
        "start_time": "2022-07-20T18:39:47.197Z"
      },
      {
        "duration": 24,
        "start_time": "2022-07-20T18:39:47.207Z"
      },
      {
        "duration": 66,
        "start_time": "2022-07-20T18:39:47.233Z"
      },
      {
        "duration": 38,
        "start_time": "2022-07-20T18:39:47.301Z"
      },
      {
        "duration": 0,
        "start_time": "2022-07-20T18:39:47.340Z"
      },
      {
        "duration": 10,
        "start_time": "2022-07-20T18:54:26.685Z"
      },
      {
        "duration": 46,
        "start_time": "2022-07-20T18:54:36.471Z"
      },
      {
        "duration": 5,
        "start_time": "2022-07-20T19:07:06.623Z"
      },
      {
        "duration": 4,
        "start_time": "2022-07-20T19:08:05.547Z"
      },
      {
        "duration": 43,
        "start_time": "2022-07-20T19:08:38.288Z"
      },
      {
        "duration": 9,
        "start_time": "2022-07-20T19:14:29.090Z"
      },
      {
        "duration": 8,
        "start_time": "2022-07-20T19:14:33.017Z"
      },
      {
        "duration": 121,
        "start_time": "2022-07-20T19:14:47.811Z"
      },
      {
        "duration": 144,
        "start_time": "2022-07-20T19:15:58.857Z"
      },
      {
        "duration": 125,
        "start_time": "2022-07-20T19:16:08.289Z"
      },
      {
        "duration": 147,
        "start_time": "2022-07-20T19:16:32.040Z"
      },
      {
        "duration": 185,
        "start_time": "2022-07-20T19:16:45.070Z"
      },
      {
        "duration": 127,
        "start_time": "2022-07-20T19:16:53.197Z"
      },
      {
        "duration": 127,
        "start_time": "2022-07-20T19:17:03.670Z"
      },
      {
        "duration": 125,
        "start_time": "2022-07-20T19:17:12.448Z"
      },
      {
        "duration": 119,
        "start_time": "2022-07-20T19:17:33.440Z"
      },
      {
        "duration": 118,
        "start_time": "2022-07-20T19:17:39.458Z"
      },
      {
        "duration": 141,
        "start_time": "2022-07-20T19:19:25.587Z"
      },
      {
        "duration": 123,
        "start_time": "2022-07-20T19:19:38.416Z"
      },
      {
        "duration": 170,
        "start_time": "2022-07-20T19:19:46.646Z"
      },
      {
        "duration": 142,
        "start_time": "2022-07-20T19:20:20.797Z"
      },
      {
        "duration": 135,
        "start_time": "2022-07-20T19:20:28.973Z"
      },
      {
        "duration": 15,
        "start_time": "2022-07-20T19:20:29.111Z"
      },
      {
        "duration": 2024,
        "start_time": "2022-07-20T19:20:29.128Z"
      },
      {
        "duration": 14,
        "start_time": "2022-07-20T19:20:31.153Z"
      },
      {
        "duration": 7,
        "start_time": "2022-07-20T19:20:31.169Z"
      },
      {
        "duration": 21,
        "start_time": "2022-07-20T19:20:31.199Z"
      },
      {
        "duration": 13,
        "start_time": "2022-07-20T19:20:31.222Z"
      },
      {
        "duration": 26,
        "start_time": "2022-07-20T19:20:31.237Z"
      },
      {
        "duration": 7,
        "start_time": "2022-07-20T19:20:31.297Z"
      },
      {
        "duration": 71,
        "start_time": "2022-07-20T19:20:31.306Z"
      },
      {
        "duration": 184,
        "start_time": "2022-07-20T19:20:31.379Z"
      },
      {
        "duration": 4,
        "start_time": "2022-07-20T19:20:31.565Z"
      },
      {
        "duration": 23,
        "start_time": "2022-07-20T19:20:31.570Z"
      },
      {
        "duration": 9,
        "start_time": "2022-07-20T19:20:31.600Z"
      },
      {
        "duration": 10,
        "start_time": "2022-07-20T19:20:31.611Z"
      },
      {
        "duration": 20,
        "start_time": "2022-07-20T19:20:31.623Z"
      },
      {
        "duration": 5,
        "start_time": "2022-07-20T19:20:31.646Z"
      },
      {
        "duration": 55,
        "start_time": "2022-07-20T19:20:31.653Z"
      },
      {
        "duration": 112,
        "start_time": "2022-07-20T19:21:43.020Z"
      },
      {
        "duration": 127,
        "start_time": "2022-07-20T19:22:14.521Z"
      },
      {
        "duration": 131,
        "start_time": "2022-07-20T19:22:24.824Z"
      },
      {
        "duration": 214,
        "start_time": "2022-07-20T19:22:37.985Z"
      },
      {
        "duration": 137,
        "start_time": "2022-07-20T19:22:39.597Z"
      },
      {
        "duration": 14,
        "start_time": "2022-07-20T19:22:39.736Z"
      },
      {
        "duration": 1921,
        "start_time": "2022-07-20T19:22:39.751Z"
      },
      {
        "duration": 24,
        "start_time": "2022-07-20T19:22:41.674Z"
      },
      {
        "duration": 10,
        "start_time": "2022-07-20T19:22:41.700Z"
      },
      {
        "duration": 23,
        "start_time": "2022-07-20T19:22:41.711Z"
      },
      {
        "duration": 13,
        "start_time": "2022-07-20T19:22:41.736Z"
      },
      {
        "duration": 52,
        "start_time": "2022-07-20T19:22:41.751Z"
      },
      {
        "duration": 7,
        "start_time": "2022-07-20T19:22:41.804Z"
      },
      {
        "duration": 104,
        "start_time": "2022-07-20T19:22:41.815Z"
      },
      {
        "duration": 128,
        "start_time": "2022-07-20T19:22:41.921Z"
      },
      {
        "duration": 259,
        "start_time": "2022-07-20T19:22:42.051Z"
      },
      {
        "duration": 4,
        "start_time": "2022-07-20T19:22:42.312Z"
      },
      {
        "duration": 9,
        "start_time": "2022-07-20T19:22:42.318Z"
      },
      {
        "duration": 7,
        "start_time": "2022-07-20T19:22:42.329Z"
      },
      {
        "duration": 7,
        "start_time": "2022-07-20T19:22:42.337Z"
      },
      {
        "duration": 9,
        "start_time": "2022-07-20T19:22:42.345Z"
      },
      {
        "duration": 3,
        "start_time": "2022-07-20T19:22:42.356Z"
      },
      {
        "duration": 72,
        "start_time": "2022-07-20T19:22:42.361Z"
      },
      {
        "duration": 131,
        "start_time": "2022-07-20T19:23:39.565Z"
      },
      {
        "duration": 42,
        "start_time": "2022-07-20T19:24:06.157Z"
      },
      {
        "duration": 133,
        "start_time": "2022-07-20T19:25:05.509Z"
      },
      {
        "duration": 108,
        "start_time": "2022-07-20T19:25:55.052Z"
      },
      {
        "duration": 171,
        "start_time": "2022-07-20T19:26:08.889Z"
      },
      {
        "duration": 41,
        "start_time": "2022-07-20T19:26:13.206Z"
      },
      {
        "duration": 135,
        "start_time": "2022-07-20T19:26:14.645Z"
      },
      {
        "duration": 16,
        "start_time": "2022-07-20T19:26:14.782Z"
      },
      {
        "duration": 1998,
        "start_time": "2022-07-20T19:26:14.800Z"
      },
      {
        "duration": 19,
        "start_time": "2022-07-20T19:26:16.801Z"
      },
      {
        "duration": 12,
        "start_time": "2022-07-20T19:26:16.822Z"
      },
      {
        "duration": 31,
        "start_time": "2022-07-20T19:26:16.837Z"
      },
      {
        "duration": 45,
        "start_time": "2022-07-20T19:26:16.870Z"
      },
      {
        "duration": 24,
        "start_time": "2022-07-20T19:26:16.917Z"
      },
      {
        "duration": 8,
        "start_time": "2022-07-20T19:26:16.942Z"
      },
      {
        "duration": 89,
        "start_time": "2022-07-20T19:26:16.953Z"
      },
      {
        "duration": 304,
        "start_time": "2022-07-20T19:26:17.044Z"
      },
      {
        "duration": 57,
        "start_time": "2022-07-20T19:26:17.351Z"
      },
      {
        "duration": 5,
        "start_time": "2022-07-20T19:26:17.410Z"
      },
      {
        "duration": 10,
        "start_time": "2022-07-20T19:26:17.416Z"
      },
      {
        "duration": 6,
        "start_time": "2022-07-20T19:26:17.428Z"
      },
      {
        "duration": 6,
        "start_time": "2022-07-20T19:26:17.435Z"
      },
      {
        "duration": 8,
        "start_time": "2022-07-20T19:26:17.443Z"
      },
      {
        "duration": 5,
        "start_time": "2022-07-20T19:26:17.453Z"
      },
      {
        "duration": 75,
        "start_time": "2022-07-20T19:26:17.459Z"
      },
      {
        "duration": 167,
        "start_time": "2022-07-20T19:27:20.493Z"
      },
      {
        "duration": 150,
        "start_time": "2022-07-20T19:28:44.339Z"
      },
      {
        "duration": 127,
        "start_time": "2022-07-20T19:29:03.792Z"
      },
      {
        "duration": 11,
        "start_time": "2022-07-20T19:29:17.596Z"
      },
      {
        "duration": 126,
        "start_time": "2022-07-20T19:29:30.935Z"
      },
      {
        "duration": 15,
        "start_time": "2022-07-20T19:29:31.063Z"
      },
      {
        "duration": 1951,
        "start_time": "2022-07-20T19:29:31.080Z"
      },
      {
        "duration": 14,
        "start_time": "2022-07-20T19:29:33.033Z"
      },
      {
        "duration": 7,
        "start_time": "2022-07-20T19:29:33.049Z"
      },
      {
        "duration": 41,
        "start_time": "2022-07-20T19:29:33.058Z"
      },
      {
        "duration": 14,
        "start_time": "2022-07-20T19:29:33.101Z"
      },
      {
        "duration": 23,
        "start_time": "2022-07-20T19:29:33.117Z"
      },
      {
        "duration": 7,
        "start_time": "2022-07-20T19:29:33.141Z"
      },
      {
        "duration": 96,
        "start_time": "2022-07-20T19:29:33.149Z"
      },
      {
        "duration": 153,
        "start_time": "2022-07-20T19:29:33.247Z"
      },
      {
        "duration": 44,
        "start_time": "2022-07-20T19:29:33.402Z"
      },
      {
        "duration": 4,
        "start_time": "2022-07-20T19:29:33.448Z"
      },
      {
        "duration": 9,
        "start_time": "2022-07-20T19:29:33.455Z"
      },
      {
        "duration": 5,
        "start_time": "2022-07-20T19:29:33.466Z"
      },
      {
        "duration": 29,
        "start_time": "2022-07-20T19:29:33.473Z"
      },
      {
        "duration": 8,
        "start_time": "2022-07-20T19:29:33.504Z"
      },
      {
        "duration": 4,
        "start_time": "2022-07-20T19:29:33.514Z"
      },
      {
        "duration": 42,
        "start_time": "2022-07-20T19:29:33.520Z"
      },
      {
        "duration": 414,
        "start_time": "2022-07-20T19:31:44.090Z"
      },
      {
        "duration": 133,
        "start_time": "2022-07-20T19:31:51.530Z"
      },
      {
        "duration": 118,
        "start_time": "2022-07-20T19:32:43.041Z"
      },
      {
        "duration": 115,
        "start_time": "2022-07-20T19:33:42.561Z"
      },
      {
        "duration": 111,
        "start_time": "2022-07-20T19:34:28.618Z"
      },
      {
        "duration": 112,
        "start_time": "2022-07-20T19:34:34.451Z"
      },
      {
        "duration": 205,
        "start_time": "2022-07-20T19:34:57.015Z"
      },
      {
        "duration": 196,
        "start_time": "2022-07-20T19:35:21.436Z"
      },
      {
        "duration": 579,
        "start_time": "2022-07-21T13:43:44.400Z"
      },
      {
        "duration": 13,
        "start_time": "2022-07-21T13:43:44.980Z"
      },
      {
        "duration": 2387,
        "start_time": "2022-07-21T13:43:44.994Z"
      },
      {
        "duration": 17,
        "start_time": "2022-07-21T13:43:47.383Z"
      },
      {
        "duration": 48,
        "start_time": "2022-07-21T13:43:47.402Z"
      },
      {
        "duration": 43,
        "start_time": "2022-07-21T13:43:47.452Z"
      },
      {
        "duration": 24,
        "start_time": "2022-07-21T13:43:47.497Z"
      },
      {
        "duration": 57,
        "start_time": "2022-07-21T13:43:47.523Z"
      },
      {
        "duration": 20,
        "start_time": "2022-07-21T13:43:47.582Z"
      },
      {
        "duration": 133,
        "start_time": "2022-07-21T13:43:47.603Z"
      },
      {
        "duration": 115,
        "start_time": "2022-07-21T13:43:47.738Z"
      },
      {
        "duration": 251,
        "start_time": "2022-07-21T13:43:47.855Z"
      },
      {
        "duration": 0,
        "start_time": "2022-07-21T13:43:48.110Z"
      },
      {
        "duration": 0,
        "start_time": "2022-07-21T13:43:48.111Z"
      },
      {
        "duration": 0,
        "start_time": "2022-07-21T13:43:48.112Z"
      },
      {
        "duration": 0,
        "start_time": "2022-07-21T13:43:48.112Z"
      },
      {
        "duration": 0,
        "start_time": "2022-07-21T13:43:48.113Z"
      },
      {
        "duration": 0,
        "start_time": "2022-07-21T13:43:48.114Z"
      },
      {
        "duration": 0,
        "start_time": "2022-07-21T13:43:48.115Z"
      },
      {
        "duration": 10,
        "start_time": "2022-07-21T13:47:25.155Z"
      },
      {
        "duration": 56,
        "start_time": "2022-07-21T13:47:32.286Z"
      },
      {
        "duration": 66,
        "start_time": "2022-07-21T13:53:33.332Z"
      },
      {
        "duration": 10,
        "start_time": "2022-07-21T13:53:47.360Z"
      },
      {
        "duration": 20,
        "start_time": "2022-07-21T13:53:54.097Z"
      },
      {
        "duration": 19,
        "start_time": "2022-07-21T13:54:07.530Z"
      },
      {
        "duration": 11,
        "start_time": "2022-07-21T13:55:42.237Z"
      },
      {
        "duration": 138,
        "start_time": "2022-07-21T13:56:25.779Z"
      },
      {
        "duration": 26,
        "start_time": "2022-07-21T13:56:25.919Z"
      },
      {
        "duration": 2000,
        "start_time": "2022-07-21T13:56:25.947Z"
      },
      {
        "duration": 12,
        "start_time": "2022-07-21T13:56:27.949Z"
      },
      {
        "duration": 6,
        "start_time": "2022-07-21T13:56:27.962Z"
      },
      {
        "duration": 21,
        "start_time": "2022-07-21T13:56:27.969Z"
      },
      {
        "duration": 19,
        "start_time": "2022-07-21T13:56:28.010Z"
      },
      {
        "duration": 33,
        "start_time": "2022-07-21T13:56:28.031Z"
      },
      {
        "duration": 5,
        "start_time": "2022-07-21T13:56:28.066Z"
      },
      {
        "duration": 79,
        "start_time": "2022-07-21T13:56:28.074Z"
      },
      {
        "duration": 126,
        "start_time": "2022-07-21T13:56:28.155Z"
      },
      {
        "duration": 6,
        "start_time": "2022-07-21T13:56:28.283Z"
      },
      {
        "duration": 5,
        "start_time": "2022-07-21T13:56:28.291Z"
      },
      {
        "duration": 14,
        "start_time": "2022-07-21T13:56:28.297Z"
      },
      {
        "duration": 29,
        "start_time": "2022-07-21T13:56:28.319Z"
      },
      {
        "duration": 5,
        "start_time": "2022-07-21T13:56:28.350Z"
      },
      {
        "duration": 7,
        "start_time": "2022-07-21T13:56:28.356Z"
      },
      {
        "duration": 5,
        "start_time": "2022-07-21T13:56:28.364Z"
      },
      {
        "duration": 41,
        "start_time": "2022-07-21T13:56:28.370Z"
      },
      {
        "duration": 118,
        "start_time": "2022-07-21T14:00:46.826Z"
      },
      {
        "duration": 104,
        "start_time": "2022-07-21T14:01:09.941Z"
      },
      {
        "duration": 77,
        "start_time": "2022-07-21T14:01:33.420Z"
      },
      {
        "duration": 95,
        "start_time": "2022-07-21T14:01:37.355Z"
      },
      {
        "duration": 187,
        "start_time": "2022-07-21T14:01:44.526Z"
      },
      {
        "duration": 104,
        "start_time": "2022-07-21T14:01:52.105Z"
      },
      {
        "duration": 122,
        "start_time": "2022-07-21T14:02:05.811Z"
      },
      {
        "duration": 105,
        "start_time": "2022-07-21T14:02:20.993Z"
      },
      {
        "duration": 126,
        "start_time": "2022-07-21T14:03:19.828Z"
      },
      {
        "duration": 151,
        "start_time": "2022-07-21T14:03:26.301Z"
      },
      {
        "duration": 120,
        "start_time": "2022-07-21T14:04:16.935Z"
      },
      {
        "duration": 139,
        "start_time": "2022-07-21T14:04:31.236Z"
      },
      {
        "duration": 114,
        "start_time": "2022-07-21T14:05:03.563Z"
      },
      {
        "duration": 109,
        "start_time": "2022-07-21T14:05:23.540Z"
      },
      {
        "duration": 133,
        "start_time": "2022-07-21T14:05:36.420Z"
      },
      {
        "duration": 161,
        "start_time": "2022-07-21T14:05:40.572Z"
      },
      {
        "duration": 20,
        "start_time": "2022-07-21T14:05:40.740Z"
      },
      {
        "duration": 2027,
        "start_time": "2022-07-21T14:05:40.761Z"
      },
      {
        "duration": 27,
        "start_time": "2022-07-21T14:05:42.790Z"
      },
      {
        "duration": 25,
        "start_time": "2022-07-21T14:05:42.827Z"
      },
      {
        "duration": 24,
        "start_time": "2022-07-21T14:05:42.854Z"
      },
      {
        "duration": 11,
        "start_time": "2022-07-21T14:05:42.880Z"
      },
      {
        "duration": 40,
        "start_time": "2022-07-21T14:05:42.892Z"
      },
      {
        "duration": 12,
        "start_time": "2022-07-21T14:05:42.936Z"
      },
      {
        "duration": 90,
        "start_time": "2022-07-21T14:05:42.950Z"
      },
      {
        "duration": 148,
        "start_time": "2022-07-21T14:05:43.044Z"
      },
      {
        "duration": 5,
        "start_time": "2022-07-21T14:05:43.193Z"
      },
      {
        "duration": 46,
        "start_time": "2022-07-21T14:05:43.200Z"
      },
      {
        "duration": 14,
        "start_time": "2022-07-21T14:05:43.251Z"
      },
      {
        "duration": 8,
        "start_time": "2022-07-21T14:05:43.266Z"
      },
      {
        "duration": 8,
        "start_time": "2022-07-21T14:05:43.276Z"
      },
      {
        "duration": 11,
        "start_time": "2022-07-21T14:05:43.285Z"
      },
      {
        "duration": 22,
        "start_time": "2022-07-21T14:05:43.298Z"
      },
      {
        "duration": 66,
        "start_time": "2022-07-21T14:05:43.322Z"
      },
      {
        "duration": 112,
        "start_time": "2022-07-21T14:05:58.433Z"
      },
      {
        "duration": 108,
        "start_time": "2022-07-21T14:06:14.473Z"
      },
      {
        "duration": 126,
        "start_time": "2022-07-21T14:06:17.937Z"
      },
      {
        "duration": 13,
        "start_time": "2022-07-21T14:06:18.065Z"
      },
      {
        "duration": 139,
        "start_time": "2022-07-21T14:06:20.466Z"
      },
      {
        "duration": 24,
        "start_time": "2022-07-21T14:06:20.610Z"
      },
      {
        "duration": 2016,
        "start_time": "2022-07-21T14:06:20.636Z"
      },
      {
        "duration": 12,
        "start_time": "2022-07-21T14:06:22.655Z"
      },
      {
        "duration": 5,
        "start_time": "2022-07-21T14:06:22.669Z"
      },
      {
        "duration": 49,
        "start_time": "2022-07-21T14:06:22.675Z"
      },
      {
        "duration": 21,
        "start_time": "2022-07-21T14:06:22.733Z"
      },
      {
        "duration": 19,
        "start_time": "2022-07-21T14:06:22.755Z"
      },
      {
        "duration": 5,
        "start_time": "2022-07-21T14:06:22.776Z"
      },
      {
        "duration": 79,
        "start_time": "2022-07-21T14:06:22.783Z"
      },
      {
        "duration": 113,
        "start_time": "2022-07-21T14:06:22.864Z"
      },
      {
        "duration": 7,
        "start_time": "2022-07-21T14:06:22.978Z"
      },
      {
        "duration": 4,
        "start_time": "2022-07-21T14:06:22.986Z"
      },
      {
        "duration": 24,
        "start_time": "2022-07-21T14:06:22.992Z"
      },
      {
        "duration": 8,
        "start_time": "2022-07-21T14:06:23.018Z"
      },
      {
        "duration": 20,
        "start_time": "2022-07-21T14:06:23.028Z"
      },
      {
        "duration": 7,
        "start_time": "2022-07-21T14:06:23.050Z"
      },
      {
        "duration": 4,
        "start_time": "2022-07-21T14:06:23.059Z"
      },
      {
        "duration": 47,
        "start_time": "2022-07-21T14:06:23.064Z"
      },
      {
        "duration": 109,
        "start_time": "2022-07-21T14:06:42.885Z"
      },
      {
        "duration": 120,
        "start_time": "2022-07-21T14:06:51.325Z"
      },
      {
        "duration": 102,
        "start_time": "2022-07-21T14:07:03.534Z"
      },
      {
        "duration": 107,
        "start_time": "2022-07-21T14:07:09.332Z"
      },
      {
        "duration": 127,
        "start_time": "2022-07-21T14:08:33.395Z"
      },
      {
        "duration": 101,
        "start_time": "2022-07-21T14:09:04.549Z"
      },
      {
        "duration": 41,
        "start_time": "2022-07-21T14:10:28.742Z"
      },
      {
        "duration": 43,
        "start_time": "2022-07-21T14:10:41.462Z"
      },
      {
        "duration": 99,
        "start_time": "2022-07-21T14:11:28.339Z"
      },
      {
        "duration": 122,
        "start_time": "2022-07-21T14:11:44.628Z"
      },
      {
        "duration": 41,
        "start_time": "2022-07-21T14:12:42.621Z"
      },
      {
        "duration": 39,
        "start_time": "2022-07-21T14:12:46.855Z"
      },
      {
        "duration": 38,
        "start_time": "2022-07-21T14:12:54.160Z"
      },
      {
        "duration": 14,
        "start_time": "2022-07-21T14:13:01.244Z"
      },
      {
        "duration": 757,
        "start_time": "2022-07-21T14:13:07.599Z"
      },
      {
        "duration": 14,
        "start_time": "2022-07-21T14:13:11.242Z"
      },
      {
        "duration": 18,
        "start_time": "2022-07-21T14:13:15.218Z"
      },
      {
        "duration": 9,
        "start_time": "2022-07-21T14:13:32.998Z"
      },
      {
        "duration": 8,
        "start_time": "2022-07-21T14:13:38.872Z"
      },
      {
        "duration": 13,
        "start_time": "2022-07-21T14:13:47.502Z"
      },
      {
        "duration": 8,
        "start_time": "2022-07-21T14:15:26.897Z"
      },
      {
        "duration": 11,
        "start_time": "2022-07-21T14:16:47.837Z"
      },
      {
        "duration": 8,
        "start_time": "2022-07-21T14:17:13.680Z"
      },
      {
        "duration": 8,
        "start_time": "2022-07-21T14:17:24.243Z"
      },
      {
        "duration": 132,
        "start_time": "2022-07-21T14:17:29.432Z"
      },
      {
        "duration": 12,
        "start_time": "2022-07-21T14:17:29.566Z"
      },
      {
        "duration": 2021,
        "start_time": "2022-07-21T14:17:29.579Z"
      },
      {
        "duration": 18,
        "start_time": "2022-07-21T14:17:31.602Z"
      },
      {
        "duration": 24,
        "start_time": "2022-07-21T14:17:31.622Z"
      },
      {
        "duration": 31,
        "start_time": "2022-07-21T14:17:31.647Z"
      },
      {
        "duration": 14,
        "start_time": "2022-07-21T14:17:31.680Z"
      },
      {
        "duration": 56,
        "start_time": "2022-07-21T14:17:31.696Z"
      },
      {
        "duration": 5,
        "start_time": "2022-07-21T14:17:31.754Z"
      },
      {
        "duration": 76,
        "start_time": "2022-07-21T14:17:31.760Z"
      },
      {
        "duration": 120,
        "start_time": "2022-07-21T14:17:31.837Z"
      },
      {
        "duration": 56,
        "start_time": "2022-07-21T14:17:31.958Z"
      },
      {
        "duration": 12,
        "start_time": "2022-07-21T14:17:32.018Z"
      },
      {
        "duration": 19,
        "start_time": "2022-07-21T14:17:32.033Z"
      },
      {
        "duration": 3,
        "start_time": "2022-07-21T14:17:32.054Z"
      },
      {
        "duration": 6,
        "start_time": "2022-07-21T14:17:32.059Z"
      },
      {
        "duration": 6,
        "start_time": "2022-07-21T14:17:32.066Z"
      },
      {
        "duration": 9,
        "start_time": "2022-07-21T14:17:32.074Z"
      },
      {
        "duration": 8,
        "start_time": "2022-07-21T14:17:32.084Z"
      },
      {
        "duration": 8,
        "start_time": "2022-07-21T14:17:32.093Z"
      },
      {
        "duration": 51,
        "start_time": "2022-07-21T14:17:32.102Z"
      },
      {
        "duration": 131,
        "start_time": "2022-07-21T14:18:06.033Z"
      },
      {
        "duration": 13,
        "start_time": "2022-07-21T14:18:06.166Z"
      },
      {
        "duration": 1954,
        "start_time": "2022-07-21T14:18:06.181Z"
      },
      {
        "duration": 13,
        "start_time": "2022-07-21T14:18:08.137Z"
      },
      {
        "duration": 6,
        "start_time": "2022-07-21T14:18:08.152Z"
      },
      {
        "duration": 19,
        "start_time": "2022-07-21T14:18:08.159Z"
      },
      {
        "duration": 44,
        "start_time": "2022-07-21T14:18:08.180Z"
      },
      {
        "duration": 28,
        "start_time": "2022-07-21T14:18:08.226Z"
      },
      {
        "duration": 5,
        "start_time": "2022-07-21T14:18:08.255Z"
      },
      {
        "duration": 78,
        "start_time": "2022-07-21T14:18:08.261Z"
      },
      {
        "duration": 139,
        "start_time": "2022-07-21T14:18:08.341Z"
      },
      {
        "duration": 57,
        "start_time": "2022-07-21T14:18:08.482Z"
      },
      {
        "duration": 40,
        "start_time": "2022-07-21T14:18:08.541Z"
      },
      {
        "duration": 6,
        "start_time": "2022-07-21T14:18:08.584Z"
      },
      {
        "duration": 6,
        "start_time": "2022-07-21T14:18:08.602Z"
      },
      {
        "duration": 29,
        "start_time": "2022-07-21T14:18:08.609Z"
      },
      {
        "duration": 5,
        "start_time": "2022-07-21T14:18:08.640Z"
      },
      {
        "duration": 9,
        "start_time": "2022-07-21T14:18:08.646Z"
      },
      {
        "duration": 8,
        "start_time": "2022-07-21T14:18:08.656Z"
      },
      {
        "duration": 4,
        "start_time": "2022-07-21T14:18:08.665Z"
      },
      {
        "duration": 40,
        "start_time": "2022-07-21T14:18:08.671Z"
      },
      {
        "duration": 20,
        "start_time": "2022-07-21T14:19:16.842Z"
      },
      {
        "duration": 122,
        "start_time": "2022-07-21T14:19:25.841Z"
      },
      {
        "duration": 12,
        "start_time": "2022-07-21T14:19:25.966Z"
      },
      {
        "duration": 2120,
        "start_time": "2022-07-21T14:19:25.979Z"
      },
      {
        "duration": 24,
        "start_time": "2022-07-21T14:19:28.109Z"
      },
      {
        "duration": 12,
        "start_time": "2022-07-21T14:19:28.140Z"
      },
      {
        "duration": 20,
        "start_time": "2022-07-21T14:19:28.153Z"
      },
      {
        "duration": 12,
        "start_time": "2022-07-21T14:19:28.175Z"
      },
      {
        "duration": 26,
        "start_time": "2022-07-21T14:19:28.188Z"
      },
      {
        "duration": 9,
        "start_time": "2022-07-21T14:19:28.221Z"
      },
      {
        "duration": 78,
        "start_time": "2022-07-21T14:19:28.232Z"
      },
      {
        "duration": 130,
        "start_time": "2022-07-21T14:19:28.311Z"
      },
      {
        "duration": 156,
        "start_time": "2022-07-21T14:19:31.980Z"
      },
      {
        "duration": 14,
        "start_time": "2022-07-21T14:19:32.140Z"
      },
      {
        "duration": 1904,
        "start_time": "2022-07-21T14:19:32.155Z"
      },
      {
        "duration": 13,
        "start_time": "2022-07-21T14:19:34.062Z"
      },
      {
        "duration": 7,
        "start_time": "2022-07-21T14:19:34.077Z"
      },
      {
        "duration": 53,
        "start_time": "2022-07-21T14:19:34.086Z"
      },
      {
        "duration": 21,
        "start_time": "2022-07-21T14:19:34.143Z"
      },
      {
        "duration": 21,
        "start_time": "2022-07-21T14:19:34.166Z"
      },
      {
        "duration": 5,
        "start_time": "2022-07-21T14:19:34.189Z"
      },
      {
        "duration": 76,
        "start_time": "2022-07-21T14:19:34.196Z"
      },
      {
        "duration": 149,
        "start_time": "2022-07-21T14:19:34.274Z"
      },
      {
        "duration": 55,
        "start_time": "2022-07-21T14:19:34.424Z"
      },
      {
        "duration": 61,
        "start_time": "2022-07-21T14:19:34.481Z"
      },
      {
        "duration": 11,
        "start_time": "2022-07-21T14:20:11.255Z"
      },
      {
        "duration": 866,
        "start_time": "2022-07-23T19:31:14.832Z"
      },
      {
        "duration": 20,
        "start_time": "2022-07-23T19:31:15.700Z"
      },
      {
        "duration": 3454,
        "start_time": "2022-07-23T19:31:15.723Z"
      },
      {
        "duration": 24,
        "start_time": "2022-07-23T19:31:19.180Z"
      },
      {
        "duration": 13,
        "start_time": "2022-07-23T19:31:19.212Z"
      },
      {
        "duration": 73,
        "start_time": "2022-07-23T19:31:19.227Z"
      },
      {
        "duration": 34,
        "start_time": "2022-07-23T19:31:19.302Z"
      },
      {
        "duration": 44,
        "start_time": "2022-07-23T19:31:19.344Z"
      },
      {
        "duration": 8,
        "start_time": "2022-07-23T19:31:19.390Z"
      },
      {
        "duration": 104,
        "start_time": "2022-07-23T19:31:19.400Z"
      },
      {
        "duration": 180,
        "start_time": "2022-07-23T19:31:19.506Z"
      },
      {
        "duration": 40,
        "start_time": "2022-07-23T19:31:19.687Z"
      },
      {
        "duration": 10,
        "start_time": "2022-07-23T19:31:19.734Z"
      },
      {
        "duration": 19,
        "start_time": "2022-07-23T19:31:19.746Z"
      },
      {
        "duration": 10,
        "start_time": "2022-07-23T19:31:19.767Z"
      },
      {
        "duration": 7,
        "start_time": "2022-07-23T19:31:19.779Z"
      },
      {
        "duration": 28,
        "start_time": "2022-07-23T19:31:19.788Z"
      },
      {
        "duration": 57,
        "start_time": "2022-07-23T19:31:19.818Z"
      },
      {
        "duration": 7,
        "start_time": "2022-07-23T19:31:19.877Z"
      },
      {
        "duration": 75,
        "start_time": "2022-07-23T19:31:19.886Z"
      },
      {
        "duration": 73,
        "start_time": "2022-07-23T19:31:51.306Z"
      },
      {
        "duration": 202,
        "start_time": "2022-07-23T19:32:04.472Z"
      },
      {
        "duration": 17,
        "start_time": "2022-07-23T19:32:04.677Z"
      },
      {
        "duration": 2690,
        "start_time": "2022-07-23T19:32:04.696Z"
      },
      {
        "duration": 36,
        "start_time": "2022-07-23T19:32:07.389Z"
      },
      {
        "duration": 51,
        "start_time": "2022-07-23T19:32:07.427Z"
      },
      {
        "duration": 41,
        "start_time": "2022-07-23T19:32:07.480Z"
      },
      {
        "duration": 36,
        "start_time": "2022-07-23T19:32:07.523Z"
      },
      {
        "duration": 29,
        "start_time": "2022-07-23T19:32:07.561Z"
      },
      {
        "duration": 8,
        "start_time": "2022-07-23T19:32:07.593Z"
      },
      {
        "duration": 140,
        "start_time": "2022-07-23T19:32:07.604Z"
      },
      {
        "duration": 182,
        "start_time": "2022-07-23T19:32:07.748Z"
      },
      {
        "duration": 31,
        "start_time": "2022-07-23T19:32:07.932Z"
      },
      {
        "duration": 83,
        "start_time": "2022-07-23T19:32:07.965Z"
      },
      {
        "duration": 8,
        "start_time": "2022-07-23T19:32:08.051Z"
      },
      {
        "duration": 10,
        "start_time": "2022-07-23T19:32:08.063Z"
      },
      {
        "duration": 7,
        "start_time": "2022-07-23T19:32:08.075Z"
      },
      {
        "duration": 31,
        "start_time": "2022-07-23T19:32:08.084Z"
      },
      {
        "duration": 17,
        "start_time": "2022-07-23T19:32:08.117Z"
      },
      {
        "duration": 33,
        "start_time": "2022-07-23T19:32:08.136Z"
      },
      {
        "duration": 54,
        "start_time": "2022-07-23T19:32:08.171Z"
      },
      {
        "duration": 198,
        "start_time": "2022-07-23T19:34:30.971Z"
      },
      {
        "duration": 17,
        "start_time": "2022-07-23T19:34:31.171Z"
      },
      {
        "duration": 2933,
        "start_time": "2022-07-23T19:34:31.190Z"
      },
      {
        "duration": 35,
        "start_time": "2022-07-23T19:34:34.130Z"
      },
      {
        "duration": 11,
        "start_time": "2022-07-23T19:34:34.168Z"
      },
      {
        "duration": 43,
        "start_time": "2022-07-23T19:34:34.181Z"
      },
      {
        "duration": 30,
        "start_time": "2022-07-23T19:34:34.226Z"
      },
      {
        "duration": 35,
        "start_time": "2022-07-23T19:34:34.258Z"
      },
      {
        "duration": 23,
        "start_time": "2022-07-23T19:34:34.295Z"
      },
      {
        "duration": 160,
        "start_time": "2022-07-23T19:34:34.321Z"
      },
      {
        "duration": 216,
        "start_time": "2022-07-23T19:34:34.483Z"
      },
      {
        "duration": 77,
        "start_time": "2022-07-23T19:34:34.701Z"
      },
      {
        "duration": 4,
        "start_time": "2022-07-23T19:34:34.780Z"
      },
      {
        "duration": 35,
        "start_time": "2022-07-23T19:34:34.787Z"
      },
      {
        "duration": 48,
        "start_time": "2022-07-23T19:34:34.826Z"
      },
      {
        "duration": 29,
        "start_time": "2022-07-23T19:34:34.877Z"
      },
      {
        "duration": 80,
        "start_time": "2022-07-23T19:34:34.908Z"
      },
      {
        "duration": 74,
        "start_time": "2022-07-23T19:34:34.991Z"
      },
      {
        "duration": 116,
        "start_time": "2022-07-23T19:34:35.068Z"
      },
      {
        "duration": 176,
        "start_time": "2022-07-23T19:35:14.390Z"
      },
      {
        "duration": 17,
        "start_time": "2022-07-23T19:35:14.569Z"
      },
      {
        "duration": 2783,
        "start_time": "2022-07-23T19:35:14.588Z"
      },
      {
        "duration": 20,
        "start_time": "2022-07-23T19:35:17.373Z"
      },
      {
        "duration": 21,
        "start_time": "2022-07-23T19:35:17.409Z"
      },
      {
        "duration": 54,
        "start_time": "2022-07-23T19:35:17.432Z"
      },
      {
        "duration": 18,
        "start_time": "2022-07-23T19:35:17.488Z"
      },
      {
        "duration": 63,
        "start_time": "2022-07-23T19:35:17.508Z"
      },
      {
        "duration": 8,
        "start_time": "2022-07-23T19:35:17.574Z"
      },
      {
        "duration": 104,
        "start_time": "2022-07-23T19:35:17.584Z"
      },
      {
        "duration": 210,
        "start_time": "2022-07-23T19:35:17.690Z"
      },
      {
        "duration": 16,
        "start_time": "2022-07-23T19:35:24.736Z"
      },
      {
        "duration": 10,
        "start_time": "2022-07-23T19:35:38.751Z"
      },
      {
        "duration": 108,
        "start_time": "2022-07-23T19:35:43.950Z"
      },
      {
        "duration": 14,
        "start_time": "2022-07-23T19:35:50.914Z"
      },
      {
        "duration": 202,
        "start_time": "2022-07-23T19:35:54.197Z"
      },
      {
        "duration": 25,
        "start_time": "2022-07-23T19:35:54.402Z"
      },
      {
        "duration": 2956,
        "start_time": "2022-07-23T19:35:54.429Z"
      },
      {
        "duration": 17,
        "start_time": "2022-07-23T19:35:57.386Z"
      },
      {
        "duration": 9,
        "start_time": "2022-07-23T19:35:57.405Z"
      },
      {
        "duration": 55,
        "start_time": "2022-07-23T19:35:57.416Z"
      },
      {
        "duration": 18,
        "start_time": "2022-07-23T19:35:57.473Z"
      },
      {
        "duration": 63,
        "start_time": "2022-07-23T19:35:57.493Z"
      },
      {
        "duration": 7,
        "start_time": "2022-07-23T19:35:57.558Z"
      },
      {
        "duration": 117,
        "start_time": "2022-07-23T19:35:57.567Z"
      },
      {
        "duration": 196,
        "start_time": "2022-07-23T19:35:57.686Z"
      },
      {
        "duration": 71,
        "start_time": "2022-07-23T19:35:57.884Z"
      },
      {
        "duration": 6,
        "start_time": "2022-07-23T19:35:57.960Z"
      },
      {
        "duration": 9,
        "start_time": "2022-07-23T19:35:57.970Z"
      },
      {
        "duration": 8,
        "start_time": "2022-07-23T19:35:57.981Z"
      },
      {
        "duration": 12,
        "start_time": "2022-07-23T19:35:58.014Z"
      },
      {
        "duration": 40,
        "start_time": "2022-07-23T19:35:58.028Z"
      },
      {
        "duration": 6,
        "start_time": "2022-07-23T19:35:58.070Z"
      },
      {
        "duration": 55,
        "start_time": "2022-07-23T19:35:58.078Z"
      },
      {
        "duration": 75,
        "start_time": "2022-07-23T19:36:28.399Z"
      },
      {
        "duration": 163,
        "start_time": "2022-07-23T19:36:33.664Z"
      },
      {
        "duration": 27,
        "start_time": "2022-07-23T19:36:33.829Z"
      },
      {
        "duration": 2750,
        "start_time": "2022-07-23T19:36:33.860Z"
      },
      {
        "duration": 26,
        "start_time": "2022-07-23T19:36:36.613Z"
      },
      {
        "duration": 31,
        "start_time": "2022-07-23T19:36:36.641Z"
      },
      {
        "duration": 40,
        "start_time": "2022-07-23T19:36:36.675Z"
      },
      {
        "duration": 24,
        "start_time": "2022-07-23T19:36:36.718Z"
      },
      {
        "duration": 46,
        "start_time": "2022-07-23T19:36:36.746Z"
      },
      {
        "duration": 8,
        "start_time": "2022-07-23T19:36:36.794Z"
      },
      {
        "duration": 130,
        "start_time": "2022-07-23T19:36:36.805Z"
      },
      {
        "duration": 206,
        "start_time": "2022-07-23T19:36:36.939Z"
      },
      {
        "duration": 69,
        "start_time": "2022-07-23T19:36:37.147Z"
      },
      {
        "duration": 5,
        "start_time": "2022-07-23T19:36:37.218Z"
      },
      {
        "duration": 44,
        "start_time": "2022-07-23T19:36:37.225Z"
      },
      {
        "duration": 8,
        "start_time": "2022-07-23T19:36:37.271Z"
      },
      {
        "duration": 17,
        "start_time": "2022-07-23T19:36:37.280Z"
      },
      {
        "duration": 57,
        "start_time": "2022-07-23T19:36:37.299Z"
      },
      {
        "duration": 9,
        "start_time": "2022-07-23T19:36:37.358Z"
      },
      {
        "duration": 69,
        "start_time": "2022-07-23T19:36:37.369Z"
      },
      {
        "duration": 73,
        "start_time": "2022-07-23T19:45:22.033Z"
      },
      {
        "duration": 1006,
        "start_time": "2022-07-23T19:45:34.559Z"
      },
      {
        "duration": 28,
        "start_time": "2022-07-23T19:45:35.575Z"
      },
      {
        "duration": 3378,
        "start_time": "2022-07-23T19:45:35.605Z"
      },
      {
        "duration": 18,
        "start_time": "2022-07-23T19:45:38.985Z"
      },
      {
        "duration": 15,
        "start_time": "2022-07-23T19:45:39.011Z"
      },
      {
        "duration": 51,
        "start_time": "2022-07-23T19:45:39.028Z"
      },
      {
        "duration": 37,
        "start_time": "2022-07-23T19:45:39.081Z"
      },
      {
        "duration": 56,
        "start_time": "2022-07-23T19:45:39.120Z"
      },
      {
        "duration": 23,
        "start_time": "2022-07-23T19:45:39.179Z"
      },
      {
        "duration": 229,
        "start_time": "2022-07-23T19:45:39.204Z"
      },
      {
        "duration": 251,
        "start_time": "2022-07-23T19:45:39.436Z"
      },
      {
        "duration": 82,
        "start_time": "2022-07-23T19:45:39.692Z"
      },
      {
        "duration": 2561,
        "start_time": "2022-07-23T19:45:39.775Z"
      },
      {
        "duration": 8,
        "start_time": "2022-07-23T19:45:42.347Z"
      },
      {
        "duration": 43,
        "start_time": "2022-07-23T19:45:42.360Z"
      },
      {
        "duration": 80,
        "start_time": "2022-07-23T19:45:42.406Z"
      },
      {
        "duration": 16,
        "start_time": "2022-07-23T19:45:42.490Z"
      },
      {
        "duration": 90,
        "start_time": "2022-07-23T19:45:42.508Z"
      },
      {
        "duration": 8,
        "start_time": "2022-07-23T19:45:42.600Z"
      },
      {
        "duration": 132,
        "start_time": "2022-07-23T19:45:42.611Z"
      },
      {
        "duration": 23,
        "start_time": "2022-07-23T19:46:28.182Z"
      },
      {
        "duration": 32,
        "start_time": "2022-07-23T19:46:37.037Z"
      },
      {
        "duration": 201,
        "start_time": "2022-07-23T19:46:55.272Z"
      },
      {
        "duration": 101,
        "start_time": "2022-07-23T19:47:06.787Z"
      },
      {
        "duration": 38,
        "start_time": "2022-07-23T19:47:31.604Z"
      },
      {
        "duration": 25,
        "start_time": "2022-07-23T19:47:46.137Z"
      },
      {
        "duration": 172,
        "start_time": "2022-07-23T19:48:18.413Z"
      },
      {
        "duration": 169,
        "start_time": "2022-07-23T19:48:26.837Z"
      },
      {
        "duration": 37,
        "start_time": "2022-07-23T19:48:27.008Z"
      },
      {
        "duration": 2822,
        "start_time": "2022-07-23T19:48:27.047Z"
      },
      {
        "duration": 22,
        "start_time": "2022-07-23T19:48:29.872Z"
      },
      {
        "duration": 39,
        "start_time": "2022-07-23T19:48:29.898Z"
      },
      {
        "duration": 45,
        "start_time": "2022-07-23T19:48:29.946Z"
      },
      {
        "duration": 24,
        "start_time": "2022-07-23T19:48:29.993Z"
      },
      {
        "duration": 46,
        "start_time": "2022-07-23T19:48:30.022Z"
      },
      {
        "duration": 9,
        "start_time": "2022-07-23T19:48:30.070Z"
      },
      {
        "duration": 118,
        "start_time": "2022-07-23T19:48:30.080Z"
      },
      {
        "duration": 182,
        "start_time": "2022-07-23T19:48:30.201Z"
      },
      {
        "duration": 64,
        "start_time": "2022-07-23T19:49:15.541Z"
      },
      {
        "duration": 803,
        "start_time": "2022-07-23T19:49:20.191Z"
      },
      {
        "duration": 19,
        "start_time": "2022-07-23T19:49:20.996Z"
      },
      {
        "duration": 191,
        "start_time": "2022-07-23T19:49:24.867Z"
      },
      {
        "duration": 18,
        "start_time": "2022-07-23T19:49:25.060Z"
      },
      {
        "duration": 2892,
        "start_time": "2022-07-23T19:49:25.083Z"
      },
      {
        "duration": 15,
        "start_time": "2022-07-23T19:49:27.977Z"
      },
      {
        "duration": 31,
        "start_time": "2022-07-23T19:49:27.994Z"
      },
      {
        "duration": 60,
        "start_time": "2022-07-23T19:49:28.027Z"
      },
      {
        "duration": 19,
        "start_time": "2022-07-23T19:49:28.089Z"
      },
      {
        "duration": 43,
        "start_time": "2022-07-23T19:49:28.113Z"
      },
      {
        "duration": 10,
        "start_time": "2022-07-23T19:49:28.162Z"
      },
      {
        "duration": 121,
        "start_time": "2022-07-23T19:49:28.174Z"
      },
      {
        "duration": 197,
        "start_time": "2022-07-23T19:49:28.297Z"
      },
      {
        "duration": 87,
        "start_time": "2022-07-23T19:49:28.496Z"
      },
      {
        "duration": 907,
        "start_time": "2022-07-23T19:49:28.585Z"
      },
      {
        "duration": 5,
        "start_time": "2022-07-23T19:49:29.494Z"
      },
      {
        "duration": 11,
        "start_time": "2022-07-23T19:49:29.500Z"
      },
      {
        "duration": 57,
        "start_time": "2022-07-23T19:49:29.513Z"
      },
      {
        "duration": 9,
        "start_time": "2022-07-23T19:49:29.572Z"
      },
      {
        "duration": 13,
        "start_time": "2022-07-23T19:49:29.583Z"
      },
      {
        "duration": 6,
        "start_time": "2022-07-23T19:49:29.598Z"
      },
      {
        "duration": 97,
        "start_time": "2022-07-23T19:49:29.607Z"
      },
      {
        "duration": 77,
        "start_time": "2022-07-23T19:50:05.209Z"
      },
      {
        "duration": 89,
        "start_time": "2022-07-23T19:50:11.667Z"
      },
      {
        "duration": 65,
        "start_time": "2022-07-23T19:50:20.667Z"
      },
      {
        "duration": 167,
        "start_time": "2022-07-23T19:50:23.939Z"
      },
      {
        "duration": 45,
        "start_time": "2022-07-23T19:50:24.108Z"
      },
      {
        "duration": 2852,
        "start_time": "2022-07-23T19:50:24.156Z"
      },
      {
        "duration": 26,
        "start_time": "2022-07-23T19:50:27.010Z"
      },
      {
        "duration": 35,
        "start_time": "2022-07-23T19:50:27.039Z"
      },
      {
        "duration": 23,
        "start_time": "2022-07-23T19:50:27.076Z"
      },
      {
        "duration": 38,
        "start_time": "2022-07-23T19:50:27.101Z"
      },
      {
        "duration": 50,
        "start_time": "2022-07-23T19:50:27.141Z"
      },
      {
        "duration": 7,
        "start_time": "2022-07-23T19:50:27.193Z"
      },
      {
        "duration": 100,
        "start_time": "2022-07-23T19:50:27.201Z"
      },
      {
        "duration": 190,
        "start_time": "2022-07-23T19:50:27.302Z"
      },
      {
        "duration": 74,
        "start_time": "2022-07-23T19:50:27.494Z"
      },
      {
        "duration": 88,
        "start_time": "2022-07-23T19:51:02.076Z"
      },
      {
        "duration": 858,
        "start_time": "2022-07-23T19:51:05.000Z"
      },
      {
        "duration": 20,
        "start_time": "2022-07-23T19:51:05.860Z"
      },
      {
        "duration": 3234,
        "start_time": "2022-07-23T19:51:05.882Z"
      },
      {
        "duration": 43,
        "start_time": "2022-07-23T19:51:09.118Z"
      },
      {
        "duration": 16,
        "start_time": "2022-07-23T19:51:09.164Z"
      },
      {
        "duration": 35,
        "start_time": "2022-07-23T19:51:09.181Z"
      },
      {
        "duration": 38,
        "start_time": "2022-07-23T19:51:09.218Z"
      },
      {
        "duration": 49,
        "start_time": "2022-07-23T19:51:09.258Z"
      },
      {
        "duration": 13,
        "start_time": "2022-07-23T19:51:09.309Z"
      },
      {
        "duration": 154,
        "start_time": "2022-07-23T19:51:09.326Z"
      },
      {
        "duration": 239,
        "start_time": "2022-07-23T19:51:09.483Z"
      },
      {
        "duration": 92,
        "start_time": "2022-07-23T19:51:09.729Z"
      },
      {
        "duration": 752,
        "start_time": "2022-07-23T19:51:25.955Z"
      },
      {
        "duration": 26,
        "start_time": "2022-07-23T19:51:26.709Z"
      },
      {
        "duration": 3396,
        "start_time": "2022-07-23T19:51:26.737Z"
      },
      {
        "duration": 28,
        "start_time": "2022-07-23T19:51:30.141Z"
      },
      {
        "duration": 21,
        "start_time": "2022-07-23T19:51:30.174Z"
      },
      {
        "duration": 74,
        "start_time": "2022-07-23T19:51:30.197Z"
      },
      {
        "duration": 22,
        "start_time": "2022-07-23T19:51:30.273Z"
      },
      {
        "duration": 42,
        "start_time": "2022-07-23T19:51:30.297Z"
      },
      {
        "duration": 38,
        "start_time": "2022-07-23T19:51:30.342Z"
      },
      {
        "duration": 127,
        "start_time": "2022-07-23T19:51:30.383Z"
      },
      {
        "duration": 220,
        "start_time": "2022-07-23T19:51:30.512Z"
      },
      {
        "duration": 96,
        "start_time": "2022-07-23T19:51:30.734Z"
      },
      {
        "duration": 905,
        "start_time": "2022-07-23T19:52:24.988Z"
      },
      {
        "duration": 672,
        "start_time": "2022-07-23T19:52:43.147Z"
      },
      {
        "duration": 25,
        "start_time": "2022-07-23T19:52:43.821Z"
      },
      {
        "duration": 2960,
        "start_time": "2022-07-23T19:52:43.847Z"
      },
      {
        "duration": 38,
        "start_time": "2022-07-23T19:52:46.809Z"
      },
      {
        "duration": 37,
        "start_time": "2022-07-23T19:52:46.850Z"
      },
      {
        "duration": 58,
        "start_time": "2022-07-23T19:52:46.889Z"
      },
      {
        "duration": 26,
        "start_time": "2022-07-23T19:52:46.950Z"
      },
      {
        "duration": 39,
        "start_time": "2022-07-23T19:52:46.979Z"
      },
      {
        "duration": 10,
        "start_time": "2022-07-23T19:52:47.020Z"
      },
      {
        "duration": 150,
        "start_time": "2022-07-23T19:52:47.032Z"
      },
      {
        "duration": 225,
        "start_time": "2022-07-23T19:52:47.184Z"
      },
      {
        "duration": 0,
        "start_time": "2022-07-23T19:52:47.418Z"
      },
      {
        "duration": 0,
        "start_time": "2022-07-23T19:52:47.420Z"
      },
      {
        "duration": 0,
        "start_time": "2022-07-23T19:52:47.422Z"
      },
      {
        "duration": 0,
        "start_time": "2022-07-23T19:52:47.423Z"
      },
      {
        "duration": 0,
        "start_time": "2022-07-23T19:52:47.424Z"
      },
      {
        "duration": 0,
        "start_time": "2022-07-23T19:52:47.426Z"
      },
      {
        "duration": 0,
        "start_time": "2022-07-23T19:52:47.427Z"
      },
      {
        "duration": 0,
        "start_time": "2022-07-23T19:52:47.429Z"
      },
      {
        "duration": 0,
        "start_time": "2022-07-23T19:52:47.431Z"
      },
      {
        "duration": 178,
        "start_time": "2022-07-23T19:53:10.740Z"
      },
      {
        "duration": 210,
        "start_time": "2022-07-23T19:53:36.605Z"
      },
      {
        "duration": 202,
        "start_time": "2022-07-23T19:53:40.865Z"
      },
      {
        "duration": 206,
        "start_time": "2022-07-23T19:53:57.111Z"
      },
      {
        "duration": 271,
        "start_time": "2022-07-23T19:54:16.944Z"
      },
      {
        "duration": 210,
        "start_time": "2022-07-23T19:54:31.956Z"
      },
      {
        "duration": 193,
        "start_time": "2022-07-23T19:54:43.534Z"
      },
      {
        "duration": 187,
        "start_time": "2022-07-23T19:54:50.937Z"
      },
      {
        "duration": 24,
        "start_time": "2022-07-23T19:54:51.126Z"
      },
      {
        "duration": 2767,
        "start_time": "2022-07-23T19:54:51.153Z"
      },
      {
        "duration": 30,
        "start_time": "2022-07-23T19:54:53.936Z"
      },
      {
        "duration": 15,
        "start_time": "2022-07-23T19:54:53.970Z"
      },
      {
        "duration": 37,
        "start_time": "2022-07-23T19:54:53.988Z"
      },
      {
        "duration": 35,
        "start_time": "2022-07-23T19:54:54.031Z"
      },
      {
        "duration": 29,
        "start_time": "2022-07-23T19:54:54.073Z"
      },
      {
        "duration": 8,
        "start_time": "2022-07-23T19:54:54.104Z"
      },
      {
        "duration": 141,
        "start_time": "2022-07-23T19:54:54.115Z"
      },
      {
        "duration": 196,
        "start_time": "2022-07-23T19:54:54.259Z"
      },
      {
        "duration": 67,
        "start_time": "2022-07-23T19:54:54.457Z"
      },
      {
        "duration": 955,
        "start_time": "2022-07-23T19:56:53.480Z"
      },
      {
        "duration": 618,
        "start_time": "2022-07-23T19:57:02.158Z"
      },
      {
        "duration": 19,
        "start_time": "2022-07-23T19:57:02.779Z"
      },
      {
        "duration": 2841,
        "start_time": "2022-07-23T19:57:02.812Z"
      },
      {
        "duration": 21,
        "start_time": "2022-07-23T19:57:05.661Z"
      },
      {
        "duration": 7,
        "start_time": "2022-07-23T19:57:05.685Z"
      },
      {
        "duration": 56,
        "start_time": "2022-07-23T19:57:05.694Z"
      },
      {
        "duration": 23,
        "start_time": "2022-07-23T19:57:05.752Z"
      },
      {
        "duration": 87,
        "start_time": "2022-07-23T19:57:05.782Z"
      },
      {
        "duration": 12,
        "start_time": "2022-07-23T19:57:05.871Z"
      },
      {
        "duration": 113,
        "start_time": "2022-07-23T19:57:05.885Z"
      },
      {
        "duration": 275,
        "start_time": "2022-07-23T19:57:06.000Z"
      },
      {
        "duration": 76,
        "start_time": "2022-07-23T19:57:06.277Z"
      },
      {
        "duration": 802,
        "start_time": "2022-07-23T19:57:26.283Z"
      },
      {
        "duration": 613,
        "start_time": "2022-07-23T19:57:30.707Z"
      },
      {
        "duration": 33,
        "start_time": "2022-07-23T19:57:31.323Z"
      },
      {
        "duration": 2822,
        "start_time": "2022-07-23T19:57:31.358Z"
      },
      {
        "duration": 34,
        "start_time": "2022-07-23T19:57:34.182Z"
      },
      {
        "duration": 11,
        "start_time": "2022-07-23T19:57:34.219Z"
      },
      {
        "duration": 51,
        "start_time": "2022-07-23T19:57:34.232Z"
      },
      {
        "duration": 18,
        "start_time": "2022-07-23T19:57:34.285Z"
      },
      {
        "duration": 45,
        "start_time": "2022-07-23T19:57:34.316Z"
      },
      {
        "duration": 10,
        "start_time": "2022-07-23T19:57:34.363Z"
      },
      {
        "duration": 120,
        "start_time": "2022-07-23T19:57:34.376Z"
      },
      {
        "duration": 237,
        "start_time": "2022-07-23T19:57:34.497Z"
      },
      {
        "duration": 84,
        "start_time": "2022-07-23T19:57:34.736Z"
      },
      {
        "duration": 854,
        "start_time": "2022-07-23T19:58:05.340Z"
      },
      {
        "duration": 22,
        "start_time": "2022-07-23T19:58:06.196Z"
      },
      {
        "duration": 3776,
        "start_time": "2022-07-23T19:58:06.220Z"
      },
      {
        "duration": 33,
        "start_time": "2022-07-23T19:58:10.003Z"
      },
      {
        "duration": 60,
        "start_time": "2022-07-23T19:58:10.040Z"
      },
      {
        "duration": 111,
        "start_time": "2022-07-23T19:58:10.103Z"
      },
      {
        "duration": 30,
        "start_time": "2022-07-23T19:58:10.216Z"
      },
      {
        "duration": 83,
        "start_time": "2022-07-23T19:58:10.248Z"
      },
      {
        "duration": 13,
        "start_time": "2022-07-23T19:58:10.334Z"
      },
      {
        "duration": 158,
        "start_time": "2022-07-23T19:58:10.350Z"
      },
      {
        "duration": 283,
        "start_time": "2022-07-23T19:58:10.517Z"
      },
      {
        "duration": 107,
        "start_time": "2022-07-23T19:58:10.803Z"
      },
      {
        "duration": 876,
        "start_time": "2022-07-23T19:58:18.279Z"
      },
      {
        "duration": 15,
        "start_time": "2022-07-23T19:58:46.906Z"
      },
      {
        "duration": 588,
        "start_time": "2022-07-23T19:58:55.983Z"
      },
      {
        "duration": 22,
        "start_time": "2022-07-23T19:58:56.574Z"
      },
      {
        "duration": 2745,
        "start_time": "2022-07-23T19:58:56.598Z"
      },
      {
        "duration": 29,
        "start_time": "2022-07-23T19:58:59.345Z"
      },
      {
        "duration": 10,
        "start_time": "2022-07-23T19:58:59.378Z"
      },
      {
        "duration": 51,
        "start_time": "2022-07-23T19:58:59.390Z"
      },
      {
        "duration": 47,
        "start_time": "2022-07-23T19:58:59.443Z"
      },
      {
        "duration": 53,
        "start_time": "2022-07-23T19:58:59.492Z"
      },
      {
        "duration": 34,
        "start_time": "2022-07-23T19:58:59.546Z"
      },
      {
        "duration": 123,
        "start_time": "2022-07-23T19:58:59.582Z"
      },
      {
        "duration": 209,
        "start_time": "2022-07-23T19:58:59.707Z"
      },
      {
        "duration": 172,
        "start_time": "2022-07-23T19:58:59.918Z"
      },
      {
        "duration": 7,
        "start_time": "2022-07-23T19:59:00.092Z"
      },
      {
        "duration": 15,
        "start_time": "2022-07-23T19:59:00.117Z"
      },
      {
        "duration": 44,
        "start_time": "2022-07-23T19:59:00.135Z"
      },
      {
        "duration": 21,
        "start_time": "2022-07-23T19:59:00.181Z"
      },
      {
        "duration": 63,
        "start_time": "2022-07-23T19:59:00.204Z"
      },
      {
        "duration": 5,
        "start_time": "2022-07-23T19:59:00.269Z"
      },
      {
        "duration": 73,
        "start_time": "2022-07-23T19:59:00.276Z"
      },
      {
        "duration": 271,
        "start_time": "2022-07-23T19:59:35.891Z"
      },
      {
        "duration": 16,
        "start_time": "2022-07-23T19:59:36.184Z"
      },
      {
        "duration": 3333,
        "start_time": "2022-07-23T19:59:36.202Z"
      },
      {
        "duration": 35,
        "start_time": "2022-07-23T19:59:39.540Z"
      },
      {
        "duration": 16,
        "start_time": "2022-07-23T19:59:39.583Z"
      },
      {
        "duration": 89,
        "start_time": "2022-07-23T19:59:39.602Z"
      },
      {
        "duration": 22,
        "start_time": "2022-07-23T19:59:39.693Z"
      },
      {
        "duration": 60,
        "start_time": "2022-07-23T19:59:39.718Z"
      },
      {
        "duration": 18,
        "start_time": "2022-07-23T19:59:39.780Z"
      },
      {
        "duration": 155,
        "start_time": "2022-07-23T19:59:39.800Z"
      },
      {
        "duration": 265,
        "start_time": "2022-07-23T19:59:39.959Z"
      },
      {
        "duration": 219,
        "start_time": "2022-07-23T19:59:40.226Z"
      },
      {
        "duration": 16,
        "start_time": "2022-07-23T19:59:40.453Z"
      },
      {
        "duration": 109,
        "start_time": "2022-07-23T19:59:40.480Z"
      },
      {
        "duration": 12,
        "start_time": "2022-07-23T19:59:40.592Z"
      },
      {
        "duration": 17,
        "start_time": "2022-07-23T19:59:40.606Z"
      },
      {
        "duration": 63,
        "start_time": "2022-07-23T19:59:40.625Z"
      },
      {
        "duration": 90,
        "start_time": "2022-07-23T19:59:40.690Z"
      },
      {
        "duration": 78,
        "start_time": "2022-07-23T19:59:40.784Z"
      },
      {
        "duration": 248,
        "start_time": "2022-07-23T19:59:51.474Z"
      },
      {
        "duration": 30,
        "start_time": "2022-07-23T19:59:51.724Z"
      },
      {
        "duration": 3594,
        "start_time": "2022-07-23T19:59:51.756Z"
      },
      {
        "duration": 31,
        "start_time": "2022-07-23T19:59:55.364Z"
      },
      {
        "duration": 82,
        "start_time": "2022-07-23T19:59:55.402Z"
      },
      {
        "duration": 116,
        "start_time": "2022-07-23T19:59:55.487Z"
      },
      {
        "duration": 108,
        "start_time": "2022-07-23T19:59:55.605Z"
      },
      {
        "duration": 82,
        "start_time": "2022-07-23T19:59:55.715Z"
      },
      {
        "duration": 59,
        "start_time": "2022-07-23T19:59:55.800Z"
      },
      {
        "duration": 225,
        "start_time": "2022-07-23T19:59:55.861Z"
      },
      {
        "duration": 253,
        "start_time": "2022-07-23T19:59:56.089Z"
      },
      {
        "duration": 212,
        "start_time": "2022-07-23T19:59:56.347Z"
      },
      {
        "duration": 9,
        "start_time": "2022-07-23T19:59:56.561Z"
      },
      {
        "duration": 14,
        "start_time": "2022-07-23T19:59:56.575Z"
      },
      {
        "duration": 13,
        "start_time": "2022-07-23T19:59:56.592Z"
      },
      {
        "duration": 45,
        "start_time": "2022-07-23T19:59:56.620Z"
      },
      {
        "duration": 17,
        "start_time": "2022-07-23T19:59:56.670Z"
      },
      {
        "duration": 8,
        "start_time": "2022-07-23T19:59:56.690Z"
      },
      {
        "duration": 97,
        "start_time": "2022-07-23T19:59:56.700Z"
      },
      {
        "duration": 217,
        "start_time": "2022-07-23T20:00:26.765Z"
      },
      {
        "duration": 242,
        "start_time": "2022-07-23T20:01:00.610Z"
      },
      {
        "duration": 262,
        "start_time": "2022-07-23T20:02:26.004Z"
      },
      {
        "duration": 168,
        "start_time": "2022-07-23T20:02:37.880Z"
      },
      {
        "duration": 2386,
        "start_time": "2022-07-23T20:03:04.563Z"
      },
      {
        "duration": 154,
        "start_time": "2022-07-23T20:03:14.538Z"
      },
      {
        "duration": 150,
        "start_time": "2022-07-23T20:03:27.435Z"
      },
      {
        "duration": 208,
        "start_time": "2022-07-23T20:03:50.355Z"
      },
      {
        "duration": 158,
        "start_time": "2022-07-23T20:04:05.432Z"
      },
      {
        "duration": 183,
        "start_time": "2022-07-23T20:04:14.983Z"
      },
      {
        "duration": 225,
        "start_time": "2022-07-23T20:38:55.302Z"
      },
      {
        "duration": 213,
        "start_time": "2022-07-23T20:39:17.741Z"
      },
      {
        "duration": 16,
        "start_time": "2022-07-23T20:39:17.956Z"
      },
      {
        "duration": 2721,
        "start_time": "2022-07-23T20:39:17.974Z"
      },
      {
        "duration": 33,
        "start_time": "2022-07-23T20:39:20.697Z"
      },
      {
        "duration": 31,
        "start_time": "2022-07-23T20:39:20.734Z"
      },
      {
        "duration": 28,
        "start_time": "2022-07-23T20:39:20.766Z"
      },
      {
        "duration": 28,
        "start_time": "2022-07-23T20:39:20.795Z"
      },
      {
        "duration": 39,
        "start_time": "2022-07-23T20:39:20.826Z"
      },
      {
        "duration": 7,
        "start_time": "2022-07-23T20:39:20.867Z"
      },
      {
        "duration": 122,
        "start_time": "2022-07-23T20:39:20.875Z"
      },
      {
        "duration": 185,
        "start_time": "2022-07-23T20:39:20.999Z"
      },
      {
        "duration": 188,
        "start_time": "2022-07-23T20:39:21.186Z"
      },
      {
        "duration": 170,
        "start_time": "2022-07-23T20:39:21.376Z"
      },
      {
        "duration": 215,
        "start_time": "2022-07-23T20:39:21.549Z"
      },
      {
        "duration": 5,
        "start_time": "2022-07-23T20:39:21.766Z"
      },
      {
        "duration": 22,
        "start_time": "2022-07-23T20:39:21.776Z"
      },
      {
        "duration": 17,
        "start_time": "2022-07-23T20:39:21.801Z"
      },
      {
        "duration": 44,
        "start_time": "2022-07-23T20:39:21.820Z"
      },
      {
        "duration": 10,
        "start_time": "2022-07-23T20:39:21.867Z"
      },
      {
        "duration": 8,
        "start_time": "2022-07-23T20:39:21.879Z"
      },
      {
        "duration": 92,
        "start_time": "2022-07-23T20:39:21.889Z"
      },
      {
        "duration": 131,
        "start_time": "2022-07-23T20:40:21.346Z"
      },
      {
        "duration": 153,
        "start_time": "2022-07-23T20:41:09.536Z"
      },
      {
        "duration": 235,
        "start_time": "2022-07-23T20:41:28.506Z"
      },
      {
        "duration": 169,
        "start_time": "2022-07-23T20:42:36.333Z"
      },
      {
        "duration": 143,
        "start_time": "2022-07-23T20:44:02.434Z"
      },
      {
        "duration": 140,
        "start_time": "2022-07-23T20:44:30.033Z"
      },
      {
        "duration": 129,
        "start_time": "2022-07-23T20:44:45.579Z"
      },
      {
        "duration": 129,
        "start_time": "2022-07-23T20:45:00.665Z"
      },
      {
        "duration": 127,
        "start_time": "2022-07-23T20:45:08.428Z"
      },
      {
        "duration": 194,
        "start_time": "2022-07-23T20:45:11.687Z"
      },
      {
        "duration": 21,
        "start_time": "2022-07-23T20:45:11.884Z"
      },
      {
        "duration": 2800,
        "start_time": "2022-07-23T20:45:11.907Z"
      },
      {
        "duration": 23,
        "start_time": "2022-07-23T20:45:14.710Z"
      },
      {
        "duration": 31,
        "start_time": "2022-07-23T20:45:14.736Z"
      },
      {
        "duration": 53,
        "start_time": "2022-07-23T20:45:14.769Z"
      },
      {
        "duration": 29,
        "start_time": "2022-07-23T20:45:14.825Z"
      },
      {
        "duration": 37,
        "start_time": "2022-07-23T20:45:14.856Z"
      },
      {
        "duration": 24,
        "start_time": "2022-07-23T20:45:14.895Z"
      },
      {
        "duration": 132,
        "start_time": "2022-07-23T20:45:14.922Z"
      },
      {
        "duration": 171,
        "start_time": "2022-07-23T20:45:15.056Z"
      },
      {
        "duration": 220,
        "start_time": "2022-07-23T20:45:15.231Z"
      },
      {
        "duration": 181,
        "start_time": "2022-07-23T20:45:15.454Z"
      },
      {
        "duration": 230,
        "start_time": "2022-07-23T20:45:15.639Z"
      },
      {
        "duration": 179,
        "start_time": "2022-07-23T20:45:15.871Z"
      },
      {
        "duration": 144,
        "start_time": "2022-07-23T20:45:16.054Z"
      },
      {
        "duration": 10,
        "start_time": "2022-07-23T20:45:16.200Z"
      },
      {
        "duration": 42,
        "start_time": "2022-07-23T20:45:16.212Z"
      },
      {
        "duration": 7,
        "start_time": "2022-07-23T20:45:16.256Z"
      },
      {
        "duration": 10,
        "start_time": "2022-07-23T20:45:16.265Z"
      },
      {
        "duration": 10,
        "start_time": "2022-07-23T20:45:16.277Z"
      },
      {
        "duration": 26,
        "start_time": "2022-07-23T20:45:16.290Z"
      },
      {
        "duration": 99,
        "start_time": "2022-07-23T20:45:16.320Z"
      },
      {
        "duration": 63,
        "start_time": "2022-07-23T20:45:36.968Z"
      },
      {
        "duration": 144,
        "start_time": "2022-07-23T20:46:26.328Z"
      },
      {
        "duration": 103,
        "start_time": "2022-07-23T20:46:48.587Z"
      },
      {
        "duration": 230,
        "start_time": "2022-07-23T20:46:55.137Z"
      },
      {
        "duration": 146,
        "start_time": "2022-07-23T20:47:42.987Z"
      },
      {
        "duration": 154,
        "start_time": "2022-07-23T20:48:01.414Z"
      },
      {
        "duration": 206,
        "start_time": "2022-07-23T20:48:05.602Z"
      },
      {
        "duration": 49,
        "start_time": "2022-07-25T18:48:37.472Z"
      },
      {
        "duration": 829,
        "start_time": "2022-07-25T18:48:47.102Z"
      },
      {
        "duration": 25,
        "start_time": "2022-07-25T18:48:47.933Z"
      },
      {
        "duration": 2893,
        "start_time": "2022-07-25T18:48:47.959Z"
      },
      {
        "duration": 18,
        "start_time": "2022-07-25T18:48:50.854Z"
      },
      {
        "duration": 10,
        "start_time": "2022-07-25T18:48:50.875Z"
      },
      {
        "duration": 28,
        "start_time": "2022-07-25T18:48:50.886Z"
      },
      {
        "duration": 20,
        "start_time": "2022-07-25T18:48:50.916Z"
      },
      {
        "duration": 55,
        "start_time": "2022-07-25T18:48:50.940Z"
      },
      {
        "duration": 6,
        "start_time": "2022-07-25T18:48:50.996Z"
      },
      {
        "duration": 94,
        "start_time": "2022-07-25T18:48:51.004Z"
      },
      {
        "duration": 173,
        "start_time": "2022-07-25T18:48:51.100Z"
      },
      {
        "duration": 179,
        "start_time": "2022-07-25T18:48:51.275Z"
      },
      {
        "duration": 146,
        "start_time": "2022-07-25T18:48:51.456Z"
      },
      {
        "duration": 206,
        "start_time": "2022-07-25T18:48:51.606Z"
      },
      {
        "duration": 149,
        "start_time": "2022-07-25T18:48:51.814Z"
      },
      {
        "duration": 294,
        "start_time": "2022-07-25T18:48:51.965Z"
      },
      {
        "duration": 130,
        "start_time": "2022-07-25T18:48:52.263Z"
      },
      {
        "duration": 199,
        "start_time": "2022-07-25T18:48:52.395Z"
      },
      {
        "duration": 150,
        "start_time": "2022-07-25T18:48:52.595Z"
      },
      {
        "duration": 10,
        "start_time": "2022-07-25T18:48:52.747Z"
      },
      {
        "duration": 10,
        "start_time": "2022-07-25T18:48:52.759Z"
      },
      {
        "duration": 14,
        "start_time": "2022-07-25T18:48:52.771Z"
      },
      {
        "duration": 7,
        "start_time": "2022-07-25T18:48:52.786Z"
      },
      {
        "duration": 11,
        "start_time": "2022-07-25T18:48:52.794Z"
      },
      {
        "duration": 9,
        "start_time": "2022-07-25T18:48:52.807Z"
      },
      {
        "duration": 51,
        "start_time": "2022-07-25T18:48:52.827Z"
      },
      {
        "duration": 134,
        "start_time": "2022-07-25T18:49:50.282Z"
      },
      {
        "duration": 140,
        "start_time": "2022-07-25T18:50:03.301Z"
      },
      {
        "duration": 131,
        "start_time": "2022-07-25T18:50:27.756Z"
      },
      {
        "duration": 136,
        "start_time": "2022-07-25T18:50:33.293Z"
      },
      {
        "duration": 140,
        "start_time": "2022-07-25T18:54:48.644Z"
      },
      {
        "duration": 142,
        "start_time": "2022-07-25T18:55:23.797Z"
      },
      {
        "duration": 140,
        "start_time": "2022-07-25T18:56:59.964Z"
      },
      {
        "duration": 234,
        "start_time": "2022-07-25T18:58:18.857Z"
      },
      {
        "duration": 205,
        "start_time": "2022-07-25T18:58:38.965Z"
      },
      {
        "duration": 149,
        "start_time": "2022-07-25T19:00:25.613Z"
      },
      {
        "duration": 239,
        "start_time": "2022-07-25T19:01:29.444Z"
      },
      {
        "duration": 8,
        "start_time": "2022-07-25T19:01:34.454Z"
      },
      {
        "duration": 8,
        "start_time": "2022-07-25T19:01:48.885Z"
      },
      {
        "duration": 8,
        "start_time": "2022-07-25T19:02:02.288Z"
      },
      {
        "duration": 136,
        "start_time": "2022-07-25T19:02:06.841Z"
      },
      {
        "duration": 16,
        "start_time": "2022-07-25T19:02:06.980Z"
      },
      {
        "duration": 2220,
        "start_time": "2022-07-25T19:02:06.997Z"
      },
      {
        "duration": 20,
        "start_time": "2022-07-25T19:02:09.219Z"
      },
      {
        "duration": 27,
        "start_time": "2022-07-25T19:02:09.242Z"
      },
      {
        "duration": 39,
        "start_time": "2022-07-25T19:02:09.271Z"
      },
      {
        "duration": 16,
        "start_time": "2022-07-25T19:02:09.313Z"
      },
      {
        "duration": 36,
        "start_time": "2022-07-25T19:02:09.331Z"
      },
      {
        "duration": 6,
        "start_time": "2022-07-25T19:02:09.369Z"
      },
      {
        "duration": 84,
        "start_time": "2022-07-25T19:02:09.377Z"
      },
      {
        "duration": 154,
        "start_time": "2022-07-25T19:02:09.463Z"
      },
      {
        "duration": 273,
        "start_time": "2022-07-25T19:02:09.618Z"
      },
      {
        "duration": 134,
        "start_time": "2022-07-25T19:02:09.893Z"
      },
      {
        "duration": 166,
        "start_time": "2022-07-25T19:02:10.031Z"
      },
      {
        "duration": 136,
        "start_time": "2022-07-25T19:02:10.199Z"
      },
      {
        "duration": 137,
        "start_time": "2022-07-25T19:02:10.337Z"
      },
      {
        "duration": 152,
        "start_time": "2022-07-25T19:02:10.476Z"
      },
      {
        "duration": 169,
        "start_time": "2022-07-25T19:02:10.636Z"
      },
      {
        "duration": 149,
        "start_time": "2022-07-25T19:02:10.807Z"
      },
      {
        "duration": 136,
        "start_time": "2022-07-25T19:02:10.958Z"
      },
      {
        "duration": 157,
        "start_time": "2022-07-25T19:02:11.096Z"
      },
      {
        "duration": 135,
        "start_time": "2022-07-25T19:02:11.255Z"
      },
      {
        "duration": 4,
        "start_time": "2022-07-25T19:02:11.392Z"
      },
      {
        "duration": 9,
        "start_time": "2022-07-25T19:02:11.398Z"
      },
      {
        "duration": 23,
        "start_time": "2022-07-25T19:02:11.409Z"
      },
      {
        "duration": 32,
        "start_time": "2022-07-25T19:02:11.435Z"
      },
      {
        "duration": 9,
        "start_time": "2022-07-25T19:02:11.469Z"
      },
      {
        "duration": 9,
        "start_time": "2022-07-25T19:02:11.479Z"
      },
      {
        "duration": 58,
        "start_time": "2022-07-25T19:02:11.489Z"
      },
      {
        "duration": 127,
        "start_time": "2022-07-25T19:07:48.580Z"
      },
      {
        "duration": 139,
        "start_time": "2022-07-25T19:10:06.102Z"
      },
      {
        "duration": 128,
        "start_time": "2022-07-25T19:10:34.382Z"
      },
      {
        "duration": 134,
        "start_time": "2022-07-25T19:14:27.785Z"
      },
      {
        "duration": 153,
        "start_time": "2022-07-25T19:16:21.183Z"
      },
      {
        "duration": 122,
        "start_time": "2022-07-25T19:17:55.609Z"
      },
      {
        "duration": 182,
        "start_time": "2022-07-25T19:18:03.269Z"
      },
      {
        "duration": 121,
        "start_time": "2022-07-25T19:20:27.916Z"
      },
      {
        "duration": 184,
        "start_time": "2022-07-25T19:26:19.177Z"
      },
      {
        "duration": 119,
        "start_time": "2022-07-25T19:30:54.151Z"
      },
      {
        "duration": 274,
        "start_time": "2022-07-25T19:31:09.490Z"
      },
      {
        "duration": 138,
        "start_time": "2022-07-25T19:31:23.999Z"
      },
      {
        "duration": 146,
        "start_time": "2022-07-25T19:31:34.857Z"
      },
      {
        "duration": 25,
        "start_time": "2022-07-25T19:31:35.005Z"
      },
      {
        "duration": 2219,
        "start_time": "2022-07-25T19:31:35.033Z"
      },
      {
        "duration": 24,
        "start_time": "2022-07-25T19:31:37.254Z"
      },
      {
        "duration": 9,
        "start_time": "2022-07-25T19:31:37.281Z"
      },
      {
        "duration": 49,
        "start_time": "2022-07-25T19:31:37.292Z"
      },
      {
        "duration": 19,
        "start_time": "2022-07-25T19:31:37.345Z"
      },
      {
        "duration": 194,
        "start_time": "2022-07-25T19:31:37.366Z"
      },
      {
        "duration": 8,
        "start_time": "2022-07-25T19:31:37.562Z"
      },
      {
        "duration": 108,
        "start_time": "2022-07-25T19:31:37.572Z"
      },
      {
        "duration": 171,
        "start_time": "2022-07-25T19:31:37.682Z"
      },
      {
        "duration": 152,
        "start_time": "2022-07-25T19:31:37.854Z"
      },
      {
        "duration": 167,
        "start_time": "2022-07-25T19:31:38.008Z"
      },
      {
        "duration": 140,
        "start_time": "2022-07-25T19:31:38.180Z"
      },
      {
        "duration": 138,
        "start_time": "2022-07-25T19:31:38.323Z"
      },
      {
        "duration": 138,
        "start_time": "2022-07-25T19:31:38.463Z"
      },
      {
        "duration": 155,
        "start_time": "2022-07-25T19:31:38.602Z"
      },
      {
        "duration": 159,
        "start_time": "2022-07-25T19:31:38.761Z"
      },
      {
        "duration": 150,
        "start_time": "2022-07-25T19:31:38.922Z"
      },
      {
        "duration": 188,
        "start_time": "2022-07-25T19:31:39.075Z"
      },
      {
        "duration": 162,
        "start_time": "2022-07-25T19:31:39.267Z"
      },
      {
        "duration": 139,
        "start_time": "2022-07-25T19:31:39.430Z"
      },
      {
        "duration": 133,
        "start_time": "2022-07-25T19:31:39.571Z"
      },
      {
        "duration": 157,
        "start_time": "2022-07-25T19:31:39.706Z"
      },
      {
        "duration": 5,
        "start_time": "2022-07-25T19:31:39.866Z"
      },
      {
        "duration": 11,
        "start_time": "2022-07-25T19:31:39.874Z"
      },
      {
        "duration": 6,
        "start_time": "2022-07-25T19:31:39.887Z"
      },
      {
        "duration": 7,
        "start_time": "2022-07-25T19:31:39.895Z"
      },
      {
        "duration": 7,
        "start_time": "2022-07-25T19:31:39.903Z"
      },
      {
        "duration": 23,
        "start_time": "2022-07-25T19:31:39.912Z"
      },
      {
        "duration": 63,
        "start_time": "2022-07-25T19:31:39.936Z"
      },
      {
        "duration": 126,
        "start_time": "2022-07-25T19:34:02.813Z"
      },
      {
        "duration": 110,
        "start_time": "2022-07-25T19:34:21.466Z"
      },
      {
        "duration": 109,
        "start_time": "2022-07-25T19:34:33.405Z"
      },
      {
        "duration": 135,
        "start_time": "2022-07-25T19:34:34.510Z"
      },
      {
        "duration": 49,
        "start_time": "2022-07-27T14:33:17.504Z"
      },
      {
        "duration": 585,
        "start_time": "2022-07-27T14:33:22.757Z"
      },
      {
        "duration": 19,
        "start_time": "2022-07-27T14:33:23.345Z"
      },
      {
        "duration": 2616,
        "start_time": "2022-07-27T14:33:23.366Z"
      },
      {
        "duration": 16,
        "start_time": "2022-07-27T14:33:25.985Z"
      },
      {
        "duration": 20,
        "start_time": "2022-07-27T14:33:26.003Z"
      },
      {
        "duration": 44,
        "start_time": "2022-07-27T14:33:26.025Z"
      },
      {
        "duration": 13,
        "start_time": "2022-07-27T14:33:26.071Z"
      },
      {
        "duration": 37,
        "start_time": "2022-07-27T14:33:26.085Z"
      },
      {
        "duration": 6,
        "start_time": "2022-07-27T14:33:26.124Z"
      },
      {
        "duration": 82,
        "start_time": "2022-07-27T14:33:26.133Z"
      },
      {
        "duration": 160,
        "start_time": "2022-07-27T14:33:26.217Z"
      },
      {
        "duration": 133,
        "start_time": "2022-07-27T14:33:26.379Z"
      },
      {
        "duration": 141,
        "start_time": "2022-07-27T14:33:26.515Z"
      },
      {
        "duration": 129,
        "start_time": "2022-07-27T14:33:26.657Z"
      },
      {
        "duration": 127,
        "start_time": "2022-07-27T14:33:26.787Z"
      },
      {
        "duration": 205,
        "start_time": "2022-07-27T14:33:26.915Z"
      },
      {
        "duration": 132,
        "start_time": "2022-07-27T14:33:27.122Z"
      },
      {
        "duration": 139,
        "start_time": "2022-07-27T14:33:27.256Z"
      },
      {
        "duration": 143,
        "start_time": "2022-07-27T14:33:27.397Z"
      },
      {
        "duration": 147,
        "start_time": "2022-07-27T14:33:27.542Z"
      },
      {
        "duration": 163,
        "start_time": "2022-07-27T14:33:27.691Z"
      },
      {
        "duration": 130,
        "start_time": "2022-07-27T14:33:27.856Z"
      },
      {
        "duration": 127,
        "start_time": "2022-07-27T14:33:27.988Z"
      },
      {
        "duration": 119,
        "start_time": "2022-07-27T14:33:28.117Z"
      },
      {
        "duration": 4,
        "start_time": "2022-07-27T14:33:28.238Z"
      },
      {
        "duration": 9,
        "start_time": "2022-07-27T14:33:28.243Z"
      },
      {
        "duration": 12,
        "start_time": "2022-07-27T14:33:28.254Z"
      },
      {
        "duration": 7,
        "start_time": "2022-07-27T14:33:28.269Z"
      },
      {
        "duration": 16,
        "start_time": "2022-07-27T14:33:28.278Z"
      },
      {
        "duration": 16,
        "start_time": "2022-07-27T14:33:28.296Z"
      },
      {
        "duration": 46,
        "start_time": "2022-07-27T14:33:28.314Z"
      },
      {
        "duration": 132,
        "start_time": "2022-07-27T14:33:49.039Z"
      },
      {
        "duration": 111,
        "start_time": "2022-07-27T14:34:40.201Z"
      },
      {
        "duration": 106,
        "start_time": "2022-07-27T14:34:46.016Z"
      },
      {
        "duration": 112,
        "start_time": "2022-07-27T14:35:05.765Z"
      },
      {
        "duration": 142,
        "start_time": "2022-07-27T14:35:10.703Z"
      },
      {
        "duration": 16,
        "start_time": "2022-07-27T14:35:10.847Z"
      },
      {
        "duration": 2184,
        "start_time": "2022-07-27T14:35:10.864Z"
      },
      {
        "duration": 16,
        "start_time": "2022-07-27T14:35:13.050Z"
      },
      {
        "duration": 7,
        "start_time": "2022-07-27T14:35:13.069Z"
      },
      {
        "duration": 47,
        "start_time": "2022-07-27T14:35:13.078Z"
      },
      {
        "duration": 15,
        "start_time": "2022-07-27T14:35:13.128Z"
      },
      {
        "duration": 27,
        "start_time": "2022-07-27T14:35:13.145Z"
      },
      {
        "duration": 36,
        "start_time": "2022-07-27T14:35:13.175Z"
      },
      {
        "duration": 73,
        "start_time": "2022-07-27T14:35:13.213Z"
      },
      {
        "duration": 159,
        "start_time": "2022-07-27T14:35:13.288Z"
      },
      {
        "duration": 129,
        "start_time": "2022-07-27T14:35:13.450Z"
      },
      {
        "duration": 131,
        "start_time": "2022-07-27T14:35:13.581Z"
      },
      {
        "duration": 245,
        "start_time": "2022-07-27T14:35:13.715Z"
      },
      {
        "duration": 127,
        "start_time": "2022-07-27T14:35:13.962Z"
      },
      {
        "duration": 131,
        "start_time": "2022-07-27T14:35:14.090Z"
      },
      {
        "duration": 141,
        "start_time": "2022-07-27T14:35:14.223Z"
      },
      {
        "duration": 144,
        "start_time": "2022-07-27T14:35:14.366Z"
      },
      {
        "duration": 138,
        "start_time": "2022-07-27T14:35:14.512Z"
      },
      {
        "duration": 138,
        "start_time": "2022-07-27T14:35:14.652Z"
      },
      {
        "duration": 140,
        "start_time": "2022-07-27T14:35:14.792Z"
      },
      {
        "duration": 125,
        "start_time": "2022-07-27T14:35:14.933Z"
      },
      {
        "duration": 122,
        "start_time": "2022-07-27T14:35:15.059Z"
      },
      {
        "duration": 134,
        "start_time": "2022-07-27T14:35:15.183Z"
      },
      {
        "duration": 6,
        "start_time": "2022-07-27T14:35:15.319Z"
      },
      {
        "duration": 12,
        "start_time": "2022-07-27T14:35:15.327Z"
      },
      {
        "duration": 7,
        "start_time": "2022-07-27T14:35:15.341Z"
      },
      {
        "duration": 9,
        "start_time": "2022-07-27T14:35:15.350Z"
      },
      {
        "duration": 10,
        "start_time": "2022-07-27T14:35:15.361Z"
      },
      {
        "duration": 7,
        "start_time": "2022-07-27T14:35:15.373Z"
      },
      {
        "duration": 52,
        "start_time": "2022-07-27T14:35:15.382Z"
      },
      {
        "duration": 161,
        "start_time": "2022-07-27T14:36:30.849Z"
      },
      {
        "duration": 128,
        "start_time": "2022-07-27T14:37:19.163Z"
      },
      {
        "duration": 75,
        "start_time": "2022-07-27T14:37:36.081Z"
      },
      {
        "duration": 155,
        "start_time": "2022-07-27T14:37:44.786Z"
      },
      {
        "duration": 119,
        "start_time": "2022-07-27T14:37:57.949Z"
      },
      {
        "duration": 109,
        "start_time": "2022-07-27T14:40:20.803Z"
      },
      {
        "duration": 97,
        "start_time": "2022-07-27T14:40:24.230Z"
      },
      {
        "duration": 151,
        "start_time": "2022-07-27T14:40:27.800Z"
      },
      {
        "duration": 15,
        "start_time": "2022-07-27T14:40:27.953Z"
      },
      {
        "duration": 2174,
        "start_time": "2022-07-27T14:40:27.970Z"
      },
      {
        "duration": 14,
        "start_time": "2022-07-27T14:40:30.146Z"
      },
      {
        "duration": 13,
        "start_time": "2022-07-27T14:40:30.162Z"
      },
      {
        "duration": 39,
        "start_time": "2022-07-27T14:40:30.177Z"
      },
      {
        "duration": 14,
        "start_time": "2022-07-27T14:40:30.218Z"
      },
      {
        "duration": 25,
        "start_time": "2022-07-27T14:40:30.234Z"
      },
      {
        "duration": 6,
        "start_time": "2022-07-27T14:40:30.261Z"
      },
      {
        "duration": 78,
        "start_time": "2022-07-27T14:40:30.270Z"
      },
      {
        "duration": 141,
        "start_time": "2022-07-27T14:40:30.350Z"
      },
      {
        "duration": 141,
        "start_time": "2022-07-27T14:40:30.493Z"
      },
      {
        "duration": 145,
        "start_time": "2022-07-27T14:40:30.636Z"
      },
      {
        "duration": 186,
        "start_time": "2022-07-27T14:40:30.783Z"
      },
      {
        "duration": 140,
        "start_time": "2022-07-27T14:40:30.972Z"
      },
      {
        "duration": 128,
        "start_time": "2022-07-27T14:40:31.113Z"
      },
      {
        "duration": 281,
        "start_time": "2022-07-27T14:40:31.242Z"
      },
      {
        "duration": 128,
        "start_time": "2022-07-27T14:40:31.524Z"
      },
      {
        "duration": 140,
        "start_time": "2022-07-27T14:40:31.654Z"
      },
      {
        "duration": 183,
        "start_time": "2022-07-27T14:40:31.796Z"
      },
      {
        "duration": 153,
        "start_time": "2022-07-27T14:40:31.982Z"
      },
      {
        "duration": 139,
        "start_time": "2022-07-27T14:40:32.137Z"
      },
      {
        "duration": 148,
        "start_time": "2022-07-27T14:40:32.278Z"
      },
      {
        "duration": 135,
        "start_time": "2022-07-27T14:40:32.428Z"
      },
      {
        "duration": 120,
        "start_time": "2022-07-27T14:40:32.564Z"
      },
      {
        "duration": 4,
        "start_time": "2022-07-27T14:40:32.685Z"
      },
      {
        "duration": 8,
        "start_time": "2022-07-27T14:40:32.691Z"
      },
      {
        "duration": 5,
        "start_time": "2022-07-27T14:40:32.709Z"
      },
      {
        "duration": 8,
        "start_time": "2022-07-27T14:40:32.715Z"
      },
      {
        "duration": 11,
        "start_time": "2022-07-27T14:40:32.725Z"
      },
      {
        "duration": 10,
        "start_time": "2022-07-27T14:40:32.738Z"
      },
      {
        "duration": 42,
        "start_time": "2022-07-27T14:40:32.749Z"
      },
      {
        "duration": 109,
        "start_time": "2022-07-27T14:41:35.799Z"
      },
      {
        "duration": 113,
        "start_time": "2022-07-27T14:41:51.432Z"
      },
      {
        "duration": 142,
        "start_time": "2022-07-27T14:41:56.355Z"
      },
      {
        "duration": 21,
        "start_time": "2022-07-27T14:41:56.499Z"
      },
      {
        "duration": 2254,
        "start_time": "2022-07-27T14:41:56.521Z"
      },
      {
        "duration": 16,
        "start_time": "2022-07-27T14:41:58.777Z"
      },
      {
        "duration": 21,
        "start_time": "2022-07-27T14:41:58.795Z"
      },
      {
        "duration": 23,
        "start_time": "2022-07-27T14:41:58.818Z"
      },
      {
        "duration": 14,
        "start_time": "2022-07-27T14:41:58.843Z"
      },
      {
        "duration": 32,
        "start_time": "2022-07-27T14:41:58.859Z"
      },
      {
        "duration": 7,
        "start_time": "2022-07-27T14:41:58.910Z"
      },
      {
        "duration": 70,
        "start_time": "2022-07-27T14:41:58.919Z"
      },
      {
        "duration": 160,
        "start_time": "2022-07-27T14:41:58.990Z"
      },
      {
        "duration": 149,
        "start_time": "2022-07-27T14:41:59.152Z"
      },
      {
        "duration": 132,
        "start_time": "2022-07-27T14:41:59.310Z"
      },
      {
        "duration": 125,
        "start_time": "2022-07-27T14:42:05.977Z"
      },
      {
        "duration": 9,
        "start_time": "2022-07-27T14:42:15.876Z"
      },
      {
        "duration": 134,
        "start_time": "2022-07-27T14:42:23.104Z"
      },
      {
        "duration": 15,
        "start_time": "2022-07-27T14:42:23.240Z"
      },
      {
        "duration": 1996,
        "start_time": "2022-07-27T14:42:23.256Z"
      },
      {
        "duration": 16,
        "start_time": "2022-07-27T14:42:25.255Z"
      },
      {
        "duration": 8,
        "start_time": "2022-07-27T14:42:25.274Z"
      },
      {
        "duration": 51,
        "start_time": "2022-07-27T14:42:25.284Z"
      },
      {
        "duration": 21,
        "start_time": "2022-07-27T14:42:25.337Z"
      },
      {
        "duration": 47,
        "start_time": "2022-07-27T14:42:25.359Z"
      },
      {
        "duration": 6,
        "start_time": "2022-07-27T14:42:25.408Z"
      },
      {
        "duration": 90,
        "start_time": "2022-07-27T14:42:25.416Z"
      },
      {
        "duration": 330,
        "start_time": "2022-07-27T14:42:25.507Z"
      },
      {
        "duration": 139,
        "start_time": "2022-07-27T14:42:25.839Z"
      },
      {
        "duration": 136,
        "start_time": "2022-07-27T14:42:25.980Z"
      },
      {
        "duration": 143,
        "start_time": "2022-07-27T14:42:26.117Z"
      },
      {
        "duration": 151,
        "start_time": "2022-07-27T14:42:26.262Z"
      },
      {
        "duration": 127,
        "start_time": "2022-07-27T14:42:36.576Z"
      },
      {
        "duration": 115,
        "start_time": "2022-07-27T14:43:45.768Z"
      },
      {
        "duration": 140,
        "start_time": "2022-07-27T14:43:55.801Z"
      },
      {
        "duration": 15,
        "start_time": "2022-07-27T14:43:55.944Z"
      },
      {
        "duration": 2133,
        "start_time": "2022-07-27T14:43:55.961Z"
      },
      {
        "duration": 24,
        "start_time": "2022-07-27T14:43:58.098Z"
      },
      {
        "duration": 9,
        "start_time": "2022-07-27T14:43:58.125Z"
      },
      {
        "duration": 23,
        "start_time": "2022-07-27T14:43:58.136Z"
      },
      {
        "duration": 16,
        "start_time": "2022-07-27T14:43:58.161Z"
      },
      {
        "duration": 52,
        "start_time": "2022-07-27T14:43:58.179Z"
      },
      {
        "duration": 6,
        "start_time": "2022-07-27T14:43:58.233Z"
      },
      {
        "duration": 122,
        "start_time": "2022-07-27T14:43:58.243Z"
      },
      {
        "duration": 166,
        "start_time": "2022-07-27T14:43:58.367Z"
      },
      {
        "duration": 137,
        "start_time": "2022-07-27T14:43:58.535Z"
      },
      {
        "duration": 131,
        "start_time": "2022-07-27T14:43:58.674Z"
      },
      {
        "duration": 140,
        "start_time": "2022-07-27T14:43:58.806Z"
      },
      {
        "duration": 129,
        "start_time": "2022-07-27T14:43:58.948Z"
      },
      {
        "duration": 135,
        "start_time": "2022-07-27T14:44:06.427Z"
      },
      {
        "duration": 113,
        "start_time": "2022-07-27T14:45:13.273Z"
      },
      {
        "duration": 121,
        "start_time": "2022-07-27T14:45:21.000Z"
      },
      {
        "duration": 120,
        "start_time": "2022-07-27T14:45:47.547Z"
      },
      {
        "duration": 452,
        "start_time": "2022-07-27T14:45:55.013Z"
      },
      {
        "duration": 176,
        "start_time": "2022-07-27T14:46:03.506Z"
      },
      {
        "duration": 165,
        "start_time": "2022-07-27T14:46:08.625Z"
      },
      {
        "duration": 151,
        "start_time": "2022-07-27T14:46:13.358Z"
      },
      {
        "duration": 114,
        "start_time": "2022-07-27T14:46:14.719Z"
      },
      {
        "duration": 123,
        "start_time": "2022-07-27T14:46:29.811Z"
      },
      {
        "duration": 121,
        "start_time": "2022-07-27T14:46:30.760Z"
      },
      {
        "duration": 128,
        "start_time": "2022-07-27T14:46:55.414Z"
      },
      {
        "duration": 117,
        "start_time": "2022-07-27T14:46:56.534Z"
      },
      {
        "duration": 122,
        "start_time": "2022-07-27T14:47:00.601Z"
      },
      {
        "duration": 135,
        "start_time": "2022-07-27T14:47:03.678Z"
      },
      {
        "duration": 16,
        "start_time": "2022-07-27T14:47:03.815Z"
      },
      {
        "duration": 2064,
        "start_time": "2022-07-27T14:47:03.833Z"
      },
      {
        "duration": 20,
        "start_time": "2022-07-27T14:47:05.899Z"
      },
      {
        "duration": 7,
        "start_time": "2022-07-27T14:47:05.921Z"
      },
      {
        "duration": 33,
        "start_time": "2022-07-27T14:47:05.930Z"
      },
      {
        "duration": 15,
        "start_time": "2022-07-27T14:47:05.965Z"
      },
      {
        "duration": 46,
        "start_time": "2022-07-27T14:47:05.981Z"
      },
      {
        "duration": 7,
        "start_time": "2022-07-27T14:47:06.029Z"
      },
      {
        "duration": 87,
        "start_time": "2022-07-27T14:47:06.038Z"
      },
      {
        "duration": 154,
        "start_time": "2022-07-27T14:47:06.127Z"
      },
      {
        "duration": 140,
        "start_time": "2022-07-27T14:47:06.283Z"
      },
      {
        "duration": 134,
        "start_time": "2022-07-27T14:47:06.425Z"
      },
      {
        "duration": 131,
        "start_time": "2022-07-27T14:47:06.562Z"
      },
      {
        "duration": 146,
        "start_time": "2022-07-27T14:47:06.694Z"
      },
      {
        "duration": 132,
        "start_time": "2022-07-27T14:47:16.248Z"
      },
      {
        "duration": 111,
        "start_time": "2022-07-27T14:47:18.552Z"
      },
      {
        "duration": 127,
        "start_time": "2022-07-27T14:48:59.814Z"
      },
      {
        "duration": 138,
        "start_time": "2022-07-27T14:49:13.668Z"
      },
      {
        "duration": 16,
        "start_time": "2022-07-27T14:49:13.808Z"
      },
      {
        "duration": 2366,
        "start_time": "2022-07-27T14:49:13.825Z"
      },
      {
        "duration": 25,
        "start_time": "2022-07-27T14:49:16.194Z"
      },
      {
        "duration": 7,
        "start_time": "2022-07-27T14:49:16.221Z"
      },
      {
        "duration": 26,
        "start_time": "2022-07-27T14:49:16.230Z"
      },
      {
        "duration": 15,
        "start_time": "2022-07-27T14:49:16.257Z"
      },
      {
        "duration": 52,
        "start_time": "2022-07-27T14:49:16.274Z"
      },
      {
        "duration": 7,
        "start_time": "2022-07-27T14:49:16.327Z"
      },
      {
        "duration": 91,
        "start_time": "2022-07-27T14:49:16.336Z"
      },
      {
        "duration": 153,
        "start_time": "2022-07-27T14:49:16.428Z"
      },
      {
        "duration": 136,
        "start_time": "2022-07-27T14:49:16.583Z"
      },
      {
        "duration": 143,
        "start_time": "2022-07-27T14:49:16.720Z"
      },
      {
        "duration": 139,
        "start_time": "2022-07-27T14:49:16.867Z"
      },
      {
        "duration": 150,
        "start_time": "2022-07-27T14:49:17.008Z"
      },
      {
        "duration": 144,
        "start_time": "2022-07-27T14:49:17.160Z"
      },
      {
        "duration": 135,
        "start_time": "2022-07-27T14:49:17.309Z"
      },
      {
        "duration": 0,
        "start_time": "2022-07-27T14:49:17.446Z"
      },
      {
        "duration": 0,
        "start_time": "2022-07-27T14:49:17.447Z"
      },
      {
        "duration": 0,
        "start_time": "2022-07-27T14:49:17.449Z"
      },
      {
        "duration": 0,
        "start_time": "2022-07-27T14:49:17.450Z"
      },
      {
        "duration": 0,
        "start_time": "2022-07-27T14:49:17.451Z"
      },
      {
        "duration": 0,
        "start_time": "2022-07-27T14:49:17.452Z"
      },
      {
        "duration": 0,
        "start_time": "2022-07-27T14:49:17.453Z"
      },
      {
        "duration": 0,
        "start_time": "2022-07-27T14:49:17.455Z"
      },
      {
        "duration": 0,
        "start_time": "2022-07-27T14:49:17.456Z"
      },
      {
        "duration": 0,
        "start_time": "2022-07-27T14:49:17.457Z"
      },
      {
        "duration": 0,
        "start_time": "2022-07-27T14:49:17.458Z"
      },
      {
        "duration": 0,
        "start_time": "2022-07-27T14:49:17.459Z"
      },
      {
        "duration": 0,
        "start_time": "2022-07-27T14:49:17.461Z"
      },
      {
        "duration": 0,
        "start_time": "2022-07-27T14:49:17.462Z"
      },
      {
        "duration": 0,
        "start_time": "2022-07-27T14:49:17.463Z"
      },
      {
        "duration": 0,
        "start_time": "2022-07-27T14:49:17.464Z"
      },
      {
        "duration": 114,
        "start_time": "2022-07-27T14:49:41.059Z"
      },
      {
        "duration": 147,
        "start_time": "2022-07-27T14:55:12.355Z"
      },
      {
        "duration": 136,
        "start_time": "2022-07-27T14:56:26.823Z"
      },
      {
        "duration": 150,
        "start_time": "2022-07-27T14:56:45.523Z"
      },
      {
        "duration": 128,
        "start_time": "2022-07-27T14:56:54.037Z"
      },
      {
        "duration": 142,
        "start_time": "2022-07-27T14:57:32.908Z"
      },
      {
        "duration": 119,
        "start_time": "2022-07-27T14:58:07.547Z"
      },
      {
        "duration": 131,
        "start_time": "2022-07-27T14:59:19.311Z"
      },
      {
        "duration": 132,
        "start_time": "2022-07-27T15:00:19.922Z"
      },
      {
        "duration": 128,
        "start_time": "2022-07-27T15:02:30.182Z"
      },
      {
        "duration": 121,
        "start_time": "2022-07-27T15:02:48.730Z"
      },
      {
        "duration": 184,
        "start_time": "2022-07-27T15:03:19.254Z"
      },
      {
        "duration": 176,
        "start_time": "2022-07-27T15:04:35.615Z"
      },
      {
        "duration": 127,
        "start_time": "2022-07-27T15:06:24.208Z"
      },
      {
        "duration": 117,
        "start_time": "2022-07-27T15:06:28.615Z"
      },
      {
        "duration": 147,
        "start_time": "2022-07-27T15:07:55.796Z"
      },
      {
        "duration": 147,
        "start_time": "2022-07-27T15:08:28.333Z"
      },
      {
        "duration": 161,
        "start_time": "2022-07-27T15:11:01.750Z"
      },
      {
        "duration": 95,
        "start_time": "2022-07-27T15:13:08.315Z"
      },
      {
        "duration": 136,
        "start_time": "2022-07-27T15:13:13.627Z"
      },
      {
        "duration": 122,
        "start_time": "2022-07-27T15:13:30.721Z"
      },
      {
        "duration": 117,
        "start_time": "2022-07-27T15:13:45.840Z"
      },
      {
        "duration": 120,
        "start_time": "2022-07-27T15:15:22.133Z"
      },
      {
        "duration": 160,
        "start_time": "2022-07-27T15:21:26.914Z"
      },
      {
        "duration": 481,
        "start_time": "2022-07-27T15:23:08.248Z"
      },
      {
        "duration": 147,
        "start_time": "2022-07-27T15:23:34.112Z"
      },
      {
        "duration": 204,
        "start_time": "2022-07-27T15:24:27.385Z"
      },
      {
        "duration": 295,
        "start_time": "2022-07-27T15:58:46.055Z"
      },
      {
        "duration": 300,
        "start_time": "2022-07-27T15:59:09.028Z"
      },
      {
        "duration": 309,
        "start_time": "2022-07-27T15:59:46.949Z"
      },
      {
        "duration": 362,
        "start_time": "2022-07-27T16:00:14.323Z"
      },
      {
        "duration": 297,
        "start_time": "2022-07-27T16:00:46.553Z"
      },
      {
        "duration": 276,
        "start_time": "2022-07-27T16:00:53.026Z"
      },
      {
        "duration": 394,
        "start_time": "2022-07-27T16:01:22.172Z"
      },
      {
        "duration": 481,
        "start_time": "2022-07-27T16:01:29.821Z"
      },
      {
        "duration": 323,
        "start_time": "2022-07-27T16:01:42.978Z"
      },
      {
        "duration": 325,
        "start_time": "2022-07-27T16:01:55.346Z"
      },
      {
        "duration": 308,
        "start_time": "2022-07-27T16:02:12.233Z"
      },
      {
        "duration": 308,
        "start_time": "2022-07-27T16:02:48.025Z"
      },
      {
        "duration": 297,
        "start_time": "2022-07-27T16:03:33.942Z"
      },
      {
        "duration": 325,
        "start_time": "2022-07-27T16:13:15.328Z"
      },
      {
        "duration": 176,
        "start_time": "2022-07-27T16:13:38.382Z"
      },
      {
        "duration": 186,
        "start_time": "2022-07-27T16:13:43.965Z"
      },
      {
        "duration": 139,
        "start_time": "2022-07-27T16:13:48.641Z"
      },
      {
        "duration": 158,
        "start_time": "2022-07-27T16:13:55.585Z"
      },
      {
        "duration": 19,
        "start_time": "2022-07-27T16:16:12.847Z"
      },
      {
        "duration": 1213,
        "start_time": "2022-07-27T16:35:48.945Z"
      },
      {
        "duration": 141,
        "start_time": "2022-07-27T16:37:26.584Z"
      },
      {
        "duration": 152,
        "start_time": "2022-07-27T16:37:34.612Z"
      },
      {
        "duration": 274,
        "start_time": "2022-07-27T16:38:20.010Z"
      },
      {
        "duration": 302,
        "start_time": "2022-07-27T16:38:25.934Z"
      },
      {
        "duration": 268,
        "start_time": "2022-07-27T16:38:57.040Z"
      },
      {
        "duration": 261,
        "start_time": "2022-07-27T16:39:03.711Z"
      },
      {
        "duration": 309,
        "start_time": "2022-07-27T16:39:13.034Z"
      },
      {
        "duration": 302,
        "start_time": "2022-07-27T16:39:31.610Z"
      },
      {
        "duration": 315,
        "start_time": "2022-07-27T16:39:47.444Z"
      },
      {
        "duration": 280,
        "start_time": "2022-07-27T16:39:54.326Z"
      },
      {
        "duration": 314,
        "start_time": "2022-07-27T16:40:22.125Z"
      },
      {
        "duration": 286,
        "start_time": "2022-07-27T16:40:34.865Z"
      },
      {
        "duration": 177,
        "start_time": "2022-07-27T16:40:41.963Z"
      },
      {
        "duration": 164,
        "start_time": "2022-07-27T16:41:11.798Z"
      },
      {
        "duration": 215,
        "start_time": "2022-07-27T16:41:28.698Z"
      },
      {
        "duration": 131,
        "start_time": "2022-07-27T16:41:33.604Z"
      },
      {
        "duration": 152,
        "start_time": "2022-07-27T16:42:14.170Z"
      },
      {
        "duration": 1264,
        "start_time": "2022-07-27T16:43:51.953Z"
      },
      {
        "duration": 155,
        "start_time": "2022-07-27T16:44:07.900Z"
      },
      {
        "duration": 15,
        "start_time": "2022-07-27T16:44:08.058Z"
      },
      {
        "duration": 2626,
        "start_time": "2022-07-27T16:44:08.075Z"
      },
      {
        "duration": 21,
        "start_time": "2022-07-27T16:44:10.703Z"
      },
      {
        "duration": 8,
        "start_time": "2022-07-27T16:44:10.727Z"
      },
      {
        "duration": 26,
        "start_time": "2022-07-27T16:44:10.737Z"
      },
      {
        "duration": 14,
        "start_time": "2022-07-27T16:44:10.765Z"
      },
      {
        "duration": 25,
        "start_time": "2022-07-27T16:44:10.811Z"
      },
      {
        "duration": 11,
        "start_time": "2022-07-27T16:44:10.838Z"
      },
      {
        "duration": 107,
        "start_time": "2022-07-27T16:44:10.850Z"
      },
      {
        "duration": 148,
        "start_time": "2022-07-27T16:44:10.958Z"
      },
      {
        "duration": 131,
        "start_time": "2022-07-27T16:44:11.107Z"
      },
      {
        "duration": 126,
        "start_time": "2022-07-27T16:44:11.240Z"
      },
      {
        "duration": 136,
        "start_time": "2022-07-27T16:44:11.370Z"
      },
      {
        "duration": 155,
        "start_time": "2022-07-27T16:44:11.510Z"
      },
      {
        "duration": 150,
        "start_time": "2022-07-27T16:44:11.667Z"
      },
      {
        "duration": 166,
        "start_time": "2022-07-27T16:44:11.819Z"
      },
      {
        "duration": 190,
        "start_time": "2022-07-27T16:44:11.987Z"
      },
      {
        "duration": 140,
        "start_time": "2022-07-27T16:44:12.179Z"
      },
      {
        "duration": 165,
        "start_time": "2022-07-27T16:44:12.322Z"
      },
      {
        "duration": 164,
        "start_time": "2022-07-27T16:44:12.490Z"
      },
      {
        "duration": 136,
        "start_time": "2022-07-27T16:44:12.656Z"
      },
      {
        "duration": 177,
        "start_time": "2022-07-27T16:44:12.794Z"
      },
      {
        "duration": 156,
        "start_time": "2022-07-27T16:44:12.973Z"
      },
      {
        "duration": 147,
        "start_time": "2022-07-27T16:44:13.132Z"
      },
      {
        "duration": 135,
        "start_time": "2022-07-27T16:44:13.280Z"
      },
      {
        "duration": 146,
        "start_time": "2022-07-27T16:44:13.417Z"
      },
      {
        "duration": 4,
        "start_time": "2022-07-27T16:44:13.565Z"
      },
      {
        "duration": 8,
        "start_time": "2022-07-27T16:44:13.571Z"
      },
      {
        "duration": 6,
        "start_time": "2022-07-27T16:44:13.580Z"
      },
      {
        "duration": 26,
        "start_time": "2022-07-27T16:44:13.587Z"
      },
      {
        "duration": 9,
        "start_time": "2022-07-27T16:44:13.615Z"
      },
      {
        "duration": 16,
        "start_time": "2022-07-27T16:44:13.625Z"
      },
      {
        "duration": 46,
        "start_time": "2022-07-27T16:44:13.643Z"
      },
      {
        "duration": 309,
        "start_time": "2022-07-27T16:44:13.691Z"
      },
      {
        "duration": 293,
        "start_time": "2022-07-27T16:44:14.002Z"
      },
      {
        "duration": 298,
        "start_time": "2022-07-27T16:44:14.297Z"
      },
      {
        "duration": 293,
        "start_time": "2022-07-27T16:44:14.598Z"
      },
      {
        "duration": 152,
        "start_time": "2022-07-27T16:44:14.893Z"
      },
      {
        "duration": 147,
        "start_time": "2022-07-27T16:44:15.047Z"
      },
      {
        "duration": 191,
        "start_time": "2022-07-27T16:44:15.198Z"
      },
      {
        "duration": 153,
        "start_time": "2022-07-27T16:44:15.391Z"
      },
      {
        "duration": 149,
        "start_time": "2022-07-27T16:46:16.948Z"
      },
      {
        "duration": 167,
        "start_time": "2022-07-27T16:46:49.281Z"
      },
      {
        "duration": 256,
        "start_time": "2022-07-27T16:46:59.626Z"
      },
      {
        "duration": 327,
        "start_time": "2022-07-27T16:47:34.864Z"
      },
      {
        "duration": 329,
        "start_time": "2022-07-27T16:47:51.777Z"
      },
      {
        "duration": 277,
        "start_time": "2022-07-27T16:47:56.674Z"
      },
      {
        "duration": 279,
        "start_time": "2022-07-27T16:48:05.606Z"
      },
      {
        "duration": 133,
        "start_time": "2022-07-27T16:50:26.085Z"
      },
      {
        "duration": 139,
        "start_time": "2022-07-27T16:50:51.152Z"
      },
      {
        "duration": 141,
        "start_time": "2022-07-27T16:50:58.925Z"
      },
      {
        "duration": 274,
        "start_time": "2022-07-27T16:51:14.609Z"
      },
      {
        "duration": 305,
        "start_time": "2022-07-27T16:51:28.853Z"
      },
      {
        "duration": 234,
        "start_time": "2022-07-27T16:51:48.333Z"
      },
      {
        "duration": 266,
        "start_time": "2022-07-27T16:51:55.735Z"
      },
      {
        "duration": 688,
        "start_time": "2022-07-27T16:53:21.433Z"
      },
      {
        "duration": 162,
        "start_time": "2022-07-27T16:55:24.654Z"
      },
      {
        "duration": 23,
        "start_time": "2022-07-27T16:55:24.820Z"
      },
      {
        "duration": 2357,
        "start_time": "2022-07-27T16:55:24.845Z"
      },
      {
        "duration": 24,
        "start_time": "2022-07-27T16:55:27.209Z"
      },
      {
        "duration": 16,
        "start_time": "2022-07-27T16:55:27.236Z"
      },
      {
        "duration": 40,
        "start_time": "2022-07-27T16:55:27.256Z"
      },
      {
        "duration": 31,
        "start_time": "2022-07-27T16:55:27.298Z"
      },
      {
        "duration": 36,
        "start_time": "2022-07-27T16:55:27.330Z"
      },
      {
        "duration": 8,
        "start_time": "2022-07-27T16:55:27.367Z"
      },
      {
        "duration": 107,
        "start_time": "2022-07-27T16:55:27.379Z"
      },
      {
        "duration": 159,
        "start_time": "2022-07-27T16:55:27.487Z"
      },
      {
        "duration": 150,
        "start_time": "2022-07-27T16:55:27.648Z"
      },
      {
        "duration": 168,
        "start_time": "2022-07-27T16:55:27.800Z"
      },
      {
        "duration": 145,
        "start_time": "2022-07-27T16:55:27.969Z"
      },
      {
        "duration": 163,
        "start_time": "2022-07-27T16:55:28.116Z"
      },
      {
        "duration": 159,
        "start_time": "2022-07-27T16:55:28.281Z"
      },
      {
        "duration": 146,
        "start_time": "2022-07-27T16:55:28.442Z"
      },
      {
        "duration": 145,
        "start_time": "2022-07-27T16:55:28.590Z"
      },
      {
        "duration": 176,
        "start_time": "2022-07-27T16:55:28.737Z"
      },
      {
        "duration": 146,
        "start_time": "2022-07-27T16:55:28.917Z"
      },
      {
        "duration": 145,
        "start_time": "2022-07-27T16:55:29.065Z"
      },
      {
        "duration": 160,
        "start_time": "2022-07-27T16:55:29.211Z"
      },
      {
        "duration": 143,
        "start_time": "2022-07-27T16:55:29.373Z"
      },
      {
        "duration": 151,
        "start_time": "2022-07-27T16:55:29.520Z"
      },
      {
        "duration": 149,
        "start_time": "2022-07-27T16:55:29.673Z"
      },
      {
        "duration": 162,
        "start_time": "2022-07-27T16:55:29.824Z"
      },
      {
        "duration": 148,
        "start_time": "2022-07-27T16:55:29.987Z"
      },
      {
        "duration": 139,
        "start_time": "2022-07-27T16:55:30.140Z"
      },
      {
        "duration": 4,
        "start_time": "2022-07-27T16:55:30.281Z"
      },
      {
        "duration": 23,
        "start_time": "2022-07-27T16:55:30.288Z"
      },
      {
        "duration": 19,
        "start_time": "2022-07-27T16:55:30.313Z"
      },
      {
        "duration": 15,
        "start_time": "2022-07-27T16:55:30.335Z"
      },
      {
        "duration": 13,
        "start_time": "2022-07-27T16:55:30.352Z"
      },
      {
        "duration": 28,
        "start_time": "2022-07-27T16:55:30.366Z"
      },
      {
        "duration": 59,
        "start_time": "2022-07-27T16:55:30.396Z"
      },
      {
        "duration": 295,
        "start_time": "2022-07-27T16:55:30.457Z"
      },
      {
        "duration": 314,
        "start_time": "2022-07-27T16:55:30.754Z"
      },
      {
        "duration": 309,
        "start_time": "2022-07-27T16:55:31.070Z"
      },
      {
        "duration": 280,
        "start_time": "2022-07-27T16:55:31.381Z"
      },
      {
        "duration": 186,
        "start_time": "2022-07-27T16:55:31.663Z"
      },
      {
        "duration": 170,
        "start_time": "2022-07-27T16:55:31.851Z"
      },
      {
        "duration": 204,
        "start_time": "2022-07-27T16:55:32.023Z"
      },
      {
        "duration": 175,
        "start_time": "2022-07-27T16:55:32.231Z"
      },
      {
        "duration": 161,
        "start_time": "2022-07-27T16:55:32.413Z"
      },
      {
        "duration": 289,
        "start_time": "2022-07-27T16:55:32.576Z"
      },
      {
        "duration": 312,
        "start_time": "2022-07-27T16:55:32.867Z"
      },
      {
        "duration": 272,
        "start_time": "2022-07-27T16:59:18.248Z"
      },
      {
        "duration": 291,
        "start_time": "2022-07-27T16:59:58.334Z"
      },
      {
        "duration": 168,
        "start_time": "2022-07-27T17:04:22.116Z"
      },
      {
        "duration": 25,
        "start_time": "2022-07-27T17:04:22.286Z"
      },
      {
        "duration": 2793,
        "start_time": "2022-07-27T17:04:22.313Z"
      },
      {
        "duration": 16,
        "start_time": "2022-07-27T17:04:25.108Z"
      },
      {
        "duration": 17,
        "start_time": "2022-07-27T17:04:25.128Z"
      },
      {
        "duration": 42,
        "start_time": "2022-07-27T17:04:25.147Z"
      },
      {
        "duration": 23,
        "start_time": "2022-07-27T17:04:25.192Z"
      },
      {
        "duration": 38,
        "start_time": "2022-07-27T17:04:25.217Z"
      },
      {
        "duration": 10,
        "start_time": "2022-07-27T17:04:25.258Z"
      },
      {
        "duration": 114,
        "start_time": "2022-07-27T17:04:25.270Z"
      },
      {
        "duration": 166,
        "start_time": "2022-07-27T17:04:25.386Z"
      },
      {
        "duration": 137,
        "start_time": "2022-07-27T17:04:25.554Z"
      },
      {
        "duration": 161,
        "start_time": "2022-07-27T17:04:25.693Z"
      },
      {
        "duration": 127,
        "start_time": "2022-07-27T17:04:25.857Z"
      },
      {
        "duration": 159,
        "start_time": "2022-07-27T17:04:25.986Z"
      },
      {
        "duration": 136,
        "start_time": "2022-07-27T17:04:26.147Z"
      },
      {
        "duration": 141,
        "start_time": "2022-07-27T17:04:26.285Z"
      },
      {
        "duration": 136,
        "start_time": "2022-07-27T17:04:26.430Z"
      },
      {
        "duration": 161,
        "start_time": "2022-07-27T17:04:26.568Z"
      },
      {
        "duration": 152,
        "start_time": "2022-07-27T17:04:26.732Z"
      },
      {
        "duration": 150,
        "start_time": "2022-07-27T17:04:26.886Z"
      },
      {
        "duration": 125,
        "start_time": "2022-07-27T17:04:27.039Z"
      },
      {
        "duration": 139,
        "start_time": "2022-07-27T17:04:27.166Z"
      },
      {
        "duration": 139,
        "start_time": "2022-07-27T17:04:27.307Z"
      },
      {
        "duration": 140,
        "start_time": "2022-07-27T17:04:27.448Z"
      },
      {
        "duration": 149,
        "start_time": "2022-07-27T17:04:27.590Z"
      },
      {
        "duration": 158,
        "start_time": "2022-07-27T17:04:27.741Z"
      },
      {
        "duration": 143,
        "start_time": "2022-07-27T17:04:27.900Z"
      },
      {
        "duration": 5,
        "start_time": "2022-07-27T17:04:28.045Z"
      },
      {
        "duration": 10,
        "start_time": "2022-07-27T17:04:28.051Z"
      },
      {
        "duration": 9,
        "start_time": "2022-07-27T17:04:28.063Z"
      },
      {
        "duration": 8,
        "start_time": "2022-07-27T17:04:28.074Z"
      },
      {
        "duration": 26,
        "start_time": "2022-07-27T17:04:28.084Z"
      },
      {
        "duration": 5,
        "start_time": "2022-07-27T17:04:28.113Z"
      },
      {
        "duration": 53,
        "start_time": "2022-07-27T17:04:28.120Z"
      },
      {
        "duration": 319,
        "start_time": "2022-07-27T17:04:28.175Z"
      },
      {
        "duration": 303,
        "start_time": "2022-07-27T17:04:28.496Z"
      },
      {
        "duration": 281,
        "start_time": "2022-07-27T17:04:28.801Z"
      },
      {
        "duration": 290,
        "start_time": "2022-07-27T17:04:29.084Z"
      },
      {
        "duration": 165,
        "start_time": "2022-07-27T17:04:29.376Z"
      },
      {
        "duration": 192,
        "start_time": "2022-07-27T17:04:29.546Z"
      },
      {
        "duration": 231,
        "start_time": "2022-07-27T17:04:29.740Z"
      },
      {
        "duration": 195,
        "start_time": "2022-07-27T17:04:29.973Z"
      },
      {
        "duration": 163,
        "start_time": "2022-07-27T17:04:30.170Z"
      },
      {
        "duration": 307,
        "start_time": "2022-07-27T17:04:30.335Z"
      },
      {
        "duration": 299,
        "start_time": "2022-07-27T17:04:30.644Z"
      },
      {
        "duration": 298,
        "start_time": "2022-07-27T17:04:30.945Z"
      },
      {
        "duration": 287,
        "start_time": "2022-07-27T17:07:21.561Z"
      },
      {
        "duration": 22,
        "start_time": "2022-07-27T17:12:05.862Z"
      },
      {
        "duration": 184,
        "start_time": "2022-07-27T17:12:13.065Z"
      },
      {
        "duration": 15,
        "start_time": "2022-07-27T17:12:13.251Z"
      },
      {
        "duration": 2262,
        "start_time": "2022-07-27T17:12:13.268Z"
      },
      {
        "duration": 15,
        "start_time": "2022-07-27T17:12:15.533Z"
      },
      {
        "duration": 7,
        "start_time": "2022-07-27T17:12:15.550Z"
      },
      {
        "duration": 26,
        "start_time": "2022-07-27T17:12:15.558Z"
      },
      {
        "duration": 38,
        "start_time": "2022-07-27T17:12:15.586Z"
      },
      {
        "duration": 28,
        "start_time": "2022-07-27T17:12:15.626Z"
      },
      {
        "duration": 7,
        "start_time": "2022-07-27T17:12:15.656Z"
      },
      {
        "duration": 105,
        "start_time": "2022-07-27T17:12:15.667Z"
      },
      {
        "duration": 163,
        "start_time": "2022-07-27T17:12:15.773Z"
      },
      {
        "duration": 146,
        "start_time": "2022-07-27T17:12:15.938Z"
      },
      {
        "duration": 134,
        "start_time": "2022-07-27T17:12:16.086Z"
      },
      {
        "duration": 139,
        "start_time": "2022-07-27T17:12:16.222Z"
      },
      {
        "duration": 151,
        "start_time": "2022-07-27T17:12:16.363Z"
      },
      {
        "duration": 144,
        "start_time": "2022-07-27T17:12:16.516Z"
      },
      {
        "duration": 137,
        "start_time": "2022-07-27T17:12:16.662Z"
      },
      {
        "duration": 150,
        "start_time": "2022-07-27T17:12:16.801Z"
      },
      {
        "duration": 144,
        "start_time": "2022-07-27T17:12:16.953Z"
      },
      {
        "duration": 160,
        "start_time": "2022-07-27T17:12:17.099Z"
      },
      {
        "duration": 151,
        "start_time": "2022-07-27T17:12:17.261Z"
      },
      {
        "duration": 143,
        "start_time": "2022-07-27T17:12:17.414Z"
      },
      {
        "duration": 150,
        "start_time": "2022-07-27T17:12:17.560Z"
      },
      {
        "duration": 161,
        "start_time": "2022-07-27T17:12:17.712Z"
      },
      {
        "duration": 137,
        "start_time": "2022-07-27T17:12:17.875Z"
      },
      {
        "duration": 144,
        "start_time": "2022-07-27T17:12:18.014Z"
      },
      {
        "duration": 130,
        "start_time": "2022-07-27T17:12:18.159Z"
      },
      {
        "duration": 148,
        "start_time": "2022-07-27T17:12:18.293Z"
      },
      {
        "duration": 4,
        "start_time": "2022-07-27T17:12:18.443Z"
      },
      {
        "duration": 11,
        "start_time": "2022-07-27T17:12:18.449Z"
      },
      {
        "duration": 13,
        "start_time": "2022-07-27T17:12:18.461Z"
      },
      {
        "duration": 8,
        "start_time": "2022-07-27T17:12:18.476Z"
      },
      {
        "duration": 8,
        "start_time": "2022-07-27T17:12:18.485Z"
      },
      {
        "duration": 6,
        "start_time": "2022-07-27T17:12:18.509Z"
      },
      {
        "duration": 56,
        "start_time": "2022-07-27T17:12:18.518Z"
      },
      {
        "duration": 295,
        "start_time": "2022-07-27T17:12:18.576Z"
      },
      {
        "duration": 309,
        "start_time": "2022-07-27T17:12:18.874Z"
      },
      {
        "duration": 276,
        "start_time": "2022-07-27T17:12:19.186Z"
      },
      {
        "duration": 275,
        "start_time": "2022-07-27T17:12:19.464Z"
      },
      {
        "duration": 911,
        "start_time": "2022-07-27T17:12:19.741Z"
      },
      {
        "duration": 150,
        "start_time": "2022-07-27T17:12:20.653Z"
      },
      {
        "duration": 166,
        "start_time": "2022-07-27T17:12:20.811Z"
      },
      {
        "duration": 163,
        "start_time": "2022-07-27T17:12:20.979Z"
      },
      {
        "duration": 156,
        "start_time": "2022-07-27T17:12:21.144Z"
      },
      {
        "duration": 292,
        "start_time": "2022-07-27T17:12:21.301Z"
      },
      {
        "duration": 339,
        "start_time": "2022-07-27T17:12:21.595Z"
      },
      {
        "duration": 341,
        "start_time": "2022-07-27T17:12:21.935Z"
      },
      {
        "duration": 262,
        "start_time": "2022-07-27T17:13:46.465Z"
      },
      {
        "duration": 272,
        "start_time": "2022-07-27T17:14:17.898Z"
      },
      {
        "duration": 158,
        "start_time": "2022-07-27T17:14:24.306Z"
      },
      {
        "duration": 16,
        "start_time": "2022-07-27T17:14:31.334Z"
      },
      {
        "duration": 17,
        "start_time": "2022-07-27T17:14:37.118Z"
      },
      {
        "duration": 170,
        "start_time": "2022-07-27T17:14:44.330Z"
      },
      {
        "duration": 148,
        "start_time": "2022-07-27T17:14:49.286Z"
      },
      {
        "duration": 179,
        "start_time": "2022-07-27T17:15:06.061Z"
      },
      {
        "duration": 149,
        "start_time": "2022-07-27T17:15:10.451Z"
      },
      {
        "duration": 185,
        "start_time": "2022-07-27T17:15:18.039Z"
      },
      {
        "duration": 176,
        "start_time": "2022-07-27T17:15:27.030Z"
      },
      {
        "duration": 197,
        "start_time": "2022-07-27T17:15:31.598Z"
      },
      {
        "duration": 168,
        "start_time": "2022-07-27T17:15:46.827Z"
      },
      {
        "duration": 171,
        "start_time": "2022-07-27T18:29:59.973Z"
      },
      {
        "duration": 152,
        "start_time": "2022-07-27T18:44:15.944Z"
      },
      {
        "duration": 157,
        "start_time": "2022-07-27T18:44:34.767Z"
      },
      {
        "duration": 117,
        "start_time": "2022-07-27T18:46:25.119Z"
      },
      {
        "duration": 289,
        "start_time": "2022-07-27T18:46:29.837Z"
      },
      {
        "duration": 271,
        "start_time": "2022-07-27T18:46:44.369Z"
      },
      {
        "duration": 253,
        "start_time": "2022-07-27T18:46:58.220Z"
      },
      {
        "duration": 730,
        "start_time": "2022-07-28T12:47:59.080Z"
      },
      {
        "duration": 15,
        "start_time": "2022-07-28T12:47:59.812Z"
      },
      {
        "duration": 139,
        "start_time": "2022-07-28T12:48:15.171Z"
      },
      {
        "duration": 15,
        "start_time": "2022-07-28T12:48:15.311Z"
      },
      {
        "duration": 1788,
        "start_time": "2022-07-28T12:48:15.328Z"
      },
      {
        "duration": 26,
        "start_time": "2022-07-28T12:48:17.119Z"
      },
      {
        "duration": 9,
        "start_time": "2022-07-28T12:48:17.148Z"
      },
      {
        "duration": 29,
        "start_time": "2022-07-28T12:48:17.158Z"
      },
      {
        "duration": 16,
        "start_time": "2022-07-28T12:48:17.190Z"
      },
      {
        "duration": 23,
        "start_time": "2022-07-28T12:48:17.234Z"
      },
      {
        "duration": 6,
        "start_time": "2022-07-28T12:48:17.259Z"
      },
      {
        "duration": 90,
        "start_time": "2022-07-28T12:48:17.267Z"
      },
      {
        "duration": 299,
        "start_time": "2022-07-28T12:48:17.359Z"
      },
      {
        "duration": 115,
        "start_time": "2022-07-28T12:48:17.660Z"
      },
      {
        "duration": 132,
        "start_time": "2022-07-28T12:48:17.777Z"
      },
      {
        "duration": 125,
        "start_time": "2022-07-28T12:48:17.910Z"
      },
      {
        "duration": 141,
        "start_time": "2022-07-28T12:48:18.037Z"
      },
      {
        "duration": 129,
        "start_time": "2022-07-28T12:48:18.180Z"
      },
      {
        "duration": 178,
        "start_time": "2022-07-28T12:48:18.311Z"
      },
      {
        "duration": 135,
        "start_time": "2022-07-28T12:48:18.492Z"
      },
      {
        "duration": 132,
        "start_time": "2022-07-28T12:48:18.634Z"
      },
      {
        "duration": 148,
        "start_time": "2022-07-28T12:48:18.767Z"
      },
      {
        "duration": 179,
        "start_time": "2022-07-28T12:48:18.918Z"
      },
      {
        "duration": 126,
        "start_time": "2022-07-28T12:48:19.099Z"
      },
      {
        "duration": 151,
        "start_time": "2022-07-28T12:48:19.228Z"
      },
      {
        "duration": 152,
        "start_time": "2022-07-28T12:48:19.387Z"
      },
      {
        "duration": 144,
        "start_time": "2022-07-28T12:48:19.541Z"
      },
      {
        "duration": 124,
        "start_time": "2022-07-28T12:48:19.687Z"
      },
      {
        "duration": 109,
        "start_time": "2022-07-28T12:48:19.812Z"
      },
      {
        "duration": 128,
        "start_time": "2022-07-28T12:48:19.934Z"
      },
      {
        "duration": 11,
        "start_time": "2022-07-28T12:48:20.064Z"
      },
      {
        "duration": 26,
        "start_time": "2022-07-28T12:48:20.077Z"
      },
      {
        "duration": 9,
        "start_time": "2022-07-28T12:48:20.105Z"
      },
      {
        "duration": 19,
        "start_time": "2022-07-28T12:48:20.117Z"
      },
      {
        "duration": 11,
        "start_time": "2022-07-28T12:48:20.137Z"
      },
      {
        "duration": 7,
        "start_time": "2022-07-28T12:48:20.150Z"
      },
      {
        "duration": 52,
        "start_time": "2022-07-28T12:48:20.159Z"
      },
      {
        "duration": 242,
        "start_time": "2022-07-28T12:48:20.213Z"
      },
      {
        "duration": 236,
        "start_time": "2022-07-28T12:48:20.457Z"
      },
      {
        "duration": 239,
        "start_time": "2022-07-28T12:48:20.696Z"
      },
      {
        "duration": 238,
        "start_time": "2022-07-28T12:48:20.938Z"
      },
      {
        "duration": 132,
        "start_time": "2022-07-28T12:48:21.178Z"
      },
      {
        "duration": 147,
        "start_time": "2022-07-28T12:48:21.311Z"
      },
      {
        "duration": 135,
        "start_time": "2022-07-28T12:48:21.459Z"
      },
      {
        "duration": 120,
        "start_time": "2022-07-28T12:48:21.596Z"
      },
      {
        "duration": 133,
        "start_time": "2022-07-28T12:48:21.717Z"
      },
      {
        "duration": 432,
        "start_time": "2022-07-28T12:48:21.852Z"
      },
      {
        "duration": 255,
        "start_time": "2022-07-28T12:48:22.285Z"
      },
      {
        "duration": 219,
        "start_time": "2022-07-28T12:48:22.542Z"
      },
      {
        "duration": 190,
        "start_time": "2022-07-28T12:48:22.763Z"
      },
      {
        "duration": 147,
        "start_time": "2022-07-28T12:48:22.955Z"
      },
      {
        "duration": 223,
        "start_time": "2022-07-28T12:48:23.103Z"
      },
      {
        "duration": 221,
        "start_time": "2022-07-28T12:53:52.820Z"
      },
      {
        "duration": 212,
        "start_time": "2022-07-28T12:56:48.946Z"
      },
      {
        "duration": 209,
        "start_time": "2022-07-28T12:59:53.266Z"
      },
      {
        "duration": 53,
        "start_time": "2022-07-30T19:14:55.063Z"
      },
      {
        "duration": 672,
        "start_time": "2022-07-30T19:14:58.888Z"
      },
      {
        "duration": 21,
        "start_time": "2022-07-30T19:14:59.562Z"
      },
      {
        "duration": 2619,
        "start_time": "2022-07-30T19:14:59.585Z"
      },
      {
        "duration": 19,
        "start_time": "2022-07-30T19:15:02.206Z"
      },
      {
        "duration": 19,
        "start_time": "2022-07-30T19:15:02.228Z"
      },
      {
        "duration": 25,
        "start_time": "2022-07-30T19:15:02.250Z"
      },
      {
        "duration": 15,
        "start_time": "2022-07-30T19:15:02.310Z"
      },
      {
        "duration": 31,
        "start_time": "2022-07-30T19:15:02.327Z"
      },
      {
        "duration": 8,
        "start_time": "2022-07-30T19:15:02.360Z"
      },
      {
        "duration": 116,
        "start_time": "2022-07-30T19:15:02.370Z"
      },
      {
        "duration": 167,
        "start_time": "2022-07-30T19:15:02.487Z"
      },
      {
        "duration": 134,
        "start_time": "2022-07-30T19:15:02.657Z"
      },
      {
        "duration": 136,
        "start_time": "2022-07-30T19:15:02.793Z"
      },
      {
        "duration": 128,
        "start_time": "2022-07-30T19:15:02.932Z"
      },
      {
        "duration": 142,
        "start_time": "2022-07-30T19:15:03.061Z"
      },
      {
        "duration": 221,
        "start_time": "2022-07-30T19:15:03.211Z"
      },
      {
        "duration": 130,
        "start_time": "2022-07-30T19:15:03.434Z"
      },
      {
        "duration": 123,
        "start_time": "2022-07-30T19:15:03.566Z"
      },
      {
        "duration": 154,
        "start_time": "2022-07-30T19:15:03.691Z"
      },
      {
        "duration": 133,
        "start_time": "2022-07-30T19:15:03.847Z"
      },
      {
        "duration": 143,
        "start_time": "2022-07-30T19:15:03.982Z"
      },
      {
        "duration": 141,
        "start_time": "2022-07-30T19:15:04.126Z"
      },
      {
        "duration": 150,
        "start_time": "2022-07-30T19:15:04.269Z"
      },
      {
        "duration": 147,
        "start_time": "2022-07-30T19:15:04.422Z"
      },
      {
        "duration": 141,
        "start_time": "2022-07-30T19:15:04.571Z"
      },
      {
        "duration": 147,
        "start_time": "2022-07-30T19:15:04.713Z"
      },
      {
        "duration": 135,
        "start_time": "2022-07-30T19:15:04.862Z"
      },
      {
        "duration": 146,
        "start_time": "2022-07-30T19:15:04.999Z"
      },
      {
        "duration": 5,
        "start_time": "2022-07-30T19:15:05.147Z"
      },
      {
        "duration": 19,
        "start_time": "2022-07-30T19:15:05.154Z"
      },
      {
        "duration": 12,
        "start_time": "2022-07-30T19:15:05.175Z"
      },
      {
        "duration": 25,
        "start_time": "2022-07-30T19:15:05.189Z"
      },
      {
        "duration": 16,
        "start_time": "2022-07-30T19:15:05.216Z"
      },
      {
        "duration": 20,
        "start_time": "2022-07-30T19:15:05.234Z"
      },
      {
        "duration": 76,
        "start_time": "2022-07-30T19:15:05.256Z"
      },
      {
        "duration": 389,
        "start_time": "2022-07-30T19:15:05.335Z"
      },
      {
        "duration": 292,
        "start_time": "2022-07-30T19:15:05.726Z"
      },
      {
        "duration": 285,
        "start_time": "2022-07-30T19:15:06.021Z"
      },
      {
        "duration": 294,
        "start_time": "2022-07-30T19:15:06.309Z"
      },
      {
        "duration": 159,
        "start_time": "2022-07-30T19:15:06.605Z"
      },
      {
        "duration": 149,
        "start_time": "2022-07-30T19:15:06.768Z"
      },
      {
        "duration": 159,
        "start_time": "2022-07-30T19:15:06.919Z"
      },
      {
        "duration": 163,
        "start_time": "2022-07-30T19:15:07.079Z"
      },
      {
        "duration": 269,
        "start_time": "2022-07-30T19:15:07.243Z"
      },
      {
        "duration": 298,
        "start_time": "2022-07-30T19:15:07.514Z"
      },
      {
        "duration": 312,
        "start_time": "2022-07-30T19:15:07.814Z"
      },
      {
        "duration": 166,
        "start_time": "2022-07-30T19:15:08.128Z"
      },
      {
        "duration": 224,
        "start_time": "2022-07-30T19:15:08.295Z"
      },
      {
        "duration": 174,
        "start_time": "2022-07-30T19:15:08.521Z"
      },
      {
        "duration": 312,
        "start_time": "2022-07-30T19:15:08.698Z"
      },
      {
        "duration": 190,
        "start_time": "2022-07-30T19:28:39.946Z"
      },
      {
        "duration": 420,
        "start_time": "2022-07-30T19:34:42.863Z"
      },
      {
        "duration": 1288,
        "start_time": "2022-07-30T19:41:56.353Z"
      },
      {
        "duration": 172,
        "start_time": "2022-07-30T19:42:11.583Z"
      },
      {
        "duration": 149,
        "start_time": "2022-07-30T19:42:31.299Z"
      },
      {
        "duration": 417,
        "start_time": "2022-07-30T19:48:08.707Z"
      },
      {
        "duration": 416,
        "start_time": "2022-07-30T19:48:13.810Z"
      },
      {
        "duration": 51,
        "start_time": "2022-08-01T14:31:05.935Z"
      },
      {
        "duration": 1063,
        "start_time": "2022-08-01T14:31:10.394Z"
      },
      {
        "duration": 15,
        "start_time": "2022-08-01T14:31:11.459Z"
      },
      {
        "duration": 2293,
        "start_time": "2022-08-01T14:31:11.475Z"
      },
      {
        "duration": 13,
        "start_time": "2022-08-01T14:31:13.770Z"
      },
      {
        "duration": 6,
        "start_time": "2022-08-01T14:31:13.785Z"
      },
      {
        "duration": 45,
        "start_time": "2022-08-01T14:31:13.792Z"
      },
      {
        "duration": 12,
        "start_time": "2022-08-01T14:31:13.839Z"
      },
      {
        "duration": 24,
        "start_time": "2022-08-01T14:31:13.853Z"
      },
      {
        "duration": 7,
        "start_time": "2022-08-01T14:31:13.879Z"
      },
      {
        "duration": 113,
        "start_time": "2022-08-01T14:31:13.889Z"
      },
      {
        "duration": 163,
        "start_time": "2022-08-01T14:31:14.004Z"
      },
      {
        "duration": 140,
        "start_time": "2022-08-01T14:31:14.169Z"
      },
      {
        "duration": 139,
        "start_time": "2022-08-01T14:31:14.310Z"
      },
      {
        "duration": 128,
        "start_time": "2022-08-01T14:31:14.450Z"
      },
      {
        "duration": 146,
        "start_time": "2022-08-01T14:31:14.580Z"
      },
      {
        "duration": 201,
        "start_time": "2022-08-01T14:31:14.728Z"
      },
      {
        "duration": 120,
        "start_time": "2022-08-01T14:31:14.934Z"
      },
      {
        "duration": 119,
        "start_time": "2022-08-01T14:31:15.057Z"
      },
      {
        "duration": 129,
        "start_time": "2022-08-01T14:31:15.178Z"
      },
      {
        "duration": 127,
        "start_time": "2022-08-01T14:31:15.309Z"
      },
      {
        "duration": 143,
        "start_time": "2022-08-01T14:31:15.438Z"
      },
      {
        "duration": 111,
        "start_time": "2022-08-01T14:31:15.582Z"
      },
      {
        "duration": 133,
        "start_time": "2022-08-01T14:31:15.695Z"
      },
      {
        "duration": 125,
        "start_time": "2022-08-01T14:31:15.830Z"
      },
      {
        "duration": 127,
        "start_time": "2022-08-01T14:31:15.956Z"
      },
      {
        "duration": 159,
        "start_time": "2022-08-01T14:31:16.087Z"
      },
      {
        "duration": 128,
        "start_time": "2022-08-01T14:31:16.248Z"
      },
      {
        "duration": 180,
        "start_time": "2022-08-01T14:31:16.381Z"
      },
      {
        "duration": 6,
        "start_time": "2022-08-01T14:31:16.563Z"
      },
      {
        "duration": 12,
        "start_time": "2022-08-01T14:31:16.571Z"
      },
      {
        "duration": 8,
        "start_time": "2022-08-01T14:31:16.584Z"
      },
      {
        "duration": 11,
        "start_time": "2022-08-01T14:31:16.593Z"
      },
      {
        "duration": 29,
        "start_time": "2022-08-01T14:31:16.606Z"
      },
      {
        "duration": 14,
        "start_time": "2022-08-01T14:31:16.637Z"
      },
      {
        "duration": 58,
        "start_time": "2022-08-01T14:31:16.653Z"
      },
      {
        "duration": 336,
        "start_time": "2022-08-01T14:31:16.713Z"
      },
      {
        "duration": 230,
        "start_time": "2022-08-01T14:31:17.051Z"
      },
      {
        "duration": 304,
        "start_time": "2022-08-01T14:31:17.283Z"
      },
      {
        "duration": 219,
        "start_time": "2022-08-01T14:31:17.589Z"
      },
      {
        "duration": 135,
        "start_time": "2022-08-01T14:31:17.811Z"
      },
      {
        "duration": 128,
        "start_time": "2022-08-01T14:31:17.947Z"
      },
      {
        "duration": 128,
        "start_time": "2022-08-01T14:31:18.077Z"
      },
      {
        "duration": 129,
        "start_time": "2022-08-01T14:31:18.206Z"
      },
      {
        "duration": 213,
        "start_time": "2022-08-01T14:31:18.337Z"
      },
      {
        "duration": 235,
        "start_time": "2022-08-01T14:31:18.551Z"
      },
      {
        "duration": 236,
        "start_time": "2022-08-01T14:31:18.787Z"
      },
      {
        "duration": 126,
        "start_time": "2022-08-01T14:31:19.025Z"
      },
      {
        "duration": 137,
        "start_time": "2022-08-01T14:31:19.153Z"
      },
      {
        "duration": 144,
        "start_time": "2022-08-01T14:31:19.291Z"
      },
      {
        "duration": 142,
        "start_time": "2022-08-01T14:31:19.437Z"
      },
      {
        "duration": 211,
        "start_time": "2022-08-01T14:31:19.581Z"
      },
      {
        "duration": 72,
        "start_time": "2022-08-01T14:31:19.794Z"
      },
      {
        "duration": 5,
        "start_time": "2022-08-01T14:32:19.347Z"
      },
      {
        "duration": 5,
        "start_time": "2022-08-01T14:32:23.307Z"
      },
      {
        "duration": 5,
        "start_time": "2022-08-01T14:32:44.646Z"
      },
      {
        "duration": 162,
        "start_time": "2022-08-01T14:32:54.259Z"
      },
      {
        "duration": 21,
        "start_time": "2022-08-01T14:32:54.423Z"
      },
      {
        "duration": 1924,
        "start_time": "2022-08-01T14:32:54.445Z"
      },
      {
        "duration": 17,
        "start_time": "2022-08-01T14:32:56.371Z"
      },
      {
        "duration": 11,
        "start_time": "2022-08-01T14:32:56.391Z"
      },
      {
        "duration": 48,
        "start_time": "2022-08-01T14:32:56.405Z"
      },
      {
        "duration": 15,
        "start_time": "2022-08-01T14:32:56.455Z"
      },
      {
        "duration": 22,
        "start_time": "2022-08-01T14:32:56.472Z"
      },
      {
        "duration": 37,
        "start_time": "2022-08-01T14:32:56.497Z"
      },
      {
        "duration": 71,
        "start_time": "2022-08-01T14:32:56.545Z"
      },
      {
        "duration": 153,
        "start_time": "2022-08-01T14:32:56.618Z"
      },
      {
        "duration": 153,
        "start_time": "2022-08-01T14:32:56.773Z"
      },
      {
        "duration": 123,
        "start_time": "2022-08-01T14:32:56.928Z"
      },
      {
        "duration": 116,
        "start_time": "2022-08-01T14:32:57.055Z"
      },
      {
        "duration": 128,
        "start_time": "2022-08-01T14:32:57.173Z"
      },
      {
        "duration": 254,
        "start_time": "2022-08-01T14:32:57.302Z"
      },
      {
        "duration": 113,
        "start_time": "2022-08-01T14:32:57.557Z"
      },
      {
        "duration": 127,
        "start_time": "2022-08-01T14:32:57.672Z"
      },
      {
        "duration": 150,
        "start_time": "2022-08-01T14:32:57.801Z"
      },
      {
        "duration": 115,
        "start_time": "2022-08-01T14:32:57.952Z"
      },
      {
        "duration": 140,
        "start_time": "2022-08-01T14:32:58.069Z"
      },
      {
        "duration": 129,
        "start_time": "2022-08-01T14:32:58.211Z"
      },
      {
        "duration": 120,
        "start_time": "2022-08-01T14:32:58.350Z"
      },
      {
        "duration": 114,
        "start_time": "2022-08-01T14:32:58.472Z"
      },
      {
        "duration": 127,
        "start_time": "2022-08-01T14:32:58.588Z"
      },
      {
        "duration": 136,
        "start_time": "2022-08-01T14:32:58.717Z"
      },
      {
        "duration": 135,
        "start_time": "2022-08-01T14:32:58.855Z"
      },
      {
        "duration": 114,
        "start_time": "2022-08-01T14:32:58.991Z"
      },
      {
        "duration": 4,
        "start_time": "2022-08-01T14:32:59.107Z"
      },
      {
        "duration": 27,
        "start_time": "2022-08-01T14:32:59.112Z"
      },
      {
        "duration": 5,
        "start_time": "2022-08-01T14:32:59.145Z"
      },
      {
        "duration": 11,
        "start_time": "2022-08-01T14:32:59.152Z"
      },
      {
        "duration": 8,
        "start_time": "2022-08-01T14:32:59.165Z"
      },
      {
        "duration": 4,
        "start_time": "2022-08-01T14:32:59.175Z"
      },
      {
        "duration": 65,
        "start_time": "2022-08-01T14:32:59.180Z"
      },
      {
        "duration": 227,
        "start_time": "2022-08-01T14:32:59.250Z"
      },
      {
        "duration": 239,
        "start_time": "2022-08-01T14:32:59.479Z"
      },
      {
        "duration": 244,
        "start_time": "2022-08-01T14:32:59.719Z"
      },
      {
        "duration": 237,
        "start_time": "2022-08-01T14:32:59.965Z"
      },
      {
        "duration": 278,
        "start_time": "2022-08-01T14:33:00.203Z"
      },
      {
        "duration": 131,
        "start_time": "2022-08-01T14:33:00.487Z"
      },
      {
        "duration": 138,
        "start_time": "2022-08-01T14:33:00.620Z"
      },
      {
        "duration": 127,
        "start_time": "2022-08-01T14:33:00.759Z"
      },
      {
        "duration": 138,
        "start_time": "2022-08-01T14:33:00.887Z"
      },
      {
        "duration": 252,
        "start_time": "2022-08-01T14:33:01.027Z"
      },
      {
        "duration": 253,
        "start_time": "2022-08-01T14:33:01.281Z"
      },
      {
        "duration": 137,
        "start_time": "2022-08-01T14:33:01.535Z"
      },
      {
        "duration": 138,
        "start_time": "2022-08-01T14:33:01.673Z"
      },
      {
        "duration": 161,
        "start_time": "2022-08-01T14:33:01.813Z"
      },
      {
        "duration": 169,
        "start_time": "2022-08-01T14:33:01.976Z"
      },
      {
        "duration": 205,
        "start_time": "2022-08-01T14:33:02.147Z"
      },
      {
        "duration": 4,
        "start_time": "2022-08-01T14:33:19.719Z"
      },
      {
        "duration": 5,
        "start_time": "2022-08-01T14:34:57.570Z"
      },
      {
        "duration": 11,
        "start_time": "2022-08-01T14:37:41.428Z"
      },
      {
        "duration": 4,
        "start_time": "2022-08-01T14:37:54.161Z"
      },
      {
        "duration": 12,
        "start_time": "2022-08-01T14:38:04.568Z"
      },
      {
        "duration": 5,
        "start_time": "2022-08-01T14:38:11.015Z"
      },
      {
        "duration": 13,
        "start_time": "2022-08-01T14:41:50.705Z"
      },
      {
        "duration": 16,
        "start_time": "2022-08-01T14:41:54.605Z"
      },
      {
        "duration": 22,
        "start_time": "2022-08-01T14:46:28.079Z"
      },
      {
        "duration": 42,
        "start_time": "2022-08-01T14:46:34.331Z"
      },
      {
        "duration": 23,
        "start_time": "2022-08-01T14:50:50.376Z"
      },
      {
        "duration": 41,
        "start_time": "2022-08-01T14:50:59.605Z"
      },
      {
        "duration": 38,
        "start_time": "2022-08-01T14:55:57.831Z"
      },
      {
        "duration": 30,
        "start_time": "2022-08-01T14:56:05.519Z"
      },
      {
        "duration": 20,
        "start_time": "2022-08-01T14:57:11.913Z"
      },
      {
        "duration": 19,
        "start_time": "2022-08-01T14:57:19.626Z"
      },
      {
        "duration": 26,
        "start_time": "2022-08-01T14:57:36.706Z"
      },
      {
        "duration": 21,
        "start_time": "2022-08-01T14:58:24.286Z"
      },
      {
        "duration": 20,
        "start_time": "2022-08-01T14:59:17.377Z"
      },
      {
        "duration": 18,
        "start_time": "2022-08-01T14:59:46.455Z"
      },
      {
        "duration": 23,
        "start_time": "2022-08-01T15:00:54.489Z"
      },
      {
        "duration": 18,
        "start_time": "2022-08-01T15:02:49.169Z"
      },
      {
        "duration": 17,
        "start_time": "2022-08-01T15:03:09.711Z"
      },
      {
        "duration": 19,
        "start_time": "2022-08-01T15:07:30.708Z"
      },
      {
        "duration": 33,
        "start_time": "2022-08-01T15:09:28.016Z"
      },
      {
        "duration": 21,
        "start_time": "2022-08-01T15:09:53.325Z"
      },
      {
        "duration": 20,
        "start_time": "2022-08-01T15:09:59.329Z"
      },
      {
        "duration": 126,
        "start_time": "2022-08-01T15:10:19.471Z"
      },
      {
        "duration": 15,
        "start_time": "2022-08-01T15:10:19.599Z"
      },
      {
        "duration": 2042,
        "start_time": "2022-08-01T15:10:19.615Z"
      },
      {
        "duration": 14,
        "start_time": "2022-08-01T15:10:21.659Z"
      },
      {
        "duration": 11,
        "start_time": "2022-08-01T15:10:21.676Z"
      },
      {
        "duration": 25,
        "start_time": "2022-08-01T15:10:21.688Z"
      },
      {
        "duration": 30,
        "start_time": "2022-08-01T15:10:21.714Z"
      },
      {
        "duration": 31,
        "start_time": "2022-08-01T15:10:21.746Z"
      },
      {
        "duration": 6,
        "start_time": "2022-08-01T15:10:21.779Z"
      },
      {
        "duration": 95,
        "start_time": "2022-08-01T15:10:21.787Z"
      },
      {
        "duration": 143,
        "start_time": "2022-08-01T15:10:21.884Z"
      },
      {
        "duration": 133,
        "start_time": "2022-08-01T15:10:22.028Z"
      },
      {
        "duration": 136,
        "start_time": "2022-08-01T15:10:22.163Z"
      },
      {
        "duration": 119,
        "start_time": "2022-08-01T15:10:22.302Z"
      },
      {
        "duration": 140,
        "start_time": "2022-08-01T15:10:22.423Z"
      },
      {
        "duration": 146,
        "start_time": "2022-08-01T15:10:22.565Z"
      },
      {
        "duration": 140,
        "start_time": "2022-08-01T15:10:22.713Z"
      },
      {
        "duration": 122,
        "start_time": "2022-08-01T15:10:22.855Z"
      },
      {
        "duration": 124,
        "start_time": "2022-08-01T15:10:22.979Z"
      },
      {
        "duration": 132,
        "start_time": "2022-08-01T15:10:23.104Z"
      },
      {
        "duration": 126,
        "start_time": "2022-08-01T15:10:23.237Z"
      },
      {
        "duration": 118,
        "start_time": "2022-08-01T15:10:23.365Z"
      },
      {
        "duration": 124,
        "start_time": "2022-08-01T15:10:23.485Z"
      },
      {
        "duration": 114,
        "start_time": "2022-08-01T15:10:23.610Z"
      },
      {
        "duration": 130,
        "start_time": "2022-08-01T15:10:23.726Z"
      },
      {
        "duration": 133,
        "start_time": "2022-08-01T15:10:23.858Z"
      },
      {
        "duration": 127,
        "start_time": "2022-08-01T15:10:23.993Z"
      },
      {
        "duration": 112,
        "start_time": "2022-08-01T15:10:24.133Z"
      },
      {
        "duration": 5,
        "start_time": "2022-08-01T15:10:24.247Z"
      },
      {
        "duration": 10,
        "start_time": "2022-08-01T15:10:24.254Z"
      },
      {
        "duration": 20,
        "start_time": "2022-08-01T15:10:24.265Z"
      },
      {
        "duration": 6,
        "start_time": "2022-08-01T15:10:24.287Z"
      },
      {
        "duration": 11,
        "start_time": "2022-08-01T15:10:24.294Z"
      },
      {
        "duration": 6,
        "start_time": "2022-08-01T15:10:24.307Z"
      },
      {
        "duration": 53,
        "start_time": "2022-08-01T15:10:24.314Z"
      },
      {
        "duration": 232,
        "start_time": "2022-08-01T15:10:24.369Z"
      },
      {
        "duration": 250,
        "start_time": "2022-08-01T15:10:24.603Z"
      },
      {
        "duration": 443,
        "start_time": "2022-08-01T15:10:24.855Z"
      },
      {
        "duration": 240,
        "start_time": "2022-08-01T15:10:25.301Z"
      },
      {
        "duration": 149,
        "start_time": "2022-08-01T15:10:25.543Z"
      },
      {
        "duration": 123,
        "start_time": "2022-08-01T15:10:25.696Z"
      },
      {
        "duration": 141,
        "start_time": "2022-08-01T15:10:25.821Z"
      },
      {
        "duration": 135,
        "start_time": "2022-08-01T15:10:25.963Z"
      },
      {
        "duration": 130,
        "start_time": "2022-08-01T15:10:26.100Z"
      },
      {
        "duration": 246,
        "start_time": "2022-08-01T15:10:26.234Z"
      },
      {
        "duration": 261,
        "start_time": "2022-08-01T15:10:26.482Z"
      },
      {
        "duration": 144,
        "start_time": "2022-08-01T15:10:26.744Z"
      },
      {
        "duration": 145,
        "start_time": "2022-08-01T15:10:26.889Z"
      },
      {
        "duration": 165,
        "start_time": "2022-08-01T15:10:27.036Z"
      },
      {
        "duration": 154,
        "start_time": "2022-08-01T15:10:27.203Z"
      },
      {
        "duration": 232,
        "start_time": "2022-08-01T15:10:27.359Z"
      },
      {
        "duration": 29,
        "start_time": "2022-08-01T15:10:27.633Z"
      },
      {
        "duration": 24,
        "start_time": "2022-08-01T15:10:40.078Z"
      },
      {
        "duration": 20,
        "start_time": "2022-08-01T15:10:46.171Z"
      },
      {
        "duration": 21,
        "start_time": "2022-08-01T15:11:08.628Z"
      },
      {
        "duration": 19,
        "start_time": "2022-08-01T15:11:15.230Z"
      },
      {
        "duration": 124,
        "start_time": "2022-08-01T15:11:20.446Z"
      },
      {
        "duration": 15,
        "start_time": "2022-08-01T15:11:20.572Z"
      },
      {
        "duration": 1981,
        "start_time": "2022-08-01T15:11:20.588Z"
      },
      {
        "duration": 21,
        "start_time": "2022-08-01T15:11:22.572Z"
      },
      {
        "duration": 12,
        "start_time": "2022-08-01T15:11:22.595Z"
      },
      {
        "duration": 44,
        "start_time": "2022-08-01T15:11:22.608Z"
      },
      {
        "duration": 26,
        "start_time": "2022-08-01T15:11:22.655Z"
      },
      {
        "duration": 38,
        "start_time": "2022-08-01T15:11:22.683Z"
      },
      {
        "duration": 13,
        "start_time": "2022-08-01T15:11:22.723Z"
      },
      {
        "duration": 99,
        "start_time": "2022-08-01T15:11:22.740Z"
      },
      {
        "duration": 144,
        "start_time": "2022-08-01T15:11:22.841Z"
      },
      {
        "duration": 111,
        "start_time": "2022-08-01T15:11:22.987Z"
      },
      {
        "duration": 114,
        "start_time": "2022-08-01T15:11:23.100Z"
      },
      {
        "duration": 151,
        "start_time": "2022-08-01T15:11:23.215Z"
      },
      {
        "duration": 128,
        "start_time": "2022-08-01T15:11:23.367Z"
      },
      {
        "duration": 115,
        "start_time": "2022-08-01T15:11:23.497Z"
      },
      {
        "duration": 109,
        "start_time": "2022-08-01T15:11:23.614Z"
      },
      {
        "duration": 113,
        "start_time": "2022-08-01T15:11:23.724Z"
      },
      {
        "duration": 123,
        "start_time": "2022-08-01T15:11:23.839Z"
      },
      {
        "duration": 116,
        "start_time": "2022-08-01T15:11:23.963Z"
      },
      {
        "duration": 116,
        "start_time": "2022-08-01T15:11:24.081Z"
      },
      {
        "duration": 107,
        "start_time": "2022-08-01T15:11:24.198Z"
      },
      {
        "duration": 121,
        "start_time": "2022-08-01T15:11:24.307Z"
      },
      {
        "duration": 110,
        "start_time": "2022-08-01T15:11:24.434Z"
      },
      {
        "duration": 111,
        "start_time": "2022-08-01T15:11:24.546Z"
      },
      {
        "duration": 117,
        "start_time": "2022-08-01T15:11:24.659Z"
      },
      {
        "duration": 108,
        "start_time": "2022-08-01T15:11:24.778Z"
      },
      {
        "duration": 109,
        "start_time": "2022-08-01T15:11:24.890Z"
      },
      {
        "duration": 4,
        "start_time": "2022-08-01T15:11:25.001Z"
      },
      {
        "duration": 18,
        "start_time": "2022-08-01T15:11:25.007Z"
      },
      {
        "duration": 27,
        "start_time": "2022-08-01T15:11:25.026Z"
      },
      {
        "duration": 22,
        "start_time": "2022-08-01T15:11:25.055Z"
      },
      {
        "duration": 24,
        "start_time": "2022-08-01T15:11:25.078Z"
      },
      {
        "duration": 30,
        "start_time": "2022-08-01T15:11:25.104Z"
      },
      {
        "duration": 60,
        "start_time": "2022-08-01T15:11:25.136Z"
      },
      {
        "duration": 218,
        "start_time": "2022-08-01T15:11:25.197Z"
      },
      {
        "duration": 223,
        "start_time": "2022-08-01T15:11:25.417Z"
      },
      {
        "duration": 228,
        "start_time": "2022-08-01T15:11:25.642Z"
      },
      {
        "duration": 221,
        "start_time": "2022-08-01T15:11:25.871Z"
      },
      {
        "duration": 127,
        "start_time": "2022-08-01T15:11:26.094Z"
      },
      {
        "duration": 113,
        "start_time": "2022-08-01T15:11:26.222Z"
      },
      {
        "duration": 128,
        "start_time": "2022-08-01T15:11:26.337Z"
      },
      {
        "duration": 119,
        "start_time": "2022-08-01T15:11:26.467Z"
      },
      {
        "duration": 121,
        "start_time": "2022-08-01T15:11:26.588Z"
      },
      {
        "duration": 224,
        "start_time": "2022-08-01T15:11:26.711Z"
      },
      {
        "duration": 229,
        "start_time": "2022-08-01T15:11:26.936Z"
      },
      {
        "duration": 128,
        "start_time": "2022-08-01T15:11:27.166Z"
      },
      {
        "duration": 401,
        "start_time": "2022-08-01T15:11:27.296Z"
      },
      {
        "duration": 142,
        "start_time": "2022-08-01T15:11:27.698Z"
      },
      {
        "duration": 138,
        "start_time": "2022-08-01T15:11:27.842Z"
      },
      {
        "duration": 219,
        "start_time": "2022-08-01T15:11:27.981Z"
      },
      {
        "duration": 34,
        "start_time": "2022-08-01T15:11:28.202Z"
      },
      {
        "duration": 20,
        "start_time": "2022-08-01T15:11:34.771Z"
      },
      {
        "duration": 26,
        "start_time": "2022-08-01T15:13:11.686Z"
      },
      {
        "duration": 20,
        "start_time": "2022-08-01T15:14:55.681Z"
      },
      {
        "duration": 913,
        "start_time": "2022-08-01T15:21:48.855Z"
      },
      {
        "duration": 6,
        "start_time": "2022-08-01T15:26:22.878Z"
      },
      {
        "duration": 45,
        "start_time": "2022-08-01T15:26:39.717Z"
      },
      {
        "duration": 39,
        "start_time": "2022-08-01T15:31:16.278Z"
      },
      {
        "duration": 185,
        "start_time": "2022-08-01T15:32:12.531Z"
      },
      {
        "duration": 9,
        "start_time": "2022-08-01T15:32:25.417Z"
      },
      {
        "duration": 51,
        "start_time": "2022-08-01T15:32:30.931Z"
      },
      {
        "duration": 162,
        "start_time": "2022-08-01T15:35:05.436Z"
      },
      {
        "duration": 153,
        "start_time": "2022-08-01T15:38:07.122Z"
      },
      {
        "duration": 137,
        "start_time": "2022-08-01T15:39:13.288Z"
      },
      {
        "duration": 171,
        "start_time": "2022-08-01T15:40:31.388Z"
      },
      {
        "duration": 11,
        "start_time": "2022-08-01T15:43:35.474Z"
      },
      {
        "duration": 40,
        "start_time": "2022-08-01T15:43:43.956Z"
      },
      {
        "duration": 10,
        "start_time": "2022-08-01T15:44:20.808Z"
      },
      {
        "duration": 919,
        "start_time": "2022-08-02T09:48:37.388Z"
      },
      {
        "duration": 15,
        "start_time": "2022-08-02T09:48:38.310Z"
      },
      {
        "duration": 2963,
        "start_time": "2022-08-02T09:48:38.327Z"
      },
      {
        "duration": 20,
        "start_time": "2022-08-02T09:48:41.293Z"
      },
      {
        "duration": 8,
        "start_time": "2022-08-02T09:48:41.316Z"
      },
      {
        "duration": 52,
        "start_time": "2022-08-02T09:48:41.326Z"
      },
      {
        "duration": 39,
        "start_time": "2022-08-02T09:48:41.381Z"
      },
      {
        "duration": 51,
        "start_time": "2022-08-02T09:48:41.422Z"
      },
      {
        "duration": 15,
        "start_time": "2022-08-02T09:48:41.475Z"
      },
      {
        "duration": 89,
        "start_time": "2022-08-02T09:48:41.493Z"
      },
      {
        "duration": 160,
        "start_time": "2022-08-02T09:48:41.583Z"
      },
      {
        "duration": 147,
        "start_time": "2022-08-02T09:48:41.745Z"
      },
      {
        "duration": 131,
        "start_time": "2022-08-02T09:48:41.894Z"
      },
      {
        "duration": 141,
        "start_time": "2022-08-02T09:48:42.039Z"
      },
      {
        "duration": 136,
        "start_time": "2022-08-02T09:48:42.182Z"
      },
      {
        "duration": 257,
        "start_time": "2022-08-02T09:48:42.320Z"
      },
      {
        "duration": 131,
        "start_time": "2022-08-02T09:48:42.583Z"
      },
      {
        "duration": 150,
        "start_time": "2022-08-02T09:48:42.716Z"
      },
      {
        "duration": 141,
        "start_time": "2022-08-02T09:48:42.868Z"
      },
      {
        "duration": 144,
        "start_time": "2022-08-02T09:48:43.011Z"
      },
      {
        "duration": 162,
        "start_time": "2022-08-02T09:48:43.157Z"
      },
      {
        "duration": 150,
        "start_time": "2022-08-02T09:48:43.321Z"
      },
      {
        "duration": 145,
        "start_time": "2022-08-02T09:48:43.473Z"
      },
      {
        "duration": 143,
        "start_time": "2022-08-02T09:48:43.620Z"
      },
      {
        "duration": 139,
        "start_time": "2022-08-02T09:48:43.766Z"
      },
      {
        "duration": 167,
        "start_time": "2022-08-02T09:48:43.907Z"
      },
      {
        "duration": 138,
        "start_time": "2022-08-02T09:48:44.075Z"
      },
      {
        "duration": 156,
        "start_time": "2022-08-02T09:48:44.215Z"
      },
      {
        "duration": 3,
        "start_time": "2022-08-02T09:48:44.373Z"
      },
      {
        "duration": 28,
        "start_time": "2022-08-02T09:48:44.385Z"
      },
      {
        "duration": 76,
        "start_time": "2022-08-02T09:48:44.415Z"
      },
      {
        "duration": 23,
        "start_time": "2022-08-02T09:48:44.493Z"
      },
      {
        "duration": 19,
        "start_time": "2022-08-02T09:48:44.518Z"
      },
      {
        "duration": 61,
        "start_time": "2022-08-02T09:48:44.539Z"
      },
      {
        "duration": 69,
        "start_time": "2022-08-02T09:48:44.601Z"
      },
      {
        "duration": 446,
        "start_time": "2022-08-02T09:48:44.672Z"
      },
      {
        "duration": 347,
        "start_time": "2022-08-02T09:48:45.120Z"
      },
      {
        "duration": 310,
        "start_time": "2022-08-02T09:48:45.469Z"
      },
      {
        "duration": 327,
        "start_time": "2022-08-02T09:48:45.781Z"
      },
      {
        "duration": 170,
        "start_time": "2022-08-02T09:48:46.110Z"
      },
      {
        "duration": 141,
        "start_time": "2022-08-02T09:48:46.287Z"
      },
      {
        "duration": 158,
        "start_time": "2022-08-02T09:48:46.440Z"
      },
      {
        "duration": 184,
        "start_time": "2022-08-02T09:48:46.599Z"
      },
      {
        "duration": 302,
        "start_time": "2022-08-02T09:48:46.785Z"
      },
      {
        "duration": 295,
        "start_time": "2022-08-02T09:48:47.090Z"
      },
      {
        "duration": 303,
        "start_time": "2022-08-02T09:48:47.388Z"
      },
      {
        "duration": 145,
        "start_time": "2022-08-02T09:48:47.695Z"
      },
      {
        "duration": 166,
        "start_time": "2022-08-02T09:48:47.842Z"
      },
      {
        "duration": 223,
        "start_time": "2022-08-02T09:48:48.010Z"
      },
      {
        "duration": 179,
        "start_time": "2022-08-02T09:48:48.235Z"
      },
      {
        "duration": 284,
        "start_time": "2022-08-02T09:48:48.416Z"
      },
      {
        "duration": 105,
        "start_time": "2022-08-02T09:48:48.702Z"
      },
      {
        "duration": 0,
        "start_time": "2022-08-02T09:48:48.809Z"
      },
      {
        "duration": 0,
        "start_time": "2022-08-02T09:48:48.810Z"
      },
      {
        "duration": 0,
        "start_time": "2022-08-02T09:48:48.810Z"
      },
      {
        "duration": 194,
        "start_time": "2022-08-02T09:50:03.584Z"
      },
      {
        "duration": 281,
        "start_time": "2022-08-02T09:50:51.231Z"
      },
      {
        "duration": 341,
        "start_time": "2022-08-02T09:51:31.276Z"
      },
      {
        "duration": 234,
        "start_time": "2022-08-02T09:52:06.256Z"
      },
      {
        "duration": 229,
        "start_time": "2022-08-02T09:52:23.371Z"
      },
      {
        "duration": 180,
        "start_time": "2022-08-02T09:53:01.289Z"
      },
      {
        "duration": 200,
        "start_time": "2022-08-02T09:53:37.684Z"
      },
      {
        "duration": 225,
        "start_time": "2022-08-02T09:53:41.536Z"
      },
      {
        "duration": 251,
        "start_time": "2022-08-02T09:53:57.101Z"
      },
      {
        "duration": 659,
        "start_time": "2022-08-02T09:55:09.555Z"
      },
      {
        "duration": 165,
        "start_time": "2022-08-02T09:56:30.671Z"
      },
      {
        "duration": 246,
        "start_time": "2022-08-02T09:57:52.797Z"
      },
      {
        "duration": 15,
        "start_time": "2022-08-02T10:00:56.696Z"
      },
      {
        "duration": 223,
        "start_time": "2022-08-02T10:01:04.882Z"
      },
      {
        "duration": 29,
        "start_time": "2022-08-02T10:01:54.771Z"
      },
      {
        "duration": 254,
        "start_time": "2022-08-02T10:02:04.807Z"
      },
      {
        "duration": 233,
        "start_time": "2022-08-02T10:07:08.450Z"
      },
      {
        "duration": 196,
        "start_time": "2022-08-02T10:07:31.477Z"
      },
      {
        "duration": 19,
        "start_time": "2022-08-02T10:15:14.966Z"
      },
      {
        "duration": 266,
        "start_time": "2022-08-02T10:15:22.660Z"
      },
      {
        "duration": 16,
        "start_time": "2022-08-02T10:15:22.929Z"
      },
      {
        "duration": 2318,
        "start_time": "2022-08-02T10:15:22.947Z"
      },
      {
        "duration": 18,
        "start_time": "2022-08-02T10:15:25.267Z"
      },
      {
        "duration": 13,
        "start_time": "2022-08-02T10:15:25.288Z"
      },
      {
        "duration": 28,
        "start_time": "2022-08-02T10:15:25.302Z"
      },
      {
        "duration": 52,
        "start_time": "2022-08-02T10:15:25.332Z"
      },
      {
        "duration": 31,
        "start_time": "2022-08-02T10:15:25.386Z"
      },
      {
        "duration": 6,
        "start_time": "2022-08-02T10:15:25.419Z"
      },
      {
        "duration": 99,
        "start_time": "2022-08-02T10:15:25.426Z"
      },
      {
        "duration": 186,
        "start_time": "2022-08-02T10:15:25.527Z"
      },
      {
        "duration": 119,
        "start_time": "2022-08-02T10:15:25.715Z"
      },
      {
        "duration": 155,
        "start_time": "2022-08-02T10:15:25.836Z"
      },
      {
        "duration": 127,
        "start_time": "2022-08-02T10:15:25.994Z"
      },
      {
        "duration": 167,
        "start_time": "2022-08-02T10:15:26.123Z"
      },
      {
        "duration": 140,
        "start_time": "2022-08-02T10:15:26.292Z"
      },
      {
        "duration": 162,
        "start_time": "2022-08-02T10:15:26.434Z"
      },
      {
        "duration": 120,
        "start_time": "2022-08-02T10:15:26.597Z"
      },
      {
        "duration": 165,
        "start_time": "2022-08-02T10:15:26.719Z"
      },
      {
        "duration": 131,
        "start_time": "2022-08-02T10:15:26.886Z"
      },
      {
        "duration": 148,
        "start_time": "2022-08-02T10:15:27.019Z"
      },
      {
        "duration": 124,
        "start_time": "2022-08-02T10:15:27.168Z"
      },
      {
        "duration": 133,
        "start_time": "2022-08-02T10:15:27.294Z"
      },
      {
        "duration": 140,
        "start_time": "2022-08-02T10:15:27.428Z"
      },
      {
        "duration": 310,
        "start_time": "2022-08-02T10:15:27.573Z"
      },
      {
        "duration": 123,
        "start_time": "2022-08-02T10:15:27.888Z"
      },
      {
        "duration": 136,
        "start_time": "2022-08-02T10:15:28.013Z"
      },
      {
        "duration": 130,
        "start_time": "2022-08-02T10:15:28.151Z"
      },
      {
        "duration": 5,
        "start_time": "2022-08-02T10:15:28.286Z"
      },
      {
        "duration": 10,
        "start_time": "2022-08-02T10:15:28.292Z"
      },
      {
        "duration": 9,
        "start_time": "2022-08-02T10:15:28.303Z"
      },
      {
        "duration": 6,
        "start_time": "2022-08-02T10:15:28.313Z"
      },
      {
        "duration": 34,
        "start_time": "2022-08-02T10:15:28.320Z"
      },
      {
        "duration": 15,
        "start_time": "2022-08-02T10:15:28.361Z"
      },
      {
        "duration": 47,
        "start_time": "2022-08-02T10:15:28.378Z"
      },
      {
        "duration": 284,
        "start_time": "2022-08-02T10:15:28.427Z"
      },
      {
        "duration": 309,
        "start_time": "2022-08-02T10:15:28.712Z"
      },
      {
        "duration": 393,
        "start_time": "2022-08-02T10:15:29.023Z"
      },
      {
        "duration": 282,
        "start_time": "2022-08-02T10:15:29.418Z"
      },
      {
        "duration": 165,
        "start_time": "2022-08-02T10:15:29.702Z"
      },
      {
        "duration": 135,
        "start_time": "2022-08-02T10:15:29.875Z"
      },
      {
        "duration": 171,
        "start_time": "2022-08-02T10:15:30.011Z"
      },
      {
        "duration": 146,
        "start_time": "2022-08-02T10:15:30.183Z"
      },
      {
        "duration": 174,
        "start_time": "2022-08-02T10:15:30.331Z"
      },
      {
        "duration": 314,
        "start_time": "2022-08-02T10:15:30.507Z"
      },
      {
        "duration": 484,
        "start_time": "2022-08-02T10:15:30.826Z"
      },
      {
        "duration": 175,
        "start_time": "2022-08-02T10:15:31.311Z"
      },
      {
        "duration": 146,
        "start_time": "2022-08-02T10:15:31.487Z"
      },
      {
        "duration": 189,
        "start_time": "2022-08-02T10:15:31.634Z"
      },
      {
        "duration": 166,
        "start_time": "2022-08-02T10:15:31.825Z"
      },
      {
        "duration": 267,
        "start_time": "2022-08-02T10:15:31.993Z"
      },
      {
        "duration": 204,
        "start_time": "2022-08-02T10:15:32.262Z"
      },
      {
        "duration": 208,
        "start_time": "2022-08-02T10:15:32.468Z"
      },
      {
        "duration": 174,
        "start_time": "2022-08-02T10:15:32.684Z"
      },
      {
        "duration": 204,
        "start_time": "2022-08-02T10:15:32.860Z"
      },
      {
        "duration": 151,
        "start_time": "2022-08-02T10:15:33.069Z"
      },
      {
        "duration": 211,
        "start_time": "2022-08-02T10:15:33.222Z"
      },
      {
        "duration": 179,
        "start_time": "2022-08-02T10:15:33.435Z"
      },
      {
        "duration": 202,
        "start_time": "2022-08-02T10:15:33.616Z"
      },
      {
        "duration": 11,
        "start_time": "2022-08-02T10:15:33.820Z"
      },
      {
        "duration": 0,
        "start_time": "2022-08-02T10:15:33.833Z"
      },
      {
        "duration": 0,
        "start_time": "2022-08-02T10:15:33.834Z"
      },
      {
        "duration": 9,
        "start_time": "2022-08-02T10:16:23.833Z"
      },
      {
        "duration": 20,
        "start_time": "2022-08-02T10:16:25.029Z"
      },
      {
        "duration": 166,
        "start_time": "2022-08-02T10:16:27.068Z"
      },
      {
        "duration": 198,
        "start_time": "2022-08-02T10:17:47.878Z"
      },
      {
        "duration": 213,
        "start_time": "2022-08-02T10:18:01.803Z"
      },
      {
        "duration": 36,
        "start_time": "2022-08-02T10:37:29.320Z"
      },
      {
        "duration": 43,
        "start_time": "2022-08-02T10:37:37.366Z"
      },
      {
        "duration": 21,
        "start_time": "2022-08-02T10:37:48.176Z"
      },
      {
        "duration": 48,
        "start_time": "2022-08-02T10:38:01.438Z"
      },
      {
        "duration": 33,
        "start_time": "2022-08-02T10:38:49.662Z"
      },
      {
        "duration": 29,
        "start_time": "2022-08-02T10:55:09.733Z"
      },
      {
        "duration": 23,
        "start_time": "2022-08-02T10:59:16.157Z"
      },
      {
        "duration": 24,
        "start_time": "2022-08-02T10:59:37.534Z"
      },
      {
        "duration": 499,
        "start_time": "2022-08-02T11:18:51.543Z"
      },
      {
        "duration": 13,
        "start_time": "2022-08-02T11:18:52.044Z"
      },
      {
        "duration": 2157,
        "start_time": "2022-08-02T11:18:52.058Z"
      },
      {
        "duration": 13,
        "start_time": "2022-08-02T11:18:54.217Z"
      },
      {
        "duration": 6,
        "start_time": "2022-08-02T11:18:54.232Z"
      },
      {
        "duration": 17,
        "start_time": "2022-08-02T11:18:54.240Z"
      },
      {
        "duration": 11,
        "start_time": "2022-08-02T11:18:54.258Z"
      },
      {
        "duration": 49,
        "start_time": "2022-08-02T11:18:54.270Z"
      },
      {
        "duration": 6,
        "start_time": "2022-08-02T11:18:54.320Z"
      },
      {
        "duration": 73,
        "start_time": "2022-08-02T11:18:54.329Z"
      },
      {
        "duration": 132,
        "start_time": "2022-08-02T11:18:54.405Z"
      },
      {
        "duration": 106,
        "start_time": "2022-08-02T11:18:54.539Z"
      },
      {
        "duration": 120,
        "start_time": "2022-08-02T11:18:54.647Z"
      },
      {
        "duration": 107,
        "start_time": "2022-08-02T11:18:54.769Z"
      },
      {
        "duration": 114,
        "start_time": "2022-08-02T11:18:54.877Z"
      },
      {
        "duration": 112,
        "start_time": "2022-08-02T11:18:54.993Z"
      },
      {
        "duration": 164,
        "start_time": "2022-08-02T11:18:55.110Z"
      },
      {
        "duration": 109,
        "start_time": "2022-08-02T11:18:55.275Z"
      },
      {
        "duration": 125,
        "start_time": "2022-08-02T11:18:55.386Z"
      },
      {
        "duration": 108,
        "start_time": "2022-08-02T11:18:55.512Z"
      },
      {
        "duration": 118,
        "start_time": "2022-08-02T11:18:55.621Z"
      },
      {
        "duration": 107,
        "start_time": "2022-08-02T11:18:55.740Z"
      },
      {
        "duration": 111,
        "start_time": "2022-08-02T11:18:55.848Z"
      },
      {
        "duration": 106,
        "start_time": "2022-08-02T11:18:55.961Z"
      },
      {
        "duration": 115,
        "start_time": "2022-08-02T11:18:56.068Z"
      },
      {
        "duration": 109,
        "start_time": "2022-08-02T11:18:56.184Z"
      },
      {
        "duration": 104,
        "start_time": "2022-08-02T11:18:56.295Z"
      },
      {
        "duration": 102,
        "start_time": "2022-08-02T11:18:56.410Z"
      },
      {
        "duration": 3,
        "start_time": "2022-08-02T11:18:56.514Z"
      },
      {
        "duration": 6,
        "start_time": "2022-08-02T11:18:56.519Z"
      },
      {
        "duration": 8,
        "start_time": "2022-08-02T11:18:56.527Z"
      },
      {
        "duration": 4,
        "start_time": "2022-08-02T11:18:56.537Z"
      },
      {
        "duration": 6,
        "start_time": "2022-08-02T11:18:56.542Z"
      },
      {
        "duration": 3,
        "start_time": "2022-08-02T11:18:56.550Z"
      },
      {
        "duration": 63,
        "start_time": "2022-08-02T11:18:56.554Z"
      },
      {
        "duration": 293,
        "start_time": "2022-08-02T11:18:56.619Z"
      },
      {
        "duration": 224,
        "start_time": "2022-08-02T11:18:56.914Z"
      },
      {
        "duration": 223,
        "start_time": "2022-08-02T11:18:57.139Z"
      },
      {
        "duration": 207,
        "start_time": "2022-08-02T11:18:57.364Z"
      },
      {
        "duration": 124,
        "start_time": "2022-08-02T11:18:57.573Z"
      },
      {
        "duration": 124,
        "start_time": "2022-08-02T11:18:57.698Z"
      },
      {
        "duration": 153,
        "start_time": "2022-08-02T11:18:57.823Z"
      },
      {
        "duration": 133,
        "start_time": "2022-08-02T11:18:57.978Z"
      },
      {
        "duration": 203,
        "start_time": "2022-08-02T11:18:58.112Z"
      },
      {
        "duration": 236,
        "start_time": "2022-08-02T11:18:58.317Z"
      },
      {
        "duration": 237,
        "start_time": "2022-08-02T11:18:58.555Z"
      },
      {
        "duration": 139,
        "start_time": "2022-08-02T11:18:58.794Z"
      },
      {
        "duration": 146,
        "start_time": "2022-08-02T11:18:58.935Z"
      },
      {
        "duration": 152,
        "start_time": "2022-08-02T11:18:59.083Z"
      },
      {
        "duration": 143,
        "start_time": "2022-08-02T11:18:59.237Z"
      },
      {
        "duration": 237,
        "start_time": "2022-08-02T11:18:59.381Z"
      },
      {
        "duration": 167,
        "start_time": "2022-08-02T11:18:59.620Z"
      },
      {
        "duration": 203,
        "start_time": "2022-08-02T11:18:59.788Z"
      },
      {
        "duration": 264,
        "start_time": "2022-08-02T11:18:59.992Z"
      },
      {
        "duration": 163,
        "start_time": "2022-08-02T11:19:00.257Z"
      },
      {
        "duration": 150,
        "start_time": "2022-08-02T11:19:00.422Z"
      },
      {
        "duration": 159,
        "start_time": "2022-08-02T11:19:00.573Z"
      },
      {
        "duration": 152,
        "start_time": "2022-08-02T11:19:00.734Z"
      },
      {
        "duration": 164,
        "start_time": "2022-08-02T11:19:00.887Z"
      },
      {
        "duration": 22,
        "start_time": "2022-08-02T11:19:01.053Z"
      },
      {
        "duration": 51,
        "start_time": "2022-08-02T11:19:01.077Z"
      },
      {
        "duration": 63,
        "start_time": "2022-08-02T11:19:01.130Z"
      },
      {
        "duration": 163,
        "start_time": "2022-08-02T11:19:01.195Z"
      },
      {
        "duration": 147,
        "start_time": "2022-08-02T11:19:01.359Z"
      },
      {
        "duration": 535,
        "start_time": "2022-08-02T12:24:10.926Z"
      },
      {
        "duration": 15,
        "start_time": "2022-08-02T12:24:11.463Z"
      },
      {
        "duration": 2074,
        "start_time": "2022-08-02T12:24:11.479Z"
      },
      {
        "duration": 13,
        "start_time": "2022-08-02T12:24:13.554Z"
      },
      {
        "duration": 6,
        "start_time": "2022-08-02T12:24:13.569Z"
      },
      {
        "duration": 17,
        "start_time": "2022-08-02T12:24:13.576Z"
      },
      {
        "duration": 29,
        "start_time": "2022-08-02T12:24:13.594Z"
      },
      {
        "duration": 25,
        "start_time": "2022-08-02T12:24:13.625Z"
      },
      {
        "duration": 5,
        "start_time": "2022-08-02T12:24:13.652Z"
      },
      {
        "duration": 92,
        "start_time": "2022-08-02T12:24:13.659Z"
      },
      {
        "duration": 129,
        "start_time": "2022-08-02T12:24:13.752Z"
      },
      {
        "duration": 113,
        "start_time": "2022-08-02T12:24:13.883Z"
      },
      {
        "duration": 124,
        "start_time": "2022-08-02T12:24:13.997Z"
      },
      {
        "duration": 113,
        "start_time": "2022-08-02T12:24:14.127Z"
      },
      {
        "duration": 123,
        "start_time": "2022-08-02T12:24:14.242Z"
      },
      {
        "duration": 112,
        "start_time": "2022-08-02T12:24:14.366Z"
      },
      {
        "duration": 171,
        "start_time": "2022-08-02T12:24:14.480Z"
      },
      {
        "duration": 104,
        "start_time": "2022-08-02T12:24:14.653Z"
      },
      {
        "duration": 118,
        "start_time": "2022-08-02T12:24:14.759Z"
      },
      {
        "duration": 114,
        "start_time": "2022-08-02T12:24:14.878Z"
      },
      {
        "duration": 129,
        "start_time": "2022-08-02T12:24:14.993Z"
      },
      {
        "duration": 103,
        "start_time": "2022-08-02T12:24:15.125Z"
      },
      {
        "duration": 109,
        "start_time": "2022-08-02T12:24:15.229Z"
      },
      {
        "duration": 108,
        "start_time": "2022-08-02T12:24:15.340Z"
      },
      {
        "duration": 108,
        "start_time": "2022-08-02T12:24:15.449Z"
      },
      {
        "duration": 111,
        "start_time": "2022-08-02T12:24:15.559Z"
      },
      {
        "duration": 111,
        "start_time": "2022-08-02T12:24:15.671Z"
      },
      {
        "duration": 107,
        "start_time": "2022-08-02T12:24:15.784Z"
      },
      {
        "duration": 4,
        "start_time": "2022-08-02T12:24:15.892Z"
      },
      {
        "duration": 28,
        "start_time": "2022-08-02T12:24:15.897Z"
      },
      {
        "duration": 9,
        "start_time": "2022-08-02T12:24:15.927Z"
      },
      {
        "duration": 4,
        "start_time": "2022-08-02T12:24:15.937Z"
      },
      {
        "duration": 6,
        "start_time": "2022-08-02T12:24:15.943Z"
      },
      {
        "duration": 4,
        "start_time": "2022-08-02T12:24:15.950Z"
      },
      {
        "duration": 40,
        "start_time": "2022-08-02T12:24:15.955Z"
      },
      {
        "duration": 297,
        "start_time": "2022-08-02T12:24:15.997Z"
      },
      {
        "duration": 235,
        "start_time": "2022-08-02T12:24:16.295Z"
      },
      {
        "duration": 220,
        "start_time": "2022-08-02T12:24:16.532Z"
      },
      {
        "duration": 213,
        "start_time": "2022-08-02T12:24:16.754Z"
      },
      {
        "duration": 141,
        "start_time": "2022-08-02T12:24:16.969Z"
      },
      {
        "duration": 116,
        "start_time": "2022-08-02T12:24:17.126Z"
      },
      {
        "duration": 119,
        "start_time": "2022-08-02T12:24:17.243Z"
      },
      {
        "duration": 123,
        "start_time": "2022-08-02T12:24:17.364Z"
      },
      {
        "duration": 205,
        "start_time": "2022-08-02T12:24:17.488Z"
      },
      {
        "duration": 231,
        "start_time": "2022-08-02T12:24:17.695Z"
      },
      {
        "duration": 228,
        "start_time": "2022-08-02T12:24:17.928Z"
      },
      {
        "duration": 130,
        "start_time": "2022-08-02T12:24:18.158Z"
      },
      {
        "duration": 151,
        "start_time": "2022-08-02T12:24:18.290Z"
      },
      {
        "duration": 148,
        "start_time": "2022-08-02T12:24:18.443Z"
      },
      {
        "duration": 132,
        "start_time": "2022-08-02T12:24:18.593Z"
      },
      {
        "duration": 210,
        "start_time": "2022-08-02T12:24:18.727Z"
      },
      {
        "duration": 163,
        "start_time": "2022-08-02T12:24:18.939Z"
      },
      {
        "duration": 176,
        "start_time": "2022-08-02T12:24:19.104Z"
      },
      {
        "duration": 251,
        "start_time": "2022-08-02T12:24:19.281Z"
      },
      {
        "duration": 146,
        "start_time": "2022-08-02T12:24:19.534Z"
      },
      {
        "duration": 156,
        "start_time": "2022-08-02T12:24:19.682Z"
      },
      {
        "duration": 162,
        "start_time": "2022-08-02T12:24:19.840Z"
      },
      {
        "duration": 163,
        "start_time": "2022-08-02T12:24:20.003Z"
      },
      {
        "duration": 158,
        "start_time": "2022-08-02T12:24:20.167Z"
      },
      {
        "duration": 23,
        "start_time": "2022-08-02T12:24:20.326Z"
      },
      {
        "duration": 14,
        "start_time": "2022-08-02T12:24:20.351Z"
      },
      {
        "duration": 14,
        "start_time": "2022-08-02T12:24:20.367Z"
      },
      {
        "duration": 170,
        "start_time": "2022-08-02T12:24:20.383Z"
      },
      {
        "duration": 150,
        "start_time": "2022-08-02T12:24:20.554Z"
      },
      {
        "duration": 557,
        "start_time": "2022-08-02T12:24:30.329Z"
      },
      {
        "duration": 34,
        "start_time": "2022-08-02T12:24:30.889Z"
      },
      {
        "duration": 2137,
        "start_time": "2022-08-02T12:24:30.925Z"
      },
      {
        "duration": 13,
        "start_time": "2022-08-02T12:24:33.064Z"
      },
      {
        "duration": 6,
        "start_time": "2022-08-02T12:24:33.079Z"
      },
      {
        "duration": 45,
        "start_time": "2022-08-02T12:24:33.087Z"
      },
      {
        "duration": 13,
        "start_time": "2022-08-02T12:24:33.133Z"
      },
      {
        "duration": 25,
        "start_time": "2022-08-02T12:24:33.148Z"
      },
      {
        "duration": 6,
        "start_time": "2022-08-02T12:24:33.175Z"
      },
      {
        "duration": 108,
        "start_time": "2022-08-02T12:24:33.183Z"
      },
      {
        "duration": 131,
        "start_time": "2022-08-02T12:24:33.293Z"
      },
      {
        "duration": 109,
        "start_time": "2022-08-02T12:24:33.426Z"
      },
      {
        "duration": 111,
        "start_time": "2022-08-02T12:24:33.537Z"
      },
      {
        "duration": 112,
        "start_time": "2022-08-02T12:24:33.651Z"
      },
      {
        "duration": 130,
        "start_time": "2022-08-02T12:24:33.765Z"
      },
      {
        "duration": 126,
        "start_time": "2022-08-02T12:24:33.898Z"
      },
      {
        "duration": 166,
        "start_time": "2022-08-02T12:24:34.026Z"
      },
      {
        "duration": 122,
        "start_time": "2022-08-02T12:24:34.194Z"
      },
      {
        "duration": 112,
        "start_time": "2022-08-02T12:24:34.323Z"
      },
      {
        "duration": 103,
        "start_time": "2022-08-02T12:24:34.437Z"
      },
      {
        "duration": 118,
        "start_time": "2022-08-02T12:24:34.542Z"
      },
      {
        "duration": 106,
        "start_time": "2022-08-02T12:24:34.661Z"
      },
      {
        "duration": 121,
        "start_time": "2022-08-02T12:24:34.769Z"
      },
      {
        "duration": 110,
        "start_time": "2022-08-02T12:24:34.891Z"
      },
      {
        "duration": 118,
        "start_time": "2022-08-02T12:24:35.003Z"
      },
      {
        "duration": 118,
        "start_time": "2022-08-02T12:24:35.123Z"
      },
      {
        "duration": 114,
        "start_time": "2022-08-02T12:24:35.242Z"
      },
      {
        "duration": 115,
        "start_time": "2022-08-02T12:24:35.357Z"
      },
      {
        "duration": 4,
        "start_time": "2022-08-02T12:24:35.473Z"
      },
      {
        "duration": 7,
        "start_time": "2022-08-02T12:24:35.478Z"
      },
      {
        "duration": 6,
        "start_time": "2022-08-02T12:24:35.487Z"
      },
      {
        "duration": 27,
        "start_time": "2022-08-02T12:24:35.494Z"
      },
      {
        "duration": 14,
        "start_time": "2022-08-02T12:24:35.524Z"
      },
      {
        "duration": 9,
        "start_time": "2022-08-02T12:24:35.539Z"
      },
      {
        "duration": 54,
        "start_time": "2022-08-02T12:24:35.549Z"
      },
      {
        "duration": 318,
        "start_time": "2022-08-02T12:24:35.604Z"
      },
      {
        "duration": 219,
        "start_time": "2022-08-02T12:24:35.924Z"
      },
      {
        "duration": 238,
        "start_time": "2022-08-02T12:24:36.145Z"
      },
      {
        "duration": 218,
        "start_time": "2022-08-02T12:24:36.384Z"
      },
      {
        "duration": 132,
        "start_time": "2022-08-02T12:24:36.604Z"
      },
      {
        "duration": 118,
        "start_time": "2022-08-02T12:24:36.740Z"
      },
      {
        "duration": 126,
        "start_time": "2022-08-02T12:24:36.859Z"
      },
      {
        "duration": 119,
        "start_time": "2022-08-02T12:24:36.986Z"
      },
      {
        "duration": 191,
        "start_time": "2022-08-02T12:24:37.111Z"
      },
      {
        "duration": 223,
        "start_time": "2022-08-02T12:24:37.310Z"
      },
      {
        "duration": 229,
        "start_time": "2022-08-02T12:24:37.535Z"
      },
      {
        "duration": 122,
        "start_time": "2022-08-02T12:24:37.765Z"
      },
      {
        "duration": 141,
        "start_time": "2022-08-02T12:24:37.889Z"
      },
      {
        "duration": 141,
        "start_time": "2022-08-02T12:24:38.032Z"
      },
      {
        "duration": 131,
        "start_time": "2022-08-02T12:24:38.175Z"
      },
      {
        "duration": 215,
        "start_time": "2022-08-02T12:24:38.311Z"
      },
      {
        "duration": 154,
        "start_time": "2022-08-02T12:24:38.527Z"
      },
      {
        "duration": 186,
        "start_time": "2022-08-02T12:24:38.682Z"
      },
      {
        "duration": 272,
        "start_time": "2022-08-02T12:24:38.870Z"
      },
      {
        "duration": 151,
        "start_time": "2022-08-02T12:24:39.144Z"
      },
      {
        "duration": 168,
        "start_time": "2022-08-02T12:24:39.296Z"
      },
      {
        "duration": 169,
        "start_time": "2022-08-02T12:24:39.465Z"
      },
      {
        "duration": 151,
        "start_time": "2022-08-02T12:24:39.635Z"
      },
      {
        "duration": 169,
        "start_time": "2022-08-02T12:24:39.788Z"
      },
      {
        "duration": 24,
        "start_time": "2022-08-02T12:24:39.959Z"
      },
      {
        "duration": 39,
        "start_time": "2022-08-02T12:24:39.985Z"
      },
      {
        "duration": 13,
        "start_time": "2022-08-02T12:24:40.026Z"
      },
      {
        "duration": 155,
        "start_time": "2022-08-02T12:24:40.040Z"
      },
      {
        "duration": 152,
        "start_time": "2022-08-02T12:24:40.197Z"
      },
      {
        "duration": 48,
        "start_time": "2022-08-02T14:22:27.032Z"
      },
      {
        "duration": 793,
        "start_time": "2022-08-02T14:22:30.748Z"
      },
      {
        "duration": 15,
        "start_time": "2022-08-02T14:22:31.543Z"
      },
      {
        "duration": 2385,
        "start_time": "2022-08-02T14:22:31.560Z"
      },
      {
        "duration": 15,
        "start_time": "2022-08-02T14:22:33.947Z"
      },
      {
        "duration": 7,
        "start_time": "2022-08-02T14:22:33.964Z"
      },
      {
        "duration": 27,
        "start_time": "2022-08-02T14:22:33.972Z"
      },
      {
        "duration": 21,
        "start_time": "2022-08-02T14:22:34.001Z"
      },
      {
        "duration": 27,
        "start_time": "2022-08-02T14:22:34.024Z"
      },
      {
        "duration": 6,
        "start_time": "2022-08-02T14:22:34.052Z"
      },
      {
        "duration": 73,
        "start_time": "2022-08-02T14:22:34.060Z"
      },
      {
        "duration": 136,
        "start_time": "2022-08-02T14:22:34.135Z"
      },
      {
        "duration": 122,
        "start_time": "2022-08-02T14:22:34.273Z"
      },
      {
        "duration": 118,
        "start_time": "2022-08-02T14:22:34.397Z"
      },
      {
        "duration": 109,
        "start_time": "2022-08-02T14:22:34.517Z"
      },
      {
        "duration": 132,
        "start_time": "2022-08-02T14:22:34.628Z"
      },
      {
        "duration": 228,
        "start_time": "2022-08-02T14:22:34.762Z"
      },
      {
        "duration": 114,
        "start_time": "2022-08-02T14:22:34.993Z"
      },
      {
        "duration": 114,
        "start_time": "2022-08-02T14:22:35.109Z"
      },
      {
        "duration": 134,
        "start_time": "2022-08-02T14:22:35.225Z"
      },
      {
        "duration": 216,
        "start_time": "2022-08-02T14:22:35.360Z"
      },
      {
        "duration": 278,
        "start_time": "2022-08-02T14:22:35.578Z"
      },
      {
        "duration": 214,
        "start_time": "2022-08-02T14:22:35.858Z"
      },
      {
        "duration": 279,
        "start_time": "2022-08-02T14:22:36.074Z"
      },
      {
        "duration": 214,
        "start_time": "2022-08-02T14:22:36.355Z"
      },
      {
        "duration": 210,
        "start_time": "2022-08-02T14:22:36.571Z"
      },
      {
        "duration": 283,
        "start_time": "2022-08-02T14:22:36.783Z"
      },
      {
        "duration": 380,
        "start_time": "2022-08-02T14:22:37.067Z"
      },
      {
        "duration": 212,
        "start_time": "2022-08-02T14:22:37.449Z"
      },
      {
        "duration": 4,
        "start_time": "2022-08-02T14:22:37.663Z"
      },
      {
        "duration": 9,
        "start_time": "2022-08-02T14:22:37.669Z"
      },
      {
        "duration": 7,
        "start_time": "2022-08-02T14:22:37.680Z"
      },
      {
        "duration": 7,
        "start_time": "2022-08-02T14:22:37.739Z"
      },
      {
        "duration": 8,
        "start_time": "2022-08-02T14:22:37.748Z"
      },
      {
        "duration": 4,
        "start_time": "2022-08-02T14:22:37.759Z"
      },
      {
        "duration": 100,
        "start_time": "2022-08-02T14:22:37.765Z"
      },
      {
        "duration": 512,
        "start_time": "2022-08-02T14:22:37.867Z"
      },
      {
        "duration": 594,
        "start_time": "2022-08-02T14:22:38.380Z"
      },
      {
        "duration": 589,
        "start_time": "2022-08-02T14:22:38.976Z"
      },
      {
        "duration": 517,
        "start_time": "2022-08-02T14:22:39.567Z"
      },
      {
        "duration": 236,
        "start_time": "2022-08-02T14:22:40.139Z"
      },
      {
        "duration": 463,
        "start_time": "2022-08-02T14:22:40.379Z"
      },
      {
        "duration": 295,
        "start_time": "2022-08-02T14:22:40.844Z"
      },
      {
        "duration": 224,
        "start_time": "2022-08-02T14:22:41.140Z"
      },
      {
        "duration": 284,
        "start_time": "2022-08-02T14:22:41.366Z"
      },
      {
        "duration": 526,
        "start_time": "2022-08-02T14:22:41.652Z"
      },
      {
        "duration": 589,
        "start_time": "2022-08-02T14:22:42.180Z"
      },
      {
        "duration": 289,
        "start_time": "2022-08-02T14:22:42.770Z"
      },
      {
        "duration": 297,
        "start_time": "2022-08-02T14:22:43.060Z"
      },
      {
        "duration": 322,
        "start_time": "2022-08-02T14:22:43.359Z"
      },
      {
        "duration": 661,
        "start_time": "2022-08-02T14:22:43.683Z"
      },
      {
        "duration": 608,
        "start_time": "2022-08-02T14:22:44.346Z"
      },
      {
        "duration": 404,
        "start_time": "2022-08-02T14:22:44.957Z"
      },
      {
        "duration": 304,
        "start_time": "2022-08-02T14:22:45.364Z"
      },
      {
        "duration": 195,
        "start_time": "2022-08-02T14:22:45.671Z"
      },
      {
        "duration": 179,
        "start_time": "2022-08-02T14:22:45.868Z"
      },
      {
        "duration": 177,
        "start_time": "2022-08-02T14:22:46.055Z"
      },
      {
        "duration": 182,
        "start_time": "2022-08-02T14:22:46.233Z"
      },
      {
        "duration": 171,
        "start_time": "2022-08-02T14:22:46.417Z"
      },
      {
        "duration": 172,
        "start_time": "2022-08-02T14:22:46.590Z"
      },
      {
        "duration": 25,
        "start_time": "2022-08-02T14:22:46.764Z"
      },
      {
        "duration": 17,
        "start_time": "2022-08-02T14:22:46.791Z"
      },
      {
        "duration": 46,
        "start_time": "2022-08-02T14:22:46.809Z"
      },
      {
        "duration": 17,
        "start_time": "2022-08-02T14:22:46.860Z"
      },
      {
        "duration": 176,
        "start_time": "2022-08-02T14:22:46.879Z"
      },
      {
        "duration": 172,
        "start_time": "2022-08-02T14:22:47.056Z"
      },
      {
        "duration": 56,
        "start_time": "2022-08-02T14:23:36.749Z"
      },
      {
        "duration": 56,
        "start_time": "2022-08-02T14:24:23.080Z"
      },
      {
        "duration": 8,
        "start_time": "2022-08-02T14:24:30.994Z"
      },
      {
        "duration": 71,
        "start_time": "2022-08-02T14:24:39.335Z"
      },
      {
        "duration": 26,
        "start_time": "2022-08-02T14:33:05.595Z"
      },
      {
        "duration": 20,
        "start_time": "2022-08-02T14:33:12.691Z"
      },
      {
        "duration": 9,
        "start_time": "2022-08-02T14:33:54.865Z"
      },
      {
        "duration": 26,
        "start_time": "2022-08-02T14:33:59.553Z"
      },
      {
        "duration": 355,
        "start_time": "2022-08-02T14:35:34.271Z"
      },
      {
        "duration": 44,
        "start_time": "2022-08-02T14:35:55.931Z"
      },
      {
        "duration": 44,
        "start_time": "2022-08-02T14:36:02.677Z"
      },
      {
        "duration": 49,
        "start_time": "2022-08-02T14:36:10.566Z"
      },
      {
        "duration": 60,
        "start_time": "2022-08-02T14:36:23.670Z"
      },
      {
        "duration": 54,
        "start_time": "2022-08-02T14:36:32.035Z"
      },
      {
        "duration": 7,
        "start_time": "2022-08-02T14:39:07.537Z"
      },
      {
        "duration": 4,
        "start_time": "2022-08-02T14:39:11.979Z"
      },
      {
        "duration": 19,
        "start_time": "2022-08-02T14:44:22.356Z"
      },
      {
        "duration": 64,
        "start_time": "2022-08-02T14:44:33.736Z"
      },
      {
        "duration": 6,
        "start_time": "2022-08-02T14:44:39.998Z"
      },
      {
        "duration": 51,
        "start_time": "2022-08-02T14:44:55.567Z"
      },
      {
        "duration": 8,
        "start_time": "2022-08-02T14:45:01.481Z"
      },
      {
        "duration": 270,
        "start_time": "2022-08-02T14:45:56.667Z"
      },
      {
        "duration": 425,
        "start_time": "2022-08-02T14:46:55.936Z"
      },
      {
        "duration": 56,
        "start_time": "2022-08-02T14:53:04.700Z"
      },
      {
        "duration": 22,
        "start_time": "2022-08-02T14:55:31.637Z"
      },
      {
        "duration": 14,
        "start_time": "2022-08-02T14:55:50.433Z"
      },
      {
        "duration": 144,
        "start_time": "2022-08-02T14:55:53.267Z"
      },
      {
        "duration": 37,
        "start_time": "2022-08-02T14:55:53.413Z"
      },
      {
        "duration": 2259,
        "start_time": "2022-08-02T14:55:53.452Z"
      },
      {
        "duration": 29,
        "start_time": "2022-08-02T14:55:55.713Z"
      },
      {
        "duration": 33,
        "start_time": "2022-08-02T14:55:55.744Z"
      },
      {
        "duration": 10,
        "start_time": "2022-08-02T14:55:55.779Z"
      },
      {
        "duration": 84,
        "start_time": "2022-08-02T14:55:55.791Z"
      },
      {
        "duration": 105,
        "start_time": "2022-08-02T14:55:55.876Z"
      },
      {
        "duration": 75,
        "start_time": "2022-08-02T14:55:55.983Z"
      },
      {
        "duration": 95,
        "start_time": "2022-08-02T14:55:56.060Z"
      },
      {
        "duration": 9,
        "start_time": "2022-08-02T14:55:56.157Z"
      },
      {
        "duration": 14,
        "start_time": "2022-08-02T14:55:56.174Z"
      },
      {
        "duration": 274,
        "start_time": "2022-08-02T14:55:56.189Z"
      },
      {
        "duration": 411,
        "start_time": "2022-08-02T14:55:56.467Z"
      },
      {
        "duration": 298,
        "start_time": "2022-08-02T14:55:56.880Z"
      },
      {
        "duration": 298,
        "start_time": "2022-08-02T14:55:57.180Z"
      },
      {
        "duration": 377,
        "start_time": "2022-08-02T14:55:57.481Z"
      },
      {
        "duration": 396,
        "start_time": "2022-08-02T14:55:57.860Z"
      },
      {
        "duration": 148,
        "start_time": "2022-08-02T14:55:58.258Z"
      },
      {
        "duration": 159,
        "start_time": "2022-08-02T14:55:58.408Z"
      },
      {
        "duration": 115,
        "start_time": "2022-08-02T14:55:58.570Z"
      },
      {
        "duration": 146,
        "start_time": "2022-08-02T14:55:58.686Z"
      },
      {
        "duration": 171,
        "start_time": "2022-08-02T14:55:58.834Z"
      },
      {
        "duration": 178,
        "start_time": "2022-08-02T14:55:59.007Z"
      },
      {
        "duration": 144,
        "start_time": "2022-08-02T14:55:59.187Z"
      },
      {
        "duration": 147,
        "start_time": "2022-08-02T14:55:59.333Z"
      },
      {
        "duration": 125,
        "start_time": "2022-08-02T14:55:59.482Z"
      },
      {
        "duration": 313,
        "start_time": "2022-08-02T14:55:59.609Z"
      },
      {
        "duration": 154,
        "start_time": "2022-08-02T14:55:59.923Z"
      },
      {
        "duration": 126,
        "start_time": "2022-08-02T14:56:00.079Z"
      },
      {
        "duration": 135,
        "start_time": "2022-08-02T14:56:00.207Z"
      },
      {
        "duration": 5,
        "start_time": "2022-08-02T14:56:00.344Z"
      },
      {
        "duration": 46,
        "start_time": "2022-08-02T14:56:00.351Z"
      },
      {
        "duration": 15,
        "start_time": "2022-08-02T14:56:00.399Z"
      },
      {
        "duration": 14,
        "start_time": "2022-08-02T14:56:00.416Z"
      },
      {
        "duration": 37,
        "start_time": "2022-08-02T14:56:00.431Z"
      },
      {
        "duration": 28,
        "start_time": "2022-08-02T14:56:00.470Z"
      },
      {
        "duration": 21,
        "start_time": "2022-08-02T14:56:00.500Z"
      },
      {
        "duration": 101,
        "start_time": "2022-08-02T14:56:00.523Z"
      },
      {
        "duration": 257,
        "start_time": "2022-08-02T14:56:00.625Z"
      },
      {
        "duration": 279,
        "start_time": "2022-08-02T14:56:00.886Z"
      },
      {
        "duration": 280,
        "start_time": "2022-08-02T14:56:01.167Z"
      },
      {
        "duration": 271,
        "start_time": "2022-08-02T14:56:01.456Z"
      },
      {
        "duration": 424,
        "start_time": "2022-08-02T14:56:01.729Z"
      },
      {
        "duration": 148,
        "start_time": "2022-08-02T14:56:02.156Z"
      },
      {
        "duration": 143,
        "start_time": "2022-08-02T14:56:02.305Z"
      },
      {
        "duration": 144,
        "start_time": "2022-08-02T14:56:02.452Z"
      },
      {
        "duration": 133,
        "start_time": "2022-08-02T14:56:02.598Z"
      },
      {
        "duration": 208,
        "start_time": "2022-08-02T14:56:02.733Z"
      },
      {
        "duration": 280,
        "start_time": "2022-08-02T14:56:02.952Z"
      },
      {
        "duration": 296,
        "start_time": "2022-08-02T14:56:03.234Z"
      },
      {
        "duration": 157,
        "start_time": "2022-08-02T14:56:03.532Z"
      },
      {
        "duration": 172,
        "start_time": "2022-08-02T14:56:03.691Z"
      },
      {
        "duration": 315,
        "start_time": "2022-08-02T14:56:03.869Z"
      },
      {
        "duration": 181,
        "start_time": "2022-08-02T14:56:04.185Z"
      },
      {
        "duration": 267,
        "start_time": "2022-08-02T14:56:04.369Z"
      },
      {
        "duration": 193,
        "start_time": "2022-08-02T14:56:04.640Z"
      },
      {
        "duration": 374,
        "start_time": "2022-08-02T14:56:04.835Z"
      },
      {
        "duration": 193,
        "start_time": "2022-08-02T14:56:05.211Z"
      },
      {
        "duration": 188,
        "start_time": "2022-08-02T14:56:05.405Z"
      },
      {
        "duration": 159,
        "start_time": "2022-08-02T14:56:05.594Z"
      },
      {
        "duration": 174,
        "start_time": "2022-08-02T14:56:05.755Z"
      },
      {
        "duration": 270,
        "start_time": "2022-08-02T14:56:05.931Z"
      },
      {
        "duration": 0,
        "start_time": "2022-08-02T14:56:06.203Z"
      },
      {
        "duration": 0,
        "start_time": "2022-08-02T14:56:06.205Z"
      },
      {
        "duration": 0,
        "start_time": "2022-08-02T14:56:06.206Z"
      },
      {
        "duration": 0,
        "start_time": "2022-08-02T14:56:06.207Z"
      },
      {
        "duration": 0,
        "start_time": "2022-08-02T14:56:06.208Z"
      },
      {
        "duration": 0,
        "start_time": "2022-08-02T14:56:06.209Z"
      },
      {
        "duration": 0,
        "start_time": "2022-08-02T14:56:06.210Z"
      },
      {
        "duration": 155,
        "start_time": "2022-08-02T15:28:55.906Z"
      },
      {
        "duration": 217,
        "start_time": "2022-08-02T15:29:07.674Z"
      },
      {
        "duration": 163,
        "start_time": "2022-08-02T15:44:51.514Z"
      },
      {
        "duration": 9,
        "start_time": "2022-08-02T15:45:11.816Z"
      },
      {
        "duration": 203,
        "start_time": "2022-08-02T15:47:35.166Z"
      },
      {
        "duration": 208,
        "start_time": "2022-08-02T15:49:16.130Z"
      },
      {
        "duration": 168,
        "start_time": "2022-08-02T15:50:23.865Z"
      },
      {
        "duration": 134,
        "start_time": "2022-08-02T15:50:50.014Z"
      },
      {
        "duration": 1118,
        "start_time": "2022-08-02T15:51:41.868Z"
      },
      {
        "duration": 128,
        "start_time": "2022-08-02T15:52:12.535Z"
      },
      {
        "duration": 7,
        "start_time": "2022-08-02T15:52:23.617Z"
      },
      {
        "duration": 17,
        "start_time": "2022-08-02T15:53:24.278Z"
      },
      {
        "duration": 201,
        "start_time": "2022-08-02T15:53:43.682Z"
      },
      {
        "duration": 15,
        "start_time": "2022-08-02T15:53:56.077Z"
      },
      {
        "duration": 218,
        "start_time": "2022-08-02T15:54:13.739Z"
      },
      {
        "duration": 252,
        "start_time": "2022-08-02T15:54:56.577Z"
      },
      {
        "duration": 204,
        "start_time": "2022-08-02T15:55:58.769Z"
      },
      {
        "duration": 237,
        "start_time": "2022-08-02T15:56:16.588Z"
      },
      {
        "duration": 242,
        "start_time": "2022-08-02T15:56:21.634Z"
      },
      {
        "duration": 186,
        "start_time": "2022-08-02T15:56:27.531Z"
      },
      {
        "duration": 187,
        "start_time": "2022-08-02T15:56:57.933Z"
      },
      {
        "duration": 17,
        "start_time": "2022-08-02T15:57:20.871Z"
      },
      {
        "duration": 14,
        "start_time": "2022-08-02T15:57:52.916Z"
      },
      {
        "duration": 17,
        "start_time": "2022-08-02T15:57:58.913Z"
      },
      {
        "duration": 8,
        "start_time": "2022-08-02T15:58:40.551Z"
      },
      {
        "duration": 44,
        "start_time": "2022-08-02T15:58:52.186Z"
      },
      {
        "duration": 11,
        "start_time": "2022-08-02T15:59:23.612Z"
      },
      {
        "duration": 13,
        "start_time": "2022-08-02T16:01:05.012Z"
      },
      {
        "duration": 183,
        "start_time": "2022-08-02T16:01:09.571Z"
      },
      {
        "duration": 166,
        "start_time": "2022-08-02T16:01:51.424Z"
      },
      {
        "duration": 156,
        "start_time": "2022-08-02T16:02:17.119Z"
      },
      {
        "duration": 158,
        "start_time": "2022-08-02T16:02:48.721Z"
      },
      {
        "duration": 139,
        "start_time": "2022-08-02T16:02:57.059Z"
      },
      {
        "duration": 123,
        "start_time": "2022-08-02T16:03:08.187Z"
      },
      {
        "duration": 164,
        "start_time": "2022-08-02T16:03:13.171Z"
      },
      {
        "duration": 162,
        "start_time": "2022-08-02T16:03:21.587Z"
      },
      {
        "duration": 12,
        "start_time": "2022-08-02T16:07:24.566Z"
      },
      {
        "duration": 12,
        "start_time": "2022-08-02T16:07:29.324Z"
      },
      {
        "duration": 169,
        "start_time": "2022-08-02T16:07:31.810Z"
      },
      {
        "duration": 15,
        "start_time": "2022-08-02T16:07:31.982Z"
      },
      {
        "duration": 2277,
        "start_time": "2022-08-02T16:07:31.998Z"
      },
      {
        "duration": 17,
        "start_time": "2022-08-02T16:07:34.277Z"
      },
      {
        "duration": 28,
        "start_time": "2022-08-02T16:07:34.297Z"
      },
      {
        "duration": 41,
        "start_time": "2022-08-02T16:07:34.327Z"
      },
      {
        "duration": 46,
        "start_time": "2022-08-02T16:07:34.370Z"
      },
      {
        "duration": 69,
        "start_time": "2022-08-02T16:07:34.418Z"
      },
      {
        "duration": 15,
        "start_time": "2022-08-02T16:07:34.489Z"
      },
      {
        "duration": 85,
        "start_time": "2022-08-02T16:07:34.505Z"
      },
      {
        "duration": 9,
        "start_time": "2022-08-02T16:07:34.592Z"
      },
      {
        "duration": 20,
        "start_time": "2022-08-02T16:07:34.602Z"
      },
      {
        "duration": 93,
        "start_time": "2022-08-02T16:07:34.624Z"
      },
      {
        "duration": 156,
        "start_time": "2022-08-02T16:07:34.720Z"
      },
      {
        "duration": 126,
        "start_time": "2022-08-02T16:07:34.878Z"
      },
      {
        "duration": 150,
        "start_time": "2022-08-02T16:07:35.006Z"
      },
      {
        "duration": 137,
        "start_time": "2022-08-02T16:07:35.157Z"
      },
      {
        "duration": 178,
        "start_time": "2022-08-02T16:07:35.296Z"
      },
      {
        "duration": 146,
        "start_time": "2022-08-02T16:07:35.476Z"
      },
      {
        "duration": 155,
        "start_time": "2022-08-02T16:07:35.623Z"
      },
      {
        "duration": 142,
        "start_time": "2022-08-02T16:07:35.780Z"
      },
      {
        "duration": 152,
        "start_time": "2022-08-02T16:07:35.924Z"
      },
      {
        "duration": 145,
        "start_time": "2022-08-02T16:07:36.078Z"
      },
      {
        "duration": 145,
        "start_time": "2022-08-02T16:07:36.225Z"
      },
      {
        "duration": 128,
        "start_time": "2022-08-02T16:07:36.372Z"
      },
      {
        "duration": 128,
        "start_time": "2022-08-02T16:07:36.501Z"
      },
      {
        "duration": 148,
        "start_time": "2022-08-02T16:07:36.632Z"
      },
      {
        "duration": 125,
        "start_time": "2022-08-02T16:07:36.782Z"
      },
      {
        "duration": 155,
        "start_time": "2022-08-02T16:07:36.909Z"
      },
      {
        "duration": 116,
        "start_time": "2022-08-02T16:07:37.071Z"
      },
      {
        "duration": 125,
        "start_time": "2022-08-02T16:07:37.189Z"
      },
      {
        "duration": 4,
        "start_time": "2022-08-02T16:07:37.316Z"
      },
      {
        "duration": 29,
        "start_time": "2022-08-02T16:07:37.322Z"
      },
      {
        "duration": 28,
        "start_time": "2022-08-02T16:07:37.353Z"
      },
      {
        "duration": 11,
        "start_time": "2022-08-02T16:07:37.382Z"
      },
      {
        "duration": 6,
        "start_time": "2022-08-02T16:07:37.395Z"
      },
      {
        "duration": 19,
        "start_time": "2022-08-02T16:07:37.403Z"
      },
      {
        "duration": 62,
        "start_time": "2022-08-02T16:07:37.424Z"
      },
      {
        "duration": 75,
        "start_time": "2022-08-02T16:07:37.488Z"
      },
      {
        "duration": 546,
        "start_time": "2022-08-02T16:07:37.565Z"
      },
      {
        "duration": 264,
        "start_time": "2022-08-02T16:07:38.115Z"
      },
      {
        "duration": 294,
        "start_time": "2022-08-02T16:07:38.380Z"
      },
      {
        "duration": 373,
        "start_time": "2022-08-02T16:07:38.675Z"
      },
      {
        "duration": 309,
        "start_time": "2022-08-02T16:07:39.052Z"
      },
      {
        "duration": 150,
        "start_time": "2022-08-02T16:07:39.363Z"
      },
      {
        "duration": 134,
        "start_time": "2022-08-02T16:07:39.515Z"
      },
      {
        "duration": 163,
        "start_time": "2022-08-02T16:07:39.650Z"
      },
      {
        "duration": 158,
        "start_time": "2022-08-02T16:07:39.815Z"
      },
      {
        "duration": 189,
        "start_time": "2022-08-02T16:07:39.974Z"
      },
      {
        "duration": 265,
        "start_time": "2022-08-02T16:07:40.174Z"
      },
      {
        "duration": 278,
        "start_time": "2022-08-02T16:07:40.443Z"
      },
      {
        "duration": 152,
        "start_time": "2022-08-02T16:07:40.723Z"
      },
      {
        "duration": 171,
        "start_time": "2022-08-02T16:07:40.877Z"
      },
      {
        "duration": 242,
        "start_time": "2022-08-02T16:07:41.054Z"
      },
      {
        "duration": 171,
        "start_time": "2022-08-02T16:07:41.298Z"
      },
      {
        "duration": 503,
        "start_time": "2022-08-02T16:07:41.472Z"
      },
      {
        "duration": 191,
        "start_time": "2022-08-02T16:07:41.976Z"
      },
      {
        "duration": 208,
        "start_time": "2022-08-02T16:07:42.172Z"
      },
      {
        "duration": 165,
        "start_time": "2022-08-02T16:07:42.382Z"
      },
      {
        "duration": 172,
        "start_time": "2022-08-02T16:07:42.549Z"
      },
      {
        "duration": 176,
        "start_time": "2022-08-02T16:07:42.722Z"
      },
      {
        "duration": 192,
        "start_time": "2022-08-02T16:07:42.900Z"
      },
      {
        "duration": 233,
        "start_time": "2022-08-02T16:07:43.093Z"
      },
      {
        "duration": 181,
        "start_time": "2022-08-02T16:07:43.328Z"
      },
      {
        "duration": 46,
        "start_time": "2022-08-02T16:07:43.510Z"
      },
      {
        "duration": 19,
        "start_time": "2022-08-02T16:07:43.557Z"
      },
      {
        "duration": 12,
        "start_time": "2022-08-02T16:07:43.577Z"
      },
      {
        "duration": 15,
        "start_time": "2022-08-02T16:07:43.591Z"
      },
      {
        "duration": 190,
        "start_time": "2022-08-02T16:07:43.607Z"
      },
      {
        "duration": 173,
        "start_time": "2022-08-02T16:07:43.799Z"
      },
      {
        "duration": 190,
        "start_time": "2022-08-02T16:07:43.973Z"
      },
      {
        "duration": 13,
        "start_time": "2022-08-02T16:08:06.727Z"
      },
      {
        "duration": 12,
        "start_time": "2022-08-02T16:08:16.314Z"
      },
      {
        "duration": 175,
        "start_time": "2022-08-02T16:08:58.066Z"
      },
      {
        "duration": 24,
        "start_time": "2022-08-02T16:09:05.830Z"
      },
      {
        "duration": 15,
        "start_time": "2022-08-02T16:09:10.879Z"
      },
      {
        "duration": 66,
        "start_time": "2022-08-02T16:12:48.905Z"
      },
      {
        "duration": 561,
        "start_time": "2022-08-02T16:12:52.909Z"
      },
      {
        "duration": 15,
        "start_time": "2022-08-02T16:12:53.472Z"
      },
      {
        "duration": 2381,
        "start_time": "2022-08-02T16:12:53.488Z"
      },
      {
        "duration": 15,
        "start_time": "2022-08-02T16:12:55.871Z"
      },
      {
        "duration": 55,
        "start_time": "2022-08-02T16:12:55.889Z"
      },
      {
        "duration": 8,
        "start_time": "2022-08-02T16:12:55.946Z"
      },
      {
        "duration": 30,
        "start_time": "2022-08-02T16:12:55.956Z"
      },
      {
        "duration": 68,
        "start_time": "2022-08-02T16:12:55.988Z"
      },
      {
        "duration": 13,
        "start_time": "2022-08-02T16:12:56.058Z"
      },
      {
        "duration": 32,
        "start_time": "2022-08-02T16:12:56.073Z"
      },
      {
        "duration": 6,
        "start_time": "2022-08-02T16:12:56.107Z"
      },
      {
        "duration": 41,
        "start_time": "2022-08-02T16:12:56.115Z"
      },
      {
        "duration": 108,
        "start_time": "2022-08-02T16:12:56.165Z"
      },
      {
        "duration": 147,
        "start_time": "2022-08-02T16:12:56.276Z"
      },
      {
        "duration": 137,
        "start_time": "2022-08-02T16:12:56.424Z"
      },
      {
        "duration": 120,
        "start_time": "2022-08-02T16:12:56.569Z"
      },
      {
        "duration": 132,
        "start_time": "2022-08-02T16:12:56.691Z"
      },
      {
        "duration": 156,
        "start_time": "2022-08-02T16:12:56.825Z"
      },
      {
        "duration": 220,
        "start_time": "2022-08-02T16:12:56.982Z"
      },
      {
        "duration": 127,
        "start_time": "2022-08-02T16:12:57.203Z"
      },
      {
        "duration": 136,
        "start_time": "2022-08-02T16:12:57.332Z"
      },
      {
        "duration": 136,
        "start_time": "2022-08-02T16:12:57.472Z"
      },
      {
        "duration": 153,
        "start_time": "2022-08-02T16:12:57.609Z"
      },
      {
        "duration": 123,
        "start_time": "2022-08-02T16:12:57.772Z"
      },
      {
        "duration": 152,
        "start_time": "2022-08-02T16:12:57.898Z"
      },
      {
        "duration": 122,
        "start_time": "2022-08-02T16:12:58.052Z"
      },
      {
        "duration": 123,
        "start_time": "2022-08-02T16:12:58.176Z"
      },
      {
        "duration": 128,
        "start_time": "2022-08-02T16:12:58.301Z"
      },
      {
        "duration": 142,
        "start_time": "2022-08-02T16:12:58.438Z"
      },
      {
        "duration": 192,
        "start_time": "2022-08-02T16:12:58.582Z"
      },
      {
        "duration": 159,
        "start_time": "2022-08-02T16:12:58.777Z"
      },
      {
        "duration": 7,
        "start_time": "2022-08-02T16:12:58.938Z"
      },
      {
        "duration": 43,
        "start_time": "2022-08-02T16:12:58.947Z"
      },
      {
        "duration": 18,
        "start_time": "2022-08-02T16:12:58.993Z"
      },
      {
        "duration": 11,
        "start_time": "2022-08-02T16:12:59.013Z"
      },
      {
        "duration": 58,
        "start_time": "2022-08-02T16:12:59.027Z"
      },
      {
        "duration": 21,
        "start_time": "2022-08-02T16:12:59.088Z"
      },
      {
        "duration": 25,
        "start_time": "2022-08-02T16:12:59.111Z"
      },
      {
        "duration": 82,
        "start_time": "2022-08-02T16:12:59.145Z"
      },
      {
        "duration": 268,
        "start_time": "2022-08-02T16:12:59.229Z"
      },
      {
        "duration": 270,
        "start_time": "2022-08-02T16:12:59.501Z"
      },
      {
        "duration": 304,
        "start_time": "2022-08-02T16:12:59.773Z"
      },
      {
        "duration": 293,
        "start_time": "2022-08-02T16:13:00.079Z"
      },
      {
        "duration": 340,
        "start_time": "2022-08-02T16:13:00.374Z"
      },
      {
        "duration": 162,
        "start_time": "2022-08-02T16:13:00.715Z"
      },
      {
        "duration": 132,
        "start_time": "2022-08-02T16:13:00.879Z"
      },
      {
        "duration": 162,
        "start_time": "2022-08-02T16:13:01.013Z"
      },
      {
        "duration": 194,
        "start_time": "2022-08-02T16:13:01.179Z"
      },
      {
        "duration": 151,
        "start_time": "2022-08-02T16:13:01.375Z"
      },
      {
        "duration": 277,
        "start_time": "2022-08-02T16:13:01.528Z"
      },
      {
        "duration": 288,
        "start_time": "2022-08-02T16:13:01.807Z"
      },
      {
        "duration": 144,
        "start_time": "2022-08-02T16:13:02.097Z"
      },
      {
        "duration": 252,
        "start_time": "2022-08-02T16:13:02.243Z"
      },
      {
        "duration": 315,
        "start_time": "2022-08-02T16:13:02.497Z"
      },
      {
        "duration": 171,
        "start_time": "2022-08-02T16:13:02.814Z"
      },
      {
        "duration": 277,
        "start_time": "2022-08-02T16:13:02.987Z"
      },
      {
        "duration": 173,
        "start_time": "2022-08-02T16:13:03.270Z"
      },
      {
        "duration": 185,
        "start_time": "2022-08-02T16:13:03.451Z"
      },
      {
        "duration": 184,
        "start_time": "2022-08-02T16:13:03.638Z"
      },
      {
        "duration": 191,
        "start_time": "2022-08-02T16:13:03.824Z"
      },
      {
        "duration": 165,
        "start_time": "2022-08-02T16:13:04.017Z"
      },
      {
        "duration": 196,
        "start_time": "2022-08-02T16:13:04.184Z"
      },
      {
        "duration": 311,
        "start_time": "2022-08-02T16:13:04.385Z"
      },
      {
        "duration": 177,
        "start_time": "2022-08-02T16:13:04.698Z"
      },
      {
        "duration": 190,
        "start_time": "2022-08-02T16:13:04.877Z"
      },
      {
        "duration": 9,
        "start_time": "2022-08-02T16:15:26.878Z"
      },
      {
        "duration": 10,
        "start_time": "2022-08-02T16:17:52.603Z"
      },
      {
        "duration": 8,
        "start_time": "2022-08-02T16:18:10.414Z"
      },
      {
        "duration": 9,
        "start_time": "2022-08-02T16:18:24.879Z"
      },
      {
        "duration": 720,
        "start_time": "2022-08-02T17:27:41.580Z"
      },
      {
        "duration": 13,
        "start_time": "2022-08-02T17:27:42.302Z"
      },
      {
        "duration": 2236,
        "start_time": "2022-08-02T17:27:42.317Z"
      },
      {
        "duration": 15,
        "start_time": "2022-08-02T17:27:44.555Z"
      },
      {
        "duration": 51,
        "start_time": "2022-08-02T17:27:44.572Z"
      },
      {
        "duration": 7,
        "start_time": "2022-08-02T17:27:44.624Z"
      },
      {
        "duration": 32,
        "start_time": "2022-08-02T17:27:44.632Z"
      },
      {
        "duration": 45,
        "start_time": "2022-08-02T17:27:44.665Z"
      },
      {
        "duration": 14,
        "start_time": "2022-08-02T17:27:44.712Z"
      },
      {
        "duration": 47,
        "start_time": "2022-08-02T17:27:44.729Z"
      },
      {
        "duration": 4,
        "start_time": "2022-08-02T17:27:44.778Z"
      },
      {
        "duration": 8,
        "start_time": "2022-08-02T17:27:44.784Z"
      },
      {
        "duration": 78,
        "start_time": "2022-08-02T17:27:44.794Z"
      },
      {
        "duration": 129,
        "start_time": "2022-08-02T17:27:44.874Z"
      },
      {
        "duration": 109,
        "start_time": "2022-08-02T17:27:45.004Z"
      },
      {
        "duration": 145,
        "start_time": "2022-08-02T17:27:45.114Z"
      },
      {
        "duration": 169,
        "start_time": "2022-08-02T17:27:45.262Z"
      },
      {
        "duration": 225,
        "start_time": "2022-08-02T17:27:45.433Z"
      },
      {
        "duration": 142,
        "start_time": "2022-08-02T17:27:45.661Z"
      },
      {
        "duration": 104,
        "start_time": "2022-08-02T17:27:45.805Z"
      },
      {
        "duration": 108,
        "start_time": "2022-08-02T17:27:45.911Z"
      },
      {
        "duration": 121,
        "start_time": "2022-08-02T17:27:46.021Z"
      },
      {
        "duration": 116,
        "start_time": "2022-08-02T17:27:46.143Z"
      },
      {
        "duration": 118,
        "start_time": "2022-08-02T17:27:46.260Z"
      },
      {
        "duration": 121,
        "start_time": "2022-08-02T17:27:46.380Z"
      },
      {
        "duration": 116,
        "start_time": "2022-08-02T17:27:46.503Z"
      },
      {
        "duration": 105,
        "start_time": "2022-08-02T17:27:46.621Z"
      },
      {
        "duration": 115,
        "start_time": "2022-08-02T17:27:46.730Z"
      },
      {
        "duration": 178,
        "start_time": "2022-08-02T17:27:46.847Z"
      },
      {
        "duration": 111,
        "start_time": "2022-08-02T17:27:47.026Z"
      },
      {
        "duration": 112,
        "start_time": "2022-08-02T17:27:47.138Z"
      },
      {
        "duration": 7,
        "start_time": "2022-08-02T17:27:47.252Z"
      },
      {
        "duration": 13,
        "start_time": "2022-08-02T17:27:47.261Z"
      },
      {
        "duration": 9,
        "start_time": "2022-08-02T17:27:47.275Z"
      },
      {
        "duration": 12,
        "start_time": "2022-08-02T17:27:47.285Z"
      },
      {
        "duration": 17,
        "start_time": "2022-08-02T17:27:47.299Z"
      },
      {
        "duration": 18,
        "start_time": "2022-08-02T17:27:47.317Z"
      },
      {
        "duration": 12,
        "start_time": "2022-08-02T17:27:47.337Z"
      },
      {
        "duration": 46,
        "start_time": "2022-08-02T17:27:47.351Z"
      },
      {
        "duration": 231,
        "start_time": "2022-08-02T17:27:47.398Z"
      },
      {
        "duration": 245,
        "start_time": "2022-08-02T17:27:47.631Z"
      },
      {
        "duration": 250,
        "start_time": "2022-08-02T17:27:47.877Z"
      },
      {
        "duration": 289,
        "start_time": "2022-08-02T17:27:48.128Z"
      },
      {
        "duration": 302,
        "start_time": "2022-08-02T17:27:48.419Z"
      },
      {
        "duration": 126,
        "start_time": "2022-08-02T17:27:48.723Z"
      },
      {
        "duration": 120,
        "start_time": "2022-08-02T17:27:48.857Z"
      },
      {
        "duration": 130,
        "start_time": "2022-08-02T17:27:48.979Z"
      },
      {
        "duration": 117,
        "start_time": "2022-08-02T17:27:49.110Z"
      },
      {
        "duration": 147,
        "start_time": "2022-08-02T17:27:49.229Z"
      },
      {
        "duration": 248,
        "start_time": "2022-08-02T17:27:49.378Z"
      },
      {
        "duration": 257,
        "start_time": "2022-08-02T17:27:49.628Z"
      },
      {
        "duration": 209,
        "start_time": "2022-08-02T17:27:49.887Z"
      },
      {
        "duration": 146,
        "start_time": "2022-08-02T17:27:50.097Z"
      },
      {
        "duration": 300,
        "start_time": "2022-08-02T17:27:50.245Z"
      },
      {
        "duration": 149,
        "start_time": "2022-08-02T17:27:50.547Z"
      },
      {
        "duration": 228,
        "start_time": "2022-08-02T17:27:50.698Z"
      },
      {
        "duration": 165,
        "start_time": "2022-08-02T17:27:50.928Z"
      },
      {
        "duration": 188,
        "start_time": "2022-08-02T17:27:51.094Z"
      },
      {
        "duration": 153,
        "start_time": "2022-08-02T17:27:51.283Z"
      },
      {
        "duration": 166,
        "start_time": "2022-08-02T17:27:51.437Z"
      },
      {
        "duration": 145,
        "start_time": "2022-08-02T17:27:51.605Z"
      },
      {
        "duration": 150,
        "start_time": "2022-08-02T17:27:51.757Z"
      },
      {
        "duration": 216,
        "start_time": "2022-08-02T17:27:51.909Z"
      },
      {
        "duration": 158,
        "start_time": "2022-08-02T17:27:52.127Z"
      },
      {
        "duration": 159,
        "start_time": "2022-08-02T17:27:52.286Z"
      },
      {
        "duration": 282,
        "start_time": "2022-08-02T17:27:52.447Z"
      },
      {
        "duration": 32,
        "start_time": "2022-08-02T17:27:52.730Z"
      },
      {
        "duration": 16,
        "start_time": "2022-08-02T17:27:52.764Z"
      },
      {
        "duration": 11,
        "start_time": "2022-08-02T17:27:52.781Z"
      },
      {
        "duration": 15,
        "start_time": "2022-08-02T17:27:52.794Z"
      },
      {
        "duration": 172,
        "start_time": "2022-08-02T17:27:52.811Z"
      },
      {
        "duration": 152,
        "start_time": "2022-08-02T17:27:52.984Z"
      },
      {
        "duration": 159,
        "start_time": "2022-08-02T17:27:53.137Z"
      },
      {
        "duration": 549,
        "start_time": "2022-08-02T17:35:29.924Z"
      },
      {
        "duration": 14,
        "start_time": "2022-08-02T17:35:30.475Z"
      },
      {
        "duration": 2098,
        "start_time": "2022-08-02T17:35:30.491Z"
      },
      {
        "duration": 16,
        "start_time": "2022-08-02T17:35:32.591Z"
      },
      {
        "duration": 60,
        "start_time": "2022-08-02T17:35:32.609Z"
      },
      {
        "duration": 7,
        "start_time": "2022-08-02T17:35:32.671Z"
      },
      {
        "duration": 28,
        "start_time": "2022-08-02T17:35:32.680Z"
      },
      {
        "duration": 56,
        "start_time": "2022-08-02T17:35:32.710Z"
      },
      {
        "duration": 13,
        "start_time": "2022-08-02T17:35:32.767Z"
      },
      {
        "duration": 22,
        "start_time": "2022-08-02T17:35:32.782Z"
      },
      {
        "duration": 4,
        "start_time": "2022-08-02T17:35:32.806Z"
      },
      {
        "duration": 12,
        "start_time": "2022-08-02T17:35:32.811Z"
      },
      {
        "duration": 81,
        "start_time": "2022-08-02T17:35:32.824Z"
      },
      {
        "duration": 130,
        "start_time": "2022-08-02T17:35:32.909Z"
      },
      {
        "duration": 107,
        "start_time": "2022-08-02T17:35:33.041Z"
      },
      {
        "duration": 129,
        "start_time": "2022-08-02T17:35:33.150Z"
      },
      {
        "duration": 108,
        "start_time": "2022-08-02T17:35:33.281Z"
      },
      {
        "duration": 125,
        "start_time": "2022-08-02T17:35:33.391Z"
      },
      {
        "duration": 192,
        "start_time": "2022-08-02T17:35:33.517Z"
      },
      {
        "duration": 106,
        "start_time": "2022-08-02T17:35:33.710Z"
      },
      {
        "duration": 112,
        "start_time": "2022-08-02T17:35:33.818Z"
      },
      {
        "duration": 128,
        "start_time": "2022-08-02T17:35:33.932Z"
      },
      {
        "duration": 108,
        "start_time": "2022-08-02T17:35:34.062Z"
      },
      {
        "duration": 109,
        "start_time": "2022-08-02T17:35:34.171Z"
      },
      {
        "duration": 108,
        "start_time": "2022-08-02T17:35:34.281Z"
      },
      {
        "duration": 107,
        "start_time": "2022-08-02T17:35:34.391Z"
      },
      {
        "duration": 111,
        "start_time": "2022-08-02T17:35:34.499Z"
      },
      {
        "duration": 113,
        "start_time": "2022-08-02T17:35:34.612Z"
      },
      {
        "duration": 116,
        "start_time": "2022-08-02T17:35:34.726Z"
      },
      {
        "duration": 173,
        "start_time": "2022-08-02T17:35:34.843Z"
      },
      {
        "duration": 105,
        "start_time": "2022-08-02T17:35:35.018Z"
      },
      {
        "duration": 3,
        "start_time": "2022-08-02T17:35:35.125Z"
      },
      {
        "duration": 8,
        "start_time": "2022-08-02T17:35:35.130Z"
      },
      {
        "duration": 19,
        "start_time": "2022-08-02T17:35:35.139Z"
      },
      {
        "duration": 31,
        "start_time": "2022-08-02T17:35:35.159Z"
      },
      {
        "duration": 15,
        "start_time": "2022-08-02T17:35:35.192Z"
      },
      {
        "duration": 9,
        "start_time": "2022-08-02T17:35:35.209Z"
      },
      {
        "duration": 12,
        "start_time": "2022-08-02T17:35:35.220Z"
      },
      {
        "duration": 68,
        "start_time": "2022-08-02T17:35:35.234Z"
      },
      {
        "duration": 255,
        "start_time": "2022-08-02T17:35:35.304Z"
      },
      {
        "duration": 250,
        "start_time": "2022-08-02T17:35:35.563Z"
      },
      {
        "duration": 246,
        "start_time": "2022-08-02T17:35:35.815Z"
      },
      {
        "duration": 232,
        "start_time": "2022-08-02T17:35:36.062Z"
      },
      {
        "duration": 293,
        "start_time": "2022-08-02T17:35:36.295Z"
      },
      {
        "duration": 136,
        "start_time": "2022-08-02T17:35:36.590Z"
      },
      {
        "duration": 120,
        "start_time": "2022-08-02T17:35:36.727Z"
      },
      {
        "duration": 143,
        "start_time": "2022-08-02T17:35:36.849Z"
      },
      {
        "duration": 129,
        "start_time": "2022-08-02T17:35:36.993Z"
      },
      {
        "duration": 129,
        "start_time": "2022-08-02T17:35:37.124Z"
      },
      {
        "duration": 251,
        "start_time": "2022-08-02T17:35:37.258Z"
      },
      {
        "duration": 250,
        "start_time": "2022-08-02T17:35:37.510Z"
      },
      {
        "duration": 127,
        "start_time": "2022-08-02T17:35:37.761Z"
      },
      {
        "duration": 233,
        "start_time": "2022-08-02T17:35:37.890Z"
      },
      {
        "duration": 276,
        "start_time": "2022-08-02T17:35:38.124Z"
      },
      {
        "duration": 140,
        "start_time": "2022-08-02T17:35:38.402Z"
      },
      {
        "duration": 226,
        "start_time": "2022-08-02T17:35:38.544Z"
      },
      {
        "duration": 188,
        "start_time": "2022-08-02T17:35:38.771Z"
      },
      {
        "duration": 184,
        "start_time": "2022-08-02T17:35:38.960Z"
      },
      {
        "duration": 167,
        "start_time": "2022-08-02T17:35:39.145Z"
      },
      {
        "duration": 166,
        "start_time": "2022-08-02T17:35:39.314Z"
      },
      {
        "duration": 145,
        "start_time": "2022-08-02T17:35:39.481Z"
      },
      {
        "duration": 164,
        "start_time": "2022-08-02T17:35:39.628Z"
      },
      {
        "duration": 224,
        "start_time": "2022-08-02T17:35:39.794Z"
      },
      {
        "duration": 177,
        "start_time": "2022-08-02T17:35:40.020Z"
      },
      {
        "duration": 178,
        "start_time": "2022-08-02T17:35:40.198Z"
      },
      {
        "duration": 176,
        "start_time": "2022-08-02T17:35:40.378Z"
      },
      {
        "duration": 24,
        "start_time": "2022-08-02T17:35:40.557Z"
      },
      {
        "duration": 16,
        "start_time": "2022-08-02T17:35:40.582Z"
      },
      {
        "duration": 144,
        "start_time": "2022-08-02T17:35:40.600Z"
      },
      {
        "duration": 20,
        "start_time": "2022-08-02T17:35:40.746Z"
      },
      {
        "duration": 174,
        "start_time": "2022-08-02T17:35:40.768Z"
      },
      {
        "duration": 162,
        "start_time": "2022-08-02T17:35:40.944Z"
      },
      {
        "duration": 168,
        "start_time": "2022-08-02T17:35:41.108Z"
      },
      {
        "duration": 48,
        "start_time": "2022-08-02T17:40:18.774Z"
      },
      {
        "duration": 193,
        "start_time": "2022-08-02T17:40:40.326Z"
      },
      {
        "duration": 228,
        "start_time": "2022-08-02T17:41:05.249Z"
      },
      {
        "duration": 187,
        "start_time": "2022-08-02T17:41:11.323Z"
      },
      {
        "duration": 47,
        "start_time": "2022-08-03T09:30:34.328Z"
      },
      {
        "duration": 803,
        "start_time": "2022-08-03T09:30:37.670Z"
      },
      {
        "duration": 14,
        "start_time": "2022-08-03T09:30:38.475Z"
      },
      {
        "duration": 2618,
        "start_time": "2022-08-03T09:30:38.491Z"
      },
      {
        "duration": 15,
        "start_time": "2022-08-03T09:30:41.112Z"
      },
      {
        "duration": 54,
        "start_time": "2022-08-03T09:30:41.129Z"
      },
      {
        "duration": 22,
        "start_time": "2022-08-03T09:30:41.185Z"
      },
      {
        "duration": 28,
        "start_time": "2022-08-03T09:30:41.209Z"
      },
      {
        "duration": 71,
        "start_time": "2022-08-03T09:30:41.239Z"
      },
      {
        "duration": 18,
        "start_time": "2022-08-03T09:30:41.313Z"
      },
      {
        "duration": 25,
        "start_time": "2022-08-03T09:30:41.335Z"
      },
      {
        "duration": 4,
        "start_time": "2022-08-03T09:30:41.362Z"
      },
      {
        "duration": 36,
        "start_time": "2022-08-03T09:30:41.368Z"
      },
      {
        "duration": 70,
        "start_time": "2022-08-03T09:30:41.406Z"
      },
      {
        "duration": 154,
        "start_time": "2022-08-03T09:30:41.478Z"
      },
      {
        "duration": 126,
        "start_time": "2022-08-03T09:30:41.634Z"
      },
      {
        "duration": 130,
        "start_time": "2022-08-03T09:30:41.762Z"
      },
      {
        "duration": 129,
        "start_time": "2022-08-03T09:30:41.894Z"
      },
      {
        "duration": 237,
        "start_time": "2022-08-03T09:30:42.024Z"
      },
      {
        "duration": 144,
        "start_time": "2022-08-03T09:30:42.262Z"
      },
      {
        "duration": 129,
        "start_time": "2022-08-03T09:30:42.408Z"
      },
      {
        "duration": 121,
        "start_time": "2022-08-03T09:30:42.539Z"
      },
      {
        "duration": 146,
        "start_time": "2022-08-03T09:30:42.662Z"
      },
      {
        "duration": 140,
        "start_time": "2022-08-03T09:30:42.810Z"
      },
      {
        "duration": 132,
        "start_time": "2022-08-03T09:30:42.951Z"
      },
      {
        "duration": 125,
        "start_time": "2022-08-03T09:30:43.085Z"
      },
      {
        "duration": 126,
        "start_time": "2022-08-03T09:30:43.212Z"
      },
      {
        "duration": 130,
        "start_time": "2022-08-03T09:30:43.340Z"
      },
      {
        "duration": 131,
        "start_time": "2022-08-03T09:30:43.473Z"
      },
      {
        "duration": 189,
        "start_time": "2022-08-03T09:30:43.606Z"
      },
      {
        "duration": 131,
        "start_time": "2022-08-03T09:30:43.802Z"
      },
      {
        "duration": 130,
        "start_time": "2022-08-03T09:30:43.935Z"
      },
      {
        "duration": 4,
        "start_time": "2022-08-03T09:30:44.067Z"
      },
      {
        "duration": 11,
        "start_time": "2022-08-03T09:30:44.073Z"
      },
      {
        "duration": 19,
        "start_time": "2022-08-03T09:30:44.085Z"
      },
      {
        "duration": 5,
        "start_time": "2022-08-03T09:30:44.106Z"
      },
      {
        "duration": 16,
        "start_time": "2022-08-03T09:30:44.113Z"
      },
      {
        "duration": 71,
        "start_time": "2022-10-29T11:12:04.199Z"
      },
      {
        "duration": 57,
        "start_time": "2022-10-29T11:12:16.309Z"
      },
      {
        "duration": 1110,
        "start_time": "2022-10-29T11:12:22.827Z"
      },
      {
        "duration": 13,
        "start_time": "2022-10-29T11:12:23.939Z"
      },
      {
        "duration": 2255,
        "start_time": "2022-10-29T11:12:23.954Z"
      },
      {
        "duration": 17,
        "start_time": "2022-10-29T11:12:26.212Z"
      },
      {
        "duration": 115,
        "start_time": "2022-10-29T11:12:26.231Z"
      },
      {
        "duration": 9,
        "start_time": "2022-10-29T11:12:26.348Z"
      },
      {
        "duration": 25,
        "start_time": "2022-10-29T11:12:26.359Z"
      },
      {
        "duration": 64,
        "start_time": "2022-10-29T11:12:26.385Z"
      },
      {
        "duration": 13,
        "start_time": "2022-10-29T11:12:26.451Z"
      },
      {
        "duration": 63,
        "start_time": "2022-10-29T11:12:26.468Z"
      },
      {
        "duration": 5,
        "start_time": "2022-10-29T11:12:26.533Z"
      },
      {
        "duration": 23,
        "start_time": "2022-10-29T11:12:26.540Z"
      },
      {
        "duration": 86,
        "start_time": "2022-10-29T11:12:26.566Z"
      },
      {
        "duration": 136,
        "start_time": "2022-10-29T11:12:26.654Z"
      },
      {
        "duration": 117,
        "start_time": "2022-10-29T11:12:26.792Z"
      },
      {
        "duration": 125,
        "start_time": "2022-10-29T11:12:26.910Z"
      },
      {
        "duration": 119,
        "start_time": "2022-10-29T11:12:27.037Z"
      },
      {
        "duration": 215,
        "start_time": "2022-10-29T11:12:27.158Z"
      },
      {
        "duration": 120,
        "start_time": "2022-10-29T11:12:27.375Z"
      },
      {
        "duration": 114,
        "start_time": "2022-10-29T11:12:27.497Z"
      },
      {
        "duration": 112,
        "start_time": "2022-10-29T11:12:27.613Z"
      },
      {
        "duration": 129,
        "start_time": "2022-10-29T11:12:27.727Z"
      },
      {
        "duration": 118,
        "start_time": "2022-10-29T11:12:27.858Z"
      },
      {
        "duration": 128,
        "start_time": "2022-10-29T11:12:27.977Z"
      },
      {
        "duration": 118,
        "start_time": "2022-10-29T11:12:28.109Z"
      },
      {
        "duration": 133,
        "start_time": "2022-10-29T11:12:28.229Z"
      },
      {
        "duration": 107,
        "start_time": "2022-10-29T11:12:28.363Z"
      },
      {
        "duration": 120,
        "start_time": "2022-10-29T11:12:28.474Z"
      },
      {
        "duration": 157,
        "start_time": "2022-10-29T11:12:28.596Z"
      },
      {
        "duration": 113,
        "start_time": "2022-10-29T11:12:28.755Z"
      },
      {
        "duration": 120,
        "start_time": "2022-10-29T11:12:28.869Z"
      },
      {
        "duration": 5,
        "start_time": "2022-10-29T11:12:28.990Z"
      },
      {
        "duration": 6,
        "start_time": "2022-10-29T11:12:29.009Z"
      },
      {
        "duration": 10,
        "start_time": "2022-10-29T11:12:29.017Z"
      },
      {
        "duration": 5,
        "start_time": "2022-10-29T11:12:29.029Z"
      },
      {
        "duration": 15,
        "start_time": "2022-10-29T11:12:29.038Z"
      },
      {
        "duration": 6,
        "start_time": "2022-10-29T11:12:29.055Z"
      },
      {
        "duration": 8,
        "start_time": "2022-10-29T11:12:29.062Z"
      },
      {
        "duration": 68,
        "start_time": "2022-10-29T11:12:29.072Z"
      },
      {
        "duration": 247,
        "start_time": "2022-10-29T11:12:29.141Z"
      },
      {
        "duration": 229,
        "start_time": "2022-10-29T11:12:29.390Z"
      },
      {
        "duration": 235,
        "start_time": "2022-10-29T11:12:29.620Z"
      },
      {
        "duration": 242,
        "start_time": "2022-10-29T11:12:29.857Z"
      },
      {
        "duration": 302,
        "start_time": "2022-10-29T11:12:30.100Z"
      },
      {
        "duration": 150,
        "start_time": "2022-10-29T11:12:30.403Z"
      },
      {
        "duration": 130,
        "start_time": "2022-10-29T11:12:30.555Z"
      },
      {
        "duration": 152,
        "start_time": "2022-10-29T11:12:30.686Z"
      },
      {
        "duration": 143,
        "start_time": "2022-10-29T11:12:30.840Z"
      },
      {
        "duration": 153,
        "start_time": "2022-10-29T11:12:30.986Z"
      },
      {
        "duration": 240,
        "start_time": "2022-10-29T11:12:31.142Z"
      },
      {
        "duration": 242,
        "start_time": "2022-10-29T11:12:31.383Z"
      },
      {
        "duration": 201,
        "start_time": "2022-10-29T11:12:31.626Z"
      },
      {
        "duration": 139,
        "start_time": "2022-10-29T11:12:31.829Z"
      },
      {
        "duration": 295,
        "start_time": "2022-10-29T11:12:31.969Z"
      },
      {
        "duration": 163,
        "start_time": "2022-10-29T11:12:32.266Z"
      },
      {
        "duration": 231,
        "start_time": "2022-10-29T11:12:32.431Z"
      },
      {
        "duration": 168,
        "start_time": "2022-10-29T11:12:32.663Z"
      },
      {
        "duration": 183,
        "start_time": "2022-10-29T11:12:32.833Z"
      },
      {
        "duration": 161,
        "start_time": "2022-10-29T11:12:33.018Z"
      },
      {
        "duration": 188,
        "start_time": "2022-10-29T11:12:33.181Z"
      },
      {
        "duration": 158,
        "start_time": "2022-10-29T11:12:33.370Z"
      },
      {
        "duration": 162,
        "start_time": "2022-10-29T11:12:33.530Z"
      },
      {
        "duration": 220,
        "start_time": "2022-10-29T11:12:33.694Z"
      },
      {
        "duration": 165,
        "start_time": "2022-10-29T11:12:33.916Z"
      },
      {
        "duration": 183,
        "start_time": "2022-10-29T11:12:34.083Z"
      },
      {
        "duration": 277,
        "start_time": "2022-10-29T11:12:34.268Z"
      },
      {
        "duration": 29,
        "start_time": "2022-10-29T11:12:34.547Z"
      },
      {
        "duration": 32,
        "start_time": "2022-10-29T11:12:34.578Z"
      },
      {
        "duration": 13,
        "start_time": "2022-10-29T11:12:34.612Z"
      },
      {
        "duration": 30,
        "start_time": "2022-10-29T11:12:34.626Z"
      },
      {
        "duration": 162,
        "start_time": "2022-10-29T11:12:34.657Z"
      },
      {
        "duration": 154,
        "start_time": "2022-10-29T11:12:34.821Z"
      },
      {
        "duration": 164,
        "start_time": "2022-10-29T11:12:34.976Z"
      },
      {
        "duration": 36,
        "start_time": "2022-10-29T11:12:35.141Z"
      },
      {
        "duration": 195,
        "start_time": "2022-10-29T11:12:35.179Z"
      },
      {
        "duration": 117,
        "start_time": "2022-10-29T11:46:18.380Z"
      }
    ],
    "kernelspec": {
      "display_name": "Python 3 (ipykernel)",
      "language": "python",
      "name": "python3"
    },
    "language_info": {
      "codemirror_mode": {
        "name": "ipython",
        "version": 3
      },
      "file_extension": ".py",
      "mimetype": "text/x-python",
      "name": "python",
      "nbconvert_exporter": "python",
      "pygments_lexer": "ipython3",
      "version": "3.9.5"
    },
    "toc": {
      "base_numbering": 1,
      "nav_menu": {},
      "number_sections": true,
      "sideBar": true,
      "skip_h1_title": true,
      "title_cell": "Table of Contents",
      "title_sidebar": "Contents",
      "toc_cell": false,
      "toc_position": {},
      "toc_section_display": true,
      "toc_window_display": true
    },
    "colab": {
      "provenance": []
    }
  },
  "nbformat": 4,
  "nbformat_minor": 0
}