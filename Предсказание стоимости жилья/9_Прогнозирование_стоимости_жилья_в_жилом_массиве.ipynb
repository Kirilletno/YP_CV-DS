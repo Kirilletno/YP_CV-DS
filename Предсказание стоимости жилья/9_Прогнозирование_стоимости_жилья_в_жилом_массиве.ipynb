{
  "cells": [
    {
      "cell_type": "markdown",
      "id": "GEqQaHzsZ_bA",
      "metadata": {
        "id": "GEqQaHzsZ_bA"
      },
      "source": [
        "## Предсказание стоимости жилья\n",
        "\n",
        "В рамках этого проекта, моей задачей было обучить модель линейной регрессии на данных о жилье в Калифорнии в 1990 году. На основе данных нужно предсказать медианную стоимость дома в жилом массиве. Для оценки качества модели необходимо использовать метрики RMSE, MAE и R2."
      ]
    },
    {
      "cell_type": "code",
      "execution_count": null,
      "id": "e85c7ba7",
      "metadata": {
        "id": "e85c7ba7"
      },
      "outputs": [],
      "source": [
        "import pandas as pd\n",
        "import numpy as np\n",
        "\n",
        "import pyspark\n",
        "from pyspark.sql import SparkSession\n",
        "from pyspark.sql.types import *\n",
        "import pyspark.sql.functions as F\n",
        "\n",
        "from pyspark.ml.feature import StringIndexer, VectorAssembler, StandardScaler\n",
        "from pyspark.ml.regression import LinearRegression\n",
        "from pyspark.mllib.evaluation import RegressionMetrics\n",
        "\n",
        "\n",
        "pyspark_version = pyspark.__version__\n",
        "if int(pyspark_version[:1]) == 3:\n",
        "    from pyspark.ml.feature import OneHotEncoder\n",
        "elif int(pyspark_version[:1]) == 2:\n",
        "    from pyspark.ml.feature import OneHotEncodeEstimator\n",
        "\n",
        "RANDOM_SEED = 12345"
      ]
    },
    {
      "cell_type": "markdown",
      "id": "53871372",
      "metadata": {
        "id": "53871372"
      },
      "source": [
        "# Подготовка данных"
      ]
    },
    {
      "cell_type": "code",
      "execution_count": null,
      "id": "df92e3ec",
      "metadata": {
        "id": "df92e3ec"
      },
      "outputs": [],
      "source": [
        "# Инициализируем Спарк сессию\n",
        "spark = SparkSession.builder \\\n",
        "                    .master(\"local\") \\\n",
        "                    .appName(\"EDA California Housing\") \\\n",
        "                    .getOrCreate()"
      ]
    },
    {
      "cell_type": "code",
      "execution_count": null,
      "id": "9339f65c",
      "metadata": {
        "id": "9339f65c",
        "outputId": "39f9260b-c946-4501-d231-f7be9b159633"
      },
      "outputs": [
        {
          "name": "stdout",
          "output_type": "stream",
          "text": [
            "+---------+--------+------------------+-----------+--------------+----------+----------+-------------+------------------+---------------+\n",
            "|longitude|latitude|housing_median_age|total_rooms|total_bedrooms|population|households|median_income|median_house_value|ocean_proximity|\n",
            "+---------+--------+------------------+-----------+--------------+----------+----------+-------------+------------------+---------------+\n",
            "|  -122.23|   37.88|              41.0|      880.0|         129.0|     322.0|     126.0|       8.3252|          452600.0|       NEAR BAY|\n",
            "|  -122.22|   37.86|              21.0|     7099.0|        1106.0|    2401.0|    1138.0|       8.3014|          358500.0|       NEAR BAY|\n",
            "|  -122.24|   37.85|              52.0|     1467.0|         190.0|     496.0|     177.0|       7.2574|          352100.0|       NEAR BAY|\n",
            "|  -122.25|   37.85|              52.0|     1274.0|         235.0|     558.0|     219.0|       5.6431|          341300.0|       NEAR BAY|\n",
            "|  -122.25|   37.85|              52.0|     1627.0|         280.0|     565.0|     259.0|       3.8462|          342200.0|       NEAR BAY|\n",
            "+---------+--------+------------------+-----------+--------------+----------+----------+-------------+------------------+---------------+\n",
            "only showing top 5 rows\n",
            "\n"
          ]
        }
      ],
      "source": [
        "# Считаем необходимые данные и выведем их на экран\n",
        "\n",
        "data = spark.read.load('/datasets/housing.csv',\n",
        "                                            format=\"csv\", sep=\",\", inferSchema=True, header=\"true\")\n",
        "data.show(5)"
      ]
    },
    {
      "cell_type": "code",
      "execution_count": null,
      "id": "c4c5f059",
      "metadata": {
        "id": "c4c5f059",
        "outputId": "d7e6a267-0d7d-468a-e19b-594198549ac0"
      },
      "outputs": [
        {
          "name": "stdout",
          "output_type": "stream",
          "text": [
            "root\n",
            " |-- longitude: double (nullable = true)\n",
            " |-- latitude: double (nullable = true)\n",
            " |-- housing_median_age: double (nullable = true)\n",
            " |-- total_rooms: double (nullable = true)\n",
            " |-- total_bedrooms: double (nullable = true)\n",
            " |-- population: double (nullable = true)\n",
            " |-- households: double (nullable = true)\n",
            " |-- median_income: double (nullable = true)\n",
            " |-- median_house_value: double (nullable = true)\n",
            " |-- ocean_proximity: string (nullable = true)\n",
            "\n"
          ]
        }
      ],
      "source": [
        "# Изучим тип данных в таблице\n",
        "data.printSchema()"
      ]
    },
    {
      "cell_type": "code",
      "execution_count": null,
      "id": "5e385cf5",
      "metadata": {
        "id": "5e385cf5",
        "outputId": "b63fb1d8-0723-4471-c648-20355833e5ef"
      },
      "outputs": [
        {
          "name": "stdout",
          "output_type": "stream",
          "text": [
            "longitude 0\n",
            "latitude 0\n",
            "housing_median_age 0\n",
            "total_rooms 0\n",
            "total_bedrooms 207\n",
            "population 0\n",
            "households 0\n",
            "median_income 0\n",
            "median_house_value 0\n",
            "ocean_proximity 0\n"
          ]
        }
      ],
      "source": [
        "#Изучим пропуски в данных\n",
        "columns = data.columns\n",
        "for column in columns:\n",
        "    print(column, data.filter(F.col(column).isNull()).count())"
      ]
    },
    {
      "cell_type": "markdown",
      "source": [
        "Заполненим обнаруженные пропуски на основе данных в таблице"
      ],
      "metadata": {
        "id": "mIIvnnkmXxeR"
      },
      "id": "mIIvnnkmXxeR"
    },
    {
      "cell_type": "code",
      "execution_count": null,
      "id": "71c02e73",
      "metadata": {
        "id": "71c02e73",
        "outputId": "9ca3e885-c4c0-4701-98d9-17bfa5026ab3"
      },
      "outputs": [
        {
          "name": "stdout",
          "output_type": "stream",
          "text": [
            "longitude 0\n",
            "latitude 0\n",
            "housing_median_age 0\n",
            "total_rooms 0\n",
            "total_bedrooms 0\n",
            "population 0\n",
            "households 0\n",
            "median_income 0\n",
            "median_house_value 0\n",
            "ocean_proximity 0\n"
          ]
        }
      ],
      "source": [
        "#Значения с пропусками в столце total_bedrooms заполним нулем, так как это может означать что в этих массивах нет спален, или же пропуск может иметь другую природу\n",
        "data = data.na.fill(0, subset='total_bedrooms')\n",
        "\n",
        "columns = data.columns\n",
        "for column in columns:\n",
        "    print(column, data.filter(F.col(column).isNull()).count())"
      ]
    },
    {
      "cell_type": "code",
      "execution_count": null,
      "id": "72a1cbb4",
      "metadata": {
        "id": "72a1cbb4",
        "outputId": "42245368-3b39-4ea5-e9c0-68060c5d17e5"
      },
      "outputs": [
        {
          "name": "stdout",
          "output_type": "stream",
          "text": [
            "+---------+--------+------------------+-----------+--------------+----------+----------+-------------+------------------+---------------+\n",
            "|longitude|latitude|housing_median_age|total_rooms|total_bedrooms|population|households|median_income|median_house_value|ocean_proximity|\n",
            "+---------+--------+------------------+-----------+--------------+----------+----------+-------------+------------------+---------------+\n",
            "|  -122.23|   37.88|              41.0|      880.0|         129.0|     322.0|     126.0|       8.3252|          452600.0|       NEAR BAY|\n",
            "|  -122.22|   37.86|              21.0|     7099.0|        1106.0|    2401.0|    1138.0|       8.3014|          358500.0|       NEAR BAY|\n",
            "|  -122.24|   37.85|              52.0|     1467.0|         190.0|     496.0|     177.0|       7.2574|          352100.0|       NEAR BAY|\n",
            "|  -122.25|   37.85|              52.0|     1274.0|         235.0|     558.0|     219.0|       5.6431|          341300.0|       NEAR BAY|\n",
            "|  -122.25|   37.85|              52.0|     1627.0|         280.0|     565.0|     259.0|       3.8462|          342200.0|       NEAR BAY|\n",
            "+---------+--------+------------------+-----------+--------------+----------+----------+-------------+------------------+---------------+\n",
            "only showing top 5 rows\n",
            "\n"
          ]
        }
      ],
      "source": [
        "# Подробнее, изучим данные\n",
        "data.show(5)"
      ]
    },
    {
      "cell_type": "code",
      "execution_count": null,
      "id": "d292b786",
      "metadata": {
        "id": "d292b786"
      },
      "outputs": [],
      "source": [
        "#Разделим колонки на числовые и категориальные\n",
        "categorical_cols = ['ocean_proximity']\n",
        "numerical_cols  = ['longitude', 'latitude', 'housing_median_age', 'total_rooms', 'total_bedrooms', 'population', 'households', 'median_income']\n",
        "target = ['median_house_value']"
      ]
    },
    {
      "cell_type": "markdown",
      "id": "7a9e39cb",
      "metadata": {
        "id": "7a9e39cb"
      },
      "source": [
        "#Прокодируем категориальные переменные техникой OHE"
      ]
    },
    {
      "cell_type": "code",
      "execution_count": null,
      "id": "b060eb3d",
      "metadata": {
        "id": "b060eb3d",
        "outputId": "fc1d3ba1-4207-43ae-a8e3-475c6b38cae1"
      },
      "outputs": [
        {
          "name": "stdout",
          "output_type": "stream",
          "text": [
            "16431 4209\n"
          ]
        }
      ],
      "source": [
        "# Разделим выборки на тренировочную и тестовую\n",
        "train_data, test_data = data.randomSplit([.8,.2], seed=RANDOM_SEED)\n",
        "print(train_data.count(), test_data.count())"
      ]
    },
    {
      "cell_type": "code",
      "execution_count": null,
      "id": "8b70ef4a",
      "metadata": {
        "id": "8b70ef4a",
        "outputId": "ec676e8d-024c-4169-8076-8efd28c6d768"
      },
      "outputs": [
        {
          "name": "stdout",
          "output_type": "stream",
          "text": [
            "+---------+--------+------------------+-----------+--------------+----------+----------+-------------+------------------+---------------+-------------------+-------------------+--------------------+\n",
            "|longitude|latitude|housing_median_age|total_rooms|total_bedrooms|population|households|median_income|median_house_value|ocean_proximity|ocean_proximity_idx|ocean_proximity_ohe|categorical_features|\n",
            "+---------+--------+------------------+-----------+--------------+----------+----------+-------------+------------------+---------------+-------------------+-------------------+--------------------+\n",
            "|  -124.35|   40.54|              52.0|     1820.0|         300.0|     806.0|     270.0|       3.0147|           94600.0|     NEAR OCEAN|                2.0|      (4,[2],[1.0])|       (4,[2],[1.0])|\n",
            "|   -124.3|    41.8|              19.0|     2672.0|         552.0|    1298.0|     478.0|       1.9797|           85800.0|     NEAR OCEAN|                2.0|      (4,[2],[1.0])|       (4,[2],[1.0])|\n",
            "|   -124.3|   41.84|              17.0|     2677.0|         531.0|    1244.0|     456.0|       3.0313|          103600.0|     NEAR OCEAN|                2.0|      (4,[2],[1.0])|       (4,[2],[1.0])|\n",
            "+---------+--------+------------------+-----------+--------------+----------+----------+-------------+------------------+---------------+-------------------+-------------------+--------------------+\n",
            "only showing top 3 rows\n",
            "\n",
            "+---------+--------+------------------+-----------+--------------+----------+----------+-------------+------------------+---------------+-------------------+-------------------+--------------------+\n",
            "|longitude|latitude|housing_median_age|total_rooms|total_bedrooms|population|households|median_income|median_house_value|ocean_proximity|ocean_proximity_idx|ocean_proximity_ohe|categorical_features|\n",
            "+---------+--------+------------------+-----------+--------------+----------+----------+-------------+------------------+---------------+-------------------+-------------------+--------------------+\n",
            "|  -124.23|   40.54|              52.0|     2694.0|         453.0|    1152.0|     435.0|       3.0806|          106700.0|     NEAR OCEAN|                2.0|      (4,[2],[1.0])|       (4,[2],[1.0])|\n",
            "|  -124.17|   40.74|              17.0|     2026.0|         338.0|     873.0|     313.0|       4.0357|          128900.0|     NEAR OCEAN|                2.0|      (4,[2],[1.0])|       (4,[2],[1.0])|\n",
            "|  -124.17|   40.75|              13.0|     2171.0|         339.0|     951.0|     353.0|       4.8516|          116100.0|     NEAR OCEAN|                2.0|      (4,[2],[1.0])|       (4,[2],[1.0])|\n",
            "+---------+--------+------------------+-----------+--------------+----------+----------+-------------+------------------+---------------+-------------------+-------------------+--------------------+\n",
            "only showing top 3 rows\n",
            "\n"
          ]
        }
      ],
      "source": [
        "# Прокодируем категориальные переменные техникой OHE\n",
        "indexer = StringIndexer(inputCols=categorical_cols,\n",
        "                        outputCols=[c+'_idx' for c in categorical_cols])\n",
        "model = indexer.fit(train_data)\n",
        "train_data = model.transform(train_data)\n",
        "test_data = model.transform(test_data)\n",
        "\n",
        "cols = [c for c in data.columns for i in categorical_cols if (c.startswith(i))]\n",
        "\n",
        "encoder = OneHotEncoder(inputCols = [c+'_idx' for c in categorical_cols],\n",
        "                        outputCols= [c+'_ohe' for c in categorical_cols])\n",
        "\n",
        "model = encoder.fit(train_data)\n",
        "train_data = model.transform(train_data)\n",
        "test_data = model.transform(test_data)\n",
        "\n",
        "cols = [c for c in train_data.columns for i in categorical_cols if (c.startswith(i))]\n",
        "\n",
        "categorical_assembler = \\\n",
        "        VectorAssembler(inputCols=[c+'_ohe' for c in categorical_cols],\n",
        "                                        outputCol=\"categorical_features\")\n",
        "train_data = categorical_assembler.transform(train_data)\n",
        "test_data = categorical_assembler.transform(test_data)\n",
        "\n",
        "train_data.show(3)\n",
        "test_data.show(3)"
      ]
    },
    {
      "cell_type": "code",
      "execution_count": null,
      "id": "afff8f67",
      "metadata": {
        "id": "afff8f67",
        "outputId": "63888e93-51e0-48ba-d1fe-981c921b9a24"
      },
      "outputs": [
        {
          "name": "stdout",
          "output_type": "stream",
          "text": [
            "+--------------------+-------------------------+\n",
            "|categorical_features|numerical_features_scaled|\n",
            "+--------------------+-------------------------+\n",
            "|       (4,[2],[1.0])|     [-62.004132451563...|\n",
            "|       (4,[2],[1.0])|     [-61.979201155845...|\n",
            "|       (4,[2],[1.0])|     [-61.979201155845...|\n",
            "+--------------------+-------------------------+\n",
            "only showing top 3 rows\n",
            "\n",
            "+--------------------+-------------------------+\n",
            "|categorical_features|numerical_features_scaled|\n",
            "+--------------------+-------------------------+\n",
            "|       (4,[2],[1.0])|     [-61.944297341839...|\n",
            "|       (4,[2],[1.0])|     [-61.914379786977...|\n",
            "|       (4,[2],[1.0])|     [-61.914379786977...|\n",
            "+--------------------+-------------------------+\n",
            "only showing top 3 rows\n",
            "\n"
          ]
        }
      ],
      "source": [
        "# Также проведем и трансформацию числовых переменных\n",
        "numerical_assembler = VectorAssembler(inputCols=numerical_cols,\n",
        "                                                                            outputCol=\"numerical_features\")\n",
        "train_data = numerical_assembler.transform(train_data)\n",
        "test_data = numerical_assembler.transform(test_data)\n",
        "\n",
        "\n",
        "standardScaler = StandardScaler(inputCol='numerical_features',\n",
        "                                                                outputCol=\"numerical_features_scaled\")\n",
        "model2 = standardScaler.fit(train_data)\n",
        "\n",
        "train_data = model2.transform(train_data)\n",
        "test_data = model2.transform(test_data)\n",
        "\n",
        "\n",
        "#И соединим полученные данные в единый массив для обучения модели\n",
        "all_features = ['categorical_features','numerical_features_scaled']\n",
        "\n",
        "final_assembler = VectorAssembler(inputCols=all_features,\n",
        "                                  outputCol=\"features\")\n",
        "\n",
        "train_data = final_assembler.transform(train_data)\n",
        "test_data = final_assembler.transform(test_data)\n",
        "\n",
        "train_data.select(all_features).show(3)\n",
        "test_data.select(all_features).show(3)"
      ]
    },
    {
      "cell_type": "markdown",
      "id": "9f0a82f3",
      "metadata": {
        "id": "9f0a82f3"
      },
      "source": [
        "# Обучение моделей"
      ]
    },
    {
      "cell_type": "markdown",
      "id": "a5d122ab",
      "metadata": {
        "id": "a5d122ab"
      },
      "source": [
        "1. Проведем обучение и тест на модели с использвоанием всех переменных из датасета"
      ]
    },
    {
      "cell_type": "code",
      "execution_count": null,
      "id": "2e934e81",
      "metadata": {
        "id": "2e934e81"
      },
      "outputs": [],
      "source": [
        "# Разьделим выборки на тренировочную и тестовую\n",
        "train_data, test_data = data.randomSplit([.8,.2], seed=RANDOM_SEED)"
      ]
    },
    {
      "cell_type": "code",
      "execution_count": null,
      "id": "858a258c",
      "metadata": {
        "id": "858a258c",
        "outputId": "4f1bf0ad-cd19-4725-ec9e-62110a582def"
      },
      "outputs": [
        {
          "name": "stderr",
          "output_type": "stream",
          "text": [
            "23/05/24 08:19:10 WARN Instrumentation: [593657e2] regParam is zero, which might cause numerical instability and overfitting.\n",
            "23/05/24 08:19:11 WARN BLAS: Failed to load implementation from: com.github.fommil.netlib.NativeSystemBLAS\n",
            "23/05/24 08:19:11 WARN BLAS: Failed to load implementation from: com.github.fommil.netlib.NativeRefBLAS\n",
            "23/05/24 08:19:12 WARN LAPACK: Failed to load implementation from: com.github.fommil.netlib.NativeSystemLAPACK\n",
            "23/05/24 08:19:12 WARN LAPACK: Failed to load implementation from: com.github.fommil.netlib.NativeRefLAPACK\n",
            "                                                                                \r"
          ]
        },
        {
          "name": "stdout",
          "output_type": "stream",
          "text": [
            "+------------------+------------------+\n",
            "|median_house_value|        prediction|\n",
            "+------------------+------------------+\n",
            "|          106700.0|217401.41246218001|\n",
            "|          128900.0|207761.73643585527|\n",
            "|          116100.0|234718.96505517233|\n",
            "|           70500.0|164513.37888022605|\n",
            "|           85600.0|188814.00482306024|\n",
            "|           75500.0|138938.81329614995|\n",
            "|           79600.0|160958.21959933173|\n",
            "|           92800.0| 210492.6480937996|\n",
            "|           97300.0|167326.85464484943|\n",
            "|           82100.0|159888.40428816061|\n",
            "|          126900.0|158732.02491717553|\n",
            "|          119400.0|164132.65479839547|\n",
            "|           71300.0|168399.54506612103|\n",
            "|           75600.0| 149361.3097679494|\n",
            "|           98800.0|152004.54652441572|\n",
            "|           92600.0|150933.18413452618|\n",
            "|          152700.0| 142109.9946842366|\n",
            "|          150000.0|156604.09873819677|\n",
            "|           74000.0|156448.52670405107|\n",
            "|           82400.0|162852.33443435607|\n",
            "+------------------+------------------+\n",
            "only showing top 20 rows\n",
            "\n"
          ]
        }
      ],
      "source": [
        "lr = LinearRegression(featuresCol = 'features', labelCol='median_house_value')\n",
        "\n",
        "model = lr.fit(train_data)\n",
        "\n",
        "predictions = model.transform(test_data)\n",
        "\n",
        "predictedLabes = predictions.select(\"median_house_value\", \"prediction\")\n",
        "predictedLabes.show()"
      ]
    },
    {
      "cell_type": "code",
      "execution_count": null,
      "id": "2900d0d5",
      "metadata": {
        "id": "2900d0d5",
        "outputId": "11bcdcff-fb51-4fd6-bca2-e078d6300372"
      },
      "outputs": [
        {
          "name": "stdout",
          "output_type": "stream",
          "text": [
            "RMSE: 69052.301074\n",
            "r2: 0.641052\n",
            "MAE: 50203.809138\n"
          ]
        }
      ],
      "source": [
        "# И расчитаем метрики, на полученных данных\n",
        "trainingSummary = model.summary\n",
        "print(\"RMSE: %f\" % trainingSummary.rootMeanSquaredError)\n",
        "print(\"r2: %f\" % trainingSummary.r2)\n",
        "print(\"MAE: %f\" % trainingSummary.meanAbsoluteError)"
      ]
    },
    {
      "cell_type": "markdown",
      "id": "9b3c4b5b",
      "metadata": {
        "id": "9b3c4b5b"
      },
      "source": [
        "2. Теперь проведем обучение и тест на модели с использвоанием только числовых переменных из датасета, так как согласно информации от заказчика, есть вероятность, что категориальные переменные не оказывают на итоговоую стоимость и как следствие, не будут оказывать большого влияния на предсказание модели и могут только увеличивать время обучения."
      ]
    },
    {
      "cell_type": "code",
      "execution_count": null,
      "id": "467bb341",
      "metadata": {
        "id": "467bb341",
        "outputId": "397052d0-9ce7-44c5-a242-c97cc46d45a1"
      },
      "outputs": [
        {
          "name": "stdout",
          "output_type": "stream",
          "text": [
            "+---------+--------+------------------+-----------+--------------+----------+----------+-------------+------------------+---------------+\n",
            "|longitude|latitude|housing_median_age|total_rooms|total_bedrooms|population|households|median_income|median_house_value|ocean_proximity|\n",
            "+---------+--------+------------------+-----------+--------------+----------+----------+-------------+------------------+---------------+\n",
            "|  -122.23|   37.88|              41.0|      880.0|         129.0|     322.0|     126.0|       8.3252|          452600.0|       NEAR BAY|\n",
            "|  -122.22|   37.86|              21.0|     7099.0|        1106.0|    2401.0|    1138.0|       8.3014|          358500.0|       NEAR BAY|\n",
            "|  -122.24|   37.85|              52.0|     1467.0|         190.0|     496.0|     177.0|       7.2574|          352100.0|       NEAR BAY|\n",
            "|  -122.25|   37.85|              52.0|     1274.0|         235.0|     558.0|     219.0|       5.6431|          341300.0|       NEAR BAY|\n",
            "|  -122.25|   37.85|              52.0|     1627.0|         280.0|     565.0|     259.0|       3.8462|          342200.0|       NEAR BAY|\n",
            "|  -122.25|   37.85|              52.0|      919.0|         213.0|     413.0|     193.0|       4.0368|          269700.0|       NEAR BAY|\n",
            "|  -122.25|   37.84|              52.0|     2535.0|         489.0|    1094.0|     514.0|       3.6591|          299200.0|       NEAR BAY|\n",
            "|  -122.25|   37.84|              52.0|     3104.0|         687.0|    1157.0|     647.0|         3.12|          241400.0|       NEAR BAY|\n",
            "|  -122.26|   37.84|              42.0|     2555.0|         665.0|    1206.0|     595.0|       2.0804|          226700.0|       NEAR BAY|\n",
            "|  -122.25|   37.84|              52.0|     3549.0|         707.0|    1551.0|     714.0|       3.6912|          261100.0|       NEAR BAY|\n",
            "|  -122.26|   37.85|              52.0|     2202.0|         434.0|     910.0|     402.0|       3.2031|          281500.0|       NEAR BAY|\n",
            "|  -122.26|   37.85|              52.0|     3503.0|         752.0|    1504.0|     734.0|       3.2705|          241800.0|       NEAR BAY|\n",
            "|  -122.26|   37.85|              52.0|     2491.0|         474.0|    1098.0|     468.0|        3.075|          213500.0|       NEAR BAY|\n",
            "|  -122.26|   37.84|              52.0|      696.0|         191.0|     345.0|     174.0|       2.6736|          191300.0|       NEAR BAY|\n",
            "|  -122.26|   37.85|              52.0|     2643.0|         626.0|    1212.0|     620.0|       1.9167|          159200.0|       NEAR BAY|\n",
            "|  -122.26|   37.85|              50.0|     1120.0|         283.0|     697.0|     264.0|        2.125|          140000.0|       NEAR BAY|\n",
            "|  -122.27|   37.85|              52.0|     1966.0|         347.0|     793.0|     331.0|        2.775|          152500.0|       NEAR BAY|\n",
            "|  -122.27|   37.85|              52.0|     1228.0|         293.0|     648.0|     303.0|       2.1202|          155500.0|       NEAR BAY|\n",
            "|  -122.26|   37.84|              50.0|     2239.0|         455.0|     990.0|     419.0|       1.9911|          158700.0|       NEAR BAY|\n",
            "|  -122.27|   37.84|              52.0|     1503.0|         298.0|     690.0|     275.0|       2.6033|          162900.0|       NEAR BAY|\n",
            "+---------+--------+------------------+-----------+--------------+----------+----------+-------------+------------------+---------------+\n",
            "only showing top 20 rows\n",
            "\n"
          ]
        }
      ],
      "source": [
        "data2 = data\n",
        "data2.show()"
      ]
    },
    {
      "cell_type": "code",
      "execution_count": null,
      "id": "583bdb00",
      "metadata": {
        "id": "583bdb00",
        "outputId": "64883a03-5f50-4435-8e52-22ac04abfd11"
      },
      "outputs": [
        {
          "name": "stderr",
          "output_type": "stream",
          "text": [
            "23/05/24 08:21:35 WARN Instrumentation: [6a8be4bf] regParam is zero, which might cause numerical instability and overfitting.\n"
          ]
        },
        {
          "name": "stdout",
          "output_type": "stream",
          "text": [
            "+------------------+------------------+\n",
            "|median_house_value|        prediction|\n",
            "+------------------+------------------+\n",
            "|          106700.0|190476.72406287305|\n",
            "|          128900.0|174503.83135654917|\n",
            "|          116100.0| 201586.9150031726|\n",
            "|           70500.0|131651.32028728584|\n",
            "|           85600.0|156120.77340789698|\n",
            "|           75500.0| 100616.3021771675|\n",
            "|           79600.0|130568.97371992283|\n",
            "|           92800.0| 177300.8879561834|\n",
            "|           97300.0| 141236.2185783363|\n",
            "|           82100.0|123105.43772208318|\n",
            "|          126900.0|120256.44045340223|\n",
            "|          119400.0|122973.01408903999|\n",
            "|           71300.0|144094.87834225176|\n",
            "|           75600.0|116970.44949270599|\n",
            "|           98800.0|117447.50912469765|\n",
            "|           92600.0|122847.52569746552|\n",
            "|          152700.0| 93984.27938967152|\n",
            "|          150000.0|146076.57979437802|\n",
            "|           74000.0|131309.15814570012|\n",
            "|           82400.0|140310.33897198178|\n",
            "+------------------+------------------+\n",
            "only showing top 20 rows\n",
            "\n"
          ]
        }
      ],
      "source": [
        "# Обучим модель, только на количественных данных\n",
        "lr = LinearRegression(featuresCol = 'numerical_features_scaled', labelCol='median_house_value')\n",
        "\n",
        "model = lr.fit(train_data)\n",
        "\n",
        "predictions = model.transform(test_data)\n",
        "\n",
        "predictedLabes = predictions.select(\"median_house_value\", \"prediction\")\n",
        "predictedLabes.show()"
      ]
    },
    {
      "cell_type": "code",
      "execution_count": null,
      "id": "6c805f62",
      "metadata": {
        "id": "6c805f62",
        "outputId": "6fe920c3-8136-4995-a5f1-9f05da8de0cd"
      },
      "outputs": [
        {
          "name": "stdout",
          "output_type": "stream",
          "text": [
            "RMSE: 69983.016885\n",
            "r2: 0.631311\n",
            "MAE: 51306.398891\n"
          ]
        }
      ],
      "source": [
        "#И изучим значение метрики\n",
        "trainingSummary = model.summary\n",
        "print(\"RMSE: %f\" % trainingSummary.rootMeanSquaredError)\n",
        "print(\"r2: %f\" % trainingSummary.r2)\n",
        "print(\"MAE: %f\" % trainingSummary.meanAbsoluteError)"
      ]
    },
    {
      "cell_type": "code",
      "execution_count": null,
      "id": "756283b4",
      "metadata": {
        "id": "756283b4",
        "outputId": "d6baad7b-de50-41aa-a786-4ce06c284a2d"
      },
      "outputs": [
        {
          "name": "stdout",
          "output_type": "stream",
          "text": [
            "930.7158110000018\n",
            "-0.009741\n",
            "1102.5897530000002\n"
          ]
        }
      ],
      "source": [
        "# Подсчитаем разницу между указанными значениями, а именно разницу между обучением без категориальных переменных  , по сравнению с результатом обучения с категориальными переменными\n",
        "# Результаты обучения без категориальных переменных - результаты обучения с категориальными переменными\n",
        "RMSE = 69983.016885 - 69052.301074\n",
        "r2 = 0.631311 - 0.641052\n",
        "MAE = 51306.398891 - 50203.809138\n",
        "print(RMSE)\n",
        "print(r2)\n",
        "print(MAE)"
      ]
    },
    {
      "cell_type": "markdown",
      "id": "3b0dd1d5",
      "metadata": {
        "id": "3b0dd1d5"
      },
      "source": [
        "Вспоминаем, как эти метрики, показывают качество можели:\n",
        "\n",
        "- RMSE - чем ниже, тем лучше\n",
        "\n",
        "- R2 - чем больше, тем лучше\n",
        "\n",
        "- MAE - чем ниже, тем лучше"
      ]
    },
    {
      "cell_type": "code",
      "execution_count": null,
      "id": "dd340ea3",
      "metadata": {
        "id": "dd340ea3"
      },
      "outputs": [],
      "source": [
        "# По окончанию работы, не забываем остановить сессию\n",
        "spark.stop()"
      ]
    },
    {
      "cell_type": "markdown",
      "id": "757fd103",
      "metadata": {
        "id": "757fd103"
      },
      "source": [
        "# Анализ результатов"
      ]
    },
    {
      "cell_type": "markdown",
      "id": "83c2b382",
      "metadata": {
        "id": "83c2b382"
      },
      "source": [
        "Результат модели обученной на датасете без категориальных переменных привели лишь к ухудшению качества предсказания модели по всем метрикам, которыми мы оценивали ее качество, из чего мы можем сделать вывод, что использование категориальных переменных в обучение модели, в данном датасете влияет и оказывает немаловажное влияние на итоговое качество модели."
      ]
    }
  ],
  "metadata": {
    "ExecuteTimeLog": [
      {
        "duration": 3664,
        "start_time": "2023-05-23T15:20:19.015Z"
      },
      {
        "duration": 22760,
        "start_time": "2023-05-23T15:20:27.634Z"
      },
      {
        "duration": 700,
        "start_time": "2023-05-23T15:22:31.334Z"
      },
      {
        "duration": 10600,
        "start_time": "2023-05-23T15:23:07.277Z"
      },
      {
        "duration": 1967,
        "start_time": "2023-05-23T15:23:57.931Z"
      },
      {
        "duration": 5,
        "start_time": "2023-05-23T15:25:23.748Z"
      },
      {
        "duration": 39,
        "start_time": "2023-05-23T15:40:12.797Z"
      },
      {
        "duration": 11,
        "start_time": "2023-05-23T15:40:20.181Z"
      },
      {
        "duration": 8,
        "start_time": "2023-05-23T15:40:37.335Z"
      },
      {
        "duration": 5269,
        "start_time": "2023-05-23T15:40:45.109Z"
      },
      {
        "duration": 3326,
        "start_time": "2023-05-23T15:41:24.538Z"
      },
      {
        "duration": 3427,
        "start_time": "2023-05-23T15:46:42.575Z"
      },
      {
        "duration": 146,
        "start_time": "2023-05-23T15:47:13.648Z"
      },
      {
        "duration": 2636,
        "start_time": "2023-05-23T16:28:59.677Z"
      },
      {
        "duration": 91,
        "start_time": "2023-05-23T16:33:21.309Z"
      },
      {
        "duration": 85,
        "start_time": "2023-05-23T16:33:27.891Z"
      },
      {
        "duration": 184,
        "start_time": "2023-05-23T16:33:33.810Z"
      },
      {
        "duration": 2042,
        "start_time": "2023-05-23T16:33:39.886Z"
      },
      {
        "duration": 1959,
        "start_time": "2023-05-23T16:34:05.118Z"
      },
      {
        "duration": 2477,
        "start_time": "2023-05-23T16:34:35.251Z"
      },
      {
        "duration": 12,
        "start_time": "2023-05-23T16:40:25.317Z"
      },
      {
        "duration": 2867,
        "start_time": "2023-05-23T16:40:30.267Z"
      },
      {
        "duration": 4154,
        "start_time": "2023-05-23T16:41:30.150Z"
      },
      {
        "duration": 281,
        "start_time": "2023-05-23T16:45:59.016Z"
      },
      {
        "duration": 954,
        "start_time": "2023-05-23T16:46:10.272Z"
      },
      {
        "duration": 4,
        "start_time": "2023-05-23T16:47:41.062Z"
      },
      {
        "duration": 8,
        "start_time": "2023-05-23T16:50:07.010Z"
      },
      {
        "duration": 5,
        "start_time": "2023-05-23T16:50:46.564Z"
      },
      {
        "duration": 225,
        "start_time": "2023-05-23T16:51:08.259Z"
      },
      {
        "duration": 30,
        "start_time": "2023-05-23T16:59:18.853Z"
      },
      {
        "duration": 47,
        "start_time": "2023-05-23T17:01:02.475Z"
      },
      {
        "duration": 27,
        "start_time": "2023-05-23T17:02:27.073Z"
      },
      {
        "duration": 19,
        "start_time": "2023-05-23T17:04:57.849Z"
      },
      {
        "duration": 25,
        "start_time": "2023-05-23T17:05:06.574Z"
      },
      {
        "duration": 16,
        "start_time": "2023-05-23T17:06:22.458Z"
      },
      {
        "duration": 22,
        "start_time": "2023-05-23T17:12:11.673Z"
      },
      {
        "duration": 3,
        "start_time": "2023-05-23T17:12:31.154Z"
      },
      {
        "duration": 1998,
        "start_time": "2023-05-23T17:12:33.602Z"
      },
      {
        "duration": 13,
        "start_time": "2023-05-23T17:14:22.400Z"
      },
      {
        "duration": 20,
        "start_time": "2023-05-23T17:14:35.071Z"
      },
      {
        "duration": 149,
        "start_time": "2023-05-23T17:15:32.769Z"
      },
      {
        "duration": 136,
        "start_time": "2023-05-23T17:16:01.151Z"
      },
      {
        "duration": 105,
        "start_time": "2023-05-23T17:16:30.643Z"
      },
      {
        "duration": 156,
        "start_time": "2023-05-23T17:17:00.747Z"
      },
      {
        "duration": 668,
        "start_time": "2023-05-23T17:17:12.643Z"
      },
      {
        "duration": 5,
        "start_time": "2023-05-23T17:17:14.410Z"
      },
      {
        "duration": 2212,
        "start_time": "2023-05-23T17:17:16.000Z"
      },
      {
        "duration": 1704,
        "start_time": "2023-05-23T17:17:18.214Z"
      },
      {
        "duration": 917,
        "start_time": "2023-05-23T17:17:19.920Z"
      },
      {
        "duration": 3,
        "start_time": "2023-05-23T17:17:20.839Z"
      },
      {
        "duration": 1149,
        "start_time": "2023-05-23T17:17:20.845Z"
      },
      {
        "duration": 543,
        "start_time": "2023-05-23T17:18:27.050Z"
      },
      {
        "duration": 7,
        "start_time": "2023-05-23T18:09:27.376Z"
      },
      {
        "duration": 18,
        "start_time": "2023-05-23T18:09:27.386Z"
      },
      {
        "duration": 682,
        "start_time": "2023-05-23T18:09:27.405Z"
      },
      {
        "duration": 16,
        "start_time": "2023-05-23T18:09:28.102Z"
      },
      {
        "duration": 2283,
        "start_time": "2023-05-23T18:09:28.121Z"
      },
      {
        "duration": 1585,
        "start_time": "2023-05-23T18:09:30.406Z"
      },
      {
        "duration": 779,
        "start_time": "2023-05-23T18:09:31.999Z"
      },
      {
        "duration": 5,
        "start_time": "2023-05-23T18:09:32.782Z"
      },
      {
        "duration": 675,
        "start_time": "2023-05-23T18:09:32.789Z"
      },
      {
        "duration": 181,
        "start_time": "2023-05-23T18:09:33.467Z"
      },
      {
        "duration": 663,
        "start_time": "2023-05-23T18:09:33.650Z"
      },
      {
        "duration": 118,
        "start_time": "2023-05-23T18:10:16.909Z"
      },
      {
        "duration": 370,
        "start_time": "2023-05-23T18:11:31.125Z"
      },
      {
        "duration": 11,
        "start_time": "2023-05-23T18:13:12.488Z"
      },
      {
        "duration": 3143,
        "start_time": "2023-05-23T18:13:16.377Z"
      },
      {
        "duration": 13,
        "start_time": "2023-05-23T18:15:56.633Z"
      },
      {
        "duration": 6,
        "start_time": "2023-05-23T18:16:17.594Z"
      },
      {
        "duration": 114,
        "start_time": "2023-05-23T18:18:41.807Z"
      },
      {
        "duration": 343,
        "start_time": "2023-05-23T18:18:56.933Z"
      },
      {
        "duration": 156,
        "start_time": "2023-05-23T18:20:18.201Z"
      },
      {
        "duration": 5031,
        "start_time": "2023-05-23T18:35:31.819Z"
      },
      {
        "duration": 13,
        "start_time": "2023-05-23T18:35:37.092Z"
      },
      {
        "duration": 7,
        "start_time": "2023-05-23T18:35:57.253Z"
      },
      {
        "duration": 9,
        "start_time": "2023-05-23T18:36:06.701Z"
      },
      {
        "duration": 7,
        "start_time": "2023-05-23T18:36:12.354Z"
      },
      {
        "duration": 6,
        "start_time": "2023-05-23T18:36:13.118Z"
      },
      {
        "duration": 901,
        "start_time": "2023-05-23T18:36:13.304Z"
      },
      {
        "duration": 10,
        "start_time": "2023-05-23T18:36:14.207Z"
      },
      {
        "duration": 2096,
        "start_time": "2023-05-23T18:36:14.219Z"
      },
      {
        "duration": 1160,
        "start_time": "2023-05-23T18:36:16.318Z"
      },
      {
        "duration": 528,
        "start_time": "2023-05-23T18:36:17.481Z"
      },
      {
        "duration": 4,
        "start_time": "2023-05-23T18:36:18.011Z"
      },
      {
        "duration": 733,
        "start_time": "2023-05-23T18:36:18.016Z"
      },
      {
        "duration": 226,
        "start_time": "2023-05-23T18:36:18.751Z"
      },
      {
        "duration": 699,
        "start_time": "2023-05-23T18:36:18.982Z"
      },
      {
        "duration": 272,
        "start_time": "2023-05-23T18:36:19.684Z"
      },
      {
        "duration": 176,
        "start_time": "2023-05-23T18:36:19.958Z"
      },
      {
        "duration": 7477,
        "start_time": "2023-05-23T18:36:20.136Z"
      },
      {
        "duration": 1681,
        "start_time": "2023-05-23T18:36:43.183Z"
      },
      {
        "duration": 19,
        "start_time": "2023-05-23T18:36:49.989Z"
      },
      {
        "duration": 19,
        "start_time": "2023-05-23T18:36:56.889Z"
      },
      {
        "duration": 101,
        "start_time": "2023-05-23T18:39:06.852Z"
      },
      {
        "duration": 6,
        "start_time": "2023-05-23T18:39:11.924Z"
      },
      {
        "duration": 152,
        "start_time": "2023-05-23T18:39:19.512Z"
      },
      {
        "duration": 202,
        "start_time": "2023-05-23T18:49:37.213Z"
      },
      {
        "duration": 8,
        "start_time": "2023-05-23T18:52:54.639Z"
      },
      {
        "duration": 5351,
        "start_time": "2023-05-23T18:53:12.757Z"
      },
      {
        "duration": 2944,
        "start_time": "2023-05-23T18:54:01.640Z"
      },
      {
        "duration": 3219,
        "start_time": "2023-05-23T18:54:22.193Z"
      },
      {
        "duration": 3469,
        "start_time": "2023-05-23T18:55:23.556Z"
      },
      {
        "duration": 2534,
        "start_time": "2023-05-23T18:55:56.311Z"
      },
      {
        "duration": 3745,
        "start_time": "2023-05-23T19:00:53.055Z"
      },
      {
        "duration": 3800,
        "start_time": "2023-05-23T19:01:14.207Z"
      },
      {
        "duration": 1385,
        "start_time": "2023-05-23T19:01:36.399Z"
      },
      {
        "duration": 2748,
        "start_time": "2023-05-23T19:01:41.781Z"
      },
      {
        "duration": 97,
        "start_time": "2023-05-23T19:17:42.331Z"
      },
      {
        "duration": 82,
        "start_time": "2023-05-23T19:17:53.347Z"
      },
      {
        "duration": 103,
        "start_time": "2023-05-23T19:18:39.134Z"
      },
      {
        "duration": 209,
        "start_time": "2023-05-23T19:20:00.018Z"
      },
      {
        "duration": 89,
        "start_time": "2023-05-23T19:20:06.942Z"
      },
      {
        "duration": 33,
        "start_time": "2023-05-23T19:20:49.174Z"
      },
      {
        "duration": 19,
        "start_time": "2023-05-23T19:30:39.702Z"
      },
      {
        "duration": 10,
        "start_time": "2023-05-23T19:30:50.043Z"
      },
      {
        "duration": 2969,
        "start_time": "2023-05-23T19:34:34.996Z"
      },
      {
        "duration": 2322,
        "start_time": "2023-05-23T19:34:37.967Z"
      },
      {
        "duration": 2328,
        "start_time": "2023-05-23T19:35:30.385Z"
      },
      {
        "duration": 3029,
        "start_time": "2023-05-23T19:35:57.169Z"
      },
      {
        "duration": 1895,
        "start_time": "2023-05-23T19:36:26.407Z"
      },
      {
        "duration": 5,
        "start_time": "2023-05-23T19:37:09.865Z"
      },
      {
        "duration": 7,
        "start_time": "2023-05-23T19:37:10.917Z"
      },
      {
        "duration": 506,
        "start_time": "2023-05-23T19:37:11.120Z"
      },
      {
        "duration": 12,
        "start_time": "2023-05-23T19:37:11.628Z"
      },
      {
        "duration": 1556,
        "start_time": "2023-05-23T19:37:11.641Z"
      },
      {
        "duration": 1123,
        "start_time": "2023-05-23T19:37:13.200Z"
      },
      {
        "duration": 419,
        "start_time": "2023-05-23T19:37:14.325Z"
      },
      {
        "duration": 4,
        "start_time": "2023-05-23T19:37:14.746Z"
      },
      {
        "duration": 479,
        "start_time": "2023-05-23T19:37:14.752Z"
      },
      {
        "duration": 188,
        "start_time": "2023-05-23T19:37:15.234Z"
      },
      {
        "duration": 297,
        "start_time": "2023-05-23T19:37:15.426Z"
      },
      {
        "duration": 168,
        "start_time": "2023-05-23T19:37:15.725Z"
      },
      {
        "duration": 147,
        "start_time": "2023-05-23T19:37:15.894Z"
      },
      {
        "duration": 865,
        "start_time": "2023-05-23T19:37:16.044Z"
      },
      {
        "duration": 2013,
        "start_time": "2023-05-23T19:37:16.911Z"
      },
      {
        "duration": 9957,
        "start_time": "2023-05-23T19:37:20.334Z"
      },
      {
        "duration": 2151,
        "start_time": "2023-05-23T19:37:30.299Z"
      },
      {
        "duration": 10674,
        "start_time": "2023-05-23T19:38:19.472Z"
      },
      {
        "duration": 2601,
        "start_time": "2023-05-23T19:38:50.309Z"
      },
      {
        "duration": 6562,
        "start_time": "2023-05-23T19:39:06.260Z"
      },
      {
        "duration": 13,
        "start_time": "2023-05-23T19:39:50.245Z"
      },
      {
        "duration": 318,
        "start_time": "2023-05-23T19:40:11.470Z"
      },
      {
        "duration": 309,
        "start_time": "2023-05-23T19:40:27.242Z"
      },
      {
        "duration": 3086,
        "start_time": "2023-05-23T19:40:29.808Z"
      },
      {
        "duration": 129,
        "start_time": "2023-05-23T19:43:54.573Z"
      },
      {
        "duration": 1885,
        "start_time": "2023-05-23T19:44:10.895Z"
      },
      {
        "duration": 9,
        "start_time": "2023-05-23T19:52:54.694Z"
      },
      {
        "duration": 5,
        "start_time": "2023-05-23T19:53:30.624Z"
      },
      {
        "duration": 940,
        "start_time": "2023-05-23T19:54:44.360Z"
      },
      {
        "duration": 19673,
        "start_time": "2023-05-23T19:54:45.303Z"
      },
      {
        "duration": 11301,
        "start_time": "2023-05-23T19:55:04.982Z"
      },
      {
        "duration": 30,
        "start_time": "2023-05-23T19:55:16.286Z"
      },
      {
        "duration": 5979,
        "start_time": "2023-05-23T19:55:16.319Z"
      },
      {
        "duration": 4320,
        "start_time": "2023-05-23T19:55:22.301Z"
      },
      {
        "duration": 1278,
        "start_time": "2023-05-23T19:55:26.623Z"
      },
      {
        "duration": 3,
        "start_time": "2023-05-23T19:55:27.904Z"
      },
      {
        "duration": 2792,
        "start_time": "2023-05-23T19:55:27.909Z"
      },
      {
        "duration": 692,
        "start_time": "2023-05-23T19:55:30.705Z"
      },
      {
        "duration": 1581,
        "start_time": "2023-05-23T19:55:31.401Z"
      },
      {
        "duration": 513,
        "start_time": "2023-05-23T19:55:32.988Z"
      },
      {
        "duration": 622,
        "start_time": "2023-05-23T19:55:33.502Z"
      },
      {
        "duration": 3651,
        "start_time": "2023-05-23T19:55:34.127Z"
      },
      {
        "duration": 5118,
        "start_time": "2023-05-23T19:55:37.780Z"
      },
      {
        "duration": 7,
        "start_time": "2023-05-23T19:55:42.900Z"
      },
      {
        "duration": 525,
        "start_time": "2023-05-23T19:55:42.909Z"
      },
      {
        "duration": 3988,
        "start_time": "2023-05-23T19:55:43.436Z"
      },
      {
        "duration": 5,
        "start_time": "2023-05-23T19:55:47.426Z"
      },
      {
        "duration": 6,
        "start_time": "2023-05-23T20:10:27.293Z"
      },
      {
        "duration": 110,
        "start_time": "2023-05-23T20:10:40.572Z"
      },
      {
        "duration": 25,
        "start_time": "2023-05-23T20:10:54.879Z"
      },
      {
        "duration": 5,
        "start_time": "2023-05-23T20:14:15.120Z"
      },
      {
        "duration": 12,
        "start_time": "2023-05-23T20:14:33.096Z"
      },
      {
        "duration": 62,
        "start_time": "2023-05-24T06:07:12.040Z"
      },
      {
        "duration": 76,
        "start_time": "2023-05-24T06:07:20.183Z"
      },
      {
        "duration": 79,
        "start_time": "2023-05-24T06:15:15.096Z"
      },
      {
        "duration": 6,
        "start_time": "2023-05-24T06:18:17.116Z"
      },
      {
        "duration": 9,
        "start_time": "2023-05-24T06:26:21.551Z"
      },
      {
        "duration": 82,
        "start_time": "2023-05-24T06:37:07.094Z"
      },
      {
        "duration": 688,
        "start_time": "2023-05-24T06:37:11.583Z"
      },
      {
        "duration": 20654,
        "start_time": "2023-05-24T06:37:13.223Z"
      },
      {
        "duration": 11394,
        "start_time": "2023-05-24T06:37:33.879Z"
      },
      {
        "duration": 67,
        "start_time": "2023-05-24T06:37:45.275Z"
      },
      {
        "duration": 6197,
        "start_time": "2023-05-24T06:37:45.344Z"
      },
      {
        "duration": 8,
        "start_time": "2023-05-24T06:37:51.545Z"
      },
      {
        "duration": 182,
        "start_time": "2023-05-24T06:37:51.554Z"
      },
      {
        "duration": 4127,
        "start_time": "2023-05-24T06:38:06.362Z"
      },
      {
        "duration": 1940,
        "start_time": "2023-05-24T06:38:55.518Z"
      },
      {
        "duration": 1683,
        "start_time": "2023-05-24T06:39:55.801Z"
      },
      {
        "duration": 344,
        "start_time": "2023-05-24T06:41:25.504Z"
      },
      {
        "duration": 4,
        "start_time": "2023-05-24T06:41:34.351Z"
      },
      {
        "duration": 1825,
        "start_time": "2023-05-24T06:54:23.719Z"
      },
      {
        "duration": 4,
        "start_time": "2023-05-24T06:54:43.273Z"
      },
      {
        "duration": 1750,
        "start_time": "2023-05-24T07:04:24.703Z"
      },
      {
        "duration": 117,
        "start_time": "2023-05-24T07:04:56.318Z"
      },
      {
        "duration": 952,
        "start_time": "2023-05-24T07:05:08.922Z"
      },
      {
        "duration": 645,
        "start_time": "2023-05-24T07:05:11.188Z"
      },
      {
        "duration": 268,
        "start_time": "2023-05-24T07:05:27.995Z"
      },
      {
        "duration": 253,
        "start_time": "2023-05-24T07:12:11.653Z"
      },
      {
        "duration": 809,
        "start_time": "2023-05-24T07:12:19.427Z"
      },
      {
        "duration": 616,
        "start_time": "2023-05-24T07:12:21.927Z"
      },
      {
        "duration": 24,
        "start_time": "2023-05-24T07:12:51.279Z"
      },
      {
        "duration": 42,
        "start_time": "2023-05-24T07:25:23.659Z"
      },
      {
        "duration": 13,
        "start_time": "2023-05-24T07:25:52.384Z"
      },
      {
        "duration": 888,
        "start_time": "2023-05-24T07:25:52.756Z"
      },
      {
        "duration": 12,
        "start_time": "2023-05-24T07:25:53.646Z"
      },
      {
        "duration": 2341,
        "start_time": "2023-05-24T07:25:53.659Z"
      },
      {
        "duration": 5,
        "start_time": "2023-05-24T07:25:56.001Z"
      },
      {
        "duration": 2009,
        "start_time": "2023-05-24T07:25:56.604Z"
      },
      {
        "duration": 2,
        "start_time": "2023-05-24T07:25:58.615Z"
      },
      {
        "duration": 321,
        "start_time": "2023-05-24T07:26:00.949Z"
      },
      {
        "duration": 2,
        "start_time": "2023-05-24T07:26:05.881Z"
      },
      {
        "duration": 1291,
        "start_time": "2023-05-24T07:26:10.668Z"
      },
      {
        "duration": 697,
        "start_time": "2023-05-24T07:26:14.558Z"
      },
      {
        "duration": 316,
        "start_time": "2023-05-24T07:28:33.497Z"
      },
      {
        "duration": 793,
        "start_time": "2023-05-24T07:28:40.798Z"
      },
      {
        "duration": 1016,
        "start_time": "2023-05-24T07:28:41.593Z"
      },
      {
        "duration": 736,
        "start_time": "2023-05-24T07:29:11.814Z"
      },
      {
        "duration": 672,
        "start_time": "2023-05-24T07:29:12.557Z"
      },
      {
        "duration": 610,
        "start_time": "2023-05-24T07:29:23.249Z"
      },
      {
        "duration": 1225,
        "start_time": "2023-05-24T07:29:23.985Z"
      },
      {
        "duration": 675,
        "start_time": "2023-05-24T07:29:31.877Z"
      },
      {
        "duration": 933,
        "start_time": "2023-05-24T07:29:35.471Z"
      },
      {
        "duration": 206,
        "start_time": "2023-05-24T07:29:59.010Z"
      },
      {
        "duration": 428,
        "start_time": "2023-05-24T07:30:15.665Z"
      },
      {
        "duration": 928,
        "start_time": "2023-05-24T07:30:30.913Z"
      },
      {
        "duration": 1153,
        "start_time": "2023-05-24T07:30:31.842Z"
      },
      {
        "duration": 517,
        "start_time": "2023-05-24T07:30:41.793Z"
      },
      {
        "duration": 603,
        "start_time": "2023-05-24T07:30:47.279Z"
      },
      {
        "duration": 744,
        "start_time": "2023-05-24T07:30:49.400Z"
      },
      {
        "duration": 525,
        "start_time": "2023-05-24T07:30:58.555Z"
      },
      {
        "duration": 499,
        "start_time": "2023-05-24T07:31:21.555Z"
      },
      {
        "duration": 793,
        "start_time": "2023-05-24T07:31:31.369Z"
      },
      {
        "duration": 1553,
        "start_time": "2023-05-24T07:31:56.089Z"
      },
      {
        "duration": 208,
        "start_time": "2023-05-24T07:33:51.758Z"
      },
      {
        "duration": 513,
        "start_time": "2023-05-24T07:34:07.969Z"
      },
      {
        "duration": 519,
        "start_time": "2023-05-24T07:34:19.047Z"
      },
      {
        "duration": 1158,
        "start_time": "2023-05-24T07:34:20.537Z"
      },
      {
        "duration": 1159,
        "start_time": "2023-05-24T07:34:23.294Z"
      },
      {
        "duration": 410,
        "start_time": "2023-05-24T07:35:45.921Z"
      },
      {
        "duration": 1119,
        "start_time": "2023-05-24T07:37:53.345Z"
      },
      {
        "duration": 769,
        "start_time": "2023-05-24T07:38:09.579Z"
      },
      {
        "duration": 1517,
        "start_time": "2023-05-24T07:38:10.693Z"
      },
      {
        "duration": 747,
        "start_time": "2023-05-24T07:38:15.203Z"
      },
      {
        "duration": 138,
        "start_time": "2023-05-24T07:39:33.915Z"
      },
      {
        "duration": 630,
        "start_time": "2023-05-24T07:39:44.893Z"
      },
      {
        "duration": 1341,
        "start_time": "2023-05-24T07:39:46.353Z"
      },
      {
        "duration": 633,
        "start_time": "2023-05-24T07:39:48.797Z"
      },
      {
        "duration": 468,
        "start_time": "2023-05-24T08:12:05.113Z"
      },
      {
        "duration": 1017,
        "start_time": "2023-05-24T08:12:05.733Z"
      },
      {
        "duration": 506,
        "start_time": "2023-05-24T08:12:10.579Z"
      },
      {
        "duration": 637,
        "start_time": "2023-05-24T08:12:33.452Z"
      },
      {
        "duration": 0,
        "start_time": "2023-05-24T08:12:34.092Z"
      },
      {
        "duration": 102,
        "start_time": "2023-05-24T08:12:36.414Z"
      },
      {
        "duration": 407,
        "start_time": "2023-05-24T08:15:24.298Z"
      },
      {
        "duration": 6,
        "start_time": "2023-05-24T08:15:36.367Z"
      },
      {
        "duration": 4,
        "start_time": "2023-05-24T08:15:39.390Z"
      },
      {
        "duration": 538,
        "start_time": "2023-05-24T08:15:40.009Z"
      },
      {
        "duration": 4,
        "start_time": "2023-05-24T08:15:41.698Z"
      },
      {
        "duration": 1759,
        "start_time": "2023-05-24T08:15:44.865Z"
      },
      {
        "duration": 1628,
        "start_time": "2023-05-24T08:15:49.951Z"
      },
      {
        "duration": 125,
        "start_time": "2023-05-24T08:15:54.282Z"
      },
      {
        "duration": 3,
        "start_time": "2023-05-24T08:15:56.721Z"
      },
      {
        "duration": 581,
        "start_time": "2023-05-24T08:16:08.194Z"
      },
      {
        "duration": 1819,
        "start_time": "2023-05-24T08:16:33.168Z"
      },
      {
        "duration": 3,
        "start_time": "2023-05-24T08:16:58.789Z"
      },
      {
        "duration": 2108,
        "start_time": "2023-05-24T08:17:20.567Z"
      },
      {
        "duration": 669,
        "start_time": "2023-05-24T08:17:35.172Z"
      },
      {
        "duration": 1622,
        "start_time": "2023-05-24T08:17:35.927Z"
      },
      {
        "duration": 1472,
        "start_time": "2023-05-24T08:17:38.496Z"
      },
      {
        "duration": 3943,
        "start_time": "2023-05-24T08:19:10.155Z"
      },
      {
        "duration": 13,
        "start_time": "2023-05-24T08:19:21.190Z"
      },
      {
        "duration": 204,
        "start_time": "2023-05-24T08:19:29.153Z"
      },
      {
        "duration": 2297,
        "start_time": "2023-05-24T08:20:11.501Z"
      },
      {
        "duration": 1959,
        "start_time": "2023-05-24T08:20:33.313Z"
      },
      {
        "duration": 7,
        "start_time": "2023-05-24T08:20:42.343Z"
      },
      {
        "duration": 1495,
        "start_time": "2023-05-24T08:21:35.200Z"
      },
      {
        "duration": 12,
        "start_time": "2023-05-24T08:21:37.537Z"
      },
      {
        "duration": 291,
        "start_time": "2023-05-24T08:21:40.266Z"
      },
      {
        "duration": 8,
        "start_time": "2023-05-24T08:42:57.069Z"
      },
      {
        "duration": 7,
        "start_time": "2023-05-24T08:44:11.962Z"
      }
    ],
    "colab": {
      "provenance": []
    },
    "kernelspec": {
      "display_name": "Python 3 (ipykernel)",
      "language": "python",
      "name": "python3"
    },
    "language_info": {
      "codemirror_mode": {
        "name": "ipython",
        "version": 3
      },
      "file_extension": ".py",
      "mimetype": "text/x-python",
      "name": "python",
      "nbconvert_exporter": "python",
      "pygments_lexer": "ipython3",
      "version": "3.9.5"
    },
    "toc": {
      "base_numbering": 1,
      "nav_menu": {},
      "number_sections": true,
      "sideBar": true,
      "skip_h1_title": true,
      "title_cell": "Table of Contents",
      "title_sidebar": "Contents",
      "toc_cell": false,
      "toc_position": {},
      "toc_section_display": true,
      "toc_window_display": false
    }
  },
  "nbformat": 4,
  "nbformat_minor": 5
}