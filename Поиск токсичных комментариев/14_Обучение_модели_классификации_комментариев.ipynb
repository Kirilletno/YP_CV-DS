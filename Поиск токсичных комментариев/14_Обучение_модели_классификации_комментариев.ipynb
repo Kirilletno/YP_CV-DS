{
  "cells": [
    {
      "cell_type": "markdown",
      "metadata": {
        "id": "fujwo1-Ux2K7"
      },
      "source": [
        "# Обучение модели классификации комментариев"
      ]
    },
    {
      "cell_type": "markdown",
      "metadata": {
        "id": "uf7xaKaDx2K7"
      },
      "source": [
        "Интернет-магазин «Викишоп» запускает новый сервис. Теперь пользователи могут редактировать и дополнять описания товаров, как в вики-сообществах. То есть клиенты предлагают свои правки и комментируют изменения других. Магазину нужен инструмент, который будет искать токсичные комментарии и отправлять их на модерацию.\n",
        "\n",
        "\n",
        "Задача- обучить модель классифицировать комментарии на позитивные и негативные. В вашем распоряжении набор данных с разметкой о токсичности правок."
      ]
    },
    {
      "cell_type": "markdown",
      "metadata": {
        "id": "rv4nqKI3x2K7"
      },
      "source": [
        "## Подготовка"
      ]
    },
    {
      "cell_type": "code",
      "execution_count": null,
      "metadata": {
        "id": "sAGtFZw_x2K8",
        "outputId": "63901817-7268-4038-c694-c34e0445ad95"
      },
      "outputs": [
        {
          "name": "stdout",
          "output_type": "stream",
          "text": [
            "/bin/bash: {sys.executable}: command not found\r\n"
          ]
        }
      ],
      "source": [
        "!{sys.executable} -m pip install spacy\n",
        "import sys\n",
        "\n",
        "import spacy\n",
        "from tqdm.notebook import tqdm\n",
        "\n",
        "import pandas as pd\n",
        "import nltk\n",
        "import re\n",
        "import seaborn as sns\n",
        "import matplotlib.pyplot as plt\n",
        "\n",
        "from sklearn.feature_extraction.text import TfidfVectorizer\n",
        "from sklearn.feature_extraction.text import CountVectorizer\n",
        "\n",
        "from nltk.tokenize import word_tokenize\n",
        "from nltk.corpus import stopwords\n",
        "from nltk.stem import WordNetLemmatizer\n",
        "\n",
        "from sklearn.model_selection import GridSearchCV, train_test_split\n",
        "from sklearn.tree import DecisionTreeClassifier\n",
        "from sklearn.linear_model import LogisticRegression\n",
        "from catboost import CatBoostClassifier\n",
        "from sklearn.ensemble import RandomForestClassifier\n",
        "from sklearn.metrics import f1_score\n",
        "\n",
        "from sklearn import svm, datasets\n",
        "\n",
        "from sklearn.model_selection import cross_val_score\n",
        "from sklearn.pipeline import Pipeline"
      ]
    },
    {
      "cell_type": "markdown",
      "source": [
        "Загрузим полученные данные и считаем их"
      ],
      "metadata": {
        "id": "tEiiQdA7yF9g"
      }
    },
    {
      "cell_type": "code",
      "execution_count": null,
      "metadata": {
        "id": "iCRmHRjMx2K-",
        "outputId": "6e0c2a75-380e-411f-c481-1038fac22cb5"
      },
      "outputs": [
        {
          "name": "stdout",
          "output_type": "stream",
          "text": [
            "<class 'pandas.core.frame.DataFrame'>\n",
            "Int64Index: 159292 entries, 0 to 159450\n",
            "Data columns (total 2 columns):\n",
            " #   Column  Non-Null Count   Dtype \n",
            "---  ------  --------------   ----- \n",
            " 0   text    159292 non-null  object\n",
            " 1   toxic   159292 non-null  int64 \n",
            "dtypes: int64(1), object(1)\n",
            "memory usage: 3.6+ MB\n"
          ]
        }
      ],
      "source": [
        "df = pd.read_csv('/datasets/toxic_comments.csv', index_col=[0])\n",
        "df.head(5)\n",
        "df.info()"
      ]
    },
    {
      "cell_type": "code",
      "execution_count": null,
      "metadata": {
        "id": "6VQ0j-G3x2K_"
      },
      "outputs": [],
      "source": [
        "tqdm.pandas()\n",
        "\n",
        "load_model = spacy.load('en_core_web_sm')\n",
        "stop_words = set(stopwords.words('english'))\n",
        "\n",
        "\n",
        "def Lematizer_spacy(df, column, list_name):\n",
        "\n",
        "    for text in tqdm(df[column]):\n",
        "        cleaned_text = re.sub(\"[^a-zA-Z]\", \" \", text)\n",
        "        cleaned_text = re.sub(r'\\s+', ' ', cleaned_text)\n",
        "        tokens = word_tokenize(cleaned_text)\n",
        "        doc = load_model(cleaned_text)\n",
        "        filtered_tokens = [word for word in tokens if word.lower() not in stop_words]\n",
        "        result_text = \" \".join(filtered_tokens)\n",
        "        doc = load_model(result_text)\n",
        "        doc = \" \".join([token.lemma_ for token in doc])\n",
        "        list_name.append(doc)\n"
      ]
    },
    {
      "cell_type": "code",
      "execution_count": null,
      "metadata": {
        "colab": {
          "referenced_widgets": [
            "0be7ea1fbd9e462a9764121f342a88d4"
          ]
        },
        "id": "YwCMSflex2LA",
        "outputId": "c5bc4fd4-198e-4207-d374-604ed91e4315"
      },
      "outputs": [
        {
          "data": {
            "application/vnd.jupyter.widget-view+json": {
              "model_id": "0be7ea1fbd9e462a9764121f342a88d4",
              "version_major": 2,
              "version_minor": 0
            },
            "text/plain": [
              "  0%|          | 0/159292 [00:00<?, ?it/s]"
            ]
          },
          "metadata": {},
          "output_type": "display_data"
        }
      ],
      "source": [
        "new_text = []\n",
        "Lematizer_spacy(df, 'text', new_text)"
      ]
    },
    {
      "cell_type": "code",
      "execution_count": null,
      "metadata": {
        "id": "C98cBYazx2LA",
        "outputId": "f4ef4670-7af3-46e7-a070-d38c3d5d9b27"
      },
      "outputs": [
        {
          "data": {
            "text/plain": [
              "['explanation edit make username Hardcore Metallica Fan revert vandalism closure gas vote New York Dolls FAC please remove template talk page since retire',\n",
              " 'aww match background colour seemingly stick thank talk January UTC',\n",
              " 'hey man really try edit war guy constantly remove relevant information talk edit instead talk page seem care format actual info',\n",
              " 'make real suggestion improvement wonder section statistic later subsection type accident think reference may need tidy exact format ie date format etc later one else first preference format style reference want please let know appear backlog article review guess may delay reviewer turn list relevant form eg Wikipedia good article nomination transport',\n",
              " 'sir hero chance remember page',\n",
              " 'congratulation well use tool well talk',\n",
              " 'COCKSUCKER pis around work',\n",
              " 'vandalism Matt Shirvington article revert please ban',\n",
              " 'sorry word nonsense offensive anyway intending write anything article wow would jump vandalism merely request encyclopedic one use school reference selective breeding page almost stub point animal breed short messy article give info must someone around expertise eugenic',\n",
              " 'alignment subject contrary dulithgow',\n",
              " 'fair use rationale Image Wonju jpg thank upload Image Wonju jpg notice image page specifie image use fair use explanation rationale use Wikipedia article constitute fair use addition boilerplate fair use template must also write image description page specific explanation rationale use image article consistent fair use please go image description page edit include fair use rationale upload fair use medium consider check specify fair use rationale page find list image page edit clicking contribution link locate top Wikipedia page log select Image dropdown box note fair use image upload May lacking explanation delete one week upload describe criterion speedy deletion question please ask medium copyright question page thank talk contrib unspecified source image Wonju jpg thank upload Image Wonju jpg notice file description page currently specify create content copyright status unclear create file need specify owner copyright obtain website link website take together restatement website term use content usually sufficient information however copyright holder different website publisher copyright also acknowledge well add source please add proper copyright licensing tag file one already create take picture audio video tag use release GFDL believe medium meet criterion Wikipedia Fair use use tag one tag list Wikipedia Image copyright tag fair use see Wikipedia Image copyright tag full list copyright tag use upload file consider check specify source tag find list file upload follow link unsourced untagged image may delete one week tag describe criterion speedy deletion image copyright non free license per Wikipedia Fair use image delete hour question please ask Media copyright question page thank talk contrib',\n",
              " 'bbq man let discuss maybe phone',\n",
              " 'hey talk exclusive group WP TALIBANS good destroy self appoint purist GANG one ask question abt ANTI SOCIAL DESTRUCTIVE non contribution WP ask sityush clean behavior issue nonsensical warning',\n",
              " 'start throw accusation warning lets review edit make ad hominem attack go strengthen argument merely make look like abuse power admin edit relevant probably single talk event int news late absence notable since live ex president attend certainly notable dedicate aircracft carrier intend revert edit hope attract attention admin willing look issue throw accusation around quite liberally perhaps achieve level civility rational discussion topic resolve matter peacefully',\n",
              " 'oh girl start argument stick nose belong believe argument Yvesnimmo like say situation settle apologize thank',\n",
              " 'Juelz Santanas Age Juelz Santana year old come February th make Juelz turn make song diplomat third neff sign Cam label Roc Fella year old come single Santana Town yes bear really could old Lloyd Banks could birthday pass homie neff year old Juelz death god forbid thinking equal Go caculator stop change year birth god',\n",
              " 'bye look come think comme back Tosser',\n",
              " 'REDIRECT Talk Voydan Pop Georgiev Chernodrinski',\n",
              " 'Mitsurugi point make sense argue include Hindi Ryo Sakazaki page include information',\n",
              " 'mean bother see write something regard remove anything post oh well acctually discuss even well like ask take close look premature wrestling death catagory man list surely man belong together catagory anything think catagory besides delte',\n",
              " 'regard recent edit please read WP FILMPLOT edit film article edit simply good entirely many unnecessary detail bad write please stop damage',\n",
              " 'good know yeah study Deepu',\n",
              " 'snowflake always symmetrical Geometry state snowflake always six symmetric arm assertion simply true accord Kenneth Libbrecht rather unattractive irregular crystal far common variety http www caltech edu atomic snowcrystals myth myth htm perfection someone really need take look site get fact still see decent number falsity page forgive I m new do not want edit anything',\n",
              " 'Signpost September Read Signpost full single page Unsubscribe',\n",
              " 'consider st paragraph edit understand reason recent edit article sure datum necessarily wrong rather persuade strategy introduce academic honor first paragraph unhelpful approach specific subject note article sit Justices similarly enhance also believe change improvement support view edit revert would invite anyone visit article write follow pair jurist Benjamin Cardozo learn Hand B John Marshall Harlan B John Marshall Harlan II question become would current version Wikipedia article one either pair improved academic credential introductory paragraph think perhaps help repeat wry argument Kathleen Sullivan Stanford Law make suggest Harvard Law faculty wonder Antonin Scalia avoid learn other manage grasp process judging would hope anecdote gently illustrate point less humorous even strong argument one Clarence Thomas make mention want return law degree Yale minimum questioning edit deserve reconsider',\n",
              " 'radial symmetry several extinct lineage include Echinodermata bilateral Homostelea even asymmetrical Cothurnocystis Stylophora',\n",
              " 'need apologize Wikipedia article make reconcile knowledge subject different source do history study archaeology study guess could scan page e mail could ask someone translate page',\n",
              " 'yes mother child case Michael Jackson study motive reasoning judge upon character harshly Wacko Jacko tell ignore incriminate going continue refute bullshit Jayjg keep throw Jun UTC',\n",
              " 'ok take bit work quite picture example base duck',\n",
              " 'barnstar Real Life Barnstar let we star',\n",
              " 'could post block expire funny thing think uncivil',\n",
              " 'sure head Fight Freedom contain',\n",
              " 'praise look article month ago much improve',\n",
              " 'able post list quickly already text file hard drive meaning get around update sound list time far generate interest spend four year try drum interest freely license full length classical music unfortunately attempt fail still effectively one classical music wikiproject interested Wikipedia talk WikiProject classical music archive need help Wikipedia talk WikiProject Music Archive could use helpWikipedia talk WikiProject Music Archive Raulbot C music list really give try interest other sound list feature digg back http digg com music Wikipedia free classical music download get diggs imo impressive',\n",
              " 'well process thing subpage rfa list NoSeptember page find look September think difference El C sure surprised see block left note c',\n",
              " 'make straw man argument never claim Donohue position rather practitioner researcher field ignore DSM position exactly quote say also something Donohue agree combat notion absurd part claim pedophilia sexual orientation since many researcher hold position would unfair call absurd disorder part divide field argue disorder end day value judgment Cantor point early thread scientific judgement choose make value judgment article state clearly pretend scientific basis',\n",
              " 'Mainland Asia include low basin China Yangtze River well Korea specific fine find citation comprehensive dna study Hammer rather generarization speculation far Citation Yayoi culture bring Japan migrant Korea turn trace root southeast Asia south China DNA study Hammer Describes Yayoi migration Korea base SRY gene gene close lineage haplogroup Reiterates entire haplogroup propose southeast asian origin definition Southeast Asia include southern China hypothesize dispersal Neolithic farmer Southeast Asia also bring haplogroup lineage Korea eventually Japan conclude paragraph state propose Yayoi chromosome descend prehistoric farmer origin southeastern Asia perhaps go back origin agriculture region Hammer DNA study base global sample consist male asian population include six population sample across japanese archipelago',\n",
              " 'pretty much everyone warren county surround region bear glen falls hospital include however sure qualify anyone glen fall native rachel ray believe actually town lake luzerne precede unsigned comment add August UTC',\n",
              " 'hi explicit block fenian edit war Giant Causeway wp make several edit describe terrorism',\n",
              " 'notability Rurika Kasuga tag place Rurika Kasuga request speedily delete Wikipedia do article seem person group people band club company web content indicate subject notable article subject include Wikipedia criterion speedy deletion article assert notability may delete time please see guideline generally accept notable indicate subject article notable may contest tagging add top page exist db tag leave note article talk page explain position please remove speedy deletion tag hesitate add information article would confirm subject notability guideline guideline specific type article may want check criterion biography web site band company feel free leave note talk page question',\n",
              " 'sure lead must briefly summarize Armenia history simply add find necessary anyone think sentence redundant lead welcome remove make edit talk',\n",
              " 'TFD think eced think respond without see other response add something response know see mine C WP CHICAGO WP four',\n",
              " 'gay antisemmitian Archangel WHite Tiger Meow Greetingshhh uh two way erase comment WW holocaust brutally slay Jews gay Gypsys Slavs anyone anti semitian shave head bald go skinhead meeting doubt word Bible homosexuality deadly sin make pentagram tatoo forehead go satanistic masse gay pal first last warning fuck gay appreciate nazi shwain would write page wish talk anymore Beware Dark Side',\n",
              " 'FUCK FILTHY mother ASS DRY',\n",
              " 'sorry sorry screw around someone talk page bad know template talk page help assert dominance know bow almighty administrator going go play outside mom',\n",
              " 'believe Lisak criticism present conform NPV rule Lisak neutral point view begin offer polygraph even concern review polygraph result shock complainant thinking lie uncover recantation still perfectly valid know tell truth argue machine investigator also part Kanin research followup recant story possible verify false recantation followup recant version event match accuse say happen Arguing Lisak respect PHD baseless Kanin respected PHD agree edit neutral possible though apologize still something must do',\n",
              " 'point ammende appropriate encyclopedic notability significance',\n",
              " 'word lazy actually point anything change approach tag go',\n",
              " 'claim stalk absolute rubbish serve aggravate situation assume good faith good intention part never suggest see reason suggest might ulterior motive mass adding link one specific company web page matter ever make suggestion administrative matter even mention role clearly party disagreement would rate would conflict interest would ask thus extend good faith toward rather make spurious unfounded accusation chatspy',\n",
              " 'Jmabel regard predominant scholary consensus allegedly claim despite Third Way rhetoric fascism power function rather consistently right wing force far aware own numerous book subject scholary consensus consensus develop respected scholar fascism write manner bias interest group Roger Griffin Hamish McDonald Roger Eatwell Zeev Sternhell recongise fascism Third Way reference show dissenter aware seem think fascism absoutely leftist connection merely radical right system street level socialist want put much distance movement possible course come educate people position write book example even foremost scholary expert Fascism former member Communist Party Socialist Party Italy Renzo De Felice try cover socialistic origin third way status man write definitive seven volume piece Mussolini',\n",
              " 'BI say want talk bottom lead section write promoter speculate skyhook concept could cost competitive realistically think achievable use space elevator skyhook competitive rotate tether concept addition rotate skyhook fact deem engineeringly feasible use presently available material regard addition rotate skyhook fact deem engineeringly feasible use presently available material statement appear come Ref page full quote mass tether alone start exceed times mass payload indication particular scenario consider engineeringly feasible use presently available material although application might become feasible near future well material become available high tensile strength high operational temperature go say shall see presently available commercial material suffice make HASTOL tether need primary message want leave Reader need magic material like Buckminster Fuller carbon nanotube make space tether facility HASTOL system exist material would appear misread reference tether mass times mass payload mass upper limit problem Systems tether mass less times payload mass build presently available commercial material reinforce Conclusion report state fundamental conclusion phase HASTOL study effort concept technically feasible evaluate number alternate system configuration allow hypersonic air breathing vehicle technology combine orbit spinning space tether technology provide method move payload surface Earth Earth orbit one HASTOL architecture concept develop design solution use exist near term technology expect number HASTOL architecture concept prove similarly technically feasible subject detailed design study system completely reusable potential drastically reduce cost Earth orbit space access regard skyhook competitive rotate tether concept Boeing report possibillity combine skyhook hypersonic plane conclude general non spinning tether HyperSkyhook concept look competitive spinning tether concept full quote HyperSkyhook Zubrin propose Hypersonic Skyhook solution mismatch attainable atmospheric speed hypersonic airplane orbital speed space tether since orbital speed space tether decrease increase altitu',\n",
              " 'get fucked get FUCKEEED get DRINK cant PUT get fuck get fucked fucked right',\n",
              " 'threaten dispute neutrality know country quite common bully way discussion push outcome want Russia',\n",
              " 'thank Undeletion hope research status Texas government include local government copyright status slow go apparently work Florida government usually public domain similar article Texas guess research old fashioned non lazy actually reliable way ask copyright help desk like suggest meantime use fair use rationale since valid image use article thank',\n",
              " 'Awesome simply disregard notice thank',\n",
              " 'stupid peace shit stop delete stuff asshole go die fall hole go hell',\n",
              " 'Tony Sidaway obviously fistfuckee love arm ass',\n",
              " 'GA Review II sorry say fail article GAN several major problem bring article previous GA assessment issue say article WP LEAD long history medium attention Academics Student Government Demographics Trivia Additional Information section deficient citiation also Triva additional information integrate rest article please look WP WIAGA fix problem renominate GA class however assess article b class meet b class criterion regard',\n",
              " 'Band Page deletion think go delete comment post talk page delete feeling hasty decision delete page sir still cock suck douche fuck sit back second think life become do take long nope certainly aware life shitstorm sit front computer masturbate fictional creature attempt get rid mediocre well constantly suck dick failure want personal attack huh well bad Fuckcock McDickerson get one go ahead delete profile wikipedia make another one come right back syrthiss talk page insult dick could shatter dream innocent eighteen year old college freshman try make name band make happy fucking people overweight single old man dead end job spot perhaps someone else go follow dream trying hold back somebody else could suffer like yes make empty threat say anything along line hurt eat child within sister womb say asshole son bitch mother fucking cock sucker go eat food drown sorrow premature ejaculate bald head fuck something nice maybe go grab couple Horny Goat Weeds local convenience store jack little long three minute tonight sincerely Asshole Better every way',\n",
              " 'believe fat Artie see recent appearence Tonight Show Jay Leno look absolutely AWFUL put money say Artie Lange miss candidate dead pool kindly keep malicious finger comment everytime remove repost',\n",
              " 'lock page would also violate WP NEWBIES whether like conservative Wikipedians',\n",
              " 'Bisexual like homosexual heterosexual define sexual activity much like year old boy attract girl sexually never sex still straight person actually sexually attract arouse sex well opposite sex bisexual',\n",
              " 'REDIRECT Talk Frank Herbert Mason',\n",
              " 'christian arab hi could please stop enforce category christian arab non arabic Christians live middle east wrong middle eastern Christians though arab go Arabization need stop arab ethnicity force call christian arabs Christian European bear middle east call Christian arab reason alone please understand Syriac Christians e assyrian ancestry speak Aramaic though lot forget someone speak Aramaic respect fact appease muslims want call everyone arabs middle east closely relate arabs Saudiarabia ethnicity please stop force upon we alien arab ethnicity oppression Talk Jun UTC',\n",
              " 'dh Dude ABC officially say name episode know already episode name ABC say everybody say',\n",
              " 'edit good Cunts like revert good edit stupid understand write well revert edit decide bear playground grudge problem maybe one day realise damage noble project',\n",
              " 'NeilN bang harass edit disruptively get revert talk',\n",
              " 'go around time certainly case time later stop take child young age',\n",
              " 'must chemical imbalance brain ok gibberish guy write really make feel sorry ever go law school would legal profession bad',\n",
              " 'parzival try scare ThAtSo say comment ThAtSo insult ThAtSo try suggest original research Wikipedia right',\n",
              " 'oppose article stand properly reference WP REFERENCE guideline issue resolve issue move mainspace',\n",
              " 'would appreciate apology see unlikely please waste time long attempt trying justify either Plasma Physics transgression toward bother long issue shall leave alone seek other deserve considerate attention',\n",
              " 'original research point episode',\n",
              " 'ambiguous Mabuska irish mean one thing qoute thank precede unsigned comment add course word irish invent establishment Irish Free State Talk Quote want depend context term use whether applicable Note say citizenship ethnicity never mention nationality real key meaning nationality mean term predominantly use form Wikipedia nationality term refer Republic Ireland already know sure talk nationality term refer Republic Ireland country nationality term refer Ireland precede unsigned comment add oh wow Ireland Ireland state whose official description Republic Ireland what s point inane conversation talk Ireland whose official name Ireland precede unsigned comment add http www constitution ie report ConstitutionofIreland pdf reading also see http www constitution ie report mbunreachtnaheireann pdf speak precede unsigned comment add',\n",
              " 'magazine masthead say TIME corporate name Time Inc easily look hand ABN AMRO always corporate name look well',\n",
              " 'take belate piffle prevarication elsewhere late',\n",
              " 'look look like around dick talk page though nothing bad though look like inability express properly thank concern also cheer',\n",
              " 'direction really necessary name US state recognize give number state American encyclopedia universal one see every single US state recognize name ix',\n",
              " 'December UTC must play Metal Gear Solid often GW Arsenal Gear go haywire Solid Snake upload Emma virus',\n",
              " 'hi back last warning stop undo edit die',\n",
              " 'minimization textile effluent propose deletion template add article Minimization textile effluent suggesting delete accord propose deletion process contribution appreciated article may satisfy Wikipedia criteria inclusion deletion notice explain see also Wikipedia Wikipedia deletion policy may prevent proposed deletion remove notice please explain disagree propose deletion edit summary talk page also please consider improve article address issue raise even though remove deletion notice prevent deletion propose deletion process article may still delete match speedy deletion criterion send Articles Deletion may delete consensus delete reach agree deletion article person make substantial edit page please add top Minimization textile effluent',\n",
              " 'scientific attribute event cause b cause b deliberate design sort intelligent intent answer question beyond well problem answer beyond example completely rig several major fundamental problem first completely fail mention fact intelligence behind ID quite literally earth natural science might look honeycomb see build bee find odd look fossilize honeycomb theorize make odd look bee fundamentally different saying make something earth ID core notion something outside system observe cause science sense word mythology Paul Bunyan wrestling match babe blue ox kick much dirt create great lake evidence paul ox remain mean really second natural science take approach knowledge nothing know scientific law unless irrefutable Theories must heavy support empirical datum back ID turn head end run around knowledge play game probability one say flagella bacteria could form naturally hell ID proponent come sort mathematically accurate PROBABILITY flagella naturally form bacteria understand statistic ID jump right hurdle take anything complete detailed natural explanation jam statistic say well improbable happen someone must design perversion science assign probability something understand ID make number finally example B B deliberate design well good rigged example except respect life earth b unknown b example might qualify forensic science dead body b bullet heart see bunch dead body bullet heart next time see body bullet heart probably figure kill life earth one scenario case observe test sense b scientific never actually observe b btw b teh intelligent designer never observe sense science',\n",
              " 'Screwjob hey notice comment Montreal Screwjob discussion page decide since nobody except someone account object say would atleast change page little make fair wanted tell thought would like know change word top first paragraph add something second one bother that s fine thought since fight nothing even say might aswell tell',\n",
              " 'April thank experiment page Andy Griffith Wikipedia test work revert remove please use sandbox test want take look welcome page would like learn contribute encyclopedia',\n",
              " 'Christ IQ select therefore every population iq never cease amaze',\n",
              " 'prove well knowledge english language would obvious',\n",
              " 'would shut run wikipedia especially stupid kid',\n",
              " 'oh vandalise xd see greeting',\n",
              " 'website hey think get website display picture cheap thing could find know other Fir Diliff guy website think legit could provide well alternative help guild member also appreciate thank talk',\n",
              " 'thank read',\n",
              " 'personal attack Fruit Brute vfd apology critical feel many comment make Fruit Brute vfd debate far reasonable diplomatic way disagree assertion initial sentence lie make look even juvenile Learn face goof go long way life attack age certainly border personal attack Bart forty sixty eighty would include comment juvenile expect apologise anyone want make clear consider comment VfD debate inappropriate think many member community would agree talk Feb UTC',\n",
              " 'transliteration russian place name write Moscow Metro Malayalam Wikipedia find difficult correctly transliterate russian place name example pronounce Park Kultury PAARK KALTTARI PAARK KALCHCHARI perhaps something completely different somebody please help transliterate list give https ml wikipedia org wiki putting list want clutter page thank',\n",
              " 'almost got look see real talk',\n",
              " 'one defame someone think Fort Hood Shooting justify God law',\n",
              " 'LACK balance article seriously balance would benefit greatly introduction additional information negative aspect record sort balance problem uncommon dependence work particular author example testing evaluation US Army Ordnance Dept expose serious problem tank type information include article bring back balance',\n",
              " 'thank see violate clearly state Wikipedia policy problem people review elsewhere finish one wiki project todsy spend rest day important personal blog entry go find discussion James Petras fascinating discussion use term jewish Lobby put back delete Dissident Voice article right away per talk jewish lobby WP v compare jewish Virtual Library Dissident Voice Carol Moore talk',\n",
              " 'hi thank kind word see around talk',\n",
              " 'collusion poker regard heinous form cheating poker perhaps mention example warrant',\n",
              " 'thank much however resolve today write anything edit summary CAMERA put ad edit summary box equalvoice talk',\n",
              " 'right get username able impact say seem familiar everything probably username get one take second talk contrib',\n",
              " 'however moonlite edit note golden daph optus Wake wikki funny',\n",
              " 'check follow website http www iranchamber com personality farabi farabi php http www islam org br C al farabi htm http www superbeyin com sohbet sohbet htm',\n",
              " 'believe one already put page Dilbert Desktop Games',\n",
              " 'well ask provide diff within one hour next edit make edit talk page provide diff request within one hour edit sanction fail provide request diff timely manner week still do consequently request lift sanction deny',\n",
              " 'page shoudld important character reoccur Void Black Doom Mephiles etc',\n",
              " 'pair jew hate weiner nazi schmuck',\n",
              " 'tend think list long rest article problem either history characteristic expand list cull personally like consensus reach Tripel article other include decide country origin highlight example Trappist Abbey Foreign Foreign include non Belgium example way article article encyclopedia list People find list anywhere article reference also style statistic bad say style statistic sound like prescription description encyclopedia follow latter former use citation follow find valid one style country origin',\n",
              " 'religiously politically motivate push issue please refrain talking page interested otherwise feel free talk relevant edit science deleet talk would prefer follow user never post Maunus aunus snun w WeijiBaikeBianji guy publish psychology researcher right perhaps know access library good source point often come across mind bendingly condescend also suspect editor racist See wiki',\n",
              " 'vandalize fun man sense humor think vandalize stuff lemonparty org site',\n",
              " 'welcome Wikipedia bla Discover Ekopedia practical encyclopedia alternative life technique bla Discover Ekopedia practical encyclopedia alternative life technique',\n",
              " 'include appropriate mention Solomon article without level support',\n",
              " 'comment could verify claim talk',\n",
              " 'Czech Republic Central Europe state article part reason people make confusion especially ridiculous would replace mention North Caucasus favor north slope Caucasus Mountains be not even geographical area denote mountain region Countries locate within continent yet reason refuse allow article denote continent single factor alone would make massive difference reader tired argue people essentially wiki squatter refuse nudge give article',\n",
              " 'thank Josette enjoy meet shocked decision begin reflect consensus one Grand Poobah make alone serve right stealing time press real world duty indulge fun hobby learn lesson waste time like stick fix little thing run across read article information',\n",
              " 'paleontologist agree organic remain must bury quickly preserve long enough come fossilize however term fossilize precise term several factor metamorphic mineral process occur organic remain result typically call fossil one major factor concern kind organism fossilize vertebrate invertebrate radiolarians sponge plant pollen foot print etc multiple process may include permineralization recrystalization carbonization replacement dissolve diagenesis etc talk fossilization complex issue however quick burial question major question long take process work organic reamin environment find experimental taphonomy result assortment remain becoming fossilize various process lab course implies give right condition vast age issue metamorphic process ongoing equilibrium meet chemical enviroument burial site mineral organic remain Flood catastrophic geologist expect organic remain bury flood completely fossilize within one year period flood rather year process work much work need do taphonomy organic remain yet one interpret even result depend upon world view choose believe',\n",
              " 'also think Vegetable Basket need Wikipedia page',\n",
              " 'Bigfoot Reference magazine well know Engineering Mining Journal may difficult time find depend live run across article year ago research something else make copy clearly derive press account treat incident joke whole point cite show incident whatever entirely create year fact leave email scan page email PDF',\n",
              " 'also see can not trust Murkoth Ramunni http book google com book i d HHev U GfpEC pg PA dq Thiyya matrilineal hl en sa x ei TlpPUd ah mwiqlgvidgba ve cdyq aewaq v onepage q Thiyya matrilineal f false',\n",
              " 'chart performance Single Ladies Put Ring please take advice split paragraph section fa generally short paragraph hard boring ingest much information splitting paragraph improve flow TALK',\n",
              " 'hahahaha good one remove',\n",
              " 'say temporarily remove request base Cyde advice pende request consensus ask talk page urge anyone read vote know community want',\n",
              " 'conformity healthy may miss article seem address conformity healthy behaviour way conform grammar understand conform law recognise need orderly society',\n",
              " 'hi new wikipedia Read pandemic today impressed quality information knowledge easily available elsewhere easily accessible format thank create content make accessible',\n",
              " 'say something view educationalist socialist political commentator Link http www langandlit ualberta can fall SteigelBainbridge html mention bit stand election candidate respect',\n",
              " 'Sandbox take template sandbox say remove reason Jan UTC',\n",
              " 'heh bit copy Wikipedia WikiProject Professional wrestling think look bit tidy well way',\n",
              " 'Ahh hello Witzeman Symbols Characters Greek Cyrillic IPA Famous Article witze happiness wikipedia Witzeman great honour pass generation many family regardless race age character knowledge outside world know little elusive character honour Witzeman ever Witzeman say great honour although quality need job never disclose person may witzeman many year call former Witzemans via dreams Associates Witzeman know certain Babe Cool much lesser know Witzewoman Present Witzeman year old boy namely Benjamin Woods say become Witzeman feel awesome radiance top right bumcheek tell great number people testimony promise year come history present world come enlightne knowledge Witzeman present year former Witzemen public honour abide formality conservativism time term Witzeman compound word adjective Witze man witze th century term person extreme humour radiant intelligence Unfortuneatly Witze also sometimes associate bad wind unspeakable reason proper History early th century witzeman consider outcast young child encourage poke stick lead st Witzeman Rebellion current Witzeman follower attempt coup take local Council chess team rebellion disgrace Witzeman follower embarassingly pronounce gaga Government meeting year period early dark time Witzemans history however good time come Witzeman many normal people take part mass demonstration protest Witzeman build great moment history Great Rebellion several Witzeman sprint round visitor Gallery House Commons wear clown mask otherwise completely naked thought act circambulation however many people witness shocking behaviour mentally spiritually emotionallly scarred life group people include many young child force go asylums state mental instability suffer trauma time Government finally take positive action Witzeman bill right Witzeman sign state Witzemen allow pleased although formal agreement many journalist view letter submission Government Witzeman behaviour Witzeman follower become twisted',\n",
              " 'ok finish plan cleanup todo page entry remove copy investigated entry page record look talk',\n",
              " 'Dec NIST scientist say collapse tower magnitude seismically significant see Dr Wood Scientific Method Applied Thermite Hypothesis paper tripod site mp link',\n",
              " 'statement draw Watchtower literature honestly clandescently hypocrisy draw Watchtower literature via Ray Franz argument literature impose Wikipedia article much coincidence less follower Ray Franz going come reference Wa literature exactly connection Ray Franz make without first see connection make Ray Franz literature Natural Nature',\n",
              " 'sorry check come Dulas Bay somehow miss Dulas disambiguation page completely Apologies even get particularly late night onset swine flu perhaps',\n",
              " 'TCM find evidence acupressure TCM rather derive TCM one object place citation note article',\n",
              " 'well still need expansion area citation other image going get pic Stanley Cup banner tonight Hitmen game forget camera thorough review copy edit someone well flair word work progress lute',\n",
              " 'redirect somewhere hurt though still think candidate ideal pass notability threshold day basic material still work',\n",
              " 'Meivazhi go restart Meivazhi article style standard Wikipedia article someone would probably delete pretty quickly stay form post grateful could help talk Meivazhi accuracy unfortunately remove link conflict interest guideline advise editor link site also Wikipedia attribution policy WP ATT require information come third party publish source rather personal website know good newspaper book account Meivazhi PS salaimanimudi indlist com site personal site member',\n",
              " 'though certainly small article inconsequential warrant subsume within Flame Trees article discography article stand alone May',\n",
              " 'yeah let merge content sure Devil Canyon type codename',\n",
              " 'image yourtransitad jpg think may able get well photo ad able okay use replace current one want check first anything',\n",
              " 'cookie cookie',\n",
              " 'LMAO n b go listen manele',\n",
              " 'December UTC Yep LOL Reformist Party Serbia Reformist Party another go th last parliamentary election win less vote notable actually mention way something little people figure new Constitution Serbia bring enable Kosovo secession Constitution bar possibility Kumanovo Military Technical Agreement sign NATO FRY SRS break coalition SPS government collapse cause new election unconstitutional act high treason enough try maximum sentence radical demand death trial Serbia try treason among reason constitution release authority weight go prison recognize form loss sovereignty Kosovo',\n",
              " 'New WikiProject Novels initiative begin new initiative WikiProject Novels improvement drive member list notify please see Wikipedia talk WikiProject Novels Improvement Drive Wikipedia WikiProject Novels Collaboration detail also would like remind keep eye project talk page Wikipedia talk WikiProject Novels thank',\n",
              " 'reply facetious would relay message Jza MRSC word stern there s would like evidence claim make talk glad provide also fail provide diff message regard word claim offesive perhaps WP assume good faith two user constantly harass follow article make disruptive edit violation numerous Wikipedia guideline WP HARASS one example removal third party reference article suit POV without enter edit summary consider Wikipedia guideline bad faith violation WP BLANK violation WP NEO add derogatory neologism article organisation personally agree despite make aware policy despite reference say organisation describe say neologislm despite community majority constantly remove derogatory term tag team practise show use numerous editor edit article british culture trad county would like evidence ask would seem however look message talkpage especially lovely intertude UK mediation section Jza message somebody seem familiar violation wp CANVAS specifically section Wikipedia CANVAS Campaigning may interest go admin may suggest please make familiar policy guideline reference message rather accuse user cyberstalke personal attack systematic bias acceptable make sure policy uphold chip sake friend thank',\n",
              " 'p polite talk people behind back please remove comment Mrph talk page Vaughan right go check previous edit find page Marvel site spell Vaughn find many spell correctly thank edit',\n",
              " 'block hi wonder confirm Darren Jolly contestant Block thank',\n",
              " 'opinion please Pt II SRQ continue make personal remark say may assume help WP RFC U also believe violate rr rule today Edit war one accurate word ridiculous edit war general let make stop may also ask wrong honest statement make talk page mean hasty refactoring appreciate assistance welcome question btw pivotal accurate well reference entry become peacock understanding refer unneceessary editorialize precise vital info sequence event thank',\n",
              " 'Azari Azerbaijani Azari iranian azerbaijani turkic nation',\n",
              " 'Userbox hello userbox use Template User queerright move user space per WP GUS new link leave question may still talk page thank',\n",
              " 'actually take time little bit research Bloodofox instead jump perceive avenue pursue vendetta realise would colleague Kiyoweap probability kelpie water horse uisge different term use different place entity challenge Kiyoweap produce something decent uisge guarantee unable Corbett',\n",
              " 'see editor eric elephant room issue bait poke bear whatever hell want call passive aggressive baiting one want touch one even though uncivil hell appear tactic choice whenever someone wants get rid someone get way part sadden darkness',\n",
              " 'Socialistm two important feature Smith concept invisible hand First Smith advocate social policy people act self interest rather describe observed economic reality people act interest Second Smith claim self interest beneficial effect community argue self interest always good merely argue view self interest necessarily bad worth note upon death Smith leave much personal wealth charity Good let make sure put forth idea Adam Smith socialist wikipedia way',\n",
              " 'SORRY PUCK one ever SAID DICK NUMBER one clearly list second Batman master detective martial artist train mention combat discpline need mention skill ability battle lose that s encylopia suppose also problem go low end showing high end showing prove match meta like Slade pin Shiva one early appearence',\n",
              " 'alpha version multiplayer Beta version',\n",
              " 'PD see apart article coat arm Sahrawi Arab Democratic Republic also different article name Coat arm Western Sahara show clearly user politically drive intention bad faith although claim neutral neutral logically would work coat arm Western Sahara article intead try merge two article mess',\n",
              " 'treat forum question arose appropriately answer end story',\n",
              " 'military history WikiProject Newsletter Issue II April issue project newsletter may read issue change format future issue deliver follow link thank',\n",
              " 'unblock submission response less minute prove administrator pay enough attention case',\n",
              " 'request unblock grant follow reason allow username change GianLuigiPalermo please put request Wikipedia change username soon possible avoid block request handle unblock administrator please check active autoblock user accept unblock request',\n",
              " 'respond MileMoney reasoning edit give reasoning edit yes absolutely relevant page place discussion income inequality Progressive Tax article',\n",
              " 'unblock get lawyer BLOCKING CONSTITUTIONAL right FREE SPEECH',\n",
              " 'attribute classify personality invitation input Culture Lithuania welcome problem define personality attribute certain well know ideological system may raise propose quite liberal variant definition may connect one certain word Necessity however follow certain classify remain initial idea branch one concern period Lithuanian national Renaissance period artist writer cultural worker period often describe modernist definition false concrete thing add specific Lithuania distinguish lead idea Nat Renaissance later modernism know we cultural aspiration later Nat Ren may define modernism cultural context Lithuania accent also expression Lithuanian cultural heritage expression may see something simply typically lithuanian mean author iurlioni see modernist lithuanian context also even representative lithuanian culture European World wide context parallel example may take literature India Poet Tagore well know Nobel price winner know we representative culture India make India understandable close western people concern main input western culture country see modernist change traditional cultural form especially stagnate one way also lithuanian cultural leader N Ren could see modernist broaden cultural form change stagnate one lithuanian context also see modernist wide context acquaint western people lithuanian culture direct input western culture iurlioni good example way later lithuanian modernist depend mostly late generation approximately th decade th century concerned part western modernistic movement main purpose look generally introduce western european idea lithuanian cultural life see table see two different movement two different world outlook problem movement collaborate especially political wing interchange idea well see many researcher pay attention difference especially soviet period national idea officially forbid mixture description movement allow e g philosopher ram na Bytautas clearly depend first generation often describe liberal may understand sense second generation idea liberalism period generation artist writer philosopher etc context Lithuania european context National Renaissance period young generation approx painter composer iurlionis painter Kazys imonis poet philosopher Vilius Storastas Vyd na dramatist Sofija Kymantait iurlionien poet Adomas Jak ta motieju Gustaitis Liudas Gira composer Stasys imku philosoph ram na Bytautas reformer innovator lithuanian culture Representatives lithuanian culture almost unknown period WWI WWII post war year poet v mykolaitis Putinas Kazys Binkis writer Ignas einius Jurk nas artist ar group philosopher Juozas Girnius Modernists introduce new western idea lithuanian cultural life central european modernism note Lists personality complete make precisely prominence Jul UTC',\n",
              " 'actually direct quote quotation mark attribute generally know plagiarism copyright infringement NYT material issue well know material Jewish Action Taskforce problem',\n",
              " 'Katelyn Faber could weigh bottom talk Page Katelyn Faber regard inclusion image Template User Totalbox thank revert Esperanza Newsletter Issue style border space px margin px px width class MainPageBG style width border px solid cef e background color f fffa vertical align top color Reach outReach program aim allow user bring issue Wikipedia listen sympathetic care audience one know feel say expect get understand ask one dispute sometimes life issue much one person fair say sometimes Wikipedia problem fall head place bring bruise sometimes get project attention stress AlertsThe Stress alert program aim identify user stress alert community thier stress work tandem stressbuster trying identify cause stress eliminate note editorwelcome new format Esperanza Newsletter come last Advisory Council meeting hope like major change month right Council meeting send include two feature program sum meeting also sign Advisory Council member esperanzial end March everyone class MainPageBG style width border px solid cedff background color f faff vertical align top width cellpadding cellspace style vertical align top background color f faff last AC meet full log style color future meeting hold monthly fortnightly Bans Access level change apart autovoice IRC channel report new log IRC channel go one bot time charter require member edit week editing case clarify new Code Conduct draft propose Esperanza community NPA reform idea drop officially charter ammendment discuss future vote Advisory Council go propose expand Advisory Council other want propose listen',\n",
              " 'fradulent claim certainly sockpuppet TheChief please retract fradulent claim',\n",
              " 'quick limit discussion change title consider previous discussion month valid reason move',\n",
              " 'July UTC p feel free leave message talk page need help anything simply wish say hello',\n",
              " 'course Peiser social anthropologist one whose recent research focus primarily social aspect climate change thus least qualified comment state consensus historian regard study publish peer review journal result appear many reliable source effect treat differently Peiser scientist verbally relay conclusion directly reporter literally ten thousand Wiki article contain reference direct quote scientist appear source medium reputable reporter',\n",
              " 'hi hi good day deep apology make change make change day day line straight one straight line big bright high star sky head clock strike exactly noon day date provide beautiful thing ever see know many thing need prove know see day okay black white prove need sincere apology trouble cause south east Asia Asia come traditional chinese family pleasant day',\n",
              " 'fire moronic wimp lazy research make sick people like exist world',\n",
              " 'look like violate WP NPA pretty minor point two content conflict try Mediation Cabal way generally easy sign type stop IRC channel want advice way talk',\n",
              " 'pat head KC one dedicated Wikipedians know madly love give Barnstar end chew bury instead let offer metaphorical pat head Pup see around tropic',\n",
              " 'note Sandbox right place experment thank',\n",
              " 'frieser opinion simple guess kursk turn point german retreat think he s correct russians personnel improved skill glantz combination force german retreat loss problem battle kursk tank infantry strenght favor german week kursk german tank strenghter high kursk zetterle',\n",
              " 'oh know thank',\n",
              " 'Lois Roisman piece Lois Roisman omit much background everything death update please review anything want add',\n",
              " 'know sex foetus',\n",
              " 'think Fagget get oife burn Hell hate sorry can not sex running conndom',\n",
              " 'May',\n",
              " 'sorry link give dead format harvnb plz help matter',\n",
              " 'REPLY loser UN define Vietnam part Southeast Asia far know Vietnam part ASEAN use part French Indochina Laos shit country Anyway culture always influence SEA Han chinese proper Yangtze Han chinese fringe indigenous tribe Guangzhou Guangxi admit vietnamese bunch wannabe crap people east asian people speak think Vietnam integral part SEA think backward dirty speak horrible swearing language matter crap spout Wikipedia change way people real world think',\n",
              " 'August wow understand sentance add crucial really change content community get small cause automobile sourced statement ask fact information help inform people forester fall large seemingly peice information article bridge span time present usfullness edit criterion use determine revert note simply add information remove removal frivilous unwarranted problem insist absence statement unjustifiable negligible add information factual b source C informative assume since reason remove first place Wiki Nazis relax concerned useless edit please see edit fom th know carry great infallable Mindmatrix imho first useless change',\n",
              " 'stupid fuck mother cunt stink',\n",
              " 'ETA John Haynes House sarekofvulcan talk',\n",
              " 'new userbox tabtab i d TABTAB i d c White TABTAB info user faggot tabtab info c LightBlue TABTAB border c black tabtab usercategory LGBT Wikipedians tabtab nocat tabtab tabtab tabtab template automatically categorize user LGBT',\n",
              " 'December UTC Mendel talk change Mendel refer Conspiracy section use',\n",
              " 'please vandalize page edit Budweiser Anheuser Busch continue block editing echo',\n",
              " 'correct Dead dead however leve wound hence emphasis serious POV adjective',\n",
              " 'fix pic anyone still feel move do voices',\n",
              " 'George W Bush approval rating graph http upload wikimedia org wikipedia common George W Bush approval rating event svg circle September th attack look far right think could update data point post omit',\n",
              " 'sorry interrupt edit first likely page ask help much maybe maybe less still kind count Amulet',\n",
              " 'absolutely use word strongly mislead even like structure nothing mastaba burial chamber basicly Mastaba definition entran ceinner space structure one solid pile rock inner space entrance ment wall fragment',\n",
              " 'noticed neutrality article dispute light ask post invitation discuss whether neutrality achieve delete highly relevant relatively urgent bear mind rule emergency Wikipedia time convergence Truth achieve',\n",
              " 'editor care explanation accompany reliable publish source could explain thought dog eat cat would get reception provide source stop edit war present source talk',\n",
              " 'Mitch move Yggdrasill idea',\n",
              " 'sockpuppet impersonator two sockpuppet impersonator account include',\n",
              " 'oh also film name three variation thereof list disambig page wonder MAKES MUCH sense apologize advance certain individual sensitive hear truth',\n",
              " 'review request hi like request KLM GA class review anyone seem many similar stuff GA Kenya Airways Ethiopian Airlines cheer breaksfixe',\n",
              " 'propose transcribed n article anything brief mention raise TRAP MOUTH pre nasal environment would suffice think american thing raise nasal often hear aussie quite bit well hear english people difference Americans tendency diphthongize well raise really surprised broad accent wikipedian say possible right kind think aloud',\n",
              " 'homosexual intent legitimize behavior therefore seize opportunity suggest famous person gay way way life receive harmless perfectly normal generation people grow childhood maturity expose strategy increasingly develop tolerance homosexuality way almost universally accept diverse alternate behavior way similar religion race nationality Lestrade',\n",
              " 'Al Messier article non notable biography accord criterion set WP BIO aeropagitica',\n",
              " 'Link Sacramento place wikipedia link article word Sacramento appear another editor appear stalk revert everything claim overlinke read policy think understand disagree word Sacramento link anywhere else article make link think link provide good context reader know Walnut Creek think maybe know Sacramento anything wrong link would like someone objective give opinion',\n",
              " 'blatant POV push neither guy make contribution italian history article shove unhistorical unconstructive modern POV face HISTORY article HISTORY hear reason many people get piss pedantry idiocy triviality Wikipedia J sus Get f cke life',\n",
              " 'reliable source indicate otherwise please insert personal analysis article talk',\n",
              " 'research thank much relevance article think may reseacrh WP EL amke sure realise fact link delete willing agree people official site therefore shall delete game site otehrs',\n",
              " 'totallydisputed notice would probably appropriate give depth disagreement exist understand highlighting statement identify dubious would constitute disfigure article SlimVirgin also use wording recently rather think inaccurate irrelevant information disfigurement template notice answer second question side bring forward proposal side yet respond sadly consistent recent pattern delay make comment whether deliberate strategy',\n",
              " 'abuse nothing threat extremely disrespectful rule Wikipedia ever do try improve quality Wikipedia article maintain standard quality treat like vandal register muck article account block administrator',\n",
              " 'give permanat block raseac remember Muslims do not worry image trying hurt we can not look image fake nothing Islam prophet even article lame wikipedia authentic source encyclopedia kid authenticity anyone edit write whatever think like raeasc see know Islam talk forget wiki lame authenticity recommend add piss christ jessus article',\n",
              " 'invite hi still time write article fundamental romani culture society would permit normal presentation beyond stereotype hope near future manage last discussion manage organize well Category Romani people country Category Romani people occupation create article Romani person',\n",
              " 'ask question recall maybe would make less troubled account',\n",
              " 'say consensus ever reach revert edit',\n",
              " 'FIND difficult CONTROL emotion still feel Mr Logy Wogy bad',\n",
              " 'fuck block faggot pussy',\n",
              " 'attack another editor try make point easy edit Wikipedia piece George Orwell page prove point common place Wikipedians help make well lot less bias edit try mind please could remove warning',\n",
              " 'please see ref article mention Wikipedia Youngest Patent holder India Moreover mention news late book real life hero provide notable reliable reference feel dna group reliable notable reference page exist Wikipedia really believe ever ever provide information article bad intention word sock meatpuppet ask suggest anything edit write free man send information free person analyse Wikipedia ref article mention Wikipedia Youngest Patent holder India subject speak bad word word verbatim book review repeat India young patent holder youngest disabled patent holder world claim Bhati supporter push fail reliable source discourage people send information relevant reliable notable',\n",
              " 'Randroide answer Next Step guy see take step Wikipedia Requests mediation job always connect filter institutional net access follow step could result new undesired controversial truncation word software want happenne could please follow instruction link provide Thank Randroide answer new reference Burgas last agree something course new section good idea false suicidal terrorist PRISA also include Come oooooon boy start write section want kudo new propose article effort make remember NPOV source source like cite El Pa section doubt genuineness th bomb cheer indeed good point remark cope moral certitude Mariano Rajoy publish El Mundo agree Larean Randroide omit mention section th bomb add balance reference insist original version create entirely POV much rest propose article also source add El Pais available subscriber NPOV right Southofwatford Randroide omit section subscription El Pa sorry problem institutional access also advantage like pay access El Pa many many publication book one reason exclusive use filter internet accesss much easy work due easy availability source see truncation word offsett think well source btw write Randroide answer section invading space mind really risk new truncation message avoid please write OUTSIDE Randroide answer section think propose article POV work make NPOV article mine take risk truncating reply put short issue whether subscribe El Pa whether people read article English Wikipedia subscribe source use accessible reader article put source reader able see claim article NPOV mind completely unreasonable source use accessible reader article funny Southofwatford go follow joke please propose also deletion book source know always someone without book Delete reference tv radio station user Brazil tv radio home Delete reference spanish know user know spanish pleasure read kind funny joke really good laugh User Southofwatford strange find funny source provide enable user find information source deliberately choose source require user pay see information funny simply bizarre equally English Wikipedia would argue choose spanish foreign language source equally valid source exist English make sense except perhaps busy laugh cynicism evident response',\n",
              " 'hence remove content nature suitable wikipedia proscribe WP perhaps one sister project wikia',\n",
              " 'pirate incident remove statenment really relate episode much plus kinda topic',\n",
              " 'check http www cla purdue edu blackmon cs critical html bio',\n",
              " 'kill nigger hard other say include racist sometimes say',\n",
              " 'New User Hello Gogo Dodo new user wikipedia want ask new page could remove deletion list new page Kaburst still lot want think reason consider start like wiktionary yeah give time make well thank',\n",
              " 'regard edit make December UTC Jos Mourinho Thank experiment Wikipedia test work revert remove please use sandbox test may want take look welcome page learn contribute encyclopedia ip address share multiple user ignore warn make unconstructive edit',\n",
              " 'December hello welcome although everyone welcome contribute least one recent edit one make smoke bomb edit appear constructive revert remove Thank',\n",
              " 'wrong although block occasion never block Sockpuppetry Vandalism dispute multiple topic various sock user Hkelkar user VandalPetrol permabanne never use account permit edit get account delete say indeffed Blast',\n",
              " 'delete personal attack',\n",
              " 'please please continue tell really think',\n",
              " 'important message block live mess make Parker v District Columbia Wikipedia rise level sophisticated Blog Controversy section belong first place fact non expert issue warning indicate Wikipedia become sandbox idiot sorry polite long short',\n",
              " 'move talk page',\n",
              " 'well see consensus form show indeed POv bad judgement part thank comment anyway coldplay Exp rt let talk',\n",
              " 'http www user bigpond com MONTDALE page html Heritage village macedonian Sources claim village pure Slavic',\n",
              " 'organization sub topic Culture throw way towards end economy tourism inappropriate information section unnecessarily load history detailed geography make uninteresting also repetitive information intersperse sub section without regard whether fit Eg Geography section start fact th large state strictly geography belong introduction climate belong towards latter part page perhaps toursim Regions city interesting combination case Cities Uttar Pradesh interesting topic several interesting city region speciality like copperware moradabad ceramic Khurja carpet Bhadohi fact remember use information article',\n",
              " 'know answer legally possible private citizen violate another private citizen civil right know section Nelson charge federal case anyone could explain would appreciate argue whether outcome state murder trial justify really concern since dead letter concern whether subsequent civil right prosecution legal state murder acquittal miscarriage justice first time Look Issei Sagawa Part mature understand sort thing realize criminal justice system perfect inevitable innocent people convict guilty people acquit time time price pay legal system end someone make decision sometimes may necessarily get right think go limb say Sagawa case completely beyond reasonable belief',\n",
              " 'Burn Deck guy burn deck like think blrude awakening Leviathan motherfucker',\n",
              " 'decese group member see article band member name sollowe decease what s wrong witht little extra information people already know surely main reason article exist first place even whole wikipedia site exist bad add word people name long we factual non opinionative slate anyway',\n",
              " 'Fatima bint Asad notice add large chunk article recently could post source webpage book etc would really helpful thank July UTC',\n",
              " 'add information Mayor de Blasio announce decision Charter Schools someone remove factual information say reference factual reference tired add information reference successful correctly add race sexuality Chirlane McCray someone person remove factual information provide Charter Schools incredibly rude stated vandalism report description consider negative decide revert Chirlane McCray Wikipedia site word black prefer african American mention six time sexuality mention assertion reference approve Wikipedia site Chirlane McCray important writing problem',\n",
              " 'please stop add nonsense Wikipedia consider vandalism would like experiment use sandbox thank',\n",
              " 'well use user page tell meyour going to remove piss drive nut also make personal ttack Jimmy wale say bit greedy do not think get million dollar already ask',\n",
              " 'think would offer advise aswell Wikipedia Edit warring argue Wikipedia Administrators may also remind three revert rule',\n",
              " 'u r tw fuck u gay boy U r smelly Fuck ur mum poopie',\n",
              " 'also expressly guideline sneak disallow link discussion section Froman do YouTube propaganda link evidence throughout page rule seem apply Froman go whole hog add Feith main page plenty unencyclopedic source admin seem problem link anonymous left wing blog whatever care use seem fair game Froman',\n",
              " 'deletion Account Ok Blueboy Editing L G NG L disable Blueboy follow reason come back hour block pick right back judge history likely get call attention topic resolve matter address moderator delete Wikipedia history item moderator BorgQueen edit Cuisine Hawaii simply provocation nothing reknowne Chef Pacific Rim Cuisine Cuisine Hawaii Cuisine Hawaii local plate lunch like say cuisine Mexico Frozen Burritos Cuisine Canada Starbucks pastrie Cuisine America McDonald Slanderous Vicious Spiteful main point admin question DELETE history resolve problem address tried discuss user directly account LOCKED USER OPEN DISCUSSION DDEBATE ADMIN suffer GOD COMPLEX lovcked even editing page hence reason wait UNBANNED POST leve back BECOME CORRUPT ADMIN FODDER BACK AON TOPIC page thius matter resolved borgqueen subjegate discrimination hazing personal VENDETTAS likely get eh buddy listen delete User page account wiki grommet go lock keep name content profile facade Wikipedia good delete grommet',\n",
              " 'listas Sabina Bavaria',\n",
              " 'bad Redirect please remove redirect X c page aircraft distinctly different design builder mission etc restore aircraft unique content page',\n",
              " 'info thank enter article error correct would nice simply cut pasted text Clear Lake article',\n",
              " 'name Troy Tedford Troy Telford look orginal Discharge paper right also orginal purple heart olc man war hero big World War ever Historian history degree recieve Dec ATU',\n",
              " 'interesting note aircraft land airfield Hawaii',\n",
              " 'thank fix exquisite picture',\n",
              " 'would like clamp',\n",
              " 'man also create new word even modern language already establish',\n",
              " 'history conveniently contrib thank explanation big deal upset second post wave sneer grow thick skin finger waggle profanity treat insensate piece internet polemic rather fellow human attempting give honest account account Mackensen promptly remove say well understand try contribute workshop bad idea first place run full tilt Tony Sidaway managing avoid IRC whole month immeasureable improvement quality life anyway always see somebody stand underdog remember praise addition edit Harassment guideline sad see mutuality respect talk',\n",
              " 'type soap box',\n",
              " 'yes indeed replace second one summary Women right talk',\n",
              " 'anyone text search see article rely mainly one source publisher fact grand total two citation reference publisher pure fact issue number item part library',\n",
              " 'Gore response anybody find Gore response Bush malaprop Gore inventor darn thing club silly one',\n",
              " 'pls give reply yes',\n",
              " 'neither two add cite support assertion misconception Hyphens dash glyph remain unsourced near tell one person make claim despite claim consensus unsourced material get removed wiki policy give month find source reword entry reflect source actually say restore citation need tag source day entry remove',\n",
              " 'short summary reference essential FAQs organization notice also disclose association Frank userpage thank make work know come lot easy question review article feel free leave message send email Cheers sonia',\n",
              " 'information already report Fair minded talk refusal allow relevant information factual post obviously bias party inappropriate representative Wikipedia',\n",
              " 'File SeanKilpatrick jpg File ConnorBarwinCincy png',\n",
              " 'r Pat',\n",
              " 'thank copy edit OMG read professional appreciate lot yeah know would problem okay back story Danny body paint robot sketch party theme black light one everybody could see Danny still paint wash something sure Jack black light switch apartment Liz come turn result Liz paint see whatever say make sense read paint still Danny black light attack yeah think maybe people see GA note leave message though work user leave message regard article review work future make well still get chance see see need know happen stuff well get news lose start watch dvd telling never see wrestle move cry sad night Raw lose cry whatever think cool Shawn mind really still see face like quality think play Randy like Triple h know good crowd still heel ish maybe cause new people heel need face know speak Randy today birthday turn well remember first punt victim Shawn nice see Cody storyline nici welcome Danielson Miz guess hit',\n",
              " 'width style background transparent width style background color style width border px solid background color vertical align top hello Lceliku welcome Wikipedia please remember sign name talk page click use four tilde automatically produce username date also please good always fill edit summary field useful link facilitate involvement happy edit width style background color style width border background color vertical align top get start introduction five pillar Wikipedia edit page intuitive guide Wikipedia Finding way around table content department directory editing article develop article Manual Style style width border background color vertical align top width cellpadding style vertical align top background color get help style color frequently ask question cheatsheet ask question help page new contributor help page Article Wizard Wizard help create article',\n",
              " 'know get big supporter x file like see almost every episode mention Mulder father Scull baby watch carefully William Mulder son frequently reference final episode top head Guard thinking Mulder son mother Scully son Mulder give son afraid could never forgive mention meaningful look Mulder Scully give officiator hearing ask Agent Scully true Mulder lover get pregnant love child',\n",
              " 'Citation R f Saumur v City Quebec C R Endorsement Rosemary decaire',\n",
              " 'education please keep list college Pittsburgh list college Pittsburgh familar area edit list Greensburg Washington McCandless California Pittsburgh please offend enforce also Pittsburgh mailing address mean school Pittsburgh address extend far place minute ride away thank',\n",
              " 'find way put cite page back throught',\n",
              " 'descendant Otman Baba trough Mehmed Ali Karako Sunni Muslim Alevis',\n",
              " 'could clarify want start RFC see one list page history Talk Rasmussen report',\n",
              " 'atheism full bias shit',\n",
              " 'beat want say good work beat revert Ned Kelly article always enjoy know someone else hunt vandal Happy Hunting Cheers pro',\n",
              " 'remove link reference use health study say reduced use MMR vaccine Waldorf kid few allergy section immunization WTF would data whole California count private public Waldorf school California Personal Belief Exemption rate kindergarten class regardless official position assert would article official position lie order Waldorf education appear like complete cult Waldorf student grossly vaccinate fact article',\n",
              " 'thank take deep breath go intro tomorrow identify source phrase London border show boundary contest footnote clarified diaspora section justify statement reference Victoria History article West Ham East Ham hopefully struggle justification without substantially change outcome previous discussion move onto standardise reference probably section section',\n",
              " 'german Article day Dear Jimbo german wikipedia proud present article day http de wikipedia org wiki Wikipedia Hauptseite really thrill really amazing worth glimpse http de wikipedia org wiki Fremdk C b rper Anus und Rektum might improve german reading lot learn sincerly',\n",
              " 'agree like aready state peripheral main article nevertheless important merely underlienes mythomania propagate side interest historical reality Dab actually analyze situation rather offerre usual smart alec remark Lontech arguement shoot piece summarily everytime happen engage tangential irrational behaviour Commonsense tell long last state kingdom Dardania Roman time allow intro paragraph read like KLA recruit web site',\n",
              " 'find one sort anyhow web site JewsForLife org loading article catholic source going remove erroneous sentence hindsight would great minor content issue could resolve reference first place',\n",
              " 'provide plenty reference material yet provide none writing Chamar section come source verifiable yet provide none one eccentric IDIOLOGY still provide VERIFIABLE source show RAMDASIA chamar different Chamars take weaving know RAMDASIA simple google search RAMDASIA chamar provide countless link bal',\n",
              " 'block evade IP block guy',\n",
              " 'see number citation pubmed',\n",
              " 'hey spread misconception trying spread false information people even know battle lose cheap person earth bloody ignorant fool check source spread rumor',\n",
              " 'add admin consider block hour user Sarek vulcan week ago background that s relevant learned lesson Pax talk',\n",
              " 'change Username usurpation request request still Progress Mb Mmitra hi request Change Username use usurpation Mb Mmitra almost day date request still show progress would like know much time take complete request long would take complete please reply soon possible thank link Mb Mmitra',\n",
              " 'UTC December',\n",
              " 'otherwise POV look flemish linguistic case',\n",
              " 'yes mainspring use clock well please feel free bold help improve article',\n",
              " 'get normal term use german politician way get',\n",
              " 'keep original title Xbox although additional like like XBOX X box redirect article',\n",
              " 'let know crawl arsis Dick Laurent dead',\n",
              " 'problem people keep try state BSAs policy policy say homosexual scout member state otherwise lie contraversy page allow state lie add list thing misinterpretation rule thing like try say scout scouting need sure scouting actually say even misinterpretation rule need source editor might misinterprete rule mean anyone mainstream find source somewhere homosexual youth remove program openly homosexual youth insert unless actual policy BSA say openly homosexual youth member add',\n",
              " 'level message hello thank experiment Wikipedia test work revert remove please use sandbox test may wish encourage also take look welcome page learn contribute encyclopedia thank interest Wikipedia',\n",
              " 'focusse science moment leading revolution',\n",
              " 'another question style information strip occur whenever shape edit less intrusive edit move shape around even highlight select shape Inkscape make unusable even mess inkscape',\n",
              " 'Article Ed Morrissey Hi move article Ed Morrissey Captain Quarters Ed Morrissey start bring date would able take look please fix defect spot thank CWC',\n",
              " 'see run around several TALK page accuse several other EDIT wars please go prove else first one block moreover prove POV defeat go around make accusation good way communist',\n",
              " 'yes receive confirmation e mail username e mail address password Uuuh',\n",
              " 'currently block edit unable add tag however take picture',\n",
              " 'user worthless goddamn faggot fuck faggot',\n",
              " 'unsourced aesthetic opinion therefore violate WP WP NPOV',\n",
              " 'Image Popclassic jpg tag Image Popclassic jpg provide fair use rationale believe image acceptable fair use accord Wikipedia policy please provide rationale explain much accordance fair use rationale guideline image description page please also consider use one tag list Wikipedia Image copyright tag fair use thank man',\n",
              " 'Fuck administrator authority tell',\n",
              " 'adorably disingenuous',\n",
              " 'well ridiculous fact suspect Calton please block do nt care',\n",
              " 'Orangemike Time move collateral target suggest User FisherQueen girl protect',\n",
              " 'Windows Phone upgradeability hi Gregory revert change Windows phone article neither Microsoft partner make official statement whether device run Windows Phone upgradeable Windows Phone reference give another user blog rely Hearsay',\n",
              " 'btw whatever decision adminstration wish take remember block harsh give first violation since joined wikipedia',\n",
              " 'try objective possible treat author head someone first tongue English think davy borderline notable article spend hour google davy early today find nothing except translate lot stuff well do lot stuff life even borderline notable small field nothing warrant article especially one precisley nothing link like one Frankly hope author make notable respond gentlemanly politesse help',\n",
              " 'shiny thing Brilliant Idea Barnstar actively seek every possible way help user especially honestly think would work hereby award c',\n",
              " 'make change engineering article',\n",
              " 'thank apologize comment like know understand position Nov UTC',\n",
              " 'appearance historical fiction young Richard Steele appear character William Makepeace Thackeray novel Henry Esmond appropriate mention article reckon',\n",
              " 'CU Scibaby waste time CUing Scibaby account WP DUCK indef blocking sight cu request make reference politic know talk',\n",
              " 'per WP AE block indefinitely persistent disruption project include vandalism disruptive editing sock puppetry per Wikipedia Requests arbitration Macedonia Discretionary sanction believe block unjustified please request one normal manner talk',\n",
              " 'sure work article Arcayne fine two seem problem seek edit xenotalk',\n",
              " 'Fuck Fuck award go fuck',\n",
              " 'sorry edit conflict glad able salvage edit question structuring yes think think way divide article section subsection also intro may need flesh confront reader technical term like dendrite axon look Smithfarm Apr UTC cool Happy hear still article also research extend talk contr Apr UTC',\n",
              " 'February UTC Comment proposal change something someone add request move banner section clearly one',\n",
              " 'good Clans Runescape Gladiatorz good clan rs year Clan British Elites Damage Inc average clan',\n",
              " 'even know begin reply talk',\n",
              " 'please vandalize page edit Hyperopia continue block edit fisto',\n",
              " 'keep eye one care ok People put want clean want one care God freakin stupid Omnigan',\n",
              " 'episode list keep episode list reference',\n",
              " 'next hour',\n",
              " 'rant presently witness open war croatian Dinaric culture Croatian leave often portray culture primitive rural even fashist service conservative HDZ party croatian writer Predrag Raos instance perform gusle instrument Zagreb several occasion year one intention ridicule instrument rich poetic tradition another apostle Croatian leave Miljenko Jergovi refer political opponent right gusle player even claim serbian origin Croatian Dinaric culture follow line traditional great serbian propagabda tokavian people culture Serbian however Croatian Dinaric folklore rich gusle heritage primarly Croatian Dalmatian costal region historically associate culture example first write document popular folk hero traditional gusle music Marko Kraljevi associate Dalmatian island Hvar Petar Hektorovi book Ribanje ribarsko prigovaranje also first historical document mention gusle player instrument originate Dubrovnik even contemporary croatian writer bear Dubrovnik Stijepo Mijovi Ko tell we story uncle also Dubrovnik area could memorize numerous gusle song Stijepo Mijovi Ko Gusle Glasnik may p Dubrovnik also home Anica Begin bear Kalafatovi daughter famous gusle player Ante although illiterate able recite heart immense number gusle song record antology croatian folk poetry far Dubrovnik another coastal city Makarska also bastion croatian gusle music actually region could consider Capital croatian gusle player Mediterranean area also give birth Andrija Ka Mio th century catholic priest view father gusle player Croatia beyond honour Ka work Ivan trovi famous croatian sculptor build sculpture America show Ka priestly clothe play gusle instrument addition Ka Makarska Littoral produce great many follower croatian gusle music accord dr fra Karlo Juri quote work croatian folklorist Stipan Banovi Zaostrog alone produce great number gusle player start Stipan Kosovi Kudri culminate know Mate Banovi Trli Dalmatian woman play gusle consider male activity yet actively involve spread gusle music imitate sound Olinko Delorko researcher Dalmatian folk poetry state book Ljuba Ivanova Dalmatian folk poetry collection obtain woman especially one island Hvar Zadar Littoral also witness strong gusle tradition English writer Maude Holbach travel Zadar region first decade th century state book Dalmatia Land East meet West gusle national instrument region Dinaric dance take place market certain festival picturesque interesting worth go long way see survival ancient custom probably unique Europe p admiration dinaric folk music particularly gusle see Dalmatian Litteral Hinterland Matija Murko researcher literary music form report trip Dalmatia see child barely three year old play gusle Eduard Osrede ki Hrvatske narodne juna ke pjesme eljezno p let take look name Dalmatian sport club organization Hajduk Junak Gusar Alkar Uskok sinjska alka etc common course name refer heroic gusle tradition region mind one wonder proud croatian heritage become almost extinct gusle player today result unavoidable urbanization modern croatian society peasant culture consider inferior global rock n roll culture tamburitza music Northern Croatia gain wide acceptance croatian establishment dinaric counterpart gusle music look upon suspicion open hatre',\n",
              " 'total population million match e sum reference populationsbelow infoboximage Infobox',\n",
              " 'convict felon',\n",
              " 'MATT HARDY FUCKY italic text Media example ogg MATT HARDY FUCKY',\n",
              " 'lol censorship really disappoint NPOV core policy talk contrib',\n",
              " 'mfd nomination Wikipedia try good Wikipedia try good page substantially contribute nominated deletion opinion matter welcome please participate discussion add comment Wikipedia Miscellany deletion Wikipedia try well please sure sign comment four tilde free edit content Wikipedia try good discussion remove miscellany deletion template top page removal end deletion discussion thank contribution talk',\n",
              " 'REDIRECT Talk List South Carolina Stingrays season',\n",
              " 'care block myspace pulse music board would concern',\n",
              " 'http www theatlantic com entertainment archive linsanity internet make jeremy lin star less week source explain star',\n",
              " 'God dead mean startle anyone God dead worry anymore think would let everyone know well goodbye good luck newfound crisis faith',\n",
              " 'hello back Bongwarrior user page attack minute',\n",
              " 'always request page protection detect miss errant template see administrator correct',\n",
              " 'unsure stage clear wording actually discuss',\n",
              " 'Marvin Kitman Make Laugh appear exist citation much early history laugh track appear exist publication Channels Communication exist three journal database search',\n",
              " 'see reference claim moron source POV time reduce Pashtun nationalist POVs Wiki give order uncle cousin execution Pashtuns entire northern Afghanistan Gardez Jalalabad Lashkargah Logar Paghman Laghman Kunduz Herat Farah whereever immigrant descandant violent Kuchis settle take non Pashtun land away traditional Tajik country',\n",
              " 'rfa question simply curious question intend submit talk',\n",
              " 'say irrigiation structure exactly mean live irrigate block use overhead sprinker far near channel Thye look throughout Sunraysia get little spare time grab shot though think get far Dareton Got request talk',\n",
              " 'wiil last use ACOUNT PLEASE DELETE',\n",
              " 'RR Violation PatrickFlaherty User user PatrickFlaherty revert sourced post also violate RR Raila Odinga',\n",
              " 'be not really attack regard Lisa Williams article Hmpzzz know Lisa see dead people psychic power know see future Send Lisa Williams Finland lock jail scam artist',\n",
              " 'yes definite value document scientific Instrument Module believe belong Service module sector subsection really payload actually part spacecraft service interrupt flow plan move Apollo Program Mission type section think really belong edit sector subsection improve wording flow bit',\n",
              " 'thank Hei William Hope fan guess back new IP ready vandalize everything regard William Hope sh stop maybe delay stop let salute William Hope lunacy shove p nis mouth',\n",
              " 'yes quite persistent create article new user go get lose discussion c',\n",
              " 'Fuck User Bohemian Shinobis yeah right bitch piece shit',\n",
              " 'yes look much well top page say article need additional citation verification may britannica encyclopedia could help add citation dunno cheer',\n",
              " 'okay give another whirl via email worst come bad e get reply soon always use new account ignore way keep stalk tie busy chase around rather try delete content take care',\n",
              " 'north Eastern Region Jharkhand Wiki say North Eastern Region Jharkhand Angika region however official language these s district Jharkhand Angika Hindi Santali confuse need clarification come district Jharkhand official language Hindi Santali could Angika region district would Angika region official language Angika',\n",
              " 'vote Campbell Case primary reason russian Treaties baldwin careful emphasise treaty substance objection Standfordham write King October see Mr Baldwin reply question want turn Government say yes Campbell issue russian Treaties country generally condemn see alternative dissolution always expect wish though oppose hasten government fall true House Commons Baldwin stricture base Campbell case Newcastle October congratulate MacDonald agreement achieve conference London Dawes Plan reparation spend rest speech alternately pour scorn Labour party subservience extremist tear piece russian agreement final debate October mean parliamentary occasion two day meet something suave qui puet Cabinet decide take vote confidence prefer go Campbell case defeat russian treaty might give left wing much prominence Middlemas Barnes p',\n",
              " 'jayjg stop spin public relation tactic',\n",
              " 'quote Bryant talk popular secondary creator literally paragraph talk',\n",
              " 'future Perfect Sunrise',\n",
              " 'general outside source exceed inside source entire section without reference enough lede refer dire need would generally see top Look APO article idea speak group',\n",
              " 'rather feeble premise argue show excessive number photo prominently show different woman vagina compare one human male penis way page equivalent article male genitalia demonstrate overwhelming male bias editorial content Wikipedia',\n",
              " 'okay try delete offensive sentence begin Mr Irving socalle holocaust denier say acknowledge many jews kill war however go along million jews kill figure reckon number lower really come David right question anything relate history WW speciality actually make live question critically examine source also decide delete account loose court case David launch several libel case libel damage English Sunday Newspaper fact time lose something figure head cv many people also find extraordinary judge deside person belief hold',\n",
              " 'make bold that s well lemmey talk',\n",
              " 'father start take Melfalan nearly half year health condition good consult doctor',\n",
              " 'pretty sure incident already include know handle riot',\n",
              " 'afraid break link',\n",
              " 'ok maybe want comment talk page interestig know',\n",
              " 'oppose find hard believe require RFC wikiworld',\n",
              " 'history someone provide information regard contract AC service area AC Transit use serve city corridor city basically kick AC Transit run service part reason AC Transit serve suburb spend money underutilize service urban area history reflect article talk',\n",
              " 'please create elephant nonsense page talk',\n",
              " 'precede undated comment add talk contrib care WIKINEWS even consider Dr Rafizadeh expert interview hin https en wikinews org wiki Wikinews interview Scott Lucas Eyal Zisser Majid Rafizadeh risk US military intervention Syria simply care care even publish CNN NYT quote CNN New York Times like http www cnn com opinion iran rouhani syria rafizadeh index html http globalpublicsquare blog cnn com job key middle east revolutionary wave http edition cnn com world meast syria shiites matter even BBC World service make bio http www bbc co uk programmes p gsjfk dos matter CNN France International write family member kill http www france com en syria majid rafizadeh kidnap family targette civil war shabiha opposition bashar assad talk contrib never change opinion talk always right also do not care publish almost national international outlet include scholarly academic work like https scholar google com scholar hl en q majid rafizadeh btnG sdt c sdtp talk right jewish right never change opinion whatever evidence show',\n",
              " 'ok dear notice absent Wikipedia day uncharacteristic hope ill please accept good wish want see fine regard',\n",
              " 'Congratulations Third May reach FA still April thank input',\n",
              " 'Paula White Joel Osteen Marbled Cat other image correctly retrive information give image necessary even give full permission use wikipedia mcelite',\n",
              " 'success phenomenon go back least year day Sousa Johann Strauss however look Article Milestones section see survive few four deletion discussion require credible source fancruft remove sight andemu',\n",
              " 'hate topic hate hate person mean like person hate turn love',\n",
              " 'page tried create actual page lol BANNED nothing',\n",
              " 'report thank make report Wikipedia Administrator intervention vandalism report remove vandalism vital function Wikipedia user encourage revert warn report vandalism however administrator generally able block user receive recent final warning one mention user may block recently vandalize warning give report user yet block appear occur yet user continue vandalize even final warning please report AIV noticeboard Thank talk',\n",
              " 'NPOV please stop add related moroccan issue Sahrawi article try look neutral revert edition clear POV push',\n",
              " 'upgrade Human Language Families wikicolor png Human Language Families wikicolor file',\n",
              " 'kitten good person',\n",
              " 'ok peer view month publish academic archive line DiVA permanent URI urn nbn se kau diva Wallin H p investigation friction graph rank ability regard gall phenomenon dry SOFS contact adhesive material transfer friction free pdf document available www diva portal org find www uppsok libris kb se use search word gall Harald Wallin direct libris link',\n",
              " 'POV push faustian insert article UPA cooperation Jews extensive enough accord former head Office Counter Soviet Disinformation USIA soviet propaganda work complain zionist membership UPA seem complete POV muddy water picture UPA organisation friendly Jews instead organisation collaborate Germans exterminate jewish people',\n",
              " 'REDIRECT Talk Voice within album',\n",
              " 'WP BLP Violations remove another revert place defamatory uncited material Cherokee Freedmen Controversy WP coi may apply since seem edit african american relate article Freedmen controversie dishonest edit summary top',\n",
              " 'anderthal anderthal discription quran anybody think',\n",
              " 'discussion first outdoor tree electric light strange kid obscure town NC think make much sense especially since sentence immediately precede establish city electrically light outdoor Christmas tree early year th century article cite North Carolina town read carefully really state tradition outdoor light tree SPECIFIC TOWN begin town claim first place tree old enough around though small boy tell neighbor Southern California light outdoor tree prior one think remarkable unusual history questionable say least',\n",
              " 'come next feel like get past dispute stage would say someone post request page unprotection move new version might also mention admin merge naked short sell workshop keep page history later tonight really matter talk',\n",
              " 'REDIRECT Talk Best Apocalypse',\n",
              " 'drop think leave little feedback feature picture always put main page note WP POTD example semi nude Michele Merkin use find cheesy Wikipedia Picture day unused note several picture use depict much gore scatological nature feature picture rating essentially indicate community feel image high quality high encyclopedic value side note POTD seem thank take trace Pink Oboe',\n",
              " 'source list NY Mag CBS News Fox News interview Leighton speak subject directly Teen Vogue US Weekly tv Guide interview article San Francisco Gate newspaper town Leighton grow Naples Daily news consider reliable source problem want find source valid reliable newspaper magazine everything valid source remove story life Wikipedia encyclopedia fact post FACT',\n",
              " 'reason presence template base inconclusiveness user page presence template contest',\n",
              " 'Ho ho ho Merry Christmas shoulda know Piccirilli Brothers actiually execute Ward pediment sculpture Stock Exchange Happy Christmas Carptrash',\n",
              " 'see reference add note see note name republic',\n",
              " 'hey Jim Good see around right consensus tend towards delete clear delete two Times India source one source Times India visible search engine would like list afd might prefer message',\n",
              " 'mere fellow editor problem since seem let power admin go head issue please read remain talk page need example moderator popular internet discussion board would never ignore valid question user',\n",
              " 'going to help we log want talk talk page',\n",
              " 'look great Mar UTC',\n",
              " 'April UTC Wikipedia Colours much thank fix improve table code reason maybe add info find value common css style embed highly repetitively know way around mediawiki ask everywhere css guru clean redundancy Main Page wikicode like do not enough already eh many project minion',\n",
              " 'dear Mokele right tell people die fire ip address use vandilism mean talk people like fact big loser person block',\n",
              " 'new message last change notice result User Arkyan User Avraham target website result editorial dispute whether include Theodore Roosevelt view US political corruption Unholy Alliance page e unholy alliance phrase use platform Progressive Party United States write unholy alliance concept elaborate upon autobiography recent edit may review Special Contributions Arkyan Special Contributions Avraham revert appropriate',\n",
              " 'Peter Roman one place remove Argentinian Chap Prophecy part replace information place coat arm question e mail tarcisio Pietro Evasio Bertone incharge Vatican February March thus Prophesy St Malachi fulfil',\n",
              " 'RfC pretty much blow respect try demand give adminship position simple AfDs invalid file fix mistake',\n",
              " 'delete material complie WP policy accord POV interpretation Wiki BADASS Woo U',\n",
              " 'revert edit',\n",
              " 'canonicity general involve long discussion talk Stargate device whether Stargate movie thing Stargate series Centrx arguing discuss Stargate one article deceitful think argument valid course look stuff web discover fan movie apparently consider SG serie somehow illegitimate non canon familiar Stargate fan community show feel comfortable add discussion directly article anyone know detail widespread apparent schism Jul UTC',\n",
              " 'capitalization please stop change low case common noun upper case company Company WP MOSCAPS note Wikipedia avoid unnecessary capitalization proper noun first word sentence capitalize much yack',\n",
              " 'see claim three http onlinelibrary wiley com doi mepo full ss reliable source',\n",
              " 'community manager first conflict interest edit second power say explicitly site release date otherwise despite may position incompatible Wikipedia policy swatjester Son Defender',\n",
              " 'please vandalize page edit boiling point elevation continue block editing',\n",
              " 'rant policy hi think reformat User Shanes tag evil vandalism protection tag least idea sort proposal reformat multiple distract protection tag less distract corner icon example redirect well probably move later former case corner icon work beautifully much less distract clicking follow page explain lock fully agree large box text distract unnecessary especially true non user Wikipedia user read article probably constitute majority Wikipedia reader probably care edit article would concern may confuse tag article content thank',\n",
              " 'hi Collectonian obviously appropriate agree warning give Vicenarian',\n",
              " 'request future please sign tag photography workshop page bot currently e precede unsigned comment add',\n",
              " 'revise translation spanish go back early edit subsequent edit spanish language Wikipedia seem intend mainly insert link primarily succeed delete chunk original text render result ungrammatical somewhat insensible take translation incorporate previously omit text go whole make idiomatic English quite yet hopefully serviceable',\n",
              " 'sorry like answer accept wording indeed word article reflect reflect source would patient happy almost successful operation care even less yugoslav medium yugoslav politic may want hear either repeat way world yugoslav troop operate independent command offensive laughable even way substantiate say journalist may write want ask military officer tell inconceivable size op comms',\n",
              " 'capital gain tax',\n",
              " 'include criticism summary section since section content far remotely truthful summary criticism point view fork article clearly suggest reader basically criticism Apple relate product management way Apple Inc admit fact use child labour clearly far far serious type criticism everything currently mention main article criticism summary section explicit word child labor mention article',\n",
              " 'merge article merge Operibus anteire',\n",
              " 'everywhere Though might start go thru secure server time similar issue popup userinfo grabber xenotalk',\n",
              " 'agree need keep unclear concept word well alternative exist also ask revert use source reason source actually book authorship WP COI WP SPS come mind txt',\n",
              " 'hi route Japan often mis read first argument JAL fly Tokyo jalway would like challenge route Jetstar take say Jetstar fly Kansai Brisbane true must connect Sydney although would stay aeroplane flight number BNE KIX change Sydney mean direct flight EG Flight SYD KIX flight KIX SYD via BNE work sure please check Qantas schedualing will not edit page fear ban',\n",
              " 'support Sikh Wikipedians Wikipedia support Singh correct completely agree Sikh Historian busy moment need get Harrybabar permanently block happen vandalism unacceptable',\n",
              " 'thank racist experiment page Katherine Heigl Wikipedia test work revert remove please use sandbox test may want take look welcome page learn contribute encyclopedia go fuck racist CANUCK ASSHOLE u NOTHING BETTER CENSOR truth U GODDAMN KKKKANUCK PIECE trash dickhead moron MOTHERFUCKER lol CANUCKS r real retards FUK dickweed EDIT another EIDTS EXPEL WIKI JIMBO SOB DICKHEAD WATCH MOFO PIECE garbage racist mofo ASSHOLE IM TRYINBG nice take SAY COMPLIMENT Yamla',\n",
              " 'Bulgars omg admin protect people vandalise Bulgars article attacker pan slavic ultra nationalist do not want see word begin Turk help remove reliable source Old Bulgars change slavs hand great',\n",
              " 'must log upload file word sign add thing entry hell place ROT care',\n",
              " 'McKinsey Company think good route would drop note WP BUSINESS C WP four WP CHICAGO WP WAWARD',\n",
              " 'message long time talk potter around Wiki suddenly think anyway ya go hope get along Anyway issue Wikipedia user stalk ask innapprpriate question idea could know user also Australia could police thing cheer',\n",
              " 'thank point view difference parallel two concept one parallel concept intend territory homogeneous population difference concept racial hygiene intend homogeneous population regard criterium race whatever race might concept ethnically homogeneous state intend homogeneous population regard criterium ethnicity second difference concept racial hygiene lead extreme form method political practice history example holocaust expulsion also extinction million people industrially organise process User Nov th',\n",
              " 'well see FutPerf get quite angry insulting editor also goal make point First Bulgarian Empire second Bulgarian Empire Bulgarian least relate help long term strategy invention macedonian nation state think Bulgarian Tsar Samuel etc exist antiquity middle age Tropcho correctly point direct political continuity completely unimportant info box country care info box neither Spain Germany Ireland Poland etc important show Bulgaria form thru age',\n",
              " 'salutation J P welcome Wikipedia perhaps might find WP HOCKEY interest',\n",
              " 'careful call moron',\n",
              " 'leadbeater Biography SmackBot problem Rich regard c W Leadbeater biography article http en wikipedia org wiki Charles Webster Leadbeater Dec Philosophus improperly revert extensive revision Dec remove smear slander article yet accuse NPOV problem editor right revert good faith contribution another editor undo improper revert make minor edit two since edit probably lose also please communicate specifically fault find text maybe work compromise word knowledgeable subject knowledgeable business editing article',\n",
              " 'quote Hoppe first Detailing Kinsella important point diff put Democracy section Hoppe early comment first follow Kinsella say e Stephan Kinsella write Hoppe critic accuse Hoppe homophobia bigotry like base passage Kinsella write Hoppe discussion physically remove homosexual group apply private covenant base community center around traditional value share letter Hope write say gay couple street mind business would expel openly hostile basic heterosexual private property basis society say edit summary choose totally take comment context attack mean Wikipedia use purpose talkie talkie',\n",
              " 'fact matter Toei Bandai use Gorenger exclusively refer first Super Sentai series since least every subsequent series end ranger see sort thing print material release lately Gorenger other Turboranger Zyuranger Dairanger Kakuranger Ohranger Carranger Megaranger Timeranger Gaoranger Abaranger Dekaranger Magiranger Gekiranger believe Gorenger also plaster across vehicle Ryulong',\n",
              " 'mark nutley suggest instead people edit warring really ought use new source three five million number die Ukraine heavily ukrainian populated northern Kuban among rich grain produce area Europe Norman Naimark Stalin Genocides Princeton University Press August p http book google com book i d F uwf eqb AC lpg PP pg PA v onepage q f false',\n",
              " 'see help see block reason victorious feel like keep tell administrator please use talk page go administrator noticeboard initial complaint post add yet another post concern advice need familiarize apply right back especially regard WP CONS please understand consensus product prior discussion piece Wikipedia text stay unedited',\n",
              " 'Gay existence CDVF proof sad twat also ugly willy face',\n",
              " 'unfortunately judge previous warning people rather unusual view personal attack point individual accuse use sockpuppet incorrect fact two main people make accusation harass month use sockpuppet meat puppet get around edit conflict stack vote Request Admin procede point several editor time certainly consider personal attack pointing admin actual policy basis make block personal attack fact confirm overrule block frankly look personal attack try agf violate attack action base upon limited information actually mislead information give individual David Gerard claim trolling defend false accusation other clear number people need realize thing accuse try justify block exactly behind pretense try solve thing want start block incivility might suggest remove David Gerard action Elonka falsely claim use sockpuppet harass sysop whose talk page say going go around block people question ask fact catch restore place illegal information pirate software article talk page rule apply everyone number people get away pretty flagrant violation try rationalize away label alleged problem editor take sort responsibility action',\n",
              " 'look good think nice pic Midtown across East River would well possible addition montage one currently available wiki common',\n",
              " 'perhaps question philosophy mathematics regular WikiProject Math philosopher mathematic c',\n",
              " 'except fact information table confirmation number episode put clutter vandalism',\n",
              " 'right may star bar',\n",
              " 'perhaps GoodDay could provide diff think unaware btw hope move going go ok',\n",
              " 'also unfair respond allegation talk',\n",
              " 'never fucking make mother fuck article fucking edit fucking long TIME AGO fucking ASSHOLES pissing',\n",
              " 'anyone ever consider include tag team edit war rr violation two people act tandem unintentionally intentionally make revert four time may technically violate rr rule certainly spirit problem side edit war Canada page precisely want avoid Dominion page would easier warn editor rather shut page week time do Canada case sure would cure escalation problem without block access page comment',\n",
              " 'fuck wrong muchacho July UTC',\n",
              " 'thank unblock would compromise live margin create article various subject see delete form performance art many get delete medieval philosophy still history logic name one people know like like',\n",
              " 'yes hope get GA status future WP MOSTV state fictional character storyline come first information creation characterization make sense read storyline character involve go production style use article book film television show episode',\n",
              " 'hi I m fucking bitch',\n",
              " 'please educate article copyright infringement source establish could explain good rectify situation thank',\n",
              " 'man rank Figure nice look miss key time Olympics World Championships title IIHF list post olympic rank rank presumably post wc exclude period incorrect time Canada rank st overall Russia nd issue happen year ranking change twice Olympics WC',\n",
              " 'many broken nostril pancrea',\n",
              " 'last line new version well YPOV new version complicate issue make article less simple read tell must Boston mention cultural business hub seem heart bias appear want viewer get read Boston somehow nerve center city New England revolve around look MUST illusion page',\n",
              " 'UTC sound wrong first read present tense ee read use past tense reword whole thing past tense discuss already publish work oppose work publish yet publish Arnfj r Bjarmason Sep',\n",
              " 'take time answer',\n",
              " 'yobot incorrect defaultsort Hi Yobot incorrect defaultsort puzzle recognize article person among clue include birth death date top well Yobot substitute additionally include correct DEFAULTSORT XA Ab',\n",
              " 'biased unreliable emotionally write armenin wiki editor pls stop use wikipedia dirty propaganda lobbying purpose genocide amyth advanced armenian church armenian fundamentalist fascist nation subject egnocide several hero see statue yerevan Irevan jews resolution act sell congressman want appease armenian lobby reliable valid neutral content kjust piece dirty lie fact present write christian missionary work kill Turks Kurds claim subject genocide much want thing never happen armenian fundamentalist fascist kill Kurds Turks Azerbaijanis kill great son Turkic nation proud Go propogate lie much achieve nothing raman',\n",
              " 'add Mobile porn additional WP ALSO link',\n",
              " 'smer sd slovak party Smer sd Non inscrit regular Socialists use PES settle pretty long ago Liberal Nationalist',\n",
              " 'UTC anyone consider matter stuff make actually interact time time travel travel back time would frozen isolated spacetime whilst everything else around travel backwards time also physically biologically travel back time get young young disappear yet create thus defeat Grandfather Paradox although possible signal information travel backwards forward time possibility automatically extend matter know ie particle give rise electron proton neutron ultimately biological being July',\n",
              " 'want offer tremendous thank suggestion believe paramount successful inclusion RantMedia vastly improve article since afd nomination well since yesterday afternoon clear necessary do article truly first really answer question go take bottom heart thank c',\n",
              " 'laugh watch supposedly british national news guy barely ankle snow imply Ragnarok upon we yet day tree blow main road block snow Scotland seem noteworthy Scotland routinely gets ignore national news even people north England complain fuss make southern orient news tourist appear amazed thing fall apart something like mother good giggle reporter live Trafalgar Square couple inch snow beside main road barely ankle deep Lance Tyrell',\n",
              " 'friendly advice refer kindly use Cult free cult',\n",
              " 'great link imo american people whole good decent call leader fully control Elite bent domination control whistelblower say talk',\n",
              " 'Queen University state previously quite pertrube quite honest frustrate would remove section pertain university tradition personal vendetta institution dislike whatever reason remove compliation material regard Jackets tradition find odd consider similar tradition allow remain university Wikipedia page mindlessly delete material without group consent constitute vandalism sure intention malicious short sighted move part please allow we discuss great detail',\n",
              " 'January UTC argument WP NATURAL seem rely show name common need prove name common number might help bit also tell Gohatto rather name film Japan turn false incidentally Ryuhei Matsuda seem look like mother father think also authentic portrayal Shinsengumi film historical insight',\n",
              " 'unspecified source Image Metropolitan Moscow Makariy Nevskiy jpg thank upload Image Metropolitan Moscow Makariy Nevskiy jpg notice file description page currently specify create content copyright status unclear create file need specify owner copyright obtain website link website take together restatement website term use content usually sufficient information however copyright holder different website publisher copyright also acknowledge well add source please add proper copyright licensing tag file one already create take picture audio video tag use release GFDL believe medium meet criterion Wikipedia Fair use use tag one tag list Wikipedia Image copyright tag fair use see Wikipedia Image copyright tag full list copyright tag use upload file consider check specify source tag find list file upload follow link unsourced untagged image may delete one week tag describe criterion speedy deletion image copyright non free license per Wikipedia Fair use image delete hour question please ask Media copyright question page thank want opt receive notice hi',\n",
              " 'percent Koreans eat Dog Meat Koreans try regular Korean Food Diet genearalize finger point Koreans eat Dogmeat true',\n",
              " 'support let protect save page User Balagonj page full error invalid reference',\n",
              " 'apparently think Tom offline file edit warring report YellowMonkey pick Tom mention page protection see stick',\n",
              " 'Newsletter draft ready hi Dank prepare initial draft drive wrap newsletter Wikipedia WikiProject Guild copy Editors Newsletters April could find time check go would super thank',\n",
              " 'omit entirely',\n",
              " 'true description booger prove',\n",
              " 'stay talk page stalker',\n",
              " 'Anthony de Mello Hi need page write Anthony de Mello currently redirect priest suggestion dab title cricketer',\n",
              " 'thank happy new year let talk',\n",
              " 'mature way Central post',\n",
              " 'stop vandalize USERPAGE know someone',\n",
              " 'oppose think merge good idea',\n",
              " 'maybe lead conclusion taip aircraft remain Africa return back ferry soldier article colaco net also shed light',\n",
              " 'thank thank thank leave watchlist find archive full vandalism back give slashdotte suspect see bit might get someone else fully protect continue COI would also like thank keep open mind change vote encourage sign good Faith regard',\n",
              " 'hello interested could really use help',\n",
              " 'F K RIDES WORLDS FUN hate ride Worlds Fun sh tty bore ride operator WOF fire sue hang Burn WOF coaster arrest WOF park operator Assassinate WOF customer hear boy die Timberwolf August stupid Worlds Fun nown well build sh ride Worlds Fun care money prophet moar customer burn sh park F K RIDES WorldS Fun dangerouser GRround Zero Area Worlds Fun burn hell',\n",
              " 'Job Sure thing soon find time also notifyed NovaNova ask start edit http en wikipedia org wiki Croatisation guy know lot croat history',\n",
              " 'oh ok wanted see people think anyway CSD hey like talk page hope mind talk er',\n",
              " 'wrong capital Podgorica always since July seat government parliament PRESIDENT Podgorica Cetinje seat Kingdom Montenegro exile besides capital city embassy Podgorica see Cetinje besides one Montenegro world say Cetinje capital Montenenegro instead say Podgorica also consitution adopt outdate new one due next year',\n",
              " 'Mark II subsec remove Mark IIx subsection make bulleted list reason eye subsec one line information',\n",
              " 'concise listing list invention profoundly vague group different category together even mention thing chinese receive purely outside source much complete well manage list chinese development yet find along transmit globally whether place like Europe get purely chinese really need attention people remote expertise guess somewhat Needham work profoundly rare private collection cite like arrogant bigoted ass cry chinese nationalism yet go onto say invent noodle besides thing like cannon porcelain list invention develop independently',\n",
              " 'history could consensus view mainstream view theology mainstream consensus view since theology depend upon church membership theologian historical scholarship aim universality objectivity theology make claim true million believe JEDP birth hell would believe know JEDP mean principle view notable Enns say fringe view academe even among scholar actually disagree JEDP source use build Wikipedia academic source therefore JEDP st century offspring give default weight inside academia view fundamentalist treat accord WP UNDUE mean Wikipedia could say fundamentalist theologically wrong Wikipedia theology entitle say inside historical scholarship fringe view course exclude serious scholarship do religious faculty since Ehrman say one bestseller US mainline Protestant Catholic theological seminary divinity school teach mandatory historical criticism class sense scholar faculty thoroughly acquaint historical criticism build career upon assumption fundamentalist seminary divinity school choose default historical criticism free cut claim mainstream historian',\n",
              " 'well sorry attack edit exactly wow seriously snotty people wikipedia yes need separate feature single DEFINITLY',\n",
              " 'tfd nomination Template SilentRedirect Template SilentRedirect nominated deletion invite comment discussion Wikipedia Templates deletion template SilentRedirect thank talk watermark shall remove obvious one less obvious one stay allow watermark image anything whatsoever wish even contradiction wish use WP bandwidth upload effect anything evening get delete shall reupload without respect talk email could grace reply say deal evening one watermark visible page talk email planning upload less obtrusive watermark Image Bliss parody jpg talk email vandalism use external link per instruction incidentally bind follow certainly verge request mediation disrupt life never mind WP make point tell one time image well none wish get pix concerned image damn welcome try GFDL therefore ground removal talk email PS shall add external link image remove shall make formal complaint Wikimedia Foundation Information Commissioner London talk email conduct little matter discuss issue user let keep civil please thank talk disagree Rob far little image watermarke way appropriate Wikipedia encyclop dia pet image project TheDoctor happy play ball go elsewhere talk propose change image use policy forbid watermarke image please voice opinion Wikipedia talk image use policy User create image thank talk edit United Kingdom Computer Misuse Act edit information online illegal without permission button top every page say edit page among thing constitute permission policy guideline form condition since condition image legal right q e talk email true therefore addition fail logic also Wikimedia server right delete ID Apologies Ed invade talk page load rubbish Wikipedia legal obligation whatsoever host image regardless whether meet policy idea flawed logic presume fact edit Wikipedia mean edit must legally accept Computer Misuse Act state edit information online illegal without permission imply edit permission legal nothing furthermore logic legal right edit Wikipedia remove image fail see earth intend tell lawyer imagine Wikimedia board concern talk ignore gibberish',\n",
              " 'ARTPOP album hello thank contribution make message good faith please make hidden comment like state editor block remove redirect position ask say could turnaway new contributor aware rule feel bite case think kind user talk page message would appropriate effective also edit revert revert back version also remove block warn appropriate admin block user remove redirect specially hide message warn feel free correct wrong write good faith Cheers Huntley',\n",
              " 'Crown Prince Prince Elect Denmark elective monarchy time',\n",
              " 'Hamish MacDonald disambiguation hello let know two entry one name one similar name tag deletion use Template db disambig question please let know good wish',\n",
              " 'cent someone close korean american community pretty standard practice give american korean name first know sure case surprised probably explain book',\n",
              " 'die think well settle matter instead go back forth IP user claim whole thing hoax die Europe year ago Hawaii obit First Forevermissed user submit website know family personally know somebody know family like get elaborate explainantion behind claim dead year ago see suppose obituary pretty detailed rest biographical information accurate though picture',\n",
              " 'August UTC dear hour block place account yesterday personal attack expire must say happy block harbor hard feeling towards check previous contribution see productive editor Wikipedia like let know guilty personal attack goad two individual order avoid future block promise engage anymore personal attack goad troll two individual simply ignore repeatedly revert comment make concern statement make Hugo Chavez article find biased issue concern nastiness uncivility far possessive article create become angry edit make article multiple revision legitimate edit make article tell leave alone proceed foul discussion page unwanted unsolicited comment object goaded call profanity respect role Wikipedia Administrator like respectfully request future exercise well discretion block user base one sided information thank understanding',\n",
              " 'link result mess link anywhere except actual book',\n",
              " 'add Glebe Park link though might wikifie never actually afraid much help moment though meaning go look',\n",
              " 'go away revert edit Blowdart user talk page surely that s privelege Users like give wikipedia bad name stop busybody',\n",
              " 'head waysssssssssss pound feel like play dow do nt tuch fall',\n",
              " 'sarek Vulcan unfortunately ban fact Sarek vulcan unfortunately ban fact Fact Lawrencenkhoo tell Wikipedia company keep retain profit bank Fact absolutely untrue Fact Sarek vulcan ban state Fact Sarek vulcan ban ban fact',\n",
              " 'keep chin Darwinism accept night appear sense AAT origin sort cut hypothesis ancestor go swinge tree prairie eon later take sedentary life style could edit Wikipedia face book etc day one watch little kid beach first time wave throw bottom elbow may well cry time wait get water home sea edge environment hard wire gene unfortunately rise sea level since time mean evidence coastal community may never find keep plug away old hypothesis fade away',\n",
              " 'nazi filth impolite Jan UTC',\n",
              " 'interesting check case number Kunzang Lhamo cite use Wiki since original research go step find case number San Bernadino Open Access either civil criminal record',\n",
              " 'transclude part GA review seem update main talk page article correctly may click go subpage get date version sorry looong skim content related stuff guess',\n",
              " 'protect causes palestinian exodus hi explain talk page protect article edit war go heavy standard article also participant mediation case concern actually use one source page irrelevant present edit war therefore wonder motivation regard',\n",
              " 'hello check personal page often please leave message discussion page Tks Marvio',\n",
              " 'thank note dress everything nice editor like work way delete messy post talk page well mess mess thank Stephen please take gratuitous ingratiate imacowboy',\n",
              " 'care say believe one sentence anymore',\n",
              " 'anytime want nightcap tell',\n",
              " 'meet Local Vietnam TV Series Factual Documentary min Meet Local Spain tv Series Factual Documentary min Meet Local Tasmania tv Series Factual Documentary min Meet Local Ireland tv Series Factual Documentary min way Camino de Santiago Feature Factual Documentary min African Stories Online Factual Documentary min Overlander Multimedia ABC Outback Boxing Troupe Online Factual Documentary min Overlander Multimedia ABC Australia Production Company return Home Story Ararat Online Factual Documentary min Overlander Multimedia ABC Meet Local East Coast Australia TV Series Factual Documentary min Meet Local Outback Australia TV Series Factual Documentary min',\n",
              " 'Globalization Ivytrash Ivy anything home bear raise block Harvard Square great place country interested globalization look square see smoking ruin home happen hope globalization comfort enough',\n",
              " 'self confess approved observation see e g history soviet partisan BTW first object',\n",
              " 'btw speak armenian genocide follow wikipedia convention common name agree assyrian common name also prove many time change name current article assyrian genocide Seyfo',\n",
              " 'quote Wikipedia article link page someone concerned article contain inaccurate statement statement follow follow warning dubious discuss accuracy statement may cause concern contain unlikely information without provide reference contain information particularly difficult verify please remove dubious reference edit would guideline',\n",
              " 'Belarus develop country Hahaha nothing say',\n",
              " 'censorship Islamist Terrorism try censor monger properly cite information delete',\n",
              " 'would like write article Bill father include rise CEO Commonwealth Edison feel free article Bill write chatty book lenth biography state fact biographical article Wikipedia detail father career irrelevant although eventual stature ceo yet another issue already resolve',\n",
              " 'thank really cool tool purpose like userpage Best Tally ho',\n",
              " 'funny would say exactly thing Astarti anonymous user ip greece user WilliamThweatt Accusing people without reason allow wikipedia per wikipedia rule free ask investigation fact kindly ask vandalism persist seek arbitration kindly ask moderator see revert confident conclude mal intentione clear nationalistic agenda guy something common greek',\n",
              " 'watch entire series agree entire article several suzumiya haruhi article somebody know haruhi personally sort view I m go fix',\n",
              " 'agree take stab also need major format cleanup wikifying sound much like fan conversation reference either YouTube link personal communication try least pare BEST musician ever statement could use help discography section',\n",
              " 'vandalism e g type edit somebody say Stig leaving revert basically revert source suggest leave know vandalism want carry edit Wiki love place amazing please make leave explain please please unblock thank',\n",
              " 'Baer do not invent video game jewish propaganda support wiki troll name Goldberg Go figure hey goldberg try educate https www youtube com watch v EfBwz sik',\n",
              " 'tell argument newseventsguy retroactive reversion simple edit try include secondary independent verification sedimentary nanodiamond young Dryas sediment Bement Madden et al WITHOUT DISCUSSION reference notice yet include reference list still time ADMIT ignorant peer review literature controversy attempt simple reference list edit page stomp less five admittedly bias ignorant editor honorable thing would recuse editing page see happen good luck already make complete fool',\n",
              " 'hello get SOMEBODY FIX SHIT around',\n",
              " 'dictionary dare call contribution spam Kurd make lsit kurdish dictionary bloody turkish nationalist atoricity commit bone break nazi watch folk slimy Turk try censor internet undemocratic Turkey prison cell wikipedia stupid Turk bugger want membership EEC',\n",
              " 'apparently editor agree edit make justify group meat puppet work team revert article POV cause block issue advert tag justify place article one editor replace replace another editor replace three editor far indicate tag belong sure forth editor go weigh side article riddled brochure language please note remove brochure language right lock article still lot needs come advert tag remove additionally believe break rr rule require fourth reversion',\n",
              " 'agree Indus valley civilisation correct name civilisation passage quote neccecarily factual term say second proof mighty Sarasvati Rigveda fact dry river identification open doubt apart fact proof indicate Saraswati exist dry river include geological fact dry evidence also point fact tributary Indus refute point passage quote fact draw water Sutlej Yamuna river system though large number site find along river system none scale Harrapa Mohenjodaro leave Indus Valley tag correct one Saraswati exist today time dispute existence Wheter vedic indic vs Harrapan non vedic dispute today existence',\n",
              " 'December UTC thank start work Pranagnihotra Upanishad unable get full text Deussen Sixty Upanishads page appear book Google url suggest url give full text meanwhile complete short article Sharabha Upanishad may like see add edit Nvvchar',\n",
              " 'insult people en wiki criterion provoke filter set simply abuse power people hand',\n",
              " 'Excellent would great comment find peer review also helpful time actually act upon suggestion cheer hello',\n",
              " 'know dead plane crash Jeezz quit bust nuts folk',\n",
              " 'Afican Union site vandalism Dear BracketBot write note inform editor perform act vandalism website African Union https en wikipedia org wiki African Union please would appreciate could tell report action Board Index name https en wikipedia org wiki User Knisfo',\n",
              " 'know Jimbo get life instead sit front computer day high priestess knowledge indeed',\n",
              " 'statement need reference leave article unreference every section open door original research introduction factually inaccurate information point one thing bring Consolidated Appropriations Act first number tag creation article need tag reason number remove flag second reference link provide article one information various subpage appear entirety article find deep link possible come well tell also note style summary take never mean encyclopedic article riddle grammatical error mostly incomplete sentence creation opening read Consolidated Appropriations Act h r bill pass th United States Congress never hear usage rather assume incorrect another editor change lead also miss important determiner case take look vesey',\n",
              " 'ok ask experience think portal',\n",
              " 'Sitush anyone assume good faith write much Yadavs page evident discussion conveniently select source negative conveniently reject source positive person spamme article vandalize yes contribute article Wiki let first correct thing Yadav much wrong going got Ikonoblast ban got ban get anyone ban differ bias stand Yadavs go give follow WP policy ensure get thing correct Yadav do not let fowler personal view dominate page peace',\n",
              " 'December UTC worry tell back continue defend ya Yup get proof work first see like reliable source cause remember revert source one time look article saw ref like oh shit revert glad went go back glad two word go save Question would like expand lead SS member hit',\n",
              " 'November UTC agree clearly Santilak use usual bag trick SantiLak please discuss article courteously professionally',\n",
              " 'ok like pyx lax track much indeed could point towards greek trad music would great greawt Irish Non visto Provvedi',\n",
              " 'pitchfork already Jun UTC',\n",
              " 'reinstate sentence Nobels first paragraph reason state other disagree define characteristic Bx Science indicate right front summary paragraph discuss rather play edit game remove text without either edit summary discussion talk page',\n",
              " 'disappoint successful run',\n",
              " 'Elvis Crying Chapel Feudalist',\n",
              " 'please refrain add nonsense Wikipedia Fisting consider vandalism would like experiment use sandbox tlka',\n",
              " 'Elizabeth Hi lil romeo one big fan really like always dream night would like come Dallas Tx Ignacio Zaragoza give concert elementary school th grade year old want come help homework see later write soon',\n",
              " 'hi Fracophonie Thanks take time write long message appreciate term say age mean cause offense think read somewhere make decision think get confused check user privilege already read policy read rest later today troll need time get use acronym policy etc start write article favourite website turn massive thing expect really time argue debate usrs since clear want delete despite say example one user write another site call amirite net amirite com precisely keep respond AFC delete page term rest agree course apologise unblocked apologise side note actually french jewish shame gay part though',\n",
              " 'welcome hello Soundchu welcome Wikipedia thank contribution hope like place decide stay page might find helpful five pillar Wikipedia Tutorial edit page develop article create first article use Article Wizard wish Manual Style hope enjoy edit Wikipedian please sign message discussion page use four tilde automatically insert username date need help check Wikipedia Questions ask talk page ask question page place help question welcome WikHead',\n",
              " 'removed content tag uncited Mattisse every commonly know fact need cite editor en passent want nominate FARC appear problem much suspect Mattisse motive frankly tire bother explore perhaps one probabtionary mentor interested would care deal',\n",
              " 'Jeff Garcia gay',\n",
              " 'sufficient need explicit permission use text copyright someone else licence suitable Wikipedia please read guide request formalizing permission use copyright work Wikipedia Note addition copyright requirement article must still comply notability guideline advertising prohibition avoid conflict interest talk',\n",
              " 'section useful info stay clearly wrong',\n",
              " 'comment stick week broken link since acknowledge move mistake uncontroversial please revert anyone want dispute opera primary topic proper request move discussion do first place willing able today ask another administrator',\n",
              " 'need include context well try dig source User Talk Review',\n",
              " 'Tim firstly appreciate take time discuss issue offline willingness debate length despite majority view favour yes certainly agree friend important describe jurisidiction firm present clearly massive diffence say office french japanese jurisdiction chinese U jurisdiction since legal regulatory system different well commercial characteristic market beyond however remain firm view big difference law firm office say Paris Toulouse even though jurisdiction appreciate situation u slightly complex since federal state jurisdiction even within state big difference legal market different city though give example San Jose market lot small overall Los Angeles market also quite different profile whole lot specialist niche focus high tech give another example UK law firm could never regard truly top tier office London even office every big city fact top tier UK firm DLA Piper yet regard one despite size one UK office London although office overseas say DLA office across United States Egypt South Africa Kenya Thailand China would view still mean loss valuable information reader could fall back use description like major financial centre major commercial centre combination major financial centre major commercial centre introduce view unnecesssary element vagueness imprecision even original research accept DLA office right borderline many office make practical list article however also feel important general point principal information office location law firm valuable information aid reader article understand subject include much possible',\n",
              " 'problem think problem someone site mistress prof point far site actual encyclopedia forum encyclopedia big difference even piss page thank god single chick bitching would another attorney fee handing sue whoever own site do bitching mistress thing whole page error first line last line joke first line last line wrong',\n",
              " 'Sprecher Brewery take tour christma visit sister charge extra glass website may update current pricing',\n",
              " 'iPad talk page remove ip edit talk page spam',\n",
              " 'speedy deletion Andrew takao tag place Andrew takao request speedily delete Wikipedia do section criterion speedy deletion article appear person group people indicate subject notable article subject include encyclopedia criterion speedy deletion article indicate subject importance significance may delete time please see guideline generally accept notable well subject specific notability guideline biography think notice place error may contest deletion add top page exist speedy deletion db tag couple add note talk page explain position aware tag speedy deletion article meet criterion may delete without delay please remove speedy deletion tag hesitate add information article would would render conformance Wikipedia policy guideline',\n",
              " 'image image deletion warn Image Metroid Prime Hunter title screen top display jpg list Wikipedia Images medium deletion feel image delete please go voice opinion August UTC',\n",
              " 'real personal attack repeat undoing edit everyone else',\n",
              " 'nope read guide appeal time user question engage harassment long enough know prove immediately place threaten notice block permanently user page revert article midst edit second pass even preview change change mind real wiki sin since onus prove Doris Day available PD archive org usual span pre Bern expire long ago decide real sin Original Research oh no continue revert base add clutter Sure user question really concerned quality article extraneous detail even notice two paragraph already comprise entire article deal Norman Schwarzkopf unrelated book unrelated ice cream store name tell user engage good faith goodwill edit normal back forth lead well article involve block input article personal preserve exist content article include false claim extraneous material even concerned ther subject hand speculate guess sort power trip wiki bully really time make fair number good edit year usually refrain say anything directly relate content improve article could pretend user waste time really stake pretense stake improve article either dog race see improve make informative long term wikipedia user editor see problem jump fix something almost expect sort pushback completely minor edit good target minor stub like article problem people user question get away sort behavior get away wikipedia become much poor place playground fill bully rather library learn share also recal ever call bot think put word mouth perhaps inadvertently behavior malicious probably malware normal human collection problem think user warn try gatekeeper quite qualified point anyway chilling effect across wikipedia egnage battle wikipedia rule acronym continue write English read article wikipedia English think way improve English fully aware term vandlism use misuse rest wikijargon Nothing new sun read edit make carefully note time revert history action user see mark know go know expect motivation interesting Respond anything say',\n",
              " 'communist states three call socialist states communist word westerner use name change',\n",
              " 'Boze Hadleigh journalist interviewer writer primarily gossip homosexual Hollywood',\n",
              " 'IMDb content user submit often subject incorrect speculation rumor use IMDb Wikipedia referencing consider unacceptable strongly discourage Wikipedia WikiProject Film Resources self publish medium largely acceptable include website whose content largely user generate include Internet Movie Database IMDB WP USERG say long standing consensus disagree encourage take Wikipedia reliable source Noticeboard',\n",
              " 'new mean communicate sure express right form however review recent nomination expect go web next couple month process develop database correct lat long decimal degree base Google Earth photo assessor map nomination file would like share way alternatively find way EASILY check correct exist coordinate Mass Wiki Lists would useful anyone',\n",
              " 'kgtp actually revert vandalism',\n",
              " 'yes read ask provide back story matter least one religion bad well proof claim ChatNoir',\n",
              " 'think error gram kilogram kg edit article til well result wrong please change back Dec UTC',\n",
              " 'Vince FYI Yellowfrogs Longdendale Councillor Sean Parker Perry frequent purveyor Greenwash four square behind destruction Swallows Wood via support bypass vigourously edit wikpedia page Longdendale Bypass Roy Oldham page order boost fake green credential obfuscate neutrality article get nasty gets piss threaten spurious legal action fortunately legally illiterate put',\n",
              " 'summary situation User ShimShem take dislike article try numerous method either get delete name change completely invalid speedy deletion request invalid drv request nominated deletion via afd despite fact pass AfD year fact afd withdraw keep current AFD stand keep despite ShimShem wikilawyere way become clear going keep decide name change would well change name band article tell take talk brief non discussion talk move article anyway revert originally unsure motive editor completely desperate delete move article note interested Tamil subject one artist guess believe two could confuse subsequent creation article redirect artist prove far concerned whether band actually call MIA differ band use head website use combination elsewhere since case source likely laziness much r e regularly refer rem since article exist backlink go version let disruptive user get way article stay',\n",
              " 'unnecessairy source matter many soldier kill matter safavid depose besides mention information without make remark brutality afghan force example complete massacre Safavid family include woman child well massacre civilian population Isfahan Bam village Khorasan consider POV besides show source claim soldier kill edit matter believe matter Wikipedia rule post message without editte anything abuse article history message board Use REAL message board instead',\n",
              " 'whoever write Plot feel terrible whoever watch movie detail write plot line ever take time write plot section must traumatize life however miss part Milo son lay belly unconscious bed Milo anally rape several mask man watch also use knife sword scene truly one sick film artistic message film basicly middle finger sick minded film maker cast must trick participate disgusting film artistic gore classic film Begotten listen WATCH FILM MATTER MUCH tempt',\n",
              " 'ask admin comment refrain however remove personal attack anyone wish discuss action please email Windows',\n",
              " 'compromise think budget salmon least Netherlands fish affordable dutch call salmon trout far good Marshall Fortunately one yet discover use run drug cartel dance nightclub la Henry LaFarge Shot Dark Ssshh tell oh ask rfa proper use citation template later',\n",
              " 'sorry sure take care quite history actually legal case involve Dayton Daily News Wikipedia risk edit page affiliated company actual sockpuppet puppet hdayejr',\n",
              " 'agree disagree relative merit fish character red seabream part family Sparidae anyway usage outside North America right',\n",
              " 'large ship typically launch water hull complete mean construction work finish usually still significant amount work do include finish interior ship building superstructure etc take look image sms seydliz construction jpg example see ship already water significant amount work do superstructure also read ship name launch information launch Hope help',\n",
              " 'point predictably ignore stonewalled seem Wikipedia staff official response direct questioning Justin Berry issue one might think hire Scott McClellan handle pr clearly aware untenability position really hope go away sorry guy',\n",
              " 'need prove notability use reliable source festivity large organize part country make notable also need change username one probably block soon violate username policy name web site business talk',\n",
              " 'meter sigh concern Mr meter revert contribution mine give article far single chance develop article call falsetto falsetto may arrogance know huge contrary regard definition falsetto many sign entirely different falsetto compare info Mr meter anxiously protect England Italy Spain th century describe entirely different type falsetto top Mr meter perhaps never hear Pavarotti singe falsetto falsetto Ian Gillan Singing King Diamond base falsetto Michael Kiske falsetto Mariah Carey Whitney Houston sing falsetto falsetto sound breathy publish note maybe meter look would fit article would admit source Vennard probably chair something else falsetto drunk meter quickly open two three book thing swallow World whole physiology falsetto base encyclopedia well perhaps enough Wikipedia much regard physiology much much allow idiot like meter develop Wikipedia people reader Wikipedia read shit prove research regard female falsetto ie Mr Know everything feel free block desire write',\n",
              " 'also forget Premier Leagues still write English',\n",
              " 'please replace Wikipedia page blank content Blank page harmful Wikipedia tendency confuse reader duplicate article please redirect appropriate exist page page vandalise please revert last legitimate version feel content page inappropriate please edit page replace appropriate content believe hope page please see deletion policy proceed thank contribute Wikipedia talk',\n",
              " 'motherfucke piece crap fuckhead block we',\n",
              " 'UTC make table class everyone independent unless could confirm party identification accord dlp intend run constituency accord least candidate able identify two far need identify December',\n",
              " 'remove POV remove undo criticism Secretary Boutwell POV Wikipedia mean bash person reputation whether alive dead follow removed article Boutwell little withdraw paper currency circulation shape financial policy forestall either inflation deflation Intellectual critic see action want guide principle lack solid theoretical knowledge believe knowledge far convenient justify theory knowledge deception Henry Adams write much quote analysis believe common school political science ledger cash book Adam Smith Mill one might believe multiplication table Laplace Newton natural logic make disbelief high branch political science basis political practice thus ground action ignorance carry principle remotest conclusion Henry Adams Session North American Review July p corrupt time speak well Boutwell nobody think make money Cabinet post either friend live within salary lodge boarding house throughout tenure pleasure lay write lecture play billiard poker though never money Chicago Times March inaccessible man uninfluence fear favor affection hope reward burst brillian exhibition love hatred New England politician write brother Henry F French Benjamin B French March Benjamin B French Papers Library Congress Boutwell financial policy less dogmatic pragmatic liberal reformer hope would embrace civil service reform rush country towards resumption specie payment Boutwell appoint subordinate basis merit part little rein spoil system outside Washington remain friendly term party boss',\n",
              " 'sir imbecile pervert',\n",
              " 'recaptcha defamatory relate computer system live person ReCAPTCHA force user solve Captcha access whatever service question force labor definition slave labor go revert reversion please report vandalism also please send threaten message tia',\n",
              " 'question possible Citation sorry miss question pay much attention page response question let start repeat boilerplate formulation job Wikipedia editor verifiably summarize reliable source use neutral point view yet work original research WP say integrate otherwise reliable information arrive novel conclusion compare two list draw conclusion difference similaritie likely original research integrate information long arrive new theory another principle remember vagueness improve accuracy precise hard accurate get detail Predators Editors website appear reliable source use source Bauer site even somewhat unreliable may use limited fashion primary source Bauer familiar enough topic make pronouncement would correct however would say propose text appear reasonable source sufficient original conclusion make website takedown issue confuse able summarize find reliable source overall opinion less say subject well Attack article encourage must show subject wart enlarge wart ignore well feature balance part NPOV able summarize find reliable source reliable source say say blog flame war alleged website takdown instigate Bauer clear factor forum IP know root cause article player involve via blog see objective Bauer sorry get back usenet stuff et al somewhat overload work personally think article well first see thank lot effort part primary editor article bring good source present way seem like lynch mob good job enough editor either side ensure something resemble nuetral gets post glad help try make article neater mean sound brusque summary field lot cram thank note appreciate would say Karen say call name fabrication never do thing whether able insult call name Wikipedia repeatedly without consequence accuse Jule carry water TNH Absolutewrite namecalling long stretch really weary attack mob rule avi seem genuine hang tough insult tribe threat real escalating hour blaming make point less valid nobody like piled crowd internet equivalent stone fabrication get awfully tired call troll part mob cult group troll self interested partisan blog comment commando thing could point want depress also make theoretical comment nosy fat ugly put word front make less insult try polite continue response please notice like abi Avi Avraham admin abi ML commenter believe kindness counsel pile talk contrib ad hominem name Karen yet link thread Teresa cale psycho hear say private ask speak negatively thread make light obvious two pro TNH absolutewrite self interest back fact run counseling well avi make decison sh',\n",
              " 'infobox hurricane season pretty much complete need make documentation possibly tweak thing may pop might want test question suggestion go ahead address',\n",
              " 'Show Wikipedia say table width wide collectonian answer question',\n",
              " 'article mark fix hope would guideline talk page research edit article look okay cursory read non Wiki reader',\n",
              " 'Castro lite WebLuis continue revert watered preferred image Castro back edit fact whine personal attack nonexistent empty statement Mar UTC',\n",
              " 'antonov revert like red link removal add table make also revert edit add logo Antonov say edit summary',\n",
              " 'another crap article Parrots promotion website capoeira school say myth origin also persecution thing late capoeira become word street brawl thus authority prohibit sanction practice capoeira ban capoeira ban outright street brawl Mestre Bimba present art Luta Regional Baiana decent carioca would eager sympathise capoeira malandrismo could attempt alter article become mess',\n",
              " 'never edit content comment please correct false accusation',\n",
              " 'REDIRECT talk Jos Manuel Rojas',\n",
              " 'agree clearly medium make spouse household name nothing stop Jim rightly point rein notable political spouse prominence businesswoman potential conflict interest trying avoid Nick',\n",
              " 'security Reasons edit war say edit summary term Security Reasons ambiguous properly establish source unnecessary crystal ball know say early Janes perfect reason MG manufacturer alter part interchange US BATFE make suddenly glock different yeah guess like Glock compensate pistol act like compensated pistol wonder actually shoot bullet',\n",
              " 'represent immaturity consistence disruptive behaviour talk',\n",
              " 'Macedonian Slavic Bulgarian possibly Notes Republic Macedonia Recognises language dialect macedonian language Greece eg Recognises speaker slavophone greek Bulgaria believe Macedonian Dopia Slavic macedonian part bulgarian Diasystem European Bureau Lesser use Languages Recognised Language Macedonian Ethnologue comprehensive guide world language http www ethnologue org show country asp name GR go clarification Altough know stance various government anyone current source please add hope table clear still need NGO Albania EU etc please add constructive comment',\n",
              " 'feel act manor inconsistent responsibility post something Wikipedia Administrators noticeboard Incidents want make change University Wisconsin Madison reliable source reference support change post reference change Tutorial may help reference question ask',\n",
              " 'part edit encyclopedia reduce extraordinary claim ordinary fact assume mean derogatory fashion',\n",
              " 'CfD nomination Category Wikipedia administrator nominate deletion opinion matter welcome please participate discussion add comment discussion page thank',\n",
              " 'also sock puppet account SUPRISE sincerely man track internet kill',\n",
              " 'source need provide need read article guess read prove even read article every edit back source came go provide detail merely civillain editor Wikipedia staff member info need within PIRA text edit actual Wikipedia staff member want specific happy provide look obviously Anti IRA hack make thing support bias neither pro anti IRA bias merely report fact check page daily continue submit PIRA entry far accurate factually support several time day wish accept fact mine superior version deal edit regular basis agree incorporate fatcxs mine one article three area number Loyalists kill number IRA victim break Janes Intelligence online CFR IRA RussianMafia connection document multiple book newspaper source three thing verifiable remain',\n",
              " 'fucker mother fucker nothing block university computer go suck cock',\n",
              " 'one many book various band think Cult Rockers check Supertramp seek source quote',\n",
              " 'hello disgrace humanity stop waste valuable internet resource kill fucking planet throw pc ps like fark kinda life Wikipedia SAD LONELY one LOL Life short find something well',\n",
              " 'explain reasoning block user talk Gwen Gale User Professional Assassin',\n",
              " 'article create album disambiguation page create',\n",
              " 'would pretty odd declassified document mention movie create event movie document relate declassified document synthesize movie unless want prove conspiracy synthesis odd perfectly valid use document relate historical event verify happen use primary source ideal wikipedia since ideal leave talk page someone want research find ideal reference',\n",
              " 'retard bot bot entirely automate wrong leave unattented script running site like idiotic suppose scripting ability perfect ever make proper edit banning help anything dipshit since many ip want',\n",
              " 'two reversion Hezbollah could explain talk page revert edit twice',\n",
              " 'DISLIKE racism SEE problems PEOPLE SPEAKS SPANISH antisemite',\n",
              " 'name Yuen Lou look variation Yuen Lo name Jackie use sifu opera school',\n",
              " 'user talk Wikireader Archive Archive Mar',\n",
              " 'realize article quite say thought say anyone find citation state exist proper subfield isomorphic would interested seeing could reinclude clause citation',\n",
              " 'cherry pick anything official fact essentially every CNN program double digit pmet home Piers Morgan Tonight pmet home Erin Burnett OutFront bad performance demo year http www mediabistro com tvnewser may rating cnn hit year low b',\n",
              " 'direct indirect relation correct say technically degree shot elevation reach long distance degree reach distance degree shot could lower shot consider direct fire high shot consider indirect fire think great explanation one way view thing',\n",
              " 'title section revert hi office early notice warning restore title section sorry course revert clarify open new section indeed alert contributor behave way line example ownership behaviour describe return title section twist something unrelated one message erase first time see people edit sign contribution talk page look crazy',\n",
              " 'Noel expert please convince whig history fan lazy mind Bonnie Prince Charlie want dissolve Union United Kingdom begin Stuarts oppose Hanoverians tell Whigs rewrote history blame everything stuart credit ultimate failure positive contribution foundation Great Britain Stewart Tudor blood Sovereign Realm else kingdom british might well live republic least Parliamentarians way even hanoverian heir recognise Stuarts found UK please debate thank',\n",
              " 'warn Earth like leave access talk page perhaps six month convince we try inclined make hard continue abusive comment revoke talk page access',\n",
              " 'jaeger regardless people decide eren name jaeger like call light death note raito least anime people dub take care correctly pronounce foree name ie except mikasa jaeger mean hunter german word guess eren series',\n",
              " 'thank experiment Wikipedia test work revert remove please use sandbox test may want take look welcome page learn contribute encyclopedia link edit revert find link believe edit revert please contact talk',\n",
              " 'please discuss factual accurate biographical information Courtney Ford vandalism look forward hear evidence',\n",
              " 'think entire article tag politicized part future trend speculative point scientist learner increasingly use know teacher yes probably make educated guess well anyone else still educate guess also notice totally spew unnecessary carbon statement think article superbly miss point pollution waste TYPES stupid way go thing well way know make guinea pig planet specie point',\n",
              " 'use car expert page image thank note image use car expert magazine copyright owner give permission picture email',\n",
              " 'however still error assert work equation handicap',\n",
              " 'first widely establish use exile quotation present legitimate Second Mark Ames autheticate numerous admin user Wikipedia personally meet third cite paragraph Spy magazine primary example POV creative fact precisely creative fact paragraph exile admire Spy magazine Spy magazine employ team lawyer defend spurious lawsuit Spy Magazine go bankrupt claim paragraph verifiably true',\n",
              " 'pretty humorous comment someone promote far leftist blog Daily Kos user page',\n",
              " 'seem',\n",
              " 'evasive shall repeat many people argue deletion lock page get way',\n",
              " 'edit request October Arctic Monkeys play walk wild side honour Lou Reed Echo Arena Liverpool day musician death http www rollingstone com music video arctic monkey cover lou reed walk wild side',\n",
              " 'welcome hello welcome Wikipedia thank contribution hope like place decide stay page might find helpful five pillar Wikipedia edit page help page Tutorial write great article Manual Style hope enjoy edit Wikipedian please sign name talk page use four tilde automatically produce name date need help check Wikipedia Questions ask talk page ask question place helpme question talk page welcome talk',\n",
              " 'gurch interesting fellow take comment heart take advice board talk',\n",
              " 'WASNT VANDALISM DICKHEAD',\n",
              " 'need understand help Wikipedia political mission attack brazilian press crazy see crazy people day Brazil',\n",
              " 'season issue sure removed edit season futurama issue think merit total lack season info confuse sure season info replace movie information could inform least remove discussion comment',\n",
              " 'philosopher RFC philosopher Wiktionary person devote study produce result philosophy go make case must call Stefan Molyneux philosopher without qualifier lead do endorsement statement level achievement acceptance philosophy career note source use article present point first convince RFC respondent philosopher accurate widely accept make sure reliable one place definition obviously source go use slightly different phrase call explicitly philosopher view philosophy think consider phrase give equivalent use one word philosopher lead sentence cover political ethical theistic specialization one word elaborate later article philosophical conversation philosophy show use describe Freedomain Radio series libertarian libertarian thinker Libertarianism classification political philosophy anarcho capitalist Anarcho capitalism political philosophy voluntaryist Voluntaryism sometimes voluntarism libertarian philosophy athi Arguments atheism range philosophical social historical approach ethic ethic sometimes know philosophical ethic ethical theory moral theory moral philosophy branch philosophy secular ethic secular ethic branch moral philosophy primary source Stefan Molyneux live person give great weight say focus work state profession unless reliable evidence contradict obviously want host sort fringe claim dispute say though absolutely must strong basis open Wikipedia discredit liability blp hold strong standard first place think case strong ample evidence call philosopher justify correct modern philosopher explore via modern online medium obviously new phenomenon understandable different old school philosopher use Freedomain Radio page Master Thesis analyze political implication philosophy fascinated philosophy particularly moral theory since mid teen leave career software entrepreneur executive pursue philosophy full time work Freedomain Radio write number novel well many free book philosophy Freedomain Radio show Molyneux host tagline Largest Popular Philosophical Conversation World Molyneux book show endeavor produce tangible write result field philosophy particularly Universally preferable Behaviour UPB Rational Proof Secular Ethics Gods Concise Guide Atheism Agnosticism two deep dive fundamental philosophy Strong Atheism Case evacuate Middle Ground article Philosopher video response question childhood motivation pursue philosophy introduction Philosophy part video course produce Molyneux describe basic philosophical concept reality Knowledge Truth Gods Religion Ethics Politics Unsolvable Philosophical Questions solve video tackle great philosophical question consider unanswerable proof God destroy philosophical atheist video Philosophical Review discuss major philosophical political economic social development video https www youtube com watch v udLsGJbw Hs philosophy questio',\n",
              " 'WP FILM December Newsletter December issue WikiProject Film newsletter publish may read newsletter change format future issue deliver unsubscribe notification follow link idea improve newsletter please leave message talk page happy edit talk contrib',\n",
              " 'January UTC uncivil try UUser Lbrun call user waste sperm moron etc Block one truly uncivil Rikara recommend cool yell argue go get anything take breather come back feel calm otherwise find talk page protect force take breather see nothing sort user since rename least current situation Blah v v',\n",
              " 'suck undelete page Barry Dejay',\n",
              " 'see internet Explorer Market share history overview year version IE we time come like other use problem fine worried specific workplace come howl',\n",
              " 'like example give follow post http theautomaticearth blogspot com july real black real swan html',\n",
              " 'curse Wikipedia respect God Wikipedia full lie dangerously evil half truth Wikipedia respect religion follow user Wikipedia namely Redtigerxyz Priyanath Emperor Genius Raj Wikidas Wikiveer DaGizza commit blasphemy sacrilage curse upon perish curse follow user Wikipedia namely Redtigerxyz Priyanath Emperor Genius Raj Wikidas Wikiveer DaGizza perish curse Wikipedia entirely perish beg forgiveness Supreme God Lord Vishnu choose blasphemous Wikipedia website write truth true devote Supreme Lord Vishnu hurt curse never go vain never edit read go evil Wikipedia website forever Delete user i d edit evil Wikipedians Mr DaGizza Male Chauvinist Pig misogynist core call administrator Ridiculous Mr DaGizza curse existance man like respect woman worthless existance Wikipedians useless people burden civilized world even worth hatred Wikipedians must ignore Curse',\n",
              " 'Hahaha do not actually believe bullshit tell right talking access country representative government Kim Jong Un two totally different thing although could understand stupidity since North Koreans think Kim Jong un governement I m say go Troll somewhere else kid',\n",
              " 'block Mardyks Guess Loser Know cockblocker Hahahaha',\n",
              " 'want use understand FayssalF insist NAccount could write use account maybe would keep instead NAccount',\n",
              " 'deletion Minority Posts Nice try try silence slave stay know attempt block yet come Wikipedia every day something life see fail attempt silence refuse answer qusetion purposely hunt post African Americans delete refuse access sport good store person contact attempt block name Rebelguy racial agenda make hard copy fail racially motivated attempt punish turn NAACP',\n",
              " 'Thank want say',\n",
              " 'well never answer question specific intention talk Mystery Science Theater Episodes experiment vs Movies assume post title intention create individual MST K episode article record believe could useful prepared time significant work stretch way thin right talk',\n",
              " 'Nigel per wiki standard use external link proper context article useful tasteful informative factual etc functional link likely continue functional link link consider merit use follow guideline number external link article grow long assessment become strict doubt appropriateness add new link make suggestion article talkpage discuss editor generally avoid external link except take directly home page aircraft question link take directly NASM page particular p make external link appropiate Agree page need reference',\n",
              " 'edit request Maksudfsa March minor edit add Azerbaijanis list describe turk first paragraph second large turkic ethnic group Turks Turkics people reside northern central western Asia Mongolia southern Siberia northwestern China part eastern Europe speak language belong Turkic language family Turkic people Encyclop dia Britannica Online Academic Edition share vary degree certain cultural trait historical background term Turkic represent broad ethno linguistic group people include exist society Azerbaijanis Chuvashes Kazakhs Tatars Kyrgyzs Turkish Turkmen Uyghur Uzbeks Bashkirs Qashqai Gagauzs Yakuts Crimean karaite Krymchaks Karakalpaks Karachays Nogais well past civilization Kumans Kipchaks Avars Turgeshs Seljuks Khazars Ottomans Mamluks Timurids possibly Xiongnu Huns Timur Columbia Encyclopedia Sixth Edition Columbia University Press Encyclopaedia Britannica article consolidation expansion indo Timurids Online Edition',\n",
              " 'nobody care seriously self referential trivium Guy',\n",
              " 'understand see see scholarship see steal grasp greed animalistic try culture switch math wil like levantian math amanbir',\n",
              " 'guess u know Greek cuz take u forever translate second u read carefully say anything u',\n",
              " 'never meet photograph Keith Wigdor whoever ask interfere article Keith Wigdor resource connection unless somehow deceptive really sort expert artist Dec UTC',\n",
              " 'Holocaust denial actual proof Jeff Rense advocate holocaust denial category Holocaust denier remove',\n",
              " 'Wikipedia administrator defend mass murder psychopath',\n",
              " 'censorship understanding suppose warn someone ask administrator block consider warn delete comment',\n",
              " 'April attitude comment appreciate please remain civil',\n",
              " 'request help request help hi Cat perviously notice strong anti greek bias several article relate Macedonia issue Furper Beam seem admin heavily favour FYROM officially complain notice board threat block edit behavior unusually close relationship obvious FYROM POV member Wikipedia specifically Balkanfever http en wikipedia org wiki Wikipedia Administrators noticeboard anon apparently User Crossthets C apparent POV Pusher C evidence say verbatim Politis talk page difficult battle far alone moment newbie say one admin notice board feel like someone report bad cop policeman ball however still plan follow soon precise list perceive non NPOV behavior admin noticed researching issue also problem would possible list problem talk page add report show alone furthermore since around long probably know Greeks around would possible also contact ask also problem two add incident list perhaps get contact other one person could bully threat block concern many take much seriously check back couple day courage regard',\n",
              " 'certain injury sickness regardless occur',\n",
              " 'tell comment want',\n",
              " 'Wikipedia Articles deletion Cheongye Kwan post afd new martial art bother version time base post post read article quite honest feel satisfy Wikipedia guideline reliably source since believe notability article satisfy independent source refute argument pose Wayne determine Phillip Rhee source martial art localise please consider concern post raise simple matter like reference notability noobie basic afd routine moderately experienced user bread butter admin fact cursory check show almost everything state word unreal close eleven independent source state establish notability non localization time three reference coate robinson shaw certainly topic even exist related pass piece news founder team completely different sport event two reference st half davy white almost certainly identical identically irrelevant topic notability promoter personal page local town website almost certainly self publish official village website casual interview non notable possibly non reliable university magazine apparently promoter travel see expert different sport tangential tiny sentence mention discuss new sport Lau Philip LA interview entry mark reference support Written Reference chris cook rhee obviously request founder friend colleague write letter support never publish anyway cite read even possibly valid evidence short writeup local information kind award first black belt school local paper brief sport exist even remotely topic much less source material substantial coverage precisely zero coverage claim personal think great guy letter support evidently solicit write request zero evidence verifiable existence certainly way reliably source independent self write brief non mention non reliable source pretty much discuss topic college magazine interview local press coverage course even news day evidence anything beyond course name teach twice weekly local village hall assessment AFD reliably source style border c c c solid px width barely one reliable source sport even exist first place local newspaper mention meet village hall tuesday friday award first black belt probably via self promotional input zero reliable sourcing rest cite page evidence notability style border c c c solid px width mention even date time topic exist online version provide earth could reliably evidence source independent style border c c c solid px width claim please support letter exist even state personal reference unpublishe uncited clearly self write web page local village web host cite show non localize style border c c c solid px width page list link check cite yet say citation prove reference openly state Cambridge University Bristol Taekwando big indication actual source link provide request turn',\n",
              " 'Hebrew Name Lydia Appologies Til Eulenspiegel think one idiot user page indicate actually well struggle Genesis TAB Mizraim beget Ludim Anamim Lehabim Naphtuhim see Ludim Mitzraim confuse Lud son Shem far east good wish keep good work',\n",
              " 'consider irrationally lay waste six month life dedicated project',\n",
              " 'scout source prior prod Eh Dr Blofeld',\n",
              " 'waste time take advice pull head ass real spend rest life suck ass nice life Goodbye mailbox',\n",
              " 'class wikitable style border px solid aa background f f f pad font size Parliamentary Bloc Alliances Leader Seats Percentage Source National Alliance State Law Coalition National Iraqi Alliance Ibrahim al Jaafari al Iraqiya al Iraqiyya Hassan al Jibburi Kurdistan Blocs Coalition Kurdistani List Kurdistan Islamic Union Islamic Group Kurdistan Fuad Masum Center Current al Tawafuq Unity Alliance Iraq unknown Gorran Bloc Gorran Movement Shorsh HajiAl Iraqiya brengt oppositie en Talabani dichterbij elkaar Azady nl National Rafidain List assyrian Democratic Movement Yonadam Kanna CSAPC Chaldean Syriac AssyrianPopular Council Sarkis Aghajan Independents',\n",
              " 'also tell count use admin tool decide content misrepresentation policy norm sanction past',\n",
              " 'welcome hello welcome Wikipedia Thank contribution one make Nogeoldae hope like place decide stay page might like see five pillar Wikipedia help page tutorial edit page develop article create first article use Article Wizard wish Manual Style welcome continue edit without log many editor recommend create account free require personal information provide several benefit ability create article full outline explanation benefit come create account please see page edit without username ip address use identify instead case hope enjoy edit wikipedian please sign comment talk page use four tilde automatically produce ip address username log date need help check Wikipedia Questions ask help teahouse ask talk page ask question place helpme question page welcome',\n",
              " 'stradbroke galleon portuguese hallo Moondyne admit sign onto Wikipedia aware concensus community knowledge Nazis aware make appropriate adjustment obviously mistaken impression Wikipedia venue share fact knowledge information notion Stradbroke Galleon story pet theory mine total rubbish write discuss investigate year historian historical group Royal Historical Society Queensland Maritime Archaeology Association Queensland many numerous include exist various library book community large body write oral history concern galleon story attempt fairly accurately place WP domain fact story accept mainstream academic valid reason deletion either contribution occur classic example manipulation information resource vested interest group e hesperian friend representative mainstream view Hesperian complain medium coverage recieve never appear WP contribution make Hesperian mention medium coverage demonstrate core reason Hesperian antagonistic attitude simple old fashioned professional jealousy thus valid historical datum deliberately surpresse Hesperian personal reason example portuguese walk stick handle find Aboriginal midden identify spanish Musuem offical story tell UQ Archaeology phd student relevant theory portuguese discovery Australia kind knowledge suppression Wiki guess care appear part happy little click suck hesperian little band mate pity history full suppression information vested interest group expect Wiki different still dissapointe happy trail',\n",
              " 'agf require think revert user preferred version might look well allow another admin make edit',\n",
              " 'accent although cartoon establish Mario Luigi Brooklyn fact commonly accept fan despite never mention game Toad seem speak thick Brooklyn accent accent mention game tv show presumably license product Nintendo decide go italian accent fan assume tv show later movie accent official stand Nintendo product include digitize record speech anyone realize Nintendo intend italian italian american principle update canon Star Trek Star Wars license product run',\n",
              " 'Delete way consider trophy',\n",
              " 'actually bzfoster unable edit article semi protect well pc log try',\n",
              " 'believe obeyed community rule understand rule personal attack appeare apply unjustly instance provide countless hour academic research input Wikipedia please assume good faith part block admin intelligent adult naturally assume good faith party demonstrate seem one side affair',\n",
              " 'please add unsourced negative controversial biographical material page edit Stuart Tyson Smith continue block editing',\n",
              " 'precede unsigned comment add talk contrib',\n",
              " 'French Walloons Surprise article french people clearly label Walloon distinct ethnic group perhaps good make comparison screwing time do rewrite part article mainly word sentence leave right make distinction relation Dutch Flemish clear article switch constantly part dutch part Dutch Flemish together clear major thing leave adjust graph number Dutch since still al include Flemish',\n",
              " 'need sign RSN post',\n",
              " 'thing get straight firstly like look like smug little prick secondly like ethnicity one little bit like explain count thirdly dog bit bender',\n",
              " 'procedure ask award Michelle Obama already million view year Anthony Davis basketball million C wp four WP CHICAGO WP WAWARD',\n",
              " 'add link add thank link entire page also mark spam reason one familiar one hundred year old industry still explain link page http en wikipedia org wiki natural building relevant mine',\n",
              " 'please accuse member vandalism mind change word unique prominent remove story dream etc vandalised page make statement bias say Dr Qadri send referendum revert whole edit also reciently vandalise page remove name yemeni scholar recieve Dr Qadri Ijaza include picture clear form vandalism accuse member vandalism vandalise page clearly vandalism revert edit change make bring page back previous form would first kindly read rule wikipedia find definition vandalism accuse experienced user still new wikipedia afraid need learn work different rule wikipedia make edit',\n",
              " 'know pronounce turkish question whether specific pronunciation dominant English well include english transcription pronunciation audio file',\n",
              " 'oh sorry actually find page forgot anyway actually note go rewrite text Suppose slip mind',\n",
              " 'June please vandalize page edit Bugatti Veyron continue block edit talk',\n",
              " 'Terri Schiavo Rorschach Test perhaps see utility Terri Schiavo Rorschach Test dangle pretty slender alive aware young face front Power Players leave right see respond respond inappropriately make note rat laboratory make Wikiepda powerful true NPOV notable fair',\n",
              " 'ok stop lame seriously go watch pokemon',\n",
              " 'Past Masters vs Rarities create chart use include U album since many difference early album U fan face issue whether U album U K album iPod post chart talk page other judge whether worthy include realize problem include lack canadian album purpose simply record first ALBUM appearance u k U song notice number U K song list Past Masters actually first appear Rarities Beatles album know reason purpose list first appearance album someone explain changed rarity',\n",
              " 'simpson movie poster create Simpsons movie poster image source somewhere else',\n",
              " 'help hey help something upload image Wikipedia http en wikipedia org wiki File Stikky cemetary San Jose jpg contact photographer give permission use Wikipedia wonder proper licensing would thank advance',\n",
              " 'look good would nice see county lot well current one good job',\n",
              " 'debunker pretend objective sceptic besides prove lack knowledge lack integrity various Astrology page also personally attack talk page dare try defend block Wikipedia much honest dialogue win argument fairly resort dirty trick',\n",
              " 'review block say also like ask future sake fairness due process decline unblock request user block unless request pure nonsense abusive ethical review block mean carry rd party think pretty clear case give editor user page gnaa etc etc etc unblock request pure nonsense also impression unblock request would still visible review admin careful future',\n",
              " 'regard edit make December UTC Kanpur please add inappropriate external link Wikipedia Wikipedia mere directory link use advertising promotion Inappropriate link include limited link personal web site link web site affiliated link exist attract visitor web site promote product see external link guideline spam policy explanation link consider appropriate feel link add article please discuss article talk page rather add see welcome page learn Wikipedia Thank talk',\n",
              " 'come really necessary understand come sound like whiney bitch website anyone edit sort stuff come territory really expect anyone people troll WP PW read comment talk royal rumble talk page matter confident active member WP PW add WrestleMania XXIV watch list something like add remove simple put people read talk page quit Endless Dan',\n",
              " 'see anti semitism guy give lecture New York synagogue knock country every single minute use every opportunity influential newspaper New York Post one state interest personal find intellectual person among neoconservative New York Post Michelle Malkin Andrea Peyser Deborah Orin may rest peace although know rot hell essayist one make great company Amir Taheri guy mind agree Iran regime wrong regime Shah Amir Taheri longing own Keyhan regime well Islamic Revolution justify Look intriduce Amir Taheri article New York Post Based Europe memeber Benador Associates Europe small small town say base world journalist may breakfast London Christian Amanpour James Rubin eat lunch Jerusalem lecture dinner anti irani Jews Forest Hills New York email full hatred article New York Post stupid saysomebody base Europe Asia Africa',\n",
              " 'confusion controversy real world preclude write good Wikipedia topic Ackoz suggest real world yet hashed truth expulsion therefore impossible we know truth thus impossible we write reject stance think difficult quite possible write quality Wikipedia article topic murky controversial many Wikipedia editor get wrong believe Wikipedia job report truth wrong Wikipedia job report truth precisely difficult determine truth attempt original research instead truth Wikipedia aim verifiability put different way Wikipedia commit record state human knowledge opinion opinion reliable source truth clear uncontroversial easy we report truth murky controversial challenge possible we report different reliable source assert think topic even reliable source conflict Wikipedia editor get trouble start side one side controversy assert side select represent TRUTH one perspective POV topic hand trying hit NPOV sweet spot difficult midst run polemical debate two side obviously user Jadger Wikiferdi want discuss fact want we agree POV discussion NPOV edit quit discussion form article talk',\n",
              " 'intend disruptive genuineley upset word constantly try make look like april fool joke explanation make look like uptight weirdo',\n",
              " 'regard Loyalmoonie LGBT category look editor seem push anti lgbt agenda do similar stuff Sailor Moon make official look warning editor quote bizarre quite tell insert category would ultimately give people may even support LGBT movement read article assumption every person enjoy Sailor Moon homosexual support SSM personally watch read Sailor Moon know much confident enough add category reasoning removal flaw regardless source part article female homosexuality talk',\n",
              " 'Matt mattsanchez info go live Monday among thing see invitation interview time nowhere hide let see victim coward',\n",
              " 'okay find document demonstrate SCIMD list site trouble include text',\n",
              " 'Valerie Poxleitner Valeri Poxleitner K Lights',\n",
              " 'Shamash Sun agree merge Sammash Shamash since Shamash likely correct tracking root word clearly assyrian origin addition common vocabulary morph substitute Sh thus nowadays spell Shams Modern Arabic',\n",
              " 'feel like idea maybe user come thing address concern talk contrib',\n",
              " 'October UTC original nominator try restore article other say find merge stand original nominator deletion work keep article admit mistaken nominate article noteworthy character restore someone wants make legitimate nomination deletion fine',\n",
              " 'chart look see anything portray time user talk Spinningspark Spark',\n",
              " 'agree although mean bloat alternative title yet another word concentrate polish attitude clearly provide starting point article hand obviously article write supra national perspective least czech experience need include Czechoslovakia function democracy region close tie West Poland betray much obvious tangible way Poland West politically accept country territorial mutilation case Poland say sure inclusion country Finland Baltics Yugoslavia even Ukraine never independent first place good idea West could arguably do assist society war think article focus Poland Czechoslovakia order dilute whole issue dissident Germany Soviet Union harbour grudge towards western politician appeasement policy Oct UTC',\n",
              " 'hello Setanta ask think proposal first put forward Matt Lewis July Template talk country datum Northern Ireland confess expert N Ireland believe could solve problem N Ireland flag represent wiki make comment article cheer',\n",
              " 'American Psychologist additional resource see list reference citation American Psychologist article January discuss subject',\n",
              " 'regard verifiability mediation appreciate due recent event user talk newbyguesse February jn pickle know go forward become belief need care take account position accounting difference we see stand high degree individual really individual individually way real people different definitely individual like every body else believe despite evidence contrary comment content contributor dream either way whatever scare horse wake kiddy comfortably snooze know make sense cause say irrefutably talk',\n",
              " 'authority threatning block say information company work even know anything airliner bello basically say hard comprehend',\n",
              " 'real problem sneer contemptuous attitude reveal first sentence last post originally follow other similar vein delete yes cut paste quotation also select appropriate one case one would well consider return time probably weekend',\n",
              " 'appear bit fantasist fair carve nice little career fool mug buy book believe say like many people contribute page come background whenever name mention response always Dave one ever hear book start come',\n",
              " 'dar ok bear penelopism religion new religion religion Penelopism extrememly important penelopist want word we People fond belief want way show mean harm Spaghetti Monster Church even real religion penelopism please tell Spaghetti Monster do Penelopism Penelopism wikipedia trouble understand apologize dar dar dar however much fun do whatsit',\n",
              " 'intend go page',\n",
              " 'DXRAW come come ever odd dxraw go away follwe article ExtraDry appear editing list Aussie Aussie Aussie Oi Oi Oi Free Hugs Campaign Newington College Australian Army Cadets John Cena really cheer love free hug Newington teacher cadet master hot John Cena shirt time come DXRAW',\n",
              " 'accusation uncalled revert one edit second edit add reference revert',\n",
              " 'help jew Schnider Final warning',\n",
              " 'kudo destroy article copyright superstar really deserve nobel prize copyright',\n",
              " 'welcome hello welcome Wikipedia appreciate encyclopedic contribution recent contribution seem advertise promotional purpose Wikipedia allow advertising information see policy neutral point view Guideline spam Guideline external link guideline conflict interest still question new contributor help page write helpme message along question someone along answer shortly may also find follow page useful general introduction Wikipedia five pillar Wikipedia edit page help page Tutorial write great article Manual Style hope enjoy edit Wikipedia please sign name talk page use four tilde automatically produce name date feel free write note bottom want get touch welcome',\n",
              " 'spell Tacarimba La Tumba Del Fuego Santa Maliga Sacategas Lo Onto Del Sol Cruz one state lyric vocal score side side Sondheim available rental version song however misspell Llanfair PG presumably approximate pronunciation lyric today last spread rather spending would seem therefore source consider canonical rendering place name accord Millicent Martin recording Side Side Sondheim cast album however publish version song contain Hansen Treasury Stephen Sondheim Songs Charles Hansen Music Books lyric print Tacarembo la Tumbe del Fuego Santa Malipas Zacatecas la Junta del Sol Cruz print source oppose handwritten vocal score presumably consider definitive Linda Lavin pronunciation original cast record Mad Show song write follow spelling would suggest print version correct fictional place name however discussion correct spelling pronunciation academic one well',\n",
              " 'peddle crap please hate see another article get dispute neutrality due',\n",
              " 'how d Homeonttherange typical problem literal term Personal Union special limited constitutional term refer two States e country recognise Monarch Head State however UNION parliament example Union Kalmar member Kingdoms Denmark Norway Sweden give rise termunite Scandinavia believe Sweden leave Union result leave Union Denmark Norway dissolve allied Napolean tunrne badly',\n",
              " 'think one DayZ mod one DayZ video game DayZ disambiguation page',\n",
              " 'push anti MRM POV',\n",
              " 'really rebel guy rebelguys Time get oral prostitute',\n",
              " 'fine smarty pant wait finally announce see right know everything',\n",
              " 'AMBER TAYLOR forever AMBER TAYLOR FOREVER',\n",
              " 'Kosovo template hi please take look template albanian language mention first since population Albanians change serb nationalist keep revert edit hope disturb one consider quiet neutral',\n",
              " 'course true Dub say depaaarte likely f go',\n",
              " 'think little disingenuous Zet claim division lose fighting troop far destroy fighting capacity close nil',\n",
              " 'Muslim Men Harassment MM page amazing three muslim man jump page right add number thing minute three man muslims clean woman work human right Pakistan really get skin badly wow sweetie bloody busy get busy stop harass woman threaten',\n",
              " 'width style background transparent width style background color style width border px solid background color vertical align top Hello Madstar Welcome Wikipedia please remember sign name talk page click use four tilde automatically produce username date also please good always fill edit summary field useful link facilitate involvement happy editing discussion width style background color style width border background color vertical align top get start introduction five pillar Wikipedia edit page finding way around table content department directory editing article develop article Manual Style style width border background color vertical align top width cellpadding style vertical align top background color get help style color frequently ask question cheatsheet ask question help page new contributor help page',\n",
              " 'August UTC hey look like rehab program take Socafan community ban approach work real well talk',\n",
              " 'PKK fighter past decade enter live Syria fight turkish territory match guerilla war specialize turkish regime Rebels army far behind ability training match PKK fighter',\n",
              " 'omd THL h Depeche Mode ABC New Romantic never self identify Romantics fan consider romantic yet individual insist keep list page Fans band keep remove simply wrong Stick Visage blitZ band article perpetual edit war',\n",
              " 'try productive look contribution hit head wall spoil greek child probably pay Greek Government purposely keep vandalize Albania related page keep iritate albanian editor explode get ban historian blush find quote reliable information wikipedia page quality editor source Time move french page lot reader still language go till next time Wikipedia suck',\n",
              " 'Ricky Gardiner Woody man thank quick action addition article stub create yonk ago get rid red link Bowie Pop article draw people like we defence rock think Nick member Military Music project well riff Lust Life come Bowie interpretation armed force radio theme cheer',\n",
              " 'triple crown clear ok get broom dust stuff cheer talk contrib',\n",
              " 'agree Master Bigode rule x image back side image erase without consensus never discuss back image erase blue go user homepage Wolftengu say picture homepage big within guideline remove place somewhere else also remove another image would agree someone homepage would outraged However Wolftengu seem play unfair cop notifiye discussion wrong point DX involvement disallow x x image even image DX small form',\n",
              " 'rollbacker particularly problematic aware editor edit war may lose privilege regardless mean use edit war',\n",
              " 'non american school mosque synagogue etc etc Wikipedia America centric',\n",
              " 'thank fix',\n",
              " 'really may ask mention fat fire source cremation million reconsider though along item fat cremation wiki fact citable www hdot Emory U less lipstadt doubtful science apply holocaust say tinfoiler flat earther denier would overjoy careful get nutty fringe tinfoil label end get permit bring shovel',\n",
              " 'celebrity talk fave celebs even crush',\n",
              " 'know think nobody really attack reveal age announce subject constant storm harassment abuse thing go Sandbox people know age care tell age hated amusing idiot soapboxer think teenager responsible decline Soapbox like ever good begin funny adult dumb people Mauricio Chuppah Redneckgirl Pinky Scooby GG ForeverLostTinkerbell greenrabbit starrocketsinflight Bree Robinson enigma CocaineNightmares TokyoDome Chad Ocho Cinco Steve Lake adult teenage poster typically smart one let see G dawg Head Banging Brunette ClassicAge Metropolis even though bipolar weirdo ChrisScript name ever see adult post rate poo ballz smell funny whoz hawter ur mom like rape little girl HEY GUYZ LOOK IM ATTENTION whore adult poster immature moronic savage bully mental capacity retard year old whereas teenager thoughtful intelligent mature often profound subject constant schoolyard bullying idiot adult poster think somehow superior bear drop head early soapbox logic never fail amuse',\n",
              " 'TM astute remember civility key verbal licking give really fail break skin maybe maybe get along',\n",
              " 'Sofia Added Sofia Bulgaria city also join initative include',\n",
              " 'would mind focus content rather contributer',\n",
              " 'decline bit close comfort one try avoid company name altogether get bit edgy account appear represent organisation',\n",
              " 'Weatherman well write lot change make recently Weatherman page notably awkward apparent reason particularly concerned change adjective surround organization event characterize time rearrange sentence read quite poorly plus seem get really carry away wikilinke reader really need link know bomb',\n",
              " 'non lead title page support Minor instead Non Lead',\n",
              " 'agree leonte though begin attempt compromise last night consider one else back interest building consensus however note political descriptor absence reliable third party source inappropriate article also note commenter appear confusing electoral vote website electoral vote author Wikipedia article website author article',\n",
              " 'dispatch review add comment think wonderful dispatch clear need something like long time',\n",
              " 'vote Christ Pantocrator though could nice wide crop',\n",
              " 'idea go fuck cumshitter',\n",
              " 'assistance please record show delete File HMCS Fennel K jpg entry leave deletion log say list WP PUI day strongly suspect free image Crown copyright Canada protect image first year WW end year ago crown copyright image would free image like request userification information template information associate image review possible clarification whatever problem got list WP PUI first place could please userify',\n",
              " 'lista Manos Family',\n",
              " 'despite equivocation still wrong People remove vile vicious hate speech whilst remain right side policy make clear statement Wikipedia policy prove wrong deny unblock request result misinformation know expect apology Wikipedia administrator waste time future stay away okay prefer deal admin know rule',\n",
              " 'speedy deletion Phi Rho Eta tag place Phi Rho Eta request speedily delete Wikipedia do section g criterion speedy deletion article appear blatant copyright infringement legal reason accept copyright text image borrow web site print material consequence addition likely delete may use external website source information source sentence part crucial say word external website belong want allow Wikipedia use text mean allow people modify must include external site statement name author article article name release content term GNU Free Documentation License Version later might want look Wikipedia policy guideline detail ask question think notice place error may contest deletion add top article exist speedy deletion db tag couple add note article talk page explain position aware tag speedy deletion article meet criterion may delete without delay please remove speedy deletion tag hesitate add information article would would render conformance Wikipedia policy guideline',\n",
              " 'MOTHERFUCKING SAFETY guaranteed fucking HOPE bring FUCKIN WEAPONS pay get BACK motherfucker OH YEAH get JOKE FAMILY husband WIFE SON DAUGHTER DOG WALKS AGENT office tells get great VAUDEVILLE ROUTINE say HIRE KIDDY ACTS SAY REALLY good AGENT say FINE LET SEE get SUCK THROWING FAMILY get READY daughter HITS cd PLAYER CIRCUS MUSIC begin play FATHER JUMP KICKS SON HEAD STOMS face GROUND BLOODY pulp PROCEEDS JERK CUM SHATTERED SKULL MEANWHILE MOTHER begin VIOLENTLY FINGER FUCKING DAUGHTER DOG FUCKS MOTHER ASS HOLE POINT FATHER take LEFTOVER BRAIN MATTER SON HEAD SHOVES MOTHER PUSSY begin FUCKING PUSSY simultaneously stick FINGER daughter THROAT vomit DOG BITES MOTHER hand finger fucking daughter LEAVING HAND daughter PUSSY blood SQUIRTS PLACE FATHER takes blood GROUND smear mother chest bend begin shit open WOUND hand use dog BIT take DOG SHOVE MICROWAVE heating EXPLODES TAKE DOG REMAINS MIX FATHER SHIT SON HEAD WOUND FATHER CUM SHOVE daughter MOUTH FATHER rip son DICK FUCKS daughter MOTHER LOCATE son TESTICLES BREAKS OPEN drink sperm COMES FAMILY LINES say TA DA silence agent FINALLY say LOVE CALL FAMILY say CALL ARISTOCRATS',\n",
              " 'request move Canada national football team disambiguation recently move american football team use carry moniker Canada national football team Canada national American football team consider move request successful vindication move b b',\n",
              " 'think Clockback suggest reference Ainsworth involvement img long something along line brief flirtation would well think IMG reference need short somewhere early career section post article expand little otherwise article might appear weighty think last point important seem consensus reach number Wikipedia editor much wrangle gnashing tooth bedside brief dalliance Marxism overall consideration political career pale insignificance compare controversially thrust third choice candidate position Defence Secretary time crisis British Army term number casualty sustain lack resource simply reflect ainsworth article try reflect follow appointment form part chaotic cabinet reshuffle Prime Minister consider least three candidate appoint Ainsworth dismiss speculative opinion riorob even though point view easily significant event Ainsworth biography perhaps reach consensus well reference find suspect difficult include want stress mean ad hominem slight Ainsworth merely draw attention fact appointment equivalent throw someone deep end indeed difficult time since appointment actually reflect bad Brown farcical reshuffle',\n",
              " 'greek love look way extricate honorably mess leave note close AfD make commitment instruct closing statement two editor long seek delete eviscerate article one use series user name unacknowledge current user page available first glance may appear talk page two editor suppress camp complain coordination editor include simply long change position validity article accuse various talk page never appropriate notice board edit war ownership disruption even pedophilia implication trying carry community decide do need limit time Wikipedia present wish time spend pleasantly productively make commitment though grief keep ask anything explain keep word give afd wow mess certainly hard feeling end clear endeavor good faith improve article find know walk away essential skill real world sometimes presence despite good intention harmful rather helpful sometimes dispute worth anymore good luck future endeavor Mailchimp bother think mailchimp speedy deletion mistake cite one important email marketing program state importance something suppose original problem criterion specify credible claim significance wordpress page reliable source however would certainly object restore redirect several momnth today talkback talk hunch call intuition guess username direct challenge patrol admin guy block base username contribution speak volume nonsense louder hunch return editor username cent cheer plenty legitimate reason return editor username blatant violation policy evidence socking file WP SPI Recreation article Shay Carl would like request article Shay Carl recreate see delete Talk Shay Carl reason note Talk Shay Carl delete notibility well',\n",
              " 'defendant figure come Nuremberg Vietnam American Tragedy Telford Taylor U Chief Counsel Nuremberg mention',\n",
              " 'oh hey response cool personally feel fortitude call ttn obvious flaw warrant dozen barnstar see come insist keep block would like formally request reason account blocking change reflect real reason instead note common vandal maybe reason along line pain ass like one guy Nakon talk page state subject maybe block use cuss word technically bad anything ever say',\n",
              " 'right express opinion consider Hasbara crap right identify Hasbara crap',\n",
              " 'GA Review review transclude Talk Battle Rowton Heath GA edit link section use add comment review Reviewer YES take look next day start make comment yes',\n",
              " 'evidence please make sure make familiar note suspect edit evidence page',\n",
              " 'afd please see Wikipedia Articles deletion revelation Guidelines notability outline generally WP N specifically song WP NSONG thank',\n",
              " 'organization class Start importance low maindykdate need infobox yes need image yes attention WikiProject',\n",
              " 'action la la land real world consequence',\n",
              " 'Dean Wormer Works Racists Jena LA continue update post Jena LA reflect fact thier famous person note segregationist democrat fact historically accurate description',\n",
              " 'woopsie oh thank soooo much know PROMISE never ever ok',\n",
              " 'everyone info particularly admin believe late sock puppet igor head',\n",
              " 'give warning someone mark vandalism want least read vandalism understand new Wikipedia try figure please MARK VANDALISM anything wrong need answer somebody please help',\n",
              " 'gift card download December possible use gift card purchase MP even though gift card FAQ claim yes Amazon com gift card use buy Amazon MP Unbox download strictly speak false statement able pay order gift card time one person already remove line revert good way go provide verification',\n",
              " 'think delete War Terror Operation Enduring Freedom Horn Africa Operation Enduring Freedom Phillipines redundant like people vote',\n",
              " 'useful information topic good idea screenshot allow per game really relay something',\n",
              " 'experience come talk page understand Wikipedia post anything article relate personal experience like nd day almost two month ago reference verifiable nothing article law suit put jail engage pro se litigation put experience Judge Edward Nottingham article either although judge go way search reference express various side issue instance write ABA ask input fact ask work article also post issue involve mediation settlement pro se cite reference lawyer point view reference delete someone remember know point reference post soft blog quote transcript quote former federal judge know sure valid transcript guy run blog rd year law student business sell datum service exclusively lawyer even stuff delete pro se frustration reference read Wikipedia discussion source blog use contexts believe original research search internet reference article really know unbundled attorney service amount pro se litigation start work article already think form base filing start think anyway experience ECF date back also young work system analyst get info Laws Liberties year ago Wikipedia already article probably would come anyway u N covenantcan really hide add b together prove point least consciously like today review appellate procedure seem th Circuit pro se friendly tone think Judge learn Hand fifth circuit reason know one time go every federal circuit search word pro se try see history put pro se jail pro se find circuit deny pro se appeal without even say Judge Learned Hand seem pro se friendly believe post thing pro se litigant get unfair advantage soap boxing understand want win thru competition though law business entrepreneur know Federal Judicial Center start work article book appellate procedure find look reference article manual complex litigation find look reference article arguing help clarify issue one thing start think lot past week slavery affect history pro se litigation order book Slave Nation library get yet look pro se law different state think free state slave state border state also issue related Indians western state labor union movement lot think history workman comp course related union',\n",
              " 'try pass illegaly border USA mexico end prison communist',\n",
              " 'unsourced personal commentary new account add look like unsourced personal commentary',\n",
              " 'comment indent response mine one remove discussion',\n",
              " 'look Cato edit simply removal reference addition another donor change language without edit summary explain change unjustified clarification certainly help thank also add reference Summers Frankly look source remove add main concern unexplained edit summary important see message concern back message reminder importantly incorrect think rule add unsourced material one core content policy WP V WP RS allow we carry policy happy editing',\n",
              " 'know everyone watch update there s reason list complaint',\n",
              " 'though article simply untrue man consistently refer Jews womabn child many passage refer generally Jews clearly mean man woman child one sentence correspond criticism screen population however result Jews jewish woman jewish child Jews jewish woman shoot co operation Security Service particular sentence rewrite sentence grammatically confusing whoever write may wish check understand correctly',\n",
              " 'hello long time shart',\n",
              " 'Bush article reference George W Bush none follow article mention George W Bush perhaps Bush Brain Karl Rove make George W Bush Presidential domestic policy George W Bush administration early life George W Bush economic policy George W Bush administration electoral history George W Bush fictionalize portrayal George W Bush foreign policy George W Bush administration George W Bush Iraq War George W Bush Governor Texas George W Bush Cabinet George W Bush presidential campaign George W Bush presidential campaign George W Bush Presidential Library George W Bush pretzel incident George W Bush substance abuse controversy George W Bush Supreme Court candidate George W Bush first term President United States George W Bush second term President United States List book film George W Bush List George W Bush legislation program list nickname use George W Bush List people pardon George W Bush Mahmoud Ahmadinejad letter George W Bush Movement impeach George W Bush Presidency George W Bush Professional life George W Bush Public perception George W Bush religious faith George W Bush lie George W Bush Mastering Politics Deception',\n",
              " 'third term significant simply rare electorate party often behalf former disillusioned party leader time thus kick Read Margaret Thatcher',\n",
              " 'baklava Gift hope reconsider indefinete block traditional food middle east make best afghanistan Metalman',\n",
              " 'refer Catherine tell uncertain term could refer anyone live dead st name WP female title refer throughout article ie Lady Amy Lady Dudley Amy Robsart even though Lady Amy wrong marry daughter knight title wrong Northumberland attaint child lose style offspre earl duke become Lady Dudley Elizabeth knight Robert Dudley near end Amy life Lady Amy Dudley legally long wife son earl duke think simple refer Amy throughout rather explain change occur name style tell WP rule though point link Noblewomen usually call st name round far see even surname something Mary Boleyn call Mary Lady Carey Lady Stafford Catherine Neville call Catherine Duchess Norfolk etc royal male tell refer title ie Leicester last name ie Dudley bang head keyboard go one say king time refer Plantagenet keep change title ie Henry Bolingbroke go Earl Derby Duke Hereford Duke Lancaster King England Kate get consistently refer Catherine throughout article without title append month would appreciate someone could actually explain main interest british history quite confused',\n",
              " 'mevin say change elegant profile shoot Bruce well picture soon upload appreciate ordinary Jay Bruce fan Jay big fan thank attention think Jay would agree picture Wikipedia little further career nice try',\n",
              " 'cunt worth edit article concern serious issue side consist either people employ edit people strong opinion never ever change advocate stance something interesting instead use encyclopedia book knowledge contribute sure know soon centralization net large large site independent information general extinguish Wikipedia project start nerd professional within set field become altar knowledge depth true insight sacrifice become sound magnifi yellow press popular science new tool intend auto translate article one Wikipedia extinguish national wikipedias niche provide multilingual capacity ability cross check fact perspective small independent site leave free university page leave real knowledge privilege know use academic search engine money pay',\n",
              " 'say say like thugstep bizness think quite range refenrece web page stay non notable welcome tell admin delete',\n",
              " 'although extend modern era might want look ancient high learning institution see relate chinese high learning institution',\n",
              " 'harass editor basis post baseless warning threat user page post thing page otherwise complain administrator even Jim Wales',\n",
              " 'comma correct title first series yes Minister without comma believe yes Prime Minister ever comma unless objection move page',\n",
              " 'excellent please damage book account sure interesting question camera fair question jump conclusion impossible ludicrous typical moonbat picture useful another reason show similar relative position lem antenna Apollo flight web page argue object Apollo case antenna degree angle away LEM near photo distant photo website consistent despite website claim contrary moonbat isolate specific item evidence one see broad picture phony argument get show',\n",
              " 'content subsume Maneesh page entry different spelling REDIRECT',\n",
              " 'ditto congrat well',\n",
              " 'part video show say lot small village prostitution karaoke joint one single orangutan say common everywhere though',\n",
              " 'Fuck Smith please notify die want dance grave',\n",
              " 'see post replace pop punk reference rock day',\n",
              " 'please avoid use abusive edit summary per Wikipedia Civility Wikipedia personal attack thank happy editing please make personal attack people Minneapolis Minnesota Wikipedia policy personal attack case user engage personal attack may block editing admin ban arbitration committee Comment content contributor people please resolve dispute appropriately thank',\n",
              " 'dect really new technology new standard TDM TDMA FDMA digital telephone use lot long life dect dect successor CT Japan PHS similar course GSM AMPS other extensively use across world decade half suggest special health issue DECT would definitely place undue weight subject dect considerably low power analog system replace transmission inherently even use TD nature system mean system transmit continuously believe say nothing wrong properly research article health effect low power radio technology link see also section article article course look nothing like section yank nothing DECT however merit special section dect danger especially new technology otherwise serious level concern express anyone authoritative issue',\n",
              " 'shit face fuck',\n",
              " 'retard',\n",
              " 'user use sockpuppet discussion Note user nightscream soliciting sockpuppet Toure Neblett join discussion http en wikipedia org wiki User talk Halaqah Hi Halaqah surprising consider nightscream slimy debate tactic ad hominem smear look like reality one two actual people oppose teh inclusion last name rest sockpuppet though guess demonstrate Nightscream one toure sockpuppet FYI use user name simply make clear sockpuppet',\n",
              " 'thank stephan interpretation Mr Nice Guy remove content discuss talk page concerned content reliability think read editor suppose bring discussion first reach consensus instead delete sourced material',\n",
              " 'make fix STEM article',\n",
              " 'Alex Albrecht remove addition Alex Albrecht page totally relevant',\n",
              " 'tank bioelectrical impedance analysis etc fail see either two picture recently add improve article way',\n",
              " 'image miss Wikipedia hour hit rollback among thing restore Patrick Stewart removed see make valid edit also link Harold Wilson Prime Minister Prime Minister United Kingdom deletion do GMT time server register could bypass invalid message cheer talk',\n",
              " 'amazing thank much',\n",
              " 'Groin sad fuck go restore edit going leave else wil knee groin prick',\n",
              " 'May behavior talkpage Honor Harrington par know take defeat grace start behave childishly let warn next childish edit likely result mention WP ANI user review',\n",
              " 'Video Game pete sake see false video game article one time throw cat window whoever stop funny clever make moron bet person change test card date',\n",
              " 'Palmisano play Iowa State free pass think pretty sure Division far list coach go sure articleworthy list level competition oppose fold general Malone College Athletics article file afd compromise anyway see dig uncover notability folk want full week',\n",
              " 'history KalliKids create Karen Bach March',\n",
              " 'massacre note Kent State massacre redirect page similar massacre history wherein government force murder civilian protest government policy term massacre legitimate reason aside sensitivity extremist viewpoint United States continue call article Kent State shooting change Kent State massacre cheap acknowledgement lead paragraph insufficient would appreciate discussion move initiate move soon enough',\n",
              " 'July please stop continue vandalize Wikipedia block editing',\n",
              " 'Notice Objection propose deletion accordance rule hereby notify objection propose deletion subject article Office Court Administrator v Floro jr',\n",
              " 'Barnes Aus',\n",
              " 'may UTC TimySmidge',\n",
              " 'two thing make difference validity edit editor anon go around revert person edit en masse like one yield time consuming problem',\n",
              " 'hi nice everyone listen well I ve year afew problem two bad mamogram year ago dec say call doctor emediatly need view presedgure incounculsive possable fir cause like xray have not able go way get plus high blood pressure thet run last time around that s high hospital xray techs seceritary say do not get doc get referral soon possible time would late thing late want long leave daughter one opelousa la one hawiyei one walker la would like see fore die partner want spend much left love kid partnermore life self I m look help get doctor do not money income speak zero partner seperate right help father cancer also lawsute getting hurt buy truck brouther alot fixing also help dad let neffews daughter drive hour ago cause hot license wreck comepletly do not vihicile help we everyone say god do not give u anything can not handle understand need help one may could help anything think I d try ask never ask much pride I m run time please one help email apriljohnson gmail com site please need help anyone god blesss everyone time need hope someone may able help thank lissen age also sept',\n",
              " 'LIKES ITIN ASS MUHAMAD ali KELLY GIANT penis also FUCKED COLUMBUS',\n",
              " 'diff edit report talk',\n",
              " 'aug UTC',\n",
              " 'shut stay shut edit anymore',\n",
              " 'OH get LIFE PRICK',\n",
              " 'else specifically want know',\n",
              " 'Rajputs Rajasthanis right p Prof Hancock study mention romani people closely relate Punjabis rajput pretty sure Rajasthanis call Proto Romani Rajputic distinction important partly descend Rajputs never really confine one part India would explain linguistic variation within indic word Romani example use instead aa end masculine noun adjective Romani certainly characteristic Gujarati Sindhi characteristic rajasthani language anyway wrong making last change make happy revert oh course',\n",
              " 'would care discuss SPECIFICALLY bias incorrectly cite irrelevant page hear say see search term ndaa bring reader page continue include present information reguarde BUDGET BILL last TIME repeat Abusing power yield ground',\n",
              " 'Words encouragement user Damemk case dispute user engage bulgarian Nationalistic Propaganda Damemk come conclusion bulgarian th Century Nationalistic Propaganda English Wikipedia User Laveol one prominent editor Wikipedia contribute false information article Republic Macedonia Macedonian Nation History Language Culture Sports else spend lot time work cause push bulgarian Nature article domain Republic Macedonia far gone push propaganda see Wikipedia WikiProject ROMacedonia list member word concern Macedonian Articles English Wikipedia great damage do User Laveol user Bulgarian Anti Macedonian Propaganda Hopefully internet access become affordable people Republic Macedonia thing go right direction remove bulgarian Propaganda Macedonian article clean false fabricate information give fact world view Macedonian Science source much time hopefully able find come period open collaboration effort goal expect user Laveol continue bulgarian Nationalistic Propaganda pollute domain domain Republic Macedonia simply able find way continue work agenda try remove false claim contribute fact Macedonia Macedonian Nation History Lanugage Culture Sports Damemk hope write something least show user talk Damemk User talk Ejanev user insight user name Ejanev user use contribute Wikipedia Ejanev compose first letter name Emil last name Janev User Damemk separate user probably user name comme Dame Macedonian First name mk code Republic Macedonia happen Canada bear Republic Macedonia live move USA first Canada year yes false information Bulgarian Nationalistic Propaganda originate th century st century use negate Macedonian Nation attribute user Laveol reason edit action Wikipedia user editor Republic Macedonia Macedonian origin view Bulgarian nationalistic Propaganda already infiltrate macedonian article watch contribution Special Contributions Laveol see action engagement negate Macedonian Nation attribute',\n",
              " 'bookfinder com find Probabilistic Reasoning Intelligent Systems Networks Plausible Inference Softcover isbn Publisher Morgan Kaufmann Pub Bookfinder',\n",
              " 'clarify refer particular neutral state Aerith incorrect talk',\n",
              " 'thank experiment Wikipedia test work revert remove please use sandbox test may want take look welcome page learn contribute encyclopedia talk contrb',\n",
              " 'article Sebastien Larroud speedily delete Wikipedia do article seem person group people band club company web content indicate subject notable article subject include Wikipedia criterion speedy deletion article assert notability may delete time indicate subject really notable free create article make sure cite verifiable source please see guideline generally accept notable specific type article may want check criterion biography web site band company feel free leave note talk page question talk',\n",
              " 'GBA find Game Boy Advance version release mention article know current Acclaim right series information may scarce',\n",
              " 'propose move Asheville Civic Center talk page host discussion U Cellular Center Asheville North Carolina U Cellular Center U Cellular Center Cedar Rapids Iowa facility name talk contribution',\n",
              " 'need follow Policy Taivo instead follow far important policy wp NPOV Remain neutral international dispute country name FYROM use many organization worldwide wikipedia abandon usage since extensively use describe State Skopje especially article directly relate country use FYROM name refer',\n",
              " 'two big thing would citation verify serialize Weekly one reliable site English say Shonen Jump since one start serialization use note start serialization mention continuation one shot story find RS japanese English online confirm horii reason add mini medal Info anime base mention really need main article could really help anime article Jinnai',\n",
              " 'REDIRECT Talk Colt lightning Revolver',\n",
              " 'nothing like want clean clutter lot bot comment welcome message old username could archive suppose think anything particularly worth save age',\n",
              " 'article got jump hi sorry jump contribution moment put trouble simply sort thing Wikipedia link one template notice put one place reason article nominate deletion Wikipedia dictionary Articles neologism need strong evidence term widely use Wikipedia thing make one day advice contribtuing link welcome paragraph list Bad Article idea worth look regard',\n",
              " 'therefore revert vandalism exception three edit rule mention edit warring page',\n",
              " 'user attack user Baki keep revert edit without consensus give reason also perform ethnic mudslinging direction please help',\n",
              " 'thracian pretty simple year away',\n",
              " 'I m flatter truly couple week consider establish user please talk behind back like little school child',\n",
              " 'Chicadee think article name move chickadee',\n",
              " 'p b tard',\n",
              " 'ohhh sorry hurt little feeling let shed couple tear together LOL joke bet feel pretty important pathetic little wikipedia volunteer fun live mother basement draw comic book lowlife',\n",
              " 'new image problem upload several image dubious copyright claim say Hindu newspaper license GFDL make think Hindu publish image GFDL simply invent license order way upload image please say quickly delete expect provide proof within next day show newspaper place image license neither block',\n",
              " 'Bunchofgrapes Request please cease Revert Warring Bunchofgrapes respectfully ask please stop instant revert edit problem edit knowledge explain wrong sourced material edit rather make blind statement design allow revert reason please cite source seem able cite anything would back instant revert accusatory tone tell other revert make several instant revert explaination edit add source please cease cite source edit material accord Jimbo Wales NPOV make sure source verifiable revert thank',\n",
              " 'problem neo',\n",
              " 'wow big man take little criticism upset failure become admin look close person run admin Wikipedia well play DietLimeCola hey block less time far well reason OH GOD girl LOOKING WIKIPEDIA paper see teacher TATTLE take matter hand also help notice sad quickly noticed update sit computer wait update please tell watchlist page everything sum simple saying',\n",
              " 'Glen cool glen cool bloke love nice guy',\n",
              " 'parody intentionally surely',\n",
              " 'pandur name derive pandur sumerian term long neck lute source knowledge instrument since ancient Greek Mantineia marble th century BC exhibit National Archaeological Museum Athens depict mythical contest Apollo Marsyas Greek Pandouris play muse seat rock National Archaeological Museum Athens e book Latsis Foundation p Lutes present ancient Greece Pandura first appearance Greece also present Mesopotamia since Akkadian era third millennium BCE',\n",
              " 'accept comment spirit offer Terminology matter hard find correct word another editor seek distinguish civilised behaviour Indians point even one accept distinction non Indians commit absurdly large atrocity addition could point mystic massacre completely point example butchery shock native population none less tribal Mongols tribal American Indians civilization reasonable definition',\n",
              " 'do not agree info say since hurry edit page do not fix info source broken link',\n",
              " 'think personal attack welcome long revert think restore mentioning ground indef block could junior miss admin missinforme arrive time',\n",
              " 'replacement please EDIT note whole supra section disappear ABLE POST ARTICLE TALK page include Shell block would able place answer disappear tomorrow put Shell falsely block save reply certain article talk page hence save entire page minus archived section POV concern I m surprised article call anti semetic trace islamic perspective know oppose piece zionist propaganda pass fair balanced entire article full baseless jewish propaganda well document Banu Qurayza execute treason merit death penalty commit treason quarash tribe Muslims fight outright enemy persecute start Qurayza sign peace treaty break aid enemy article contain soo much jewish propaganda think execute reason doubt aim great example look citation accord Stillman Muhammad choose Sa ibn Mua dh pronounce judgment precedent set Banu Qaynuqa Banu Nadir Sa take hint condemn adult male death hapless woman child slavery furthermore Stillman infer Abu Lubaba gesture Muhammad decide fate Qurayza even surrender author Norman Stillman Zionist Jew bias use quote islamic article baseless conjecture allow use fact article criticism Islam Jews other write whatever want hand edit islamic article look jewish article notice do not allow dissent can not put muslim perspective evil act commit Jews without disappear instantly standard must apply islamic article islamic article must write islamic point view jews write response appropriate criticism Islam article personally edit jewish article fill conjecture history find non jewish admin arbitrate islamic article good day please read talk page specifically place treason traitor mention still believe need mention treason provide reliable source discuss easy article neutral mention POVs require people like participate work academic source personal conjecture change Devotus issue Dear Devotus still issue change Bat Yeor Ramadan appreciate try shift balance remove book side agree removal Bat Yeor academic scholar though book controversial beyond pale currently serve reference article controversy would note Ramadan issue well remove literature section would remove article serve reference due insistence User Bless sin certainly like removal remove literature section retain article first version needlessly verbose note new one endorse view Paret Watt article say BQ kill religious reason fact since good case whole conflict cause religious difference also want repeat thing already say coverage siege demise e g claim attack rear also please abide one resolve conflict fight hard long word like massacre execution neither appear unless unavoidable common practice thing unacceptable',\n",
              " 'ok Steve honest really like present form issue present one',\n",
              " 'hello January keep vandalize article add mislead edit summary please stop help build encyclopedia waste people time since repeatedly selectively remove message talk page know many warning already receive thus consider third warning report next time vandalize article thank understand talk',\n",
              " 'think depend circumstance someone gold medal competition Gibraltar anthem would appropriate rather God save Queen',\n",
              " 'seem insistent add pointless ramble talk page forum make cut http en wikipedia org w index php title talk AXM rifle diff oldid keep revert removal',\n",
              " 'guess explanation WP CSD still Zero fail explain page wea delete WP CSD threaten inquirer block poor form extremely poor form',\n",
              " 'proton reach fusion distance',\n",
              " 'beauty pageant interest beauty pageant contestant mean notable please go try delete stuff ignorant topic deal happen think ton article meet Wikipedia standard individual merit particularly comic_strip etc wise enough know truly understand significance leave alone much prudent avenue would bring issue appropriate WikiProject WikiProject Beauty Pageants address yoru concern first instance one example continual use term model describe use one editor incorrect somewhat demeaning',\n",
              " 'Mohammed Al Bayati qualification regard edit past day think Mohammed Al Bayati qualification tangentially relevant purpose text place right prove Mohammed Al Bayati qualified review autopsy report think violate NPOV qualification include come criticism controversy section quote whoever accuse Mohammed Al Bayati qualified review autopsy report cite nobody make accusation original synthesis remove',\n",
              " 'reason split absolutely reason Alamo Bowl broadcaster split Alamo Bowl list stub kb long main article kb long much table list well within limit WP SIZE single article kb long permit reason article split talk',\n",
              " 'please sign comment thank',\n",
              " 'Alyssa Flash time write Sarita TNA iMPACT debut come wrestle one Alyssa Flash note might spell Alyssa wrong see nowhere list',\n",
              " 'roma people Hungary appal social economic situation roma account percent Hungary million people mean',\n",
              " 'fuck murder scum',\n",
              " 'addition ask please stop accuse thing have not do sock puppeting think take matter personally abuse power',\n",
              " 'add rational remove tag',\n",
              " 'wow guess one guy god forbid one love',\n",
              " 'Phil Plait claim radio program Joe Rogan shuttle astronaut ever go space van allen belt min http www youtube com watch v tvIC QDSnIc that s mislead propaganda dunno website remove source',\n",
              " 'Lamia Joreige Hi Lea first like tell contribution invaluable present often overlook subject kudo see start aforementione article watchlist yet know mistake must take notice rule WP check WP Notability know well protect material add meta deletionist cheer',\n",
              " 'receive massage',\n",
              " 'take OFFENSE take great offense pompous sanctimonious twit think one allow express appreciation woman like Gibson Girl fine feature achingly beautiful creature know kind totalitarian feminazi dystopian agenda try foist people encyclopedia base free speech free exchange information bogus political correctness schoolmarmish think police take Gibson Girl anyday',\n",
              " 'Padua User Tag Someone design Padua College User Tag much like follow one Maroons State Origin July UTC',\n",
              " 'ion G Nemes talk June',\n",
              " 'gay motherfucker know live go sand face go beat pulp chicken shagger',\n",
              " 'ok Dennis Brown thank tell take bit way serious ill careful time stupid bot',\n",
              " 'way might even know article talk',\n",
              " 'problem sfc record credible sci challenge new section absurdly US center possibly stand global record talking need credible scientific paper picture station far know sfcstation stuff merely document problem station siting maintenance etc even begin attempt quantifying influence plus minus might record interested paper effect switch north wall screens stevenson screen thatch huts africa etc etc',\n",
              " 'could please comment talk Thought identification John Norseen Lockheed Martin beside try update information believe relevent look like several user hang ANI Fringe work together remove well source valid topic material show state military research think identification outside comment would greatly appreciate thank',\n",
              " 'Mediation Hello Atyndall volunteer take mediation case discussion remain neutral side argument endeavor solve dispute look discussion find QuizzicalBee add sentence accord Chesler U embassy repeatedly refuse help leave country long recognize u citizen Hurmata revert back report U embassy repeatedly refuse help leave country Hurmata object QuizzicalBee sentence think source incorrect guard would allow Chesler embassy first hand account Chesler qualify reliable source QB object say maybe US citizenship could revoke US Afgan government time perhaps past guard may deny entry claim presume true prove false Hurmata counter citation threat QB refer one cite QB state evidence disprove claim valid could involve user please place verify statement correct suggest correct Thankyou talk',\n",
              " 'well Arthur print paper condition fact Ultra Power say correction seem paper incorrect rather correct pointless already identify bad problem third condition require incontinuity f integer value however problem disappear consider special case e let want function f satisfy f e f n exp f n define widely possible observe n n present problem f f extend f positive real number clearly sufficient define f interval length want f continuously differentiable paper require f continuously differentiable equivalently obviously whacky worry e next obvious explain reason require f monotone interval functional equation f x ln f x get f x f x f x hence f f f f f must constant surprisingly function get way patch together small piece relatively unnatural way f x exp x exp x x thus learn paper correct solution problem probably minimum derivative',\n",
              " 'Rangers FC name Newco Rangers wikipedia page call Rangers FC everywhere SFL SFA SPL BBC etc website league table tv must Registered use Rangers FC differentiate Rangers FC still SPL membership',\n",
              " 'Wikipedia Categories discussion Log April Wikipedia book follow horribly chaos April resubmitte thing discussion talk contrib physics book',\n",
              " 'FlexPay Tax Law comment interested see expansion artcile regard tax surround FlexPay account',\n",
              " 'problem talk',\n",
              " 'win get evil people government private force well perhaps nuclear blast across US Europe btw MONGO really HS wikipedia',\n",
              " 'see',\n",
              " 'Najib Effendi al Yasin suggest use paragraph indentation article Najib Effendi al Yasin recently create reach normal look page happy editte',\n",
              " 'Lol know mean whichever president come Hafez new president assad considerable foreground support support would freak coup would claim instability would arise assad supporter try use defense try say although Bashar assad good economic international policy Syria fear non baathist potentially elect Syria economic international policy change iran would still major factor syrian life consider buisness deal stake cultural exchange would change social freedom well also every country revolution still alive today muslim brotherhood Syria weak even weak islamist prescence Libya rebel Libya support see yet could hardly take control without NATO chance Syrian muslim brotherhood none anything nonviolent protest weaken resolve muslim brotherhood make less influence everyday life Syrians know pro Syria Armenia pro Assad Unlike Armenia people like Sargsyan Kopcharyan democratically elect Assad one run allow',\n",
              " 'CFR perfectly accurate source Council Foreign Relations CFR ORG recognize legitimate think tank study international terrorisim United Staes Govt claim credible idiotic legitimate online newspaper source study Northern Ireland complile list UDA UVF kill IRA INLA vice versa fact good include article',\n",
              " 'lead summary summary suppose substantially short text summarize case Salvatore Giunta simply copy whole sentance body text editor assess article currently stand hypothetical future stance article grow lead adjust accordingly case lead section favor indeed summarize important part moh case read WP LEAD lead biography necessarily suppose summarize life story subject assert thier claim notability two sentance favor without overly repetitive wordsdeed',\n",
              " 'unblock make renewed effort give personal attack course question unwarranted blockage might well imagine ip editor tend get raw end deal admin tend lean towards side someone edit account someone edit without one especially area label personal attack harassment give IP editor much name editor thing exampleand yep maybe guess question supposedly okay accord someone name like say escape orbit dish personal attack give one back lowly ip editor specifically supposedly okay give personal attack put false stuff keyboard make ludicrous claim reason want old style ebay logo go next current one ebay lead want even though total lie supposedly okay call kind slander stupid another one supposedly okay smiley girl falsely accuse edit vandalism differ guy prefer say reversion vandalism get trouble personal attack ip editor Ready one fine name editor give one us ip editor warn template iper thing name editor like partially smiley girl get dinge oh cause personal attack oh bad harassment oh yeah one remember rule edit war general meaning even break rr say right edit warring defense well apply meeting call consensus since thing case concrete correctness base whether match call consensus want thing say well name friend smiley edit warring put thing back exclusive partial consensus want say since editing already establish vandalism even though disagree ignore mention edit warring rule give pass anyway ip editor exclusive consensus thing edit war even though thing smiley remember right match consensus defense rule',\n",
              " 'Serbia recognise Abkhazia South Ossetia surprise Georgia recognise Kosovo retaliation',\n",
              " 'subtle question possibly could',\n",
              " 'try measure number cafe one place frustrate Wikipedia ban original research article absurdly low least six cafe ave alley know number come consider cafe seem well within reasonable definition scene include Solstice Cafe Zoe original Allegro alley parallel Ave arguably second location College Inn also count Ugly Mug half block Cafe corner nd use Roma recall new name Sureshot Continental Caffe Apassionato wow bubble tea Shinka Tea Company Yunnie Bubble tea Pochi Tea Gingko Tea House tully starbuck Wannabee one block still Life Ave Grand Illusion technically entrance around corner clearly effectively Ave even count hangout mainly bar restaurant takeout food joint count thing like U Bookstore Bulldog News busy espresso operation count ice cream stand sure miss something offhand talk',\n",
              " 'actually undue weight also result zero weight whole issue insinuation extrapolation give event article outright say Edwards father father list quite clear intent editor familiar consider FNC fanboy appolgist regard conservative republicans objection clearly partisan point view say violation several WP policy',\n",
              " 'find chronological list pc engine game think release date page Japan since seperate List TurboGrafx game change make ok though since see IGN list way',\n",
              " 'agree fundamentally whether take pill patch ring key hormonal main article point oral contraceptive either redirect hormononal contraception unle sufficient material justify existence',\n",
              " 'desterbe project school explain be not Bill Gates year ago',\n",
              " 'source local guide book source',\n",
              " 'chill inty mate',\n",
              " 'Tale Tub Main page hey Geogre check know Tale Tub feature main page Sunday Talk Nov UTC',\n",
              " 'add c class would like add b class question raise talk page',\n",
              " 'problem thank let know talk',\n",
              " 'Batman Batman Spiderman win',\n",
              " 'geometry love good day search source article Geometry Love probably article contain interesting fact DYK',\n",
              " 'exactly remove section notice posting chen',\n",
              " 'please unblock delete page request unblock talk page immediately permanently delete content free permanently block contribute Wikipedia intention case would like reason block prove violate rule need preserve talk page another deliberate intentionally provocative violation rule old school personal insult loathsome sanctimonious hypocritical ignorant twit state uncontrolled combustion would take trouble extinguish flame urinate hope satisfactory',\n",
              " 'true first edit however second one honest mistake',\n",
              " 'problem face article well love see get feature article status keep run fact really whole lot good verifiable info easily available easy come picture usable though suspect one two know image would fall fair use couple website basically regurgitate section McGregor book certain irony fact guy labored anonymous solitude life project love dearly die destitute make several people rather wealthy',\n",
              " 'funney man',\n",
              " 'furthermore threat make block individual add edit well research information would directly negate sole intention Wikipedia',\n",
              " 'Wikipedia full fool take money make people work free Wikipedia might well ban fool take long Wiki stupid place Jimbo Cult',\n",
              " 'seem reliable enough topic anyway like many major news source going cover thing site cover',\n",
              " 'response feedback Yoa see Wikipedia change username',\n",
              " 'opinion proof anti Newsom whether support gay porn day violate state law issue Gay marriage license contradiction state law fact slander fiction',\n",
              " 'admission beg question well punish adolescent boy go engage bully behaviour extend welcome talk',\n",
              " 'french speaker Paris anybody explain french speaker concentrate heavily cultural life Paris mean Sep UTC',\n",
              " 'change somali PEOPLE wiki seriously page BIASED one CLAN ADDED DIVERSE representation somali PEOPLE STUPID criminal',\n",
              " 'Davkal agree would suggest discuss gloat know likely come back start harass agagin apparently hour leave someone bit head talk page comment leave article',\n",
              " 'thank thank tip Buddy walkie talkie KY highway page currently clean page please edit thank let go Mets Stats first barnstar style border px solid gray background color fdffe rowspan valign middle rowspan style font size x large padding vertical align middle height em Tireless Contributor Barnstar style vertical align middle border top px solid gray hereby award BigrTex tireless contributor barnstar due outstanding amount high quality edit Hikaru',\n",
              " 'transistor transistor page Principle Operation section physicist know want share b know work thinking come fairly decent concept work put WIKI think guy get jealous discuss pretty much nothing PS language pathetic naughty naughty boy eat',\n",
              " 'like see print since list day without url',\n",
              " 'propose deletion process follow concern Wikipedia use place guide walk contribution appreciated article may satisfy Wikipedia criteria inclusion deletion notice explain see also Wikipedia Wikipedia deletion policy may prevent proposed deletion remove notice please explain disagree propose deletion edit summary talk page please consider improve article address issue raise even though remove deletion notice prevent deletion propose deletion process article may still delete match speedy deletion criterion send Articles Deletion may delete consensus delete reach',\n",
              " 'hmmm way see remember code gabsadd',\n",
              " 'article already exist see Liger Pro',\n",
              " 'feather citation quill look past therefore opinion',\n",
              " 'Bakan Abbie Bakan even mention article Based worthless rag cite source article nothing shill Lenin rest commie gang rag show egregious pro communist bias even bother check fact much less look cause Kronstadt rebellion even cite reliable historical source subject also discredit absurd accusation white conspiracy overthrow soviet government even rebellion motivated anti semitic racism among sailor furthermore claim make rag base case begging question since Lenin Communist regime good major premise Kronstadt rebellion harm say regime minor premise suppress rebellion justify last least mere fact aforementioned rag first publish self admit socialist party definition mean source meet EITHER WP NPOV WP RS source continue use Wikipedia article whole project soon turn Commiepedia',\n",
              " 'message talk page afd placing message user talk page hope gain support unacceptable practice agin hinder afd process',\n",
              " 'trivium advise look word good dictionary jay mr townsley marriage important business dynasty obviously noteworthy note prominently article link cheer',\n",
              " 'might remind ENGLISH language Wikipedia great precedence perhaps think go edit Ja Wikipedia take aggressive attitude especially since problem example name easily fix clearly incapable appreciate improvement make English perhaps good person judge',\n",
              " 'speedy deletion David Fork tag place David Fork request speedily delete Wikipedia do section criterion speedy deletion short article provide little context reader please see Wikipedia Stub minimum information standard short article also please note article must notable subject provide reference reliable source verify content think notice place error may contest deletion add top page exist speedy deletion db tag couple add note talk page explain position aware tag speedy deletion article meet criterion may delete without delay please remove speedy deletion tag hesitate add information article would would render conformance Wikipedia policy guideline u want',\n",
              " 'suggestion edit article completely workable work per Wikipedia guideline Jayjg SlimVirgin start delete large relevant chunk article revert punitive gesture agree concentrate make article well instead punish reason article lock agree start extremely innocuous definition preamble statement agree however definition anyone good unless convey sort information one word could agree associate terrorism would well definition intimidate instance',\n",
              " 'speak without know talk ok bout original comment make Everlast entry constantly vandalize Eminem fan write month ago dumb ass got involve site feud start Dilated Peoples track believe verse Everlast contribute still jab take back forth deserve synopsis idiotic little comment album sale excessive unnecessary belong fact everyone know artist agree ever get Everlast would knock live shit outta Eminem come Eminem fan site',\n",
              " 'talk archive',\n",
              " 'speedy deletion Spunga tag place Spunga request speedily delete Wikipedia do section g criterion speedy deletion article appear repost material previously delete follow deletion debate article deletion specify criterion article substantially identical content article delete debate change content address reason material previously delete may delete time think notice place error may contest deletion add top page exist speedy deletion db tag couple add note article talk page explain position aware tag speedy deletion article meet criterion may delete without delay please remove speedy deletion tag hesitate add information article would would render conformance Wikipedia policy guideline talk',\n",
              " 'plus natural bear citizen go assume care anyway',\n",
              " 'unblock last time ok fuck mean good possible way good luck good night',\n",
              " 'understand position think point perfectly valid however deem Ia Chi u creation Wikipedia even lack historical source effect english language think tomorrow thank explain position accurate detail Best regard nd',\n",
              " 'studid cock sucker u stop callin ok frank Garrett eatin worm crawl outa mom pussy fucking retardo hit retardo',\n",
              " 'thank user talk biggity constructive edit indef block perhaps Mahalo',\n",
              " 'anyone interest accurate deliberately misleading information ten string guitar e garbage doubt soon present see www myspace com tenstringguitar Tthough temporary site hide remove google search listing shady dealing truth prevail',\n",
              " 'say determined page regress delete anything inappropriate jeopardize good progess make completely inappropriate post middle sensitive discussion threaten problem sole arbiter talk page post innocuous violate condition arbitration decision affect flow discussion page fact appropriate response would ignore remove encourage reaction accuse wikilawyere absurd guideline help we however violate guideline also several policy kind heavy handed action encourage people persist problem edit long stand convention remove user post three year never seen do vandalism unless give much well reason go reinstate delete text',\n",
              " 'Glourious People Republic China carry survey Great Wall surprise chinese invention Wall exist day one day Great Wall stretch way around World anyway let add detail dear government survey',\n",
              " 'FisherQueen would kindly stop follow every move delete thing user page have not get anything well piss people Wikipedia',\n",
              " 'Jim Burton child molest faggot see still we yet another day make total buffoon usual know sad extreme hypocritical arrogance show lecture world ethical principle claim right abuse child ethical principle save life exactly roman poet say harlot doth always rebuke chaste ever drop dead might breathe little easy kid sake truly disgust every word write',\n",
              " 'read Beback already change structure separate someone view separate section suggest restructure welcome detail per section later',\n",
              " 'nevermind assimilate puppy sorry bother Cheese Wine',\n",
              " 'fix link take second leave report administrator',\n",
              " 'tell deliberate personal attack belief message interpret wrongly although asume good faith posting mention',\n",
              " 'please remove content page without explanation edit Vole continue block edit royal court',\n",
              " 'delete american criminal category incredible fact article might lead misguided soul think American Criminal Category lively discussion category talk page category even expansive reading category countenance',\n",
              " 'MILLINOS HUNJAN look hunjan template hunjan fight back concept art bull shit tharkarn waste man',\n",
              " 'add Kansas Bear say make elementry mistake call treaty fact congrass leave usual post regard three deligation pressent treaty Arass Papal meditiation treaty Arass private treaty deligation Burgundy France make military alliance debatte burgundian recognition stop change subject clearly give fallactious statement feel post utterly questionable happend remeber month ago agree congrass treaty Arass different correct statement regard three deligations bieng pressent treaty Arass P stop childish personal attack aqske give source regard Burgundy do not recognize Henry King France give ref regard treaty Arass mix post can not handle fact Burgundy recognise Henry King France already revert dual monarchy article ashame fallactious remark nd utterly questionable unsourced fact',\n",
              " 'er use two username vote poll idea talk use username never vote poll vandal vandalise anything may add content someone else agree vandalism correct reponse discussion debate achieve conscensus sockpuppet puppetmaster fully open person Wikipedia defintion sockpuppet puppermaster may wnat use different defintion opinion mudslinging hardly appropriate administrator',\n",
              " 'Raffaele request lawyer interrogate Nov refuse request allow call father Page Amanda deny food water bathroom break nap night interrogation Nov Page Wikid actually look Murder Italy see ton additional information Amanda Raffaele interrogation could include work listing detail tomorrow',\n",
              " 'yes like suggestion also look pretty good lead next sentence bere strait crossing conform rest article since later get detail prehistoric migrator edit Yee suggestion',\n",
              " 'seriously Alex article edge delete one deletion discussion argue keep want hope keep article online instead spend time edit talk page click link go deletion discussion make argument',\n",
              " 'fu ck e trollreason',\n",
              " 'day go remember laugh ha ha ha ha HA never forget incredible power powerful possibly imagine let close conversation bid fond farewell',\n",
              " 'probably notice table faction approach could keep eye game central information game faction update table would great base similar table class Age Empires III show sort information go without fall gameguide trap',\n",
              " 'SR CL U bud bin way like long time like time outa mind long Gooood shit mo latah dat soon az ah gitz back heah sum de brotherz n sistah sez Hance dead alive send Zion Ranger check condition ah sez Whoa led gib holler Dis hollerin Bro De Zion Rangerz dem dat de walkin tru wallz De wall walkin dude going to r Bro harm jes checkin EE ben gentle remindah kum fuhst U readin i d leedle postin dis n dat go good Doan fohget cut sum ZZzz aftah tad postin Sleep good n doan fergit ta dream Sumptin might kum jes ta BDH wrapt roun wid delta wave n kupla otha carrierz diz cuss lAtah Chow Bro',\n",
              " 'call neither maybe miss lifetime chance see we talk',\n",
              " 'Henry David Thoreau page consider vandalism would like experiment use sandbox thank',\n",
              " 'rather crude ancestor vaccine source biography Louis XVI Louis XVI le Roi Bienfaisant Jean de Viguerie various often contradictory influence french government prior revolution section devote innoculation royal family make note intendant Franche Comte finance physicians province later use Washington continental army truth actually die December even say book Facts George Washington George Washington own acre land Washington live NEW YORK PHILDELPHIA preidency precede unsigned comment add GA zh wikipedia please add Link GA zh interwiki section thank',\n",
              " 'objectionable textbook material ad refer controversy Wheaton school early surround series textbook call Impressions also contain writing parent believe featured theme occult witchcraft violence disrespect parental authority discussion one offend piece yarn call Wart Snake Fig Tree kind pardody twelve Days Christmas creepy crawlie spider snake stuff Wart Snake Fig Tree wonder roskam stance Harry Potter Holloween',\n",
              " 'mean point biographical article though would good mean answer right discussion page town bear school go also regard top disagree think article could quite bit expansion could article individual mention great living magician admit never hear name judge say Max Maven well David Copperfield award industry press personal opinion technique',\n",
              " 'okay truly need sort criticism praise quote etc thank talk',\n",
              " 'Haha fine mean allow selfish guess really appreciate kindness though really respect ask signature borrow one let know give credit feel badly since ask feel really badly haha help figure nice one pick fun color great day happy wikying',\n",
              " 'Leave alone tell already leave alone fuck fucking thing find hound amuse i d u mothafuckin asshole ban',\n",
              " 'Bloc voting Countries large population non national may televote influence considerably cite reason apparent bloc vote balkan country former Yugoslavia full blow crazy non national mean country similar culture speak language star Croatia popular Serbia vice versa People national country large proportion country refugee country really explain Croatia would always give high pt Serbia Macedonia Serbia conflict speak example bosnian serb voting croatian serbian song unusual bosnian non national passport bih family never live Serbia history really mutual intelligibility scandinavian bloc vote time language sensibility',\n",
              " 'peta self publish source please explain peta website self publish',\n",
              " 'please vandalize page edit Morrissey continue block edit Impala',\n",
              " 'August UTC WP RS affirm veracity DI doubtful claim either WP RS either way therefore verifiable fact Picard original signer consent agree DI publish interpretation political position vis vis PBS subsequent political purpose regard teach school verifiable record original signer call skeptical examination evidence scientific theory DI unverifiable claim fraudulently spin consensual agreement support interpretation political agenda fact rule Wikipedia rest DI propaganda utter hogwash fraudulently perpetrate DI without verifiably demonstrate consent original individual view WP BLP Harm clause unverified claim DI must promote fact content effect must immediately expunge per WP BLP',\n",
              " 'email thank email message receive Guyovski receive similar though openly threaten email Guyovski well',\n",
              " 'fabrication intent defame point belong Dan Savage article',\n",
              " 'perhaps overlook discussion Steve Moore credential another aspect Newsweek article say Knox supporter hurt express opinion Nadeau effectively state decision italian court influence anger anti american sentiment rather evidence alone know Nadeau experience Italy qualify make assessment take RS make statement would great insult italian jurisprudence anything Knox supporter say wholly concur pablo opinion piece place article',\n",
              " 'attraction water place animal place',\n",
              " 'fear Jossi may correct Watts btw die say Rawat probably mean praise e emphasis would sacred judge knowledge Watts oeuvre rather anti intellectual',\n",
              " 'Ooooh well fix look mess right think certify Switzerland yet New Zealand Australia',\n",
              " 'Omg love dch love Pac Sun',\n",
              " 'remove contribute nothing article',\n",
              " 'hi writingright welcome Wikipedia hope like place sure want stay get depth may want read five pillar Wikipedia simplify ruleset need help title new article check name convention help format page visit manual style need help look Wikipedia help FAQ plus find answer check Village Pump Wikipedia related question Reference Desk general question still help Tutorial Policy Library plus forget visit Community Portal question feel free post user talk page place helpme talk page someone help shortly tab additional tip tabtab extra tip help get around pedia want play around new Wiki skill Sandbox TAB sign name use three tilde use four add datestamp five get datestamp may want add new user log TAB ever think page image delete please list vote deletion page also vote undeletion page want retrieve something think delete still entirely confused would like get well grasp wikipedia skill IRC client mind get one check bootcamp sound like fun help edit skill bore want find something try random page button sidebar check Open Task message Community Portal Happy Wiki ing talk contrib Click respond message',\n",
              " 'common knowledge Karaims Karaite Jews boast descent Khazars realize believe oq whence come mix carian mercenary Caphtor Kolhkis Khazar ancestor fact remnant lose ten Tribes Israel form priesthood precisely reason Karaite jewish scholar like Jacob Ben Reuben Byzanteum Yefet ben Ali Jeshua ben Judah call we bastard writing follow editor',\n",
              " 'April UTC rewrite expand article much rather full article bad article full template William edit go vote content matter time never look article send link equip choose one version another vote purely layout aesthetic include template maybe later spend time unfamiliar article make statement content',\n",
              " 'try inject humour evidence winky face ridiculous overblown unnecessarily dramatic situation take time familiarize situation would see person insult attacking cite factual contribution actively censor explanation retaliate insult thought conduct insult worthy time would sane individual familiar Wikipedia insult rule however since realize wrong site allow harsh word use even use ordeal Wikipedia place edit constructive bring great knowledge subject topic fact insult another user edit summary regrettable know seriously think edit link constitute well insult',\n",
              " 'title redirect Altona Hamburg w change moment many link bother',\n",
              " ...]"
            ]
          },
          "execution_count": 5,
          "metadata": {},
          "output_type": "execute_result"
        }
      ],
      "source": [
        "new_text"
      ]
    },
    {
      "cell_type": "markdown",
      "source": [
        "Проверим, как алгоритм справился с лематизацией"
      ],
      "metadata": {
        "id": "Uo5dWleDyaPn"
      }
    },
    {
      "cell_type": "code",
      "execution_count": null,
      "metadata": {
        "id": "dPXTAqgWx2LB",
        "outputId": "e3d2f057-8fa1-4c4d-c140-0b28d19bc108"
      },
      "outputs": [
        {
          "data": {
            "text/html": [
              "<div>\n",
              "<style scoped>\n",
              "    .dataframe tbody tr th:only-of-type {\n",
              "        vertical-align: middle;\n",
              "    }\n",
              "\n",
              "    .dataframe tbody tr th {\n",
              "        vertical-align: top;\n",
              "    }\n",
              "\n",
              "    .dataframe thead th {\n",
              "        text-align: right;\n",
              "    }\n",
              "</style>\n",
              "<table border=\"1\" class=\"dataframe\">\n",
              "  <thead>\n",
              "    <tr style=\"text-align: right;\">\n",
              "      <th></th>\n",
              "      <th>text</th>\n",
              "      <th>toxic</th>\n",
              "      <th>cleaned_txt</th>\n",
              "    </tr>\n",
              "  </thead>\n",
              "  <tbody>\n",
              "    <tr>\n",
              "      <th>0</th>\n",
              "      <td>Explanation\\nWhy the edits made under my usern...</td>\n",
              "      <td>0</td>\n",
              "      <td>explanation edit make username Hardcore Metall...</td>\n",
              "    </tr>\n",
              "    <tr>\n",
              "      <th>1</th>\n",
              "      <td>D'aww! He matches this background colour I'm s...</td>\n",
              "      <td>0</td>\n",
              "      <td>aww match background colour seemingly stick th...</td>\n",
              "    </tr>\n",
              "    <tr>\n",
              "      <th>2</th>\n",
              "      <td>Hey man, I'm really not trying to edit war. It...</td>\n",
              "      <td>0</td>\n",
              "      <td>hey man really try edit war guy constantly rem...</td>\n",
              "    </tr>\n",
              "    <tr>\n",
              "      <th>3</th>\n",
              "      <td>\"\\nMore\\nI can't make any real suggestions on ...</td>\n",
              "      <td>0</td>\n",
              "      <td>make real suggestion improvement wonder sectio...</td>\n",
              "    </tr>\n",
              "    <tr>\n",
              "      <th>4</th>\n",
              "      <td>You, sir, are my hero. Any chance you remember...</td>\n",
              "      <td>0</td>\n",
              "      <td>sir hero chance remember page</td>\n",
              "    </tr>\n",
              "  </tbody>\n",
              "</table>\n",
              "</div>"
            ],
            "text/plain": [
              "                                                text  toxic  \\\n",
              "0  Explanation\\nWhy the edits made under my usern...      0   \n",
              "1  D'aww! He matches this background colour I'm s...      0   \n",
              "2  Hey man, I'm really not trying to edit war. It...      0   \n",
              "3  \"\\nMore\\nI can't make any real suggestions on ...      0   \n",
              "4  You, sir, are my hero. Any chance you remember...      0   \n",
              "\n",
              "                                         cleaned_txt  \n",
              "0  explanation edit make username Hardcore Metall...  \n",
              "1  aww match background colour seemingly stick th...  \n",
              "2  hey man really try edit war guy constantly rem...  \n",
              "3  make real suggestion improvement wonder sectio...  \n",
              "4                      sir hero chance remember page  "
            ]
          },
          "execution_count": 6,
          "metadata": {},
          "output_type": "execute_result"
        }
      ],
      "source": [
        "df['cleaned_txt'] = new_text\n",
        "df.head(5)"
      ]
    },
    {
      "cell_type": "code",
      "execution_count": null,
      "metadata": {
        "id": "_gsvKmUrx2LB",
        "outputId": "f55a487a-95be-45ac-bf13-ed5869f2695d"
      },
      "outputs": [
        {
          "data": {
            "image/png": "[encoded data removed]",
            "text/plain": [
              "<Figure size 432x288 with 1 Axes>"
            ]
          },
          "metadata": {
            "needs_background": "light"
          },
          "output_type": "display_data"
        }
      ],
      "source": [
        "#Изучим также текущее распределение данных, чтобы понять как они размечены\n",
        "\n",
        "sns.countplot(data=df, x=\"toxic\")\n",
        "plt.title(\"Баланс классов\")\n",
        "plt.xlabel(\"Токсичность\")\n",
        "plt.ylabel(\"Кол-во комментариев\");"
      ]
    },
    {
      "cell_type": "markdown",
      "metadata": {
        "id": "W_4tgmc4x2LC"
      },
      "source": [
        "Для выбора оптимальной модели и подбора её гиперпараметров, используем не весь датасет, а только 5000 строк из него. Так как перебор гиперпараметров на полном датасете, в связи с недостатком возможностей облачный сервисов и моего компьютера занимает слишком много времени."
      ]
    },
    {
      "cell_type": "code",
      "execution_count": null,
      "metadata": {
        "id": "EiAVk4Nmx2LC"
      },
      "outputs": [],
      "source": [
        "df_train = df.loc[0:5000]"
      ]
    },
    {
      "cell_type": "markdown",
      "metadata": {
        "id": "DP5IzVnBx2LF"
      },
      "source": [
        "На лицо, виден дисбаланс классов, поэтому крайне важно будет статифицировать целевой признак при разделение выборок"
      ]
    },
    {
      "cell_type": "code",
      "execution_count": null,
      "metadata": {
        "id": "RYrKo9Rdx2LG"
      },
      "outputs": [],
      "source": [
        "#Проведем разделение выборки на тренировочную и тестовую\n",
        "\n",
        "features_train, features_test, target_train, target_test = train_test_split(\n",
        "    df_train['cleaned_txt'], df_train['toxic'], test_size=0.1, stratify=df_train['toxic'])"
      ]
    },
    {
      "cell_type": "code",
      "execution_count": null,
      "metadata": {
        "id": "5r81YLJtx2LG"
      },
      "outputs": [],
      "source": [
        "#from gensim.models import Word2Vec\n",
        "\n",
        "#sentences = [sentence.split() for sentence in features_train]\n",
        "#w2v_model = Word2Vec(sentences, window=5, min_count=5, workers=4)\n",
        "\n",
        "\n",
        "#def vectorize(sentence):\n",
        "#    words = sentence.split()\n",
        "#    words_vecs = [w2v_model.wv[word] for word in words if word in w2v_model.wv]\n",
        "#    if len(words_vecs) == 0:\n",
        "#        return np.zeros(100)\n",
        "#    words_vecs = np.array(words_vecs)\n",
        "#    return words_vecs.mean(axis=0)\n",
        "\n",
        "#features_train = np.array([vectorize(sentence) for sentence in features_train])\n",
        "#features_test = np.array([vectorize(sentence) for sentence in features_test])"
      ]
    },
    {
      "cell_type": "markdown",
      "metadata": {
        "id": "9uD62kcIx2LH"
      },
      "source": [
        "Также как видно из кода выше, первично я использовал векторизацию с помощью Word2Vec, но он только понизил метрику, поэтому от него было решено отказаться в угоду Tfidf"
      ]
    },
    {
      "cell_type": "markdown",
      "metadata": {
        "id": "np6RXHGUx2LH"
      },
      "source": [
        "## Обучение"
      ]
    },
    {
      "cell_type": "markdown",
      "metadata": {
        "id": "5oeoRRGOx2LH"
      },
      "source": [
        "Во избежание утечки признаков во время кросс валидации, реализуем TfidfVectorizer отдельно для каждой модели в рамках пайплайна, чтобы TfidfVectorizer не обучался на валидационном пайплайне, вместе с тренировочным."
      ]
    },
    {
      "cell_type": "code",
      "execution_count": null,
      "metadata": {
        "id": "Hp6AgSXOx2LH",
        "outputId": "e17b70d0-5856-4b71-87f1-6479a54ee2ec"
      },
      "outputs": [
        {
          "name": "stdout",
          "output_type": "stream",
          "text": [
            "LogisticRegression - Лучшие параметры: {'clf__C': 14, 'clf__max_iter': 700}\n",
            "LogisticRegression - Наилучшая оценка: 0.5954430560019194\n"
          ]
        }
      ],
      "source": [
        "#Модель LogisticRegression\n",
        "\n",
        "\n",
        "lr_classifier = LogisticRegression(random_state=0)\n",
        "\n",
        "pipeline = Pipeline(\n",
        "    [\n",
        "        (\"vect\", TfidfVectorizer()),\n",
        "        (\"clf\", lr_classifier)\n",
        "    ]\n",
        ")\n",
        "\n",
        "lr_param_grid = {\n",
        "    'clf__max_iter': [700],\n",
        "    'clf__C': range(4, 15 ,2)\n",
        "}\n",
        "\n",
        "lr_grid_search = GridSearchCV(estimator=pipeline, param_grid=lr_param_grid, cv=5, scoring='f1')\n",
        "lr_grid_search.fit(features_train, target_train)\n",
        "\n",
        "print(\"LogisticRegression - Лучшие параметры:\", lr_grid_search.best_params_)\n",
        "print(\"LogisticRegression - Наилучшая оценка:\", lr_grid_search.best_score_)"
      ]
    },
    {
      "cell_type": "code",
      "execution_count": null,
      "metadata": {
        "id": "rzKkfzqix2LI",
        "outputId": "da93de8c-933e-4d36-c0f1-e21748d02b55"
      },
      "outputs": [
        {
          "name": "stdout",
          "output_type": "stream",
          "text": [
            "DecisionTreeClassifier - Лучшие параметры: {'clf__criterion': 'gini', 'clf__max_depth': None, 'clf__min_samples_leaf': 4, 'clf__min_samples_split': 10}\n",
            "DecisionTreeClassifier - Наилучшая оценка: 0.6505009495473925\n"
          ]
        }
      ],
      "source": [
        "#Модель DecisionTreeClassifier\n",
        "dt_classifier = DecisionTreeClassifier(random_state=0)\n",
        "\n",
        "pipeline = Pipeline(\n",
        "    [\n",
        "        (\"vect\", TfidfVectorizer()),\n",
        "        (\"clf\",  dt_classifier)\n",
        "    ]\n",
        ")\n",
        "\n",
        "dt_param_grid = {\n",
        "    'clf__criterion': ['gini', 'entropy'],\n",
        "    'clf__max_depth': [None, 10, 20],\n",
        "    'clf__min_samples_split': [2, 5, 10],\n",
        "    'clf__min_samples_leaf': [1, 2, 4]\n",
        "}\n",
        "dt_grid_search = GridSearchCV(estimator=pipeline, param_grid=dt_param_grid, cv=5, scoring='f1')\n",
        "dt_grid_search.fit(features_train, target_train)\n",
        "\n",
        "# Выведите наилучшие параметры и оценку каждой модели\n",
        "print(\"DecisionTreeClassifier - Лучшие параметры:\", dt_grid_search.best_params_)\n",
        "print(\"DecisionTreeClassifier - Наилучшая оценка:\", dt_grid_search.best_score_)"
      ]
    },
    {
      "cell_type": "code",
      "execution_count": null,
      "metadata": {
        "id": "YX3Fm4nAx2LI",
        "outputId": "70f5cbed-4cce-4e5f-84d9-f035179d2794"
      },
      "outputs": [
        {
          "name": "stdout",
          "output_type": "stream",
          "text": [
            "CatBoostClassifier - Лучшие параметры: {'clf__depth': 6, 'clf__iterations': 1000, 'clf__learning_rate': 0.1}\n",
            "CatBoostClassifier - Наилучшая оценка: 0.6756659083328217\n"
          ]
        }
      ],
      "source": [
        "# Модель CatBoostClassifier\n",
        "catboost_classifier = CatBoostClassifier(random_state=0, silent= True)\n",
        "\n",
        "pipeline = Pipeline(\n",
        "    [\n",
        "        (\"vect\", TfidfVectorizer()),\n",
        "        (\"clf\",  catboost_classifier)\n",
        "    ]\n",
        ")\n",
        "\n",
        "catboost_param_grid = {\n",
        "    'clf__depth': [4, 6, 8],\n",
        "    'clf__learning_rate': [0.01, 0.1, 1],\n",
        "    'clf__iterations': [100, 500, 1000]\n",
        "}\n",
        "\n",
        "catboost_grid_search = GridSearchCV(estimator=pipeline, param_grid=catboost_param_grid, cv=5, scoring='f1')\n",
        "catboost_grid_search.fit(features_train, target_train)\n",
        "\n",
        "print(\"CatBoostClassifier - Лучшие параметры:\", catboost_grid_search.best_params_)\n",
        "print(\"CatBoostClassifier - Наилучшая оценка:\", catboost_grid_search.best_score_)"
      ]
    },
    {
      "cell_type": "code",
      "execution_count": null,
      "metadata": {
        "id": "HESOj9mfx2LJ",
        "outputId": "a615abde-c1b9-450e-8517-4bf4a3bd918c"
      },
      "outputs": [
        {
          "name": "stdout",
          "output_type": "stream",
          "text": [
            "RandomForestClassifier - Лучшие параметры: {'clf__max_depth': None, 'clf__min_samples_leaf': 1, 'clf__min_samples_split': 2, 'clf__n_estimators': 200}\n",
            "RandomForestClassifier - Наилучшая оценка: 0.5921992152062392\n"
          ]
        }
      ],
      "source": [
        "#Модель RandomForestClassifier\n",
        "rf_classifier = RandomForestClassifier(random_state=0)\n",
        "\n",
        "pipeline = Pipeline(\n",
        "    [\n",
        "        (\"vect\", TfidfVectorizer()),\n",
        "        (\"clf\",  rf_classifier)\n",
        "    ]\n",
        ")\n",
        "\n",
        "rf_param_grid = {\n",
        "    'clf__n_estimators': [200],\n",
        "    'clf__max_depth': [None, 10, 20],\n",
        "    'clf__min_samples_split': [2, 5, 10],\n",
        "    'clf__min_samples_leaf': [1, 2, 4]\n",
        "}\n",
        "rf_grid_search = GridSearchCV(estimator=pipeline, param_grid=rf_param_grid, cv=5, scoring='f1')\n",
        "rf_grid_search.fit(features_train, target_train)\n",
        "\n",
        "print(\"RandomForestClassifier - Лучшие параметры:\", rf_grid_search.best_params_)\n",
        "print(\"RandomForestClassifier - Наилучшая оценка:\", rf_grid_search.best_score_)"
      ]
    },
    {
      "cell_type": "code",
      "execution_count": null,
      "metadata": {
        "id": "vMDDaXvNx2LJ",
        "outputId": "29767725-c9d6-4ab5-ecaf-08b55f3ecc3c"
      },
      "outputs": [
        {
          "name": "stdout",
          "output_type": "stream",
          "text": [
            "SupportVectorMachine - Наилучшая оценка: 0.4484832135185498\n"
          ]
        }
      ],
      "source": [
        "#Модель Support Vector Machine\n",
        "\n",
        "SVM = svm.SVC(decision_function_shape=\"ovo\")\n",
        "\n",
        "pipeline = Pipeline(\n",
        "    [\n",
        "        (\"vect\", TfidfVectorizer()),\n",
        "        (\"clf\",  SVM)\n",
        "    ]\n",
        ")\n",
        "\n",
        "scores_list = cross_val_score(estimator=pipeline,\n",
        "                              X=features_train,\n",
        "                              y=target_train,\n",
        "                              cv=5,\n",
        "                              scoring='f1')\n",
        "\n",
        "SVM_results = '-', scores_list.mean()\n",
        "print(\"SupportVectorMachine - Наилучшая оценка:\", SVM_results)"
      ]
    },
    {
      "cell_type": "code",
      "execution_count": null,
      "metadata": {
        "id": "Pb8GpAgwx2LJ",
        "outputId": "a214ea0f-7995-40ac-8b67-a6108f144505"
      },
      "outputs": [
        {
          "name": "stdout",
          "output_type": "stream",
          "text": [
            "DecisionTreeClassifier - Лучшие параметры: {'clf__criterion': 'gini', 'clf__max_depth': None, 'clf__min_samples_leaf': 4, 'clf__min_samples_split': 10}\n",
            "DecisionTreeClassifier - Наилучшая оценка: 0.6505009495473925\n",
            "LogisticRegression - Лучшие параметры: {'clf__C': 14, 'clf__max_iter': 700}\n",
            "LogisticRegression - Наилучшая оценка: 0.5954430560019194\n",
            "CatBoostClassifier - Лучшие параметры: {'clf__depth': 6, 'clf__iterations': 1000, 'clf__learning_rate': 0.1}\n",
            "CatBoostClassifier - Наилучшая оценка: 0.6756659083328217\n",
            "RandomForestClassifier - Лучшие параметры: {'clf__max_depth': None, 'clf__min_samples_leaf': 1, 'clf__min_samples_split': 2, 'clf__n_estimators': 200}\n",
            "RandomForestClassifier - Наилучшая оценка: 0.5921992152062392\n",
            "SupportVectorMachine - Наилучшая оценка: 0.4484832135185498\n"
          ]
        }
      ],
      "source": [
        "DecisionTreeClassifier_result = dt_grid_search.best_params_, dt_grid_search.best_score_\n",
        "LogisticRegression_result = lr_grid_search.best_params_, lr_grid_search.best_score_\n",
        "CatBoostClassifier_result = catboost_grid_search.best_params_, catboost_grid_search.best_score_\n",
        "RandomForestClassifier_result = rf_grid_search.best_params_, rf_grid_search.best_score_\n",
        "SVM_result= SVM_results, '-'\n",
        "\n",
        "# Выведите наилучшие параметры и оценку каждой модели\n",
        "print(\"DecisionTreeClassifier - Лучшие параметры:\", dt_grid_search.best_params_)\n",
        "print(\"DecisionTreeClassifier - Наилучшая оценка:\", dt_grid_search.best_score_)\n",
        "print(\"LogisticRegression - Лучшие параметры:\", lr_grid_search.best_params_)\n",
        "print(\"LogisticRegression - Наилучшая оценка:\", lr_grid_search.best_score_)\n",
        "print(\"CatBoostClassifier - Лучшие параметры:\", catboost_grid_search.best_params_)\n",
        "print(\"CatBoostClassifier - Наилучшая оценка:\", catboost_grid_search.best_score_)\n",
        "print(\"RandomForestClassifier - Лучшие параметры:\", rf_grid_search.best_params_)\n",
        "print(\"RandomForestClassifier - Наилучшая оценка:\", rf_grid_search.best_score_)\n",
        "print(\"SupportVectorMachine - Наилучшая оценка:\", SVM_results)"
      ]
    },
    {
      "cell_type": "code",
      "execution_count": null,
      "metadata": {
        "id": "xkbUa_Kux2LK",
        "outputId": "a16982d5-1eeb-485b-b0fa-67c7ba50d12a"
      },
      "outputs": [
        {
          "data": {
            "text/html": [
              "<div>\n",
              "<style scoped>\n",
              "    .dataframe tbody tr th:only-of-type {\n",
              "        vertical-align: middle;\n",
              "    }\n",
              "\n",
              "    .dataframe tbody tr th {\n",
              "        vertical-align: top;\n",
              "    }\n",
              "\n",
              "    .dataframe thead th {\n",
              "        text-align: right;\n",
              "    }\n",
              "</style>\n",
              "<table border=\"1\" class=\"dataframe\">\n",
              "  <thead>\n",
              "    <tr style=\"text-align: right;\">\n",
              "      <th></th>\n",
              "      <th>Гиперпараметры</th>\n",
              "      <th>F1</th>\n",
              "    </tr>\n",
              "  </thead>\n",
              "  <tbody>\n",
              "    <tr>\n",
              "      <th>DecisionTreeClassifier</th>\n",
              "      <td>{'clf__criterion': 'gini', 'clf__max_depth': N...</td>\n",
              "      <td>0.650501</td>\n",
              "    </tr>\n",
              "    <tr>\n",
              "      <th>LogisticRegression</th>\n",
              "      <td>{'clf__C': 14, 'clf__max_iter': 700}</td>\n",
              "      <td>0.595443</td>\n",
              "    </tr>\n",
              "    <tr>\n",
              "      <th>CatBoostClassifier</th>\n",
              "      <td>{'clf__depth': 6, 'clf__iterations': 1000, 'cl...</td>\n",
              "      <td>0.675666</td>\n",
              "    </tr>\n",
              "    <tr>\n",
              "      <th>RandomForestClassifier</th>\n",
              "      <td>{'clf__max_depth': None, 'clf__min_samples_lea...</td>\n",
              "      <td>0.592199</td>\n",
              "    </tr>\n",
              "    <tr>\n",
              "      <th>SupportVectorMachine</th>\n",
              "      <td>0.448483</td>\n",
              "      <td>-</td>\n",
              "    </tr>\n",
              "  </tbody>\n",
              "</table>\n",
              "</div>"
            ],
            "text/plain": [
              "                                                           Гиперпараметры  \\\n",
              "DecisionTreeClassifier  {'clf__criterion': 'gini', 'clf__max_depth': N...   \n",
              "LogisticRegression                   {'clf__C': 14, 'clf__max_iter': 700}   \n",
              "CatBoostClassifier      {'clf__depth': 6, 'clf__iterations': 1000, 'cl...   \n",
              "RandomForestClassifier  {'clf__max_depth': None, 'clf__min_samples_lea...   \n",
              "SupportVectorMachine                                             0.448483   \n",
              "\n",
              "                              F1  \n",
              "DecisionTreeClassifier  0.650501  \n",
              "LogisticRegression      0.595443  \n",
              "CatBoostClassifier      0.675666  \n",
              "RandomForestClassifier  0.592199  \n",
              "SupportVectorMachine           -  "
            ]
          },
          "metadata": {},
          "output_type": "display_data"
        }
      ],
      "source": [
        "display(pd.DataFrame([DecisionTreeClassifier_result, LogisticRegression_result, CatBoostClassifier_result, RandomForestClassifier_result, SVM_result],\n",
        "             columns=['Гиперпараметры', 'F1'],\n",
        "                      index=['DecisionTreeClassifier','LogisticRegression','CatBoostClassifier', 'RandomForestClassifier', 'SupportVectorMachine']))"
      ]
    },
    {
      "cell_type": "markdown",
      "metadata": {
        "id": "h6eVHC0qx2LK"
      },
      "source": [
        "## Выводы"
      ]
    },
    {
      "cell_type": "markdown",
      "metadata": {
        "id": "V6hkGpeax2LK"
      },
      "source": [
        "Теперь обучим наилучшую модель с наилучшими выбранными гиперпараметрами на полном датасете для проверки на тестовой выборке"
      ]
    },
    {
      "cell_type": "code",
      "execution_count": null,
      "metadata": {
        "id": "XRxejcAEx2LK"
      },
      "outputs": [],
      "source": [
        "features_train, features_test, target_train, target_test = train_test_split(\n",
        "    df['cleaned_txt'], df['toxic'], test_size=0.1, stratify=df['toxic'])"
      ]
    },
    {
      "cell_type": "code",
      "execution_count": null,
      "metadata": {
        "id": "TjX62J-lx2LK"
      },
      "outputs": [],
      "source": [
        "count_tf_idf = TfidfVectorizer()\n",
        "\n",
        "features_train = count_tf_idf.fit_transform(features_train)\n",
        "features_test = count_tf_idf.transform(features_test)"
      ]
    },
    {
      "cell_type": "code",
      "execution_count": null,
      "metadata": {
        "id": "Z1hxsNwqx2LK",
        "outputId": "b6ac8bc2-5597-4caf-a5a0-8b5ff7ebf541"
      },
      "outputs": [
        {
          "name": "stdout",
          "output_type": "stream",
          "text": [
            "0:\tlearn: 0.5891592\ttotal: 3.13s\tremaining: 52m 11s\n",
            "1:\tlearn: 0.5111053\ttotal: 5.5s\tremaining: 45m 42s\n",
            "2:\tlearn: 0.4484397\ttotal: 7.87s\tremaining: 43m 34s\n",
            "3:\tlearn: 0.4020784\ttotal: 10.2s\tremaining: 42m 27s\n",
            "4:\tlearn: 0.3658287\ttotal: 12.5s\tremaining: 41m 37s\n",
            "5:\tlearn: 0.3374015\ttotal: 14.9s\tremaining: 41m 8s\n",
            "6:\tlearn: 0.3153338\ttotal: 17.3s\tremaining: 40m 47s\n",
            "7:\tlearn: 0.2972664\ttotal: 19.6s\tremaining: 40m 31s\n",
            "8:\tlearn: 0.2824545\ttotal: 22s\tremaining: 40m 23s\n",
            "9:\tlearn: 0.2711500\ttotal: 24.4s\tremaining: 40m 12s\n",
            "10:\tlearn: 0.2620722\ttotal: 26.7s\tremaining: 40m\n",
            "11:\tlearn: 0.2542461\ttotal: 29s\tremaining: 39m 43s\n",
            "12:\tlearn: 0.2477442\ttotal: 31.3s\tremaining: 39m 33s\n",
            "13:\tlearn: 0.2425915\ttotal: 33.5s\tremaining: 39m 22s\n",
            "14:\tlearn: 0.2380712\ttotal: 35.9s\tremaining: 39m 17s\n",
            "15:\tlearn: 0.2341228\ttotal: 38.3s\tremaining: 39m 17s\n",
            "16:\tlearn: 0.2300092\ttotal: 40.8s\tremaining: 39m 17s\n",
            "17:\tlearn: 0.2271549\ttotal: 43s\tremaining: 39m 5s\n",
            "18:\tlearn: 0.2244799\ttotal: 45.3s\tremaining: 39m\n",
            "19:\tlearn: 0.2219698\ttotal: 47.7s\tremaining: 38m 55s\n",
            "20:\tlearn: 0.2193385\ttotal: 49.9s\tremaining: 38m 46s\n",
            "21:\tlearn: 0.2175313\ttotal: 52.2s\tremaining: 38m 39s\n",
            "22:\tlearn: 0.2154166\ttotal: 54.5s\tremaining: 38m 36s\n",
            "23:\tlearn: 0.2138153\ttotal: 56.8s\tremaining: 38m 29s\n",
            "24:\tlearn: 0.2124825\ttotal: 59s\tremaining: 38m 21s\n",
            "25:\tlearn: 0.2108766\ttotal: 1m 1s\tremaining: 38m 17s\n",
            "26:\tlearn: 0.2095463\ttotal: 1m 3s\tremaining: 38m 12s\n",
            "27:\tlearn: 0.2081643\ttotal: 1m 5s\tremaining: 38m 6s\n",
            "28:\tlearn: 0.2064775\ttotal: 1m 8s\tremaining: 38m 1s\n",
            "29:\tlearn: 0.2054583\ttotal: 1m 10s\tremaining: 37m 53s\n",
            "30:\tlearn: 0.2044023\ttotal: 1m 12s\tremaining: 37m 49s\n",
            "31:\tlearn: 0.2030438\ttotal: 1m 14s\tremaining: 37m 44s\n",
            "32:\tlearn: 0.2021580\ttotal: 1m 17s\tremaining: 37m 37s\n",
            "33:\tlearn: 0.2010907\ttotal: 1m 19s\tremaining: 37m 32s\n",
            "34:\tlearn: 0.2000685\ttotal: 1m 21s\tremaining: 37m 24s\n",
            "35:\tlearn: 0.1991942\ttotal: 1m 23s\tremaining: 37m 20s\n",
            "36:\tlearn: 0.1980238\ttotal: 1m 25s\tremaining: 37m 15s\n",
            "37:\tlearn: 0.1969134\ttotal: 1m 28s\tremaining: 37m 11s\n",
            "38:\tlearn: 0.1960942\ttotal: 1m 30s\tremaining: 37m 7s\n",
            "39:\tlearn: 0.1951931\ttotal: 1m 32s\tremaining: 37m 4s\n",
            "40:\tlearn: 0.1939078\ttotal: 1m 35s\tremaining: 37m 2s\n",
            "41:\tlearn: 0.1932747\ttotal: 1m 37s\tremaining: 36m 58s\n",
            "42:\tlearn: 0.1925951\ttotal: 1m 39s\tremaining: 36m 53s\n",
            "43:\tlearn: 0.1918994\ttotal: 1m 41s\tremaining: 36m 48s\n",
            "44:\tlearn: 0.1911170\ttotal: 1m 43s\tremaining: 36m 42s\n",
            "45:\tlearn: 0.1904536\ttotal: 1m 46s\tremaining: 36m 40s\n",
            "46:\tlearn: 0.1897805\ttotal: 1m 48s\tremaining: 36m 34s\n",
            "47:\tlearn: 0.1890873\ttotal: 1m 50s\tremaining: 36m 28s\n",
            "48:\tlearn: 0.1884914\ttotal: 1m 52s\tremaining: 36m 23s\n",
            "49:\tlearn: 0.1879589\ttotal: 1m 54s\tremaining: 36m 17s\n",
            "50:\tlearn: 0.1870713\ttotal: 1m 56s\tremaining: 36m 14s\n",
            "51:\tlearn: 0.1865465\ttotal: 1m 59s\tremaining: 36m 10s\n",
            "52:\tlearn: 0.1856990\ttotal: 2m 1s\tremaining: 36m 6s\n",
            "53:\tlearn: 0.1851519\ttotal: 2m 3s\tremaining: 36m 3s\n",
            "54:\tlearn: 0.1844557\ttotal: 2m 5s\tremaining: 36m\n",
            "55:\tlearn: 0.1839987\ttotal: 2m 7s\tremaining: 35m 56s\n",
            "56:\tlearn: 0.1834539\ttotal: 2m 10s\tremaining: 35m 52s\n",
            "57:\tlearn: 0.1829134\ttotal: 2m 12s\tremaining: 35m 47s\n",
            "58:\tlearn: 0.1824308\ttotal: 2m 14s\tremaining: 35m 44s\n",
            "59:\tlearn: 0.1818171\ttotal: 2m 16s\tremaining: 35m 39s\n",
            "60:\tlearn: 0.1813802\ttotal: 2m 18s\tremaining: 35m 36s\n",
            "61:\tlearn: 0.1809057\ttotal: 2m 20s\tremaining: 35m 32s\n",
            "62:\tlearn: 0.1803847\ttotal: 2m 23s\tremaining: 35m 29s\n",
            "63:\tlearn: 0.1799811\ttotal: 2m 25s\tremaining: 35m 27s\n",
            "64:\tlearn: 0.1794299\ttotal: 2m 27s\tremaining: 35m 24s\n",
            "65:\tlearn: 0.1788791\ttotal: 2m 29s\tremaining: 35m 21s\n",
            "66:\tlearn: 0.1783011\ttotal: 2m 32s\tremaining: 35m 19s\n",
            "67:\tlearn: 0.1774332\ttotal: 2m 34s\tremaining: 35m 19s\n",
            "68:\tlearn: 0.1769363\ttotal: 2m 36s\tremaining: 35m 16s\n",
            "69:\tlearn: 0.1766063\ttotal: 2m 39s\tremaining: 35m 13s\n",
            "70:\tlearn: 0.1762790\ttotal: 2m 41s\tremaining: 35m 10s\n",
            "71:\tlearn: 0.1758757\ttotal: 2m 43s\tremaining: 35m 8s\n",
            "72:\tlearn: 0.1755155\ttotal: 2m 45s\tremaining: 35m 4s\n",
            "73:\tlearn: 0.1751448\ttotal: 2m 48s\tremaining: 35m 2s\n",
            "74:\tlearn: 0.1747559\ttotal: 2m 50s\tremaining: 34m 58s\n",
            "75:\tlearn: 0.1744320\ttotal: 2m 52s\tremaining: 34m 55s\n",
            "76:\tlearn: 0.1740751\ttotal: 2m 54s\tremaining: 34m 52s\n",
            "77:\tlearn: 0.1735934\ttotal: 2m 56s\tremaining: 34m 49s\n",
            "78:\tlearn: 0.1732583\ttotal: 2m 58s\tremaining: 34m 46s\n",
            "79:\tlearn: 0.1728797\ttotal: 3m 1s\tremaining: 34m 43s\n",
            "80:\tlearn: 0.1725264\ttotal: 3m 3s\tremaining: 34m 41s\n",
            "81:\tlearn: 0.1721508\ttotal: 3m 5s\tremaining: 34m 38s\n",
            "82:\tlearn: 0.1717974\ttotal: 3m 7s\tremaining: 34m 36s\n",
            "83:\tlearn: 0.1714960\ttotal: 3m 10s\tremaining: 34m 33s\n",
            "84:\tlearn: 0.1711870\ttotal: 3m 12s\tremaining: 34m 30s\n",
            "85:\tlearn: 0.1708780\ttotal: 3m 14s\tremaining: 34m 26s\n",
            "86:\tlearn: 0.1703715\ttotal: 3m 16s\tremaining: 34m 23s\n",
            "87:\tlearn: 0.1700828\ttotal: 3m 18s\tremaining: 34m 21s\n",
            "88:\tlearn: 0.1696409\ttotal: 3m 21s\tremaining: 34m 20s\n",
            "89:\tlearn: 0.1693672\ttotal: 3m 23s\tremaining: 34m 17s\n",
            "90:\tlearn: 0.1690484\ttotal: 3m 25s\tremaining: 34m 15s\n",
            "91:\tlearn: 0.1686980\ttotal: 3m 27s\tremaining: 34m 12s\n",
            "92:\tlearn: 0.1684362\ttotal: 3m 30s\tremaining: 34m 9s\n",
            "93:\tlearn: 0.1680556\ttotal: 3m 32s\tremaining: 34m 7s\n",
            "94:\tlearn: 0.1676641\ttotal: 3m 34s\tremaining: 34m 5s\n",
            "95:\tlearn: 0.1673584\ttotal: 3m 36s\tremaining: 34m 3s\n",
            "96:\tlearn: 0.1670497\ttotal: 3m 39s\tremaining: 34m\n",
            "97:\tlearn: 0.1667940\ttotal: 3m 41s\tremaining: 33m 57s\n",
            "98:\tlearn: 0.1663695\ttotal: 3m 43s\tremaining: 33m 54s\n",
            "99:\tlearn: 0.1660796\ttotal: 3m 45s\tremaining: 33m 52s\n",
            "100:\tlearn: 0.1657943\ttotal: 3m 47s\tremaining: 33m 49s\n",
            "101:\tlearn: 0.1655274\ttotal: 3m 50s\tremaining: 33m 45s\n",
            "102:\tlearn: 0.1652906\ttotal: 3m 52s\tremaining: 33m 43s\n",
            "103:\tlearn: 0.1646751\ttotal: 3m 54s\tremaining: 33m 41s\n",
            "104:\tlearn: 0.1644284\ttotal: 3m 56s\tremaining: 33m 39s\n",
            "105:\tlearn: 0.1641975\ttotal: 3m 59s\tremaining: 33m 36s\n",
            "106:\tlearn: 0.1638556\ttotal: 4m 1s\tremaining: 33m 33s\n",
            "107:\tlearn: 0.1636119\ttotal: 4m 3s\tremaining: 33m 30s\n",
            "108:\tlearn: 0.1633696\ttotal: 4m 5s\tremaining: 33m 27s\n",
            "109:\tlearn: 0.1630856\ttotal: 4m 7s\tremaining: 33m 25s\n",
            "110:\tlearn: 0.1628785\ttotal: 4m 9s\tremaining: 33m 21s\n",
            "111:\tlearn: 0.1625628\ttotal: 4m 12s\tremaining: 33m 19s\n",
            "112:\tlearn: 0.1623598\ttotal: 4m 14s\tremaining: 33m 16s\n",
            "113:\tlearn: 0.1621453\ttotal: 4m 16s\tremaining: 33m 13s\n",
            "114:\tlearn: 0.1618430\ttotal: 4m 18s\tremaining: 33m 11s\n",
            "115:\tlearn: 0.1615688\ttotal: 4m 20s\tremaining: 33m 8s\n",
            "116:\tlearn: 0.1613844\ttotal: 4m 23s\tremaining: 33m 6s\n",
            "117:\tlearn: 0.1610106\ttotal: 4m 25s\tremaining: 33m 4s\n",
            "118:\tlearn: 0.1607773\ttotal: 4m 27s\tremaining: 33m 1s\n",
            "119:\tlearn: 0.1605386\ttotal: 4m 29s\tremaining: 32m 59s\n",
            "120:\tlearn: 0.1602990\ttotal: 4m 32s\tremaining: 32m 56s\n",
            "121:\tlearn: 0.1600420\ttotal: 4m 34s\tremaining: 32m 54s\n",
            "122:\tlearn: 0.1597457\ttotal: 4m 36s\tremaining: 32m 52s\n",
            "123:\tlearn: 0.1595531\ttotal: 4m 38s\tremaining: 32m 49s\n",
            "124:\tlearn: 0.1592518\ttotal: 4m 40s\tremaining: 32m 46s\n",
            "125:\tlearn: 0.1590384\ttotal: 4m 43s\tremaining: 32m 43s\n",
            "126:\tlearn: 0.1588240\ttotal: 4m 45s\tremaining: 32m 40s\n",
            "127:\tlearn: 0.1585705\ttotal: 4m 47s\tremaining: 32m 37s\n",
            "128:\tlearn: 0.1583778\ttotal: 4m 49s\tremaining: 32m 34s\n",
            "129:\tlearn: 0.1581381\ttotal: 4m 51s\tremaining: 32m 32s\n",
            "130:\tlearn: 0.1579157\ttotal: 4m 53s\tremaining: 32m 29s\n",
            "131:\tlearn: 0.1577067\ttotal: 4m 56s\tremaining: 32m 27s\n",
            "132:\tlearn: 0.1574208\ttotal: 4m 58s\tremaining: 32m 25s\n",
            "133:\tlearn: 0.1571770\ttotal: 5m\tremaining: 32m 22s\n",
            "134:\tlearn: 0.1569843\ttotal: 5m 2s\tremaining: 32m 19s\n",
            "135:\tlearn: 0.1567139\ttotal: 5m 4s\tremaining: 32m 16s\n",
            "136:\tlearn: 0.1564316\ttotal: 5m 7s\tremaining: 32m 14s\n",
            "137:\tlearn: 0.1560988\ttotal: 5m 9s\tremaining: 32m 12s\n",
            "138:\tlearn: 0.1558048\ttotal: 5m 11s\tremaining: 32m 9s\n",
            "139:\tlearn: 0.1555716\ttotal: 5m 13s\tremaining: 32m 6s\n",
            "140:\tlearn: 0.1553685\ttotal: 5m 15s\tremaining: 32m 4s\n",
            "141:\tlearn: 0.1550749\ttotal: 5m 18s\tremaining: 32m 1s\n",
            "142:\tlearn: 0.1548342\ttotal: 5m 20s\tremaining: 31m 58s\n",
            "143:\tlearn: 0.1546514\ttotal: 5m 22s\tremaining: 31m 55s\n",
            "144:\tlearn: 0.1544673\ttotal: 5m 24s\tremaining: 31m 52s\n",
            "145:\tlearn: 0.1542537\ttotal: 5m 26s\tremaining: 31m 50s\n",
            "146:\tlearn: 0.1539970\ttotal: 5m 28s\tremaining: 31m 47s\n",
            "147:\tlearn: 0.1537844\ttotal: 5m 30s\tremaining: 31m 45s\n",
            "148:\tlearn: 0.1535346\ttotal: 5m 33s\tremaining: 31m 43s\n",
            "149:\tlearn: 0.1533646\ttotal: 5m 35s\tremaining: 31m 40s\n",
            "150:\tlearn: 0.1529976\ttotal: 5m 37s\tremaining: 31m 38s\n",
            "151:\tlearn: 0.1527853\ttotal: 5m 39s\tremaining: 31m 35s\n",
            "152:\tlearn: 0.1525312\ttotal: 5m 41s\tremaining: 31m 32s\n",
            "153:\tlearn: 0.1523481\ttotal: 5m 44s\tremaining: 31m 30s\n",
            "154:\tlearn: 0.1521207\ttotal: 5m 46s\tremaining: 31m 28s\n",
            "155:\tlearn: 0.1519711\ttotal: 5m 48s\tremaining: 31m 24s\n",
            "156:\tlearn: 0.1518171\ttotal: 5m 50s\tremaining: 31m 21s\n",
            "157:\tlearn: 0.1516079\ttotal: 5m 52s\tremaining: 31m 19s\n",
            "158:\tlearn: 0.1513829\ttotal: 5m 54s\tremaining: 31m 16s\n",
            "159:\tlearn: 0.1511516\ttotal: 5m 57s\tremaining: 31m 14s\n",
            "160:\tlearn: 0.1509480\ttotal: 5m 59s\tremaining: 31m 11s\n",
            "161:\tlearn: 0.1508107\ttotal: 6m 1s\tremaining: 31m 8s\n",
            "162:\tlearn: 0.1504777\ttotal: 6m 3s\tremaining: 31m 6s\n",
            "163:\tlearn: 0.1503135\ttotal: 6m 5s\tremaining: 31m 3s\n",
            "164:\tlearn: 0.1501817\ttotal: 6m 7s\tremaining: 31m\n",
            "165:\tlearn: 0.1500023\ttotal: 6m 9s\tremaining: 30m 57s\n",
            "166:\tlearn: 0.1498268\ttotal: 6m 11s\tremaining: 30m 54s\n",
            "167:\tlearn: 0.1496396\ttotal: 6m 14s\tremaining: 30m 52s\n",
            "168:\tlearn: 0.1493955\ttotal: 6m 16s\tremaining: 30m 50s\n",
            "169:\tlearn: 0.1492629\ttotal: 6m 18s\tremaining: 30m 47s\n",
            "170:\tlearn: 0.1489737\ttotal: 6m 20s\tremaining: 30m 45s\n",
            "171:\tlearn: 0.1488097\ttotal: 6m 22s\tremaining: 30m 42s\n",
            "172:\tlearn: 0.1486700\ttotal: 6m 24s\tremaining: 30m 39s\n",
            "173:\tlearn: 0.1485110\ttotal: 6m 26s\tremaining: 30m 36s\n",
            "174:\tlearn: 0.1483357\ttotal: 6m 29s\tremaining: 30m 34s\n",
            "175:\tlearn: 0.1480972\ttotal: 6m 31s\tremaining: 30m 31s\n",
            "176:\tlearn: 0.1478637\ttotal: 6m 33s\tremaining: 30m 29s\n",
            "177:\tlearn: 0.1477514\ttotal: 6m 35s\tremaining: 30m 26s\n",
            "178:\tlearn: 0.1475854\ttotal: 6m 37s\tremaining: 30m 24s\n",
            "179:\tlearn: 0.1474366\ttotal: 6m 39s\tremaining: 30m 22s\n",
            "180:\tlearn: 0.1472625\ttotal: 6m 42s\tremaining: 30m 19s\n",
            "181:\tlearn: 0.1470981\ttotal: 6m 44s\tremaining: 30m 16s\n",
            "182:\tlearn: 0.1469276\ttotal: 6m 46s\tremaining: 30m 13s\n",
            "183:\tlearn: 0.1467528\ttotal: 6m 48s\tremaining: 30m 11s\n",
            "184:\tlearn: 0.1465909\ttotal: 6m 50s\tremaining: 30m 9s\n",
            "185:\tlearn: 0.1464570\ttotal: 6m 52s\tremaining: 30m 6s\n",
            "186:\tlearn: 0.1462962\ttotal: 6m 54s\tremaining: 30m 3s\n",
            "187:\tlearn: 0.1461838\ttotal: 6m 56s\tremaining: 30m 1s\n",
            "188:\tlearn: 0.1460578\ttotal: 6m 59s\tremaining: 29m 58s\n",
            "189:\tlearn: 0.1459037\ttotal: 7m 1s\tremaining: 29m 55s\n",
            "190:\tlearn: 0.1456828\ttotal: 7m 3s\tremaining: 29m 53s\n",
            "191:\tlearn: 0.1454938\ttotal: 7m 5s\tremaining: 29m 51s\n",
            "192:\tlearn: 0.1453545\ttotal: 7m 7s\tremaining: 29m 48s\n",
            "193:\tlearn: 0.1451877\ttotal: 7m 9s\tremaining: 29m 46s\n",
            "194:\tlearn: 0.1450734\ttotal: 7m 12s\tremaining: 29m 43s\n",
            "195:\tlearn: 0.1448692\ttotal: 7m 14s\tremaining: 29m 41s\n",
            "196:\tlearn: 0.1447197\ttotal: 7m 16s\tremaining: 29m 39s\n",
            "197:\tlearn: 0.1445595\ttotal: 7m 18s\tremaining: 29m 36s\n",
            "198:\tlearn: 0.1444377\ttotal: 7m 20s\tremaining: 29m 34s\n",
            "199:\tlearn: 0.1443059\ttotal: 7m 22s\tremaining: 29m 31s\n",
            "200:\tlearn: 0.1442150\ttotal: 7m 25s\tremaining: 29m 29s\n",
            "201:\tlearn: 0.1440950\ttotal: 7m 27s\tremaining: 29m 26s\n",
            "202:\tlearn: 0.1439527\ttotal: 7m 29s\tremaining: 29m 23s\n",
            "203:\tlearn: 0.1438111\ttotal: 7m 31s\tremaining: 29m 21s\n",
            "204:\tlearn: 0.1436361\ttotal: 7m 33s\tremaining: 29m 18s\n",
            "205:\tlearn: 0.1434704\ttotal: 7m 35s\tremaining: 29m 17s\n",
            "206:\tlearn: 0.1433090\ttotal: 7m 38s\tremaining: 29m 15s\n",
            "207:\tlearn: 0.1432069\ttotal: 7m 40s\tremaining: 29m 12s\n",
            "208:\tlearn: 0.1429455\ttotal: 7m 42s\tremaining: 29m 10s\n",
            "209:\tlearn: 0.1427278\ttotal: 7m 44s\tremaining: 29m 8s\n",
            "210:\tlearn: 0.1426446\ttotal: 7m 46s\tremaining: 29m 5s\n",
            "211:\tlearn: 0.1425180\ttotal: 7m 48s\tremaining: 29m 2s\n",
            "212:\tlearn: 0.1423297\ttotal: 7m 51s\tremaining: 29m\n",
            "213:\tlearn: 0.1421647\ttotal: 7m 53s\tremaining: 28m 58s\n",
            "214:\tlearn: 0.1419796\ttotal: 7m 55s\tremaining: 28m 55s\n",
            "215:\tlearn: 0.1418011\ttotal: 7m 57s\tremaining: 28m 53s\n",
            "216:\tlearn: 0.1416390\ttotal: 7m 59s\tremaining: 28m 51s\n",
            "217:\tlearn: 0.1415502\ttotal: 8m 1s\tremaining: 28m 48s\n",
            "218:\tlearn: 0.1414148\ttotal: 8m 3s\tremaining: 28m 46s\n",
            "219:\tlearn: 0.1412100\ttotal: 8m 6s\tremaining: 28m 43s\n",
            "220:\tlearn: 0.1410563\ttotal: 8m 8s\tremaining: 28m 41s\n",
            "221:\tlearn: 0.1409634\ttotal: 8m 10s\tremaining: 28m 39s\n",
            "222:\tlearn: 0.1407896\ttotal: 8m 12s\tremaining: 28m 36s\n",
            "223:\tlearn: 0.1407117\ttotal: 8m 14s\tremaining: 28m 33s\n",
            "224:\tlearn: 0.1405243\ttotal: 8m 16s\tremaining: 28m 31s\n",
            "225:\tlearn: 0.1404203\ttotal: 8m 19s\tremaining: 28m 28s\n",
            "226:\tlearn: 0.1402528\ttotal: 8m 21s\tremaining: 28m 26s\n",
            "227:\tlearn: 0.1401005\ttotal: 8m 23s\tremaining: 28m 24s\n",
            "228:\tlearn: 0.1399738\ttotal: 8m 25s\tremaining: 28m 21s\n",
            "229:\tlearn: 0.1398082\ttotal: 8m 27s\tremaining: 28m 19s\n",
            "230:\tlearn: 0.1396215\ttotal: 8m 29s\tremaining: 28m 17s\n",
            "231:\tlearn: 0.1394442\ttotal: 8m 32s\tremaining: 28m 15s\n",
            "232:\tlearn: 0.1393688\ttotal: 8m 34s\tremaining: 28m 12s\n",
            "233:\tlearn: 0.1391822\ttotal: 8m 36s\tremaining: 28m 10s\n",
            "234:\tlearn: 0.1390498\ttotal: 8m 38s\tremaining: 28m 7s\n",
            "235:\tlearn: 0.1389502\ttotal: 8m 40s\tremaining: 28m 5s\n",
            "236:\tlearn: 0.1388269\ttotal: 8m 42s\tremaining: 28m 2s\n",
            "237:\tlearn: 0.1387343\ttotal: 8m 44s\tremaining: 28m\n",
            "238:\tlearn: 0.1386175\ttotal: 8m 47s\tremaining: 27m 58s\n",
            "239:\tlearn: 0.1385411\ttotal: 8m 49s\tremaining: 27m 55s\n",
            "240:\tlearn: 0.1384191\ttotal: 8m 51s\tremaining: 27m 53s\n",
            "241:\tlearn: 0.1382935\ttotal: 8m 53s\tremaining: 27m 51s\n",
            "242:\tlearn: 0.1381845\ttotal: 8m 55s\tremaining: 27m 49s\n",
            "243:\tlearn: 0.1379734\ttotal: 8m 58s\tremaining: 27m 47s\n",
            "244:\tlearn: 0.1379018\ttotal: 9m\tremaining: 27m 44s\n",
            "245:\tlearn: 0.1378106\ttotal: 9m 2s\tremaining: 27m 41s\n",
            "246:\tlearn: 0.1377055\ttotal: 9m 4s\tremaining: 27m 39s\n",
            "247:\tlearn: 0.1376125\ttotal: 9m 6s\tremaining: 27m 37s\n",
            "248:\tlearn: 0.1375059\ttotal: 9m 8s\tremaining: 27m 34s\n",
            "249:\tlearn: 0.1373839\ttotal: 9m 10s\tremaining: 27m 32s\n",
            "250:\tlearn: 0.1372932\ttotal: 9m 12s\tremaining: 27m 29s\n",
            "251:\tlearn: 0.1371877\ttotal: 9m 15s\tremaining: 27m 27s\n",
            "252:\tlearn: 0.1370736\ttotal: 9m 17s\tremaining: 27m 25s\n",
            "253:\tlearn: 0.1370073\ttotal: 9m 19s\tremaining: 27m 22s\n",
            "254:\tlearn: 0.1368741\ttotal: 9m 21s\tremaining: 27m 20s\n",
            "255:\tlearn: 0.1367490\ttotal: 9m 23s\tremaining: 27m 17s\n",
            "256:\tlearn: 0.1366816\ttotal: 9m 25s\tremaining: 27m 15s\n",
            "257:\tlearn: 0.1365808\ttotal: 9m 27s\tremaining: 27m 12s\n",
            "258:\tlearn: 0.1364862\ttotal: 9m 29s\tremaining: 27m 10s\n",
            "259:\tlearn: 0.1363612\ttotal: 9m 32s\tremaining: 27m 8s\n",
            "260:\tlearn: 0.1362133\ttotal: 9m 34s\tremaining: 27m 6s\n",
            "261:\tlearn: 0.1361199\ttotal: 9m 36s\tremaining: 27m 4s\n",
            "262:\tlearn: 0.1360011\ttotal: 9m 38s\tremaining: 27m 1s\n",
            "263:\tlearn: 0.1358296\ttotal: 9m 40s\tremaining: 26m 59s\n",
            "264:\tlearn: 0.1356905\ttotal: 9m 43s\tremaining: 26m 57s\n",
            "265:\tlearn: 0.1355178\ttotal: 9m 45s\tremaining: 26m 55s\n",
            "266:\tlearn: 0.1354036\ttotal: 9m 47s\tremaining: 26m 53s\n",
            "267:\tlearn: 0.1353189\ttotal: 9m 49s\tremaining: 26m 50s\n",
            "268:\tlearn: 0.1351258\ttotal: 9m 51s\tremaining: 26m 48s\n",
            "269:\tlearn: 0.1350105\ttotal: 9m 53s\tremaining: 26m 45s\n",
            "270:\tlearn: 0.1349101\ttotal: 9m 56s\tremaining: 26m 43s\n",
            "271:\tlearn: 0.1348453\ttotal: 9m 58s\tremaining: 26m 40s\n",
            "272:\tlearn: 0.1347527\ttotal: 10m\tremaining: 26m 38s\n",
            "273:\tlearn: 0.1346836\ttotal: 10m 2s\tremaining: 26m 35s\n",
            "274:\tlearn: 0.1345818\ttotal: 10m 4s\tremaining: 26m 33s\n",
            "275:\tlearn: 0.1344425\ttotal: 10m 6s\tremaining: 26m 31s\n",
            "276:\tlearn: 0.1343321\ttotal: 10m 8s\tremaining: 26m 28s\n",
            "277:\tlearn: 0.1342189\ttotal: 10m 10s\tremaining: 26m 26s\n",
            "278:\tlearn: 0.1341170\ttotal: 10m 12s\tremaining: 26m 23s\n",
            "279:\tlearn: 0.1340160\ttotal: 10m 15s\tremaining: 26m 21s\n",
            "280:\tlearn: 0.1339554\ttotal: 10m 17s\tremaining: 26m 19s\n",
            "281:\tlearn: 0.1338087\ttotal: 10m 19s\tremaining: 26m 16s\n",
            "282:\tlearn: 0.1337432\ttotal: 10m 21s\tremaining: 26m 14s\n",
            "283:\tlearn: 0.1336396\ttotal: 10m 23s\tremaining: 26m 12s\n",
            "284:\tlearn: 0.1335251\ttotal: 10m 25s\tremaining: 26m 9s\n",
            "285:\tlearn: 0.1333839\ttotal: 10m 27s\tremaining: 26m 7s\n",
            "286:\tlearn: 0.1332446\ttotal: 10m 30s\tremaining: 26m 5s\n",
            "287:\tlearn: 0.1330720\ttotal: 10m 32s\tremaining: 26m 3s\n",
            "288:\tlearn: 0.1330146\ttotal: 10m 34s\tremaining: 26m\n",
            "289:\tlearn: 0.1329256\ttotal: 10m 36s\tremaining: 25m 58s\n",
            "290:\tlearn: 0.1328414\ttotal: 10m 38s\tremaining: 25m 55s\n",
            "291:\tlearn: 0.1327624\ttotal: 10m 40s\tremaining: 25m 53s\n",
            "292:\tlearn: 0.1326275\ttotal: 10m 42s\tremaining: 25m 51s\n",
            "293:\tlearn: 0.1325628\ttotal: 10m 44s\tremaining: 25m 48s\n",
            "294:\tlearn: 0.1324657\ttotal: 10m 47s\tremaining: 25m 46s\n",
            "295:\tlearn: 0.1323195\ttotal: 10m 49s\tremaining: 25m 44s\n",
            "296:\tlearn: 0.1322631\ttotal: 10m 51s\tremaining: 25m 41s\n",
            "297:\tlearn: 0.1321082\ttotal: 10m 53s\tremaining: 25m 39s\n",
            "298:\tlearn: 0.1320456\ttotal: 10m 55s\tremaining: 25m 36s\n",
            "299:\tlearn: 0.1318680\ttotal: 10m 57s\tremaining: 25m 34s\n",
            "300:\tlearn: 0.1317495\ttotal: 10m 59s\tremaining: 25m 32s\n",
            "301:\tlearn: 0.1316033\ttotal: 11m 2s\tremaining: 25m 30s\n",
            "302:\tlearn: 0.1314999\ttotal: 11m 4s\tremaining: 25m 27s\n",
            "303:\tlearn: 0.1313945\ttotal: 11m 6s\tremaining: 25m 25s\n",
            "304:\tlearn: 0.1313438\ttotal: 11m 8s\tremaining: 25m 23s\n",
            "305:\tlearn: 0.1312465\ttotal: 11m 10s\tremaining: 25m 20s\n",
            "306:\tlearn: 0.1311494\ttotal: 11m 12s\tremaining: 25m 18s\n",
            "307:\tlearn: 0.1311007\ttotal: 11m 14s\tremaining: 25m 16s\n",
            "308:\tlearn: 0.1309964\ttotal: 11m 16s\tremaining: 25m 13s\n",
            "309:\tlearn: 0.1309457\ttotal: 11m 18s\tremaining: 25m 11s\n",
            "310:\tlearn: 0.1308236\ttotal: 11m 21s\tremaining: 25m 9s\n",
            "311:\tlearn: 0.1306966\ttotal: 11m 23s\tremaining: 25m 6s\n",
            "312:\tlearn: 0.1306140\ttotal: 11m 25s\tremaining: 25m 4s\n",
            "313:\tlearn: 0.1305163\ttotal: 11m 27s\tremaining: 25m 2s\n",
            "314:\tlearn: 0.1304649\ttotal: 11m 29s\tremaining: 24m 59s\n",
            "315:\tlearn: 0.1304196\ttotal: 11m 31s\tremaining: 24m 57s\n",
            "316:\tlearn: 0.1303409\ttotal: 11m 33s\tremaining: 24m 55s\n",
            "317:\tlearn: 0.1302292\ttotal: 11m 36s\tremaining: 24m 53s\n",
            "318:\tlearn: 0.1301410\ttotal: 11m 38s\tremaining: 24m 51s\n",
            "319:\tlearn: 0.1300279\ttotal: 11m 40s\tremaining: 24m 48s\n",
            "320:\tlearn: 0.1299175\ttotal: 11m 42s\tremaining: 24m 46s\n",
            "321:\tlearn: 0.1298100\ttotal: 11m 44s\tremaining: 24m 44s\n",
            "322:\tlearn: 0.1297429\ttotal: 11m 47s\tremaining: 24m 41s\n",
            "323:\tlearn: 0.1296702\ttotal: 11m 49s\tremaining: 24m 39s\n",
            "324:\tlearn: 0.1296044\ttotal: 11m 51s\tremaining: 24m 36s\n",
            "325:\tlearn: 0.1295362\ttotal: 11m 53s\tremaining: 24m 34s\n",
            "326:\tlearn: 0.1294887\ttotal: 11m 55s\tremaining: 24m 31s\n",
            "327:\tlearn: 0.1294416\ttotal: 11m 57s\tremaining: 24m 29s\n",
            "328:\tlearn: 0.1292716\ttotal: 11m 59s\tremaining: 24m 27s\n",
            "329:\tlearn: 0.1292318\ttotal: 12m 1s\tremaining: 24m 24s\n",
            "330:\tlearn: 0.1291631\ttotal: 12m 3s\tremaining: 24m 22s\n",
            "331:\tlearn: 0.1290646\ttotal: 12m 5s\tremaining: 24m 20s\n",
            "332:\tlearn: 0.1290010\ttotal: 12m 7s\tremaining: 24m 18s\n",
            "333:\tlearn: 0.1289474\ttotal: 12m 9s\tremaining: 24m 15s\n",
            "334:\tlearn: 0.1288986\ttotal: 12m 11s\tremaining: 24m 13s\n",
            "335:\tlearn: 0.1287899\ttotal: 12m 14s\tremaining: 24m 10s\n",
            "336:\tlearn: 0.1287022\ttotal: 12m 16s\tremaining: 24m 8s\n",
            "337:\tlearn: 0.1286259\ttotal: 12m 18s\tremaining: 24m 6s\n",
            "338:\tlearn: 0.1285456\ttotal: 12m 20s\tremaining: 24m 4s\n",
            "339:\tlearn: 0.1284082\ttotal: 12m 22s\tremaining: 24m 2s\n",
            "340:\tlearn: 0.1282820\ttotal: 12m 25s\tremaining: 23m 59s\n",
            "341:\tlearn: 0.1281677\ttotal: 12m 27s\tremaining: 23m 57s\n",
            "342:\tlearn: 0.1280717\ttotal: 12m 29s\tremaining: 23m 55s\n",
            "343:\tlearn: 0.1279517\ttotal: 12m 31s\tremaining: 23m 53s\n",
            "344:\tlearn: 0.1279082\ttotal: 12m 33s\tremaining: 23m 50s\n",
            "345:\tlearn: 0.1278031\ttotal: 12m 35s\tremaining: 23m 48s\n",
            "346:\tlearn: 0.1276694\ttotal: 12m 38s\tremaining: 23m 46s\n",
            "347:\tlearn: 0.1275492\ttotal: 12m 40s\tremaining: 23m 44s\n",
            "348:\tlearn: 0.1275026\ttotal: 12m 42s\tremaining: 23m 42s\n",
            "349:\tlearn: 0.1274634\ttotal: 12m 44s\tremaining: 23m 39s\n",
            "350:\tlearn: 0.1274164\ttotal: 12m 46s\tremaining: 23m 37s\n",
            "351:\tlearn: 0.1273481\ttotal: 12m 48s\tremaining: 23m 35s\n",
            "352:\tlearn: 0.1272124\ttotal: 12m 50s\tremaining: 23m 32s\n",
            "353:\tlearn: 0.1271730\ttotal: 12m 52s\tremaining: 23m 30s\n",
            "354:\tlearn: 0.1271281\ttotal: 12m 54s\tremaining: 23m 28s\n",
            "355:\tlearn: 0.1269644\ttotal: 12m 57s\tremaining: 23m 26s\n",
            "356:\tlearn: 0.1269266\ttotal: 12m 59s\tremaining: 23m 23s\n",
            "357:\tlearn: 0.1268582\ttotal: 13m 1s\tremaining: 23m 21s\n",
            "358:\tlearn: 0.1267243\ttotal: 13m 3s\tremaining: 23m 18s\n",
            "359:\tlearn: 0.1266289\ttotal: 13m 5s\tremaining: 23m 16s\n",
            "360:\tlearn: 0.1265754\ttotal: 13m 7s\tremaining: 23m 14s\n",
            "361:\tlearn: 0.1264818\ttotal: 13m 9s\tremaining: 23m 12s\n",
            "362:\tlearn: 0.1263764\ttotal: 13m 12s\tremaining: 23m 9s\n",
            "363:\tlearn: 0.1263059\ttotal: 13m 14s\tremaining: 23m 7s\n",
            "364:\tlearn: 0.1261778\ttotal: 13m 16s\tremaining: 23m 5s\n",
            "365:\tlearn: 0.1261426\ttotal: 13m 18s\tremaining: 23m 3s\n",
            "366:\tlearn: 0.1260619\ttotal: 13m 20s\tremaining: 23m\n",
            "367:\tlearn: 0.1259749\ttotal: 13m 22s\tremaining: 22m 58s\n",
            "368:\tlearn: 0.1258712\ttotal: 13m 24s\tremaining: 22m 56s\n",
            "369:\tlearn: 0.1257869\ttotal: 13m 27s\tremaining: 22m 54s\n",
            "370:\tlearn: 0.1256810\ttotal: 13m 29s\tremaining: 22m 52s\n",
            "371:\tlearn: 0.1256244\ttotal: 13m 31s\tremaining: 22m 49s\n",
            "372:\tlearn: 0.1254833\ttotal: 13m 33s\tremaining: 22m 47s\n",
            "373:\tlearn: 0.1254153\ttotal: 13m 35s\tremaining: 22m 45s\n",
            "374:\tlearn: 0.1253587\ttotal: 13m 37s\tremaining: 22m 43s\n",
            "375:\tlearn: 0.1252443\ttotal: 13m 40s\tremaining: 22m 41s\n",
            "376:\tlearn: 0.1252078\ttotal: 13m 42s\tremaining: 22m 38s\n",
            "377:\tlearn: 0.1251606\ttotal: 13m 44s\tremaining: 22m 36s\n",
            "378:\tlearn: 0.1250318\ttotal: 13m 46s\tremaining: 22m 34s\n",
            "379:\tlearn: 0.1249117\ttotal: 13m 48s\tremaining: 22m 32s\n",
            "380:\tlearn: 0.1248154\ttotal: 13m 50s\tremaining: 22m 30s\n",
            "381:\tlearn: 0.1247159\ttotal: 13m 53s\tremaining: 22m 27s\n",
            "382:\tlearn: 0.1246751\ttotal: 13m 55s\tremaining: 22m 25s\n",
            "383:\tlearn: 0.1246345\ttotal: 13m 57s\tremaining: 22m 23s\n",
            "384:\tlearn: 0.1245391\ttotal: 13m 59s\tremaining: 22m 20s\n",
            "385:\tlearn: 0.1244491\ttotal: 14m 1s\tremaining: 22m 18s\n",
            "386:\tlearn: 0.1243549\ttotal: 14m 3s\tremaining: 22m 16s\n",
            "387:\tlearn: 0.1242700\ttotal: 14m 6s\tremaining: 22m 14s\n",
            "388:\tlearn: 0.1241923\ttotal: 14m 8s\tremaining: 22m 12s\n",
            "389:\tlearn: 0.1241561\ttotal: 14m 10s\tremaining: 22m 10s\n",
            "390:\tlearn: 0.1241039\ttotal: 14m 12s\tremaining: 22m 7s\n",
            "391:\tlearn: 0.1240418\ttotal: 14m 14s\tremaining: 22m 5s\n",
            "392:\tlearn: 0.1239664\ttotal: 14m 16s\tremaining: 22m 3s\n",
            "393:\tlearn: 0.1238996\ttotal: 14m 18s\tremaining: 22m 1s\n",
            "394:\tlearn: 0.1238341\ttotal: 14m 21s\tremaining: 21m 58s\n",
            "395:\tlearn: 0.1237679\ttotal: 14m 23s\tremaining: 21m 56s\n",
            "396:\tlearn: 0.1237074\ttotal: 14m 25s\tremaining: 21m 54s\n",
            "397:\tlearn: 0.1236185\ttotal: 14m 27s\tremaining: 21m 51s\n",
            "398:\tlearn: 0.1235810\ttotal: 14m 29s\tremaining: 21m 49s\n",
            "399:\tlearn: 0.1235341\ttotal: 14m 31s\tremaining: 21m 47s\n",
            "400:\tlearn: 0.1234839\ttotal: 14m 33s\tremaining: 21m 44s\n",
            "401:\tlearn: 0.1234439\ttotal: 14m 35s\tremaining: 21m 42s\n",
            "402:\tlearn: 0.1234095\ttotal: 14m 37s\tremaining: 21m 40s\n",
            "403:\tlearn: 0.1233013\ttotal: 14m 39s\tremaining: 21m 38s\n",
            "404:\tlearn: 0.1231608\ttotal: 14m 42s\tremaining: 21m 35s\n",
            "405:\tlearn: 0.1231082\ttotal: 14m 44s\tremaining: 21m 33s\n",
            "406:\tlearn: 0.1230528\ttotal: 14m 46s\tremaining: 21m 31s\n",
            "407:\tlearn: 0.1229839\ttotal: 14m 48s\tremaining: 21m 28s\n",
            "408:\tlearn: 0.1229119\ttotal: 14m 50s\tremaining: 21m 26s\n",
            "409:\tlearn: 0.1227890\ttotal: 14m 52s\tremaining: 21m 24s\n",
            "410:\tlearn: 0.1227542\ttotal: 14m 54s\tremaining: 21m 22s\n",
            "411:\tlearn: 0.1227118\ttotal: 14m 56s\tremaining: 21m 19s\n",
            "412:\tlearn: 0.1226602\ttotal: 14m 58s\tremaining: 21m 17s\n",
            "413:\tlearn: 0.1225465\ttotal: 15m 1s\tremaining: 21m 15s\n",
            "414:\tlearn: 0.1225109\ttotal: 15m 3s\tremaining: 21m 13s\n",
            "415:\tlearn: 0.1224519\ttotal: 15m 5s\tremaining: 21m 10s\n",
            "416:\tlearn: 0.1223784\ttotal: 15m 7s\tremaining: 21m 8s\n",
            "417:\tlearn: 0.1223066\ttotal: 15m 9s\tremaining: 21m 6s\n",
            "418:\tlearn: 0.1222435\ttotal: 15m 11s\tremaining: 21m 3s\n",
            "419:\tlearn: 0.1221740\ttotal: 15m 13s\tremaining: 21m 1s\n",
            "420:\tlearn: 0.1220789\ttotal: 15m 15s\tremaining: 20m 59s\n",
            "421:\tlearn: 0.1220206\ttotal: 15m 18s\tremaining: 20m 57s\n",
            "422:\tlearn: 0.1219175\ttotal: 15m 20s\tremaining: 20m 55s\n",
            "423:\tlearn: 0.1218386\ttotal: 15m 22s\tremaining: 20m 53s\n",
            "424:\tlearn: 0.1217930\ttotal: 15m 24s\tremaining: 20m 51s\n",
            "425:\tlearn: 0.1217473\ttotal: 15m 26s\tremaining: 20m 48s\n",
            "426:\tlearn: 0.1216763\ttotal: 15m 28s\tremaining: 20m 46s\n",
            "427:\tlearn: 0.1216405\ttotal: 15m 31s\tremaining: 20m 44s\n",
            "428:\tlearn: 0.1215624\ttotal: 15m 33s\tremaining: 20m 42s\n",
            "429:\tlearn: 0.1214996\ttotal: 15m 35s\tremaining: 20m 40s\n",
            "430:\tlearn: 0.1214305\ttotal: 15m 37s\tremaining: 20m 37s\n",
            "431:\tlearn: 0.1213222\ttotal: 15m 39s\tremaining: 20m 35s\n",
            "432:\tlearn: 0.1212663\ttotal: 15m 41s\tremaining: 20m 33s\n",
            "433:\tlearn: 0.1212213\ttotal: 15m 43s\tremaining: 20m 30s\n",
            "434:\tlearn: 0.1211896\ttotal: 15m 45s\tremaining: 20m 28s\n",
            "435:\tlearn: 0.1211591\ttotal: 15m 47s\tremaining: 20m 26s\n",
            "436:\tlearn: 0.1210831\ttotal: 15m 50s\tremaining: 20m 24s\n",
            "437:\tlearn: 0.1209960\ttotal: 15m 52s\tremaining: 20m 22s\n",
            "438:\tlearn: 0.1209315\ttotal: 15m 54s\tremaining: 20m 19s\n",
            "439:\tlearn: 0.1209003\ttotal: 15m 56s\tremaining: 20m 17s\n",
            "440:\tlearn: 0.1208663\ttotal: 15m 58s\tremaining: 20m 15s\n",
            "441:\tlearn: 0.1208000\ttotal: 16m\tremaining: 20m 12s\n",
            "442:\tlearn: 0.1207609\ttotal: 16m 2s\tremaining: 20m 10s\n",
            "443:\tlearn: 0.1207000\ttotal: 16m 5s\tremaining: 20m 8s\n",
            "444:\tlearn: 0.1206042\ttotal: 16m 7s\tremaining: 20m 6s\n",
            "445:\tlearn: 0.1205694\ttotal: 16m 9s\tremaining: 20m 3s\n",
            "446:\tlearn: 0.1205386\ttotal: 16m 11s\tremaining: 20m 1s\n",
            "447:\tlearn: 0.1205081\ttotal: 16m 13s\tremaining: 19m 59s\n",
            "448:\tlearn: 0.1204354\ttotal: 16m 15s\tremaining: 19m 56s\n",
            "449:\tlearn: 0.1204026\ttotal: 16m 17s\tremaining: 19m 54s\n",
            "450:\tlearn: 0.1203601\ttotal: 16m 19s\tremaining: 19m 52s\n",
            "451:\tlearn: 0.1202859\ttotal: 16m 21s\tremaining: 19m 50s\n",
            "452:\tlearn: 0.1202514\ttotal: 16m 23s\tremaining: 19m 47s\n",
            "453:\tlearn: 0.1201528\ttotal: 16m 25s\tremaining: 19m 45s\n",
            "454:\tlearn: 0.1200941\ttotal: 16m 27s\tremaining: 19m 43s\n",
            "455:\tlearn: 0.1200640\ttotal: 16m 29s\tremaining: 19m 40s\n",
            "456:\tlearn: 0.1200350\ttotal: 16m 31s\tremaining: 19m 38s\n",
            "457:\tlearn: 0.1200031\ttotal: 16m 34s\tremaining: 19m 36s\n",
            "458:\tlearn: 0.1199321\ttotal: 16m 36s\tremaining: 19m 34s\n",
            "459:\tlearn: 0.1198442\ttotal: 16m 38s\tremaining: 19m 32s\n",
            "460:\tlearn: 0.1197754\ttotal: 16m 40s\tremaining: 19m 29s\n",
            "461:\tlearn: 0.1197286\ttotal: 16m 42s\tremaining: 19m 27s\n",
            "462:\tlearn: 0.1196513\ttotal: 16m 44s\tremaining: 19m 25s\n",
            "463:\tlearn: 0.1196150\ttotal: 16m 46s\tremaining: 19m 23s\n",
            "464:\tlearn: 0.1195288\ttotal: 16m 49s\tremaining: 19m 21s\n",
            "465:\tlearn: 0.1194994\ttotal: 16m 51s\tremaining: 19m 18s\n",
            "466:\tlearn: 0.1194705\ttotal: 16m 53s\tremaining: 19m 16s\n",
            "467:\tlearn: 0.1194108\ttotal: 16m 55s\tremaining: 19m 14s\n",
            "468:\tlearn: 0.1193215\ttotal: 16m 57s\tremaining: 19m 12s\n",
            "469:\tlearn: 0.1192371\ttotal: 16m 59s\tremaining: 19m 9s\n",
            "470:\tlearn: 0.1191758\ttotal: 17m 1s\tremaining: 19m 7s\n",
            "471:\tlearn: 0.1191481\ttotal: 17m 3s\tremaining: 19m 5s\n",
            "472:\tlearn: 0.1191203\ttotal: 17m 5s\tremaining: 19m 3s\n",
            "473:\tlearn: 0.1190305\ttotal: 17m 8s\tremaining: 19m 1s\n",
            "474:\tlearn: 0.1189000\ttotal: 17m 10s\tremaining: 18m 58s\n",
            "475:\tlearn: 0.1188050\ttotal: 17m 12s\tremaining: 18m 56s\n",
            "476:\tlearn: 0.1187735\ttotal: 17m 14s\tremaining: 18m 54s\n",
            "477:\tlearn: 0.1186807\ttotal: 17m 16s\tremaining: 18m 52s\n",
            "478:\tlearn: 0.1186015\ttotal: 17m 19s\tremaining: 18m 50s\n",
            "479:\tlearn: 0.1185466\ttotal: 17m 21s\tremaining: 18m 47s\n",
            "480:\tlearn: 0.1184978\ttotal: 17m 23s\tremaining: 18m 45s\n",
            "481:\tlearn: 0.1184362\ttotal: 17m 25s\tremaining: 18m 43s\n",
            "482:\tlearn: 0.1184074\ttotal: 17m 27s\tremaining: 18m 41s\n",
            "483:\tlearn: 0.1183481\ttotal: 17m 29s\tremaining: 18m 38s\n",
            "484:\tlearn: 0.1182747\ttotal: 17m 31s\tremaining: 18m 36s\n",
            "485:\tlearn: 0.1182351\ttotal: 17m 33s\tremaining: 18m 34s\n",
            "486:\tlearn: 0.1181671\ttotal: 17m 35s\tremaining: 18m 32s\n",
            "487:\tlearn: 0.1181388\ttotal: 17m 37s\tremaining: 18m 30s\n",
            "488:\tlearn: 0.1181071\ttotal: 17m 40s\tremaining: 18m 27s\n",
            "489:\tlearn: 0.1180398\ttotal: 17m 42s\tremaining: 18m 25s\n",
            "490:\tlearn: 0.1179569\ttotal: 17m 44s\tremaining: 18m 23s\n",
            "491:\tlearn: 0.1179227\ttotal: 17m 46s\tremaining: 18m 21s\n",
            "492:\tlearn: 0.1178956\ttotal: 17m 48s\tremaining: 18m 18s\n",
            "493:\tlearn: 0.1178680\ttotal: 17m 50s\tremaining: 18m 16s\n",
            "494:\tlearn: 0.1178409\ttotal: 17m 52s\tremaining: 18m 14s\n",
            "495:\tlearn: 0.1177971\ttotal: 17m 54s\tremaining: 18m 11s\n",
            "496:\tlearn: 0.1177193\ttotal: 17m 56s\tremaining: 18m 9s\n",
            "497:\tlearn: 0.1176913\ttotal: 17m 58s\tremaining: 18m 7s\n",
            "498:\tlearn: 0.1176351\ttotal: 18m\tremaining: 18m 5s\n",
            "499:\tlearn: 0.1175616\ttotal: 18m 3s\tremaining: 18m 3s\n",
            "500:\tlearn: 0.1174847\ttotal: 18m 5s\tremaining: 18m\n",
            "501:\tlearn: 0.1174577\ttotal: 18m 7s\tremaining: 17m 58s\n",
            "502:\tlearn: 0.1174294\ttotal: 18m 9s\tremaining: 17m 56s\n",
            "503:\tlearn: 0.1173562\ttotal: 18m 11s\tremaining: 17m 54s\n",
            "504:\tlearn: 0.1173223\ttotal: 18m 13s\tremaining: 17m 51s\n",
            "505:\tlearn: 0.1172729\ttotal: 18m 15s\tremaining: 17m 49s\n",
            "506:\tlearn: 0.1171878\ttotal: 18m 17s\tremaining: 17m 47s\n",
            "507:\tlearn: 0.1170868\ttotal: 18m 20s\tremaining: 17m 45s\n",
            "508:\tlearn: 0.1170550\ttotal: 18m 22s\tremaining: 17m 43s\n",
            "509:\tlearn: 0.1169845\ttotal: 18m 24s\tremaining: 17m 41s\n",
            "510:\tlearn: 0.1169592\ttotal: 18m 26s\tremaining: 17m 38s\n",
            "511:\tlearn: 0.1169346\ttotal: 18m 28s\tremaining: 17m 36s\n",
            "512:\tlearn: 0.1168814\ttotal: 18m 30s\tremaining: 17m 34s\n",
            "513:\tlearn: 0.1168552\ttotal: 18m 32s\tremaining: 17m 32s\n",
            "514:\tlearn: 0.1168288\ttotal: 18m 34s\tremaining: 17m 30s\n",
            "515:\tlearn: 0.1167617\ttotal: 18m 37s\tremaining: 17m 27s\n",
            "516:\tlearn: 0.1166888\ttotal: 18m 39s\tremaining: 17m 25s\n",
            "517:\tlearn: 0.1166229\ttotal: 18m 41s\tremaining: 17m 23s\n",
            "518:\tlearn: 0.1165477\ttotal: 18m 43s\tremaining: 17m 21s\n",
            "519:\tlearn: 0.1164916\ttotal: 18m 45s\tremaining: 17m 19s\n",
            "520:\tlearn: 0.1164662\ttotal: 18m 47s\tremaining: 17m 17s\n",
            "521:\tlearn: 0.1164411\ttotal: 18m 50s\tremaining: 17m 14s\n",
            "522:\tlearn: 0.1164074\ttotal: 18m 52s\tremaining: 17m 12s\n",
            "523:\tlearn: 0.1163571\ttotal: 18m 54s\tremaining: 17m 10s\n",
            "524:\tlearn: 0.1163319\ttotal: 18m 56s\tremaining: 17m 8s\n",
            "525:\tlearn: 0.1163006\ttotal: 18m 58s\tremaining: 17m 5s\n",
            "526:\tlearn: 0.1162402\ttotal: 19m\tremaining: 17m 3s\n",
            "527:\tlearn: 0.1162141\ttotal: 19m 2s\tremaining: 17m 1s\n",
            "528:\tlearn: 0.1161514\ttotal: 19m 4s\tremaining: 16m 59s\n",
            "529:\tlearn: 0.1161079\ttotal: 19m 7s\tremaining: 16m 57s\n",
            "530:\tlearn: 0.1160809\ttotal: 19m 9s\tremaining: 16m 54s\n",
            "531:\tlearn: 0.1160546\ttotal: 19m 11s\tremaining: 16m 52s\n",
            "532:\tlearn: 0.1159938\ttotal: 19m 13s\tremaining: 16m 50s\n",
            "533:\tlearn: 0.1159551\ttotal: 19m 15s\tremaining: 16m 48s\n",
            "534:\tlearn: 0.1158879\ttotal: 19m 17s\tremaining: 16m 46s\n",
            "535:\tlearn: 0.1158622\ttotal: 19m 19s\tremaining: 16m 44s\n",
            "536:\tlearn: 0.1158377\ttotal: 19m 21s\tremaining: 16m 41s\n",
            "537:\tlearn: 0.1158137\ttotal: 19m 24s\tremaining: 16m 39s\n",
            "538:\tlearn: 0.1157886\ttotal: 19m 26s\tremaining: 16m 37s\n",
            "539:\tlearn: 0.1157642\ttotal: 19m 28s\tremaining: 16m 35s\n",
            "540:\tlearn: 0.1156979\ttotal: 19m 30s\tremaining: 16m 33s\n",
            "541:\tlearn: 0.1155965\ttotal: 19m 32s\tremaining: 16m 31s\n",
            "542:\tlearn: 0.1155461\ttotal: 19m 35s\tremaining: 16m 28s\n",
            "543:\tlearn: 0.1155072\ttotal: 19m 37s\tremaining: 16m 26s\n",
            "544:\tlearn: 0.1154367\ttotal: 19m 39s\tremaining: 16m 24s\n",
            "545:\tlearn: 0.1154123\ttotal: 19m 41s\tremaining: 16m 22s\n",
            "546:\tlearn: 0.1153886\ttotal: 19m 43s\tremaining: 16m 20s\n",
            "547:\tlearn: 0.1153421\ttotal: 19m 45s\tremaining: 16m 18s\n",
            "548:\tlearn: 0.1153185\ttotal: 19m 48s\tremaining: 16m 16s\n",
            "549:\tlearn: 0.1152905\ttotal: 19m 50s\tremaining: 16m 13s\n",
            "550:\tlearn: 0.1151980\ttotal: 19m 52s\tremaining: 16m 11s\n",
            "551:\tlearn: 0.1151338\ttotal: 19m 54s\tremaining: 16m 9s\n",
            "552:\tlearn: 0.1151059\ttotal: 19m 56s\tremaining: 16m 7s\n",
            "553:\tlearn: 0.1150125\ttotal: 19m 59s\tremaining: 16m 5s\n",
            "554:\tlearn: 0.1149888\ttotal: 20m 1s\tremaining: 16m 3s\n",
            "555:\tlearn: 0.1149479\ttotal: 20m 3s\tremaining: 16m\n",
            "556:\tlearn: 0.1149228\ttotal: 20m 5s\tremaining: 15m 58s\n",
            "557:\tlearn: 0.1148954\ttotal: 20m 7s\tremaining: 15m 56s\n",
            "558:\tlearn: 0.1148710\ttotal: 20m 9s\tremaining: 15m 54s\n",
            "559:\tlearn: 0.1148473\ttotal: 20m 11s\tremaining: 15m 52s\n",
            "560:\tlearn: 0.1147739\ttotal: 20m 13s\tremaining: 15m 49s\n",
            "561:\tlearn: 0.1146963\ttotal: 20m 16s\tremaining: 15m 47s\n",
            "562:\tlearn: 0.1146662\ttotal: 20m 18s\tremaining: 15m 45s\n",
            "563:\tlearn: 0.1146071\ttotal: 20m 20s\tremaining: 15m 43s\n",
            "564:\tlearn: 0.1145850\ttotal: 20m 22s\tremaining: 15m 41s\n",
            "565:\tlearn: 0.1145204\ttotal: 20m 24s\tremaining: 15m 39s\n",
            "566:\tlearn: 0.1144646\ttotal: 20m 27s\tremaining: 15m 37s\n",
            "567:\tlearn: 0.1144426\ttotal: 20m 29s\tremaining: 15m 34s\n",
            "568:\tlearn: 0.1144197\ttotal: 20m 31s\tremaining: 15m 32s\n",
            "569:\tlearn: 0.1143745\ttotal: 20m 33s\tremaining: 15m 30s\n",
            "570:\tlearn: 0.1143511\ttotal: 20m 35s\tremaining: 15m 28s\n",
            "571:\tlearn: 0.1143292\ttotal: 20m 37s\tremaining: 15m 26s\n",
            "572:\tlearn: 0.1143067\ttotal: 20m 39s\tremaining: 15m 23s\n",
            "573:\tlearn: 0.1142395\ttotal: 20m 41s\tremaining: 15m 21s\n",
            "574:\tlearn: 0.1141971\ttotal: 20m 44s\tremaining: 15m 19s\n",
            "575:\tlearn: 0.1141683\ttotal: 20m 46s\tremaining: 15m 17s\n",
            "576:\tlearn: 0.1141452\ttotal: 20m 48s\tremaining: 15m 15s\n",
            "577:\tlearn: 0.1141034\ttotal: 20m 50s\tremaining: 15m 12s\n",
            "578:\tlearn: 0.1140645\ttotal: 20m 52s\tremaining: 15m 10s\n",
            "579:\tlearn: 0.1140433\ttotal: 20m 54s\tremaining: 15m 8s\n",
            "580:\tlearn: 0.1139675\ttotal: 20m 56s\tremaining: 15m 6s\n",
            "581:\tlearn: 0.1139425\ttotal: 20m 58s\tremaining: 15m 4s\n",
            "582:\tlearn: 0.1139090\ttotal: 21m\tremaining: 15m 1s\n",
            "583:\tlearn: 0.1138307\ttotal: 21m 3s\tremaining: 14m 59s\n",
            "584:\tlearn: 0.1138092\ttotal: 21m 5s\tremaining: 14m 57s\n",
            "585:\tlearn: 0.1137770\ttotal: 21m 7s\tremaining: 14m 55s\n",
            "586:\tlearn: 0.1137522\ttotal: 21m 9s\tremaining: 14m 53s\n",
            "587:\tlearn: 0.1137302\ttotal: 21m 11s\tremaining: 14m 50s\n",
            "588:\tlearn: 0.1136828\ttotal: 21m 13s\tremaining: 14m 48s\n",
            "589:\tlearn: 0.1136368\ttotal: 21m 15s\tremaining: 14m 46s\n",
            "590:\tlearn: 0.1136155\ttotal: 21m 17s\tremaining: 14m 44s\n",
            "591:\tlearn: 0.1135138\ttotal: 21m 19s\tremaining: 14m 42s\n",
            "592:\tlearn: 0.1134907\ttotal: 21m 21s\tremaining: 14m 39s\n",
            "593:\tlearn: 0.1134223\ttotal: 21m 24s\tremaining: 14m 37s\n",
            "594:\tlearn: 0.1134014\ttotal: 21m 26s\tremaining: 14m 35s\n",
            "595:\tlearn: 0.1133705\ttotal: 21m 28s\tremaining: 14m 33s\n",
            "596:\tlearn: 0.1133493\ttotal: 21m 30s\tremaining: 14m 30s\n",
            "597:\tlearn: 0.1133278\ttotal: 21m 32s\tremaining: 14m 28s\n",
            "598:\tlearn: 0.1133053\ttotal: 21m 34s\tremaining: 14m 26s\n",
            "599:\tlearn: 0.1132307\ttotal: 21m 36s\tremaining: 14m 24s\n",
            "600:\tlearn: 0.1132104\ttotal: 21m 38s\tremaining: 14m 22s\n",
            "601:\tlearn: 0.1131578\ttotal: 21m 40s\tremaining: 14m 19s\n",
            "602:\tlearn: 0.1131361\ttotal: 21m 42s\tremaining: 14m 17s\n",
            "603:\tlearn: 0.1130642\ttotal: 21m 44s\tremaining: 14m 15s\n",
            "604:\tlearn: 0.1130433\ttotal: 21m 46s\tremaining: 14m 13s\n",
            "605:\tlearn: 0.1129815\ttotal: 21m 49s\tremaining: 14m 11s\n",
            "606:\tlearn: 0.1129590\ttotal: 21m 51s\tremaining: 14m 8s\n",
            "607:\tlearn: 0.1129387\ttotal: 21m 53s\tremaining: 14m 6s\n",
            "608:\tlearn: 0.1129130\ttotal: 21m 55s\tremaining: 14m 4s\n",
            "609:\tlearn: 0.1128576\ttotal: 21m 57s\tremaining: 14m 2s\n",
            "610:\tlearn: 0.1128271\ttotal: 21m 59s\tremaining: 14m\n",
            "611:\tlearn: 0.1127560\ttotal: 22m 1s\tremaining: 13m 57s\n",
            "612:\tlearn: 0.1127360\ttotal: 22m 3s\tremaining: 13m 55s\n",
            "613:\tlearn: 0.1127161\ttotal: 22m 5s\tremaining: 13m 53s\n",
            "614:\tlearn: 0.1126761\ttotal: 22m 7s\tremaining: 13m 51s\n",
            "615:\tlearn: 0.1126125\ttotal: 22m 10s\tremaining: 13m 49s\n",
            "616:\tlearn: 0.1125922\ttotal: 22m 12s\tremaining: 13m 46s\n",
            "617:\tlearn: 0.1125679\ttotal: 22m 14s\tremaining: 13m 44s\n",
            "618:\tlearn: 0.1125377\ttotal: 22m 16s\tremaining: 13m 42s\n",
            "619:\tlearn: 0.1124693\ttotal: 22m 18s\tremaining: 13m 40s\n",
            "620:\tlearn: 0.1124485\ttotal: 22m 20s\tremaining: 13m 38s\n",
            "621:\tlearn: 0.1124285\ttotal: 22m 22s\tremaining: 13m 35s\n",
            "622:\tlearn: 0.1123795\ttotal: 22m 24s\tremaining: 13m 33s\n",
            "623:\tlearn: 0.1123095\ttotal: 22m 26s\tremaining: 13m 31s\n",
            "624:\tlearn: 0.1122732\ttotal: 22m 28s\tremaining: 13m 29s\n",
            "625:\tlearn: 0.1122054\ttotal: 22m 31s\tremaining: 13m 27s\n",
            "626:\tlearn: 0.1121793\ttotal: 22m 33s\tremaining: 13m 25s\n",
            "627:\tlearn: 0.1121578\ttotal: 22m 35s\tremaining: 13m 22s\n",
            "628:\tlearn: 0.1121341\ttotal: 22m 37s\tremaining: 13m 20s\n",
            "629:\tlearn: 0.1120466\ttotal: 22m 39s\tremaining: 13m 18s\n",
            "630:\tlearn: 0.1120249\ttotal: 22m 41s\tremaining: 13m 16s\n",
            "631:\tlearn: 0.1120052\ttotal: 22m 43s\tremaining: 13m 14s\n",
            "632:\tlearn: 0.1119868\ttotal: 22m 45s\tremaining: 13m 11s\n",
            "633:\tlearn: 0.1119165\ttotal: 22m 48s\tremaining: 13m 9s\n",
            "634:\tlearn: 0.1118934\ttotal: 22m 50s\tremaining: 13m 7s\n",
            "635:\tlearn: 0.1118734\ttotal: 22m 52s\tremaining: 13m 5s\n",
            "636:\tlearn: 0.1118471\ttotal: 22m 54s\tremaining: 13m 3s\n",
            "637:\tlearn: 0.1117997\ttotal: 22m 56s\tremaining: 13m\n",
            "638:\tlearn: 0.1117675\ttotal: 22m 58s\tremaining: 12m 58s\n",
            "639:\tlearn: 0.1117117\ttotal: 23m\tremaining: 12m 56s\n",
            "640:\tlearn: 0.1116929\ttotal: 23m 2s\tremaining: 12m 54s\n",
            "641:\tlearn: 0.1116112\ttotal: 23m 4s\tremaining: 12m 52s\n",
            "642:\tlearn: 0.1115851\ttotal: 23m 6s\tremaining: 12m 50s\n",
            "643:\tlearn: 0.1115603\ttotal: 23m 8s\tremaining: 12m 47s\n",
            "644:\tlearn: 0.1115041\ttotal: 23m 11s\tremaining: 12m 45s\n",
            "645:\tlearn: 0.1114461\ttotal: 23m 13s\tremaining: 12m 43s\n",
            "646:\tlearn: 0.1113887\ttotal: 23m 15s\tremaining: 12m 41s\n",
            "647:\tlearn: 0.1113643\ttotal: 23m 17s\tremaining: 12m 39s\n",
            "648:\tlearn: 0.1112827\ttotal: 23m 19s\tremaining: 12m 37s\n",
            "649:\tlearn: 0.1112591\ttotal: 23m 21s\tremaining: 12m 34s\n",
            "650:\tlearn: 0.1111966\ttotal: 23m 23s\tremaining: 12m 32s\n",
            "651:\tlearn: 0.1111292\ttotal: 23m 26s\tremaining: 12m 30s\n",
            "652:\tlearn: 0.1111090\ttotal: 23m 28s\tremaining: 12m 28s\n",
            "653:\tlearn: 0.1110888\ttotal: 23m 30s\tremaining: 12m 26s\n",
            "654:\tlearn: 0.1110539\ttotal: 23m 32s\tremaining: 12m 23s\n",
            "655:\tlearn: 0.1110353\ttotal: 23m 34s\tremaining: 12m 21s\n",
            "656:\tlearn: 0.1110150\ttotal: 23m 36s\tremaining: 12m 19s\n",
            "657:\tlearn: 0.1109971\ttotal: 23m 38s\tremaining: 12m 17s\n",
            "658:\tlearn: 0.1109277\ttotal: 23m 40s\tremaining: 12m 15s\n",
            "659:\tlearn: 0.1108691\ttotal: 23m 42s\tremaining: 12m 12s\n",
            "660:\tlearn: 0.1107836\ttotal: 23m 44s\tremaining: 12m 10s\n",
            "661:\tlearn: 0.1107286\ttotal: 23m 47s\tremaining: 12m 8s\n",
            "662:\tlearn: 0.1106947\ttotal: 23m 49s\tremaining: 12m 6s\n",
            "663:\tlearn: 0.1106761\ttotal: 23m 51s\tremaining: 12m 4s\n",
            "664:\tlearn: 0.1106354\ttotal: 23m 53s\tremaining: 12m 2s\n",
            "665:\tlearn: 0.1105850\ttotal: 23m 56s\tremaining: 12m\n",
            "666:\tlearn: 0.1105268\ttotal: 23m 58s\tremaining: 11m 58s\n",
            "667:\tlearn: 0.1105088\ttotal: 24m\tremaining: 11m 55s\n",
            "668:\tlearn: 0.1104890\ttotal: 24m 2s\tremaining: 11m 53s\n",
            "669:\tlearn: 0.1104702\ttotal: 24m 4s\tremaining: 11m 51s\n",
            "670:\tlearn: 0.1104416\ttotal: 24m 6s\tremaining: 11m 49s\n",
            "671:\tlearn: 0.1104117\ttotal: 24m 8s\tremaining: 11m 47s\n",
            "672:\tlearn: 0.1103926\ttotal: 24m 10s\tremaining: 11m 44s\n",
            "673:\tlearn: 0.1103233\ttotal: 24m 12s\tremaining: 11m 42s\n",
            "674:\tlearn: 0.1102552\ttotal: 24m 14s\tremaining: 11m 40s\n",
            "675:\tlearn: 0.1101674\ttotal: 24m 17s\tremaining: 11m 38s\n",
            "676:\tlearn: 0.1101362\ttotal: 24m 19s\tremaining: 11m 36s\n",
            "677:\tlearn: 0.1100967\ttotal: 24m 21s\tremaining: 11m 34s\n",
            "678:\tlearn: 0.1100529\ttotal: 24m 23s\tremaining: 11m 31s\n",
            "679:\tlearn: 0.1100265\ttotal: 24m 25s\tremaining: 11m 29s\n",
            "680:\tlearn: 0.1100078\ttotal: 24m 27s\tremaining: 11m 27s\n",
            "681:\tlearn: 0.1099571\ttotal: 24m 29s\tremaining: 11m 25s\n",
            "682:\tlearn: 0.1099239\ttotal: 24m 31s\tremaining: 11m 23s\n",
            "683:\tlearn: 0.1098461\ttotal: 24m 34s\tremaining: 11m 21s\n",
            "684:\tlearn: 0.1098271\ttotal: 24m 36s\tremaining: 11m 18s\n",
            "685:\tlearn: 0.1097864\ttotal: 24m 38s\tremaining: 11m 16s\n",
            "686:\tlearn: 0.1097219\ttotal: 24m 40s\tremaining: 11m 14s\n",
            "687:\tlearn: 0.1096620\ttotal: 24m 42s\tremaining: 11m 12s\n",
            "688:\tlearn: 0.1096434\ttotal: 24m 44s\tremaining: 11m 10s\n",
            "689:\tlearn: 0.1096101\ttotal: 24m 46s\tremaining: 11m 7s\n",
            "690:\tlearn: 0.1095542\ttotal: 24m 48s\tremaining: 11m 5s\n",
            "691:\tlearn: 0.1095285\ttotal: 24m 50s\tremaining: 11m 3s\n",
            "692:\tlearn: 0.1094821\ttotal: 24m 52s\tremaining: 11m 1s\n",
            "693:\tlearn: 0.1094368\ttotal: 24m 54s\tremaining: 10m 59s\n",
            "694:\tlearn: 0.1094013\ttotal: 24m 57s\tremaining: 10m 56s\n",
            "695:\tlearn: 0.1093727\ttotal: 24m 59s\tremaining: 10m 54s\n",
            "696:\tlearn: 0.1093542\ttotal: 25m 1s\tremaining: 10m 52s\n",
            "697:\tlearn: 0.1093353\ttotal: 25m 3s\tremaining: 10m 50s\n",
            "698:\tlearn: 0.1093122\ttotal: 25m 5s\tremaining: 10m 48s\n",
            "699:\tlearn: 0.1092617\ttotal: 25m 7s\tremaining: 10m 45s\n",
            "700:\tlearn: 0.1092379\ttotal: 25m 9s\tremaining: 10m 43s\n",
            "701:\tlearn: 0.1091783\ttotal: 25m 11s\tremaining: 10m 41s\n",
            "702:\tlearn: 0.1091360\ttotal: 25m 13s\tremaining: 10m 39s\n",
            "703:\tlearn: 0.1090926\ttotal: 25m 15s\tremaining: 10m 37s\n",
            "704:\tlearn: 0.1090476\ttotal: 25m 17s\tremaining: 10m 35s\n",
            "705:\tlearn: 0.1090261\ttotal: 25m 19s\tremaining: 10m 32s\n",
            "706:\tlearn: 0.1089883\ttotal: 25m 21s\tremaining: 10m 30s\n",
            "707:\tlearn: 0.1089642\ttotal: 25m 23s\tremaining: 10m 28s\n",
            "708:\tlearn: 0.1089455\ttotal: 25m 25s\tremaining: 10m 26s\n",
            "709:\tlearn: 0.1089271\ttotal: 25m 27s\tremaining: 10m 24s\n",
            "710:\tlearn: 0.1088805\ttotal: 25m 29s\tremaining: 10m 21s\n",
            "711:\tlearn: 0.1088357\ttotal: 25m 32s\tremaining: 10m 19s\n",
            "712:\tlearn: 0.1088160\ttotal: 25m 34s\tremaining: 10m 17s\n",
            "713:\tlearn: 0.1087984\ttotal: 25m 36s\tremaining: 10m 15s\n",
            "714:\tlearn: 0.1087688\ttotal: 25m 38s\tremaining: 10m 13s\n",
            "715:\tlearn: 0.1087185\ttotal: 25m 40s\tremaining: 10m 10s\n",
            "716:\tlearn: 0.1086654\ttotal: 25m 42s\tremaining: 10m 8s\n",
            "717:\tlearn: 0.1086142\ttotal: 25m 44s\tremaining: 10m 6s\n",
            "718:\tlearn: 0.1085204\ttotal: 25m 46s\tremaining: 10m 4s\n",
            "719:\tlearn: 0.1084674\ttotal: 25m 48s\tremaining: 10m 2s\n",
            "720:\tlearn: 0.1084499\ttotal: 25m 50s\tremaining: 10m\n",
            "721:\tlearn: 0.1084060\ttotal: 25m 52s\tremaining: 9m 57s\n",
            "722:\tlearn: 0.1083810\ttotal: 25m 54s\tremaining: 9m 55s\n",
            "723:\tlearn: 0.1083643\ttotal: 25m 56s\tremaining: 9m 53s\n",
            "724:\tlearn: 0.1083453\ttotal: 25m 58s\tremaining: 9m 51s\n",
            "725:\tlearn: 0.1083269\ttotal: 26m\tremaining: 9m 49s\n",
            "726:\tlearn: 0.1082584\ttotal: 26m 3s\tremaining: 9m 46s\n",
            "727:\tlearn: 0.1082066\ttotal: 26m 5s\tremaining: 9m 44s\n",
            "728:\tlearn: 0.1081883\ttotal: 26m 7s\tremaining: 9m 42s\n",
            "729:\tlearn: 0.1081480\ttotal: 26m 9s\tremaining: 9m 40s\n",
            "730:\tlearn: 0.1081040\ttotal: 26m 11s\tremaining: 9m 38s\n",
            "731:\tlearn: 0.1080868\ttotal: 26m 13s\tremaining: 9m 36s\n",
            "732:\tlearn: 0.1080673\ttotal: 26m 15s\tremaining: 9m 33s\n",
            "733:\tlearn: 0.1080121\ttotal: 26m 17s\tremaining: 9m 31s\n",
            "734:\tlearn: 0.1079583\ttotal: 26m 19s\tremaining: 9m 29s\n",
            "735:\tlearn: 0.1079404\ttotal: 26m 21s\tremaining: 9m 27s\n",
            "736:\tlearn: 0.1079041\ttotal: 26m 23s\tremaining: 9m 25s\n",
            "737:\tlearn: 0.1078675\ttotal: 26m 25s\tremaining: 9m 22s\n",
            "738:\tlearn: 0.1078253\ttotal: 26m 27s\tremaining: 9m 20s\n",
            "739:\tlearn: 0.1078087\ttotal: 26m 29s\tremaining: 9m 18s\n",
            "740:\tlearn: 0.1077661\ttotal: 26m 31s\tremaining: 9m 16s\n",
            "741:\tlearn: 0.1077487\ttotal: 26m 33s\tremaining: 9m 14s\n",
            "742:\tlearn: 0.1076631\ttotal: 26m 36s\tremaining: 9m 12s\n",
            "743:\tlearn: 0.1076348\ttotal: 26m 38s\tremaining: 9m 9s\n",
            "744:\tlearn: 0.1075843\ttotal: 26m 40s\tremaining: 9m 7s\n",
            "745:\tlearn: 0.1075636\ttotal: 26m 42s\tremaining: 9m 5s\n",
            "746:\tlearn: 0.1074997\ttotal: 26m 44s\tremaining: 9m 3s\n",
            "747:\tlearn: 0.1074454\ttotal: 26m 46s\tremaining: 9m 1s\n",
            "748:\tlearn: 0.1073887\ttotal: 26m 48s\tremaining: 8m 59s\n",
            "749:\tlearn: 0.1073728\ttotal: 26m 50s\tremaining: 8m 56s\n",
            "750:\tlearn: 0.1073198\ttotal: 26m 52s\tremaining: 8m 54s\n",
            "751:\tlearn: 0.1073018\ttotal: 26m 54s\tremaining: 8m 52s\n",
            "752:\tlearn: 0.1072853\ttotal: 26m 56s\tremaining: 8m 50s\n",
            "753:\tlearn: 0.1072602\ttotal: 26m 58s\tremaining: 8m 48s\n",
            "754:\tlearn: 0.1072093\ttotal: 27m\tremaining: 8m 45s\n",
            "755:\tlearn: 0.1071918\ttotal: 27m 2s\tremaining: 8m 43s\n",
            "756:\tlearn: 0.1071346\ttotal: 27m 5s\tremaining: 8m 41s\n",
            "757:\tlearn: 0.1070976\ttotal: 27m 7s\tremaining: 8m 39s\n",
            "758:\tlearn: 0.1070449\ttotal: 27m 9s\tremaining: 8m 37s\n",
            "759:\tlearn: 0.1070149\ttotal: 27m 11s\tremaining: 8m 35s\n",
            "760:\tlearn: 0.1069908\ttotal: 27m 13s\tremaining: 8m 32s\n",
            "761:\tlearn: 0.1069560\ttotal: 27m 15s\tremaining: 8m 30s\n",
            "762:\tlearn: 0.1069397\ttotal: 27m 17s\tremaining: 8m 28s\n",
            "763:\tlearn: 0.1069095\ttotal: 27m 19s\tremaining: 8m 26s\n",
            "764:\tlearn: 0.1068388\ttotal: 27m 21s\tremaining: 8m 24s\n",
            "765:\tlearn: 0.1068218\ttotal: 27m 23s\tremaining: 8m 22s\n",
            "766:\tlearn: 0.1067864\ttotal: 27m 25s\tremaining: 8m 19s\n",
            "767:\tlearn: 0.1067694\ttotal: 27m 27s\tremaining: 8m 17s\n",
            "768:\tlearn: 0.1067057\ttotal: 27m 29s\tremaining: 8m 15s\n",
            "769:\tlearn: 0.1066252\ttotal: 27m 31s\tremaining: 8m 13s\n",
            "770:\tlearn: 0.1066091\ttotal: 27m 33s\tremaining: 8m 11s\n",
            "771:\tlearn: 0.1065928\ttotal: 27m 35s\tremaining: 8m 9s\n",
            "772:\tlearn: 0.1065424\ttotal: 27m 38s\tremaining: 8m 6s\n",
            "773:\tlearn: 0.1064848\ttotal: 27m 40s\tremaining: 8m 4s\n",
            "774:\tlearn: 0.1064607\ttotal: 27m 42s\tremaining: 8m 2s\n",
            "775:\tlearn: 0.1064195\ttotal: 27m 44s\tremaining: 8m\n",
            "776:\tlearn: 0.1063976\ttotal: 27m 46s\tremaining: 7m 58s\n",
            "777:\tlearn: 0.1063810\ttotal: 27m 48s\tremaining: 7m 56s\n",
            "778:\tlearn: 0.1063453\ttotal: 27m 50s\tremaining: 7m 53s\n",
            "779:\tlearn: 0.1062827\ttotal: 27m 52s\tremaining: 7m 51s\n",
            "780:\tlearn: 0.1062649\ttotal: 27m 54s\tremaining: 7m 49s\n",
            "781:\tlearn: 0.1062175\ttotal: 27m 56s\tremaining: 7m 47s\n",
            "782:\tlearn: 0.1062010\ttotal: 27m 58s\tremaining: 7m 45s\n",
            "783:\tlearn: 0.1061786\ttotal: 28m\tremaining: 7m 43s\n",
            "784:\tlearn: 0.1061143\ttotal: 28m 2s\tremaining: 7m 40s\n",
            "785:\tlearn: 0.1060974\ttotal: 28m 5s\tremaining: 7m 38s\n",
            "786:\tlearn: 0.1060728\ttotal: 28m 7s\tremaining: 7m 36s\n",
            "787:\tlearn: 0.1060327\ttotal: 28m 9s\tremaining: 7m 34s\n",
            "788:\tlearn: 0.1060154\ttotal: 28m 11s\tremaining: 7m 32s\n",
            "789:\tlearn: 0.1059621\ttotal: 28m 13s\tremaining: 7m 30s\n",
            "790:\tlearn: 0.1059384\ttotal: 28m 15s\tremaining: 7m 27s\n",
            "791:\tlearn: 0.1058693\ttotal: 28m 17s\tremaining: 7m 25s\n",
            "792:\tlearn: 0.1058352\ttotal: 28m 19s\tremaining: 7m 23s\n",
            "793:\tlearn: 0.1058193\ttotal: 28m 21s\tremaining: 7m 21s\n",
            "794:\tlearn: 0.1057601\ttotal: 28m 23s\tremaining: 7m 19s\n",
            "795:\tlearn: 0.1057415\ttotal: 28m 25s\tremaining: 7m 17s\n",
            "796:\tlearn: 0.1057195\ttotal: 28m 27s\tremaining: 7m 15s\n",
            "797:\tlearn: 0.1056931\ttotal: 28m 29s\tremaining: 7m 12s\n",
            "798:\tlearn: 0.1056694\ttotal: 28m 31s\tremaining: 7m 10s\n",
            "799:\tlearn: 0.1056164\ttotal: 28m 34s\tremaining: 7m 8s\n",
            "800:\tlearn: 0.1055923\ttotal: 28m 36s\tremaining: 7m 6s\n",
            "801:\tlearn: 0.1055360\ttotal: 28m 38s\tremaining: 7m 4s\n",
            "802:\tlearn: 0.1055057\ttotal: 28m 40s\tremaining: 7m 2s\n",
            "803:\tlearn: 0.1054888\ttotal: 28m 42s\tremaining: 6m 59s\n",
            "804:\tlearn: 0.1054698\ttotal: 28m 44s\tremaining: 6m 57s\n",
            "805:\tlearn: 0.1054535\ttotal: 28m 46s\tremaining: 6m 55s\n",
            "806:\tlearn: 0.1054052\ttotal: 28m 48s\tremaining: 6m 53s\n",
            "807:\tlearn: 0.1053885\ttotal: 28m 50s\tremaining: 6m 51s\n",
            "808:\tlearn: 0.1053597\ttotal: 28m 52s\tremaining: 6m 49s\n",
            "809:\tlearn: 0.1053117\ttotal: 28m 54s\tremaining: 6m 46s\n",
            "810:\tlearn: 0.1052097\ttotal: 28m 56s\tremaining: 6m 44s\n",
            "811:\tlearn: 0.1051751\ttotal: 28m 58s\tremaining: 6m 42s\n",
            "812:\tlearn: 0.1051253\ttotal: 29m\tremaining: 6m 40s\n",
            "813:\tlearn: 0.1050875\ttotal: 29m 2s\tremaining: 6m 38s\n",
            "814:\tlearn: 0.1050510\ttotal: 29m 5s\tremaining: 6m 36s\n",
            "815:\tlearn: 0.1049811\ttotal: 29m 7s\tremaining: 6m 33s\n",
            "816:\tlearn: 0.1049395\ttotal: 29m 9s\tremaining: 6m 31s\n",
            "817:\tlearn: 0.1049231\ttotal: 29m 11s\tremaining: 6m 29s\n",
            "818:\tlearn: 0.1048927\ttotal: 29m 13s\tremaining: 6m 27s\n",
            "819:\tlearn: 0.1048774\ttotal: 29m 15s\tremaining: 6m 25s\n",
            "820:\tlearn: 0.1048199\ttotal: 29m 17s\tremaining: 6m 23s\n",
            "821:\tlearn: 0.1048050\ttotal: 29m 19s\tremaining: 6m 21s\n",
            "822:\tlearn: 0.1047857\ttotal: 29m 21s\tremaining: 6m 18s\n",
            "823:\tlearn: 0.1047708\ttotal: 29m 23s\tremaining: 6m 16s\n",
            "824:\tlearn: 0.1047319\ttotal: 29m 25s\tremaining: 6m 14s\n",
            "825:\tlearn: 0.1047148\ttotal: 29m 27s\tremaining: 6m 12s\n",
            "826:\tlearn: 0.1046999\ttotal: 29m 29s\tremaining: 6m 10s\n",
            "827:\tlearn: 0.1046742\ttotal: 29m 31s\tremaining: 6m 8s\n",
            "828:\tlearn: 0.1046244\ttotal: 29m 33s\tremaining: 6m 5s\n",
            "829:\tlearn: 0.1045569\ttotal: 29m 36s\tremaining: 6m 3s\n",
            "830:\tlearn: 0.1045379\ttotal: 29m 38s\tremaining: 6m 1s\n",
            "831:\tlearn: 0.1044943\ttotal: 29m 40s\tremaining: 5m 59s\n",
            "832:\tlearn: 0.1044739\ttotal: 29m 42s\tremaining: 5m 57s\n",
            "833:\tlearn: 0.1044225\ttotal: 29m 44s\tremaining: 5m 55s\n",
            "834:\tlearn: 0.1043785\ttotal: 29m 46s\tremaining: 5m 53s\n",
            "835:\tlearn: 0.1043627\ttotal: 29m 48s\tremaining: 5m 50s\n",
            "836:\tlearn: 0.1043256\ttotal: 29m 50s\tremaining: 5m 48s\n",
            "837:\tlearn: 0.1042877\ttotal: 29m 52s\tremaining: 5m 46s\n",
            "838:\tlearn: 0.1042510\ttotal: 29m 54s\tremaining: 5m 44s\n",
            "839:\tlearn: 0.1042022\ttotal: 29m 56s\tremaining: 5m 42s\n",
            "840:\tlearn: 0.1041633\ttotal: 29m 59s\tremaining: 5m 40s\n",
            "841:\tlearn: 0.1041351\ttotal: 30m 1s\tremaining: 5m 37s\n",
            "842:\tlearn: 0.1040891\ttotal: 30m 3s\tremaining: 5m 35s\n",
            "843:\tlearn: 0.1040736\ttotal: 30m 5s\tremaining: 5m 33s\n",
            "844:\tlearn: 0.1039879\ttotal: 30m 7s\tremaining: 5m 31s\n",
            "845:\tlearn: 0.1039724\ttotal: 30m 9s\tremaining: 5m 29s\n",
            "846:\tlearn: 0.1039578\ttotal: 30m 11s\tremaining: 5m 27s\n",
            "847:\tlearn: 0.1039053\ttotal: 30m 13s\tremaining: 5m 25s\n",
            "848:\tlearn: 0.1038775\ttotal: 30m 15s\tremaining: 5m 22s\n",
            "849:\tlearn: 0.1038582\ttotal: 30m 17s\tremaining: 5m 20s\n",
            "850:\tlearn: 0.1038234\ttotal: 30m 19s\tremaining: 5m 18s\n",
            "851:\tlearn: 0.1038088\ttotal: 30m 21s\tremaining: 5m 16s\n",
            "852:\tlearn: 0.1037434\ttotal: 30m 23s\tremaining: 5m 14s\n",
            "853:\tlearn: 0.1037127\ttotal: 30m 25s\tremaining: 5m 12s\n",
            "854:\tlearn: 0.1036843\ttotal: 30m 27s\tremaining: 5m 9s\n",
            "855:\tlearn: 0.1036488\ttotal: 30m 30s\tremaining: 5m 7s\n",
            "856:\tlearn: 0.1036290\ttotal: 30m 32s\tremaining: 5m 5s\n",
            "857:\tlearn: 0.1035901\ttotal: 30m 34s\tremaining: 5m 3s\n",
            "858:\tlearn: 0.1035752\ttotal: 30m 36s\tremaining: 5m 1s\n",
            "859:\tlearn: 0.1035596\ttotal: 30m 38s\tremaining: 4m 59s\n",
            "860:\tlearn: 0.1035146\ttotal: 30m 40s\tremaining: 4m 57s\n",
            "861:\tlearn: 0.1034645\ttotal: 30m 42s\tremaining: 4m 54s\n",
            "862:\tlearn: 0.1034285\ttotal: 30m 44s\tremaining: 4m 52s\n",
            "863:\tlearn: 0.1033891\ttotal: 30m 46s\tremaining: 4m 50s\n",
            "864:\tlearn: 0.1032842\ttotal: 30m 48s\tremaining: 4m 48s\n",
            "865:\tlearn: 0.1032696\ttotal: 30m 50s\tremaining: 4m 46s\n",
            "866:\tlearn: 0.1032480\ttotal: 30m 52s\tremaining: 4m 44s\n",
            "867:\tlearn: 0.1032267\ttotal: 30m 54s\tremaining: 4m 42s\n",
            "868:\tlearn: 0.1031901\ttotal: 30m 56s\tremaining: 4m 39s\n",
            "869:\tlearn: 0.1031747\ttotal: 30m 58s\tremaining: 4m 37s\n",
            "870:\tlearn: 0.1031601\ttotal: 31m\tremaining: 4m 35s\n",
            "871:\tlearn: 0.1031435\ttotal: 31m 2s\tremaining: 4m 33s\n",
            "872:\tlearn: 0.1030989\ttotal: 31m 5s\tremaining: 4m 31s\n",
            "873:\tlearn: 0.1030834\ttotal: 31m 7s\tremaining: 4m 29s\n",
            "874:\tlearn: 0.1030692\ttotal: 31m 9s\tremaining: 4m 27s\n",
            "875:\tlearn: 0.1030438\ttotal: 31m 11s\tremaining: 4m 24s\n",
            "876:\tlearn: 0.1030065\ttotal: 31m 13s\tremaining: 4m 22s\n",
            "877:\tlearn: 0.1029747\ttotal: 31m 15s\tremaining: 4m 20s\n",
            "878:\tlearn: 0.1029377\ttotal: 31m 17s\tremaining: 4m 18s\n",
            "879:\tlearn: 0.1028905\ttotal: 31m 19s\tremaining: 4m 16s\n",
            "880:\tlearn: 0.1028723\ttotal: 31m 21s\tremaining: 4m 14s\n",
            "881:\tlearn: 0.1028355\ttotal: 31m 23s\tremaining: 4m 12s\n",
            "882:\tlearn: 0.1028101\ttotal: 31m 25s\tremaining: 4m 9s\n",
            "883:\tlearn: 0.1027737\ttotal: 31m 27s\tremaining: 4m 7s\n",
            "884:\tlearn: 0.1027311\ttotal: 31m 30s\tremaining: 4m 5s\n",
            "885:\tlearn: 0.1026955\ttotal: 31m 32s\tremaining: 4m 3s\n",
            "886:\tlearn: 0.1026817\ttotal: 31m 34s\tremaining: 4m 1s\n",
            "887:\tlearn: 0.1026660\ttotal: 31m 36s\tremaining: 3m 59s\n",
            "888:\tlearn: 0.1026431\ttotal: 31m 38s\tremaining: 3m 57s\n",
            "889:\tlearn: 0.1026294\ttotal: 31m 40s\tremaining: 3m 54s\n",
            "890:\tlearn: 0.1026148\ttotal: 31m 42s\tremaining: 3m 52s\n",
            "891:\tlearn: 0.1025767\ttotal: 31m 44s\tremaining: 3m 50s\n",
            "892:\tlearn: 0.1025565\ttotal: 31m 46s\tremaining: 3m 48s\n",
            "893:\tlearn: 0.1025118\ttotal: 31m 48s\tremaining: 3m 46s\n",
            "894:\tlearn: 0.1024974\ttotal: 31m 50s\tremaining: 3m 44s\n",
            "895:\tlearn: 0.1024560\ttotal: 31m 52s\tremaining: 3m 42s\n",
            "896:\tlearn: 0.1024418\ttotal: 31m 54s\tremaining: 3m 39s\n",
            "897:\tlearn: 0.1023900\ttotal: 31m 56s\tremaining: 3m 37s\n",
            "898:\tlearn: 0.1023716\ttotal: 31m 58s\tremaining: 3m 35s\n",
            "899:\tlearn: 0.1023204\ttotal: 32m 1s\tremaining: 3m 33s\n",
            "900:\tlearn: 0.1023072\ttotal: 32m 3s\tremaining: 3m 31s\n",
            "901:\tlearn: 0.1022777\ttotal: 32m 5s\tremaining: 3m 29s\n",
            "902:\tlearn: 0.1022534\ttotal: 32m 7s\tremaining: 3m 27s\n",
            "903:\tlearn: 0.1022388\ttotal: 32m 9s\tremaining: 3m 24s\n",
            "904:\tlearn: 0.1021958\ttotal: 32m 11s\tremaining: 3m 22s\n",
            "905:\tlearn: 0.1021814\ttotal: 32m 13s\tremaining: 3m 20s\n",
            "906:\tlearn: 0.1021554\ttotal: 32m 15s\tremaining: 3m 18s\n",
            "907:\tlearn: 0.1021374\ttotal: 32m 17s\tremaining: 3m 16s\n",
            "908:\tlearn: 0.1021066\ttotal: 32m 19s\tremaining: 3m 14s\n",
            "909:\tlearn: 0.1020928\ttotal: 32m 21s\tremaining: 3m 11s\n",
            "910:\tlearn: 0.1020450\ttotal: 32m 23s\tremaining: 3m 9s\n",
            "911:\tlearn: 0.1020269\ttotal: 32m 25s\tremaining: 3m 7s\n",
            "912:\tlearn: 0.1019870\ttotal: 32m 27s\tremaining: 3m 5s\n",
            "913:\tlearn: 0.1019740\ttotal: 32m 29s\tremaining: 3m 3s\n",
            "914:\tlearn: 0.1019284\ttotal: 32m 31s\tremaining: 3m 1s\n",
            "915:\tlearn: 0.1019082\ttotal: 32m 33s\tremaining: 2m 59s\n",
            "916:\tlearn: 0.1018560\ttotal: 32m 35s\tremaining: 2m 57s\n",
            "917:\tlearn: 0.1018403\ttotal: 32m 37s\tremaining: 2m 54s\n",
            "918:\tlearn: 0.1017940\ttotal: 32m 40s\tremaining: 2m 52s\n",
            "919:\tlearn: 0.1017808\ttotal: 32m 42s\tremaining: 2m 50s\n",
            "920:\tlearn: 0.1017220\ttotal: 32m 44s\tremaining: 2m 48s\n",
            "921:\tlearn: 0.1017025\ttotal: 32m 46s\tremaining: 2m 46s\n",
            "922:\tlearn: 0.1016625\ttotal: 32m 48s\tremaining: 2m 44s\n",
            "923:\tlearn: 0.1016406\ttotal: 32m 50s\tremaining: 2m 42s\n",
            "924:\tlearn: 0.1016207\ttotal: 32m 52s\tremaining: 2m 39s\n",
            "925:\tlearn: 0.1015782\ttotal: 32m 54s\tremaining: 2m 37s\n",
            "926:\tlearn: 0.1015555\ttotal: 32m 56s\tremaining: 2m 35s\n",
            "927:\tlearn: 0.1015430\ttotal: 32m 58s\tremaining: 2m 33s\n",
            "928:\tlearn: 0.1015037\ttotal: 33m\tremaining: 2m 31s\n",
            "929:\tlearn: 0.1014640\ttotal: 33m 2s\tremaining: 2m 29s\n",
            "930:\tlearn: 0.1014292\ttotal: 33m 5s\tremaining: 2m 27s\n",
            "931:\tlearn: 0.1013998\ttotal: 33m 7s\tremaining: 2m 24s\n",
            "932:\tlearn: 0.1013641\ttotal: 33m 9s\tremaining: 2m 22s\n",
            "933:\tlearn: 0.1012644\ttotal: 33m 11s\tremaining: 2m 20s\n",
            "934:\tlearn: 0.1012348\ttotal: 33m 13s\tremaining: 2m 18s\n",
            "935:\tlearn: 0.1012095\ttotal: 33m 15s\tremaining: 2m 16s\n",
            "936:\tlearn: 0.1011899\ttotal: 33m 17s\tremaining: 2m 14s\n",
            "937:\tlearn: 0.1011773\ttotal: 33m 19s\tremaining: 2m 12s\n",
            "938:\tlearn: 0.1011223\ttotal: 33m 21s\tremaining: 2m 10s\n",
            "939:\tlearn: 0.1011039\ttotal: 33m 23s\tremaining: 2m 7s\n",
            "940:\tlearn: 0.1010389\ttotal: 33m 26s\tremaining: 2m 5s\n",
            "941:\tlearn: 0.1010002\ttotal: 33m 28s\tremaining: 2m 3s\n",
            "942:\tlearn: 0.1009687\ttotal: 33m 30s\tremaining: 2m 1s\n",
            "943:\tlearn: 0.1009544\ttotal: 33m 32s\tremaining: 1m 59s\n",
            "944:\tlearn: 0.1009102\ttotal: 33m 34s\tremaining: 1m 57s\n",
            "945:\tlearn: 0.1008778\ttotal: 33m 36s\tremaining: 1m 55s\n",
            "946:\tlearn: 0.1008636\ttotal: 33m 38s\tremaining: 1m 52s\n",
            "947:\tlearn: 0.1008405\ttotal: 33m 40s\tremaining: 1m 50s\n",
            "948:\tlearn: 0.1008162\ttotal: 33m 42s\tremaining: 1m 48s\n",
            "949:\tlearn: 0.1007744\ttotal: 33m 45s\tremaining: 1m 46s\n",
            "950:\tlearn: 0.1007618\ttotal: 33m 47s\tremaining: 1m 44s\n",
            "951:\tlearn: 0.1007106\ttotal: 33m 49s\tremaining: 1m 42s\n",
            "952:\tlearn: 0.1006642\ttotal: 33m 51s\tremaining: 1m 40s\n",
            "953:\tlearn: 0.1006509\ttotal: 33m 53s\tremaining: 1m 38s\n",
            "954:\tlearn: 0.1006054\ttotal: 33m 55s\tremaining: 1m 35s\n",
            "955:\tlearn: 0.1005641\ttotal: 33m 57s\tremaining: 1m 33s\n",
            "956:\tlearn: 0.1004995\ttotal: 33m 59s\tremaining: 1m 31s\n",
            "957:\tlearn: 0.1004865\ttotal: 34m 1s\tremaining: 1m 29s\n",
            "958:\tlearn: 0.1004572\ttotal: 34m 3s\tremaining: 1m 27s\n",
            "959:\tlearn: 0.1004208\ttotal: 34m 6s\tremaining: 1m 25s\n",
            "960:\tlearn: 0.1003748\ttotal: 34m 8s\tremaining: 1m 23s\n",
            "961:\tlearn: 0.1003475\ttotal: 34m 10s\tremaining: 1m 20s\n",
            "962:\tlearn: 0.1003115\ttotal: 34m 12s\tremaining: 1m 18s\n",
            "963:\tlearn: 0.1002942\ttotal: 34m 14s\tremaining: 1m 16s\n",
            "964:\tlearn: 0.1002692\ttotal: 34m 16s\tremaining: 1m 14s\n",
            "965:\tlearn: 0.1002057\ttotal: 34m 18s\tremaining: 1m 12s\n",
            "966:\tlearn: 0.1001913\ttotal: 34m 20s\tremaining: 1m 10s\n",
            "967:\tlearn: 0.1001422\ttotal: 34m 22s\tremaining: 1m 8s\n",
            "968:\tlearn: 0.1001133\ttotal: 34m 24s\tremaining: 1m 6s\n",
            "969:\tlearn: 0.1001003\ttotal: 34m 27s\tremaining: 1m 3s\n",
            "970:\tlearn: 0.1000567\ttotal: 34m 29s\tremaining: 1m 1s\n",
            "971:\tlearn: 0.1000110\ttotal: 34m 31s\tremaining: 59.7s\n",
            "972:\tlearn: 0.0999974\ttotal: 34m 33s\tremaining: 57.5s\n",
            "973:\tlearn: 0.0999675\ttotal: 34m 35s\tremaining: 55.4s\n",
            "974:\tlearn: 0.0999550\ttotal: 34m 37s\tremaining: 53.3s\n",
            "975:\tlearn: 0.0999187\ttotal: 34m 39s\tremaining: 51.1s\n",
            "976:\tlearn: 0.0999017\ttotal: 34m 41s\tremaining: 49s\n",
            "977:\tlearn: 0.0998891\ttotal: 34m 43s\tremaining: 46.9s\n",
            "978:\tlearn: 0.0998759\ttotal: 34m 45s\tremaining: 44.7s\n",
            "979:\tlearn: 0.0998540\ttotal: 34m 47s\tremaining: 42.6s\n",
            "980:\tlearn: 0.0997879\ttotal: 34m 49s\tremaining: 40.5s\n",
            "981:\tlearn: 0.0997303\ttotal: 34m 52s\tremaining: 38.3s\n",
            "982:\tlearn: 0.0996732\ttotal: 34m 54s\tremaining: 36.2s\n",
            "983:\tlearn: 0.0996461\ttotal: 34m 56s\tremaining: 34.1s\n",
            "984:\tlearn: 0.0996095\ttotal: 34m 58s\tremaining: 32s\n",
            "985:\tlearn: 0.0995680\ttotal: 35m\tremaining: 29.8s\n",
            "986:\tlearn: 0.0995497\ttotal: 35m 2s\tremaining: 27.7s\n",
            "987:\tlearn: 0.0995370\ttotal: 35m 4s\tremaining: 25.6s\n",
            "988:\tlearn: 0.0994972\ttotal: 35m 6s\tremaining: 23.4s\n",
            "989:\tlearn: 0.0994655\ttotal: 35m 8s\tremaining: 21.3s\n",
            "990:\tlearn: 0.0994340\ttotal: 35m 10s\tremaining: 19.2s\n",
            "991:\tlearn: 0.0994212\ttotal: 35m 12s\tremaining: 17s\n",
            "992:\tlearn: 0.0993790\ttotal: 35m 15s\tremaining: 14.9s\n",
            "993:\tlearn: 0.0993656\ttotal: 35m 17s\tremaining: 12.8s\n",
            "994:\tlearn: 0.0993535\ttotal: 35m 19s\tremaining: 10.6s\n",
            "995:\tlearn: 0.0993412\ttotal: 35m 21s\tremaining: 8.52s\n",
            "996:\tlearn: 0.0993200\ttotal: 35m 23s\tremaining: 6.39s\n",
            "997:\tlearn: 0.0992983\ttotal: 35m 25s\tremaining: 4.26s\n",
            "998:\tlearn: 0.0992863\ttotal: 35m 27s\tremaining: 2.13s\n",
            "999:\tlearn: 0.0992389\ttotal: 35m 29s\tremaining: 0us\n",
            "Метрика F1: 0.7712746858168761\n"
          ]
        }
      ],
      "source": [
        "model = CatBoostClassifier(depth = 6, iterations= 1000, learning_rate= 0.1, random_state=0)\n",
        "\n",
        "# Обучение модели\n",
        "model.fit(features_train, target_train)\n",
        "\n",
        "# Предсказание на тестовом наборе\n",
        "y_pred = model.predict(features_test)\n",
        "\n",
        "# Расчет метрики F1\n",
        "f1 = f1_score(target_test, y_pred)\n",
        "\n",
        "print(f\"Метрика F1: {f1}\")"
      ]
    },
    {
      "cell_type": "markdown",
      "metadata": {
        "id": "eklWOC3_x2LL"
      },
      "source": [
        "**Вывод:**\n",
        "\n",
        "- Наилучший результат на тестовом датасете показала модель- CatBoostClassifier - 0.77\n",
        "- Основной прирост к метрике дала именно перебор гиперпарматров, в то время как использование различных подходов к векторизации, не показал значительных результатов в рамках данного датасета, однако это также могло быть связано с использванием не самых оптимальных алгоритмов векторизации, что определенно стоит изучить в будущем\n",
        "- Что интересно, из-за большого датасета, перебор гиперпараметров на полном датасете был слишком время затратен, в связи с чем, я проводил перебор гиперпараметров только на 5000 строках датасета, после чего проводил обучение лучшей модели на полном датасете и предсказание на тестовой выборке. Что позволило мне получить мне в итоге оптимальный необходимый по условиям задачи результат, с учетом ограниченных мощностей"
      ]
    }
  ],
  "metadata": {
    "ExecuteTimeLog": [
      {
        "duration": 53,
        "start_time": "2023-11-20T15:04:38.856Z"
      },
      {
        "duration": 449,
        "start_time": "2023-11-20T15:04:42.190Z"
      },
      {
        "duration": 78,
        "start_time": "2023-11-20T15:04:42.641Z"
      },
      {
        "duration": 2415,
        "start_time": "2023-11-20T15:05:28.945Z"
      },
      {
        "duration": 986,
        "start_time": "2023-11-20T15:06:30.402Z"
      },
      {
        "duration": 55,
        "start_time": "2023-11-21T08:39:14.781Z"
      },
      {
        "duration": 1551,
        "start_time": "2023-11-21T08:40:31.581Z"
      },
      {
        "duration": 3429,
        "start_time": "2023-11-21T08:40:33.134Z"
      },
      {
        "duration": 74,
        "start_time": "2023-11-21T08:40:36.565Z"
      },
      {
        "duration": 3,
        "start_time": "2023-11-21T08:40:48.465Z"
      },
      {
        "duration": 212313,
        "start_time": "2023-11-21T08:40:50.269Z"
      },
      {
        "duration": 49,
        "start_time": "2023-11-21T08:44:22.584Z"
      },
      {
        "duration": 12,
        "start_time": "2023-11-21T08:47:44.972Z"
      },
      {
        "duration": 3,
        "start_time": "2023-11-21T08:47:48.991Z"
      },
      {
        "duration": 16,
        "start_time": "2023-11-21T08:47:52.669Z"
      },
      {
        "duration": 16,
        "start_time": "2023-11-21T08:48:12.049Z"
      },
      {
        "duration": 23080,
        "start_time": "2023-11-21T08:52:29.903Z"
      },
      {
        "duration": 0,
        "start_time": "2023-11-21T08:52:52.986Z"
      },
      {
        "duration": 18,
        "start_time": "2023-11-21T08:55:17.028Z"
      },
      {
        "duration": 17193,
        "start_time": "2023-11-21T08:55:22.088Z"
      },
      {
        "duration": 0,
        "start_time": "2023-11-21T08:55:39.283Z"
      },
      {
        "duration": 0,
        "start_time": "2023-11-21T08:55:39.284Z"
      },
      {
        "duration": 15733,
        "start_time": "2023-11-21T08:56:46.039Z"
      },
      {
        "duration": 21,
        "start_time": "2023-11-21T10:53:15.710Z"
      },
      {
        "duration": 16179,
        "start_time": "2023-11-21T12:51:28.235Z"
      },
      {
        "duration": 0,
        "start_time": "2023-11-21T12:51:44.416Z"
      },
      {
        "duration": 0,
        "start_time": "2023-11-21T12:51:44.417Z"
      },
      {
        "duration": 0,
        "start_time": "2023-11-21T12:51:44.418Z"
      },
      {
        "duration": 941,
        "start_time": "2023-11-21T14:18:45.771Z"
      },
      {
        "duration": 856,
        "start_time": "2023-11-21T14:19:08.393Z"
      },
      {
        "duration": 53,
        "start_time": "2023-11-21T14:19:21.689Z"
      },
      {
        "duration": 2036,
        "start_time": "2023-11-21T14:20:30.548Z"
      },
      {
        "duration": 19,
        "start_time": "2023-11-21T14:22:11.322Z"
      },
      {
        "duration": 16612,
        "start_time": "2023-11-21T14:23:15.434Z"
      },
      {
        "duration": 17460,
        "start_time": "2023-11-21T14:34:14.553Z"
      },
      {
        "duration": 1294,
        "start_time": "2023-11-21T14:43:41.854Z"
      },
      {
        "duration": 982,
        "start_time": "2023-11-21T14:43:43.330Z"
      },
      {
        "duration": 213623,
        "start_time": "2023-11-21T14:47:15.899Z"
      },
      {
        "duration": 27,
        "start_time": "2023-11-21T14:50:49.524Z"
      },
      {
        "duration": 23,
        "start_time": "2023-11-21T14:53:42.092Z"
      },
      {
        "duration": 660,
        "start_time": "2023-11-21T14:56:23.854Z"
      },
      {
        "duration": 9,
        "start_time": "2023-11-21T14:56:28.558Z"
      },
      {
        "duration": 845,
        "start_time": "2023-11-21T14:58:57.315Z"
      },
      {
        "duration": 10,
        "start_time": "2023-11-21T14:59:52.212Z"
      },
      {
        "duration": 190376,
        "start_time": "2023-11-21T15:00:08.436Z"
      },
      {
        "duration": 29,
        "start_time": "2023-11-21T15:03:18.815Z"
      },
      {
        "duration": 856,
        "start_time": "2023-11-21T15:05:16.179Z"
      },
      {
        "duration": 212941,
        "start_time": "2023-11-21T15:05:17.037Z"
      },
      {
        "duration": 30,
        "start_time": "2023-11-21T15:08:49.980Z"
      },
      {
        "duration": 72179,
        "start_time": "2023-11-21T15:08:50.012Z"
      },
      {
        "duration": 20,
        "start_time": "2023-11-21T15:10:02.193Z"
      },
      {
        "duration": 1409,
        "start_time": "2023-11-22T07:59:55.285Z"
      },
      {
        "duration": 3288,
        "start_time": "2023-11-22T07:59:56.696Z"
      },
      {
        "duration": 739,
        "start_time": "2023-11-22T07:59:59.986Z"
      },
      {
        "duration": 73834,
        "start_time": "2023-11-22T08:00:06.301Z"
      },
      {
        "duration": 37,
        "start_time": "2023-11-22T08:01:20.136Z"
      },
      {
        "duration": 30,
        "start_time": "2023-11-22T08:14:52.000Z"
      },
      {
        "duration": 768,
        "start_time": "2023-11-22T08:28:44.523Z"
      },
      {
        "duration": 121,
        "start_time": "2023-11-22T08:29:07.857Z"
      },
      {
        "duration": 22,
        "start_time": "2023-11-22T09:09:56.564Z"
      },
      {
        "duration": 3,
        "start_time": "2023-11-22T09:10:31.168Z"
      },
      {
        "duration": 45,
        "start_time": "2023-11-22T09:10:36.828Z"
      },
      {
        "duration": 44,
        "start_time": "2023-11-22T09:10:54.752Z"
      },
      {
        "duration": 13,
        "start_time": "2023-11-22T09:11:32.056Z"
      },
      {
        "duration": 11,
        "start_time": "2023-11-22T09:11:43.432Z"
      },
      {
        "duration": 10,
        "start_time": "2023-11-22T09:12:03.532Z"
      },
      {
        "duration": 3,
        "start_time": "2023-11-22T09:12:08.932Z"
      },
      {
        "duration": 92,
        "start_time": "2023-11-22T09:12:14.924Z"
      },
      {
        "duration": 19,
        "start_time": "2023-11-22T11:17:01.489Z"
      },
      {
        "duration": 24,
        "start_time": "2023-11-22T11:17:19.364Z"
      },
      {
        "duration": 3,
        "start_time": "2023-11-22T11:17:20.001Z"
      },
      {
        "duration": 5,
        "start_time": "2023-11-22T11:17:25.036Z"
      },
      {
        "duration": 5,
        "start_time": "2023-11-22T11:17:28.728Z"
      },
      {
        "duration": 4,
        "start_time": "2023-11-22T11:17:32.060Z"
      },
      {
        "duration": 92,
        "start_time": "2023-11-22T11:17:39.368Z"
      },
      {
        "duration": 3305,
        "start_time": "2023-11-22T11:18:29.360Z"
      },
      {
        "duration": 4069,
        "start_time": "2023-11-22T11:19:06.460Z"
      },
      {
        "duration": 95093,
        "start_time": "2023-11-22T11:19:18.692Z"
      },
      {
        "duration": 0,
        "start_time": "2023-11-22T11:20:53.786Z"
      },
      {
        "duration": 0,
        "start_time": "2023-11-22T11:20:53.788Z"
      },
      {
        "duration": 0,
        "start_time": "2023-11-22T11:20:53.789Z"
      },
      {
        "duration": 26,
        "start_time": "2023-11-22T11:20:55.342Z"
      },
      {
        "duration": 3784,
        "start_time": "2023-11-22T11:20:56.039Z"
      },
      {
        "duration": 1533,
        "start_time": "2023-11-22T11:34:47.472Z"
      },
      {
        "duration": 978,
        "start_time": "2023-11-22T11:34:49.007Z"
      },
      {
        "duration": 77223,
        "start_time": "2023-11-22T11:34:49.987Z"
      },
      {
        "duration": 37,
        "start_time": "2023-11-22T11:36:07.212Z"
      },
      {
        "duration": 30,
        "start_time": "2023-11-22T11:36:07.251Z"
      },
      {
        "duration": 31,
        "start_time": "2023-11-22T11:36:07.282Z"
      },
      {
        "duration": 3787,
        "start_time": "2023-11-22T11:36:07.314Z"
      },
      {
        "duration": 5,
        "start_time": "2023-11-22T11:36:11.103Z"
      },
      {
        "duration": 5,
        "start_time": "2023-11-22T11:49:39.394Z"
      },
      {
        "duration": 884567,
        "start_time": "2023-11-22T11:49:45.225Z"
      },
      {
        "duration": 1330,
        "start_time": "2023-11-22T13:36:46.293Z"
      },
      {
        "duration": 871,
        "start_time": "2023-11-22T13:36:47.625Z"
      },
      {
        "duration": 72927,
        "start_time": "2023-11-22T13:36:48.497Z"
      },
      {
        "duration": 61,
        "start_time": "2023-11-22T13:38:01.428Z"
      },
      {
        "duration": 44,
        "start_time": "2023-11-22T13:38:01.490Z"
      },
      {
        "duration": 363,
        "start_time": "2023-11-22T13:38:01.536Z"
      },
      {
        "duration": 26,
        "start_time": "2023-11-22T13:38:01.900Z"
      },
      {
        "duration": 3526,
        "start_time": "2023-11-22T13:38:01.927Z"
      },
      {
        "duration": 4,
        "start_time": "2023-11-22T13:38:05.454Z"
      },
      {
        "duration": 14,
        "start_time": "2023-11-22T13:38:05.459Z"
      },
      {
        "duration": 11,
        "start_time": "2023-11-22T13:38:05.474Z"
      },
      {
        "duration": 611192,
        "start_time": "2023-11-22T13:38:05.487Z"
      },
      {
        "duration": 16624398,
        "start_time": "2023-11-22T13:48:16.682Z"
      },
      {
        "duration": 46858089,
        "start_time": "2023-11-22T18:25:21.082Z"
      },
      {
        "duration": 0,
        "start_time": "2023-11-23T07:26:19.173Z"
      },
      {
        "duration": 0,
        "start_time": "2023-11-23T07:26:19.175Z"
      },
      {
        "duration": 0,
        "start_time": "2023-11-23T07:26:19.176Z"
      },
      {
        "duration": 109,
        "start_time": "2023-11-23T07:26:41.206Z"
      },
      {
        "duration": 29,
        "start_time": "2023-11-23T07:26:50.734Z"
      },
      {
        "duration": 59719,
        "start_time": "2023-11-23T07:27:53.871Z"
      },
      {
        "duration": 4,
        "start_time": "2023-11-23T07:29:29.280Z"
      },
      {
        "duration": 13,
        "start_time": "2023-11-23T07:30:42.667Z"
      },
      {
        "duration": 25,
        "start_time": "2023-11-23T07:30:45.223Z"
      },
      {
        "duration": 62292,
        "start_time": "2023-11-23T07:30:45.607Z"
      },
      {
        "duration": 11950,
        "start_time": "2023-11-23T07:31:47.901Z"
      },
      {
        "duration": 5,
        "start_time": "2023-11-23T07:33:55.410Z"
      },
      {
        "duration": 6,
        "start_time": "2023-11-23T07:34:01.786Z"
      },
      {
        "duration": 18,
        "start_time": "2023-11-23T07:34:06.861Z"
      },
      {
        "duration": 26,
        "start_time": "2023-11-23T07:34:15.914Z"
      },
      {
        "duration": 5,
        "start_time": "2023-11-23T07:34:16.490Z"
      },
      {
        "duration": 61866,
        "start_time": "2023-11-23T07:34:16.918Z"
      },
      {
        "duration": 14886,
        "start_time": "2023-11-23T07:35:18.786Z"
      },
      {
        "duration": 4,
        "start_time": "2023-11-23T09:33:12.207Z"
      },
      {
        "duration": 15,
        "start_time": "2023-11-23T09:33:14.571Z"
      },
      {
        "duration": 4,
        "start_time": "2023-11-23T09:33:46.293Z"
      },
      {
        "duration": 14,
        "start_time": "2023-11-23T09:34:19.580Z"
      },
      {
        "duration": 19,
        "start_time": "2023-11-23T09:34:20.040Z"
      },
      {
        "duration": 25,
        "start_time": "2023-11-23T09:34:22.907Z"
      },
      {
        "duration": 5,
        "start_time": "2023-11-23T09:34:23.216Z"
      },
      {
        "duration": 55891,
        "start_time": "2023-11-23T09:34:23.599Z"
      },
      {
        "duration": 15005,
        "start_time": "2023-11-23T09:35:19.491Z"
      },
      {
        "duration": 27,
        "start_time": "2023-11-23T09:35:34.498Z"
      },
      {
        "duration": 0,
        "start_time": "2023-11-23T09:35:34.526Z"
      },
      {
        "duration": 0,
        "start_time": "2023-11-23T09:35:34.527Z"
      },
      {
        "duration": 0,
        "start_time": "2023-11-23T09:35:34.528Z"
      },
      {
        "duration": 0,
        "start_time": "2023-11-23T09:35:34.529Z"
      },
      {
        "duration": 26,
        "start_time": "2023-11-23T09:36:19.290Z"
      },
      {
        "duration": 6,
        "start_time": "2023-11-23T09:36:19.642Z"
      },
      {
        "duration": 56802,
        "start_time": "2023-11-23T09:36:25.881Z"
      },
      {
        "duration": 13992,
        "start_time": "2023-11-23T09:37:22.685Z"
      },
      {
        "duration": 4,
        "start_time": "2023-11-23T09:37:36.679Z"
      },
      {
        "duration": 25,
        "start_time": "2023-11-23T09:37:36.685Z"
      },
      {
        "duration": 33,
        "start_time": "2023-11-23T09:37:36.711Z"
      },
      {
        "duration": 158833,
        "start_time": "2023-11-23T09:37:36.745Z"
      },
      {
        "duration": 4750244,
        "start_time": "2023-11-23T10:27:27.344Z"
      },
      {
        "duration": 7208980,
        "start_time": "2023-11-23T11:46:37.590Z"
      },
      {
        "duration": 987690,
        "start_time": "2023-11-23T14:04:24.455Z"
      },
      {
        "duration": 0,
        "start_time": "2023-11-23T14:20:52.146Z"
      },
      {
        "duration": 4,
        "start_time": "2023-11-23T14:20:57.225Z"
      },
      {
        "duration": 770,
        "start_time": "2023-11-23T14:20:57.418Z"
      },
      {
        "duration": 11,
        "start_time": "2023-11-23T14:20:58.190Z"
      },
      {
        "duration": 921,
        "start_time": "2023-11-23T14:21:10.437Z"
      },
      {
        "duration": 75246,
        "start_time": "2023-11-23T14:21:18.909Z"
      },
      {
        "duration": 19,
        "start_time": "2023-11-23T14:22:34.157Z"
      },
      {
        "duration": 29,
        "start_time": "2023-11-23T14:22:34.177Z"
      },
      {
        "duration": 131,
        "start_time": "2023-11-23T14:22:34.207Z"
      },
      {
        "duration": 33,
        "start_time": "2023-11-23T14:22:34.339Z"
      },
      {
        "duration": 5,
        "start_time": "2023-11-23T14:22:34.374Z"
      },
      {
        "duration": 25201,
        "start_time": "2023-11-23T14:22:34.381Z"
      },
      {
        "duration": 0,
        "start_time": "2023-11-23T14:22:59.593Z"
      },
      {
        "duration": 27,
        "start_time": "2023-11-23T14:23:00.835Z"
      },
      {
        "duration": 3995,
        "start_time": "2023-11-23T14:23:16.703Z"
      },
      {
        "duration": 4,
        "start_time": "2023-11-23T14:24:26.595Z"
      },
      {
        "duration": 139120,
        "start_time": "2023-11-23T14:24:27.191Z"
      },
      {
        "duration": 0,
        "start_time": "2023-11-23T14:26:46.314Z"
      },
      {
        "duration": 0,
        "start_time": "2023-11-23T14:26:46.316Z"
      },
      {
        "duration": 0,
        "start_time": "2023-11-23T14:26:46.317Z"
      },
      {
        "duration": 13,
        "start_time": "2023-11-23T14:26:54.666Z"
      },
      {
        "duration": 2229,
        "start_time": "2023-11-23T14:26:55.525Z"
      },
      {
        "duration": 14,
        "start_time": "2023-11-23T14:27:08.204Z"
      },
      {
        "duration": 13,
        "start_time": "2023-11-23T14:27:28.617Z"
      },
      {
        "duration": 102,
        "start_time": "2023-11-23T14:27:28.828Z"
      },
      {
        "duration": 84,
        "start_time": "2023-11-23T14:27:35.456Z"
      },
      {
        "duration": 7,
        "start_time": "2023-11-23T14:29:35.696Z"
      },
      {
        "duration": 147,
        "start_time": "2023-11-23T14:29:43.963Z"
      },
      {
        "duration": 3,
        "start_time": "2023-11-23T14:29:49.072Z"
      },
      {
        "duration": 31468,
        "start_time": "2023-11-23T14:29:49.505Z"
      },
      {
        "duration": 83618,
        "start_time": "2023-11-23T14:30:20.976Z"
      },
      {
        "duration": 1338,
        "start_time": "2023-11-27T07:38:06.791Z"
      },
      {
        "duration": 2383,
        "start_time": "2023-11-27T07:38:08.131Z"
      },
      {
        "duration": 16,
        "start_time": "2023-11-27T07:38:10.516Z"
      },
      {
        "duration": 3361,
        "start_time": "2023-11-27T07:38:10.534Z"
      },
      {
        "duration": 34,
        "start_time": "2023-11-27T07:38:13.897Z"
      },
      {
        "duration": 46,
        "start_time": "2023-11-27T07:38:13.933Z"
      },
      {
        "duration": 500,
        "start_time": "2023-11-27T07:38:21.217Z"
      },
      {
        "duration": 8,
        "start_time": "2023-11-27T07:38:22.601Z"
      },
      {
        "duration": 129,
        "start_time": "2023-11-27T07:38:37.041Z"
      },
      {
        "duration": 8,
        "start_time": "2023-11-27T07:38:58.964Z"
      },
      {
        "duration": 278,
        "start_time": "2023-11-27T07:38:59.400Z"
      },
      {
        "duration": 5,
        "start_time": "2023-11-27T07:39:10.345Z"
      },
      {
        "duration": 5,
        "start_time": "2023-11-27T07:39:26.036Z"
      },
      {
        "duration": 5,
        "start_time": "2023-11-27T07:39:29.669Z"
      },
      {
        "duration": 6,
        "start_time": "2023-11-27T07:39:35.316Z"
      },
      {
        "duration": 5,
        "start_time": "2023-11-27T07:39:35.605Z"
      },
      {
        "duration": 189,
        "start_time": "2023-11-27T07:39:35.837Z"
      },
      {
        "duration": 3,
        "start_time": "2023-11-27T07:40:05.596Z"
      },
      {
        "duration": 14,
        "start_time": "2023-11-27T07:40:06.856Z"
      },
      {
        "duration": 7,
        "start_time": "2023-11-27T07:40:27.036Z"
      },
      {
        "duration": 5,
        "start_time": "2023-11-27T07:40:27.437Z"
      },
      {
        "duration": 149,
        "start_time": "2023-11-27T07:40:29.199Z"
      },
      {
        "duration": 4,
        "start_time": "2023-11-27T07:40:35.475Z"
      },
      {
        "duration": 5,
        "start_time": "2023-11-27T07:40:45.968Z"
      },
      {
        "duration": 6,
        "start_time": "2023-11-27T07:40:59.663Z"
      },
      {
        "duration": 4,
        "start_time": "2023-11-27T07:41:00.115Z"
      },
      {
        "duration": 156,
        "start_time": "2023-11-27T07:41:00.675Z"
      },
      {
        "duration": 3,
        "start_time": "2023-11-27T07:41:01.204Z"
      },
      {
        "duration": 3,
        "start_time": "2023-11-27T07:41:09.116Z"
      },
      {
        "duration": 9,
        "start_time": "2023-11-27T07:41:42.467Z"
      },
      {
        "duration": 5,
        "start_time": "2023-11-27T07:41:42.478Z"
      },
      {
        "duration": 225,
        "start_time": "2023-11-27T07:41:42.485Z"
      },
      {
        "duration": 4,
        "start_time": "2023-11-27T07:41:42.711Z"
      },
      {
        "duration": 5,
        "start_time": "2023-11-27T07:41:42.716Z"
      },
      {
        "duration": 29752,
        "start_time": "2023-11-27T07:41:42.722Z"
      },
      {
        "duration": 86670,
        "start_time": "2023-11-27T08:59:30.481Z"
      },
      {
        "duration": 2714379,
        "start_time": "2023-11-27T09:00:57.154Z"
      },
      {
        "duration": 0,
        "start_time": "2023-11-27T09:46:11.536Z"
      },
      {
        "duration": 319350,
        "start_time": "2023-11-27T09:46:24.683Z"
      },
      {
        "duration": 54,
        "start_time": "2023-11-27T09:52:20.789Z"
      },
      {
        "duration": 5,
        "start_time": "2023-11-27T09:52:46.603Z"
      },
      {
        "duration": 4,
        "start_time": "2023-11-27T09:52:51.956Z"
      },
      {
        "duration": 40,
        "start_time": "2023-11-27T09:53:02.600Z"
      },
      {
        "duration": 24838,
        "start_time": "2023-11-27T09:53:05.956Z"
      },
      {
        "duration": 133,
        "start_time": "2023-11-27T09:53:54.563Z"
      },
      {
        "duration": 1372204,
        "start_time": "2023-11-27T09:54:12.898Z"
      },
      {
        "duration": 0,
        "start_time": "2023-11-27T10:17:05.166Z"
      },
      {
        "duration": 192,
        "start_time": "2023-11-27T10:17:09.477Z"
      },
      {
        "duration": 182,
        "start_time": "2023-11-27T10:17:25.626Z"
      },
      {
        "duration": 5,
        "start_time": "2023-11-27T10:27:23.316Z"
      },
      {
        "duration": 950,
        "start_time": "2023-11-27T10:27:23.805Z"
      },
      {
        "duration": 873,
        "start_time": "2023-11-27T10:28:41.670Z"
      },
      {
        "duration": 3,
        "start_time": "2023-11-27T10:28:42.545Z"
      },
      {
        "duration": 78202,
        "start_time": "2023-11-27T10:28:43.896Z"
      },
      {
        "duration": 18,
        "start_time": "2023-11-27T10:30:02.100Z"
      },
      {
        "duration": 114,
        "start_time": "2023-11-27T10:30:02.121Z"
      },
      {
        "duration": 192,
        "start_time": "2023-11-27T10:30:02.237Z"
      },
      {
        "duration": 73,
        "start_time": "2023-11-27T10:30:02.431Z"
      },
      {
        "duration": 42,
        "start_time": "2023-11-27T10:30:02.506Z"
      },
      {
        "duration": 5000,
        "start_time": "2023-11-27T10:30:02.551Z"
      },
      {
        "duration": 11,
        "start_time": "2023-11-27T10:30:07.554Z"
      },
      {
        "duration": 158221,
        "start_time": "2023-11-27T10:32:27.935Z"
      },
      {
        "duration": 905455,
        "start_time": "2023-11-27T10:36:12.174Z"
      },
      {
        "duration": 0,
        "start_time": "2023-11-27T10:51:17.631Z"
      },
      {
        "duration": 0,
        "start_time": "2023-11-27T10:51:17.636Z"
      },
      {
        "duration": 618067,
        "start_time": "2023-11-27T10:58:06.106Z"
      },
      {
        "duration": 21,
        "start_time": "2023-11-27T11:08:24.179Z"
      },
      {
        "duration": 0,
        "start_time": "2023-11-27T13:01:56.494Z"
      },
      {
        "duration": 152,
        "start_time": "2023-11-27T13:25:52.459Z"
      },
      {
        "duration": 341255,
        "start_time": "2023-11-27T13:26:01.555Z"
      },
      {
        "duration": 3417209,
        "start_time": "2023-11-27T13:33:20.923Z"
      },
      {
        "duration": 36256,
        "start_time": "2023-11-27T14:37:18.115Z"
      },
      {
        "duration": 1411,
        "start_time": "2023-11-27T14:42:29.891Z"
      },
      {
        "duration": 2422,
        "start_time": "2023-11-27T14:42:31.304Z"
      },
      {
        "duration": 2,
        "start_time": "2023-11-27T14:42:33.728Z"
      },
      {
        "duration": 18,
        "start_time": "2023-11-27T14:42:33.733Z"
      },
      {
        "duration": 3395,
        "start_time": "2023-11-27T14:42:33.752Z"
      },
      {
        "duration": 50,
        "start_time": "2023-11-27T14:42:37.149Z"
      },
      {
        "duration": 14,
        "start_time": "2023-11-27T14:42:37.200Z"
      },
      {
        "duration": 323,
        "start_time": "2023-11-27T14:42:37.216Z"
      },
      {
        "duration": 6,
        "start_time": "2023-11-27T14:42:37.540Z"
      },
      {
        "duration": 5,
        "start_time": "2023-11-27T14:42:43.514Z"
      },
      {
        "duration": 161,
        "start_time": "2023-11-27T14:42:44.254Z"
      },
      {
        "duration": 4,
        "start_time": "2023-11-27T14:42:46.883Z"
      },
      {
        "duration": 4,
        "start_time": "2023-11-27T14:43:37.806Z"
      },
      {
        "duration": 842,
        "start_time": "2023-11-27T14:43:38.013Z"
      },
      {
        "duration": 2244,
        "start_time": "2023-11-27T14:43:38.887Z"
      },
      {
        "duration": 4,
        "start_time": "2023-11-27T14:43:43.551Z"
      },
      {
        "duration": 818,
        "start_time": "2023-11-27T14:43:44.070Z"
      },
      {
        "duration": 2306,
        "start_time": "2023-11-27T14:43:45.366Z"
      },
      {
        "duration": 25,
        "start_time": "2023-11-27T14:43:47.675Z"
      },
      {
        "duration": 154,
        "start_time": "2023-11-27T14:43:47.702Z"
      },
      {
        "duration": 0,
        "start_time": "2023-11-27T14:43:47.858Z"
      },
      {
        "duration": 0,
        "start_time": "2023-11-27T14:43:47.866Z"
      },
      {
        "duration": 4,
        "start_time": "2023-11-27T14:43:48.622Z"
      },
      {
        "duration": 19,
        "start_time": "2023-11-27T14:43:49.911Z"
      },
      {
        "duration": 4,
        "start_time": "2023-11-27T14:44:00.158Z"
      },
      {
        "duration": 826,
        "start_time": "2023-11-27T14:44:00.625Z"
      },
      {
        "duration": 47122,
        "start_time": "2023-11-27T14:44:08.959Z"
      },
      {
        "duration": 0,
        "start_time": "2023-11-27T14:44:56.083Z"
      },
      {
        "duration": 0,
        "start_time": "2023-11-27T14:44:56.084Z"
      },
      {
        "duration": 0,
        "start_time": "2023-11-27T14:44:56.085Z"
      },
      {
        "duration": 0,
        "start_time": "2023-11-27T14:44:56.087Z"
      },
      {
        "duration": 0,
        "start_time": "2023-11-27T14:44:56.088Z"
      },
      {
        "duration": 0,
        "start_time": "2023-11-27T14:44:56.090Z"
      },
      {
        "duration": 8,
        "start_time": "2023-11-27T14:44:57.170Z"
      },
      {
        "duration": 864,
        "start_time": "2023-11-27T14:44:58.130Z"
      },
      {
        "duration": 78723,
        "start_time": "2023-11-27T14:45:01.215Z"
      },
      {
        "duration": 16,
        "start_time": "2023-11-27T14:46:19.940Z"
      },
      {
        "duration": 40,
        "start_time": "2023-11-27T14:46:19.965Z"
      },
      {
        "duration": 152,
        "start_time": "2023-11-27T14:46:20.008Z"
      },
      {
        "duration": 20,
        "start_time": "2023-11-27T14:46:20.165Z"
      },
      {
        "duration": 0,
        "start_time": "2023-11-27T14:46:20.187Z"
      },
      {
        "duration": 0,
        "start_time": "2023-11-27T14:46:20.187Z"
      },
      {
        "duration": 0,
        "start_time": "2023-11-27T14:46:20.189Z"
      },
      {
        "duration": 60,
        "start_time": "2023-11-27T14:48:28.496Z"
      },
      {
        "duration": 68,
        "start_time": "2023-11-27T14:48:42.868Z"
      },
      {
        "duration": 77,
        "start_time": "2023-11-27T14:49:31.276Z"
      },
      {
        "duration": 85,
        "start_time": "2023-11-27T14:49:49.235Z"
      },
      {
        "duration": 5,
        "start_time": "2023-11-27T14:49:54.723Z"
      },
      {
        "duration": 6,
        "start_time": "2023-11-27T14:50:01.004Z"
      },
      {
        "duration": 87,
        "start_time": "2023-11-27T14:50:09.195Z"
      },
      {
        "duration": 6,
        "start_time": "2023-11-27T14:50:09.486Z"
      },
      {
        "duration": 3282,
        "start_time": "2023-11-27T14:50:09.831Z"
      },
      {
        "duration": 4,
        "start_time": "2023-11-27T14:50:13.115Z"
      },
      {
        "duration": 4,
        "start_time": "2023-11-27T14:50:16.826Z"
      },
      {
        "duration": 1434,
        "start_time": "2023-11-27T14:56:14.656Z"
      },
      {
        "duration": 928,
        "start_time": "2023-11-27T14:56:16.091Z"
      },
      {
        "duration": 75602,
        "start_time": "2023-11-27T14:56:17.021Z"
      },
      {
        "duration": 78,
        "start_time": "2023-11-27T14:57:32.625Z"
      },
      {
        "duration": 32,
        "start_time": "2023-11-27T14:57:32.705Z"
      },
      {
        "duration": 341,
        "start_time": "2023-11-27T14:57:32.738Z"
      },
      {
        "duration": 84,
        "start_time": "2023-11-27T14:57:33.081Z"
      },
      {
        "duration": 5,
        "start_time": "2023-11-27T14:57:33.167Z"
      },
      {
        "duration": 3206,
        "start_time": "2023-11-27T14:57:33.173Z"
      },
      {
        "duration": 4,
        "start_time": "2023-11-27T14:57:36.381Z"
      },
      {
        "duration": 13,
        "start_time": "2023-11-27T14:57:36.388Z"
      },
      {
        "duration": 1494,
        "start_time": "2023-11-27T14:59:35.405Z"
      },
      {
        "duration": 904,
        "start_time": "2023-11-27T14:59:36.901Z"
      },
      {
        "duration": 74864,
        "start_time": "2023-11-27T14:59:37.807Z"
      },
      {
        "duration": 46,
        "start_time": "2023-11-27T15:00:52.673Z"
      },
      {
        "duration": 32,
        "start_time": "2023-11-27T15:00:52.720Z"
      },
      {
        "duration": 365,
        "start_time": "2023-11-27T15:00:52.753Z"
      },
      {
        "duration": 95,
        "start_time": "2023-11-27T15:00:53.120Z"
      },
      {
        "duration": 6,
        "start_time": "2023-11-27T15:00:53.217Z"
      },
      {
        "duration": 3156,
        "start_time": "2023-11-27T15:00:53.225Z"
      },
      {
        "duration": 4,
        "start_time": "2023-11-27T15:00:56.383Z"
      },
      {
        "duration": 5,
        "start_time": "2023-11-27T15:00:56.389Z"
      },
      {
        "duration": 2004737,
        "start_time": "2023-11-27T15:00:56.395Z"
      },
      {
        "duration": 0,
        "start_time": "2023-11-27T15:34:21.134Z"
      },
      {
        "duration": 0,
        "start_time": "2023-11-27T15:34:21.136Z"
      },
      {
        "duration": 0,
        "start_time": "2023-11-27T15:34:21.137Z"
      },
      {
        "duration": 0,
        "start_time": "2023-11-27T15:34:21.139Z"
      },
      {
        "duration": 0,
        "start_time": "2023-11-27T15:34:21.140Z"
      },
      {
        "duration": 6,
        "start_time": "2023-11-27T15:52:30.912Z"
      },
      {
        "duration": 5,
        "start_time": "2023-11-27T15:52:37.056Z"
      },
      {
        "duration": 4,
        "start_time": "2023-11-27T15:52:41.096Z"
      },
      {
        "duration": 6,
        "start_time": "2023-11-27T15:52:45.531Z"
      },
      {
        "duration": 5,
        "start_time": "2023-11-27T15:53:18.063Z"
      },
      {
        "duration": 7,
        "start_time": "2023-11-27T15:53:26.535Z"
      },
      {
        "duration": 33,
        "start_time": "2023-11-27T15:54:11.354Z"
      },
      {
        "duration": 99,
        "start_time": "2023-11-27T15:54:13.294Z"
      },
      {
        "duration": 5,
        "start_time": "2023-11-27T15:54:13.727Z"
      },
      {
        "duration": 4654,
        "start_time": "2023-11-27T15:54:14.159Z"
      },
      {
        "duration": 4,
        "start_time": "2023-11-27T15:54:21.046Z"
      },
      {
        "duration": 2368440,
        "start_time": "2023-11-27T15:54:27.469Z"
      },
      {
        "duration": 1523,
        "start_time": "2023-11-28T06:20:31.578Z"
      },
      {
        "duration": 2339,
        "start_time": "2023-11-28T06:20:33.103Z"
      },
      {
        "duration": 71316,
        "start_time": "2023-11-28T06:20:35.444Z"
      },
      {
        "duration": 42,
        "start_time": "2023-11-28T06:21:46.765Z"
      },
      {
        "duration": 31,
        "start_time": "2023-11-28T06:21:46.809Z"
      },
      {
        "duration": 351,
        "start_time": "2023-11-28T06:21:46.842Z"
      },
      {
        "duration": 91,
        "start_time": "2023-11-28T06:21:47.195Z"
      },
      {
        "duration": 6,
        "start_time": "2023-11-28T06:21:47.287Z"
      },
      {
        "duration": 4217,
        "start_time": "2023-11-28T06:21:47.294Z"
      },
      {
        "duration": 4,
        "start_time": "2023-11-28T06:21:51.513Z"
      },
      {
        "duration": 5,
        "start_time": "2023-11-28T06:21:51.518Z"
      },
      {
        "duration": 1375,
        "start_time": "2023-11-28T06:33:07.981Z"
      },
      {
        "duration": 932,
        "start_time": "2023-11-28T06:33:09.358Z"
      },
      {
        "duration": 72028,
        "start_time": "2023-11-28T06:33:10.323Z"
      },
      {
        "duration": 43,
        "start_time": "2023-11-28T06:34:22.352Z"
      },
      {
        "duration": 36,
        "start_time": "2023-11-28T06:34:22.396Z"
      },
      {
        "duration": 333,
        "start_time": "2023-11-28T06:34:22.434Z"
      },
      {
        "duration": 78,
        "start_time": "2023-11-28T06:34:22.769Z"
      },
      {
        "duration": 5,
        "start_time": "2023-11-28T06:34:22.848Z"
      },
      {
        "duration": 4343,
        "start_time": "2023-11-28T06:34:22.866Z"
      },
      {
        "duration": 4,
        "start_time": "2023-11-28T06:34:27.210Z"
      },
      {
        "duration": 16,
        "start_time": "2023-11-28T06:34:27.215Z"
      },
      {
        "duration": 1761466,
        "start_time": "2023-11-28T06:34:27.233Z"
      },
      {
        "duration": 229,
        "start_time": "2023-11-28T07:20:38.510Z"
      },
      {
        "duration": 234,
        "start_time": "2023-11-28T07:20:45.945Z"
      },
      {
        "duration": 2260002,
        "start_time": "2023-11-28T07:21:22.229Z"
      },
      {
        "duration": 75844,
        "start_time": "2023-11-28T07:59:02.233Z"
      },
      {
        "duration": 74,
        "start_time": "2023-11-28T08:07:41.107Z"
      },
      {
        "duration": 4,
        "start_time": "2023-11-28T08:07:42.151Z"
      },
      {
        "duration": 4329,
        "start_time": "2023-11-28T08:07:50.700Z"
      },
      {
        "duration": 482,
        "start_time": "2023-11-28T08:08:07.211Z"
      },
      {
        "duration": 142,
        "start_time": "2023-11-28T08:08:26.531Z"
      },
      {
        "duration": 1337,
        "start_time": "2023-11-28T08:09:28.021Z"
      },
      {
        "duration": 901,
        "start_time": "2023-11-28T08:09:29.362Z"
      },
      {
        "duration": 71954,
        "start_time": "2023-11-28T08:09:30.503Z"
      },
      {
        "duration": 49,
        "start_time": "2023-11-28T08:10:42.458Z"
      },
      {
        "duration": 38,
        "start_time": "2023-11-28T08:10:42.508Z"
      },
      {
        "duration": 369,
        "start_time": "2023-11-28T08:10:42.548Z"
      },
      {
        "duration": 70,
        "start_time": "2023-11-28T08:10:42.919Z"
      },
      {
        "duration": 140,
        "start_time": "2023-11-28T08:10:42.990Z"
      },
      {
        "duration": 0,
        "start_time": "2023-11-28T08:10:43.131Z"
      },
      {
        "duration": 0,
        "start_time": "2023-11-28T08:10:43.133Z"
      },
      {
        "duration": 0,
        "start_time": "2023-11-28T08:10:43.134Z"
      },
      {
        "duration": 0,
        "start_time": "2023-11-28T08:10:43.135Z"
      },
      {
        "duration": 4,
        "start_time": "2023-11-28T08:22:24.146Z"
      },
      {
        "duration": 812,
        "start_time": "2023-11-28T08:22:24.782Z"
      },
      {
        "duration": 71267,
        "start_time": "2023-11-28T08:22:28.362Z"
      },
      {
        "duration": 17,
        "start_time": "2023-11-28T08:23:39.631Z"
      },
      {
        "duration": 30,
        "start_time": "2023-11-28T08:23:39.665Z"
      },
      {
        "duration": 136,
        "start_time": "2023-11-28T08:23:39.697Z"
      },
      {
        "duration": 67,
        "start_time": "2023-11-28T08:23:39.835Z"
      },
      {
        "duration": 4491,
        "start_time": "2023-11-28T08:23:39.903Z"
      },
      {
        "duration": 9,
        "start_time": "2023-11-28T08:23:44.396Z"
      },
      {
        "duration": 10,
        "start_time": "2023-11-28T08:36:42.416Z"
      },
      {
        "duration": 14,
        "start_time": "2023-11-28T08:39:42.028Z"
      },
      {
        "duration": 5,
        "start_time": "2023-11-28T08:39:46.768Z"
      },
      {
        "duration": 821,
        "start_time": "2023-11-28T08:39:47.774Z"
      },
      {
        "duration": 4,
        "start_time": "2023-11-28T08:39:55.590Z"
      },
      {
        "duration": 818,
        "start_time": "2023-11-28T08:39:55.918Z"
      },
      {
        "duration": 70899,
        "start_time": "2023-11-28T08:39:56.739Z"
      },
      {
        "duration": 24,
        "start_time": "2023-11-28T08:41:07.641Z"
      },
      {
        "duration": 33,
        "start_time": "2023-11-28T08:41:07.667Z"
      },
      {
        "duration": 142,
        "start_time": "2023-11-28T08:41:07.702Z"
      },
      {
        "duration": 96,
        "start_time": "2023-11-28T08:41:07.846Z"
      },
      {
        "duration": 4422,
        "start_time": "2023-11-28T08:41:07.944Z"
      },
      {
        "duration": 3,
        "start_time": "2023-11-28T08:41:12.368Z"
      },
      {
        "duration": 2260346,
        "start_time": "2023-11-28T08:41:12.373Z"
      },
      {
        "duration": 1458,
        "start_time": "2023-11-29T13:59:40.902Z"
      },
      {
        "duration": 3284,
        "start_time": "2023-11-29T13:59:42.362Z"
      },
      {
        "duration": 644,
        "start_time": "2023-11-29T13:59:46.234Z"
      },
      {
        "duration": 953,
        "start_time": "2023-11-29T14:10:15.415Z"
      },
      {
        "duration": 125,
        "start_time": "2023-11-29T14:12:02.328Z"
      },
      {
        "duration": 15,
        "start_time": "2023-11-29T14:15:25.053Z"
      },
      {
        "duration": 128,
        "start_time": "2023-11-29T14:15:48.515Z"
      },
      {
        "duration": 136,
        "start_time": "2023-11-29T14:16:05.839Z"
      },
      {
        "duration": 4,
        "start_time": "2023-11-29T14:16:31.788Z"
      },
      {
        "duration": 111,
        "start_time": "2023-11-29T14:16:35.976Z"
      },
      {
        "duration": 115,
        "start_time": "2023-11-29T14:19:17.454Z"
      },
      {
        "duration": 14423,
        "start_time": "2023-11-29T14:49:20.770Z"
      },
      {
        "duration": 10528,
        "start_time": "2023-11-29T14:56:22.363Z"
      },
      {
        "duration": 72,
        "start_time": "2023-11-29T14:58:25.238Z"
      },
      {
        "duration": 528,
        "start_time": "2023-11-29T14:59:17.317Z"
      },
      {
        "duration": 471,
        "start_time": "2023-11-29T14:59:38.485Z"
      },
      {
        "duration": 455,
        "start_time": "2023-11-29T14:59:45.118Z"
      },
      {
        "duration": 72,
        "start_time": "2023-11-29T15:01:06.612Z"
      },
      {
        "duration": 469,
        "start_time": "2023-11-29T15:01:11.348Z"
      },
      {
        "duration": 453,
        "start_time": "2023-11-29T15:02:56.236Z"
      },
      {
        "duration": 461,
        "start_time": "2023-11-29T15:03:17.136Z"
      },
      {
        "duration": 701,
        "start_time": "2023-11-29T15:03:29.880Z"
      },
      {
        "duration": 464,
        "start_time": "2023-11-29T15:04:08.508Z"
      },
      {
        "duration": 480,
        "start_time": "2023-11-29T15:04:18.818Z"
      },
      {
        "duration": 507,
        "start_time": "2023-11-29T15:04:57.046Z"
      },
      {
        "duration": 4,
        "start_time": "2023-11-29T15:05:09.242Z"
      },
      {
        "duration": 486,
        "start_time": "2023-11-29T15:05:20.745Z"
      },
      {
        "duration": 486,
        "start_time": "2023-11-29T15:05:34.106Z"
      },
      {
        "duration": 424,
        "start_time": "2023-11-29T15:07:53.269Z"
      },
      {
        "duration": 446,
        "start_time": "2023-11-29T15:09:39.904Z"
      },
      {
        "duration": 691,
        "start_time": "2023-11-29T15:09:53.959Z"
      },
      {
        "duration": 483,
        "start_time": "2023-11-29T15:12:11.098Z"
      },
      {
        "duration": 497,
        "start_time": "2023-11-29T15:12:22.458Z"
      },
      {
        "duration": 453,
        "start_time": "2023-11-29T15:12:47.278Z"
      },
      {
        "duration": 3,
        "start_time": "2023-11-29T15:12:52.077Z"
      },
      {
        "duration": 454,
        "start_time": "2023-11-29T15:13:26.685Z"
      },
      {
        "duration": 482,
        "start_time": "2023-11-29T15:14:40.025Z"
      },
      {
        "duration": 1890,
        "start_time": "2023-11-29T15:14:57.813Z"
      },
      {
        "duration": 5,
        "start_time": "2023-11-29T15:15:03.361Z"
      },
      {
        "duration": 1579,
        "start_time": "2023-11-29T15:15:21.345Z"
      },
      {
        "duration": 6,
        "start_time": "2023-11-29T15:15:27.056Z"
      },
      {
        "duration": 2541,
        "start_time": "2023-11-29T15:15:48.931Z"
      },
      {
        "duration": 10381,
        "start_time": "2023-11-29T15:16:12.456Z"
      },
      {
        "duration": 99,
        "start_time": "2023-11-29T15:16:41.759Z"
      },
      {
        "duration": 6255,
        "start_time": "2023-11-29T15:16:47.618Z"
      },
      {
        "duration": 470,
        "start_time": "2023-11-29T15:16:55.539Z"
      },
      {
        "duration": 543,
        "start_time": "2023-11-29T15:17:09.443Z"
      },
      {
        "duration": 3,
        "start_time": "2023-11-29T15:17:13.635Z"
      },
      {
        "duration": 18,
        "start_time": "2023-11-29T15:21:30.668Z"
      },
      {
        "duration": 532,
        "start_time": "2023-11-29T15:21:34.476Z"
      },
      {
        "duration": 26,
        "start_time": "2023-11-29T15:21:36.467Z"
      },
      {
        "duration": 433,
        "start_time": "2023-11-29T15:21:53.111Z"
      },
      {
        "duration": 17,
        "start_time": "2023-11-29T15:22:22.563Z"
      },
      {
        "duration": 747,
        "start_time": "2023-11-29T15:22:33.307Z"
      },
      {
        "duration": 20,
        "start_time": "2023-11-29T15:22:34.755Z"
      },
      {
        "duration": 450,
        "start_time": "2023-11-29T15:22:52.139Z"
      },
      {
        "duration": 117,
        "start_time": "2023-11-29T15:22:53.273Z"
      },
      {
        "duration": 93,
        "start_time": "2023-11-29T15:23:14.599Z"
      },
      {
        "duration": 429,
        "start_time": "2023-11-29T15:24:20.218Z"
      },
      {
        "duration": 150,
        "start_time": "2023-11-29T15:25:00.040Z"
      },
      {
        "duration": 426,
        "start_time": "2023-11-29T15:25:39.201Z"
      },
      {
        "duration": 54,
        "start_time": "2023-11-29T15:25:41.686Z"
      },
      {
        "duration": 452,
        "start_time": "2023-11-29T15:36:34.000Z"
      },
      {
        "duration": 1332,
        "start_time": "2023-11-29T15:36:35.906Z"
      },
      {
        "duration": 100,
        "start_time": "2023-11-29T15:44:29.630Z"
      },
      {
        "duration": 127,
        "start_time": "2023-11-29T15:45:06.457Z"
      },
      {
        "duration": 24,
        "start_time": "2023-11-29T15:45:14.066Z"
      },
      {
        "duration": 92,
        "start_time": "2023-11-29T15:46:19.613Z"
      },
      {
        "duration": 498,
        "start_time": "2023-11-29T15:46:27.564Z"
      },
      {
        "duration": 21,
        "start_time": "2023-11-29T15:46:29.256Z"
      },
      {
        "duration": 40,
        "start_time": "2023-11-29T15:46:41.765Z"
      },
      {
        "duration": 11866,
        "start_time": "2023-11-29T15:47:05.095Z"
      },
      {
        "duration": 432,
        "start_time": "2023-11-29T15:50:33.726Z"
      },
      {
        "duration": 154,
        "start_time": "2023-11-29T15:50:35.342Z"
      },
      {
        "duration": 687,
        "start_time": "2023-11-29T15:51:01.594Z"
      },
      {
        "duration": 1136,
        "start_time": "2023-11-29T15:51:02.478Z"
      },
      {
        "duration": 422,
        "start_time": "2023-11-29T15:51:11.910Z"
      },
      {
        "duration": 6470,
        "start_time": "2023-11-29T15:51:12.505Z"
      },
      {
        "duration": 403,
        "start_time": "2023-11-29T15:51:43.325Z"
      },
      {
        "duration": 5379,
        "start_time": "2023-11-29T15:51:44.262Z"
      },
      {
        "duration": 3,
        "start_time": "2023-11-29T15:51:52.429Z"
      },
      {
        "duration": 416,
        "start_time": "2023-11-29T15:52:19.741Z"
      },
      {
        "duration": 5420,
        "start_time": "2023-11-29T15:52:20.159Z"
      },
      {
        "duration": 3,
        "start_time": "2023-11-29T15:52:25.581Z"
      },
      {
        "duration": 3,
        "start_time": "2023-11-29T15:52:30.202Z"
      },
      {
        "duration": 440,
        "start_time": "2023-11-29T15:52:38.968Z"
      },
      {
        "duration": 5378,
        "start_time": "2023-11-29T15:52:40.489Z"
      },
      {
        "duration": 6,
        "start_time": "2023-11-29T15:52:46.845Z"
      },
      {
        "duration": 1610,
        "start_time": "2023-11-29T15:54:07.059Z"
      },
      {
        "duration": 920,
        "start_time": "2023-11-29T15:54:08.671Z"
      },
      {
        "duration": 805,
        "start_time": "2023-11-29T15:54:17.633Z"
      },
      {
        "duration": 3016,
        "start_time": "2023-11-29T15:54:18.461Z"
      },
      {
        "duration": 94,
        "start_time": "2023-11-29T15:54:43.229Z"
      },
      {
        "duration": 316,
        "start_time": "2023-11-29T15:54:50.549Z"
      },
      {
        "duration": 90,
        "start_time": "2023-11-29T15:55:04.184Z"
      },
      {
        "duration": 512,
        "start_time": "2023-11-29T15:55:24.068Z"
      },
      {
        "duration": 20,
        "start_time": "2023-11-29T15:55:24.596Z"
      },
      {
        "duration": 2699,
        "start_time": "2023-11-29T15:55:40.148Z"
      },
      {
        "duration": 6,
        "start_time": "2023-11-29T15:55:45.377Z"
      },
      {
        "duration": 2750,
        "start_time": "2023-11-30T06:44:37.113Z"
      },
      {
        "duration": 3465,
        "start_time": "2023-11-30T06:44:39.919Z"
      },
      {
        "duration": 3179,
        "start_time": "2023-11-30T06:44:46.168Z"
      },
      {
        "duration": 4144172,
        "start_time": "2023-11-30T06:44:49.349Z"
      },
      {
        "duration": 39,
        "start_time": "2023-11-30T07:53:53.523Z"
      },
      {
        "duration": 34,
        "start_time": "2023-11-30T07:53:53.564Z"
      },
      {
        "duration": 147,
        "start_time": "2023-11-30T07:53:53.612Z"
      },
      {
        "duration": 74,
        "start_time": "2023-11-30T07:53:53.761Z"
      },
      {
        "duration": 5239,
        "start_time": "2023-11-30T07:53:53.837Z"
      },
      {
        "duration": 360,
        "start_time": "2023-11-30T07:53:59.078Z"
      },
      {
        "duration": 34,
        "start_time": "2023-11-30T07:59:51.040Z"
      },
      {
        "duration": 125,
        "start_time": "2023-11-30T07:59:53.552Z"
      },
      {
        "duration": 79,
        "start_time": "2023-11-30T08:00:15.648Z"
      },
      {
        "duration": 294,
        "start_time": "2023-11-30T08:02:39.427Z"
      },
      {
        "duration": 78,
        "start_time": "2023-11-30T08:02:49.919Z"
      },
      {
        "duration": 126,
        "start_time": "2023-11-30T08:04:39.970Z"
      },
      {
        "duration": 21,
        "start_time": "2023-11-30T08:04:46.150Z"
      },
      {
        "duration": 21,
        "start_time": "2023-11-30T08:05:20.285Z"
      },
      {
        "duration": 20,
        "start_time": "2023-11-30T08:05:34.417Z"
      },
      {
        "duration": 23,
        "start_time": "2023-11-30T08:05:43.645Z"
      },
      {
        "duration": 22,
        "start_time": "2023-11-30T08:05:59.509Z"
      },
      {
        "duration": 22,
        "start_time": "2023-11-30T08:06:38.845Z"
      },
      {
        "duration": 53,
        "start_time": "2023-11-30T08:11:11.057Z"
      },
      {
        "duration": 49,
        "start_time": "2023-11-30T08:11:33.550Z"
      },
      {
        "duration": 49,
        "start_time": "2023-11-30T08:11:48.253Z"
      },
      {
        "duration": 50,
        "start_time": "2023-11-30T08:12:02.066Z"
      },
      {
        "duration": 22,
        "start_time": "2023-11-30T08:12:11.577Z"
      },
      {
        "duration": 49,
        "start_time": "2023-11-30T08:12:26.289Z"
      },
      {
        "duration": 32,
        "start_time": "2023-11-30T08:12:54.025Z"
      },
      {
        "duration": 23,
        "start_time": "2023-11-30T08:14:53.823Z"
      },
      {
        "duration": 47,
        "start_time": "2023-11-30T08:15:14.507Z"
      },
      {
        "duration": 49,
        "start_time": "2023-11-30T08:16:14.571Z"
      },
      {
        "duration": 49,
        "start_time": "2023-11-30T08:17:31.818Z"
      },
      {
        "duration": 313996,
        "start_time": "2023-11-30T08:18:02.170Z"
      },
      {
        "duration": 0,
        "start_time": "2023-11-30T08:23:16.169Z"
      },
      {
        "duration": 130241,
        "start_time": "2023-11-30T08:23:17.222Z"
      },
      {
        "duration": 0,
        "start_time": "2023-11-30T08:25:27.465Z"
      },
      {
        "duration": 0,
        "start_time": "2023-11-30T08:25:27.467Z"
      },
      {
        "duration": 106,
        "start_time": "2023-11-30T08:25:31.776Z"
      },
      {
        "duration": 4,
        "start_time": "2023-11-30T08:25:51.193Z"
      },
      {
        "duration": 25,
        "start_time": "2023-11-30T08:25:54.317Z"
      },
      {
        "duration": 8,
        "start_time": "2023-11-30T08:26:07.536Z"
      },
      {
        "duration": 145863,
        "start_time": "2023-11-30T08:26:29.461Z"
      },
      {
        "duration": 34,
        "start_time": "2023-11-30T08:30:15.247Z"
      },
      {
        "duration": 34,
        "start_time": "2023-11-30T08:30:32.822Z"
      },
      {
        "duration": 195557,
        "start_time": "2023-11-30T08:31:13.170Z"
      },
      {
        "duration": 142191,
        "start_time": "2023-11-30T08:34:28.816Z"
      },
      {
        "duration": 129771,
        "start_time": "2023-11-30T09:03:41.444Z"
      },
      {
        "duration": 9040935,
        "start_time": "2023-11-30T09:07:10.988Z"
      },
      {
        "duration": 0,
        "start_time": "2023-11-30T11:37:51.925Z"
      },
      {
        "duration": 0,
        "start_time": "2023-11-30T11:37:51.928Z"
      },
      {
        "duration": 11060,
        "start_time": "2023-11-30T11:37:55.198Z"
      },
      {
        "duration": 17035,
        "start_time": "2023-11-30T11:38:08.693Z"
      },
      {
        "duration": 8,
        "start_time": "2023-11-30T11:39:52.096Z"
      },
      {
        "duration": 18547,
        "start_time": "2023-11-30T11:40:00.308Z"
      },
      {
        "duration": 183,
        "start_time": "2023-11-30T11:44:06.946Z"
      },
      {
        "duration": 158074,
        "start_time": "2023-11-30T11:44:08.917Z"
      },
      {
        "duration": 4,
        "start_time": "2023-11-30T12:00:48.755Z"
      },
      {
        "duration": 4,
        "start_time": "2023-11-30T12:00:57.618Z"
      },
      {
        "duration": 23,
        "start_time": "2023-11-30T12:01:10.650Z"
      },
      {
        "duration": 68,
        "start_time": "2023-11-30T12:01:19.770Z"
      },
      {
        "duration": 6,
        "start_time": "2023-11-30T12:01:20.786Z"
      },
      {
        "duration": 5,
        "start_time": "2023-11-30T12:01:30.855Z"
      },
      {
        "duration": 66,
        "start_time": "2023-11-30T12:03:43.337Z"
      },
      {
        "duration": 4963,
        "start_time": "2023-11-30T12:03:45.629Z"
      },
      {
        "duration": 2396669,
        "start_time": "2023-11-30T12:03:50.594Z"
      },
      {
        "duration": 3,
        "start_time": "2023-11-30T13:10:39.184Z"
      },
      {
        "duration": 7,
        "start_time": "2023-11-30T13:10:39.463Z"
      },
      {
        "duration": 3938,
        "start_time": "2023-11-30T16:59:48.139Z"
      },
      {
        "duration": 3406,
        "start_time": "2023-11-30T16:59:52.079Z"
      },
      {
        "duration": 3647,
        "start_time": "2023-11-30T16:59:55.487Z"
      },
      {
        "duration": 4088952,
        "start_time": "2023-11-30T16:59:59.136Z"
      },
      {
        "duration": 25,
        "start_time": "2023-11-30T18:08:08.089Z"
      },
      {
        "duration": 31,
        "start_time": "2023-11-30T18:08:08.115Z"
      },
      {
        "duration": 142,
        "start_time": "2023-11-30T18:08:08.148Z"
      },
      {
        "duration": 3,
        "start_time": "2023-11-30T18:08:08.291Z"
      },
      {
        "duration": 29,
        "start_time": "2023-11-30T18:08:08.296Z"
      },
      {
        "duration": 133188,
        "start_time": "2023-11-30T18:08:08.327Z"
      },
      {
        "duration": 126463,
        "start_time": "2023-11-30T18:10:21.518Z"
      },
      {
        "duration": 12883661,
        "start_time": "2023-11-30T18:12:27.982Z"
      },
      {
        "duration": 134700,
        "start_time": "2023-11-30T21:47:11.644Z"
      },
      {
        "duration": 15574,
        "start_time": "2023-11-30T21:49:26.345Z"
      },
      {
        "duration": 7,
        "start_time": "2023-11-30T21:49:41.921Z"
      },
      {
        "duration": 14,
        "start_time": "2023-11-30T21:49:41.930Z"
      },
      {
        "duration": 77,
        "start_time": "2023-11-30T21:49:41.946Z"
      },
      {
        "duration": 4380,
        "start_time": "2023-11-30T21:49:42.024Z"
      },
      {
        "duration": 2172311,
        "start_time": "2023-11-30T21:49:46.406Z"
      },
      {
        "duration": 2978,
        "start_time": "2024-03-26T10:08:12.668Z"
      },
      {
        "duration": 3440,
        "start_time": "2024-03-26T10:08:16.212Z"
      },
      {
        "duration": 3378,
        "start_time": "2024-03-26T10:08:19.935Z"
      },
      {
        "duration": 4416201,
        "start_time": "2024-03-26T10:08:23.315Z"
      }
    ],
    "kernelspec": {
      "display_name": "Python 3 (ipykernel)",
      "language": "python",
      "name": "python3"
    },
    "language_info": {
      "codemirror_mode": {
        "name": "ipython",
        "version": 3
      },
      "file_extension": ".py",
      "mimetype": "text/x-python",
      "name": "python",
      "nbconvert_exporter": "python",
      "pygments_lexer": "ipython3",
      "version": "3.9.5"
    },
    "toc": {
      "base_numbering": 1,
      "nav_menu": {},
      "number_sections": true,
      "sideBar": true,
      "skip_h1_title": true,
      "title_cell": "Содержание",
      "title_sidebar": "Contents",
      "toc_cell": true,
      "toc_position": {
        "height": "calc(100% - 180px)",
        "left": "10px",
        "top": "150px",
        "width": "302.391px"
      },
      "toc_section_display": true,
      "toc_window_display": false
    },
    "colab": {
      "provenance": []
    }
  },
  "nbformat": 4,
  "nbformat_minor": 0
}