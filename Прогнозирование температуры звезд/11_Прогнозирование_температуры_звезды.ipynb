{
  "cells": [
    {
      "cell_type": "markdown",
      "source": [
        "#Прогнозирование температуры звёзд"
      ],
      "metadata": {
        "id": "oMnJHgrrYoNA"
      },
      "id": "oMnJHgrrYoNA"
    },
    {
      "cell_type": "code",
      "source": [
        "!pip install torch==1.10.0+cpu torchvision==0.11.0+cpu torchaudio==0.10.0 -f https://download.pytorch.org/whl/torch_stable.html --user\n",
        "\n",
        "import pandas as pd\n",
        "\n",
        "import numpy as np\n",
        "\n",
        "import random\n",
        "\n",
        "import torch\n",
        "import torch.nn as nn\n",
        "\n",
        "import seaborn as sns\n",
        "import matplotlib.pyplot as plt\n",
        "%matplotlib inline\n",
        "\n",
        "import torch\n",
        "import torch.nn as nn\n",
        "\n",
        "import sklearn\n",
        "from sklearn.model_selection import train_test_split\n",
        "from sklearn.preprocessing import StandardScaler, OneHotEncoder, LabelBinarizer\n",
        "from sklearn.metrics import mean_squared_error\n",
        "from sklearn.compose import ColumnTransformer\n",
        "\n",
        "from math import ceil\n",
        "\n",
        "from skorch import NeuralNetBinaryClassifier\n",
        "from skorch import NeuralNetRegressor\n",
        "from skorch import NeuralNetClassifier\n",
        "from sklearn.model_selection import GridSearchCV\n",
        "\n",
        "from math import sqrt\n",
        "\n",
        "from sklearn.metrics import make_scorer\n",
        "\n",
        "from sklearn.datasets import make_classification"
      ],
      "metadata": {
        "id": "sjxJ4yJMae9f"
      },
      "id": "sjxJ4yJMae9f",
      "execution_count": null,
      "outputs": []
    },
    {
      "cell_type": "markdown",
      "id": "corresponding-armstrong",
      "metadata": {
        "ExecuteTime": {
          "end_time": "2022-05-05T04:58:05.692448Z",
          "start_time": "2022-05-05T04:58:05.688565Z"
        },
        "id": "corresponding-armstrong"
      },
      "source": [
        "## Загрузка данных"
      ]
    },
    {
      "cell_type": "code",
      "execution_count": null,
      "id": "spectacular-folder",
      "metadata": {
        "scrolled": true,
        "id": "spectacular-folder",
        "outputId": "e1a1e8e7-126e-407a-ad04-adce88323d7f"
      },
      "outputs": [
        {
          "data": {
            "text/html": [
              "<div>\n",
              "<style scoped>\n",
              "    .dataframe tbody tr th:only-of-type {\n",
              "        vertical-align: middle;\n",
              "    }\n",
              "\n",
              "    .dataframe tbody tr th {\n",
              "        vertical-align: top;\n",
              "    }\n",
              "\n",
              "    .dataframe thead th {\n",
              "        text-align: right;\n",
              "    }\n",
              "</style>\n",
              "<table border=\"1\" class=\"dataframe\">\n",
              "  <thead>\n",
              "    <tr style=\"text-align: right;\">\n",
              "      <th></th>\n",
              "      <th>Unnamed: 0</th>\n",
              "      <th>Temperature (K)</th>\n",
              "      <th>Luminosity(L/Lo)</th>\n",
              "      <th>Radius(R/Ro)</th>\n",
              "      <th>Absolute magnitude(Mv)</th>\n",
              "      <th>Star type</th>\n",
              "      <th>Star color</th>\n",
              "    </tr>\n",
              "  </thead>\n",
              "  <tbody>\n",
              "    <tr>\n",
              "      <th>150</th>\n",
              "      <td>150</td>\n",
              "      <td>29560</td>\n",
              "      <td>188000.000000</td>\n",
              "      <td>6.0200</td>\n",
              "      <td>-4.01</td>\n",
              "      <td>3</td>\n",
              "      <td>Blue-white</td>\n",
              "    </tr>\n",
              "    <tr>\n",
              "      <th>184</th>\n",
              "      <td>184</td>\n",
              "      <td>3453</td>\n",
              "      <td>0.000621</td>\n",
              "      <td>0.0773</td>\n",
              "      <td>17.08</td>\n",
              "      <td>0</td>\n",
              "      <td>Red</td>\n",
              "    </tr>\n",
              "    <tr>\n",
              "      <th>179</th>\n",
              "      <td>179</td>\n",
              "      <td>24490</td>\n",
              "      <td>248490.000000</td>\n",
              "      <td>1134.5000</td>\n",
              "      <td>-8.24</td>\n",
              "      <td>5</td>\n",
              "      <td>Blue-white</td>\n",
              "    </tr>\n",
              "    <tr>\n",
              "      <th>217</th>\n",
              "      <td>217</td>\n",
              "      <td>19400</td>\n",
              "      <td>10920.000000</td>\n",
              "      <td>6.0300</td>\n",
              "      <td>-3.08</td>\n",
              "      <td>3</td>\n",
              "      <td>Blue-white</td>\n",
              "    </tr>\n",
              "    <tr>\n",
              "      <th>151</th>\n",
              "      <td>151</td>\n",
              "      <td>8945</td>\n",
              "      <td>38.000000</td>\n",
              "      <td>2.4870</td>\n",
              "      <td>0.12</td>\n",
              "      <td>3</td>\n",
              "      <td>Blue-White</td>\n",
              "    </tr>\n",
              "    <tr>\n",
              "      <th>117</th>\n",
              "      <td>117</td>\n",
              "      <td>3625</td>\n",
              "      <td>74000.000000</td>\n",
              "      <td>876.0000</td>\n",
              "      <td>-10.25</td>\n",
              "      <td>5</td>\n",
              "      <td>Red</td>\n",
              "    </tr>\n",
              "    <tr>\n",
              "      <th>123</th>\n",
              "      <td>123</td>\n",
              "      <td>3146</td>\n",
              "      <td>0.000150</td>\n",
              "      <td>0.0932</td>\n",
              "      <td>16.92</td>\n",
              "      <td>0</td>\n",
              "      <td>Red</td>\n",
              "    </tr>\n",
              "    <tr>\n",
              "      <th>51</th>\n",
              "      <td>51</td>\n",
              "      <td>3750</td>\n",
              "      <td>283000.000000</td>\n",
              "      <td>1260.0000</td>\n",
              "      <td>-7.63</td>\n",
              "      <td>5</td>\n",
              "      <td>Red</td>\n",
              "    </tr>\n",
              "    <tr>\n",
              "      <th>176</th>\n",
              "      <td>176</td>\n",
              "      <td>18000</td>\n",
              "      <td>200000.000000</td>\n",
              "      <td>1045.0000</td>\n",
              "      <td>-8.30</td>\n",
              "      <td>5</td>\n",
              "      <td>Blue</td>\n",
              "    </tr>\n",
              "    <tr>\n",
              "      <th>186</th>\n",
              "      <td>186</td>\n",
              "      <td>2968</td>\n",
              "      <td>0.000461</td>\n",
              "      <td>0.1190</td>\n",
              "      <td>17.45</td>\n",
              "      <td>0</td>\n",
              "      <td>Red</td>\n",
              "    </tr>\n",
              "  </tbody>\n",
              "</table>\n",
              "</div>"
            ],
            "text/plain": [
              "     Unnamed: 0  Temperature (K)  Luminosity(L/Lo)  Radius(R/Ro)  \\\n",
              "150         150            29560     188000.000000        6.0200   \n",
              "184         184             3453          0.000621        0.0773   \n",
              "179         179            24490     248490.000000     1134.5000   \n",
              "217         217            19400      10920.000000        6.0300   \n",
              "151         151             8945         38.000000        2.4870   \n",
              "117         117             3625      74000.000000      876.0000   \n",
              "123         123             3146          0.000150        0.0932   \n",
              "51           51             3750     283000.000000     1260.0000   \n",
              "176         176            18000     200000.000000     1045.0000   \n",
              "186         186             2968          0.000461        0.1190   \n",
              "\n",
              "     Absolute magnitude(Mv)  Star type  Star color  \n",
              "150                   -4.01          3  Blue-white  \n",
              "184                   17.08          0         Red  \n",
              "179                   -8.24          5  Blue-white  \n",
              "217                   -3.08          3  Blue-white  \n",
              "151                    0.12          3  Blue-White  \n",
              "117                  -10.25          5         Red  \n",
              "123                   16.92          0         Red  \n",
              "51                    -7.63          5         Red  \n",
              "176                   -8.30          5        Blue  \n",
              "186                   17.45          0         Red  "
            ]
          },
          "execution_count": 2,
          "metadata": {},
          "output_type": "execute_result"
        }
      ],
      "source": [
        "df = pd.read_csv('/datasets/6_class.csv')\n",
        "df.sample(10)"
      ]
    },
    {
      "cell_type": "markdown",
      "id": "simple-subdivision",
      "metadata": {
        "id": "simple-subdivision"
      },
      "source": [
        "## Анализ данных"
      ]
    },
    {
      "cell_type": "code",
      "execution_count": null,
      "id": "flush-dream",
      "metadata": {
        "id": "flush-dream",
        "outputId": "34b7a0b7-dd70-4666-971e-2507a0b5b061"
      },
      "outputs": [
        {
          "data": {
            "text/plain": [
              "0"
            ]
          },
          "execution_count": 3,
          "metadata": {},
          "output_type": "execute_result"
        }
      ],
      "source": [
        "#Подсчитаем и удалим полные дубликаты из таблицы\n",
        "df.duplicated().sum()"
      ]
    },
    {
      "cell_type": "code",
      "execution_count": null,
      "id": "9f158abd",
      "metadata": {
        "id": "9f158abd",
        "outputId": "982b7d7b-059b-4ad0-85af-c9e8cd1544c2"
      },
      "outputs": [
        {
          "data": {
            "text/html": [
              "<style  type=\"text/css\" >\n",
              "#T_9221e_row0_col0,#T_9221e_row1_col0,#T_9221e_row2_col0,#T_9221e_row3_col0,#T_9221e_row4_col0,#T_9221e_row5_col0,#T_9221e_row6_col0{\n",
              "            background-color:  #3b4cc0;\n",
              "            color:  #f1f1f1;\n",
              "        }</style><table id=\"T_9221e_\" ><thead>    <tr>        <th class=\"blank level0\" ></th>        <th class=\"col_heading level0 col0\" >0</th>    </tr></thead><tbody>\n",
              "                <tr>\n",
              "                        <th id=\"T_9221e_level0_row0\" class=\"row_heading level0 row0\" >Unnamed: 0</th>\n",
              "                        <td id=\"T_9221e_row0_col0\" class=\"data row0 col0\" >0.000000</td>\n",
              "            </tr>\n",
              "            <tr>\n",
              "                        <th id=\"T_9221e_level0_row1\" class=\"row_heading level0 row1\" >Temperature (K)</th>\n",
              "                        <td id=\"T_9221e_row1_col0\" class=\"data row1 col0\" >0.000000</td>\n",
              "            </tr>\n",
              "            <tr>\n",
              "                        <th id=\"T_9221e_level0_row2\" class=\"row_heading level0 row2\" >Luminosity(L/Lo)</th>\n",
              "                        <td id=\"T_9221e_row2_col0\" class=\"data row2 col0\" >0.000000</td>\n",
              "            </tr>\n",
              "            <tr>\n",
              "                        <th id=\"T_9221e_level0_row3\" class=\"row_heading level0 row3\" >Radius(R/Ro)</th>\n",
              "                        <td id=\"T_9221e_row3_col0\" class=\"data row3 col0\" >0.000000</td>\n",
              "            </tr>\n",
              "            <tr>\n",
              "                        <th id=\"T_9221e_level0_row4\" class=\"row_heading level0 row4\" >Absolute magnitude(Mv)</th>\n",
              "                        <td id=\"T_9221e_row4_col0\" class=\"data row4 col0\" >0.000000</td>\n",
              "            </tr>\n",
              "            <tr>\n",
              "                        <th id=\"T_9221e_level0_row5\" class=\"row_heading level0 row5\" >Star type</th>\n",
              "                        <td id=\"T_9221e_row5_col0\" class=\"data row5 col0\" >0.000000</td>\n",
              "            </tr>\n",
              "            <tr>\n",
              "                        <th id=\"T_9221e_level0_row6\" class=\"row_heading level0 row6\" >Star color</th>\n",
              "                        <td id=\"T_9221e_row6_col0\" class=\"data row6 col0\" >0.000000</td>\n",
              "            </tr>\n",
              "    </tbody></table>"
            ],
            "text/plain": [
              "<pandas.io.formats.style.Styler at 0x7f0ea7574940>"
            ]
          },
          "execution_count": 4,
          "metadata": {},
          "output_type": "execute_result"
        }
      ],
      "source": [
        "#Проверим число пропусков в столбцах\n",
        "pd.DataFrame(round(df.isna().mean()*100,)).style.background_gradient('coolwarm')"
      ]
    },
    {
      "cell_type": "code",
      "execution_count": null,
      "id": "b6850821",
      "metadata": {
        "id": "b6850821",
        "outputId": "eb358b84-b78a-406c-b3f5-8cb108118414"
      },
      "outputs": [
        {
          "name": "stdout",
          "output_type": "stream",
          "text": [
            "<class 'pandas.core.frame.DataFrame'>\n",
            "RangeIndex: 240 entries, 0 to 239\n",
            "Data columns (total 7 columns):\n",
            " #   Column                  Non-Null Count  Dtype  \n",
            "---  ------                  --------------  -----  \n",
            " 0   Unnamed: 0              240 non-null    int64  \n",
            " 1   Temperature (K)         240 non-null    int64  \n",
            " 2   Luminosity(L/Lo)        240 non-null    float64\n",
            " 3   Radius(R/Ro)            240 non-null    float64\n",
            " 4   Absolute magnitude(Mv)  240 non-null    float64\n",
            " 5   Star type               240 non-null    int64  \n",
            " 6   Star color              240 non-null    object \n",
            "dtypes: float64(3), int64(3), object(1)\n",
            "memory usage: 13.2+ KB\n"
          ]
        }
      ],
      "source": [
        "#Проверим типы данных в столбцах\n",
        "df.info()"
      ]
    },
    {
      "cell_type": "code",
      "execution_count": null,
      "id": "65c9fb91",
      "metadata": {
        "id": "65c9fb91",
        "outputId": "d66227f6-77ab-408c-83e1-e863c0aea5a7"
      },
      "outputs": [
        {
          "data": {
            "text/html": [
              "<div>\n",
              "<style scoped>\n",
              "    .dataframe tbody tr th:only-of-type {\n",
              "        vertical-align: middle;\n",
              "    }\n",
              "\n",
              "    .dataframe tbody tr th {\n",
              "        vertical-align: top;\n",
              "    }\n",
              "\n",
              "    .dataframe thead th {\n",
              "        text-align: right;\n",
              "    }\n",
              "</style>\n",
              "<table border=\"1\" class=\"dataframe\">\n",
              "  <thead>\n",
              "    <tr style=\"text-align: right;\">\n",
              "      <th></th>\n",
              "      <th>Unnamed: 0</th>\n",
              "      <th>Temperature (K)</th>\n",
              "      <th>Luminosity(L/Lo)</th>\n",
              "      <th>Radius(R/Ro)</th>\n",
              "      <th>Absolute magnitude(Mv)</th>\n",
              "      <th>Star type</th>\n",
              "    </tr>\n",
              "  </thead>\n",
              "  <tbody>\n",
              "    <tr>\n",
              "      <th>count</th>\n",
              "      <td>240.00000</td>\n",
              "      <td>240.000000</td>\n",
              "      <td>240.000000</td>\n",
              "      <td>240.000000</td>\n",
              "      <td>240.000000</td>\n",
              "      <td>240.000000</td>\n",
              "    </tr>\n",
              "    <tr>\n",
              "      <th>mean</th>\n",
              "      <td>119.50000</td>\n",
              "      <td>10497.462500</td>\n",
              "      <td>107188.361635</td>\n",
              "      <td>237.157781</td>\n",
              "      <td>4.382396</td>\n",
              "      <td>2.500000</td>\n",
              "    </tr>\n",
              "    <tr>\n",
              "      <th>std</th>\n",
              "      <td>69.42622</td>\n",
              "      <td>9552.425037</td>\n",
              "      <td>179432.244940</td>\n",
              "      <td>517.155763</td>\n",
              "      <td>10.532512</td>\n",
              "      <td>1.711394</td>\n",
              "    </tr>\n",
              "    <tr>\n",
              "      <th>min</th>\n",
              "      <td>0.00000</td>\n",
              "      <td>1939.000000</td>\n",
              "      <td>0.000080</td>\n",
              "      <td>0.008400</td>\n",
              "      <td>-11.920000</td>\n",
              "      <td>0.000000</td>\n",
              "    </tr>\n",
              "    <tr>\n",
              "      <th>25%</th>\n",
              "      <td>59.75000</td>\n",
              "      <td>3344.250000</td>\n",
              "      <td>0.000865</td>\n",
              "      <td>0.102750</td>\n",
              "      <td>-6.232500</td>\n",
              "      <td>1.000000</td>\n",
              "    </tr>\n",
              "    <tr>\n",
              "      <th>50%</th>\n",
              "      <td>119.50000</td>\n",
              "      <td>5776.000000</td>\n",
              "      <td>0.070500</td>\n",
              "      <td>0.762500</td>\n",
              "      <td>8.313000</td>\n",
              "      <td>2.500000</td>\n",
              "    </tr>\n",
              "    <tr>\n",
              "      <th>75%</th>\n",
              "      <td>179.25000</td>\n",
              "      <td>15055.500000</td>\n",
              "      <td>198050.000000</td>\n",
              "      <td>42.750000</td>\n",
              "      <td>13.697500</td>\n",
              "      <td>4.000000</td>\n",
              "    </tr>\n",
              "    <tr>\n",
              "      <th>max</th>\n",
              "      <td>239.00000</td>\n",
              "      <td>40000.000000</td>\n",
              "      <td>849420.000000</td>\n",
              "      <td>1948.500000</td>\n",
              "      <td>20.060000</td>\n",
              "      <td>5.000000</td>\n",
              "    </tr>\n",
              "  </tbody>\n",
              "</table>\n",
              "</div>"
            ],
            "text/plain": [
              "       Unnamed: 0  Temperature (K)  Luminosity(L/Lo)  Radius(R/Ro)  \\\n",
              "count   240.00000       240.000000        240.000000    240.000000   \n",
              "mean    119.50000     10497.462500     107188.361635    237.157781   \n",
              "std      69.42622      9552.425037     179432.244940    517.155763   \n",
              "min       0.00000      1939.000000          0.000080      0.008400   \n",
              "25%      59.75000      3344.250000          0.000865      0.102750   \n",
              "50%     119.50000      5776.000000          0.070500      0.762500   \n",
              "75%     179.25000     15055.500000     198050.000000     42.750000   \n",
              "max     239.00000     40000.000000     849420.000000   1948.500000   \n",
              "\n",
              "       Absolute magnitude(Mv)   Star type  \n",
              "count              240.000000  240.000000  \n",
              "mean                 4.382396    2.500000  \n",
              "std                 10.532512    1.711394  \n",
              "min                -11.920000    0.000000  \n",
              "25%                 -6.232500    1.000000  \n",
              "50%                  8.313000    2.500000  \n",
              "75%                 13.697500    4.000000  \n",
              "max                 20.060000    5.000000  "
            ]
          },
          "execution_count": 6,
          "metadata": {},
          "output_type": "execute_result"
        }
      ],
      "source": [
        "#Изучим общюю информацию по распределению данных в таблице числовых данных\n",
        "df.describe()"
      ]
    },
    {
      "cell_type": "code",
      "execution_count": null,
      "id": "340e4175",
      "metadata": {
        "id": "340e4175",
        "outputId": "8b00165e-7112-4a7b-9a7a-e156c3e7b384"
      },
      "outputs": [
        {
          "name": "stdout",
          "output_type": "stream",
          "text": [
            "<class 'pandas.core.frame.DataFrame'>\n",
            "RangeIndex: 240 entries, 0 to 239\n",
            "Data columns (total 7 columns):\n",
            " #   Column                  Non-Null Count  Dtype  \n",
            "---  ------                  --------------  -----  \n",
            " 0   Unnamed: 0              240 non-null    int64  \n",
            " 1   Temperature (K)         240 non-null    int64  \n",
            " 2   Luminosity(L/Lo)        240 non-null    float64\n",
            " 3   Radius(R/Ro)            240 non-null    float64\n",
            " 4   Absolute magnitude(Mv)  240 non-null    float64\n",
            " 5   Star type               240 non-null    int64  \n",
            " 6   Star color              240 non-null    object \n",
            "dtypes: float64(3), int64(3), object(1)\n",
            "memory usage: 13.2+ KB\n"
          ]
        }
      ],
      "source": [
        "#Проверим типы данных в столбцах\n",
        "df.info()"
      ]
    },
    {
      "cell_type": "markdown",
      "id": "13ce1ef2",
      "metadata": {
        "id": "13ce1ef2"
      },
      "source": [
        "Изучим каждый признак более подробно"
      ]
    },
    {
      "cell_type": "code",
      "execution_count": null,
      "id": "b4c9228e",
      "metadata": {
        "id": "b4c9228e",
        "outputId": "a31efab0-24be-4d15-84ef-0536029ca94f"
      },
      "outputs": [
        {
          "data": {
            "text/plain": [
              "array(['Red', 'Blue White', 'White', 'Yellowish White', 'Blue white',\n",
              "       'Pale yellow orange', 'Blue', 'Blue-white', 'Whitish',\n",
              "       'yellow-white', 'Orange', 'White-Yellow', 'white', 'Blue ',\n",
              "       'yellowish', 'Yellowish', 'Orange-Red', 'Blue white ',\n",
              "       'Blue-White'], dtype=object)"
            ]
          },
          "execution_count": 8,
          "metadata": {},
          "output_type": "execute_result"
        }
      ],
      "source": [
        "df['Star color'].unique()"
      ]
    },
    {
      "cell_type": "code",
      "execution_count": null,
      "id": "4c4fdded",
      "metadata": {
        "id": "4c4fdded",
        "outputId": "ff98944a-db4f-475c-d5b9-eac43dda048d"
      },
      "outputs": [
        {
          "data": {
            "text/plain": [
              "Star type\n",
              "0    40\n",
              "1    40\n",
              "2    40\n",
              "3    40\n",
              "4    40\n",
              "5    40\n",
              "Name: Unnamed: 0, dtype: int64"
            ]
          },
          "execution_count": 9,
          "metadata": {},
          "output_type": "execute_result"
        }
      ],
      "source": [
        "df['Star type'].unique()\n",
        "df.groupby(['Star type']).agg('count')['Unnamed: 0']"
      ]
    },
    {
      "cell_type": "code",
      "execution_count": null,
      "id": "a82ba0c5",
      "metadata": {
        "id": "a82ba0c5"
      },
      "outputs": [],
      "source": [
        "# Создадим небольшую функцию для анализа данных в столбцах с числовыми значениями\n",
        "def draw_distribution(df, x, x_label, y_label, title, bins):\n",
        "    plt.figure(figsize=(12, 8))\n",
        "    sns.histplot(data=df, x=x, kde=True, bins=bins)\n",
        "    plt.title(title)\n",
        "    plt.xlabel(x_label)\n",
        "    plt.ylabel(y_label)\n",
        "    plt.show()\n",
        "\n",
        "    plt.figure(figsize=(12, 8))\n",
        "    sns.boxplot(data=df, x=x)\n",
        "    plt.title(title)\n",
        "    plt.xlabel(x_label)\n",
        "    plt.show()"
      ]
    },
    {
      "cell_type": "code",
      "execution_count": null,
      "id": "25d5c95e",
      "metadata": {
        "id": "25d5c95e",
        "outputId": "208386c1-9752-4fe1-b06c-3a3fb7152d28"
      },
      "outputs": [
        {
          "data": {
            "image/png": "[encoded data removed]",
            "text/plain": [
              "<Figure size 864x576 with 1 Axes>"
            ]
          },
          "metadata": {
            "needs_background": "light"
          },
          "output_type": "display_data"
        },
        {
          "data": {
            "image/png": "[encoded data removed]",
            "text/plain": [
              "<Figure size 864x576 with 1 Axes>"
            ]
          },
          "metadata": {
            "needs_background": "light"
          },
          "output_type": "display_data"
        }
      ],
      "source": [
        "draw_distribution(df, 'Temperature (K)', 'Температура', 'Кол-во записей', 'Распределение температуры звезд', 100)"
      ]
    },
    {
      "cell_type": "code",
      "execution_count": null,
      "id": "d94eabd0",
      "metadata": {
        "id": "d94eabd0",
        "outputId": "4e1e3ed8-0886-4118-92e6-7777cec150eb"
      },
      "outputs": [
        {
          "data": {
            "text/plain": [
              "8"
            ]
          },
          "execution_count": 12,
          "metadata": {},
          "output_type": "execute_result"
        }
      ],
      "source": [
        "df.loc[df['Temperature (K)'] > 34000].count()['Temperature (K)']"
      ]
    },
    {
      "cell_type": "code",
      "execution_count": null,
      "id": "43509441",
      "metadata": {
        "id": "43509441",
        "outputId": "34288bb6-d542-44ed-88a6-e4a683d5bfac"
      },
      "outputs": [
        {
          "data": {
            "image/png": "[encoded data removed]",
            "text/plain": [
              "<Figure size 864x576 with 1 Axes>"
            ]
          },
          "metadata": {
            "needs_background": "light"
          },
          "output_type": "display_data"
        },
        {
          "data": {
            "image/png": "[encoded data removed]",
            "text/plain": [
              "<Figure size 864x576 with 1 Axes>"
            ]
          },
          "metadata": {
            "needs_background": "light"
          },
          "output_type": "display_data"
        }
      ],
      "source": [
        "draw_distribution(df, 'Luminosity(L/Lo)', 'Светимость ', 'Кол-во записей', 'Светимость относительно солнца', 100)"
      ]
    },
    {
      "cell_type": "code",
      "execution_count": null,
      "id": "e496fee3",
      "metadata": {
        "id": "e496fee3",
        "outputId": "362ecabf-12e9-4769-9a03-fbdf8ce5ac7c"
      },
      "outputs": [
        {
          "data": {
            "text/plain": [
              "12"
            ]
          },
          "execution_count": 14,
          "metadata": {},
          "output_type": "execute_result"
        }
      ],
      "source": [
        "df.loc[df['Luminosity(L/Lo)'] > 460000].count()['Temperature (K)']"
      ]
    },
    {
      "cell_type": "code",
      "execution_count": null,
      "id": "eab3c231",
      "metadata": {
        "id": "eab3c231",
        "outputId": "5ec25570-f3be-40da-b073-f92551cb3baf"
      },
      "outputs": [
        {
          "data": {
            "image/png": "[encoded data removed]",
            "text/plain": [
              "<Figure size 864x576 with 1 Axes>"
            ]
          },
          "metadata": {
            "needs_background": "light"
          },
          "output_type": "display_data"
        },
        {
          "data": {
            "image/png": "[encoded data removed]",
            "text/plain": [
              "<Figure size 864x576 with 1 Axes>"
            ]
          },
          "metadata": {
            "needs_background": "light"
          },
          "output_type": "display_data"
        }
      ],
      "source": [
        "draw_distribution(df, 'Radius(R/Ro)', 'Радиус ', 'Кол-во записей', 'Радиус относительно солнца', 100)"
      ]
    },
    {
      "cell_type": "code",
      "execution_count": null,
      "id": "58f43c19",
      "metadata": {
        "id": "58f43c19",
        "outputId": "712a60c4-3dba-4e4a-d9e9-7c6276a205d4"
      },
      "outputs": [
        {
          "data": {
            "text/plain": [
              "40"
            ]
          },
          "execution_count": 16,
          "metadata": {},
          "output_type": "execute_result"
        }
      ],
      "source": [
        "df.loc[df['Radius(R/Ro)'] > 500].count()['Temperature (K)']"
      ]
    },
    {
      "cell_type": "code",
      "execution_count": null,
      "id": "03321724",
      "metadata": {
        "id": "03321724",
        "outputId": "4b486018-892a-4720-d39f-b74362b80e16"
      },
      "outputs": [
        {
          "data": {
            "image/png": "[encoded data removed]",
            "text/plain": [
              "<Figure size 864x576 with 1 Axes>"
            ]
          },
          "metadata": {
            "needs_background": "light"
          },
          "output_type": "display_data"
        },
        {
          "data": {
            "image/png": "[encoded data removed]",
            "text/plain": [
              "<Figure size 864x576 with 1 Axes>"
            ]
          },
          "metadata": {
            "needs_background": "light"
          },
          "output_type": "display_data"
        }
      ],
      "source": [
        "draw_distribution(df, 'Absolute magnitude(Mv)', 'Блеск ', 'Кол-во записей', 'Блеск звезды', 100)"
      ]
    },
    {
      "cell_type": "markdown",
      "id": "d955b06a",
      "metadata": {
        "id": "d955b06a"
      },
      "source": [
        "Выводы:\n",
        "\n",
        "1. В столбце Star color присутвует ряд неявных дубликатов- Blue white, Blue White, Blue-white, Blue white , Blue , Blue, Blue-White, White, white, yellowish, yellowish, yellow-white, White-Yellow\n",
        "2. Согласно столбцу 'Star type' нам дано ровно по 40 записей каждого из видов звезды\n",
        "3. В столбцах: Temperature (K) и 'Luminosity(L/Lo)' присутвует ряд выбросов, их довольно немного, удалим их. В столбце- 'Radius(R/Ro)' также присутвует ряд выбросов, однако их мы не будем удалять из-за довольно большого их колличества, а также поскольку нам досконально неизвестна их природа, есть риск потери важных данных."
      ]
    },
    {
      "cell_type": "markdown",
      "id": "8475b174",
      "metadata": {
        "id": "8475b174"
      },
      "source": [
        "## Предобработка данных"
      ]
    },
    {
      "cell_type": "code",
      "execution_count": null,
      "id": "f9876ed5",
      "metadata": {
        "id": "f9876ed5"
      },
      "outputs": [],
      "source": [
        "# заменим наименования столбцов для удобства\n",
        "df = df.rename(columns={'Temperature (K)': 'Temperature',\n",
        "                        'Luminosity(L/Lo)': 'Luminosity',\n",
        "                        'Radius(R/Ro)': 'Radius',\n",
        "                        'Absolute magnitude(Mv)': 'Absolute_magnitude',\n",
        "                        'Star type': 'Star_type',\n",
        "                        'Star color': 'Star_color'})"
      ]
    },
    {
      "cell_type": "code",
      "execution_count": null,
      "id": "8e43f3f6",
      "metadata": {
        "id": "8e43f3f6"
      },
      "outputs": [],
      "source": [
        "# Столбец 'Unnamed: 0' уберем как лишний, он по сути дублирует столбец с индексами и не нужен нам\n",
        "df = df.drop(['Unnamed: 0'], axis=1)"
      ]
    },
    {
      "cell_type": "code",
      "execution_count": null,
      "id": "0cfc730f",
      "metadata": {
        "id": "0cfc730f",
        "outputId": "39df8349-48b4-4474-ba3b-3d186e1d3653"
      },
      "outputs": [
        {
          "data": {
            "text/plain": [
              "Star_color\n",
              "blue                   56\n",
              "blue white             41\n",
              "orange                  2\n",
              "orange-red              1\n",
              "pale yellow orange      1\n",
              "red                   112\n",
              "white                  10\n",
              "white yellow            9\n",
              "whitish                 2\n",
              "yellowish               3\n",
              "yellowish white         3\n",
              "Name: Luminosity, dtype: int64"
            ]
          },
          "execution_count": 20,
          "metadata": {},
          "output_type": "execute_result"
        }
      ],
      "source": [
        "#Заменим неявные дубликаты, выявленные на предыдущем шаге\n",
        "df['Star_color'] = df['Star_color'].str.lower()\n",
        "df['Star_color'] = df['Star_color'].str.strip()\n",
        "df['Star_color'] = df['Star_color'].replace(['yellow-white'],'white yellow')\n",
        "df['Star_color'] = df['Star_color'].replace(['white-yellow'],'white yellow')\n",
        "df['Star_color'] = df['Star_color'].replace(['blue-white'],'blue white')\n",
        "df.groupby(['Star_color']).agg('count')['Luminosity']"
      ]
    },
    {
      "cell_type": "code",
      "execution_count": null,
      "id": "dce180be",
      "metadata": {
        "id": "dce180be",
        "outputId": "5ca9e1ae-ddd8-4538-95d6-3a42cbca2617"
      },
      "outputs": [
        {
          "data": {
            "text/plain": [
              "Star_color\n",
              "blue             56\n",
              "blue white       41\n",
              "red             116\n",
              "white            12\n",
              "white yellow     15\n",
              "Name: Luminosity, dtype: int64"
            ]
          },
          "execution_count": 21,
          "metadata": {},
          "output_type": "execute_result"
        }
      ],
      "source": [
        "#Объеденим значения из столбца Star_color по которым у нас есть не более 2-3 значений с другими признаками\n",
        "df['Star_color'] = df['Star_color'].replace(['yellowish white'],'white yellow')\n",
        "df['Star_color'] = df['Star_color'].replace(['whitish'],'white')\n",
        "df['Star_color'] = df['Star_color'].replace(['orange-red'],'red')\n",
        "df['Star_color'] = df['Star_color'].replace(['pale yellow orange'],'red')\n",
        "df['Star_color'] = df['Star_color'].replace(['yellowish'],'white yellow')\n",
        "df['Star_color'] = df['Star_color'].replace(['orange'],'red')\n",
        "df.groupby(['Star_color']).agg('count')['Luminosity']"
      ]
    },
    {
      "cell_type": "code",
      "execution_count": null,
      "id": "3b860843",
      "metadata": {
        "id": "3b860843",
        "outputId": "6810775c-db69-4c3c-dfb8-2be1f1eb562f"
      },
      "outputs": [
        {
          "name": "stdout",
          "output_type": "stream",
          "text": [
            "Колличество аномальных значений по признаку - Temperature (K) составляет: 3 %\n",
            "Колличество аномальных значений по признаку - Luminosity(L/Lo) составляет: 5 %\n"
          ]
        }
      ],
      "source": [
        "print('Колличество аномальных значений по признаку - Temperature (K) составляет:',\n",
        "      round(df[df['Temperature'] > 34000].shape[0] / df.shape[0] * 100),'%')\n",
        "print('Колличество аномальных значений по признаку - Luminosity(L/Lo) составляет:',\n",
        "      round(df[df['Luminosity'] > 460000].shape[0] / df.shape[0] * 100),'%')"
      ]
    },
    {
      "cell_type": "code",
      "execution_count": null,
      "id": "df5ca077",
      "metadata": {
        "id": "df5ca077",
        "outputId": "686c9088-99ea-48dd-d3f7-31b5fc32bee8"
      },
      "outputs": [
        {
          "data": {
            "text/html": [
              "<div>\n",
              "<style scoped>\n",
              "    .dataframe tbody tr th:only-of-type {\n",
              "        vertical-align: middle;\n",
              "    }\n",
              "\n",
              "    .dataframe tbody tr th {\n",
              "        vertical-align: top;\n",
              "    }\n",
              "\n",
              "    .dataframe thead th {\n",
              "        text-align: right;\n",
              "    }\n",
              "</style>\n",
              "<table border=\"1\" class=\"dataframe\">\n",
              "  <thead>\n",
              "    <tr style=\"text-align: right;\">\n",
              "      <th></th>\n",
              "      <th>Temperature</th>\n",
              "      <th>Luminosity</th>\n",
              "      <th>Radius</th>\n",
              "      <th>Absolute_magnitude</th>\n",
              "      <th>Star_type</th>\n",
              "    </tr>\n",
              "  </thead>\n",
              "  <tbody>\n",
              "    <tr>\n",
              "      <th>count</th>\n",
              "      <td>221.000000</td>\n",
              "      <td>221.000000</td>\n",
              "      <td>221.000000</td>\n",
              "      <td>221.000000</td>\n",
              "      <td>221.000000</td>\n",
              "    </tr>\n",
              "    <tr>\n",
              "      <th>mean</th>\n",
              "      <td>9146.610860</td>\n",
              "      <td>71061.171006</td>\n",
              "      <td>190.888315</td>\n",
              "      <td>5.406208</td>\n",
              "      <td>2.343891</td>\n",
              "    </tr>\n",
              "    <tr>\n",
              "      <th>std</th>\n",
              "      <td>7898.627419</td>\n",
              "      <td>116951.387440</td>\n",
              "      <td>466.857719</td>\n",
              "      <td>10.335936</td>\n",
              "      <td>1.678560</td>\n",
              "    </tr>\n",
              "    <tr>\n",
              "      <th>min</th>\n",
              "      <td>1939.000000</td>\n",
              "      <td>0.000080</td>\n",
              "      <td>0.008400</td>\n",
              "      <td>-11.920000</td>\n",
              "      <td>0.000000</td>\n",
              "    </tr>\n",
              "    <tr>\n",
              "      <th>25%</th>\n",
              "      <td>3324.000000</td>\n",
              "      <td>0.000760</td>\n",
              "      <td>0.097600</td>\n",
              "      <td>-5.920000</td>\n",
              "      <td>1.000000</td>\n",
              "    </tr>\n",
              "    <tr>\n",
              "      <th>50%</th>\n",
              "      <td>4015.000000</td>\n",
              "      <td>0.008100</td>\n",
              "      <td>0.460000</td>\n",
              "      <td>10.870000</td>\n",
              "      <td>2.000000</td>\n",
              "    </tr>\n",
              "    <tr>\n",
              "      <th>75%</th>\n",
              "      <td>13089.000000</td>\n",
              "      <td>142000.000000</td>\n",
              "      <td>29.000000</td>\n",
              "      <td>14.080000</td>\n",
              "      <td>4.000000</td>\n",
              "    </tr>\n",
              "    <tr>\n",
              "      <th>max</th>\n",
              "      <td>33750.000000</td>\n",
              "      <td>452000.000000</td>\n",
              "      <td>1779.000000</td>\n",
              "      <td>20.060000</td>\n",
              "      <td>5.000000</td>\n",
              "    </tr>\n",
              "  </tbody>\n",
              "</table>\n",
              "</div>"
            ],
            "text/plain": [
              "        Temperature     Luminosity       Radius  Absolute_magnitude  \\\n",
              "count    221.000000     221.000000   221.000000          221.000000   \n",
              "mean    9146.610860   71061.171006   190.888315            5.406208   \n",
              "std     7898.627419  116951.387440   466.857719           10.335936   \n",
              "min     1939.000000       0.000080     0.008400          -11.920000   \n",
              "25%     3324.000000       0.000760     0.097600           -5.920000   \n",
              "50%     4015.000000       0.008100     0.460000           10.870000   \n",
              "75%    13089.000000  142000.000000    29.000000           14.080000   \n",
              "max    33750.000000  452000.000000  1779.000000           20.060000   \n",
              "\n",
              "        Star_type  \n",
              "count  221.000000  \n",
              "mean     2.343891  \n",
              "std      1.678560  \n",
              "min      0.000000  \n",
              "25%      1.000000  \n",
              "50%      2.000000  \n",
              "75%      4.000000  \n",
              "max      5.000000  "
            ]
          },
          "execution_count": 23,
          "metadata": {},
          "output_type": "execute_result"
        }
      ],
      "source": [
        "df = df.loc[df['Temperature'] < 34000]\n",
        "df = df.loc[df['Luminosity'] < 460000]\n",
        "df.describe()"
      ]
    },
    {
      "cell_type": "markdown",
      "id": "funded-electric",
      "metadata": {
        "id": "funded-electric"
      },
      "source": [
        "## Построение базовой нейронной сети"
      ]
    },
    {
      "cell_type": "code",
      "execution_count": null,
      "id": "forced-concentrate",
      "metadata": {
        "id": "forced-concentrate"
      },
      "outputs": [],
      "source": [
        "# Разделим выбоку на обучающую и тестовую, используем также и стратификацию выборки, из-за сильного дисбаланса в признаке- Star_color\n",
        "features = df.drop(['Temperature'], axis=1)\n",
        "target = df['Temperature']\n",
        "\n",
        "features_train, features_valid, target_train, target_valid = train_test_split(features, target, test_size=0.25, random_state=41, shuffle=True, stratify=df['Star_color'])"
      ]
    },
    {
      "cell_type": "code",
      "execution_count": null,
      "id": "3ca5313d",
      "metadata": {
        "scrolled": true,
        "id": "3ca5313d",
        "outputId": "98c8172b-1eda-42e3-e9e1-d2817c6e12bf"
      },
      "outputs": [
        {
          "data": {
            "text/html": [
              "<div>\n",
              "<style scoped>\n",
              "    .dataframe tbody tr th:only-of-type {\n",
              "        vertical-align: middle;\n",
              "    }\n",
              "\n",
              "    .dataframe tbody tr th {\n",
              "        vertical-align: top;\n",
              "    }\n",
              "\n",
              "    .dataframe thead th {\n",
              "        text-align: right;\n",
              "    }\n",
              "</style>\n",
              "<table border=\"1\" class=\"dataframe\">\n",
              "  <thead>\n",
              "    <tr style=\"text-align: right;\">\n",
              "      <th></th>\n",
              "      <th>Radius</th>\n",
              "      <th>Luminosity</th>\n",
              "      <th>Absolute_magnitude</th>\n",
              "      <th>x0_blue</th>\n",
              "      <th>x0_blue white</th>\n",
              "      <th>x0_red</th>\n",
              "      <th>x0_white</th>\n",
              "      <th>x0_white yellow</th>\n",
              "      <th>x1_0</th>\n",
              "      <th>x1_1</th>\n",
              "      <th>x1_2</th>\n",
              "      <th>x1_3</th>\n",
              "      <th>x1_4</th>\n",
              "      <th>x1_5</th>\n",
              "    </tr>\n",
              "  </thead>\n",
              "  <tbody>\n",
              "    <tr>\n",
              "      <th>0</th>\n",
              "      <td>-0.351755</td>\n",
              "      <td>0.916043</td>\n",
              "      <td>-1.074819</td>\n",
              "      <td>1.0</td>\n",
              "      <td>0.0</td>\n",
              "      <td>0.0</td>\n",
              "      <td>0.0</td>\n",
              "      <td>0.0</td>\n",
              "      <td>0.0</td>\n",
              "      <td>0.0</td>\n",
              "      <td>0.0</td>\n",
              "      <td>0.0</td>\n",
              "      <td>1.0</td>\n",
              "      <td>0.0</td>\n",
              "    </tr>\n",
              "    <tr>\n",
              "      <th>1</th>\n",
              "      <td>-0.427011</td>\n",
              "      <td>-0.638960</td>\n",
              "      <td>1.065741</td>\n",
              "      <td>0.0</td>\n",
              "      <td>0.0</td>\n",
              "      <td>1.0</td>\n",
              "      <td>0.0</td>\n",
              "      <td>0.0</td>\n",
              "      <td>1.0</td>\n",
              "      <td>0.0</td>\n",
              "      <td>0.0</td>\n",
              "      <td>0.0</td>\n",
              "      <td>0.0</td>\n",
              "      <td>0.0</td>\n",
              "    </tr>\n",
              "    <tr>\n",
              "      <th>2</th>\n",
              "      <td>-0.414590</td>\n",
              "      <td>0.949848</td>\n",
              "      <td>-0.852461</td>\n",
              "      <td>0.0</td>\n",
              "      <td>1.0</td>\n",
              "      <td>0.0</td>\n",
              "      <td>0.0</td>\n",
              "      <td>0.0</td>\n",
              "      <td>0.0</td>\n",
              "      <td>0.0</td>\n",
              "      <td>0.0</td>\n",
              "      <td>1.0</td>\n",
              "      <td>0.0</td>\n",
              "      <td>0.0</td>\n",
              "    </tr>\n",
              "    <tr>\n",
              "      <th>3</th>\n",
              "      <td>-0.353851</td>\n",
              "      <td>1.425561</td>\n",
              "      <td>-1.068139</td>\n",
              "      <td>1.0</td>\n",
              "      <td>0.0</td>\n",
              "      <td>0.0</td>\n",
              "      <td>0.0</td>\n",
              "      <td>0.0</td>\n",
              "      <td>0.0</td>\n",
              "      <td>0.0</td>\n",
              "      <td>0.0</td>\n",
              "      <td>0.0</td>\n",
              "      <td>1.0</td>\n",
              "      <td>0.0</td>\n",
              "    </tr>\n",
              "    <tr>\n",
              "      <th>4</th>\n",
              "      <td>-0.421995</td>\n",
              "      <td>-0.638639</td>\n",
              "      <td>-0.458323</td>\n",
              "      <td>0.0</td>\n",
              "      <td>1.0</td>\n",
              "      <td>0.0</td>\n",
              "      <td>0.0</td>\n",
              "      <td>0.0</td>\n",
              "      <td>0.0</td>\n",
              "      <td>0.0</td>\n",
              "      <td>0.0</td>\n",
              "      <td>1.0</td>\n",
              "      <td>0.0</td>\n",
              "      <td>0.0</td>\n",
              "    </tr>\n",
              "    <tr>\n",
              "      <th>...</th>\n",
              "      <td>...</td>\n",
              "      <td>...</td>\n",
              "      <td>...</td>\n",
              "      <td>...</td>\n",
              "      <td>...</td>\n",
              "      <td>...</td>\n",
              "      <td>...</td>\n",
              "      <td>...</td>\n",
              "      <td>...</td>\n",
              "      <td>...</td>\n",
              "      <td>...</td>\n",
              "      <td>...</td>\n",
              "      <td>...</td>\n",
              "      <td>...</td>\n",
              "    </tr>\n",
              "    <tr>\n",
              "      <th>160</th>\n",
              "      <td>1.574379</td>\n",
              "      <td>1.127321</td>\n",
              "      <td>-1.542440</td>\n",
              "      <td>0.0</td>\n",
              "      <td>0.0</td>\n",
              "      <td>1.0</td>\n",
              "      <td>0.0</td>\n",
              "      <td>0.0</td>\n",
              "      <td>0.0</td>\n",
              "      <td>0.0</td>\n",
              "      <td>0.0</td>\n",
              "      <td>0.0</td>\n",
              "      <td>0.0</td>\n",
              "      <td>1.0</td>\n",
              "    </tr>\n",
              "    <tr>\n",
              "      <th>161</th>\n",
              "      <td>-0.376906</td>\n",
              "      <td>2.948703</td>\n",
              "      <td>-1.041418</td>\n",
              "      <td>1.0</td>\n",
              "      <td>0.0</td>\n",
              "      <td>0.0</td>\n",
              "      <td>0.0</td>\n",
              "      <td>0.0</td>\n",
              "      <td>0.0</td>\n",
              "      <td>0.0</td>\n",
              "      <td>0.0</td>\n",
              "      <td>0.0</td>\n",
              "      <td>1.0</td>\n",
              "      <td>0.0</td>\n",
              "    </tr>\n",
              "    <tr>\n",
              "      <th>162</th>\n",
              "      <td>-0.427004</td>\n",
              "      <td>-0.638960</td>\n",
              "      <td>1.145905</td>\n",
              "      <td>0.0</td>\n",
              "      <td>0.0</td>\n",
              "      <td>1.0</td>\n",
              "      <td>0.0</td>\n",
              "      <td>0.0</td>\n",
              "      <td>1.0</td>\n",
              "      <td>0.0</td>\n",
              "      <td>0.0</td>\n",
              "      <td>0.0</td>\n",
              "      <td>0.0</td>\n",
              "      <td>0.0</td>\n",
              "    </tr>\n",
              "    <tr>\n",
              "      <th>163</th>\n",
              "      <td>-0.423205</td>\n",
              "      <td>-0.638715</td>\n",
              "      <td>-0.351819</td>\n",
              "      <td>0.0</td>\n",
              "      <td>1.0</td>\n",
              "      <td>0.0</td>\n",
              "      <td>0.0</td>\n",
              "      <td>0.0</td>\n",
              "      <td>0.0</td>\n",
              "      <td>0.0</td>\n",
              "      <td>0.0</td>\n",
              "      <td>1.0</td>\n",
              "      <td>0.0</td>\n",
              "      <td>0.0</td>\n",
              "    </tr>\n",
              "    <tr>\n",
              "      <th>164</th>\n",
              "      <td>1.058577</td>\n",
              "      <td>0.375173</td>\n",
              "      <td>-1.217969</td>\n",
              "      <td>0.0</td>\n",
              "      <td>1.0</td>\n",
              "      <td>0.0</td>\n",
              "      <td>0.0</td>\n",
              "      <td>0.0</td>\n",
              "      <td>0.0</td>\n",
              "      <td>0.0</td>\n",
              "      <td>0.0</td>\n",
              "      <td>0.0</td>\n",
              "      <td>0.0</td>\n",
              "      <td>1.0</td>\n",
              "    </tr>\n",
              "  </tbody>\n",
              "</table>\n",
              "<p>165 rows × 14 columns</p>\n",
              "</div>"
            ],
            "text/plain": [
              "       Radius  Luminosity  Absolute_magnitude  x0_blue  x0_blue white  x0_red  \\\n",
              "0   -0.351755    0.916043           -1.074819      1.0            0.0     0.0   \n",
              "1   -0.427011   -0.638960            1.065741      0.0            0.0     1.0   \n",
              "2   -0.414590    0.949848           -0.852461      0.0            1.0     0.0   \n",
              "3   -0.353851    1.425561           -1.068139      1.0            0.0     0.0   \n",
              "4   -0.421995   -0.638639           -0.458323      0.0            1.0     0.0   \n",
              "..        ...         ...                 ...      ...            ...     ...   \n",
              "160  1.574379    1.127321           -1.542440      0.0            0.0     1.0   \n",
              "161 -0.376906    2.948703           -1.041418      1.0            0.0     0.0   \n",
              "162 -0.427004   -0.638960            1.145905      0.0            0.0     1.0   \n",
              "163 -0.423205   -0.638715           -0.351819      0.0            1.0     0.0   \n",
              "164  1.058577    0.375173           -1.217969      0.0            1.0     0.0   \n",
              "\n",
              "     x0_white  x0_white yellow  x1_0  x1_1  x1_2  x1_3  x1_4  x1_5  \n",
              "0         0.0              0.0   0.0   0.0   0.0   0.0   1.0   0.0  \n",
              "1         0.0              0.0   1.0   0.0   0.0   0.0   0.0   0.0  \n",
              "2         0.0              0.0   0.0   0.0   0.0   1.0   0.0   0.0  \n",
              "3         0.0              0.0   0.0   0.0   0.0   0.0   1.0   0.0  \n",
              "4         0.0              0.0   0.0   0.0   0.0   1.0   0.0   0.0  \n",
              "..        ...              ...   ...   ...   ...   ...   ...   ...  \n",
              "160       0.0              0.0   0.0   0.0   0.0   0.0   0.0   1.0  \n",
              "161       0.0              0.0   0.0   0.0   0.0   0.0   1.0   0.0  \n",
              "162       0.0              0.0   1.0   0.0   0.0   0.0   0.0   0.0  \n",
              "163       0.0              0.0   0.0   0.0   0.0   1.0   0.0   0.0  \n",
              "164       0.0              0.0   0.0   0.0   0.0   0.0   0.0   1.0  \n",
              "\n",
              "[165 rows x 14 columns]"
            ]
          },
          "execution_count": 25,
          "metadata": {},
          "output_type": "execute_result"
        }
      ],
      "source": [
        "# Проведем категоризацию категориальных и масштабирование признаков\n",
        "var_categorical = ['Star_color', 'Star_type']\n",
        "var_numeric = ['Radius', 'Luminosity', 'Absolute_magnitude', ]\n",
        "\n",
        "encoder = OneHotEncoder(handle_unknown='ignore')\n",
        "\n",
        "features_train_ohe = pd.DataFrame(\n",
        "        encoder.fit_transform(features_train[var_categorical]).toarray(),\n",
        "        columns=encoder.get_feature_names()\n",
        ")\n",
        "\n",
        "\n",
        "features_valid_ohe = pd.DataFrame(\n",
        "        encoder.transform(features_valid[var_categorical]).toarray(),\n",
        "        columns=encoder.get_feature_names()\n",
        ")\n",
        "\n",
        "\n",
        "scaler = StandardScaler()\n",
        "\n",
        "features_train_numeric= pd.DataFrame(\n",
        "        scaler.fit_transform(features_train[var_numeric]),\n",
        "        columns=var_numeric\n",
        "   )\n",
        "\n",
        "features_valid_numeric= pd.DataFrame(\n",
        "        scaler.transform(features_valid[var_numeric]),\n",
        "        columns=var_numeric\n",
        "   )\n",
        "\n",
        "\n",
        "\n",
        "features_train = features_train_numeric.join(features_train_ohe)\n",
        "features_valid = features_valid_numeric.join(features_valid_ohe)\n",
        "\n",
        "\n",
        "features_train"
      ]
    },
    {
      "cell_type": "code",
      "execution_count": null,
      "id": "c30f78e9",
      "metadata": {
        "id": "c30f78e9"
      },
      "outputs": [],
      "source": [
        "X_train = torch.FloatTensor(features_train.values)\n",
        "X_test = torch.FloatTensor(features_valid.values)\n",
        "y_train = torch.FloatTensor(target_train.values)\n",
        "y_test = torch.FloatTensor(target_valid.values)"
      ]
    },
    {
      "cell_type": "code",
      "execution_count": null,
      "id": "323640a5",
      "metadata": {
        "id": "323640a5",
        "outputId": "fddf20ee-fbc5-4dad-d95f-895ec9590501"
      },
      "outputs": [
        {
          "data": {
            "text/plain": [
              "56"
            ]
          },
          "execution_count": 27,
          "metadata": {},
          "output_type": "execute_result"
        }
      ],
      "source": [
        "len(X_train)\n",
        "len(y_test)"
      ]
    },
    {
      "cell_type": "code",
      "execution_count": null,
      "id": "4080249b",
      "metadata": {
        "id": "4080249b",
        "outputId": "862d2503-8b4e-435b-cd10-1bfeac27871a"
      },
      "outputs": [
        {
          "name": "stdout",
          "output_type": "stream",
          "text": [
            "12679.528\n",
            "12669.555\n",
            "12645.959\n",
            "12599.01\n",
            "12514.556\n",
            "12374.35\n",
            "12156.969\n",
            "11840.23\n",
            "11405.78\n",
            "10845.571\n",
            "10171.427\n",
            "9421.416\n",
            "8649.931\n",
            "7921.141\n",
            "7309.8203\n",
            "6861.4634\n",
            "6569.0376\n",
            "6389.1035\n",
            "6273.061\n",
            "6186.9897\n",
            "6111.2373\n",
            "6037.4565\n",
            "5963.3564\n",
            "5890.1084\n",
            "5818.31\n",
            "5748.8574\n",
            "5681.967\n",
            "5617.518\n",
            "5555.5654\n",
            "5496.233\n",
            "5438.7793\n",
            "5383.242\n",
            "5329.983\n",
            "5279.1665\n",
            "5230.246\n",
            "5183.3374\n",
            "5138.055\n",
            "5094.5977\n",
            "5052.4893\n",
            "5011.241\n",
            "4971.4336\n",
            "4933.7603\n",
            "4897.7544\n",
            "4862.9565\n",
            "4828.95\n",
            "4796.261\n",
            "4764.9604\n",
            "4735.2627\n",
            "4706.59\n",
            "4679.3794\n",
            "4653.489\n",
            "4628.7646\n",
            "4604.815\n",
            "4581.9746\n",
            "4559.723\n",
            "4538.353\n",
            "4518.847\n",
            "4499.95\n",
            "4481.93\n",
            "4464.8027\n",
            "4448.4136\n",
            "4432.8193\n",
            "4418.0156\n",
            "4404.0283\n",
            "4390.7534\n",
            "4377.636\n",
            "4364.783\n",
            "4352.771\n",
            "4341.201\n",
            "4330.036\n",
            "4317.9175\n",
            "4306.238\n",
            "4295.739\n",
            "4285.9487\n",
            "4276.6367\n",
            "4267.862\n",
            "4259.2188\n",
            "4250.82\n",
            "4242.7773\n",
            "4235.1826\n",
            "4227.903\n",
            "4220.6885\n",
            "4213.6714\n",
            "4207.079\n",
            "4200.629\n",
            "4194.3384\n",
            "4188.4546\n",
            "4182.6465\n",
            "4177.0635\n",
            "4171.5957\n",
            "4166.483\n",
            "4161.37\n",
            "4156.361\n",
            "4151.4106\n",
            "4146.652\n",
            "4141.8516\n",
            "4137.1646\n",
            "4132.4604\n",
            "4127.882\n",
            "4123.4917\n",
            "4119.1196\n",
            "4114.821\n",
            "4110.564\n",
            "4106.228\n",
            "4102.0913\n",
            "4097.6465\n",
            "4093.334\n",
            "4089.1682\n",
            "4084.8174\n",
            "4080.6628\n",
            "4076.2205\n",
            "4072.0374\n",
            "4067.7825\n",
            "4063.506\n",
            "4059.4202\n",
            "4055.0679\n",
            "4050.97\n",
            "4046.8384\n",
            "4042.2842\n",
            "4037.9788\n",
            "4033.6716\n",
            "4029.598\n",
            "4024.8564\n",
            "4020.8767\n",
            "4016.232\n",
            "4011.9294\n",
            "4007.7007\n",
            "4003.2698\n",
            "3998.9817\n",
            "3994.6\n",
            "3990.2444\n",
            "3985.9373\n",
            "3981.771\n",
            "3977.7446\n",
            "3973.6655\n",
            "3969.2742\n",
            "3965.2568\n",
            "3960.9753\n",
            "3956.6147\n",
            "3952.9634\n",
            "3949.9485\n",
            "3946.3723\n",
            "3941.5176\n",
            "3937.581\n",
            "3933.385\n",
            "3929.3372\n",
            "3925.3481\n",
            "3921.4734\n",
            "3917.7402\n",
            "3913.9543\n",
            "3910.274\n",
            "3906.5706\n",
            "3902.798\n",
            "3898.9192\n",
            "3895.1223\n",
            "3891.5166\n",
            "3887.8901\n",
            "3884.5674\n",
            "3880.7805\n",
            "3877.4587\n",
            "3874.27\n",
            "3870.816\n",
            "3867.9463\n",
            "3864.4822\n",
            "3861.0217\n",
            "3857.9392\n",
            "3854.9128\n",
            "3852.0642\n",
            "3849.1777\n",
            "3846.4336\n",
            "3843.6616\n",
            "3840.98\n",
            "3838.2761\n",
            "3835.5598\n",
            "3832.9238\n",
            "3830.1965\n",
            "3827.3972\n",
            "3825.401\n",
            "3822.7148\n",
            "3820.086\n",
            "3817.8618\n",
            "3815.386\n",
            "3812.962\n",
            "3810.7986\n",
            "3808.8547\n",
            "3806.5303\n",
            "3804.7568\n",
            "3802.7747\n",
            "3801.5261\n",
            "3800.323\n",
            "3798.7468\n",
            "3796.7607\n",
            "3794.7498\n",
            "3793.678\n",
            "3792.1873\n",
            "3790.857\n",
            "3789.8328\n",
            "3788.659\n",
            "3787.5627\n",
            "3786.8486\n",
            "3785.7275\n",
            "3784.393\n",
            "3783.097\n",
            "3782.1523\n",
            "3781.2898\n",
            "3780.1746\n",
            "3779.6133\n",
            "3778.994\n",
            "3778.05\n",
            "3777.3677\n",
            "3776.2324\n",
            "3775.432\n",
            "3774.7874\n",
            "3773.5332\n",
            "3772.839\n",
            "3771.4888\n",
            "3770.1497\n",
            "3768.9502\n",
            "3767.9993\n",
            "3766.8062\n",
            "3766.039\n",
            "3765.1423\n",
            "3764.0747\n",
            "3763.3784\n",
            "3762.5515\n",
            "3761.5908\n",
            "3760.1746\n",
            "3759.0637\n",
            "3758.15\n",
            "3757.1626\n",
            "3756.6475\n",
            "3755.9946\n",
            "3754.884\n",
            "3754.5037\n",
            "3753.5452\n",
            "3752.8655\n",
            "3752.4514\n",
            "3751.7961\n",
            "3750.999\n",
            "3750.6548\n",
            "3749.845\n",
            "3749.1875\n",
            "3748.7178\n",
            "3748.3098\n",
            "3747.9583\n",
            "3747.8381\n",
            "3747.471\n",
            "3746.9204\n",
            "3746.7307\n",
            "3746.7769\n",
            "3746.462\n",
            "3746.2078\n",
            "3746.2773\n",
            "3746.9204\n",
            "3747.7244\n",
            "3748.348\n",
            "3748.622\n",
            "3748.8108\n",
            "3748.9856\n",
            "3748.684\n",
            "3748.4602\n"
          ]
        }
      ],
      "source": [
        "# Гиперпараметры обучения:\n",
        "n_in_neurons = X_train.shape[1] # зададим количество нейронов\n",
        "n_hidden_neurons_1 = 600\n",
        "n_hidden_neurons_2 = 950\n",
        "n_out_neurons = 1\n",
        "num_epochs = 2600 # количество эпох\n",
        "batch_size = 100\n",
        "learning_rate = 0.01\n",
        "num_batches = ceil(len(X_train)/batch_size)\n",
        "\n",
        "\n",
        "class Net(nn.Module):\n",
        "    '''\n",
        "    Класс по созданию нейронной сети\n",
        "    '''\n",
        "    def __init__(self, n_features, n, n1, n_out):\n",
        "        super().__init__()\n",
        "        self.fc1 = torch.nn.Linear(n_features, n)\n",
        "        self.fc2 = nn.Linear(n, n1)\n",
        "        self.fc3 = nn.Linear(n1, n_out)\n",
        "        self.relu1 = nn.LeakyReLU()\n",
        "        self.relu2 = nn.LeakyReLU()\n",
        "        self.relu3 = nn.LeakyReLU(negative_slope=0.7)\n",
        "\n",
        "    def forward(self, batch):\n",
        "        batch = self.fc1(batch)\n",
        "        batch = self.relu1(batch)\n",
        "        batch = self.fc2(batch)\n",
        "        batch = self.relu2(batch)\n",
        "        batch = self.fc3(batch)\n",
        "\n",
        "        return self.relu3(batch)\n",
        "\n",
        "net = Net(n_in_neurons, n_hidden_neurons_1, n_hidden_neurons_2, n_out_neurons)\n",
        "\n",
        "optimizer = torch.optim.Adam(net.parameters(), lr=1e-3) # создаем Adam оптимизатор\n",
        "\n",
        "loss = nn.MSELoss(reduction='sum') # В качестве функции потерь используем MSE\n",
        "\n",
        "for epoch in range(num_epochs):\n",
        "    order = np.random.permutation(len(X_train))\n",
        "    for batch_idx in range(num_batches):\n",
        "        start_index = batch_idx * batch_size\n",
        "        optimizer.zero_grad()\n",
        "\n",
        "\n",
        "    batch_indexes = order[start_index:start_index+batch_size]\n",
        "    X_batch = X_train[batch_indexes]\n",
        "    y_batch = y_train[batch_indexes]\n",
        "\n",
        "    preds = net.forward(X_train).flatten()\n",
        "\n",
        "    loss_value = loss(preds, y_train)\n",
        "\n",
        "    loss_value.backward()\n",
        "\n",
        "    optimizer.step()\n",
        "\n",
        "    if epoch % 10 == 0 or epoch == num_epochs - 1:\n",
        "        net.eval()\n",
        "        test_preds = net.forward(X_test).flatten()\n",
        "        pred_temp = test_preds.detach().numpy()\n",
        "        rmse = mean_squared_error(y_test, pred_temp, squared=False)\n",
        "        print(rmse)"
      ]
    },
    {
      "cell_type": "code",
      "execution_count": null,
      "id": "ada66a94",
      "metadata": {
        "scrolled": true,
        "id": "ada66a94",
        "outputId": "2bb3a9ea-8981-440d-da36-e04cd12b4e68"
      },
      "outputs": [
        {
          "data": {
            "text/plain": [
              "<Figure size 4320x2880 with 0 Axes>"
            ]
          },
          "metadata": {},
          "output_type": "display_data"
        },
        {
          "data": {
            "image/png": "[encoded data removed]",
            "text/plain": [
              "<Figure size 4320x2880 with 1 Axes>"
            ]
          },
          "metadata": {
            "needs_background": "light"
          },
          "output_type": "display_data"
        }
      ],
      "source": [
        "fig = plt.figure()\n",
        "fig.set_size_inches(60, 40)\n",
        "\n",
        "fig,ax = plt.subplots()\n",
        "fig.set_size_inches(60,40)\n",
        "\n",
        "plt.rc('font', size=70) #controls default text size\n",
        "\n",
        "у1 = pred_temp\n",
        "y2 = y_test\n",
        "x = np.arange(len(у1))\n",
        "\n",
        "ax.set_xticks(x)\n",
        "fact = ax.bar(x, y2, width = 0.6, label = 'Факт')\n",
        "forecast = ax.bar(x, у1, width = 0.3, label = 'Прогноз')\n",
        "\n",
        "ax.set_ylabel('Температура звезды')\n",
        "ax.set_xlabel('Номер звезды в таблице')\n",
        "ax.set_title('Сооотношение факта к прогнозу')\n",
        "ax.legend(loc='lower left', title='Легенда')\n",
        "\n",
        "plt.show()"
      ]
    },
    {
      "cell_type": "markdown",
      "id": "25413d2b",
      "metadata": {
        "id": "25413d2b"
      },
      "source": [
        "Выводы:\n",
        "- Хорошо поднять метрику помогло повышение числа нейронов в скрытом слое, причем в сторону их увеличения, надо будет позже исследовать этот метод более подробно, чтобы понять как эффективно подбирать гиперпараметры для обучения модели\n",
        "- По качеству предсказаний, исходя из графика наибольшей точности модель достигает при предсказании небольших значений, с температурой до 5000 кельвинов, связано это скорее всего что именно эти данные представляют собой основную массу датасета, поэтому на них модель раотает лучше всего\n",
        "- При установке колличества эпох на 10 000 до определенного момента метрика падает, но затем начинает переобучаться и метрика наоборот начинает расти и по видимому нейросеть переобучается"
      ]
    },
    {
      "cell_type": "markdown",
      "id": "growing-supply",
      "metadata": {
        "id": "growing-supply"
      },
      "source": [
        "## Улучшение нейронной сети"
      ]
    },
    {
      "cell_type": "markdown",
      "id": "35eae9de",
      "metadata": {
        "id": "35eae9de"
      },
      "source": [
        "Проведем обучение нейронной сети с перебором гиперпараметров, за основу возьмем предыдущую нейронную сеть, в качестве параметров для перебора, используем следующие"
      ]
    },
    {
      "cell_type": "code",
      "execution_count": null,
      "id": "36ad648b",
      "metadata": {
        "id": "36ad648b",
        "outputId": "6c6bf09b-5bbf-4917-e8e3-4496999935d1"
      },
      "outputs": [
        {
          "name": "stdout",
          "output_type": "stream",
          "text": [
            "Requirement already satisfied: torch in /home/jovyan/.local/lib/python3.9/site-packages (1.10.0+cpu)\n",
            "Collecting skorch\n",
            "  Downloading skorch-0.15.0-py3-none-any.whl (239 kB)\n",
            "\u001b[K     |████████████████████████████████| 239 kB 1.0 MB/s eta 0:00:01\n",
            "\u001b[?25hRequirement already satisfied: scikit-learn in /opt/conda/lib/python3.9/site-packages (0.24.1)\n",
            "Requirement already satisfied: typing-extensions in /opt/conda/lib/python3.9/site-packages (from torch) (4.3.0)\n",
            "Requirement already satisfied: numpy>=1.13.3 in /opt/conda/lib/python3.9/site-packages (from skorch) (1.21.1)\n",
            "Requirement already satisfied: tqdm>=4.14.0 in /opt/conda/lib/python3.9/site-packages (from skorch) (4.61.2)\n",
            "Collecting tabulate>=0.7.7\n",
            "  Downloading tabulate-0.9.0-py3-none-any.whl (35 kB)\n",
            "Requirement already satisfied: scipy>=1.1.0 in /opt/conda/lib/python3.9/site-packages (from skorch) (1.9.1)\n",
            "Requirement already satisfied: joblib>=0.11 in /opt/conda/lib/python3.9/site-packages (from scikit-learn) (1.1.0)\n",
            "Requirement already satisfied: threadpoolctl>=2.0.0 in /opt/conda/lib/python3.9/site-packages (from scikit-learn) (3.1.0)\n",
            "Installing collected packages: tabulate, skorch\n",
            "Successfully installed skorch-0.15.0 tabulate-0.9.0\n",
            "Note: you may need to restart the kernel to use updated packages.\n"
          ]
        }
      ],
      "source": [
        "pip install torch skorch scikit-learn"
      ]
    },
    {
      "cell_type": "code",
      "execution_count": null,
      "id": "06e4b9ed",
      "metadata": {
        "id": "06e4b9ed"
      },
      "outputs": [],
      "source": [
        "# Создадим свой собственный оценьщик для проверки метрики RMSE по результатам работы модели\n",
        "rmse = make_scorer(mean_squared_error,greater_is_better=False, squared=False)"
      ]
    },
    {
      "cell_type": "code",
      "execution_count": null,
      "id": "ca1a2d23",
      "metadata": {
        "id": "ca1a2d23",
        "outputId": "045eb799-0160-4b33-f76e-afc0c267a200"
      },
      "outputs": [
        {
          "name": "stdout",
          "output_type": "stream",
          "text": [
            "Fitting 3 folds for each of 40 candidates, totalling 120 fits\n",
            "-6266.349284 (1218.531212) with: {'batch_size': 20, 'module__dropout_rate': 0.0}\n",
            "-4739.418620 (782.583828) with: {'batch_size': 20, 'module__dropout_rate': 0.2}\n",
            "-4676.567952 (974.600274) with: {'batch_size': 20, 'module__dropout_rate': 0.4}\n",
            "-4329.153483 (851.095210) with: {'batch_size': 20, 'module__dropout_rate': 0.6}\n",
            "-4173.359619 (835.947218) with: {'batch_size': 20, 'module__dropout_rate': 0.8}\n",
            "-7914.333496 (4738.308375) with: {'batch_size': 40, 'module__dropout_rate': 0.0}\n",
            "-4869.708822 (485.254840) with: {'batch_size': 40, 'module__dropout_rate': 0.2}\n",
            "-4661.945150 (495.729690) with: {'batch_size': 40, 'module__dropout_rate': 0.4}\n",
            "-4216.930420 (739.658009) with: {'batch_size': 40, 'module__dropout_rate': 0.6}\n",
            "-4026.784912 (772.779245) with: {'batch_size': 40, 'module__dropout_rate': 0.8}\n",
            "-7618.428385 (4226.106810) with: {'batch_size': 60, 'module__dropout_rate': 0.0}\n",
            "-5744.671712 (1053.738206) with: {'batch_size': 60, 'module__dropout_rate': 0.2}\n",
            "-5363.185872 (515.707923) with: {'batch_size': 60, 'module__dropout_rate': 0.4}\n",
            "-4764.872233 (634.092743) with: {'batch_size': 60, 'module__dropout_rate': 0.6}\n",
            "-4045.323405 (905.518802) with: {'batch_size': 60, 'module__dropout_rate': 0.8}\n",
            "-7653.917969 (3752.622322) with: {'batch_size': 80, 'module__dropout_rate': 0.0}\n",
            "-4569.112630 (740.111902) with: {'batch_size': 80, 'module__dropout_rate': 0.2}\n",
            "-4635.808512 (872.548940) with: {'batch_size': 80, 'module__dropout_rate': 0.4}\n",
            "-4064.621908 (608.880158) with: {'batch_size': 80, 'module__dropout_rate': 0.6}\n",
            "-4181.752848 (690.396337) with: {'batch_size': 80, 'module__dropout_rate': 0.8}\n",
            "-6583.901367 (850.732075) with: {'batch_size': 100, 'module__dropout_rate': 0.0}\n",
            "-4968.384115 (449.010379) with: {'batch_size': 100, 'module__dropout_rate': 0.2}\n",
            "-4409.486003 (785.346427) with: {'batch_size': 100, 'module__dropout_rate': 0.4}\n",
            "-4094.111572 (682.579040) with: {'batch_size': 100, 'module__dropout_rate': 0.6}\n",
            "-4077.946940 (931.392096) with: {'batch_size': 100, 'module__dropout_rate': 0.8}\n",
            "-5876.489258 (655.503518) with: {'batch_size': 120, 'module__dropout_rate': 0.0}\n",
            "-5347.791341 (840.007841) with: {'batch_size': 120, 'module__dropout_rate': 0.2}\n",
            "-4483.822673 (744.719474) with: {'batch_size': 120, 'module__dropout_rate': 0.4}\n",
            "-4268.186198 (665.862442) with: {'batch_size': 120, 'module__dropout_rate': 0.6}\n",
            "-4061.565592 (919.476926) with: {'batch_size': 120, 'module__dropout_rate': 0.8}\n",
            "-6013.742188 (457.653193) with: {'batch_size': 140, 'module__dropout_rate': 0.0}\n",
            "-4989.983724 (466.038483) with: {'batch_size': 140, 'module__dropout_rate': 0.2}\n",
            "-4489.716634 (467.219871) with: {'batch_size': 140, 'module__dropout_rate': 0.4}\n",
            "-4371.535807 (864.995033) with: {'batch_size': 140, 'module__dropout_rate': 0.6}\n",
            "-4045.176921 (882.434297) with: {'batch_size': 140, 'module__dropout_rate': 0.8}\n",
            "-6666.356120 (390.499315) with: {'batch_size': 160, 'module__dropout_rate': 0.0}\n",
            "-5039.834310 (499.710150) with: {'batch_size': 160, 'module__dropout_rate': 0.2}\n",
            "-4501.233805 (617.967961) with: {'batch_size': 160, 'module__dropout_rate': 0.4}\n",
            "-4342.387695 (879.444749) with: {'batch_size': 160, 'module__dropout_rate': 0.6}\n",
            "-4004.977295 (885.328370) with: {'batch_size': 160, 'module__dropout_rate': 0.8}\n",
            "-4004.977294921875 {'batch_size': 160, 'module__dropout_rate': 0.8}\n"
          ]
        }
      ],
      "source": [
        "n_in_neurons = X_train.shape[1] # зададим количество нейронов\n",
        "n_hidden_neurons_1 = 600\n",
        "n_hidden_neurons_2 = 950\n",
        "n_out_neurons = 1\n",
        "\n",
        "class Net(nn.Module):\n",
        "    '''\n",
        "    Класс по созданию нейронной сети\n",
        "    '''\n",
        "    def __init__(self, dropout_rate=0.2):\n",
        "        super().__init__()\n",
        "        self.fc1 = torch.nn.Linear(X_train.shape[1], 600)\n",
        "        self.fc2 = nn.Linear(600, 950)\n",
        "        self.fc3 = nn.Linear(950, 1)\n",
        "        self.relu1 = nn.LeakyReLU()\n",
        "        self.relu2 = nn.LeakyReLU()\n",
        "        self.relu3 = nn.LeakyReLU(negative_slope=0.7)\n",
        "        self.dp1 = nn.Dropout(dropout_rate)\n",
        "        self.dp2 = nn.Dropout(dropout_rate)\n",
        "\n",
        "    def forward(self, batch):\n",
        "        batch = self.fc1(batch)\n",
        "        batch = self.relu1(batch)\n",
        "        batch = self.dp1(batch)\n",
        "        batch = self.fc2(batch)\n",
        "        batch = self.relu2(batch)\n",
        "        batch = self.dp2(batch)\n",
        "        batch = self.fc3(batch)\n",
        "\n",
        "        return self.relu3(batch)\n",
        "\n",
        "#net = Net(n_in_neurons, n_hidden_neurons_1, n_hidden_neurons_2, n_out_neurons, dropout_rate)\n",
        "\n",
        "#optimizer = torch.optim.Adam(net.parameters(), lr=1e-3) # создаем Adam оптимизатор\n",
        "\n",
        "#loss = nn.MSELoss(reduction='sum') # В качестве функции потерь используем MSE\n",
        "\n",
        "class RMSELoss(torch.nn.Module):\n",
        "    def __init__(self):\n",
        "        super(RMSELoss,self).__init__()\n",
        "\n",
        "    def forward(self,x,y):\n",
        "        criterion = nn.MSELoss(reduction='sum')\n",
        "        eps = 1e-6\n",
        "        loss = torch.sqrt(criterion(x, y) + eps)\n",
        "\n",
        "        return loss\n",
        "\n",
        "\n",
        "# create model with skorch\n",
        "model = NeuralNetRegressor(\n",
        "    Net,\n",
        "    criterion=RMSELoss(),\n",
        "    optimizer=torch.optim.Adam,\n",
        "    max_epochs=2600,\n",
        "    verbose=False\n",
        ")\n",
        "\n",
        "# define the grid search parameters\n",
        "param_grid = {\n",
        "    'batch_size': range(20, X_train.shape[0], 20),\n",
        "    'module__dropout_rate': [0.0, 0.2, 0.4, 0.6, 0.8,]\n",
        "}\n",
        "grid = GridSearchCV(model, param_grid, scoring= rmse, n_jobs=-1, cv=3, verbose=True)\n",
        "grid_result = grid.fit(X_train, y_train)\n",
        "\n",
        "means = grid_result.cv_results_['mean_test_score']\n",
        "stds = grid_result.cv_results_['std_test_score']\n",
        "params = grid_result.cv_results_['params']\n",
        "for mean, stdev, param in zip(means, stds, params):\n",
        "    print(\"%f (%f) with: %r\" % (mean, stdev, param))\n",
        "\n",
        "print(grid_result.best_score_, grid_result.best_params_)\n",
        "\n",
        "#run\n",
        "#model.fit(X_train, y_train)"
      ]
    },
    {
      "cell_type": "markdown",
      "id": "ef444bc1",
      "metadata": {
        "id": "ef444bc1"
      },
      "source": [
        "Наилучший результат- 4004.977\n",
        "Наилучшие гиперпараметры: 'batch_size'- 160,'module__dropout_rate'- 0.8"
      ]
    },
    {
      "cell_type": "code",
      "execution_count": null,
      "id": "1af2a46c",
      "metadata": {
        "scrolled": false,
        "id": "1af2a46c",
        "outputId": "f3ba5382-b154-4bb4-f4e6-c181f3aadb53"
      },
      "outputs": [
        {
          "name": "stdout",
          "output_type": "stream",
          "text": [
            "12679.645\n",
            "12669.847\n",
            "12646.545\n",
            "12600.119\n",
            "12516.549\n",
            "12377.346\n",
            "12160.639\n",
            "11844.297\n",
            "11409.949\n",
            "10849.423\n",
            "10173.827\n",
            "9420.155\n",
            "8639.827\n",
            "7898.741\n",
            "7275.9707\n",
            "6821.6226\n",
            "6529.878\n",
            "6353.561\n",
            "6241.7144\n",
            "6159.6455\n",
            "6087.2236\n",
            "6015.8564\n",
            "5943.652\n",
            "5871.1494\n",
            "5800.302\n",
            "5732.113\n",
            "5667.2705\n",
            "5605.5244\n",
            "5546.5947\n",
            "5490.2676\n",
            "5435.7114\n",
            "5383.262\n",
            "5333.38\n",
            "5285.3687\n",
            "5239.293\n",
            "5194.7695\n",
            "5151.854\n",
            "5109.9756\n",
            "5068.848\n",
            "5029.3115\n",
            "4991.5825\n",
            "4954.8877\n",
            "4919.063\n",
            "4884.672\n",
            "4851.522\n",
            "4819.3574\n",
            "4788.4375\n",
            "4758.4014\n",
            "4729.9067\n",
            "4702.755\n",
            "4676.375\n",
            "4650.7466\n",
            "4625.599\n",
            "4600.9473\n",
            "4577.576\n",
            "4555.8853\n",
            "4536.1406\n",
            "4517.654\n",
            "4499.151\n",
            "4481.886\n",
            "4465.0913\n",
            "4449.169\n",
            "4434.117\n",
            "4419.996\n",
            "4406.42\n",
            "4393.566\n",
            "4381.643\n",
            "4370.2627\n",
            "4359.551\n",
            "4349.3057\n",
            "4339.4775\n",
            "4329.878\n",
            "4320.3364\n",
            "4309.945\n",
            "4300.253\n",
            "4290.442\n",
            "4281.8354\n",
            "4274.214\n",
            "4266.4834\n",
            "4258.6772\n",
            "4250.6104\n",
            "4243.4194\n",
            "4236.953\n",
            "4230.499\n",
            "4224.1494\n",
            "4217.627\n",
            "4211.308\n",
            "4205.444\n",
            "4199.7773\n",
            "4193.9517\n",
            "4188.1943\n",
            "4182.7676\n",
            "4177.186\n",
            "4171.698\n",
            "4166.148\n",
            "4160.6094\n",
            "4155.3374\n",
            "4150.369\n",
            "4145.3164\n",
            "4140.3853\n",
            "4135.6626\n",
            "4130.6187\n",
            "4125.925\n",
            "4121.3916\n",
            "4116.599\n",
            "4111.601\n",
            "4107.0015\n",
            "4102.628\n",
            "4097.886\n",
            "4093.5337\n",
            "4088.8005\n",
            "4084.2\n",
            "4079.4739\n",
            "4075.2065\n",
            "4070.4395\n",
            "4065.7788\n",
            "4061.368\n",
            "4056.8235\n",
            "4052.423\n",
            "4048.0122\n",
            "4043.6052\n",
            "4039.2175\n",
            "4034.8384\n",
            "4030.335\n",
            "4025.9133\n",
            "4021.572\n",
            "4016.9282\n",
            "4012.337\n",
            "4008.3904\n",
            "4003.9312\n",
            "3999.5786\n",
            "3995.6653\n",
            "3991.3247\n",
            "3987.4333\n",
            "3983.3015\n",
            "3979.067\n",
            "3975.273\n",
            "3971.5156\n",
            "3967.398\n",
            "3963.6094\n",
            "3959.7476\n",
            "3955.8708\n",
            "3951.8591\n",
            "3948.1743\n",
            "3944.1306\n",
            "3940.1436\n",
            "3935.939\n",
            "3932.153\n",
            "3928.109\n",
            "3923.832\n",
            "3919.7764\n",
            "3915.587\n",
            "3911.5466\n",
            "3908.1445\n",
            "3904.1794\n",
            "3898.8347\n",
            "3894.4446\n",
            "3889.9956\n",
            "3885.8455\n",
            "3881.7708\n",
            "3877.6355\n",
            "3873.6553\n",
            "3869.5164\n",
            "3865.3513\n",
            "3861.4695\n",
            "3857.6157\n",
            "3854.1501\n",
            "3851.0696\n",
            "3847.5823\n",
            "3843.4436\n",
            "3840.1492\n",
            "3836.1929\n",
            "3833.1394\n",
            "3829.346\n",
            "3826.313\n",
            "3823.1885\n",
            "3819.9568\n",
            "3816.6038\n",
            "3813.6553\n",
            "3809.782\n",
            "3807.3137\n",
            "3804.8293\n",
            "3801.9583\n",
            "3799.0767\n",
            "3796.2183\n",
            "3793.2566\n",
            "3790.4624\n",
            "3787.2073\n",
            "3784.5635\n",
            "3782.0803\n",
            "3779.7258\n",
            "3777.8613\n",
            "3775.695\n",
            "3773.9485\n",
            "3772.6116\n",
            "3771.269\n",
            "3770.233\n",
            "3769.276\n",
            "3768.205\n",
            "3768.0576\n",
            "3767.4216\n",
            "3766.4746\n",
            "3766.509\n",
            "3766.1248\n",
            "3765.942\n",
            "3766.5818\n",
            "3767.318\n",
            "3768.1487\n",
            "3769.079\n",
            "3770.1982\n",
            "3771.3179\n",
            "3772.3977\n",
            "3773.622\n",
            "3774.716\n",
            "3775.956\n",
            "3777.046\n",
            "3778.0972\n",
            "3779.4087\n",
            "3781.2527\n",
            "3782.6213\n",
            "3784.4282\n",
            "3786.3035\n",
            "3788.4617\n",
            "3791.2153\n",
            "3794.135\n",
            "3796.2322\n",
            "3799.3225\n",
            "3801.9214\n",
            "3804.343\n",
            "3806.9348\n",
            "3809.3218\n",
            "3811.684\n",
            "3814.1514\n",
            "3816.9263\n",
            "3819.0637\n",
            "3821.4\n",
            "3823.7966\n",
            "3825.4927\n",
            "3827.5994\n",
            "3830.2913\n",
            "3832.622\n",
            "3834.1423\n",
            "3837.1265\n",
            "3839.252\n",
            "3842.2017\n",
            "3844.3882\n",
            "3846.7075\n",
            "3848.9546\n",
            "3851.4946\n",
            "3854.1272\n",
            "3857.3137\n",
            "3859.9993\n",
            "3861.6777\n",
            "3864.4253\n",
            "3866.6682\n",
            "3870.2485\n",
            "3874.217\n",
            "3877.4421\n",
            "3881.0845\n",
            "3883.172\n",
            "3885.2212\n"
          ]
        }
      ],
      "source": [
        "# Гиперпараметры обучения:\n",
        "n_in_neurons = X_train.shape[1] # зададим количество нейронов\n",
        "n_hidden_neurons_1 = 600\n",
        "n_hidden_neurons_2 = 950\n",
        "n_out_neurons = 1\n",
        "num_epochs = 2600 # количество эпох\n",
        "batch_size = 160\n",
        "learning_rate = 0.01\n",
        "num_batches = ceil(len(X_train)/batch_size)\n",
        "dropout_rate = 0.8\n",
        "\n",
        "class Net(nn.Module):\n",
        "    '''\n",
        "    Класс по созданию нейронной сети\n",
        "    '''\n",
        "    def __init__(self, n_features, n, n1, n_out):\n",
        "        super().__init__()\n",
        "        self.fc1 = torch.nn.Linear(n_features, n)\n",
        "        self.fc2 = nn.Linear(n, n1)\n",
        "        self.fc3 = nn.Linear(n1, n_out)\n",
        "        self.relu1 = nn.LeakyReLU()\n",
        "        self.relu2 = nn.LeakyReLU()\n",
        "        self.relu3 = nn.LeakyReLU(negative_slope=0.7)\n",
        "        self.dp1 = nn.Dropout(dropout_rate)\n",
        "        self.dp2 = nn.Dropout(dropout_rate)\n",
        "\n",
        "    def forward(self, batch):\n",
        "        batch = self.fc1(batch)\n",
        "        batch = self.relu1(batch)\n",
        "        batch = self.dp1(batch)\n",
        "        batch = self.fc2(batch)\n",
        "        batch = self.relu2(batch)\n",
        "        batch = self.dp2(batch)\n",
        "        batch = self.fc3(batch)\n",
        "\n",
        "        return self.relu3(batch)\n",
        "\n",
        "net = Net(n_in_neurons, n_hidden_neurons_1, n_hidden_neurons_2, n_out_neurons)\n",
        "\n",
        "optimizer = torch.optim.Adam(net.parameters(), lr=1e-3) # создаем Adam оптимизатор\n",
        "\n",
        "loss = nn.MSELoss(reduction='sum') # В качестве функции потерь используем MSE\n",
        "\n",
        "for epoch in range(num_epochs):\n",
        "    order = np.random.permutation(len(X_train))\n",
        "    for batch_idx in range(num_batches):\n",
        "        start_index = batch_idx * batch_size\n",
        "        optimizer.zero_grad()\n",
        "\n",
        "\n",
        "    batch_indexes = order[start_index:start_index+batch_size]\n",
        "    X_batch = X_train[batch_indexes]\n",
        "    y_batch = y_train[batch_indexes]\n",
        "\n",
        "    preds = net.forward(X_train)\n",
        "\n",
        "    loss_value = loss(preds, y_train)\n",
        "\n",
        "    loss_value.backward()\n",
        "\n",
        "    optimizer.step()\n",
        "\n",
        "    if epoch % 10 == 0 or epoch == num_epochs - 1:\n",
        "        net.eval()\n",
        "        test_preds = net.forward(X_test).flatten()\n",
        "        pred_temp = test_preds.detach().numpy()\n",
        "        rmse = mean_squared_error(y_test, pred_temp, squared=False)\n",
        "        print(rmse)"
      ]
    },
    {
      "cell_type": "markdown",
      "id": "39ccbc4d",
      "metadata": {
        "id": "39ccbc4d"
      },
      "source": [
        "Наименьшая метрика RMSE на тестовой выборке, с учетом подобранных параметров- 3885.2212"
      ]
    },
    {
      "cell_type": "code",
      "execution_count": null,
      "id": "570d4420",
      "metadata": {
        "id": "570d4420",
        "outputId": "6d656ba1-91fc-4a43-f6b6-0e2a6f47ac71"
      },
      "outputs": [
        {
          "name": "stderr",
          "output_type": "stream",
          "text": [
            "/opt/conda/lib/python3.9/site-packages/numpy/lib/stride_tricks.py:536: FutureWarning: The input object of type 'Tensor' is an array-like implementing one of the corresponding protocols (`__array__`, `__array_interface__` or `__array_struct__`); but not a sequence (or 0-D). In the future, this object will be coerced as if it was first converted using `np.array(obj)`. To retain the old behaviour, you have to either modify the type 'Tensor', or assign to an empty array created with `np.empty(correct_shape, dtype=object)`.\n",
            "  args = [np.array(_m, copy=False, subok=subok) for _m in args]\n",
            "/opt/conda/lib/python3.9/site-packages/numpy/lib/stride_tricks.py:536: VisibleDeprecationWarning: Creating an ndarray from ragged nested sequences (which is a list-or-tuple of lists-or-tuples-or ndarrays with different lengths or shapes) is deprecated. If you meant to do this, you must specify 'dtype=object' when creating the ndarray.\n",
            "  args = [np.array(_m, copy=False, subok=subok) for _m in args]\n",
            "/opt/conda/lib/python3.9/site-packages/numpy/core/fromnumeric.py:43: VisibleDeprecationWarning: Creating an ndarray from ragged nested sequences (which is a list-or-tuple of lists-or-tuples-or ndarrays with different lengths or shapes) is deprecated. If you meant to do this, you must specify 'dtype=object' when creating the ndarray.\n",
            "  result = getattr(asarray(obj), method)(*args, **kwds)\n"
          ]
        },
        {
          "data": {
            "text/plain": [
              "<Figure size 4320x2880 with 0 Axes>"
            ]
          },
          "metadata": {},
          "output_type": "display_data"
        },
        {
          "data": {
            "image/png": "[encoded data removed]",
            "text/plain": [
              "<Figure size 4320x2880 with 1 Axes>"
            ]
          },
          "metadata": {
            "needs_background": "light"
          },
          "output_type": "display_data"
        }
      ],
      "source": [
        "fig = plt.figure()\n",
        "fig.set_size_inches(60, 40)\n",
        "\n",
        "fig,ax = plt.subplots()\n",
        "fig.set_size_inches(60,40)\n",
        "\n",
        "plt.rc('font', size=70) #controls default text size\n",
        "\n",
        "у1 = pred_temp\n",
        "y2 = y_test\n",
        "x = np.arange(len(у1))\n",
        "\n",
        "ax.set_xticks(x)\n",
        "fact = ax.bar(x, y2, width = 0.6, label = 'Факт')\n",
        "forecast = ax.bar(x, у1, width = 0.3, label = 'Прогноз')\n",
        "\n",
        "ax.set_ylabel('Температура звезды')\n",
        "ax.set_xlabel('Номер звезды в таблице')\n",
        "ax.set_title('Сооотношение факта к прогнозу на моделе с подбором гиперпараметров')\n",
        "ax.legend(loc='lower left', title='Легенда')\n",
        "\n",
        "plt.show()"
      ]
    },
    {
      "cell_type": "markdown",
      "id": "accurate-infrastructure",
      "metadata": {
        "id": "accurate-infrastructure"
      },
      "source": [
        "## Выводы"
      ]
    },
    {
      "cell_type": "markdown",
      "id": "82a9ab24",
      "metadata": {
        "id": "82a9ab24"
      },
      "source": [
        "Вывод по итогу проекта:\n",
        "1. Лучший результат при переборе гиперпараметров показала модель с размером батча= 160 и dropout_rate= 0.8\n",
        "Что позволило получить на тестовой выборке метрику RMSE, равную 3885, однако к сожалению это не позволило улучшить результата baseline модели.\n",
        "2. Baseline модель, использующая размер батча 100 и не использующая dropout, оказалась незначительно лучше модели с подбором гиперпарметров, показав на тестовой выборке метрику RMSE равную 3748\n",
        "3. Согласно графику, обе модели ведут себя с данными довольно похоже, хорошо справляясь с предсказаниями температуры до 5000 кельвинов, так как эти данные представляют собой большую часть датасета\n",
        "4. Для дальнейшего улучшения модели, стоит применить перебор и других гиперпараметров, например колличество эпох, а также laerning rate, что в перспективе способно дать еще более лучшие результаты, с точки зрения точности работы модели. А также, дополнительно расширить датасет, путем поиска доп данных с целевой метрикой свыше 5000 Кельвинов, что может помочь исправить дисбаланс классов."
      ]
    }
  ],
  "metadata": {
    "ExecuteTimeLog": [
      {
        "duration": 71,
        "start_time": "2023-09-08T14:01:14.188Z"
      },
      {
        "duration": 80,
        "start_time": "2023-09-08T14:01:17.173Z"
      },
      {
        "duration": 2099,
        "start_time": "2023-09-08T14:02:55.859Z"
      },
      {
        "duration": 161,
        "start_time": "2023-09-08T14:03:16.626Z"
      },
      {
        "duration": 18,
        "start_time": "2023-09-08T14:03:25.555Z"
      },
      {
        "duration": 82,
        "start_time": "2023-09-08T14:04:13.081Z"
      },
      {
        "duration": 7,
        "start_time": "2023-09-08T14:04:31.416Z"
      },
      {
        "duration": 13,
        "start_time": "2023-09-08T14:14:27.399Z"
      },
      {
        "duration": 22649,
        "start_time": "2023-09-08T14:15:10.941Z"
      },
      {
        "duration": 2127,
        "start_time": "2023-09-08T14:15:43.570Z"
      },
      {
        "duration": 2122,
        "start_time": "2023-09-08T14:15:54.074Z"
      },
      {
        "duration": 37,
        "start_time": "2023-09-08T14:16:01.625Z"
      },
      {
        "duration": 9,
        "start_time": "2023-09-08T14:16:04.964Z"
      },
      {
        "duration": 1747,
        "start_time": "2023-09-08T14:16:05.284Z"
      },
      {
        "duration": 843,
        "start_time": "2023-09-08T14:16:07.033Z"
      },
      {
        "duration": 50,
        "start_time": "2023-09-08T14:16:07.878Z"
      },
      {
        "duration": 11,
        "start_time": "2023-09-08T14:16:07.930Z"
      },
      {
        "duration": 13,
        "start_time": "2023-09-08T14:16:07.943Z"
      },
      {
        "duration": 18,
        "start_time": "2023-09-08T14:16:07.957Z"
      },
      {
        "duration": 5,
        "start_time": "2023-09-08T14:16:07.977Z"
      },
      {
        "duration": 535,
        "start_time": "2023-09-08T14:16:07.984Z"
      },
      {
        "duration": 7,
        "start_time": "2023-09-08T14:16:08.521Z"
      },
      {
        "duration": 524,
        "start_time": "2023-09-08T14:16:08.530Z"
      },
      {
        "duration": 7,
        "start_time": "2023-09-08T14:16:09.055Z"
      },
      {
        "duration": 442,
        "start_time": "2023-09-08T14:16:09.063Z"
      },
      {
        "duration": 8,
        "start_time": "2023-09-08T14:16:09.506Z"
      },
      {
        "duration": 395,
        "start_time": "2023-09-08T14:16:09.524Z"
      },
      {
        "duration": 4,
        "start_time": "2023-09-08T14:16:11.600Z"
      },
      {
        "duration": 4,
        "start_time": "2023-09-08T14:17:43.243Z"
      },
      {
        "duration": 5,
        "start_time": "2023-09-08T14:17:43.758Z"
      },
      {
        "duration": 10,
        "start_time": "2023-09-08T14:17:44.226Z"
      },
      {
        "duration": 9,
        "start_time": "2023-09-08T14:17:44.657Z"
      },
      {
        "duration": 16,
        "start_time": "2023-09-08T14:17:55.835Z"
      },
      {
        "duration": 11,
        "start_time": "2023-09-08T14:17:59.934Z"
      },
      {
        "duration": 10,
        "start_time": "2023-09-08T14:18:00.606Z"
      },
      {
        "duration": 6,
        "start_time": "2023-09-08T14:18:05.030Z"
      },
      {
        "duration": 24,
        "start_time": "2023-09-08T14:18:05.718Z"
      },
      {
        "duration": 8,
        "start_time": "2023-09-08T14:18:08.571Z"
      },
      {
        "duration": 22,
        "start_time": "2023-09-08T14:18:13.562Z"
      },
      {
        "duration": 14,
        "start_time": "2023-09-08T14:18:24.299Z"
      },
      {
        "duration": 15,
        "start_time": "2023-09-08T14:18:34.930Z"
      },
      {
        "duration": 13,
        "start_time": "2023-09-08T14:18:45.138Z"
      },
      {
        "duration": 68,
        "start_time": "2023-09-08T14:19:17.611Z"
      },
      {
        "duration": 4,
        "start_time": "2023-09-08T14:19:27.117Z"
      },
      {
        "duration": 4,
        "start_time": "2023-09-08T14:19:27.659Z"
      },
      {
        "duration": 18,
        "start_time": "2023-09-08T14:19:31.518Z"
      },
      {
        "duration": 33,
        "start_time": "2023-09-08T14:19:49.742Z"
      },
      {
        "duration": 4406,
        "start_time": "2023-09-08T14:20:10.626Z"
      },
      {
        "duration": 4599,
        "start_time": "2023-09-08T14:20:30.234Z"
      },
      {
        "duration": 4073,
        "start_time": "2023-09-08T14:20:37.270Z"
      },
      {
        "duration": 5156,
        "start_time": "2023-09-08T14:23:42.375Z"
      },
      {
        "duration": 38566,
        "start_time": "2023-09-09T05:39:46.453Z"
      },
      {
        "duration": 93,
        "start_time": "2023-09-09T05:40:25.022Z"
      },
      {
        "duration": 8,
        "start_time": "2023-09-09T05:40:25.117Z"
      },
      {
        "duration": 95,
        "start_time": "2023-09-09T05:40:25.128Z"
      },
      {
        "duration": 18,
        "start_time": "2023-09-09T05:40:25.224Z"
      },
      {
        "duration": 36,
        "start_time": "2023-09-09T05:40:25.244Z"
      },
      {
        "duration": 29,
        "start_time": "2023-09-09T05:40:25.282Z"
      },
      {
        "duration": 7,
        "start_time": "2023-09-09T05:40:25.319Z"
      },
      {
        "duration": 12,
        "start_time": "2023-09-09T05:40:25.328Z"
      },
      {
        "duration": 6,
        "start_time": "2023-09-09T05:40:25.344Z"
      },
      {
        "duration": 516,
        "start_time": "2023-09-09T05:40:25.352Z"
      },
      {
        "duration": 10,
        "start_time": "2023-09-09T05:40:25.870Z"
      },
      {
        "duration": 441,
        "start_time": "2023-09-09T05:40:25.884Z"
      },
      {
        "duration": 7,
        "start_time": "2023-09-09T05:40:26.327Z"
      },
      {
        "duration": 599,
        "start_time": "2023-09-09T05:40:26.336Z"
      },
      {
        "duration": 8,
        "start_time": "2023-09-09T05:40:26.937Z"
      },
      {
        "duration": 469,
        "start_time": "2023-09-09T05:40:26.946Z"
      },
      {
        "duration": 4,
        "start_time": "2023-09-09T05:40:27.417Z"
      },
      {
        "duration": 8,
        "start_time": "2023-09-09T05:40:27.423Z"
      },
      {
        "duration": 12,
        "start_time": "2023-09-09T05:40:27.433Z"
      },
      {
        "duration": 10,
        "start_time": "2023-09-09T05:40:27.446Z"
      },
      {
        "duration": 11,
        "start_time": "2023-09-09T05:40:27.458Z"
      },
      {
        "duration": 57,
        "start_time": "2023-09-09T05:40:27.470Z"
      },
      {
        "duration": 155,
        "start_time": "2023-09-09T05:40:27.528Z"
      },
      {
        "duration": 0,
        "start_time": "2023-09-09T05:40:27.685Z"
      },
      {
        "duration": 0,
        "start_time": "2023-09-09T05:40:27.686Z"
      },
      {
        "duration": 0,
        "start_time": "2023-09-09T05:40:27.687Z"
      },
      {
        "duration": 0,
        "start_time": "2023-09-09T05:40:27.690Z"
      },
      {
        "duration": 0,
        "start_time": "2023-09-09T05:40:27.691Z"
      },
      {
        "duration": 0,
        "start_time": "2023-09-09T05:40:27.692Z"
      },
      {
        "duration": 1969,
        "start_time": "2023-09-09T05:42:02.040Z"
      },
      {
        "duration": 11,
        "start_time": "2023-09-09T05:42:14.427Z"
      },
      {
        "duration": 7,
        "start_time": "2023-09-09T05:42:20.535Z"
      },
      {
        "duration": 27,
        "start_time": "2023-09-09T05:42:22.712Z"
      },
      {
        "duration": 9,
        "start_time": "2023-09-09T05:42:25.671Z"
      },
      {
        "duration": 80,
        "start_time": "2023-09-09T05:42:28.305Z"
      },
      {
        "duration": 6,
        "start_time": "2023-09-09T05:42:31.385Z"
      },
      {
        "duration": 4947,
        "start_time": "2023-09-09T05:42:34.274Z"
      },
      {
        "duration": 4745,
        "start_time": "2023-09-09T05:42:47.275Z"
      },
      {
        "duration": 4528,
        "start_time": "2023-09-09T05:42:55.793Z"
      },
      {
        "duration": 4925,
        "start_time": "2023-09-09T05:43:23.505Z"
      },
      {
        "duration": 4386,
        "start_time": "2023-09-09T05:44:32.523Z"
      },
      {
        "duration": 50,
        "start_time": "2023-09-09T05:44:36.912Z"
      },
      {
        "duration": 8,
        "start_time": "2023-09-09T05:44:36.964Z"
      },
      {
        "duration": 70,
        "start_time": "2023-09-09T05:44:36.974Z"
      },
      {
        "duration": 11,
        "start_time": "2023-09-09T05:44:37.047Z"
      },
      {
        "duration": 48,
        "start_time": "2023-09-09T05:44:37.060Z"
      },
      {
        "duration": 11,
        "start_time": "2023-09-09T05:44:37.110Z"
      },
      {
        "duration": 7,
        "start_time": "2023-09-09T05:44:37.123Z"
      },
      {
        "duration": 8,
        "start_time": "2023-09-09T05:44:37.132Z"
      },
      {
        "duration": 5,
        "start_time": "2023-09-09T05:44:37.141Z"
      },
      {
        "duration": 568,
        "start_time": "2023-09-09T05:44:37.148Z"
      },
      {
        "duration": 9,
        "start_time": "2023-09-09T05:44:37.718Z"
      },
      {
        "duration": 517,
        "start_time": "2023-09-09T05:44:37.730Z"
      },
      {
        "duration": 11,
        "start_time": "2023-09-09T05:44:38.253Z"
      },
      {
        "duration": 531,
        "start_time": "2023-09-09T05:44:38.266Z"
      },
      {
        "duration": 15,
        "start_time": "2023-09-09T05:44:38.799Z"
      },
      {
        "duration": 662,
        "start_time": "2023-09-09T05:44:38.816Z"
      },
      {
        "duration": 5,
        "start_time": "2023-09-09T05:44:39.481Z"
      },
      {
        "duration": 12,
        "start_time": "2023-09-09T05:44:39.487Z"
      },
      {
        "duration": 19,
        "start_time": "2023-09-09T05:44:39.510Z"
      },
      {
        "duration": 25,
        "start_time": "2023-09-09T05:44:39.531Z"
      },
      {
        "duration": 15,
        "start_time": "2023-09-09T05:44:39.558Z"
      },
      {
        "duration": 43,
        "start_time": "2023-09-09T05:44:39.576Z"
      },
      {
        "duration": 10,
        "start_time": "2023-09-09T05:44:39.621Z"
      },
      {
        "duration": 116,
        "start_time": "2023-09-09T05:44:39.633Z"
      },
      {
        "duration": 6,
        "start_time": "2023-09-09T05:44:39.752Z"
      },
      {
        "duration": 12,
        "start_time": "2023-09-09T05:44:39.760Z"
      },
      {
        "duration": 4419,
        "start_time": "2023-09-09T05:45:22.774Z"
      },
      {
        "duration": 51,
        "start_time": "2023-09-09T05:45:27.196Z"
      },
      {
        "duration": 36,
        "start_time": "2023-09-09T05:45:27.249Z"
      },
      {
        "duration": 78,
        "start_time": "2023-09-09T05:45:27.288Z"
      },
      {
        "duration": 17,
        "start_time": "2023-09-09T05:45:27.369Z"
      },
      {
        "duration": 41,
        "start_time": "2023-09-09T05:45:27.388Z"
      },
      {
        "duration": 30,
        "start_time": "2023-09-09T05:45:27.431Z"
      },
      {
        "duration": 21,
        "start_time": "2023-09-09T05:45:27.463Z"
      },
      {
        "duration": 28,
        "start_time": "2023-09-09T05:45:27.486Z"
      },
      {
        "duration": 5,
        "start_time": "2023-09-09T05:45:27.517Z"
      },
      {
        "duration": 515,
        "start_time": "2023-09-09T05:45:27.524Z"
      },
      {
        "duration": 9,
        "start_time": "2023-09-09T05:45:28.041Z"
      },
      {
        "duration": 531,
        "start_time": "2023-09-09T05:45:28.052Z"
      },
      {
        "duration": 12,
        "start_time": "2023-09-09T05:45:28.588Z"
      },
      {
        "duration": 495,
        "start_time": "2023-09-09T05:45:28.610Z"
      },
      {
        "duration": 7,
        "start_time": "2023-09-09T05:45:29.109Z"
      },
      {
        "duration": 552,
        "start_time": "2023-09-09T05:45:29.118Z"
      },
      {
        "duration": 7,
        "start_time": "2023-09-09T05:45:29.673Z"
      },
      {
        "duration": 7,
        "start_time": "2023-09-09T05:45:29.682Z"
      },
      {
        "duration": 17,
        "start_time": "2023-09-09T05:45:29.709Z"
      },
      {
        "duration": 16,
        "start_time": "2023-09-09T05:45:29.728Z"
      },
      {
        "duration": 9,
        "start_time": "2023-09-09T05:45:29.747Z"
      },
      {
        "duration": 52,
        "start_time": "2023-09-09T05:45:29.759Z"
      },
      {
        "duration": 8,
        "start_time": "2023-09-09T05:45:29.813Z"
      },
      {
        "duration": 100,
        "start_time": "2023-09-09T05:45:29.823Z"
      },
      {
        "duration": 5,
        "start_time": "2023-09-09T05:45:29.925Z"
      },
      {
        "duration": 3,
        "start_time": "2023-09-09T05:45:29.931Z"
      },
      {
        "duration": 50377,
        "start_time": "2023-09-09T05:45:29.936Z"
      },
      {
        "duration": 5112,
        "start_time": "2023-09-09T05:46:20.315Z"
      },
      {
        "duration": 4496,
        "start_time": "2023-09-09T05:46:25.430Z"
      },
      {
        "duration": 26569,
        "start_time": "2023-09-09T09:08:54.316Z"
      },
      {
        "duration": 86,
        "start_time": "2023-09-09T09:09:20.888Z"
      },
      {
        "duration": 6,
        "start_time": "2023-09-09T09:09:20.976Z"
      },
      {
        "duration": 83,
        "start_time": "2023-09-09T09:09:20.984Z"
      },
      {
        "duration": 11,
        "start_time": "2023-09-09T09:09:21.069Z"
      },
      {
        "duration": 45,
        "start_time": "2023-09-09T09:09:21.082Z"
      },
      {
        "duration": 12,
        "start_time": "2023-09-09T09:09:21.129Z"
      },
      {
        "duration": 12,
        "start_time": "2023-09-09T09:09:21.143Z"
      },
      {
        "duration": 16,
        "start_time": "2023-09-09T09:09:21.157Z"
      },
      {
        "duration": 7,
        "start_time": "2023-09-09T09:09:21.176Z"
      },
      {
        "duration": 461,
        "start_time": "2023-09-09T09:09:21.184Z"
      },
      {
        "duration": 7,
        "start_time": "2023-09-09T09:09:21.646Z"
      },
      {
        "duration": 392,
        "start_time": "2023-09-09T09:09:21.655Z"
      },
      {
        "duration": 7,
        "start_time": "2023-09-09T09:09:22.049Z"
      },
      {
        "duration": 569,
        "start_time": "2023-09-09T09:09:22.058Z"
      },
      {
        "duration": 7,
        "start_time": "2023-09-09T09:09:22.629Z"
      },
      {
        "duration": 420,
        "start_time": "2023-09-09T09:09:22.637Z"
      },
      {
        "duration": 4,
        "start_time": "2023-09-09T09:09:23.058Z"
      },
      {
        "duration": 16,
        "start_time": "2023-09-09T09:09:23.063Z"
      },
      {
        "duration": 21,
        "start_time": "2023-09-09T09:09:23.081Z"
      },
      {
        "duration": 20,
        "start_time": "2023-09-09T09:09:23.104Z"
      },
      {
        "duration": 20,
        "start_time": "2023-09-09T09:09:23.126Z"
      },
      {
        "duration": 45,
        "start_time": "2023-09-09T09:09:23.148Z"
      },
      {
        "duration": 133,
        "start_time": "2023-09-09T09:09:23.195Z"
      },
      {
        "duration": 0,
        "start_time": "2023-09-09T09:09:23.330Z"
      },
      {
        "duration": 1,
        "start_time": "2023-09-09T09:09:23.331Z"
      },
      {
        "duration": 0,
        "start_time": "2023-09-09T09:09:23.333Z"
      },
      {
        "duration": 17,
        "start_time": "2023-09-09T09:10:35.325Z"
      },
      {
        "duration": 9,
        "start_time": "2023-09-09T09:10:58.445Z"
      },
      {
        "duration": 10,
        "start_time": "2023-09-09T09:11:01.116Z"
      },
      {
        "duration": 11,
        "start_time": "2023-09-09T09:11:02.984Z"
      },
      {
        "duration": 9,
        "start_time": "2023-09-09T09:11:08.354Z"
      },
      {
        "duration": 7,
        "start_time": "2023-09-09T09:11:09.236Z"
      },
      {
        "duration": 23,
        "start_time": "2023-09-09T09:11:09.713Z"
      },
      {
        "duration": 10,
        "start_time": "2023-09-09T09:11:11.771Z"
      },
      {
        "duration": 69,
        "start_time": "2023-09-09T09:11:13.414Z"
      },
      {
        "duration": 5,
        "start_time": "2023-09-09T09:11:14.819Z"
      },
      {
        "duration": 3,
        "start_time": "2023-09-09T09:11:15.601Z"
      },
      {
        "duration": 44583,
        "start_time": "2023-09-09T09:11:18.860Z"
      },
      {
        "duration": 43559,
        "start_time": "2023-09-09T09:14:07.578Z"
      },
      {
        "duration": 28596,
        "start_time": "2023-09-11T08:59:40.017Z"
      },
      {
        "duration": 90,
        "start_time": "2023-09-11T09:00:08.615Z"
      },
      {
        "duration": 7,
        "start_time": "2023-09-11T09:00:08.707Z"
      },
      {
        "duration": 82,
        "start_time": "2023-09-11T09:00:08.717Z"
      },
      {
        "duration": 11,
        "start_time": "2023-09-11T09:00:08.801Z"
      },
      {
        "duration": 38,
        "start_time": "2023-09-11T09:00:08.815Z"
      },
      {
        "duration": 11,
        "start_time": "2023-09-11T09:00:08.855Z"
      },
      {
        "duration": 14,
        "start_time": "2023-09-11T09:00:08.868Z"
      },
      {
        "duration": 26,
        "start_time": "2023-09-11T09:00:08.884Z"
      },
      {
        "duration": 23,
        "start_time": "2023-09-11T09:00:08.914Z"
      },
      {
        "duration": 492,
        "start_time": "2023-09-11T09:00:08.939Z"
      },
      {
        "duration": 7,
        "start_time": "2023-09-11T09:00:09.433Z"
      },
      {
        "duration": 463,
        "start_time": "2023-09-11T09:00:09.442Z"
      },
      {
        "duration": 7,
        "start_time": "2023-09-11T09:00:09.907Z"
      },
      {
        "duration": 596,
        "start_time": "2023-09-11T09:00:09.915Z"
      },
      {
        "duration": 8,
        "start_time": "2023-09-11T09:00:10.513Z"
      },
      {
        "duration": 462,
        "start_time": "2023-09-11T09:00:10.522Z"
      },
      {
        "duration": 11,
        "start_time": "2023-09-11T09:00:10.986Z"
      },
      {
        "duration": 8,
        "start_time": "2023-09-11T09:00:10.999Z"
      },
      {
        "duration": 12,
        "start_time": "2023-09-11T09:00:11.009Z"
      },
      {
        "duration": 23,
        "start_time": "2023-09-11T09:00:11.022Z"
      },
      {
        "duration": 25,
        "start_time": "2023-09-11T09:00:11.047Z"
      },
      {
        "duration": 39,
        "start_time": "2023-09-11T09:00:11.074Z"
      },
      {
        "duration": 160,
        "start_time": "2023-09-11T09:00:11.115Z"
      },
      {
        "duration": 0,
        "start_time": "2023-09-11T09:00:11.277Z"
      },
      {
        "duration": 0,
        "start_time": "2023-09-11T09:00:11.280Z"
      },
      {
        "duration": 0,
        "start_time": "2023-09-11T09:00:11.285Z"
      },
      {
        "duration": 18,
        "start_time": "2023-09-11T09:01:22.578Z"
      },
      {
        "duration": 13,
        "start_time": "2023-09-11T09:01:26.688Z"
      },
      {
        "duration": 10,
        "start_time": "2023-09-11T09:01:48.762Z"
      },
      {
        "duration": 12,
        "start_time": "2023-09-11T09:01:55.357Z"
      },
      {
        "duration": 9,
        "start_time": "2023-09-11T09:01:55.906Z"
      },
      {
        "duration": 35,
        "start_time": "2023-09-11T09:02:37.478Z"
      },
      {
        "duration": 4,
        "start_time": "2023-09-11T09:02:43.774Z"
      },
      {
        "duration": 4,
        "start_time": "2023-09-11T09:02:44.194Z"
      },
      {
        "duration": 16,
        "start_time": "2023-09-11T09:02:44.882Z"
      },
      {
        "duration": 11,
        "start_time": "2023-09-11T09:03:02.657Z"
      },
      {
        "duration": 10,
        "start_time": "2023-09-11T09:03:25.506Z"
      },
      {
        "duration": 14,
        "start_time": "2023-09-11T09:03:43.199Z"
      },
      {
        "duration": 11,
        "start_time": "2023-09-11T09:03:45.856Z"
      },
      {
        "duration": 13,
        "start_time": "2023-09-11T09:03:55.197Z"
      },
      {
        "duration": 10,
        "start_time": "2023-09-11T09:03:55.453Z"
      },
      {
        "duration": 15,
        "start_time": "2023-09-11T09:03:57.976Z"
      },
      {
        "duration": 30,
        "start_time": "2023-09-11T09:04:00.480Z"
      },
      {
        "duration": 7,
        "start_time": "2023-09-11T09:04:03.240Z"
      },
      {
        "duration": 71,
        "start_time": "2023-09-11T09:04:09.308Z"
      },
      {
        "duration": 5,
        "start_time": "2023-09-11T09:04:09.556Z"
      },
      {
        "duration": 10,
        "start_time": "2023-09-11T09:04:45.961Z"
      },
      {
        "duration": 17,
        "start_time": "2023-09-11T09:04:56.884Z"
      },
      {
        "duration": 10,
        "start_time": "2023-09-11T09:08:05.399Z"
      },
      {
        "duration": 11,
        "start_time": "2023-09-11T09:08:57.707Z"
      },
      {
        "duration": 70995,
        "start_time": "2023-09-11T09:09:04.506Z"
      },
      {
        "duration": 64592,
        "start_time": "2023-09-11T09:11:34.309Z"
      },
      {
        "duration": 3,
        "start_time": "2023-09-11T09:13:06.787Z"
      },
      {
        "duration": 7,
        "start_time": "2023-09-11T09:13:25.536Z"
      },
      {
        "duration": 4,
        "start_time": "2023-09-11T09:13:30.655Z"
      },
      {
        "duration": 9,
        "start_time": "2023-09-11T09:27:38.898Z"
      },
      {
        "duration": 5,
        "start_time": "2023-09-11T09:27:53.336Z"
      },
      {
        "duration": 914,
        "start_time": "2023-09-11T09:38:11.810Z"
      },
      {
        "duration": 862,
        "start_time": "2023-09-11T09:38:24.582Z"
      },
      {
        "duration": 1010,
        "start_time": "2023-09-11T12:42:03.067Z"
      },
      {
        "duration": 1011,
        "start_time": "2023-09-11T12:43:16.529Z"
      },
      {
        "duration": 844,
        "start_time": "2023-09-11T12:43:23.397Z"
      },
      {
        "duration": 854,
        "start_time": "2023-09-11T12:43:40.821Z"
      },
      {
        "duration": 1066,
        "start_time": "2023-09-11T12:44:24.760Z"
      },
      {
        "duration": 902,
        "start_time": "2023-09-11T12:45:41.194Z"
      },
      {
        "duration": 914,
        "start_time": "2023-09-11T12:46:03.097Z"
      },
      {
        "duration": 1044,
        "start_time": "2023-09-11T12:46:09.757Z"
      },
      {
        "duration": 895,
        "start_time": "2023-09-11T12:46:40.133Z"
      },
      {
        "duration": 881,
        "start_time": "2023-09-11T12:46:44.361Z"
      },
      {
        "duration": 885,
        "start_time": "2023-09-11T12:46:58.909Z"
      },
      {
        "duration": 1217,
        "start_time": "2023-09-11T12:47:31.840Z"
      },
      {
        "duration": 870,
        "start_time": "2023-09-11T12:47:39.231Z"
      },
      {
        "duration": 1078,
        "start_time": "2023-09-11T12:48:52.558Z"
      },
      {
        "duration": 16,
        "start_time": "2023-09-11T12:49:11.318Z"
      },
      {
        "duration": 16,
        "start_time": "2023-09-11T12:53:40.769Z"
      },
      {
        "duration": 1061,
        "start_time": "2023-09-11T12:53:51.484Z"
      },
      {
        "duration": 886,
        "start_time": "2023-09-11T12:54:02.287Z"
      },
      {
        "duration": 921,
        "start_time": "2023-09-11T12:55:14.812Z"
      },
      {
        "duration": 893,
        "start_time": "2023-09-11T12:55:23.293Z"
      },
      {
        "duration": 1328,
        "start_time": "2023-09-11T12:55:30.087Z"
      },
      {
        "duration": 1129,
        "start_time": "2023-09-11T12:55:39.991Z"
      },
      {
        "duration": 1074,
        "start_time": "2023-09-11T12:55:45.479Z"
      },
      {
        "duration": 1742,
        "start_time": "2023-09-11T12:55:54.354Z"
      },
      {
        "duration": 1668,
        "start_time": "2023-09-11T12:56:06.768Z"
      },
      {
        "duration": 1659,
        "start_time": "2023-09-11T12:56:39.638Z"
      },
      {
        "duration": 1681,
        "start_time": "2023-09-11T12:57:03.382Z"
      },
      {
        "duration": 1759,
        "start_time": "2023-09-11T13:00:37.535Z"
      },
      {
        "duration": 1633,
        "start_time": "2023-09-11T13:00:54.354Z"
      },
      {
        "duration": 2077,
        "start_time": "2023-09-11T13:01:06.735Z"
      },
      {
        "duration": 1962,
        "start_time": "2023-09-11T13:01:21.350Z"
      },
      {
        "duration": 2162,
        "start_time": "2023-09-11T13:01:30.086Z"
      },
      {
        "duration": 1723,
        "start_time": "2023-09-11T13:03:05.717Z"
      },
      {
        "duration": 1978,
        "start_time": "2023-09-11T13:03:18.084Z"
      },
      {
        "duration": 2163,
        "start_time": "2023-09-11T13:03:33.712Z"
      },
      {
        "duration": 64,
        "start_time": "2023-09-11T13:41:28.573Z"
      },
      {
        "duration": 70,
        "start_time": "2023-09-11T13:42:14.463Z"
      },
      {
        "duration": 2013,
        "start_time": "2023-09-11T13:42:20.211Z"
      },
      {
        "duration": 2554,
        "start_time": "2023-09-12T08:15:22.434Z"
      },
      {
        "duration": 94,
        "start_time": "2023-09-12T08:15:24.990Z"
      },
      {
        "duration": 7,
        "start_time": "2023-09-12T08:15:25.086Z"
      },
      {
        "duration": 76,
        "start_time": "2023-09-12T08:15:25.094Z"
      },
      {
        "duration": 11,
        "start_time": "2023-09-12T08:15:25.172Z"
      },
      {
        "duration": 41,
        "start_time": "2023-09-12T08:15:25.185Z"
      },
      {
        "duration": 11,
        "start_time": "2023-09-12T08:15:25.229Z"
      },
      {
        "duration": 29,
        "start_time": "2023-09-12T08:15:25.242Z"
      },
      {
        "duration": 17,
        "start_time": "2023-09-12T08:15:25.273Z"
      },
      {
        "duration": 14,
        "start_time": "2023-09-12T08:15:25.292Z"
      },
      {
        "duration": 520,
        "start_time": "2023-09-12T08:15:25.308Z"
      },
      {
        "duration": 8,
        "start_time": "2023-09-12T08:15:25.830Z"
      },
      {
        "duration": 450,
        "start_time": "2023-09-12T08:15:25.841Z"
      },
      {
        "duration": 8,
        "start_time": "2023-09-12T08:15:26.292Z"
      },
      {
        "duration": 646,
        "start_time": "2023-09-12T08:15:26.301Z"
      },
      {
        "duration": 8,
        "start_time": "2023-09-12T08:15:26.949Z"
      },
      {
        "duration": 460,
        "start_time": "2023-09-12T08:15:26.959Z"
      },
      {
        "duration": 5,
        "start_time": "2023-09-12T08:15:27.423Z"
      },
      {
        "duration": 6,
        "start_time": "2023-09-12T08:15:27.430Z"
      },
      {
        "duration": 15,
        "start_time": "2023-09-12T08:15:27.437Z"
      },
      {
        "duration": 11,
        "start_time": "2023-09-12T08:15:27.454Z"
      },
      {
        "duration": 11,
        "start_time": "2023-09-12T08:15:27.467Z"
      },
      {
        "duration": 29,
        "start_time": "2023-09-12T08:15:27.510Z"
      },
      {
        "duration": 160,
        "start_time": "2023-09-12T08:15:27.542Z"
      },
      {
        "duration": 0,
        "start_time": "2023-09-12T08:15:27.704Z"
      },
      {
        "duration": 0,
        "start_time": "2023-09-12T08:15:27.705Z"
      },
      {
        "duration": 0,
        "start_time": "2023-09-12T08:15:27.706Z"
      },
      {
        "duration": 0,
        "start_time": "2023-09-12T08:15:27.709Z"
      },
      {
        "duration": 0,
        "start_time": "2023-09-12T08:15:27.710Z"
      },
      {
        "duration": 0,
        "start_time": "2023-09-12T08:15:27.712Z"
      },
      {
        "duration": 0,
        "start_time": "2023-09-12T08:15:27.714Z"
      },
      {
        "duration": 0,
        "start_time": "2023-09-12T08:15:27.715Z"
      },
      {
        "duration": 0,
        "start_time": "2023-09-12T08:15:27.716Z"
      },
      {
        "duration": 0,
        "start_time": "2023-09-12T08:15:27.717Z"
      },
      {
        "duration": 0,
        "start_time": "2023-09-12T08:15:27.721Z"
      },
      {
        "duration": 13,
        "start_time": "2023-09-12T08:26:05.069Z"
      },
      {
        "duration": 14,
        "start_time": "2023-09-12T08:26:11.047Z"
      },
      {
        "duration": 14,
        "start_time": "2023-09-12T08:26:13.370Z"
      },
      {
        "duration": 13,
        "start_time": "2023-09-12T08:26:18.087Z"
      },
      {
        "duration": 11,
        "start_time": "2023-09-12T08:26:19.427Z"
      },
      {
        "duration": 15,
        "start_time": "2023-09-12T08:26:39.773Z"
      },
      {
        "duration": 18,
        "start_time": "2023-09-12T08:26:41.735Z"
      },
      {
        "duration": 45,
        "start_time": "2023-09-12T08:26:49.176Z"
      },
      {
        "duration": 8,
        "start_time": "2023-09-12T08:26:49.695Z"
      },
      {
        "duration": 19,
        "start_time": "2023-09-12T08:26:49.879Z"
      },
      {
        "duration": 12,
        "start_time": "2023-09-12T08:26:50.039Z"
      },
      {
        "duration": 28,
        "start_time": "2023-09-12T08:26:50.227Z"
      },
      {
        "duration": 16,
        "start_time": "2023-09-12T08:26:50.399Z"
      },
      {
        "duration": 6,
        "start_time": "2023-09-12T08:26:50.777Z"
      },
      {
        "duration": 9,
        "start_time": "2023-09-12T08:26:50.951Z"
      },
      {
        "duration": 5,
        "start_time": "2023-09-12T08:26:51.143Z"
      },
      {
        "duration": 548,
        "start_time": "2023-09-12T08:26:51.347Z"
      },
      {
        "duration": 16,
        "start_time": "2023-09-12T08:26:51.897Z"
      },
      {
        "duration": 512,
        "start_time": "2023-09-12T08:26:51.920Z"
      },
      {
        "duration": 17,
        "start_time": "2023-09-12T08:26:52.435Z"
      },
      {
        "duration": 780,
        "start_time": "2023-09-12T08:26:52.453Z"
      },
      {
        "duration": 8,
        "start_time": "2023-09-12T08:26:53.235Z"
      },
      {
        "duration": 495,
        "start_time": "2023-09-12T08:26:53.245Z"
      },
      {
        "duration": 5,
        "start_time": "2023-09-12T08:26:54.251Z"
      },
      {
        "duration": 4,
        "start_time": "2023-09-12T08:26:54.476Z"
      },
      {
        "duration": 15,
        "start_time": "2023-09-12T08:26:55.877Z"
      },
      {
        "duration": 15,
        "start_time": "2023-09-12T08:27:02.633Z"
      },
      {
        "duration": 16,
        "start_time": "2023-09-12T08:27:49.031Z"
      },
      {
        "duration": 18,
        "start_time": "2023-09-12T08:27:52.389Z"
      },
      {
        "duration": 18,
        "start_time": "2023-09-12T08:27:52.410Z"
      },
      {
        "duration": 7,
        "start_time": "2023-09-12T08:28:08.647Z"
      },
      {
        "duration": 26,
        "start_time": "2023-09-12T08:28:08.879Z"
      },
      {
        "duration": 10,
        "start_time": "2023-09-12T08:28:12.880Z"
      },
      {
        "duration": 80,
        "start_time": "2023-09-12T08:35:14.716Z"
      },
      {
        "duration": 5,
        "start_time": "2023-09-12T08:35:17.994Z"
      },
      {
        "duration": 3,
        "start_time": "2023-09-12T08:35:18.803Z"
      },
      {
        "duration": 48973,
        "start_time": "2023-09-12T08:35:23.054Z"
      },
      {
        "duration": 550802,
        "start_time": "2023-09-12T08:50:39.424Z"
      },
      {
        "duration": 55655,
        "start_time": "2023-09-12T09:04:19.873Z"
      },
      {
        "duration": 918,
        "start_time": "2023-09-12T09:05:27.082Z"
      },
      {
        "duration": 1882,
        "start_time": "2023-09-12T09:05:57.825Z"
      },
      {
        "duration": 1804,
        "start_time": "2023-09-12T09:06:11.276Z"
      },
      {
        "duration": 244,
        "start_time": "2023-09-12T09:06:28.611Z"
      },
      {
        "duration": 1811,
        "start_time": "2023-09-12T09:06:58.875Z"
      },
      {
        "duration": 1797,
        "start_time": "2023-09-12T09:07:19.238Z"
      },
      {
        "duration": 1476,
        "start_time": "2023-09-12T09:13:12.576Z"
      },
      {
        "duration": 1832,
        "start_time": "2023-09-12T09:13:41.070Z"
      },
      {
        "duration": 2298,
        "start_time": "2023-09-12T09:13:49.737Z"
      },
      {
        "duration": 6357,
        "start_time": "2023-09-12T09:25:08.775Z"
      },
      {
        "duration": 5679,
        "start_time": "2023-09-12T09:25:57.271Z"
      },
      {
        "duration": 115,
        "start_time": "2023-09-12T15:06:15.153Z"
      },
      {
        "duration": 84,
        "start_time": "2023-09-12T15:06:37.203Z"
      },
      {
        "duration": 617,
        "start_time": "2023-09-12T15:06:48.290Z"
      },
      {
        "duration": 17,
        "start_time": "2023-09-12T15:06:57.178Z"
      },
      {
        "duration": 3646,
        "start_time": "2023-09-12T15:07:16.645Z"
      },
      {
        "duration": 27,
        "start_time": "2023-09-12T15:07:24.478Z"
      },
      {
        "duration": 36,
        "start_time": "2023-09-12T15:08:22.729Z"
      },
      {
        "duration": 30,
        "start_time": "2023-09-12T15:08:25.660Z"
      },
      {
        "duration": 32,
        "start_time": "2023-09-12T15:09:56.748Z"
      },
      {
        "duration": 30,
        "start_time": "2023-09-12T15:10:14.308Z"
      },
      {
        "duration": 39,
        "start_time": "2023-09-12T15:32:28.349Z"
      },
      {
        "duration": 13,
        "start_time": "2023-09-12T15:35:16.197Z"
      },
      {
        "duration": 41,
        "start_time": "2023-09-12T15:35:23.234Z"
      },
      {
        "duration": 42,
        "start_time": "2023-09-12T15:35:46.570Z"
      },
      {
        "duration": 37,
        "start_time": "2023-09-12T15:36:19.370Z"
      },
      {
        "duration": 31,
        "start_time": "2023-09-12T15:36:34.542Z"
      },
      {
        "duration": 40,
        "start_time": "2023-09-12T15:38:32.795Z"
      },
      {
        "duration": 2,
        "start_time": "2023-09-12T15:46:23.368Z"
      },
      {
        "duration": 356461,
        "start_time": "2023-09-12T15:46:25.644Z"
      },
      {
        "duration": 4,
        "start_time": "2023-09-12T15:52:22.110Z"
      },
      {
        "duration": 23,
        "start_time": "2023-09-12T15:52:43.542Z"
      },
      {
        "duration": 21,
        "start_time": "2023-09-12T15:55:04.514Z"
      },
      {
        "duration": 22,
        "start_time": "2023-09-12T15:55:11.558Z"
      },
      {
        "duration": 24,
        "start_time": "2023-09-12T15:55:27.293Z"
      },
      {
        "duration": 0,
        "start_time": "2023-09-12T15:57:59.345Z"
      },
      {
        "duration": 201,
        "start_time": "2023-09-12T16:03:46.261Z"
      },
      {
        "duration": 59443,
        "start_time": "2023-09-12T16:04:14.485Z"
      },
      {
        "duration": 135685,
        "start_time": "2023-09-12T16:05:15.155Z"
      },
      {
        "duration": 20,
        "start_time": "2023-09-12T16:14:56.239Z"
      },
      {
        "duration": 77406,
        "start_time": "2023-09-12T16:15:23.623Z"
      },
      {
        "duration": 6,
        "start_time": "2023-09-12T16:16:44.442Z"
      },
      {
        "duration": 57550,
        "start_time": "2023-09-12T16:16:56.379Z"
      },
      {
        "duration": 0,
        "start_time": "2023-09-12T16:18:02.033Z"
      },
      {
        "duration": 28609,
        "start_time": "2023-09-15T09:55:20.178Z"
      },
      {
        "duration": 92,
        "start_time": "2023-09-15T09:55:48.789Z"
      },
      {
        "duration": 6,
        "start_time": "2023-09-15T09:55:48.883Z"
      },
      {
        "duration": 67,
        "start_time": "2023-09-15T09:55:48.890Z"
      },
      {
        "duration": 10,
        "start_time": "2023-09-15T09:55:48.959Z"
      },
      {
        "duration": 47,
        "start_time": "2023-09-15T09:55:48.970Z"
      },
      {
        "duration": 18,
        "start_time": "2023-09-15T09:55:49.019Z"
      },
      {
        "duration": 13,
        "start_time": "2023-09-15T09:55:49.040Z"
      },
      {
        "duration": 19,
        "start_time": "2023-09-15T09:55:49.054Z"
      },
      {
        "duration": 9,
        "start_time": "2023-09-15T09:55:49.075Z"
      },
      {
        "duration": 453,
        "start_time": "2023-09-15T09:55:49.086Z"
      },
      {
        "duration": 7,
        "start_time": "2023-09-15T09:55:49.542Z"
      },
      {
        "duration": 400,
        "start_time": "2023-09-15T09:55:49.551Z"
      },
      {
        "duration": 8,
        "start_time": "2023-09-15T09:55:49.953Z"
      },
      {
        "duration": 634,
        "start_time": "2023-09-15T09:55:49.962Z"
      },
      {
        "duration": 6,
        "start_time": "2023-09-15T09:55:50.598Z"
      },
      {
        "duration": 460,
        "start_time": "2023-09-15T09:55:50.605Z"
      },
      {
        "duration": 4,
        "start_time": "2023-09-15T09:55:51.066Z"
      },
      {
        "duration": 43,
        "start_time": "2023-09-15T09:55:51.071Z"
      },
      {
        "duration": 32,
        "start_time": "2023-09-15T09:55:51.116Z"
      },
      {
        "duration": 47,
        "start_time": "2023-09-15T09:55:51.150Z"
      },
      {
        "duration": 36,
        "start_time": "2023-09-15T09:55:51.199Z"
      },
      {
        "duration": 71,
        "start_time": "2023-09-15T09:55:51.239Z"
      },
      {
        "duration": 343,
        "start_time": "2023-09-15T09:55:51.313Z"
      },
      {
        "duration": 0,
        "start_time": "2023-09-15T09:55:51.658Z"
      },
      {
        "duration": 0,
        "start_time": "2023-09-15T09:55:51.660Z"
      },
      {
        "duration": 0,
        "start_time": "2023-09-15T09:55:51.662Z"
      },
      {
        "duration": 0,
        "start_time": "2023-09-15T09:55:51.663Z"
      },
      {
        "duration": 0,
        "start_time": "2023-09-15T09:55:51.665Z"
      },
      {
        "duration": 0,
        "start_time": "2023-09-15T09:55:51.666Z"
      },
      {
        "duration": 0,
        "start_time": "2023-09-15T09:55:51.667Z"
      },
      {
        "duration": 0,
        "start_time": "2023-09-15T09:55:51.668Z"
      },
      {
        "duration": 0,
        "start_time": "2023-09-15T09:55:51.669Z"
      },
      {
        "duration": 0,
        "start_time": "2023-09-15T09:55:51.670Z"
      },
      {
        "duration": 0,
        "start_time": "2023-09-15T09:55:51.672Z"
      },
      {
        "duration": 0,
        "start_time": "2023-09-15T09:55:51.673Z"
      },
      {
        "duration": 13,
        "start_time": "2023-09-15T09:59:29.399Z"
      },
      {
        "duration": 12,
        "start_time": "2023-09-15T09:59:30.424Z"
      },
      {
        "duration": 6,
        "start_time": "2023-09-15T09:59:33.659Z"
      },
      {
        "duration": 24,
        "start_time": "2023-09-15T09:59:33.869Z"
      },
      {
        "duration": 7,
        "start_time": "2023-09-15T09:59:35.096Z"
      },
      {
        "duration": 36,
        "start_time": "2023-09-15T10:00:32.643Z"
      },
      {
        "duration": 4,
        "start_time": "2023-09-15T10:01:02.164Z"
      },
      {
        "duration": 4,
        "start_time": "2023-09-15T10:01:02.551Z"
      },
      {
        "duration": 12,
        "start_time": "2023-09-15T10:01:04.856Z"
      },
      {
        "duration": 15,
        "start_time": "2023-09-15T10:02:33.215Z"
      },
      {
        "duration": 34,
        "start_time": "2023-09-15T10:03:06.335Z"
      },
      {
        "duration": 4009,
        "start_time": "2023-09-15T10:03:16.375Z"
      },
      {
        "duration": 5,
        "start_time": "2023-09-15T10:03:24.811Z"
      },
      {
        "duration": 4,
        "start_time": "2023-09-15T10:03:25.072Z"
      },
      {
        "duration": 17,
        "start_time": "2023-09-15T10:03:25.874Z"
      },
      {
        "duration": 11,
        "start_time": "2023-09-15T10:03:51.946Z"
      },
      {
        "duration": 72,
        "start_time": "2023-09-15T10:06:58.633Z"
      },
      {
        "duration": 5,
        "start_time": "2023-09-15T10:06:59.013Z"
      },
      {
        "duration": 341528,
        "start_time": "2023-09-15T10:07:03.301Z"
      },
      {
        "duration": 1967,
        "start_time": "2023-09-15T10:12:44.831Z"
      },
      {
        "duration": 3894,
        "start_time": "2023-09-15T10:12:46.800Z"
      },
      {
        "duration": 3,
        "start_time": "2023-09-15T10:12:50.763Z"
      },
      {
        "duration": 29095,
        "start_time": "2023-09-15T10:13:22.261Z"
      },
      {
        "duration": 74,
        "start_time": "2023-09-15T10:14:08.259Z"
      },
      {
        "duration": 72078,
        "start_time": "2023-09-15T10:18:46.674Z"
      },
      {
        "duration": 71,
        "start_time": "2023-09-15T10:20:08.472Z"
      },
      {
        "duration": 224,
        "start_time": "2023-09-15T10:20:45.443Z"
      },
      {
        "duration": 2161,
        "start_time": "2023-09-15T10:20:52.403Z"
      },
      {
        "duration": 38,
        "start_time": "2023-09-15T10:21:04.200Z"
      },
      {
        "duration": 34,
        "start_time": "2023-09-15T10:21:34.907Z"
      },
      {
        "duration": 17,
        "start_time": "2023-09-15T10:24:17.752Z"
      },
      {
        "duration": 0,
        "start_time": "2023-09-15T10:24:17.770Z"
      },
      {
        "duration": 141176,
        "start_time": "2023-09-15T10:24:58.161Z"
      },
      {
        "duration": 73307,
        "start_time": "2023-09-15T10:27:19.339Z"
      },
      {
        "duration": 260899,
        "start_time": "2023-09-15T10:28:32.648Z"
      },
      {
        "duration": 0,
        "start_time": "2023-09-15T10:33:32.761Z"
      },
      {
        "duration": 22,
        "start_time": "2023-09-15T10:33:34.646Z"
      },
      {
        "duration": 1,
        "start_time": "2023-09-15T10:34:34.350Z"
      },
      {
        "duration": 1248617,
        "start_time": "2023-09-15T10:34:35.017Z"
      },
      {
        "duration": 17349,
        "start_time": "2023-09-15T11:42:32.505Z"
      },
      {
        "duration": 6687,
        "start_time": "2023-09-15T11:42:53.557Z"
      },
      {
        "duration": 159685,
        "start_time": "2023-09-15T11:46:26.755Z"
      },
      {
        "duration": 2421720,
        "start_time": "2023-09-15T11:49:12.249Z"
      },
      {
        "duration": 112,
        "start_time": "2023-09-15T13:45:25.509Z"
      },
      {
        "duration": 33,
        "start_time": "2023-09-15T13:45:49.608Z"
      },
      {
        "duration": 37319,
        "start_time": "2023-09-15T13:46:04.317Z"
      },
      {
        "duration": 29422,
        "start_time": "2023-09-15T13:50:17.946Z"
      },
      {
        "duration": 272418,
        "start_time": "2023-09-15T13:51:31.009Z"
      },
      {
        "duration": 8,
        "start_time": "2023-09-15T13:57:31.670Z"
      },
      {
        "duration": 34431,
        "start_time": "2023-09-15T13:57:41.549Z"
      },
      {
        "duration": 31016,
        "start_time": "2023-09-15T13:59:04.165Z"
      },
      {
        "duration": 36897,
        "start_time": "2023-09-15T13:59:45.932Z"
      },
      {
        "duration": 19,
        "start_time": "2023-09-15T14:02:18.067Z"
      },
      {
        "duration": 29585,
        "start_time": "2023-09-15T14:02:30.763Z"
      },
      {
        "duration": 151,
        "start_time": "2023-09-15T14:07:40.730Z"
      },
      {
        "duration": 364,
        "start_time": "2023-09-15T14:09:16.894Z"
      },
      {
        "duration": 5,
        "start_time": "2023-09-15T14:15:19.182Z"
      },
      {
        "duration": 124,
        "start_time": "2023-09-15T14:15:47.963Z"
      },
      {
        "duration": 118,
        "start_time": "2023-09-15T14:15:53.582Z"
      },
      {
        "duration": 6,
        "start_time": "2023-09-15T14:16:59.849Z"
      },
      {
        "duration": 7,
        "start_time": "2023-09-15T14:17:21.851Z"
      },
      {
        "duration": 9,
        "start_time": "2023-09-15T14:17:27.055Z"
      },
      {
        "duration": 144,
        "start_time": "2023-09-15T14:17:47.255Z"
      },
      {
        "duration": 5,
        "start_time": "2023-09-15T14:18:48.190Z"
      },
      {
        "duration": 6,
        "start_time": "2023-09-15T14:18:55.804Z"
      },
      {
        "duration": 11,
        "start_time": "2023-09-15T14:19:44.049Z"
      },
      {
        "duration": 6,
        "start_time": "2023-09-15T14:19:45.307Z"
      },
      {
        "duration": 162,
        "start_time": "2023-09-15T14:20:01.950Z"
      },
      {
        "duration": 146,
        "start_time": "2023-09-15T14:20:41.745Z"
      },
      {
        "duration": 90308,
        "start_time": "2023-09-15T14:20:50.156Z"
      },
      {
        "duration": 27790,
        "start_time": "2023-09-16T04:53:39.183Z"
      },
      {
        "duration": 82,
        "start_time": "2023-09-16T04:54:06.975Z"
      },
      {
        "duration": 33,
        "start_time": "2023-09-16T04:54:07.058Z"
      },
      {
        "duration": 227,
        "start_time": "2023-09-16T04:54:07.093Z"
      },
      {
        "duration": 86,
        "start_time": "2023-09-16T04:54:07.322Z"
      },
      {
        "duration": 94,
        "start_time": "2023-09-16T04:54:07.410Z"
      },
      {
        "duration": 105,
        "start_time": "2023-09-16T04:54:07.506Z"
      },
      {
        "duration": 86,
        "start_time": "2023-09-16T04:54:07.612Z"
      },
      {
        "duration": 15,
        "start_time": "2023-09-16T04:54:07.700Z"
      },
      {
        "duration": 24,
        "start_time": "2023-09-16T04:54:07.717Z"
      },
      {
        "duration": 437,
        "start_time": "2023-09-16T04:54:07.742Z"
      },
      {
        "duration": 8,
        "start_time": "2023-09-16T04:54:08.181Z"
      },
      {
        "duration": 395,
        "start_time": "2023-09-16T04:54:08.191Z"
      },
      {
        "duration": 7,
        "start_time": "2023-09-16T04:54:08.587Z"
      },
      {
        "duration": 560,
        "start_time": "2023-09-16T04:54:08.595Z"
      },
      {
        "duration": 7,
        "start_time": "2023-09-16T04:54:09.157Z"
      },
      {
        "duration": 554,
        "start_time": "2023-09-16T04:54:09.165Z"
      },
      {
        "duration": 4,
        "start_time": "2023-09-16T04:54:09.723Z"
      },
      {
        "duration": 24,
        "start_time": "2023-09-16T04:54:09.729Z"
      },
      {
        "duration": 20,
        "start_time": "2023-09-16T04:54:09.754Z"
      },
      {
        "duration": 44,
        "start_time": "2023-09-16T04:54:09.776Z"
      },
      {
        "duration": 94,
        "start_time": "2023-09-16T04:54:09.822Z"
      },
      {
        "duration": 44,
        "start_time": "2023-09-16T04:54:09.917Z"
      },
      {
        "duration": 164,
        "start_time": "2023-09-16T04:54:09.963Z"
      },
      {
        "duration": 0,
        "start_time": "2023-09-16T04:54:10.129Z"
      },
      {
        "duration": 0,
        "start_time": "2023-09-16T04:54:10.130Z"
      },
      {
        "duration": 0,
        "start_time": "2023-09-16T04:54:10.131Z"
      },
      {
        "duration": 0,
        "start_time": "2023-09-16T04:54:10.132Z"
      },
      {
        "duration": 0,
        "start_time": "2023-09-16T04:54:10.133Z"
      },
      {
        "duration": 0,
        "start_time": "2023-09-16T04:54:10.134Z"
      },
      {
        "duration": 0,
        "start_time": "2023-09-16T04:54:10.134Z"
      },
      {
        "duration": 0,
        "start_time": "2023-09-16T04:54:10.135Z"
      },
      {
        "duration": 0,
        "start_time": "2023-09-16T04:54:10.136Z"
      },
      {
        "duration": 0,
        "start_time": "2023-09-16T04:54:10.137Z"
      },
      {
        "duration": 0,
        "start_time": "2023-09-16T04:54:10.138Z"
      },
      {
        "duration": 0,
        "start_time": "2023-09-16T04:54:10.139Z"
      },
      {
        "duration": 0,
        "start_time": "2023-09-16T04:54:10.140Z"
      },
      {
        "duration": 3980,
        "start_time": "2023-09-16T04:54:45.079Z"
      },
      {
        "duration": 40,
        "start_time": "2023-09-16T04:54:49.061Z"
      },
      {
        "duration": 7,
        "start_time": "2023-09-16T04:54:49.102Z"
      },
      {
        "duration": 57,
        "start_time": "2023-09-16T04:54:49.110Z"
      },
      {
        "duration": 17,
        "start_time": "2023-09-16T04:54:49.171Z"
      },
      {
        "duration": 49,
        "start_time": "2023-09-16T04:54:49.190Z"
      },
      {
        "duration": 14,
        "start_time": "2023-09-16T04:54:49.241Z"
      },
      {
        "duration": 5,
        "start_time": "2023-09-16T04:54:49.257Z"
      },
      {
        "duration": 10,
        "start_time": "2023-09-16T04:54:49.264Z"
      },
      {
        "duration": 5,
        "start_time": "2023-09-16T04:54:49.276Z"
      },
      {
        "duration": 473,
        "start_time": "2023-09-16T04:54:49.283Z"
      },
      {
        "duration": 7,
        "start_time": "2023-09-16T04:54:49.758Z"
      },
      {
        "duration": 389,
        "start_time": "2023-09-16T04:54:49.766Z"
      },
      {
        "duration": 7,
        "start_time": "2023-09-16T04:54:50.158Z"
      },
      {
        "duration": 461,
        "start_time": "2023-09-16T04:54:50.167Z"
      },
      {
        "duration": 8,
        "start_time": "2023-09-16T04:54:50.630Z"
      },
      {
        "duration": 527,
        "start_time": "2023-09-16T04:54:50.639Z"
      },
      {
        "duration": 4,
        "start_time": "2023-09-16T04:54:51.167Z"
      },
      {
        "duration": 35,
        "start_time": "2023-09-16T04:54:51.172Z"
      },
      {
        "duration": 45,
        "start_time": "2023-09-16T04:54:51.209Z"
      },
      {
        "duration": 32,
        "start_time": "2023-09-16T04:54:51.255Z"
      },
      {
        "duration": 36,
        "start_time": "2023-09-16T04:54:51.289Z"
      },
      {
        "duration": 51,
        "start_time": "2023-09-16T04:54:51.327Z"
      },
      {
        "duration": 10,
        "start_time": "2023-09-16T04:54:51.379Z"
      },
      {
        "duration": 94,
        "start_time": "2023-09-16T04:54:51.391Z"
      },
      {
        "duration": 31,
        "start_time": "2023-09-16T04:54:51.486Z"
      },
      {
        "duration": 35,
        "start_time": "2023-09-16T04:54:51.519Z"
      },
      {
        "duration": 65878,
        "start_time": "2023-09-16T04:54:51.556Z"
      },
      {
        "duration": 2126,
        "start_time": "2023-09-16T04:55:57.436Z"
      },
      {
        "duration": 4316,
        "start_time": "2023-09-16T04:55:59.563Z"
      },
      {
        "duration": 40,
        "start_time": "2023-09-16T04:56:03.882Z"
      },
      {
        "duration": 187002,
        "start_time": "2023-09-16T04:56:03.923Z"
      },
      {
        "duration": 27897,
        "start_time": "2023-09-16T04:59:10.928Z"
      },
      {
        "duration": 157,
        "start_time": "2023-09-16T04:59:38.827Z"
      },
      {
        "duration": 0,
        "start_time": "2023-09-16T04:59:38.985Z"
      },
      {
        "duration": 0,
        "start_time": "2023-09-16T04:59:38.987Z"
      },
      {
        "duration": 0,
        "start_time": "2023-09-16T04:59:38.988Z"
      },
      {
        "duration": 28811,
        "start_time": "2023-09-18T08:04:14.751Z"
      },
      {
        "duration": 86,
        "start_time": "2023-09-18T08:04:43.564Z"
      },
      {
        "duration": 8,
        "start_time": "2023-09-18T08:04:43.651Z"
      },
      {
        "duration": 64,
        "start_time": "2023-09-18T08:04:43.661Z"
      },
      {
        "duration": 12,
        "start_time": "2023-09-18T08:04:43.727Z"
      },
      {
        "duration": 71,
        "start_time": "2023-09-18T08:04:43.741Z"
      },
      {
        "duration": 14,
        "start_time": "2023-09-18T08:04:43.815Z"
      },
      {
        "duration": 35,
        "start_time": "2023-09-18T08:04:43.831Z"
      },
      {
        "duration": 18,
        "start_time": "2023-09-18T08:04:43.868Z"
      },
      {
        "duration": 22,
        "start_time": "2023-09-18T08:04:43.889Z"
      },
      {
        "duration": 558,
        "start_time": "2023-09-18T08:04:43.913Z"
      },
      {
        "duration": 8,
        "start_time": "2023-09-18T08:04:44.473Z"
      },
      {
        "duration": 666,
        "start_time": "2023-09-18T08:04:44.483Z"
      },
      {
        "duration": 7,
        "start_time": "2023-09-18T08:04:45.151Z"
      },
      {
        "duration": 734,
        "start_time": "2023-09-18T08:04:45.160Z"
      },
      {
        "duration": 15,
        "start_time": "2023-09-18T08:04:45.896Z"
      },
      {
        "duration": 510,
        "start_time": "2023-09-18T08:04:45.914Z"
      },
      {
        "duration": 5,
        "start_time": "2023-09-18T08:07:37.457Z"
      },
      {
        "duration": 5,
        "start_time": "2023-09-18T08:07:38.157Z"
      },
      {
        "duration": 12,
        "start_time": "2023-09-18T08:07:40.436Z"
      },
      {
        "duration": 14,
        "start_time": "2023-09-18T08:07:52.904Z"
      },
      {
        "duration": 187,
        "start_time": "2023-09-18T11:36:36.852Z"
      },
      {
        "duration": 16,
        "start_time": "2023-09-18T11:37:13.675Z"
      },
      {
        "duration": 4052,
        "start_time": "2023-09-18T11:37:19.594Z"
      },
      {
        "duration": 68,
        "start_time": "2023-09-18T11:37:23.649Z"
      },
      {
        "duration": 3,
        "start_time": "2023-09-18T11:37:29.667Z"
      },
      {
        "duration": 24,
        "start_time": "2023-09-18T11:37:32.891Z"
      },
      {
        "duration": 70,
        "start_time": "2023-09-18T11:37:45.862Z"
      },
      {
        "duration": 17,
        "start_time": "2023-09-18T11:38:08.510Z"
      },
      {
        "duration": 20,
        "start_time": "2023-09-18T11:40:02.757Z"
      },
      {
        "duration": 92,
        "start_time": "2023-09-18T11:41:35.691Z"
      },
      {
        "duration": 5396,
        "start_time": "2023-09-18T11:43:48.335Z"
      },
      {
        "duration": 5,
        "start_time": "2023-09-18T11:44:20.197Z"
      },
      {
        "duration": 20,
        "start_time": "2023-09-18T11:44:20.608Z"
      },
      {
        "duration": 16,
        "start_time": "2023-09-18T11:44:25.412Z"
      },
      {
        "duration": 12,
        "start_time": "2023-09-18T11:44:27.323Z"
      },
      {
        "duration": 8,
        "start_time": "2023-09-18T11:44:30.916Z"
      },
      {
        "duration": 29,
        "start_time": "2023-09-18T11:44:31.104Z"
      },
      {
        "duration": 8,
        "start_time": "2023-09-18T11:44:31.791Z"
      },
      {
        "duration": 78,
        "start_time": "2023-09-18T11:44:34.050Z"
      },
      {
        "duration": 6,
        "start_time": "2023-09-18T11:44:38.684Z"
      },
      {
        "duration": 1453,
        "start_time": "2023-09-18T11:46:03.563Z"
      },
      {
        "duration": 4,
        "start_time": "2023-09-18T11:46:24.211Z"
      },
      {
        "duration": 14666,
        "start_time": "2023-09-18T11:46:37.171Z"
      },
      {
        "duration": 14917,
        "start_time": "2023-09-18T11:47:43.591Z"
      },
      {
        "duration": 14666,
        "start_time": "2023-09-18T11:48:09.070Z"
      },
      {
        "duration": 15106,
        "start_time": "2023-09-18T11:48:54.317Z"
      },
      {
        "duration": 14103,
        "start_time": "2023-09-18T11:50:12.234Z"
      },
      {
        "duration": 14289,
        "start_time": "2023-09-18T11:50:36.316Z"
      },
      {
        "duration": 0,
        "start_time": "2023-09-18T11:55:12.118Z"
      },
      {
        "duration": 19,
        "start_time": "2023-09-18T11:56:49.565Z"
      },
      {
        "duration": 21,
        "start_time": "2023-09-18T11:57:02.051Z"
      },
      {
        "duration": 128005,
        "start_time": "2023-09-18T11:59:54.120Z"
      },
      {
        "duration": 30,
        "start_time": "2023-09-18T12:06:43.055Z"
      },
      {
        "duration": 30,
        "start_time": "2023-09-18T12:07:16.899Z"
      },
      {
        "duration": 143,
        "start_time": "2023-09-18T12:07:50.371Z"
      },
      {
        "duration": 228,
        "start_time": "2023-09-18T12:08:17.394Z"
      },
      {
        "duration": 4568,
        "start_time": "2023-09-18T12:35:11.440Z"
      },
      {
        "duration": 42,
        "start_time": "2023-09-18T12:35:16.010Z"
      },
      {
        "duration": 7,
        "start_time": "2023-09-18T12:35:16.054Z"
      },
      {
        "duration": 100,
        "start_time": "2023-09-18T12:35:16.063Z"
      },
      {
        "duration": 11,
        "start_time": "2023-09-18T12:35:16.166Z"
      },
      {
        "duration": 57,
        "start_time": "2023-09-18T12:35:16.179Z"
      },
      {
        "duration": 21,
        "start_time": "2023-09-18T12:35:16.238Z"
      },
      {
        "duration": 22,
        "start_time": "2023-09-18T12:35:16.261Z"
      },
      {
        "duration": 26,
        "start_time": "2023-09-18T12:35:16.285Z"
      },
      {
        "duration": 28,
        "start_time": "2023-09-18T12:35:16.314Z"
      },
      {
        "duration": 507,
        "start_time": "2023-09-18T12:35:16.344Z"
      },
      {
        "duration": 8,
        "start_time": "2023-09-18T12:35:16.852Z"
      },
      {
        "duration": 432,
        "start_time": "2023-09-18T12:35:16.861Z"
      },
      {
        "duration": 8,
        "start_time": "2023-09-18T12:35:17.301Z"
      },
      {
        "duration": 493,
        "start_time": "2023-09-18T12:35:17.311Z"
      },
      {
        "duration": 7,
        "start_time": "2023-09-18T12:35:17.806Z"
      },
      {
        "duration": 567,
        "start_time": "2023-09-18T12:35:17.815Z"
      },
      {
        "duration": 4,
        "start_time": "2023-09-18T12:35:18.384Z"
      },
      {
        "duration": 290,
        "start_time": "2023-09-18T12:35:18.390Z"
      },
      {
        "duration": 106,
        "start_time": "2023-09-18T12:35:18.682Z"
      },
      {
        "duration": 16,
        "start_time": "2023-09-18T12:35:18.789Z"
      },
      {
        "duration": 10,
        "start_time": "2023-09-18T12:35:18.806Z"
      },
      {
        "duration": 33,
        "start_time": "2023-09-18T12:35:18.818Z"
      },
      {
        "duration": 8,
        "start_time": "2023-09-18T12:35:18.853Z"
      },
      {
        "duration": 81,
        "start_time": "2023-09-18T12:35:18.862Z"
      },
      {
        "duration": 4,
        "start_time": "2023-09-18T12:35:18.945Z"
      },
      {
        "duration": 5,
        "start_time": "2023-09-18T12:35:18.951Z"
      },
      {
        "duration": 77154,
        "start_time": "2023-09-18T12:35:18.959Z"
      },
      {
        "duration": 2068,
        "start_time": "2023-09-18T12:36:36.114Z"
      },
      {
        "duration": 2547,
        "start_time": "2023-09-18T12:36:38.185Z"
      },
      {
        "duration": 41,
        "start_time": "2023-09-18T12:36:59.861Z"
      },
      {
        "duration": 181,
        "start_time": "2023-09-18T12:37:07.781Z"
      },
      {
        "duration": 23,
        "start_time": "2023-09-18T12:38:18.733Z"
      },
      {
        "duration": 35,
        "start_time": "2023-09-18T12:38:55.328Z"
      },
      {
        "duration": 46,
        "start_time": "2023-09-18T12:40:12.443Z"
      },
      {
        "duration": 357,
        "start_time": "2023-09-18T12:40:32.286Z"
      },
      {
        "duration": 32,
        "start_time": "2023-09-18T12:40:39.423Z"
      },
      {
        "duration": 32,
        "start_time": "2023-09-18T12:41:17.003Z"
      },
      {
        "duration": 384,
        "start_time": "2023-09-18T12:42:38.447Z"
      },
      {
        "duration": 14,
        "start_time": "2023-09-18T12:51:44.336Z"
      },
      {
        "duration": 12,
        "start_time": "2023-09-18T12:51:46.123Z"
      },
      {
        "duration": 7,
        "start_time": "2023-09-18T12:52:02.570Z"
      },
      {
        "duration": 26,
        "start_time": "2023-09-18T12:52:02.962Z"
      },
      {
        "duration": 9,
        "start_time": "2023-09-18T12:52:05.814Z"
      },
      {
        "duration": 75,
        "start_time": "2023-09-18T12:52:08.420Z"
      },
      {
        "duration": 5,
        "start_time": "2023-09-18T12:52:11.122Z"
      },
      {
        "duration": 351,
        "start_time": "2023-09-18T12:52:29.989Z"
      },
      {
        "duration": 422,
        "start_time": "2023-09-18T12:53:24.582Z"
      },
      {
        "duration": 33,
        "start_time": "2023-09-18T12:53:30.759Z"
      },
      {
        "duration": 31,
        "start_time": "2023-09-18T12:53:47.088Z"
      },
      {
        "duration": 14,
        "start_time": "2023-09-18T12:54:47.624Z"
      },
      {
        "duration": 17,
        "start_time": "2023-09-18T12:55:05.493Z"
      },
      {
        "duration": 17,
        "start_time": "2023-09-18T12:55:44.015Z"
      },
      {
        "duration": 3,
        "start_time": "2023-09-18T12:55:52.803Z"
      },
      {
        "duration": 30,
        "start_time": "2023-09-18T12:56:03.180Z"
      },
      {
        "duration": 31,
        "start_time": "2023-09-18T12:56:19.413Z"
      },
      {
        "duration": 32,
        "start_time": "2023-09-18T12:56:41.688Z"
      },
      {
        "duration": 34,
        "start_time": "2023-09-18T12:56:55.028Z"
      },
      {
        "duration": 35,
        "start_time": "2023-09-18T12:57:03.847Z"
      },
      {
        "duration": 24,
        "start_time": "2023-09-18T13:00:09.625Z"
      },
      {
        "duration": 34,
        "start_time": "2023-09-18T13:00:23.788Z"
      },
      {
        "duration": 26,
        "start_time": "2023-09-18T13:01:10.766Z"
      },
      {
        "duration": 44,
        "start_time": "2023-09-18T13:02:49.080Z"
      },
      {
        "duration": 960,
        "start_time": "2023-09-18T13:04:15.184Z"
      },
      {
        "duration": 981,
        "start_time": "2023-09-18T13:04:32.187Z"
      },
      {
        "duration": 1002,
        "start_time": "2023-09-18T13:04:39.841Z"
      },
      {
        "duration": 990,
        "start_time": "2023-09-18T13:05:31.294Z"
      },
      {
        "duration": 16,
        "start_time": "2023-09-18T13:06:13.557Z"
      },
      {
        "duration": 4,
        "start_time": "2023-09-18T13:06:19.977Z"
      },
      {
        "duration": 4,
        "start_time": "2023-09-18T13:06:26.847Z"
      },
      {
        "duration": 928,
        "start_time": "2023-09-18T13:07:56.841Z"
      },
      {
        "duration": 1543374,
        "start_time": "2023-09-18T13:09:07.039Z"
      },
      {
        "duration": 11,
        "start_time": "2023-09-18T13:41:15.379Z"
      },
      {
        "duration": 11,
        "start_time": "2023-09-18T13:41:30.410Z"
      },
      {
        "duration": 4,
        "start_time": "2023-09-18T13:42:25.009Z"
      },
      {
        "duration": 14,
        "start_time": "2023-09-18T13:42:45.899Z"
      },
      {
        "duration": 4,
        "start_time": "2023-09-18T13:43:00.661Z"
      },
      {
        "duration": 444456,
        "start_time": "2023-09-18T13:43:39.462Z"
      },
      {
        "duration": 131,
        "start_time": "2023-09-18T14:55:04.287Z"
      },
      {
        "duration": 58,
        "start_time": "2023-09-19T08:48:42.307Z"
      },
      {
        "duration": 29127,
        "start_time": "2023-09-19T08:49:17.365Z"
      },
      {
        "duration": 80,
        "start_time": "2023-09-19T08:49:46.495Z"
      },
      {
        "duration": 9,
        "start_time": "2023-09-19T08:49:46.577Z"
      },
      {
        "duration": 69,
        "start_time": "2023-09-19T08:49:46.589Z"
      },
      {
        "duration": 12,
        "start_time": "2023-09-19T08:49:46.661Z"
      },
      {
        "duration": 39,
        "start_time": "2023-09-19T08:49:46.675Z"
      },
      {
        "duration": 15,
        "start_time": "2023-09-19T08:49:46.716Z"
      },
      {
        "duration": 26,
        "start_time": "2023-09-19T08:49:46.733Z"
      },
      {
        "duration": 19,
        "start_time": "2023-09-19T08:49:46.761Z"
      },
      {
        "duration": 13,
        "start_time": "2023-09-19T08:49:46.783Z"
      },
      {
        "duration": 509,
        "start_time": "2023-09-19T08:49:46.798Z"
      },
      {
        "duration": 7,
        "start_time": "2023-09-19T08:49:47.309Z"
      },
      {
        "duration": 443,
        "start_time": "2023-09-19T08:49:47.317Z"
      },
      {
        "duration": 8,
        "start_time": "2023-09-19T08:49:47.763Z"
      },
      {
        "duration": 668,
        "start_time": "2023-09-19T08:49:47.773Z"
      },
      {
        "duration": 15,
        "start_time": "2023-09-19T08:49:48.443Z"
      },
      {
        "duration": 472,
        "start_time": "2023-09-19T08:49:48.460Z"
      },
      {
        "duration": 5,
        "start_time": "2023-09-19T08:49:48.935Z"
      },
      {
        "duration": 57,
        "start_time": "2023-09-19T08:49:48.943Z"
      },
      {
        "duration": 23,
        "start_time": "2023-09-19T08:49:49.002Z"
      },
      {
        "duration": 24,
        "start_time": "2023-09-19T08:49:49.027Z"
      },
      {
        "duration": 42,
        "start_time": "2023-09-19T08:49:49.053Z"
      },
      {
        "duration": 49,
        "start_time": "2023-09-19T08:49:49.097Z"
      },
      {
        "duration": 8,
        "start_time": "2023-09-19T08:49:49.148Z"
      },
      {
        "duration": 79,
        "start_time": "2023-09-19T08:49:49.158Z"
      },
      {
        "duration": 6,
        "start_time": "2023-09-19T08:49:49.239Z"
      },
      {
        "duration": 5,
        "start_time": "2023-09-19T08:49:49.256Z"
      },
      {
        "duration": 14,
        "start_time": "2023-09-19T08:49:49.264Z"
      },
      {
        "duration": 77482,
        "start_time": "2023-09-19T08:49:49.281Z"
      },
      {
        "duration": 2069,
        "start_time": "2023-09-19T08:52:35.712Z"
      },
      {
        "duration": 3591,
        "start_time": "2023-09-19T08:52:43.793Z"
      },
      {
        "duration": 58,
        "start_time": "2023-09-19T08:52:47.388Z"
      },
      {
        "duration": 1274,
        "start_time": "2023-09-19T08:53:02.441Z"
      },
      {
        "duration": 1142,
        "start_time": "2023-09-19T08:53:38.838Z"
      },
      {
        "duration": 1140,
        "start_time": "2023-09-19T08:56:50.148Z"
      },
      {
        "duration": 384,
        "start_time": "2023-09-19T08:57:26.015Z"
      },
      {
        "duration": 2480,
        "start_time": "2023-09-19T09:00:14.161Z"
      },
      {
        "duration": 5,
        "start_time": "2023-09-19T09:00:16.643Z"
      },
      {
        "duration": 146525,
        "start_time": "2023-09-19T09:00:16.656Z"
      },
      {
        "duration": 2725,
        "start_time": "2023-09-19T11:00:36.792Z"
      },
      {
        "duration": 6,
        "start_time": "2023-09-19T11:00:39.521Z"
      },
      {
        "duration": 45,
        "start_time": "2023-09-19T11:02:04.476Z"
      },
      {
        "duration": 155614,
        "start_time": "2023-09-19T11:28:55.266Z"
      },
      {
        "duration": 156143,
        "start_time": "2023-09-19T11:32:30.437Z"
      },
      {
        "duration": 5,
        "start_time": "2023-09-19T11:35:30.277Z"
      },
      {
        "duration": 27,
        "start_time": "2023-09-19T11:35:40.290Z"
      },
      {
        "duration": 4,
        "start_time": "2023-09-19T11:36:16.968Z"
      },
      {
        "duration": 4,
        "start_time": "2023-09-19T11:36:22.776Z"
      },
      {
        "duration": 6,
        "start_time": "2023-09-19T11:36:28.996Z"
      },
      {
        "duration": 6,
        "start_time": "2023-09-19T11:36:39.078Z"
      },
      {
        "duration": 4,
        "start_time": "2023-09-19T11:36:47.792Z"
      },
      {
        "duration": 5,
        "start_time": "2023-09-19T11:36:51.660Z"
      },
      {
        "duration": 4,
        "start_time": "2023-09-19T11:36:55.076Z"
      },
      {
        "duration": 5,
        "start_time": "2023-09-19T11:37:06.357Z"
      },
      {
        "duration": 5,
        "start_time": "2023-09-19T11:37:09.977Z"
      },
      {
        "duration": 5,
        "start_time": "2023-09-19T11:37:15.949Z"
      },
      {
        "duration": 22,
        "start_time": "2023-09-19T11:37:33.978Z"
      },
      {
        "duration": 2318,
        "start_time": "2023-09-19T11:37:55.795Z"
      },
      {
        "duration": 42,
        "start_time": "2023-09-19T11:37:58.116Z"
      },
      {
        "duration": 8,
        "start_time": "2023-09-19T11:37:58.160Z"
      },
      {
        "duration": 28,
        "start_time": "2023-09-19T11:37:58.170Z"
      },
      {
        "duration": 19,
        "start_time": "2023-09-19T11:37:58.200Z"
      },
      {
        "duration": 40,
        "start_time": "2023-09-19T11:37:58.221Z"
      },
      {
        "duration": 12,
        "start_time": "2023-09-19T11:37:58.263Z"
      },
      {
        "duration": 11,
        "start_time": "2023-09-19T11:37:58.277Z"
      },
      {
        "duration": 15,
        "start_time": "2023-09-19T11:37:58.290Z"
      },
      {
        "duration": 19,
        "start_time": "2023-09-19T11:37:58.307Z"
      },
      {
        "duration": 504,
        "start_time": "2023-09-19T11:37:58.328Z"
      },
      {
        "duration": 10,
        "start_time": "2023-09-19T11:37:58.835Z"
      },
      {
        "duration": 543,
        "start_time": "2023-09-19T11:37:58.857Z"
      },
      {
        "duration": 8,
        "start_time": "2023-09-19T11:37:59.402Z"
      },
      {
        "duration": 472,
        "start_time": "2023-09-19T11:37:59.411Z"
      },
      {
        "duration": 8,
        "start_time": "2023-09-19T11:37:59.885Z"
      },
      {
        "duration": 639,
        "start_time": "2023-09-19T11:37:59.895Z"
      },
      {
        "duration": 4,
        "start_time": "2023-09-19T11:38:00.536Z"
      },
      {
        "duration": 150,
        "start_time": "2023-09-19T11:38:00.543Z"
      },
      {
        "duration": 60,
        "start_time": "2023-09-19T11:38:00.696Z"
      },
      {
        "duration": 87,
        "start_time": "2023-09-19T11:38:00.759Z"
      },
      {
        "duration": 60,
        "start_time": "2023-09-19T11:38:00.849Z"
      },
      {
        "duration": 121,
        "start_time": "2023-09-19T11:38:00.911Z"
      },
      {
        "duration": 32,
        "start_time": "2023-09-19T11:38:01.035Z"
      },
      {
        "duration": 8,
        "start_time": "2023-09-19T11:38:14.848Z"
      },
      {
        "duration": 81,
        "start_time": "2023-09-19T11:38:16.951Z"
      },
      {
        "duration": 22,
        "start_time": "2023-09-19T11:38:40.337Z"
      },
      {
        "duration": 26,
        "start_time": "2023-09-19T11:38:46.479Z"
      },
      {
        "duration": 54,
        "start_time": "2023-09-19T11:38:51.980Z"
      },
      {
        "duration": 5,
        "start_time": "2023-09-19T11:39:21.384Z"
      },
      {
        "duration": 5,
        "start_time": "2023-09-19T11:39:51.168Z"
      },
      {
        "duration": 6,
        "start_time": "2023-09-19T11:39:57.983Z"
      },
      {
        "duration": 6,
        "start_time": "2023-09-19T11:39:58.794Z"
      },
      {
        "duration": 6,
        "start_time": "2023-09-19T11:40:02.226Z"
      },
      {
        "duration": 4,
        "start_time": "2023-09-19T11:40:07.382Z"
      },
      {
        "duration": 5,
        "start_time": "2023-09-19T11:40:13.399Z"
      },
      {
        "duration": 4,
        "start_time": "2023-09-19T11:40:17.258Z"
      },
      {
        "duration": 4,
        "start_time": "2023-09-19T11:41:08.126Z"
      },
      {
        "duration": 4,
        "start_time": "2023-09-19T11:41:09.929Z"
      },
      {
        "duration": 5,
        "start_time": "2023-09-19T11:41:14.081Z"
      },
      {
        "duration": 4,
        "start_time": "2023-09-19T11:41:18.609Z"
      },
      {
        "duration": 4,
        "start_time": "2023-09-19T11:41:23.038Z"
      },
      {
        "duration": 4,
        "start_time": "2023-09-19T11:41:26.218Z"
      },
      {
        "duration": 9,
        "start_time": "2023-09-19T11:41:59.625Z"
      },
      {
        "duration": 43,
        "start_time": "2023-09-19T11:42:01.241Z"
      },
      {
        "duration": 4,
        "start_time": "2023-09-19T11:42:08.504Z"
      },
      {
        "duration": 5,
        "start_time": "2023-09-19T11:42:09.445Z"
      },
      {
        "duration": 5,
        "start_time": "2023-09-19T11:42:11.400Z"
      },
      {
        "duration": 5,
        "start_time": "2023-09-19T11:42:53.680Z"
      },
      {
        "duration": 4454,
        "start_time": "2023-09-19T12:05:08.766Z"
      },
      {
        "duration": 44,
        "start_time": "2023-09-19T12:05:13.222Z"
      },
      {
        "duration": 7,
        "start_time": "2023-09-19T12:05:13.269Z"
      },
      {
        "duration": 83,
        "start_time": "2023-09-19T12:05:13.278Z"
      },
      {
        "duration": 13,
        "start_time": "2023-09-19T12:05:13.363Z"
      },
      {
        "duration": 46,
        "start_time": "2023-09-19T12:05:13.378Z"
      },
      {
        "duration": 29,
        "start_time": "2023-09-19T12:05:13.426Z"
      },
      {
        "duration": 21,
        "start_time": "2023-09-19T12:05:13.458Z"
      },
      {
        "duration": 10,
        "start_time": "2023-09-19T12:05:13.481Z"
      },
      {
        "duration": 7,
        "start_time": "2023-09-19T12:05:13.494Z"
      },
      {
        "duration": 523,
        "start_time": "2023-09-19T12:05:13.503Z"
      },
      {
        "duration": 8,
        "start_time": "2023-09-19T12:05:14.028Z"
      },
      {
        "duration": 452,
        "start_time": "2023-09-19T12:05:14.037Z"
      },
      {
        "duration": 8,
        "start_time": "2023-09-19T12:05:14.491Z"
      },
      {
        "duration": 471,
        "start_time": "2023-09-19T12:05:14.500Z"
      },
      {
        "duration": 8,
        "start_time": "2023-09-19T12:05:14.973Z"
      },
      {
        "duration": 606,
        "start_time": "2023-09-19T12:05:14.983Z"
      },
      {
        "duration": 4,
        "start_time": "2023-09-19T12:05:15.591Z"
      },
      {
        "duration": 17,
        "start_time": "2023-09-19T12:05:15.597Z"
      },
      {
        "duration": 17,
        "start_time": "2023-09-19T12:05:15.617Z"
      },
      {
        "duration": 59,
        "start_time": "2023-09-19T12:05:15.636Z"
      },
      {
        "duration": 22,
        "start_time": "2023-09-19T12:05:15.697Z"
      },
      {
        "duration": 35,
        "start_time": "2023-09-19T12:05:15.721Z"
      },
      {
        "duration": 8,
        "start_time": "2023-09-19T12:05:15.758Z"
      },
      {
        "duration": 49,
        "start_time": "2023-09-19T12:05:15.768Z"
      },
      {
        "duration": 10,
        "start_time": "2023-09-19T12:05:15.819Z"
      },
      {
        "duration": 12,
        "start_time": "2023-09-19T12:05:15.831Z"
      },
      {
        "duration": 6,
        "start_time": "2023-09-19T12:05:15.856Z"
      },
      {
        "duration": 84104,
        "start_time": "2023-09-19T12:05:15.864Z"
      },
      {
        "duration": 3,
        "start_time": "2023-09-19T12:06:39.971Z"
      },
      {
        "duration": 4,
        "start_time": "2023-09-19T12:07:12.824Z"
      },
      {
        "duration": 5,
        "start_time": "2023-09-19T12:07:13.651Z"
      },
      {
        "duration": 84609,
        "start_time": "2023-09-19T12:07:18.467Z"
      },
      {
        "duration": 2158,
        "start_time": "2023-09-19T12:08:43.079Z"
      },
      {
        "duration": 2178,
        "start_time": "2023-09-19T12:09:26.314Z"
      },
      {
        "duration": 5,
        "start_time": "2023-09-19T12:09:40.449Z"
      },
      {
        "duration": 2515,
        "start_time": "2023-09-19T12:09:44.672Z"
      },
      {
        "duration": 40,
        "start_time": "2023-09-19T12:09:47.192Z"
      },
      {
        "duration": 51189,
        "start_time": "2023-09-19T12:10:00.374Z"
      },
      {
        "duration": 489,
        "start_time": "2023-09-19T12:12:06.874Z"
      },
      {
        "duration": 361,
        "start_time": "2023-09-19T12:16:25.534Z"
      },
      {
        "duration": 26,
        "start_time": "2023-09-19T12:16:36.045Z"
      },
      {
        "duration": 374,
        "start_time": "2023-09-19T12:16:51.703Z"
      },
      {
        "duration": 467,
        "start_time": "2023-09-19T12:17:12.896Z"
      },
      {
        "duration": 390,
        "start_time": "2023-09-19T12:17:20.081Z"
      },
      {
        "duration": 378,
        "start_time": "2023-09-19T12:19:32.827Z"
      },
      {
        "duration": 303,
        "start_time": "2023-09-19T12:20:55.592Z"
      },
      {
        "duration": 400,
        "start_time": "2023-09-19T12:26:04.176Z"
      },
      {
        "duration": 393,
        "start_time": "2023-09-19T12:26:18.687Z"
      },
      {
        "duration": 211,
        "start_time": "2023-09-19T12:26:31.882Z"
      },
      {
        "duration": 79310,
        "start_time": "2023-09-19T12:28:52.470Z"
      },
      {
        "duration": 244,
        "start_time": "2023-09-19T13:11:45.553Z"
      },
      {
        "duration": 169,
        "start_time": "2023-09-19T13:12:01.110Z"
      },
      {
        "duration": 219,
        "start_time": "2023-09-19T13:12:17.675Z"
      },
      {
        "duration": 323,
        "start_time": "2023-09-19T13:13:35.970Z"
      },
      {
        "duration": 293,
        "start_time": "2023-09-19T13:14:46.903Z"
      },
      {
        "duration": 350,
        "start_time": "2023-09-19T13:15:36.334Z"
      },
      {
        "duration": 356,
        "start_time": "2023-09-19T13:15:46.246Z"
      },
      {
        "duration": 316,
        "start_time": "2023-09-19T13:15:59.371Z"
      },
      {
        "duration": 372,
        "start_time": "2023-09-19T13:29:55.405Z"
      },
      {
        "duration": 362,
        "start_time": "2023-09-19T13:30:29.219Z"
      },
      {
        "duration": 32,
        "start_time": "2023-09-19T13:31:03.740Z"
      },
      {
        "duration": 262248,
        "start_time": "2023-09-19T13:31:14.522Z"
      },
      {
        "duration": 11,
        "start_time": "2023-09-19T13:39:54.841Z"
      },
      {
        "duration": 30,
        "start_time": "2023-09-19T13:41:35.677Z"
      },
      {
        "duration": 2092054,
        "start_time": "2023-09-19T13:41:42.728Z"
      },
      {
        "duration": 342,
        "start_time": "2023-09-19T14:16:34.857Z"
      },
      {
        "duration": 20,
        "start_time": "2023-09-19T14:22:57.477Z"
      },
      {
        "duration": 23,
        "start_time": "2023-09-19T14:23:10.497Z"
      },
      {
        "duration": 4467,
        "start_time": "2023-09-19T14:29:22.653Z"
      },
      {
        "duration": 50,
        "start_time": "2023-09-19T14:29:27.122Z"
      },
      {
        "duration": 8,
        "start_time": "2023-09-19T14:29:27.176Z"
      },
      {
        "duration": 66,
        "start_time": "2023-09-19T14:29:27.186Z"
      },
      {
        "duration": 13,
        "start_time": "2023-09-19T14:29:27.265Z"
      },
      {
        "duration": 39,
        "start_time": "2023-09-19T14:29:27.280Z"
      },
      {
        "duration": 16,
        "start_time": "2023-09-19T14:29:27.321Z"
      },
      {
        "duration": 11,
        "start_time": "2023-09-19T14:29:27.339Z"
      },
      {
        "duration": 35,
        "start_time": "2023-09-19T14:29:27.351Z"
      },
      {
        "duration": 25,
        "start_time": "2023-09-19T14:29:27.389Z"
      },
      {
        "duration": 534,
        "start_time": "2023-09-19T14:29:27.417Z"
      },
      {
        "duration": 19,
        "start_time": "2023-09-19T14:29:27.956Z"
      },
      {
        "duration": 469,
        "start_time": "2023-09-19T14:29:27.977Z"
      },
      {
        "duration": 26,
        "start_time": "2023-09-19T14:29:28.448Z"
      },
      {
        "duration": 540,
        "start_time": "2023-09-19T14:29:28.475Z"
      },
      {
        "duration": 10,
        "start_time": "2023-09-19T14:29:29.017Z"
      },
      {
        "duration": 611,
        "start_time": "2023-09-19T14:29:29.029Z"
      },
      {
        "duration": 4,
        "start_time": "2023-09-19T14:29:29.642Z"
      },
      {
        "duration": 54,
        "start_time": "2023-09-19T14:29:29.647Z"
      },
      {
        "duration": 23,
        "start_time": "2023-09-19T14:29:29.703Z"
      },
      {
        "duration": 46,
        "start_time": "2023-09-19T14:29:29.728Z"
      },
      {
        "duration": 20,
        "start_time": "2023-09-19T14:29:29.776Z"
      },
      {
        "duration": 23,
        "start_time": "2023-09-19T14:29:29.798Z"
      },
      {
        "duration": 7,
        "start_time": "2023-09-19T14:29:29.823Z"
      },
      {
        "duration": 52,
        "start_time": "2023-09-19T14:29:29.831Z"
      },
      {
        "duration": 4,
        "start_time": "2023-09-19T14:29:29.885Z"
      },
      {
        "duration": 10,
        "start_time": "2023-09-19T14:29:29.891Z"
      },
      {
        "duration": 4,
        "start_time": "2023-09-19T14:29:29.904Z"
      },
      {
        "duration": 178,
        "start_time": "2023-09-19T14:31:35.456Z"
      },
      {
        "duration": 5,
        "start_time": "2023-09-19T14:31:39.483Z"
      },
      {
        "duration": 4,
        "start_time": "2023-09-19T14:31:40.322Z"
      },
      {
        "duration": 107805,
        "start_time": "2023-09-19T14:31:54.371Z"
      },
      {
        "duration": 2091,
        "start_time": "2023-09-19T14:33:42.179Z"
      },
      {
        "duration": 5,
        "start_time": "2023-09-19T14:34:01.046Z"
      },
      {
        "duration": 2523,
        "start_time": "2023-09-19T14:34:02.085Z"
      },
      {
        "duration": 43,
        "start_time": "2023-09-19T14:34:04.610Z"
      },
      {
        "duration": 25882,
        "start_time": "2023-09-19T18:33:32.913Z"
      },
      {
        "duration": 83,
        "start_time": "2023-09-19T18:33:58.797Z"
      },
      {
        "duration": 6,
        "start_time": "2023-09-19T18:33:58.882Z"
      },
      {
        "duration": 69,
        "start_time": "2023-09-19T18:33:58.890Z"
      },
      {
        "duration": 12,
        "start_time": "2023-09-19T18:33:58.961Z"
      },
      {
        "duration": 80,
        "start_time": "2023-09-19T18:33:58.975Z"
      },
      {
        "duration": 10,
        "start_time": "2023-09-19T18:33:59.057Z"
      },
      {
        "duration": 9,
        "start_time": "2023-09-19T18:33:59.068Z"
      },
      {
        "duration": 8,
        "start_time": "2023-09-19T18:33:59.078Z"
      },
      {
        "duration": 5,
        "start_time": "2023-09-19T18:33:59.088Z"
      },
      {
        "duration": 462,
        "start_time": "2023-09-19T18:33:59.094Z"
      },
      {
        "duration": 8,
        "start_time": "2023-09-19T18:33:59.558Z"
      },
      {
        "duration": 435,
        "start_time": "2023-09-19T18:33:59.568Z"
      },
      {
        "duration": 8,
        "start_time": "2023-09-19T18:34:00.005Z"
      },
      {
        "duration": 637,
        "start_time": "2023-09-19T18:34:00.014Z"
      },
      {
        "duration": 7,
        "start_time": "2023-09-19T18:34:00.653Z"
      },
      {
        "duration": 528,
        "start_time": "2023-09-19T18:34:00.662Z"
      },
      {
        "duration": 10,
        "start_time": "2023-09-19T18:34:01.191Z"
      },
      {
        "duration": 166,
        "start_time": "2023-09-19T18:34:01.203Z"
      },
      {
        "duration": 66,
        "start_time": "2023-09-19T18:34:01.371Z"
      },
      {
        "duration": 71,
        "start_time": "2023-09-19T18:34:01.439Z"
      },
      {
        "duration": 69,
        "start_time": "2023-09-19T18:34:01.512Z"
      },
      {
        "duration": 221,
        "start_time": "2023-09-19T18:34:01.583Z"
      },
      {
        "duration": 49,
        "start_time": "2023-09-19T18:34:01.806Z"
      },
      {
        "duration": 98,
        "start_time": "2023-09-19T18:34:01.857Z"
      },
      {
        "duration": 5,
        "start_time": "2023-09-19T18:34:29.414Z"
      },
      {
        "duration": 4,
        "start_time": "2023-09-19T18:34:30.917Z"
      },
      {
        "duration": 160,
        "start_time": "2023-09-19T18:34:58.497Z"
      },
      {
        "duration": 18,
        "start_time": "2023-09-19T18:35:42.644Z"
      },
      {
        "duration": 50,
        "start_time": "2023-09-19T18:35:53.678Z"
      },
      {
        "duration": 5,
        "start_time": "2023-09-19T18:36:02.903Z"
      },
      {
        "duration": 3535,
        "start_time": "2023-09-19T18:36:04.123Z"
      },
      {
        "duration": 55,
        "start_time": "2023-09-19T18:36:07.660Z"
      },
      {
        "duration": 3,
        "start_time": "2023-09-19T18:36:10.032Z"
      },
      {
        "duration": 3,
        "start_time": "2023-09-19T18:36:28.489Z"
      },
      {
        "duration": 4442,
        "start_time": "2023-09-19T18:57:30.469Z"
      },
      {
        "duration": 43,
        "start_time": "2023-09-19T18:57:51.981Z"
      },
      {
        "duration": 2265,
        "start_time": "2023-09-19T18:58:03.040Z"
      },
      {
        "duration": 37,
        "start_time": "2023-09-19T18:58:05.308Z"
      },
      {
        "duration": 46,
        "start_time": "2023-09-19T18:58:05.347Z"
      },
      {
        "duration": 78,
        "start_time": "2023-09-19T18:58:05.395Z"
      },
      {
        "duration": 67,
        "start_time": "2023-09-19T18:58:05.475Z"
      },
      {
        "duration": 326,
        "start_time": "2023-09-19T18:58:05.543Z"
      },
      {
        "duration": 87,
        "start_time": "2023-09-19T18:58:05.871Z"
      },
      {
        "duration": 395,
        "start_time": "2023-09-19T18:58:05.960Z"
      },
      {
        "duration": 48,
        "start_time": "2023-09-19T18:58:06.356Z"
      },
      {
        "duration": 38,
        "start_time": "2023-09-19T18:58:06.407Z"
      },
      {
        "duration": 541,
        "start_time": "2023-09-19T18:58:06.447Z"
      },
      {
        "duration": 16,
        "start_time": "2023-09-19T18:58:06.990Z"
      },
      {
        "duration": 412,
        "start_time": "2023-09-19T18:58:07.008Z"
      },
      {
        "duration": 7,
        "start_time": "2023-09-19T18:58:07.422Z"
      },
      {
        "duration": 422,
        "start_time": "2023-09-19T18:58:07.430Z"
      },
      {
        "duration": 7,
        "start_time": "2023-09-19T18:58:07.854Z"
      },
      {
        "duration": 539,
        "start_time": "2023-09-19T18:58:07.862Z"
      },
      {
        "duration": 3,
        "start_time": "2023-09-19T18:58:08.403Z"
      },
      {
        "duration": 7,
        "start_time": "2023-09-19T18:58:08.408Z"
      },
      {
        "duration": 24,
        "start_time": "2023-09-19T18:58:08.416Z"
      },
      {
        "duration": 19,
        "start_time": "2023-09-19T18:58:08.441Z"
      },
      {
        "duration": 10,
        "start_time": "2023-09-19T18:58:08.462Z"
      },
      {
        "duration": 59,
        "start_time": "2023-09-19T18:58:08.473Z"
      },
      {
        "duration": 8,
        "start_time": "2023-09-19T18:58:08.534Z"
      },
      {
        "duration": 57,
        "start_time": "2023-09-19T18:58:08.544Z"
      },
      {
        "duration": 5,
        "start_time": "2023-09-19T18:58:08.602Z"
      },
      {
        "duration": 19,
        "start_time": "2023-09-19T18:58:08.608Z"
      },
      {
        "duration": 35,
        "start_time": "2023-09-19T18:58:08.631Z"
      },
      {
        "duration": 69939,
        "start_time": "2023-09-19T18:58:08.669Z"
      },
      {
        "duration": 2004,
        "start_time": "2023-09-19T18:59:46.446Z"
      },
      {
        "duration": 6,
        "start_time": "2023-09-19T19:00:04.585Z"
      },
      {
        "duration": 2467,
        "start_time": "2023-09-19T19:00:07.029Z"
      },
      {
        "duration": 45,
        "start_time": "2023-09-19T19:00:09.498Z"
      },
      {
        "duration": 37,
        "start_time": "2023-09-19T19:00:14.109Z"
      },
      {
        "duration": 27916,
        "start_time": "2023-09-20T08:04:15.571Z"
      },
      {
        "duration": 81,
        "start_time": "2023-09-20T08:04:43.490Z"
      },
      {
        "duration": 1421,
        "start_time": "2023-09-20T08:04:43.573Z"
      },
      {
        "duration": 1030,
        "start_time": "2023-09-20T08:04:44.996Z"
      },
      {
        "duration": 899,
        "start_time": "2023-09-20T08:04:46.028Z"
      },
      {
        "duration": 1153,
        "start_time": "2023-09-20T08:04:46.929Z"
      },
      {
        "duration": 720,
        "start_time": "2023-09-20T08:04:48.084Z"
      },
      {
        "duration": 1396,
        "start_time": "2023-09-20T08:04:48.806Z"
      },
      {
        "duration": 685,
        "start_time": "2023-09-20T08:04:50.203Z"
      },
      {
        "duration": 1735,
        "start_time": "2023-09-20T08:04:50.890Z"
      },
      {
        "duration": 1390,
        "start_time": "2023-09-20T08:04:52.627Z"
      },
      {
        "duration": 822,
        "start_time": "2023-09-20T08:04:54.019Z"
      },
      {
        "duration": 487,
        "start_time": "2023-09-20T08:04:54.842Z"
      },
      {
        "duration": 15,
        "start_time": "2023-09-20T08:04:55.331Z"
      },
      {
        "duration": 565,
        "start_time": "2023-09-20T08:04:55.347Z"
      },
      {
        "duration": 7,
        "start_time": "2023-09-20T08:04:55.914Z"
      },
      {
        "duration": 507,
        "start_time": "2023-09-20T08:04:55.923Z"
      },
      {
        "duration": 11,
        "start_time": "2023-09-20T08:04:56.432Z"
      },
      {
        "duration": 43,
        "start_time": "2023-09-20T08:04:56.445Z"
      },
      {
        "duration": 17,
        "start_time": "2023-09-20T08:04:56.490Z"
      },
      {
        "duration": 16,
        "start_time": "2023-09-20T08:04:56.509Z"
      },
      {
        "duration": 23,
        "start_time": "2023-09-20T08:04:56.527Z"
      },
      {
        "duration": 54,
        "start_time": "2023-09-20T08:04:56.551Z"
      },
      {
        "duration": 12,
        "start_time": "2023-09-20T08:04:56.607Z"
      },
      {
        "duration": 58,
        "start_time": "2023-09-20T08:04:56.621Z"
      },
      {
        "duration": 5,
        "start_time": "2023-09-20T08:04:56.681Z"
      },
      {
        "duration": 29,
        "start_time": "2023-09-20T08:04:56.687Z"
      },
      {
        "duration": 23,
        "start_time": "2023-09-20T08:04:56.719Z"
      },
      {
        "duration": 65719,
        "start_time": "2023-09-20T08:04:56.744Z"
      },
      {
        "duration": 73381,
        "start_time": "2023-09-20T08:06:22.377Z"
      },
      {
        "duration": 1892,
        "start_time": "2023-09-20T08:07:44.815Z"
      },
      {
        "duration": 5,
        "start_time": "2023-09-20T08:07:59.085Z"
      },
      {
        "duration": 3464,
        "start_time": "2023-09-20T08:08:02.283Z"
      },
      {
        "duration": 225,
        "start_time": "2023-09-20T08:08:05.750Z"
      },
      {
        "duration": 37,
        "start_time": "2023-09-20T08:08:07.324Z"
      },
      {
        "duration": 52,
        "start_time": "2023-09-20T10:55:46.984Z"
      },
      {
        "duration": 7,
        "start_time": "2023-09-20T10:55:53.908Z"
      },
      {
        "duration": 115,
        "start_time": "2023-09-20T10:56:25.951Z"
      },
      {
        "duration": 0,
        "start_time": "2023-09-20T10:56:26.068Z"
      },
      {
        "duration": 0,
        "start_time": "2023-09-20T10:56:26.070Z"
      },
      {
        "duration": 0,
        "start_time": "2023-09-20T10:56:26.071Z"
      },
      {
        "duration": 0,
        "start_time": "2023-09-20T10:56:26.073Z"
      },
      {
        "duration": 0,
        "start_time": "2023-09-20T10:56:26.075Z"
      },
      {
        "duration": 0,
        "start_time": "2023-09-20T10:56:26.077Z"
      },
      {
        "duration": 0,
        "start_time": "2023-09-20T10:56:26.078Z"
      },
      {
        "duration": 0,
        "start_time": "2023-09-20T10:56:26.080Z"
      },
      {
        "duration": 0,
        "start_time": "2023-09-20T10:56:26.082Z"
      },
      {
        "duration": 0,
        "start_time": "2023-09-20T10:56:26.084Z"
      },
      {
        "duration": 0,
        "start_time": "2023-09-20T10:56:26.086Z"
      },
      {
        "duration": 0,
        "start_time": "2023-09-20T10:56:26.087Z"
      },
      {
        "duration": 0,
        "start_time": "2023-09-20T10:56:26.089Z"
      },
      {
        "duration": 0,
        "start_time": "2023-09-20T10:56:26.091Z"
      },
      {
        "duration": 0,
        "start_time": "2023-09-20T10:56:26.093Z"
      },
      {
        "duration": 0,
        "start_time": "2023-09-20T10:56:26.095Z"
      },
      {
        "duration": 0,
        "start_time": "2023-09-20T10:56:26.148Z"
      },
      {
        "duration": 0,
        "start_time": "2023-09-20T10:56:26.149Z"
      },
      {
        "duration": 0,
        "start_time": "2023-09-20T10:56:26.151Z"
      },
      {
        "duration": 0,
        "start_time": "2023-09-20T10:56:26.153Z"
      },
      {
        "duration": 0,
        "start_time": "2023-09-20T10:56:26.154Z"
      },
      {
        "duration": 0,
        "start_time": "2023-09-20T10:56:26.156Z"
      },
      {
        "duration": 0,
        "start_time": "2023-09-20T10:56:26.157Z"
      },
      {
        "duration": 0,
        "start_time": "2023-09-20T10:56:26.159Z"
      },
      {
        "duration": 0,
        "start_time": "2023-09-20T10:56:26.160Z"
      },
      {
        "duration": 0,
        "start_time": "2023-09-20T10:56:26.162Z"
      },
      {
        "duration": 0,
        "start_time": "2023-09-20T10:56:26.164Z"
      },
      {
        "duration": 0,
        "start_time": "2023-09-20T10:56:26.165Z"
      },
      {
        "duration": 2320,
        "start_time": "2023-09-20T10:57:47.494Z"
      },
      {
        "duration": 38,
        "start_time": "2023-09-20T10:57:49.816Z"
      },
      {
        "duration": 15,
        "start_time": "2023-09-20T10:57:49.856Z"
      },
      {
        "duration": 91,
        "start_time": "2023-09-20T10:57:49.873Z"
      },
      {
        "duration": 11,
        "start_time": "2023-09-20T10:57:49.966Z"
      },
      {
        "duration": 46,
        "start_time": "2023-09-20T10:57:49.979Z"
      },
      {
        "duration": 61,
        "start_time": "2023-09-20T10:57:50.027Z"
      },
      {
        "duration": 36,
        "start_time": "2023-09-20T10:57:50.090Z"
      },
      {
        "duration": 57,
        "start_time": "2023-09-20T10:57:50.128Z"
      },
      {
        "duration": 61,
        "start_time": "2023-09-20T10:57:50.188Z"
      },
      {
        "duration": 561,
        "start_time": "2023-09-20T10:57:50.251Z"
      },
      {
        "duration": 8,
        "start_time": "2023-09-20T10:57:50.814Z"
      },
      {
        "duration": 466,
        "start_time": "2023-09-20T10:57:50.823Z"
      },
      {
        "duration": 8,
        "start_time": "2023-09-20T10:57:51.291Z"
      },
      {
        "duration": 2648,
        "start_time": "2023-09-20T10:57:52.867Z"
      },
      {
        "duration": 39,
        "start_time": "2023-09-20T10:57:55.517Z"
      },
      {
        "duration": 6,
        "start_time": "2023-09-20T10:57:55.558Z"
      },
      {
        "duration": 31,
        "start_time": "2023-09-20T10:57:55.565Z"
      },
      {
        "duration": 108,
        "start_time": "2023-09-20T10:57:55.598Z"
      },
      {
        "duration": 56,
        "start_time": "2023-09-20T10:57:55.708Z"
      },
      {
        "duration": 11,
        "start_time": "2023-09-20T10:57:55.766Z"
      },
      {
        "duration": 5,
        "start_time": "2023-09-20T10:57:55.778Z"
      },
      {
        "duration": 14,
        "start_time": "2023-09-20T10:57:55.784Z"
      },
      {
        "duration": 13,
        "start_time": "2023-09-20T10:57:55.800Z"
      },
      {
        "duration": 492,
        "start_time": "2023-09-20T10:57:55.814Z"
      },
      {
        "duration": 7,
        "start_time": "2023-09-20T10:57:56.308Z"
      },
      {
        "duration": 432,
        "start_time": "2023-09-20T10:57:56.317Z"
      },
      {
        "duration": 9,
        "start_time": "2023-09-20T10:57:56.751Z"
      },
      {
        "duration": 598,
        "start_time": "2023-09-20T10:57:56.762Z"
      },
      {
        "duration": 8,
        "start_time": "2023-09-20T10:57:57.362Z"
      },
      {
        "duration": 445,
        "start_time": "2023-09-20T10:57:57.371Z"
      },
      {
        "duration": 4,
        "start_time": "2023-09-20T10:57:57.817Z"
      },
      {
        "duration": 34,
        "start_time": "2023-09-20T10:57:57.822Z"
      },
      {
        "duration": 21,
        "start_time": "2023-09-20T10:57:57.858Z"
      },
      {
        "duration": 35,
        "start_time": "2023-09-20T10:57:57.880Z"
      },
      {
        "duration": 47,
        "start_time": "2023-09-20T10:57:57.916Z"
      },
      {
        "duration": 50,
        "start_time": "2023-09-20T10:57:57.965Z"
      },
      {
        "duration": 28,
        "start_time": "2023-09-20T10:57:58.017Z"
      },
      {
        "duration": 93,
        "start_time": "2023-09-20T10:57:58.047Z"
      },
      {
        "duration": 49,
        "start_time": "2023-09-20T10:57:58.142Z"
      },
      {
        "duration": 41,
        "start_time": "2023-09-20T10:57:58.193Z"
      },
      {
        "duration": 29,
        "start_time": "2023-09-20T10:57:58.235Z"
      },
      {
        "duration": 78032,
        "start_time": "2023-09-20T10:58:58.015Z"
      },
      {
        "duration": 2071,
        "start_time": "2023-09-20T11:00:16.050Z"
      },
      {
        "duration": 5,
        "start_time": "2023-09-20T11:02:07.735Z"
      },
      {
        "duration": 3675,
        "start_time": "2023-09-20T11:02:08.418Z"
      },
      {
        "duration": 57,
        "start_time": "2023-09-20T11:02:27.879Z"
      },
      {
        "duration": 18034963,
        "start_time": "2023-09-20T11:03:24.811Z"
      },
      {
        "duration": 125127,
        "start_time": "2023-09-21T06:57:04.232Z"
      },
      {
        "duration": 159,
        "start_time": "2023-09-21T07:19:01.683Z"
      },
      {
        "duration": 249862,
        "start_time": "2023-09-21T07:19:10.307Z"
      },
      {
        "duration": 192407,
        "start_time": "2023-09-21T10:02:30.369Z"
      },
      {
        "duration": 93905,
        "start_time": "2023-09-21T10:11:16.451Z"
      },
      {
        "duration": 25492,
        "start_time": "2023-09-22T12:15:19.315Z"
      },
      {
        "duration": 82,
        "start_time": "2023-09-22T12:15:44.808Z"
      },
      {
        "duration": 5,
        "start_time": "2023-09-22T12:15:44.892Z"
      },
      {
        "duration": 110,
        "start_time": "2023-09-22T12:15:44.899Z"
      },
      {
        "duration": 11,
        "start_time": "2023-09-22T12:15:45.010Z"
      },
      {
        "duration": 84,
        "start_time": "2023-09-22T12:15:45.022Z"
      },
      {
        "duration": 38,
        "start_time": "2023-09-22T12:15:45.108Z"
      },
      {
        "duration": 42,
        "start_time": "2023-09-22T12:15:45.148Z"
      },
      {
        "duration": 31,
        "start_time": "2023-09-22T12:15:45.192Z"
      },
      {
        "duration": 24,
        "start_time": "2023-09-22T12:15:45.226Z"
      },
      {
        "duration": 459,
        "start_time": "2023-09-22T12:15:45.252Z"
      },
      {
        "duration": 8,
        "start_time": "2023-09-22T12:15:45.713Z"
      },
      {
        "duration": 404,
        "start_time": "2023-09-22T12:15:45.723Z"
      },
      {
        "duration": 15,
        "start_time": "2023-09-22T12:15:46.129Z"
      },
      {
        "duration": 520,
        "start_time": "2023-09-22T12:15:46.145Z"
      },
      {
        "duration": 7,
        "start_time": "2023-09-22T12:15:46.666Z"
      },
      {
        "duration": 409,
        "start_time": "2023-09-22T12:15:46.674Z"
      },
      {
        "duration": 4,
        "start_time": "2023-09-22T12:15:47.084Z"
      },
      {
        "duration": 59,
        "start_time": "2023-09-22T12:15:47.090Z"
      },
      {
        "duration": 134,
        "start_time": "2023-09-22T12:15:47.151Z"
      },
      {
        "duration": 25,
        "start_time": "2023-09-22T12:15:47.286Z"
      },
      {
        "duration": 33,
        "start_time": "2023-09-22T12:15:47.313Z"
      },
      {
        "duration": 36,
        "start_time": "2023-09-22T12:15:47.348Z"
      },
      {
        "duration": 7,
        "start_time": "2023-09-22T12:15:47.386Z"
      },
      {
        "duration": 49,
        "start_time": "2023-09-22T12:15:47.394Z"
      },
      {
        "duration": 5,
        "start_time": "2023-09-22T12:15:47.445Z"
      },
      {
        "duration": 21,
        "start_time": "2023-09-22T12:15:47.451Z"
      },
      {
        "duration": 28,
        "start_time": "2023-09-22T12:15:47.475Z"
      },
      {
        "duration": 81440,
        "start_time": "2023-09-22T12:15:47.505Z"
      },
      {
        "duration": 1868,
        "start_time": "2023-09-22T12:17:08.947Z"
      },
      {
        "duration": 3786,
        "start_time": "2023-09-22T12:36:22.777Z"
      },
      {
        "duration": 48,
        "start_time": "2023-09-22T12:36:26.565Z"
      },
      {
        "duration": 97417,
        "start_time": "2023-09-22T12:45:17.500Z"
      },
      {
        "duration": 0,
        "start_time": "2023-09-22T12:46:54.919Z"
      },
      {
        "duration": 0,
        "start_time": "2023-09-22T13:31:12.144Z"
      },
      {
        "duration": 286,
        "start_time": "2023-09-22T13:32:25.264Z"
      },
      {
        "duration": 105866,
        "start_time": "2023-09-22T13:32:38.503Z"
      },
      {
        "duration": 15,
        "start_time": "2023-09-22T13:35:41.322Z"
      },
      {
        "duration": 14,
        "start_time": "2023-09-22T13:36:11.489Z"
      },
      {
        "duration": 26,
        "start_time": "2023-09-22T13:36:18.444Z"
      },
      {
        "duration": 106221,
        "start_time": "2023-09-22T13:37:59.849Z"
      },
      {
        "duration": 152638,
        "start_time": "2023-09-22T13:40:50.939Z"
      },
      {
        "duration": 105571,
        "start_time": "2023-09-22T13:45:56.075Z"
      },
      {
        "duration": 106665,
        "start_time": "2023-09-22T13:49:59.890Z"
      },
      {
        "duration": 113853,
        "start_time": "2023-09-22T13:52:21.299Z"
      },
      {
        "duration": 18,
        "start_time": "2023-09-22T14:00:01.456Z"
      },
      {
        "duration": 28551,
        "start_time": "2023-09-24T06:54:29.687Z"
      },
      {
        "duration": 107,
        "start_time": "2023-09-24T06:54:58.240Z"
      },
      {
        "duration": 25,
        "start_time": "2023-09-24T06:54:58.351Z"
      },
      {
        "duration": 50,
        "start_time": "2023-09-24T06:54:58.379Z"
      },
      {
        "duration": 14,
        "start_time": "2023-09-24T06:54:58.430Z"
      },
      {
        "duration": 37,
        "start_time": "2023-09-24T06:54:58.445Z"
      },
      {
        "duration": 11,
        "start_time": "2023-09-24T06:54:58.484Z"
      },
      {
        "duration": 5,
        "start_time": "2023-09-24T06:54:58.497Z"
      },
      {
        "duration": 7,
        "start_time": "2023-09-24T06:54:58.505Z"
      },
      {
        "duration": 11,
        "start_time": "2023-09-24T06:54:58.514Z"
      },
      {
        "duration": 456,
        "start_time": "2023-09-24T06:54:58.527Z"
      },
      {
        "duration": 10,
        "start_time": "2023-09-24T06:54:58.985Z"
      },
      {
        "duration": 428,
        "start_time": "2023-09-24T06:54:58.997Z"
      },
      {
        "duration": 8,
        "start_time": "2023-09-24T06:54:59.427Z"
      },
      {
        "duration": 565,
        "start_time": "2023-09-24T06:54:59.436Z"
      },
      {
        "duration": 12,
        "start_time": "2023-09-24T06:55:00.004Z"
      },
      {
        "duration": 566,
        "start_time": "2023-09-24T06:55:00.018Z"
      },
      {
        "duration": 4,
        "start_time": "2023-09-24T06:55:00.588Z"
      },
      {
        "duration": 69,
        "start_time": "2023-09-24T06:55:00.594Z"
      },
      {
        "duration": 56,
        "start_time": "2023-09-24T06:55:00.669Z"
      },
      {
        "duration": 43,
        "start_time": "2023-09-24T06:55:00.726Z"
      },
      {
        "duration": 106,
        "start_time": "2023-09-24T06:55:00.770Z"
      },
      {
        "duration": 101,
        "start_time": "2023-09-24T06:55:00.879Z"
      },
      {
        "duration": 10,
        "start_time": "2023-09-24T06:55:00.982Z"
      },
      {
        "duration": 93,
        "start_time": "2023-09-24T06:55:00.994Z"
      },
      {
        "duration": 39,
        "start_time": "2023-09-24T06:55:01.089Z"
      },
      {
        "duration": 58,
        "start_time": "2023-09-24T06:55:01.130Z"
      },
      {
        "duration": 45,
        "start_time": "2023-09-24T06:55:01.191Z"
      },
      {
        "duration": 267264,
        "start_time": "2023-09-24T06:55:01.238Z"
      },
      {
        "duration": 2132,
        "start_time": "2023-09-24T06:59:28.504Z"
      },
      {
        "duration": 6,
        "start_time": "2023-09-24T06:59:30.638Z"
      },
      {
        "duration": 3952,
        "start_time": "2023-09-24T06:59:30.646Z"
      },
      {
        "duration": 35,
        "start_time": "2023-09-24T06:59:34.601Z"
      },
      {
        "duration": 263789,
        "start_time": "2023-09-24T07:03:58.571Z"
      },
      {
        "duration": 258,
        "start_time": "2023-09-24T08:26:09.884Z"
      },
      {
        "duration": 21,
        "start_time": "2023-09-24T08:27:19.408Z"
      },
      {
        "duration": 399444,
        "start_time": "2023-09-24T08:27:30.939Z"
      },
      {
        "duration": 2481,
        "start_time": "2023-09-24T08:34:41.230Z"
      },
      {
        "duration": 699003,
        "start_time": "2023-09-24T08:51:36.405Z"
      },
      {
        "duration": 2634,
        "start_time": "2023-09-24T09:03:15.411Z"
      }
    ],
    "kernelspec": {
      "display_name": "Python 3 (ipykernel)",
      "language": "python",
      "name": "python3"
    },
    "language_info": {
      "codemirror_mode": {
        "name": "ipython",
        "version": 3
      },
      "file_extension": ".py",
      "mimetype": "text/x-python",
      "name": "python",
      "nbconvert_exporter": "python",
      "pygments_lexer": "ipython3",
      "version": "3.9.5"
    },
    "toc": {
      "base_numbering": 1,
      "nav_menu": {},
      "number_sections": false,
      "sideBar": true,
      "skip_h1_title": false,
      "title_cell": "Table of Contents",
      "title_sidebar": "Contents",
      "toc_cell": false,
      "toc_position": {},
      "toc_section_display": true,
      "toc_window_display": false
    },
    "varInspector": {
      "cols": {
        "lenName": 16,
        "lenType": 16,
        "lenVar": 40
      },
      "kernels_config": {
        "python": {
          "delete_cmd_postfix": "",
          "delete_cmd_prefix": "del ",
          "library": "var_list.py",
          "varRefreshCmd": "print(var_dic_list())"
        },
        "r": {
          "delete_cmd_postfix": ") ",
          "delete_cmd_prefix": "rm(",
          "library": "var_list.r",
          "varRefreshCmd": "cat(var_dic_list()) "
        }
      },
      "types_to_exclude": [
        "module",
        "function",
        "builtin_function_or_method",
        "instance",
        "_Feature"
      ],
      "window_display": false
    },
    "colab": {
      "provenance": []
    }
  },
  "nbformat": 4,
  "nbformat_minor": 5
}