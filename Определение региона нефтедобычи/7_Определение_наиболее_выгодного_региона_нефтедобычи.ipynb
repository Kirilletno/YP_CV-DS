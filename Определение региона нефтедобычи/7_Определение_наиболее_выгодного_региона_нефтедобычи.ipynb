{
  "cells": [
    {
      "cell_type": "markdown",
      "metadata": {
        "id": "GCB-r5s3O_mq"
      },
      "source": [
        "# Выбор локации для скважины"
      ]
    },
    {
      "cell_type": "markdown",
      "metadata": {
        "id": "3EFdmVGBO_mq"
      },
      "source": [
        "## Загрузка и подготовка данных"
      ]
    },
    {
      "cell_type": "code",
      "execution_count": null,
      "metadata": {
        "id": "qKfpLPJ6O_mq"
      },
      "outputs": [],
      "source": [
        "import pandas as pd\n",
        "import numpy as np\n",
        "\n",
        "from sklearn.linear_model import LinearRegression\n",
        "from sklearn.model_selection import train_test_split\n",
        "from sklearn.metrics import mean_squared_error\n",
        "\n",
        "from sklearn.preprocessing import StandardScaler"
      ]
    },
    {
      "cell_type": "markdown",
      "metadata": {
        "id": "LI8-cosoO_ms"
      },
      "source": [
        "Считаем и выведем все 3 датафрейма на экран, чтобы визуально изучить данные и возможные пропуски в них, которые могут помешать дальнейшему обучению"
      ]
    },
    {
      "cell_type": "code",
      "execution_count": null,
      "metadata": {
        "id": "GCENf9LcO_ms"
      },
      "outputs": [],
      "source": [
        "data_geo1 = pd.read_csv('/datasets/geo_data_0.csv')\n",
        "data_geo2 = pd.read_csv('/datasets/geo_data_1.csv')\n",
        "data_geo3 = pd.read_csv('/datasets/geo_data_2.csv')"
      ]
    },
    {
      "cell_type": "code",
      "execution_count": null,
      "metadata": {
        "id": "aWs91iBdO_mt",
        "outputId": "88487359-3938-4757-80ca-fe0ce1107a82"
      },
      "outputs": [
        {
          "name": "stdout",
          "output_type": "stream",
          "text": [
            "<class 'pandas.core.frame.DataFrame'>\n",
            "RangeIndex: 100000 entries, 0 to 99999\n",
            "Data columns (total 5 columns):\n",
            " #   Column   Non-Null Count   Dtype  \n",
            "---  ------   --------------   -----  \n",
            " 0   id       100000 non-null  object \n",
            " 1   f0       100000 non-null  float64\n",
            " 2   f1       100000 non-null  float64\n",
            " 3   f2       100000 non-null  float64\n",
            " 4   product  100000 non-null  float64\n",
            "dtypes: float64(4), object(1)\n",
            "memory usage: 3.8+ MB\n"
          ]
        },
        {
          "data": {
            "text/html": [
              "<div>\n",
              "<style scoped>\n",
              "    .dataframe tbody tr th:only-of-type {\n",
              "        vertical-align: middle;\n",
              "    }\n",
              "\n",
              "    .dataframe tbody tr th {\n",
              "        vertical-align: top;\n",
              "    }\n",
              "\n",
              "    .dataframe thead th {\n",
              "        text-align: right;\n",
              "    }\n",
              "</style>\n",
              "<table border=\"1\" class=\"dataframe\">\n",
              "  <thead>\n",
              "    <tr style=\"text-align: right;\">\n",
              "      <th></th>\n",
              "      <th>id</th>\n",
              "      <th>f0</th>\n",
              "      <th>f1</th>\n",
              "      <th>f2</th>\n",
              "      <th>product</th>\n",
              "    </tr>\n",
              "  </thead>\n",
              "  <tbody>\n",
              "    <tr>\n",
              "      <th>0</th>\n",
              "      <td>txEyH</td>\n",
              "      <td>0.705745</td>\n",
              "      <td>-0.497823</td>\n",
              "      <td>1.221170</td>\n",
              "      <td>105.280062</td>\n",
              "    </tr>\n",
              "    <tr>\n",
              "      <th>1</th>\n",
              "      <td>2acmU</td>\n",
              "      <td>1.334711</td>\n",
              "      <td>-0.340164</td>\n",
              "      <td>4.365080</td>\n",
              "      <td>73.037750</td>\n",
              "    </tr>\n",
              "    <tr>\n",
              "      <th>2</th>\n",
              "      <td>409Wp</td>\n",
              "      <td>1.022732</td>\n",
              "      <td>0.151990</td>\n",
              "      <td>1.419926</td>\n",
              "      <td>85.265647</td>\n",
              "    </tr>\n",
              "    <tr>\n",
              "      <th>3</th>\n",
              "      <td>iJLyR</td>\n",
              "      <td>-0.032172</td>\n",
              "      <td>0.139033</td>\n",
              "      <td>2.978566</td>\n",
              "      <td>168.620776</td>\n",
              "    </tr>\n",
              "    <tr>\n",
              "      <th>4</th>\n",
              "      <td>Xdl7t</td>\n",
              "      <td>1.988431</td>\n",
              "      <td>0.155413</td>\n",
              "      <td>4.751769</td>\n",
              "      <td>154.036647</td>\n",
              "    </tr>\n",
              "    <tr>\n",
              "      <th>...</th>\n",
              "      <td>...</td>\n",
              "      <td>...</td>\n",
              "      <td>...</td>\n",
              "      <td>...</td>\n",
              "      <td>...</td>\n",
              "    </tr>\n",
              "    <tr>\n",
              "      <th>99995</th>\n",
              "      <td>DLsed</td>\n",
              "      <td>0.971957</td>\n",
              "      <td>0.370953</td>\n",
              "      <td>6.075346</td>\n",
              "      <td>110.744026</td>\n",
              "    </tr>\n",
              "    <tr>\n",
              "      <th>99996</th>\n",
              "      <td>QKivN</td>\n",
              "      <td>1.392429</td>\n",
              "      <td>-0.382606</td>\n",
              "      <td>1.273912</td>\n",
              "      <td>122.346843</td>\n",
              "    </tr>\n",
              "    <tr>\n",
              "      <th>99997</th>\n",
              "      <td>3rnvd</td>\n",
              "      <td>1.029585</td>\n",
              "      <td>0.018787</td>\n",
              "      <td>-1.348308</td>\n",
              "      <td>64.375443</td>\n",
              "    </tr>\n",
              "    <tr>\n",
              "      <th>99998</th>\n",
              "      <td>7kl59</td>\n",
              "      <td>0.998163</td>\n",
              "      <td>-0.528582</td>\n",
              "      <td>1.583869</td>\n",
              "      <td>74.040764</td>\n",
              "    </tr>\n",
              "    <tr>\n",
              "      <th>99999</th>\n",
              "      <td>1CWhH</td>\n",
              "      <td>1.764754</td>\n",
              "      <td>-0.266417</td>\n",
              "      <td>5.722849</td>\n",
              "      <td>149.633246</td>\n",
              "    </tr>\n",
              "  </tbody>\n",
              "</table>\n",
              "<p>100000 rows × 5 columns</p>\n",
              "</div>"
            ],
            "text/plain": [
              "          id        f0        f1        f2     product\n",
              "0      txEyH  0.705745 -0.497823  1.221170  105.280062\n",
              "1      2acmU  1.334711 -0.340164  4.365080   73.037750\n",
              "2      409Wp  1.022732  0.151990  1.419926   85.265647\n",
              "3      iJLyR -0.032172  0.139033  2.978566  168.620776\n",
              "4      Xdl7t  1.988431  0.155413  4.751769  154.036647\n",
              "...      ...       ...       ...       ...         ...\n",
              "99995  DLsed  0.971957  0.370953  6.075346  110.744026\n",
              "99996  QKivN  1.392429 -0.382606  1.273912  122.346843\n",
              "99997  3rnvd  1.029585  0.018787 -1.348308   64.375443\n",
              "99998  7kl59  0.998163 -0.528582  1.583869   74.040764\n",
              "99999  1CWhH  1.764754 -0.266417  5.722849  149.633246\n",
              "\n",
              "[100000 rows x 5 columns]"
            ]
          },
          "execution_count": 41,
          "metadata": {},
          "output_type": "execute_result"
        }
      ],
      "source": [
        "data_geo1.info()\n",
        "data_geo1"
      ]
    },
    {
      "cell_type": "code",
      "execution_count": null,
      "metadata": {
        "id": "DZOOefc2O_mt",
        "outputId": "243720dc-8ab5-41cc-9832-cdbbfb979275"
      },
      "outputs": [
        {
          "name": "stdout",
          "output_type": "stream",
          "text": [
            "<class 'pandas.core.frame.DataFrame'>\n",
            "RangeIndex: 100000 entries, 0 to 99999\n",
            "Data columns (total 5 columns):\n",
            " #   Column   Non-Null Count   Dtype  \n",
            "---  ------   --------------   -----  \n",
            " 0   id       100000 non-null  object \n",
            " 1   f0       100000 non-null  float64\n",
            " 2   f1       100000 non-null  float64\n",
            " 3   f2       100000 non-null  float64\n",
            " 4   product  100000 non-null  float64\n",
            "dtypes: float64(4), object(1)\n",
            "memory usage: 3.8+ MB\n"
          ]
        },
        {
          "data": {
            "text/html": [
              "<div>\n",
              "<style scoped>\n",
              "    .dataframe tbody tr th:only-of-type {\n",
              "        vertical-align: middle;\n",
              "    }\n",
              "\n",
              "    .dataframe tbody tr th {\n",
              "        vertical-align: top;\n",
              "    }\n",
              "\n",
              "    .dataframe thead th {\n",
              "        text-align: right;\n",
              "    }\n",
              "</style>\n",
              "<table border=\"1\" class=\"dataframe\">\n",
              "  <thead>\n",
              "    <tr style=\"text-align: right;\">\n",
              "      <th></th>\n",
              "      <th>id</th>\n",
              "      <th>f0</th>\n",
              "      <th>f1</th>\n",
              "      <th>f2</th>\n",
              "      <th>product</th>\n",
              "    </tr>\n",
              "  </thead>\n",
              "  <tbody>\n",
              "    <tr>\n",
              "      <th>0</th>\n",
              "      <td>kBEdx</td>\n",
              "      <td>-15.001348</td>\n",
              "      <td>-8.276000</td>\n",
              "      <td>-0.005876</td>\n",
              "      <td>3.179103</td>\n",
              "    </tr>\n",
              "    <tr>\n",
              "      <th>1</th>\n",
              "      <td>62mP7</td>\n",
              "      <td>14.272088</td>\n",
              "      <td>-3.475083</td>\n",
              "      <td>0.999183</td>\n",
              "      <td>26.953261</td>\n",
              "    </tr>\n",
              "    <tr>\n",
              "      <th>2</th>\n",
              "      <td>vyE1P</td>\n",
              "      <td>6.263187</td>\n",
              "      <td>-5.948386</td>\n",
              "      <td>5.001160</td>\n",
              "      <td>134.766305</td>\n",
              "    </tr>\n",
              "    <tr>\n",
              "      <th>3</th>\n",
              "      <td>KcrkZ</td>\n",
              "      <td>-13.081196</td>\n",
              "      <td>-11.506057</td>\n",
              "      <td>4.999415</td>\n",
              "      <td>137.945408</td>\n",
              "    </tr>\n",
              "    <tr>\n",
              "      <th>4</th>\n",
              "      <td>AHL4O</td>\n",
              "      <td>12.702195</td>\n",
              "      <td>-8.147433</td>\n",
              "      <td>5.004363</td>\n",
              "      <td>134.766305</td>\n",
              "    </tr>\n",
              "    <tr>\n",
              "      <th>...</th>\n",
              "      <td>...</td>\n",
              "      <td>...</td>\n",
              "      <td>...</td>\n",
              "      <td>...</td>\n",
              "      <td>...</td>\n",
              "    </tr>\n",
              "    <tr>\n",
              "      <th>99995</th>\n",
              "      <td>QywKC</td>\n",
              "      <td>9.535637</td>\n",
              "      <td>-6.878139</td>\n",
              "      <td>1.998296</td>\n",
              "      <td>53.906522</td>\n",
              "    </tr>\n",
              "    <tr>\n",
              "      <th>99996</th>\n",
              "      <td>ptvty</td>\n",
              "      <td>-10.160631</td>\n",
              "      <td>-12.558096</td>\n",
              "      <td>5.005581</td>\n",
              "      <td>137.945408</td>\n",
              "    </tr>\n",
              "    <tr>\n",
              "      <th>99997</th>\n",
              "      <td>09gWa</td>\n",
              "      <td>-7.378891</td>\n",
              "      <td>-3.084104</td>\n",
              "      <td>4.998651</td>\n",
              "      <td>137.945408</td>\n",
              "    </tr>\n",
              "    <tr>\n",
              "      <th>99998</th>\n",
              "      <td>rqwUm</td>\n",
              "      <td>0.665714</td>\n",
              "      <td>-6.152593</td>\n",
              "      <td>1.000146</td>\n",
              "      <td>30.132364</td>\n",
              "    </tr>\n",
              "    <tr>\n",
              "      <th>99999</th>\n",
              "      <td>relB0</td>\n",
              "      <td>-3.426139</td>\n",
              "      <td>-7.794274</td>\n",
              "      <td>-0.003299</td>\n",
              "      <td>3.179103</td>\n",
              "    </tr>\n",
              "  </tbody>\n",
              "</table>\n",
              "<p>100000 rows × 5 columns</p>\n",
              "</div>"
            ],
            "text/plain": [
              "          id         f0         f1        f2     product\n",
              "0      kBEdx -15.001348  -8.276000 -0.005876    3.179103\n",
              "1      62mP7  14.272088  -3.475083  0.999183   26.953261\n",
              "2      vyE1P   6.263187  -5.948386  5.001160  134.766305\n",
              "3      KcrkZ -13.081196 -11.506057  4.999415  137.945408\n",
              "4      AHL4O  12.702195  -8.147433  5.004363  134.766305\n",
              "...      ...        ...        ...       ...         ...\n",
              "99995  QywKC   9.535637  -6.878139  1.998296   53.906522\n",
              "99996  ptvty -10.160631 -12.558096  5.005581  137.945408\n",
              "99997  09gWa  -7.378891  -3.084104  4.998651  137.945408\n",
              "99998  rqwUm   0.665714  -6.152593  1.000146   30.132364\n",
              "99999  relB0  -3.426139  -7.794274 -0.003299    3.179103\n",
              "\n",
              "[100000 rows x 5 columns]"
            ]
          },
          "execution_count": 42,
          "metadata": {},
          "output_type": "execute_result"
        }
      ],
      "source": [
        "data_geo2.info()\n",
        "data_geo2"
      ]
    },
    {
      "cell_type": "code",
      "execution_count": null,
      "metadata": {
        "id": "nOFHo2_xO_mu",
        "outputId": "5efa6156-df99-4e53-b9fe-663ccc15298c"
      },
      "outputs": [
        {
          "name": "stdout",
          "output_type": "stream",
          "text": [
            "<class 'pandas.core.frame.DataFrame'>\n",
            "RangeIndex: 100000 entries, 0 to 99999\n",
            "Data columns (total 5 columns):\n",
            " #   Column   Non-Null Count   Dtype  \n",
            "---  ------   --------------   -----  \n",
            " 0   id       100000 non-null  object \n",
            " 1   f0       100000 non-null  float64\n",
            " 2   f1       100000 non-null  float64\n",
            " 3   f2       100000 non-null  float64\n",
            " 4   product  100000 non-null  float64\n",
            "dtypes: float64(4), object(1)\n",
            "memory usage: 3.8+ MB\n"
          ]
        },
        {
          "data": {
            "text/html": [
              "<div>\n",
              "<style scoped>\n",
              "    .dataframe tbody tr th:only-of-type {\n",
              "        vertical-align: middle;\n",
              "    }\n",
              "\n",
              "    .dataframe tbody tr th {\n",
              "        vertical-align: top;\n",
              "    }\n",
              "\n",
              "    .dataframe thead th {\n",
              "        text-align: right;\n",
              "    }\n",
              "</style>\n",
              "<table border=\"1\" class=\"dataframe\">\n",
              "  <thead>\n",
              "    <tr style=\"text-align: right;\">\n",
              "      <th></th>\n",
              "      <th>id</th>\n",
              "      <th>f0</th>\n",
              "      <th>f1</th>\n",
              "      <th>f2</th>\n",
              "      <th>product</th>\n",
              "    </tr>\n",
              "  </thead>\n",
              "  <tbody>\n",
              "    <tr>\n",
              "      <th>0</th>\n",
              "      <td>fwXo0</td>\n",
              "      <td>-1.146987</td>\n",
              "      <td>0.963328</td>\n",
              "      <td>-0.828965</td>\n",
              "      <td>27.758673</td>\n",
              "    </tr>\n",
              "    <tr>\n",
              "      <th>1</th>\n",
              "      <td>WJtFt</td>\n",
              "      <td>0.262778</td>\n",
              "      <td>0.269839</td>\n",
              "      <td>-2.530187</td>\n",
              "      <td>56.069697</td>\n",
              "    </tr>\n",
              "    <tr>\n",
              "      <th>2</th>\n",
              "      <td>ovLUW</td>\n",
              "      <td>0.194587</td>\n",
              "      <td>0.289035</td>\n",
              "      <td>-5.586433</td>\n",
              "      <td>62.871910</td>\n",
              "    </tr>\n",
              "    <tr>\n",
              "      <th>3</th>\n",
              "      <td>q6cA6</td>\n",
              "      <td>2.236060</td>\n",
              "      <td>-0.553760</td>\n",
              "      <td>0.930038</td>\n",
              "      <td>114.572842</td>\n",
              "    </tr>\n",
              "    <tr>\n",
              "      <th>4</th>\n",
              "      <td>WPMUX</td>\n",
              "      <td>-0.515993</td>\n",
              "      <td>1.716266</td>\n",
              "      <td>5.899011</td>\n",
              "      <td>149.600746</td>\n",
              "    </tr>\n",
              "    <tr>\n",
              "      <th>...</th>\n",
              "      <td>...</td>\n",
              "      <td>...</td>\n",
              "      <td>...</td>\n",
              "      <td>...</td>\n",
              "      <td>...</td>\n",
              "    </tr>\n",
              "    <tr>\n",
              "      <th>99995</th>\n",
              "      <td>4GxBu</td>\n",
              "      <td>-1.777037</td>\n",
              "      <td>1.125220</td>\n",
              "      <td>6.263374</td>\n",
              "      <td>172.327046</td>\n",
              "    </tr>\n",
              "    <tr>\n",
              "      <th>99996</th>\n",
              "      <td>YKFjq</td>\n",
              "      <td>-1.261523</td>\n",
              "      <td>-0.894828</td>\n",
              "      <td>2.524545</td>\n",
              "      <td>138.748846</td>\n",
              "    </tr>\n",
              "    <tr>\n",
              "      <th>99997</th>\n",
              "      <td>tKPY3</td>\n",
              "      <td>-1.199934</td>\n",
              "      <td>-2.957637</td>\n",
              "      <td>5.219411</td>\n",
              "      <td>157.080080</td>\n",
              "    </tr>\n",
              "    <tr>\n",
              "      <th>99998</th>\n",
              "      <td>nmxp2</td>\n",
              "      <td>-2.419896</td>\n",
              "      <td>2.417221</td>\n",
              "      <td>-5.548444</td>\n",
              "      <td>51.795253</td>\n",
              "    </tr>\n",
              "    <tr>\n",
              "      <th>99999</th>\n",
              "      <td>V9kWn</td>\n",
              "      <td>-2.551421</td>\n",
              "      <td>-2.025625</td>\n",
              "      <td>6.090891</td>\n",
              "      <td>102.775767</td>\n",
              "    </tr>\n",
              "  </tbody>\n",
              "</table>\n",
              "<p>100000 rows × 5 columns</p>\n",
              "</div>"
            ],
            "text/plain": [
              "          id        f0        f1        f2     product\n",
              "0      fwXo0 -1.146987  0.963328 -0.828965   27.758673\n",
              "1      WJtFt  0.262778  0.269839 -2.530187   56.069697\n",
              "2      ovLUW  0.194587  0.289035 -5.586433   62.871910\n",
              "3      q6cA6  2.236060 -0.553760  0.930038  114.572842\n",
              "4      WPMUX -0.515993  1.716266  5.899011  149.600746\n",
              "...      ...       ...       ...       ...         ...\n",
              "99995  4GxBu -1.777037  1.125220  6.263374  172.327046\n",
              "99996  YKFjq -1.261523 -0.894828  2.524545  138.748846\n",
              "99997  tKPY3 -1.199934 -2.957637  5.219411  157.080080\n",
              "99998  nmxp2 -2.419896  2.417221 -5.548444   51.795253\n",
              "99999  V9kWn -2.551421 -2.025625  6.090891  102.775767\n",
              "\n",
              "[100000 rows x 5 columns]"
            ]
          },
          "execution_count": 43,
          "metadata": {},
          "output_type": "execute_result"
        }
      ],
      "source": [
        "data_geo3.info()\n",
        "data_geo3"
      ]
    },
    {
      "cell_type": "markdown",
      "metadata": {
        "id": "9RCDXjDRO_mu"
      },
      "source": [
        "Пропусков нет, все признаки числовые, значит дополнительное преобразование не требуется, кроме значений в столбца id, однако он не является для нас целевым и может быть удален из таблицы, что мы и сделаем"
      ]
    },
    {
      "cell_type": "code",
      "execution_count": null,
      "metadata": {
        "id": "lOElsExkO_mu"
      },
      "outputs": [],
      "source": [
        "data_geo3 = data_geo3.drop('id', axis=1)\n",
        "data_geo2 = data_geo2.drop('id', axis=1)\n",
        "data_geo1 = data_geo1.drop('id', axis=1)"
      ]
    },
    {
      "cell_type": "markdown",
      "metadata": {
        "id": "bqYgz4G1O_mu"
      },
      "source": [
        "Выделяем целевой признак для каждого региона, а также делим выборку на тренировочную и валидационную"
      ]
    },
    {
      "cell_type": "code",
      "execution_count": null,
      "metadata": {
        "id": "zHk04CPIO_mu"
      },
      "outputs": [],
      "source": [
        "geo1_target = data_geo1['product']\n",
        "geo1_features = data_geo1.drop('product', axis=1)\n",
        "\n",
        "geo1_features_train, geo1_features_valid, geo1_target_train, geo1_target_valid = train_test_split(geo1_features, geo1_target, test_size=0.25, random_state=12345)"
      ]
    },
    {
      "cell_type": "code",
      "execution_count": null,
      "metadata": {
        "id": "4qPy9HIsO_mv"
      },
      "outputs": [],
      "source": [
        "geo2_target = data_geo2['product']\n",
        "geo2_features = data_geo2.drop('product', axis=1)\n",
        "\n",
        "geo2_features_train, geo2_features_valid, geo2_target_train, geo2_target_valid = train_test_split(\n",
        "    geo2_features, geo2_target, test_size=0.25, random_state=12345)"
      ]
    },
    {
      "cell_type": "code",
      "execution_count": null,
      "metadata": {
        "id": "i-DmoL0DO_mv"
      },
      "outputs": [],
      "source": [
        "geo3_target = data_geo3['product']\n",
        "geo3_features = data_geo3.drop('product', axis=1)\n",
        "\n",
        "geo3_features_train, geo3_features_valid, geo3_target_train, geo3_target_valid = train_test_split(\n",
        "    geo3_features, geo3_target, test_size=0.25, random_state=12345)"
      ]
    },
    {
      "cell_type": "markdown",
      "metadata": {
        "id": "576YVkDWO_mv"
      },
      "source": [
        "Проводим масштабирование признаков, приводя признаки всех выборок к единому масштабу, так как насколько мы можем видеть по предыдущим данным, дисбаланс классов довольно велик"
      ]
    },
    {
      "cell_type": "code",
      "execution_count": null,
      "metadata": {
        "id": "LIHMnkfjO_mv"
      },
      "outputs": [],
      "source": [
        "pd.options.mode.chained_assignment = None\n",
        "\n",
        "scaler = StandardScaler()\n",
        "scaler.fit(geo1_features_train)\n",
        "\n",
        "geo1_features_train = scaler.transform(geo1_features_train)\n",
        "geo1_features_valid = scaler.transform(geo1_features_valid)"
      ]
    },
    {
      "cell_type": "code",
      "execution_count": null,
      "metadata": {
        "id": "wXufiAVWO_mv"
      },
      "outputs": [],
      "source": [
        "pd.options.mode.chained_assignment = None\n",
        "\n",
        "scaler = StandardScaler()\n",
        "scaler.fit(geo2_features_train)\n",
        "\n",
        "geo2_features_train = scaler.transform(geo2_features_train)\n",
        "geo2_features_valid = scaler.transform(geo2_features_valid)"
      ]
    },
    {
      "cell_type": "code",
      "execution_count": null,
      "metadata": {
        "id": "Uiwlti7ZO_mv"
      },
      "outputs": [],
      "source": [
        "pd.options.mode.chained_assignment = None\n",
        "\n",
        "scaler = StandardScaler()\n",
        "scaler.fit(geo3_features_train)\n",
        "\n",
        "geo3_features_train = scaler.transform(geo3_features_train)\n",
        "geo3_features_valid = scaler.transform(geo3_features_valid)"
      ]
    },
    {
      "cell_type": "markdown",
      "metadata": {
        "id": "c4OwIpE3O_mw"
      },
      "source": [
        "## Обучение и проверка модели"
      ]
    },
    {
      "cell_type": "markdown",
      "metadata": {
        "id": "GIj98PsVO_mw"
      },
      "source": [
        "Обучим модель на данных каждого реиона, попутно проверив модель на меняемость, сранив с предсказанием среднего значения для каждой модели."
      ]
    },
    {
      "cell_type": "markdown",
      "metadata": {
        "id": "GEURjCjqO_mw"
      },
      "source": [
        "1. Первый Регион"
      ]
    },
    {
      "cell_type": "code",
      "execution_count": null,
      "metadata": {
        "id": "ldjTKAWxO_mw",
        "outputId": "c848b759-ec92-4297-851c-669a34f1ae80"
      },
      "outputs": [
        {
          "name": "stdout",
          "output_type": "stream",
          "text": [
            "Средний запас предсказанного сырья 92.59256778438035\n",
            "RMSE модели линейной регрессии на валидационной выборке: 37.5794217150813\n",
            "RMSE модели линейной регрессии на случайной модели: 44.28602687855358\n"
          ]
        },
        {
          "data": {
            "text/plain": [
              "array([ 95.89495185,  77.57258261,  77.89263965, ...,  61.50983303,\n",
              "       118.18039721, 118.16939229])"
            ]
          },
          "execution_count": 51,
          "metadata": {},
          "output_type": "execute_result"
        }
      ],
      "source": [
        "model = LinearRegression()\n",
        "model.fit(geo1_features_train, geo1_target_train)\n",
        "predicted_valid_1 = model.predict(geo1_features_valid)\n",
        "\n",
        "result = mean_squared_error(geo1_target_valid, predicted_valid_1)**0.5\n",
        "\n",
        "predictions = pd.Series(geo1_target_valid.mean(), index=geo1_target_valid.index)\n",
        "result_test = mean_squared_error(geo1_target_valid, predictions)**0.5\n",
        "\n",
        "\n",
        "print(\"Средний запас предсказанного сырья\", predicted_valid_1.mean())\n",
        "print(\"RMSE модели линейной регрессии на валидационной выборке:\", result)\n",
        "print(\"RMSE модели линейной регрессии на случайной модели:\", result_test)\n",
        "predicted_valid_1"
      ]
    },
    {
      "cell_type": "markdown",
      "metadata": {
        "id": "Cq8TXZRFO_mw"
      },
      "source": [
        "2. Второй Регион"
      ]
    },
    {
      "cell_type": "code",
      "execution_count": null,
      "metadata": {
        "id": "CRyQQRMwO_mw",
        "outputId": "989a24d3-ada4-4aff-9853-62eb3e4c9f54"
      },
      "outputs": [
        {
          "name": "stdout",
          "output_type": "stream",
          "text": [
            "Средний запас предсказанного сырья 68.728546895446\n",
            "RMSE модели линейной регрессии на валидационной выборке: 0.893099286775617\n",
            "RMSE модели линейной регрессии на случайной модели: 51.608454050737286\n"
          ]
        }
      ],
      "source": [
        "model = LinearRegression()\n",
        "model.fit(geo2_features_train, geo2_target_train)\n",
        "predicted_valid_2 = model.predict(geo2_features_valid)\n",
        "\n",
        "result = mean_squared_error(geo2_target_valid, predicted_valid_2)**0.5\n",
        "\n",
        "predictions_ = pd.Series(geo2_target_valid.mean(), index=geo2_target_valid.index)\n",
        "result_test = mean_squared_error(geo2_target_valid, predictions)**0.5\n",
        "\n",
        "\n",
        "print(\"Средний запас предсказанного сырья\", predicted_valid_2.mean())\n",
        "print(\"RMSE модели линейной регрессии на валидационной выборке:\", result)\n",
        "print(\"RMSE модели линейной регрессии на случайной модели:\", result_test)"
      ]
    },
    {
      "cell_type": "markdown",
      "metadata": {
        "id": "64Jdi2Z5O_mw"
      },
      "source": [
        "3. Третий Регион"
      ]
    },
    {
      "cell_type": "code",
      "execution_count": null,
      "metadata": {
        "id": "qMmNWNlNO_mw",
        "outputId": "79125541-9a75-4c02-e587-1e63f3d77226"
      },
      "outputs": [
        {
          "name": "stdout",
          "output_type": "stream",
          "text": [
            "Средний запас предсказанного сырья 94.96504596800489\n",
            "RMSE модели линейной регрессии на валидационной выборке: 40.02970873393434\n",
            "RMSE модели линейной регрессии на случайной модели: 44.902084376898294\n"
          ]
        }
      ],
      "source": [
        "model = LinearRegression()\n",
        "model.fit(geo3_features_train, geo3_target_train)\n",
        "predicted_valid_3 = model.predict(geo3_features_valid)\n",
        "\n",
        "result = mean_squared_error(geo3_target_valid, predicted_valid_3)**0.5\n",
        "\n",
        "predictions = pd.Series(geo3_target_valid.mean(), index=geo3_target_valid.index)\n",
        "result_test = mean_squared_error(geo3_target_valid, predictions)**0.5\n",
        "\n",
        "\n",
        "print(\"Средний запас предсказанного сырья\", predicted_valid_3.mean())\n",
        "print(\"RMSE модели линейной регрессии на валидационной выборке:\", result)\n",
        "print(\"RMSE модели линейной регрессии на случайной модели:\", result_test)"
      ]
    },
    {
      "cell_type": "markdown",
      "metadata": {
        "id": "eBvsXKkwO_mx"
      },
      "source": [
        "Проведя обучение, на данных лучшее качество показала модель обученная на втором регионе, качество первой и третьей можели примерно одинаковы.\n",
        "При этом наименьший средней запас нефти в скважине показали данные из второго региона, в то время как первый и преждве всего третий регион показали наибольший средний запас нефти в скважине, что правда может быть неточным, с учетом низкого качества модели."
      ]
    },
    {
      "cell_type": "markdown",
      "metadata": {
        "id": "3MmgzKhuO_mx"
      },
      "source": [
        "Расчитаем минимальное среднее колличество нефти в скважине, необходимое для безубыточной рзработки скважины"
      ]
    },
    {
      "cell_type": "code",
      "execution_count": null,
      "metadata": {
        "id": "wTNOWeVnO_nK",
        "outputId": "5c7ec065-b5cf-431c-9087-0096b8576418"
      },
      "outputs": [
        {
          "name": "stdout",
          "output_type": "stream",
          "text": [
            "111.11111111111111\n"
          ]
        }
      ],
      "source": [
        "BUDGET = 10000000000\n",
        "PRICE_PER_1000_BARREL= 450000\n",
        "WELL_NUMBER = 200\n",
        "min_barrel_for_mining = BUDGET / PRICE_PER_1000_BARREL / WELL_NUMBER\n",
        "print(min_barrel_for_mining)"
      ]
    },
    {
      "cell_type": "markdown",
      "metadata": {
        "id": "t2-JpX9tO_nO"
      },
      "source": [
        "## Расчёт прибыли и рисков"
      ]
    },
    {
      "cell_type": "markdown",
      "metadata": {
        "id": "X73wyiFSO_nO"
      },
      "source": [
        "1. Расчитаем потенциальную прибыль, риски убытков и 95%-й доверительный интервал для первого реигиона"
      ]
    },
    {
      "cell_type": "code",
      "execution_count": null,
      "metadata": {
        "id": "Vq31CvWTO_nQ",
        "outputId": "118f0f3e-4db4-444d-e02f-0b2b897eb096"
      },
      "outputs": [
        {
          "name": "stdout",
          "output_type": "stream",
          "text": [
            "Расчетная средняя прибыль одной скважины для 1-го региона, составит- 425938526.91059244 \n",
            "Доверительный интервал в регионе составляет от -102090094.83793654 до 947976353.3583689 \n",
            "Риск при этом, составит-  0.06\n"
          ]
        }
      ],
      "source": [
        "state = np.random.RandomState(12345)\n",
        "values = []\n",
        "\n",
        "target = geo1_target_valid.reset_index(drop=True)\n",
        "predictions = pd.Series(predicted_valid_1)\n",
        "count = 0\n",
        "\n",
        "for i in range(1000):\n",
        "    target_subsample = target.sample(500, replace=True, random_state=state)\n",
        "    predictions_subsample = predictions.loc[target_subsample.index.to_list()]\n",
        "\n",
        "    predict_sorted = predictions_subsample.sort_values(ascending=False)\n",
        "    selected = target_subsample.loc[predict_sorted.index.to_list()][:200]\n",
        "    value = (selected.sum() * PRICE_PER_1000_BARREL) - BUDGET\n",
        "    values.append(value)\n",
        "\n",
        "\n",
        "values = pd.Series(values)\n",
        "risk= (values < 0).mean()\n",
        "lower = values.quantile(0.025)\n",
        "upper = values.quantile(0.975)\n",
        "\n",
        "\n",
        "print('Расчетная средняя прибыль одной скважины для 1-го региона, составит-', values.mean() , '\\n'\n",
        "      'Доверительный интервал в регионе составляет от', lower,'до', upper, '\\n'\n",
        "     'Риск при этом, составит- ', risk)\n"
      ]
    },
    {
      "cell_type": "markdown",
      "metadata": {
        "id": "KQ5cOshMO_nQ"
      },
      "source": [
        "2. Расчитаем потенциальную прибыль, риски убытков и 95%-й доверительный интервал для второго реигиона"
      ]
    },
    {
      "cell_type": "code",
      "execution_count": null,
      "metadata": {
        "id": "D7WHSrE8O_nQ",
        "outputId": "4415806c-d8dc-4f78-def6-7027adec2f4e"
      },
      "outputs": [
        {
          "name": "stdout",
          "output_type": "stream",
          "text": [
            "Расчетная средняя прибыль одной скважины для 2-го региона, составит- 515222773.4432899 \n",
            "Доверительный интервал в регионе составляет от 68873225.37050176 до 931547591.2570494 \n",
            "Риск при этом, составит-  0.01\n"
          ]
        }
      ],
      "source": [
        "state = np.random.RandomState(12345)\n",
        "values = []\n",
        "\n",
        "target = geo2_target_valid.reset_index(drop=True)\n",
        "predictions = pd.Series(predicted_valid_2)\n",
        "count = 0\n",
        "\n",
        "for i in range(1000):\n",
        "    target_subsample = target.sample(500, replace=True, random_state=state)\n",
        "    predictions_subsample = predictions.loc[target_subsample.index.to_list()]\n",
        "\n",
        "    predict_sorted = predictions_subsample.sort_values(ascending=False)\n",
        "    selected = target_subsample.loc[predict_sorted.index.to_list()][:200]\n",
        "    value = (selected.sum() * PRICE_PER_1000_BARREL) - BUDGET\n",
        "    values.append(value)\n",
        "\n",
        "\n",
        "\n",
        "values = pd.Series(values)\n",
        "risk= (values < 0).mean()\n",
        "\n",
        "lower = values.quantile(0.025)\n",
        "upper = values.quantile(0.975)\n",
        "\n",
        "\n",
        "print('Расчетная средняя прибыль одной скважины для 2-го региона, составит-', values.mean() , '\\n'\n",
        "      'Доверительный интервал в регионе составляет от', lower,'до', upper,'\\n'\n",
        "     'Риск при этом, составит- ', risk)\n"
      ]
    },
    {
      "cell_type": "code",
      "execution_count": null,
      "metadata": {
        "id": "6AyTzDNwO_nQ",
        "outputId": "7307a390-693e-4e54-80c5-566a66c91616"
      },
      "outputs": [
        {
          "name": "stdout",
          "output_type": "stream",
          "text": [
            "Расчетная средняя прибыль одной скважины для 3-го региона, составит- 435008362.7827556 \n",
            "Доверительный интервал в регионе составляет от -128880547.32978901 до 969706954.1802661 \n",
            "Риск при этом, составит-  0.064\n"
          ]
        }
      ],
      "source": [
        "state = np.random.RandomState(12345)\n",
        "values = []\n",
        "\n",
        "target = geo3_target_valid.reset_index(drop=True)\n",
        "predictions = pd.Series(predicted_valid_3)\n",
        "count = 0\n",
        "\n",
        "for i in range(1000):\n",
        "    target_subsample = target.sample(500, replace=True, random_state=state)\n",
        "    predictions_subsample = predictions.loc[target_subsample.index.to_list()]\n",
        "\n",
        "    predict_sorted = predictions_subsample.sort_values(ascending=False)\n",
        "    selected = target_subsample.loc[predict_sorted.index.to_list()][:200]\n",
        "    value = (selected.sum() * PRICE_PER_1000_BARREL) - BUDGET\n",
        "    values.append(value)\n",
        "\n",
        "\n",
        "\n",
        "values = pd.Series(values)\n",
        "risk= (values < 0).mean()\n",
        "\n",
        "lower = values.quantile(0.025)\n",
        "upper = values.quantile(0.975)\n",
        "\n",
        "\n",
        "print('Расчетная средняя прибыль одной скважины для 3-го региона, составит-', values.mean() , '\\n'\n",
        "      'Доверительный интервал в регионе составляет от', lower,'до', upper,'\\n'\n",
        "     'Риск при этом, составит- ', risk)\n"
      ]
    },
    {
      "cell_type": "markdown",
      "metadata": {
        "id": "Ieq6CYU6O_nR"
      },
      "source": [
        "**ВЫВОД:**\n",
        "\n",
        "По итогам анализа, можно с уверенностью сказать, что лучший результат показывает второй регион, а именно: самую выскокую среднюю выручку и самый минимальный риск, что делает его наиболее пересперктивным регионом для разработки."
      ]
    }
  ],
  "metadata": {
    "ExecuteTimeLog": [
      {
        "duration": 51,
        "start_time": "2023-02-21T04:35:01.541Z"
      },
      {
        "duration": 393,
        "start_time": "2023-02-21T04:35:05.636Z"
      },
      {
        "duration": 915,
        "start_time": "2023-02-21T04:35:07.069Z"
      },
      {
        "duration": 15,
        "start_time": "2023-02-21T04:36:08.599Z"
      },
      {
        "duration": 16,
        "start_time": "2023-02-21T04:36:14.456Z"
      },
      {
        "duration": 24,
        "start_time": "2023-02-21T04:36:39.934Z"
      },
      {
        "duration": 23,
        "start_time": "2023-02-21T04:37:09.784Z"
      },
      {
        "duration": 22,
        "start_time": "2023-02-21T04:37:14.701Z"
      },
      {
        "duration": 22,
        "start_time": "2023-02-21T04:37:18.665Z"
      },
      {
        "duration": 10,
        "start_time": "2023-02-21T04:59:20.278Z"
      },
      {
        "duration": 39,
        "start_time": "2023-02-21T05:16:03.216Z"
      },
      {
        "duration": 13,
        "start_time": "2023-02-21T05:16:15.349Z"
      },
      {
        "duration": 10,
        "start_time": "2023-02-21T05:16:28.209Z"
      },
      {
        "duration": 13,
        "start_time": "2023-02-21T05:17:32.027Z"
      },
      {
        "duration": 717,
        "start_time": "2023-02-21T05:18:10.395Z"
      },
      {
        "duration": 60,
        "start_time": "2023-02-21T14:38:35.134Z"
      },
      {
        "duration": 1035,
        "start_time": "2023-02-21T14:38:43.556Z"
      },
      {
        "duration": 1457,
        "start_time": "2023-02-21T14:38:44.592Z"
      },
      {
        "duration": 28,
        "start_time": "2023-02-21T14:38:46.050Z"
      },
      {
        "duration": 45,
        "start_time": "2023-02-21T14:38:46.079Z"
      },
      {
        "duration": 20,
        "start_time": "2023-02-21T14:38:46.126Z"
      },
      {
        "duration": 10,
        "start_time": "2023-02-21T14:38:46.148Z"
      },
      {
        "duration": 79,
        "start_time": "2023-02-21T14:38:46.160Z"
      },
      {
        "duration": 0,
        "start_time": "2023-02-21T14:38:46.240Z"
      },
      {
        "duration": 0,
        "start_time": "2023-02-21T14:38:46.242Z"
      },
      {
        "duration": 10,
        "start_time": "2023-02-21T14:54:51.726Z"
      },
      {
        "duration": 8,
        "start_time": "2023-02-21T14:55:13.226Z"
      },
      {
        "duration": 8,
        "start_time": "2023-02-21T14:56:32.885Z"
      },
      {
        "duration": 26,
        "start_time": "2023-02-21T14:56:40.030Z"
      },
      {
        "duration": 3,
        "start_time": "2023-02-21T14:56:52.370Z"
      },
      {
        "duration": 368,
        "start_time": "2023-02-21T14:56:53.963Z"
      },
      {
        "duration": 22,
        "start_time": "2023-02-21T14:56:56.241Z"
      },
      {
        "duration": 22,
        "start_time": "2023-02-21T14:56:58.475Z"
      },
      {
        "duration": 21,
        "start_time": "2023-02-21T14:57:03.488Z"
      },
      {
        "duration": 23,
        "start_time": "2023-02-21T14:57:07.440Z"
      },
      {
        "duration": 12,
        "start_time": "2023-02-21T14:57:10.235Z"
      },
      {
        "duration": 27,
        "start_time": "2023-02-21T14:57:11.866Z"
      },
      {
        "duration": 24,
        "start_time": "2023-02-21T14:57:58.570Z"
      },
      {
        "duration": 25,
        "start_time": "2023-02-21T14:58:08.625Z"
      },
      {
        "duration": 8,
        "start_time": "2023-02-21T14:58:45.302Z"
      },
      {
        "duration": 11,
        "start_time": "2023-02-21T14:58:51.217Z"
      },
      {
        "duration": 13,
        "start_time": "2023-02-21T15:00:07.055Z"
      },
      {
        "duration": 19,
        "start_time": "2023-02-21T15:00:11.504Z"
      },
      {
        "duration": 18,
        "start_time": "2023-02-21T15:00:18.149Z"
      },
      {
        "duration": 17,
        "start_time": "2023-02-21T15:00:24.420Z"
      },
      {
        "duration": 16,
        "start_time": "2023-02-21T15:00:40.395Z"
      },
      {
        "duration": 11,
        "start_time": "2023-02-21T15:00:46.372Z"
      },
      {
        "duration": 15,
        "start_time": "2023-02-21T15:02:55.519Z"
      },
      {
        "duration": 13,
        "start_time": "2023-02-21T15:03:27.788Z"
      },
      {
        "duration": 13,
        "start_time": "2023-02-21T15:04:26.700Z"
      },
      {
        "duration": 12,
        "start_time": "2023-02-21T15:04:55.500Z"
      },
      {
        "duration": 10,
        "start_time": "2023-02-21T15:10:15.388Z"
      },
      {
        "duration": 2,
        "start_time": "2023-02-21T15:10:22.248Z"
      },
      {
        "duration": 11,
        "start_time": "2023-02-21T15:10:27.263Z"
      },
      {
        "duration": 9,
        "start_time": "2023-02-21T15:10:36.528Z"
      },
      {
        "duration": 20,
        "start_time": "2023-02-21T15:10:43.090Z"
      },
      {
        "duration": 21,
        "start_time": "2023-02-21T15:10:59.847Z"
      },
      {
        "duration": 13,
        "start_time": "2023-02-21T15:11:07.667Z"
      },
      {
        "duration": 14,
        "start_time": "2023-02-21T15:11:20.511Z"
      },
      {
        "duration": 43,
        "start_time": "2023-02-21T15:25:39.106Z"
      },
      {
        "duration": 107,
        "start_time": "2023-02-21T15:27:43.145Z"
      },
      {
        "duration": 18,
        "start_time": "2023-02-21T15:27:48.489Z"
      },
      {
        "duration": 7,
        "start_time": "2023-02-21T15:39:48.455Z"
      },
      {
        "duration": 3,
        "start_time": "2023-02-21T15:40:17.177Z"
      },
      {
        "duration": 12,
        "start_time": "2023-02-21T15:40:20.565Z"
      },
      {
        "duration": 11,
        "start_time": "2023-02-21T15:41:32.254Z"
      },
      {
        "duration": 9,
        "start_time": "2023-02-21T15:41:48.750Z"
      },
      {
        "duration": 9,
        "start_time": "2023-02-21T15:42:40.923Z"
      },
      {
        "duration": 9,
        "start_time": "2023-02-21T15:43:36.742Z"
      },
      {
        "duration": 50,
        "start_time": "2023-02-22T07:34:35.919Z"
      },
      {
        "duration": 1124,
        "start_time": "2023-02-22T07:34:39.275Z"
      },
      {
        "duration": 1653,
        "start_time": "2023-02-22T07:34:40.400Z"
      },
      {
        "duration": 30,
        "start_time": "2023-02-22T07:34:42.054Z"
      },
      {
        "duration": 22,
        "start_time": "2023-02-22T07:34:42.086Z"
      },
      {
        "duration": 27,
        "start_time": "2023-02-22T07:34:42.110Z"
      },
      {
        "duration": 11,
        "start_time": "2023-02-22T07:34:42.139Z"
      },
      {
        "duration": 15,
        "start_time": "2023-02-22T07:34:42.152Z"
      },
      {
        "duration": 15,
        "start_time": "2023-02-22T07:34:42.169Z"
      },
      {
        "duration": 36,
        "start_time": "2023-02-22T07:34:42.186Z"
      },
      {
        "duration": 26,
        "start_time": "2023-02-22T07:34:42.224Z"
      },
      {
        "duration": 12,
        "start_time": "2023-02-22T07:34:42.252Z"
      },
      {
        "duration": 67,
        "start_time": "2023-02-22T07:34:42.266Z"
      },
      {
        "duration": 17,
        "start_time": "2023-02-22T07:35:08.720Z"
      },
      {
        "duration": 59,
        "start_time": "2023-02-22T07:35:21.582Z"
      },
      {
        "duration": 10,
        "start_time": "2023-02-22T07:35:31.479Z"
      },
      {
        "duration": 4,
        "start_time": "2023-02-22T07:35:54.332Z"
      },
      {
        "duration": 541,
        "start_time": "2023-02-22T07:35:54.338Z"
      },
      {
        "duration": 45,
        "start_time": "2023-02-22T07:35:54.881Z"
      },
      {
        "duration": 32,
        "start_time": "2023-02-22T07:35:54.928Z"
      },
      {
        "duration": 55,
        "start_time": "2023-02-22T07:35:54.963Z"
      },
      {
        "duration": 39,
        "start_time": "2023-02-22T07:35:55.021Z"
      },
      {
        "duration": 47,
        "start_time": "2023-02-22T07:35:55.062Z"
      },
      {
        "duration": 23,
        "start_time": "2023-02-22T07:35:55.111Z"
      },
      {
        "duration": 16,
        "start_time": "2023-02-22T07:35:55.136Z"
      },
      {
        "duration": 15,
        "start_time": "2023-02-22T07:35:55.155Z"
      },
      {
        "duration": 60,
        "start_time": "2023-02-22T07:35:55.173Z"
      },
      {
        "duration": 17,
        "start_time": "2023-02-22T07:35:59.829Z"
      },
      {
        "duration": 13,
        "start_time": "2023-02-22T07:36:03.001Z"
      },
      {
        "duration": 20,
        "start_time": "2023-02-22T07:36:06.416Z"
      },
      {
        "duration": 1098,
        "start_time": "2023-02-22T07:36:22.015Z"
      },
      {
        "duration": 389,
        "start_time": "2023-02-22T07:36:23.115Z"
      },
      {
        "duration": 37,
        "start_time": "2023-02-22T07:36:23.505Z"
      },
      {
        "duration": 25,
        "start_time": "2023-02-22T07:36:23.544Z"
      },
      {
        "duration": 58,
        "start_time": "2023-02-22T07:36:23.572Z"
      },
      {
        "duration": 16,
        "start_time": "2023-02-22T07:36:23.632Z"
      },
      {
        "duration": 22,
        "start_time": "2023-02-22T07:36:23.650Z"
      },
      {
        "duration": 20,
        "start_time": "2023-02-22T07:36:23.674Z"
      },
      {
        "duration": 36,
        "start_time": "2023-02-22T07:36:23.696Z"
      },
      {
        "duration": 23,
        "start_time": "2023-02-22T07:36:23.735Z"
      },
      {
        "duration": 74,
        "start_time": "2023-02-22T07:36:23.760Z"
      },
      {
        "duration": 18,
        "start_time": "2023-02-22T07:37:13.169Z"
      },
      {
        "duration": 25,
        "start_time": "2023-02-22T07:37:17.824Z"
      },
      {
        "duration": 27,
        "start_time": "2023-02-22T07:37:20.212Z"
      },
      {
        "duration": 12,
        "start_time": "2023-02-22T07:40:49.076Z"
      },
      {
        "duration": 15,
        "start_time": "2023-02-22T07:40:50.053Z"
      },
      {
        "duration": 15,
        "start_time": "2023-02-22T07:40:50.606Z"
      },
      {
        "duration": 116,
        "start_time": "2023-02-22T07:43:01.115Z"
      },
      {
        "duration": 68,
        "start_time": "2023-02-22T07:43:03.266Z"
      },
      {
        "duration": 14,
        "start_time": "2023-02-22T07:43:15.862Z"
      },
      {
        "duration": 57,
        "start_time": "2023-02-22T07:50:12.366Z"
      },
      {
        "duration": 46,
        "start_time": "2023-02-22T07:50:15.579Z"
      },
      {
        "duration": 20,
        "start_time": "2023-02-22T07:50:18.704Z"
      },
      {
        "duration": 80,
        "start_time": "2023-02-23T06:52:55.844Z"
      },
      {
        "duration": 2,
        "start_time": "2023-02-23T06:53:00.969Z"
      },
      {
        "duration": 3,
        "start_time": "2023-02-23T06:53:12.913Z"
      },
      {
        "duration": 1074,
        "start_time": "2023-02-23T07:02:35.254Z"
      },
      {
        "duration": 892,
        "start_time": "2023-02-23T07:02:36.330Z"
      },
      {
        "duration": 29,
        "start_time": "2023-02-23T07:02:37.224Z"
      },
      {
        "duration": 29,
        "start_time": "2023-02-23T07:02:37.254Z"
      },
      {
        "duration": 32,
        "start_time": "2023-02-23T07:02:37.286Z"
      },
      {
        "duration": 14,
        "start_time": "2023-02-23T07:02:37.338Z"
      },
      {
        "duration": 26,
        "start_time": "2023-02-23T07:02:37.354Z"
      },
      {
        "duration": 16,
        "start_time": "2023-02-23T07:02:37.382Z"
      },
      {
        "duration": 16,
        "start_time": "2023-02-23T07:02:37.400Z"
      },
      {
        "duration": 29,
        "start_time": "2023-02-23T07:02:37.417Z"
      },
      {
        "duration": 12,
        "start_time": "2023-02-23T07:02:37.448Z"
      },
      {
        "duration": 12,
        "start_time": "2023-02-23T07:02:37.461Z"
      },
      {
        "duration": 66,
        "start_time": "2023-02-23T07:02:37.474Z"
      },
      {
        "duration": 120,
        "start_time": "2023-02-23T07:02:37.544Z"
      },
      {
        "duration": 100,
        "start_time": "2023-02-23T07:02:37.753Z"
      },
      {
        "duration": 86,
        "start_time": "2023-02-23T07:02:37.854Z"
      },
      {
        "duration": 98,
        "start_time": "2023-02-23T08:01:10.015Z"
      },
      {
        "duration": 3,
        "start_time": "2023-02-23T08:02:10.057Z"
      },
      {
        "duration": 26,
        "start_time": "2023-02-23T08:02:14.731Z"
      },
      {
        "duration": 4,
        "start_time": "2023-02-23T08:02:21.021Z"
      },
      {
        "duration": 4778,
        "start_time": "2023-02-23T08:02:22.707Z"
      },
      {
        "duration": 3,
        "start_time": "2023-02-23T08:07:00.262Z"
      },
      {
        "duration": 74,
        "start_time": "2023-02-23T08:29:58.438Z"
      },
      {
        "duration": 85,
        "start_time": "2023-02-23T08:30:04.460Z"
      },
      {
        "duration": 12,
        "start_time": "2023-02-23T08:30:54.398Z"
      },
      {
        "duration": 12,
        "start_time": "2023-02-23T08:32:24.923Z"
      },
      {
        "duration": 4186,
        "start_time": "2023-02-23T08:33:44.154Z"
      },
      {
        "duration": 11,
        "start_time": "2023-02-23T08:34:20.107Z"
      },
      {
        "duration": 11,
        "start_time": "2023-02-23T08:35:17.405Z"
      },
      {
        "duration": 49,
        "start_time": "2023-02-23T08:35:38.924Z"
      },
      {
        "duration": 1059,
        "start_time": "2023-02-23T08:35:43.276Z"
      },
      {
        "duration": 329,
        "start_time": "2023-02-23T08:35:44.338Z"
      },
      {
        "duration": 27,
        "start_time": "2023-02-23T08:35:44.669Z"
      },
      {
        "duration": 21,
        "start_time": "2023-02-23T08:35:44.699Z"
      },
      {
        "duration": 32,
        "start_time": "2023-02-23T08:35:44.722Z"
      },
      {
        "duration": 11,
        "start_time": "2023-02-23T08:35:44.756Z"
      },
      {
        "duration": 14,
        "start_time": "2023-02-23T08:35:44.769Z"
      },
      {
        "duration": 15,
        "start_time": "2023-02-23T08:35:44.784Z"
      },
      {
        "duration": 45,
        "start_time": "2023-02-23T08:35:44.801Z"
      },
      {
        "duration": 12,
        "start_time": "2023-02-23T08:35:44.848Z"
      },
      {
        "duration": 14,
        "start_time": "2023-02-23T08:35:44.861Z"
      },
      {
        "duration": 11,
        "start_time": "2023-02-23T08:35:44.876Z"
      },
      {
        "duration": 51,
        "start_time": "2023-02-23T08:35:44.889Z"
      },
      {
        "duration": 95,
        "start_time": "2023-02-23T08:35:44.947Z"
      },
      {
        "duration": 107,
        "start_time": "2023-02-23T08:35:45.043Z"
      },
      {
        "duration": 87,
        "start_time": "2023-02-23T08:35:45.151Z"
      },
      {
        "duration": 152,
        "start_time": "2023-02-23T08:35:45.239Z"
      },
      {
        "duration": 21,
        "start_time": "2023-02-23T08:37:08.631Z"
      },
      {
        "duration": 30,
        "start_time": "2023-02-23T08:37:16.888Z"
      },
      {
        "duration": 15,
        "start_time": "2023-02-23T08:37:43.948Z"
      },
      {
        "duration": 15,
        "start_time": "2023-02-23T08:38:06.566Z"
      },
      {
        "duration": 12,
        "start_time": "2023-02-23T08:42:37.340Z"
      },
      {
        "duration": 23,
        "start_time": "2023-02-23T08:42:53.754Z"
      },
      {
        "duration": 10,
        "start_time": "2023-02-23T08:44:10.013Z"
      },
      {
        "duration": 13,
        "start_time": "2023-02-23T08:44:18.642Z"
      },
      {
        "duration": 4181,
        "start_time": "2023-02-23T08:44:47.469Z"
      },
      {
        "duration": 108,
        "start_time": "2023-02-23T08:45:35.335Z"
      },
      {
        "duration": 50,
        "start_time": "2023-02-23T08:45:38.987Z"
      },
      {
        "duration": 22,
        "start_time": "2023-02-23T08:45:40.794Z"
      },
      {
        "duration": 4434,
        "start_time": "2023-02-23T08:45:43.780Z"
      },
      {
        "duration": 10,
        "start_time": "2023-02-23T08:46:04.847Z"
      },
      {
        "duration": 11,
        "start_time": "2023-02-23T08:46:15.731Z"
      },
      {
        "duration": 1264,
        "start_time": "2023-02-25T18:26:25.739Z"
      },
      {
        "duration": 932,
        "start_time": "2023-02-25T18:26:27.005Z"
      },
      {
        "duration": 30,
        "start_time": "2023-02-25T18:26:27.938Z"
      },
      {
        "duration": 23,
        "start_time": "2023-02-25T18:26:27.970Z"
      },
      {
        "duration": 32,
        "start_time": "2023-02-25T18:26:27.994Z"
      },
      {
        "duration": 11,
        "start_time": "2023-02-25T18:26:28.028Z"
      },
      {
        "duration": 17,
        "start_time": "2023-02-25T18:26:28.041Z"
      },
      {
        "duration": 15,
        "start_time": "2023-02-25T18:26:28.060Z"
      },
      {
        "duration": 39,
        "start_time": "2023-02-25T18:26:28.077Z"
      },
      {
        "duration": 14,
        "start_time": "2023-02-25T18:26:28.118Z"
      },
      {
        "duration": 11,
        "start_time": "2023-02-25T18:26:28.133Z"
      },
      {
        "duration": 12,
        "start_time": "2023-02-25T18:26:28.146Z"
      },
      {
        "duration": 146,
        "start_time": "2023-02-25T18:26:28.159Z"
      },
      {
        "duration": 104,
        "start_time": "2023-02-25T18:26:28.307Z"
      },
      {
        "duration": 112,
        "start_time": "2023-02-25T18:26:28.414Z"
      },
      {
        "duration": 14,
        "start_time": "2023-02-25T18:26:28.603Z"
      },
      {
        "duration": 4540,
        "start_time": "2023-02-25T18:26:28.704Z"
      },
      {
        "duration": 108,
        "start_time": "2023-02-25T18:26:33.246Z"
      },
      {
        "duration": 0,
        "start_time": "2023-02-25T18:26:33.355Z"
      },
      {
        "duration": 1471,
        "start_time": "2023-02-25T18:26:47.489Z"
      },
      {
        "duration": 1490,
        "start_time": "2023-02-25T18:27:56.713Z"
      },
      {
        "duration": 1491,
        "start_time": "2023-02-25T18:28:21.460Z"
      },
      {
        "duration": 1505,
        "start_time": "2023-02-25T18:28:48.532Z"
      },
      {
        "duration": 1590,
        "start_time": "2023-02-25T18:30:31.731Z"
      },
      {
        "duration": 1584,
        "start_time": "2023-02-25T18:32:03.769Z"
      },
      {
        "duration": 1490,
        "start_time": "2023-02-25T18:32:09.133Z"
      },
      {
        "duration": 1526,
        "start_time": "2023-02-25T18:32:15.678Z"
      },
      {
        "duration": 1533,
        "start_time": "2023-02-25T18:32:20.297Z"
      },
      {
        "duration": 1580,
        "start_time": "2023-02-25T18:33:23.385Z"
      },
      {
        "duration": 95,
        "start_time": "2023-02-25T18:33:40.546Z"
      },
      {
        "duration": 1490,
        "start_time": "2023-02-25T18:33:54.315Z"
      },
      {
        "duration": 1480,
        "start_time": "2023-02-25T18:34:06.990Z"
      },
      {
        "duration": 1596,
        "start_time": "2023-02-25T18:34:13.150Z"
      },
      {
        "duration": 1531,
        "start_time": "2023-02-25T18:34:19.773Z"
      },
      {
        "duration": 1553,
        "start_time": "2023-02-25T18:34:33.545Z"
      },
      {
        "duration": 1458,
        "start_time": "2023-02-25T18:37:11.485Z"
      },
      {
        "duration": 45,
        "start_time": "2023-02-26T15:53:03.270Z"
      },
      {
        "duration": 61,
        "start_time": "2023-02-26T15:53:06.260Z"
      },
      {
        "duration": 7,
        "start_time": "2023-02-26T15:53:15.957Z"
      },
      {
        "duration": 7,
        "start_time": "2023-02-26T15:53:20.314Z"
      },
      {
        "duration": 1136,
        "start_time": "2023-02-26T15:53:25.506Z"
      },
      {
        "duration": 1508,
        "start_time": "2023-02-26T15:53:26.644Z"
      },
      {
        "duration": 28,
        "start_time": "2023-02-26T15:53:28.154Z"
      },
      {
        "duration": 20,
        "start_time": "2023-02-26T15:53:28.184Z"
      },
      {
        "duration": 33,
        "start_time": "2023-02-26T15:53:28.206Z"
      },
      {
        "duration": 15,
        "start_time": "2023-02-26T15:53:28.240Z"
      },
      {
        "duration": 31,
        "start_time": "2023-02-26T15:53:28.256Z"
      },
      {
        "duration": 17,
        "start_time": "2023-02-26T15:53:28.288Z"
      },
      {
        "duration": 16,
        "start_time": "2023-02-26T15:53:28.306Z"
      },
      {
        "duration": 20,
        "start_time": "2023-02-26T15:53:28.324Z"
      },
      {
        "duration": 13,
        "start_time": "2023-02-26T15:53:28.346Z"
      },
      {
        "duration": 39,
        "start_time": "2023-02-26T15:53:28.361Z"
      },
      {
        "duration": 92,
        "start_time": "2023-02-26T15:53:28.401Z"
      },
      {
        "duration": 112,
        "start_time": "2023-02-26T15:53:28.494Z"
      },
      {
        "duration": 189,
        "start_time": "2023-02-26T15:53:28.608Z"
      },
      {
        "duration": 98,
        "start_time": "2023-02-26T15:53:28.800Z"
      },
      {
        "duration": 141,
        "start_time": "2023-02-26T15:53:28.900Z"
      },
      {
        "duration": 0,
        "start_time": "2023-02-26T15:53:29.043Z"
      },
      {
        "duration": 0,
        "start_time": "2023-02-26T15:53:29.044Z"
      },
      {
        "duration": 0,
        "start_time": "2023-02-26T15:53:29.045Z"
      },
      {
        "duration": 0,
        "start_time": "2023-02-26T15:53:29.046Z"
      },
      {
        "duration": 0,
        "start_time": "2023-02-26T15:53:29.047Z"
      },
      {
        "duration": 9,
        "start_time": "2023-02-26T15:53:37.169Z"
      },
      {
        "duration": 51,
        "start_time": "2023-02-26T15:54:09.902Z"
      },
      {
        "duration": 102,
        "start_time": "2023-02-26T15:54:23.831Z"
      },
      {
        "duration": 94,
        "start_time": "2023-02-26T15:54:29.406Z"
      },
      {
        "duration": 51,
        "start_time": "2023-02-26T15:54:35.121Z"
      },
      {
        "duration": 53,
        "start_time": "2023-02-26T15:54:42.694Z"
      },
      {
        "duration": 54,
        "start_time": "2023-02-26T15:55:12.520Z"
      },
      {
        "duration": 48,
        "start_time": "2023-02-26T15:55:21.623Z"
      },
      {
        "duration": 89,
        "start_time": "2023-02-26T15:55:59.821Z"
      },
      {
        "duration": 55,
        "start_time": "2023-02-26T15:56:04.009Z"
      },
      {
        "duration": 58,
        "start_time": "2023-02-26T15:56:10.584Z"
      },
      {
        "duration": 9,
        "start_time": "2023-02-26T15:56:45.683Z"
      },
      {
        "duration": 13,
        "start_time": "2023-02-26T15:56:56.155Z"
      },
      {
        "duration": 51,
        "start_time": "2023-02-26T15:57:20.463Z"
      },
      {
        "duration": 1023,
        "start_time": "2023-02-26T15:57:24.229Z"
      },
      {
        "duration": 353,
        "start_time": "2023-02-26T15:57:25.254Z"
      },
      {
        "duration": 27,
        "start_time": "2023-02-26T15:57:25.609Z"
      },
      {
        "duration": 24,
        "start_time": "2023-02-26T15:57:25.638Z"
      },
      {
        "duration": 38,
        "start_time": "2023-02-26T15:57:25.663Z"
      },
      {
        "duration": 11,
        "start_time": "2023-02-26T15:57:25.703Z"
      },
      {
        "duration": 20,
        "start_time": "2023-02-26T15:57:25.715Z"
      },
      {
        "duration": 13,
        "start_time": "2023-02-26T15:57:25.737Z"
      },
      {
        "duration": 14,
        "start_time": "2023-02-26T15:57:25.752Z"
      },
      {
        "duration": 32,
        "start_time": "2023-02-26T15:57:25.769Z"
      },
      {
        "duration": 10,
        "start_time": "2023-02-26T15:57:25.803Z"
      },
      {
        "duration": 12,
        "start_time": "2023-02-26T15:57:25.815Z"
      },
      {
        "duration": 69,
        "start_time": "2023-02-26T15:57:25.829Z"
      },
      {
        "duration": 105,
        "start_time": "2023-02-26T15:57:25.900Z"
      },
      {
        "duration": 189,
        "start_time": "2023-02-26T15:57:26.008Z"
      },
      {
        "duration": 210,
        "start_time": "2023-02-26T15:57:26.199Z"
      },
      {
        "duration": 105,
        "start_time": "2023-02-26T15:57:26.411Z"
      },
      {
        "duration": 0,
        "start_time": "2023-02-26T15:57:26.518Z"
      },
      {
        "duration": 0,
        "start_time": "2023-02-26T15:57:26.520Z"
      },
      {
        "duration": 0,
        "start_time": "2023-02-26T15:57:26.522Z"
      },
      {
        "duration": 0,
        "start_time": "2023-02-26T15:57:26.523Z"
      },
      {
        "duration": 3,
        "start_time": "2023-02-26T15:57:37.594Z"
      },
      {
        "duration": 11,
        "start_time": "2023-02-26T15:57:40.835Z"
      },
      {
        "duration": 12,
        "start_time": "2023-02-26T15:58:03.528Z"
      },
      {
        "duration": 4,
        "start_time": "2023-02-26T15:58:07.900Z"
      },
      {
        "duration": 13,
        "start_time": "2023-02-26T15:58:18.855Z"
      },
      {
        "duration": 13,
        "start_time": "2023-02-26T15:58:25.976Z"
      },
      {
        "duration": 14,
        "start_time": "2023-02-26T16:03:08.591Z"
      },
      {
        "duration": 4,
        "start_time": "2023-02-26T16:03:13.346Z"
      },
      {
        "duration": 1559,
        "start_time": "2023-02-26T16:03:15.113Z"
      },
      {
        "duration": 1427,
        "start_time": "2023-02-26T16:03:19.243Z"
      },
      {
        "duration": 1408,
        "start_time": "2023-02-26T16:03:33.150Z"
      },
      {
        "duration": 1443,
        "start_time": "2023-02-26T16:03:41.389Z"
      },
      {
        "duration": 14,
        "start_time": "2023-02-26T16:05:09.195Z"
      },
      {
        "duration": 1564,
        "start_time": "2023-02-26T16:06:35.845Z"
      },
      {
        "duration": 1425,
        "start_time": "2023-02-26T16:06:49.543Z"
      },
      {
        "duration": 1504,
        "start_time": "2023-02-26T16:07:31.803Z"
      },
      {
        "duration": 1432,
        "start_time": "2023-02-26T16:07:41.088Z"
      },
      {
        "duration": 1448,
        "start_time": "2023-02-26T16:07:47.029Z"
      },
      {
        "duration": 1463,
        "start_time": "2023-02-26T16:08:04.743Z"
      },
      {
        "duration": 1456,
        "start_time": "2023-02-26T16:08:06.540Z"
      },
      {
        "duration": 3,
        "start_time": "2023-02-26T16:08:26.336Z"
      },
      {
        "duration": 461,
        "start_time": "2023-02-26T16:08:26.341Z"
      },
      {
        "duration": 24,
        "start_time": "2023-02-26T16:08:26.804Z"
      },
      {
        "duration": 22,
        "start_time": "2023-02-26T16:08:26.830Z"
      },
      {
        "duration": 44,
        "start_time": "2023-02-26T16:08:26.853Z"
      },
      {
        "duration": 12,
        "start_time": "2023-02-26T16:08:26.899Z"
      },
      {
        "duration": 17,
        "start_time": "2023-02-26T16:08:26.912Z"
      },
      {
        "duration": 16,
        "start_time": "2023-02-26T16:08:26.931Z"
      },
      {
        "duration": 19,
        "start_time": "2023-02-26T16:08:26.948Z"
      },
      {
        "duration": 31,
        "start_time": "2023-02-26T16:08:26.969Z"
      },
      {
        "duration": 9,
        "start_time": "2023-02-26T16:08:27.002Z"
      },
      {
        "duration": 10,
        "start_time": "2023-02-26T16:08:27.013Z"
      },
      {
        "duration": 75,
        "start_time": "2023-02-26T16:08:27.025Z"
      },
      {
        "duration": 16,
        "start_time": "2023-02-26T16:08:27.191Z"
      },
      {
        "duration": 183,
        "start_time": "2023-02-26T16:08:27.210Z"
      },
      {
        "duration": 101,
        "start_time": "2023-02-26T16:08:27.395Z"
      },
      {
        "duration": 7,
        "start_time": "2023-02-26T16:08:27.498Z"
      },
      {
        "duration": 1503,
        "start_time": "2023-02-26T16:08:27.506Z"
      },
      {
        "duration": 1543,
        "start_time": "2023-02-26T16:08:29.010Z"
      },
      {
        "duration": 1565,
        "start_time": "2023-02-26T16:08:30.555Z"
      },
      {
        "duration": 1513,
        "start_time": "2023-02-26T16:08:32.122Z"
      }
    ],
    "kernelspec": {
      "display_name": "Python 3 (ipykernel)",
      "language": "python",
      "name": "python3"
    },
    "language_info": {
      "codemirror_mode": {
        "name": "ipython",
        "version": 3
      },
      "file_extension": ".py",
      "mimetype": "text/x-python",
      "name": "python",
      "nbconvert_exporter": "python",
      "pygments_lexer": "ipython3",
      "version": "3.9.5"
    },
    "toc": {
      "base_numbering": 1,
      "nav_menu": {},
      "number_sections": true,
      "sideBar": true,
      "skip_h1_title": true,
      "title_cell": "Table of Contents",
      "title_sidebar": "Contents",
      "toc_cell": false,
      "toc_position": {},
      "toc_section_display": true,
      "toc_window_display": false
    },
    "colab": {
      "provenance": []
    }
  },
  "nbformat": 4,
  "nbformat_minor": 0
}