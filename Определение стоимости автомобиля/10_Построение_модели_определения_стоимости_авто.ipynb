{
  "cells": [
    {
      "cell_type": "markdown",
      "metadata": {
        "id": "sHMDkJ9H4tSf"
      },
      "source": [
        "# Определение стоимости автомобилей"
      ]
    },
    {
      "cell_type": "markdown",
      "metadata": {
        "id": "UnhxPgv14tSf"
      },
      "source": [
        "Сервис по продаже автомобилей с пробегом «Не бит, не крашен» разрабатывает приложение для привлечения новых клиентов. В нём можно быстро узнать рыночную стоимость своего автомобиля. В нашем распоряжении исторические данные: технические характеристики, комплектации и цены автомобилей. Необходимо построить модель для определения стоимости.\n",
        "\n",
        "Заказчику важны:\n",
        "\n",
        "- качество предсказания;\n",
        "- скорость предсказания;\n",
        "- время обучения."
      ]
    },
    {
      "cell_type": "markdown",
      "metadata": {
        "id": "_PVGU3ID4tSg"
      },
      "source": [
        "## Подготовка данных"
      ]
    },
    {
      "cell_type": "code",
      "execution_count": null,
      "metadata": {
        "id": "dlLRKfnn4tSg",
        "outputId": "92800fc7-ce3e-43fd-f1e0-9b1e43c0d0a8"
      },
      "outputs": [
        {
          "name": "stdout",
          "output_type": "stream",
          "text": [
            "Collecting category_encoders\n",
            "  Downloading category_encoders-2.6.3-py2.py3-none-any.whl (81 kB)\n",
            "\u001b[K     |████████████████████████████████| 81 kB 1.3 MB/s eta 0:00:011\n",
            "\u001b[?25hRequirement already satisfied: scipy>=1.0.0 in /opt/conda/lib/python3.9/site-packages (from category_encoders) (1.9.1)\n",
            "Requirement already satisfied: scikit-learn>=0.20.0 in /opt/conda/lib/python3.9/site-packages (from category_encoders) (0.24.1)\n",
            "Requirement already satisfied: pandas>=1.0.5 in /opt/conda/lib/python3.9/site-packages (from category_encoders) (1.2.4)\n",
            "Requirement already satisfied: patsy>=0.5.1 in /opt/conda/lib/python3.9/site-packages (from category_encoders) (0.5.2)\n",
            "Requirement already satisfied: statsmodels>=0.9.0 in /opt/conda/lib/python3.9/site-packages (from category_encoders) (0.13.2)\n",
            "Requirement already satisfied: numpy>=1.14.0 in /opt/conda/lib/python3.9/site-packages (from category_encoders) (1.21.1)\n",
            "Requirement already satisfied: python-dateutil>=2.7.3 in /opt/conda/lib/python3.9/site-packages (from pandas>=1.0.5->category_encoders) (2.8.1)\n",
            "Requirement already satisfied: pytz>=2017.3 in /opt/conda/lib/python3.9/site-packages (from pandas>=1.0.5->category_encoders) (2021.1)\n",
            "Requirement already satisfied: six in /opt/conda/lib/python3.9/site-packages (from patsy>=0.5.1->category_encoders) (1.16.0)\n",
            "Requirement already satisfied: joblib>=0.11 in /opt/conda/lib/python3.9/site-packages (from scikit-learn>=0.20.0->category_encoders) (1.1.0)\n",
            "Requirement already satisfied: threadpoolctl>=2.0.0 in /opt/conda/lib/python3.9/site-packages (from scikit-learn>=0.20.0->category_encoders) (3.1.0)\n",
            "Requirement already satisfied: packaging>=21.3 in /opt/conda/lib/python3.9/site-packages (from statsmodels>=0.9.0->category_encoders) (21.3)\n",
            "Requirement already satisfied: pyparsing!=3.0.5,>=2.0.2 in /opt/conda/lib/python3.9/site-packages (from packaging>=21.3->statsmodels>=0.9.0->category_encoders) (2.4.7)\n",
            "Installing collected packages: category-encoders\n",
            "Successfully installed category-encoders-2.6.3\n"
          ]
        }
      ],
      "source": [
        "import pandas as pd\n",
        "\n",
        "import time\n",
        "\n",
        "import seaborn as sns\n",
        "import matplotlib.pyplot as plt\n",
        "%matplotlib inline\n",
        "\n",
        "from sklearn.model_selection import cross_val_score, RandomizedSearchCV, GridSearchCV, train_test_split\n",
        "\n",
        "!pip install category_encoders\n",
        "import category_encoders as ce\n",
        "\n",
        "from sklearn.preprocessing import StandardScaler\n",
        "\n",
        "from catboost import CatBoostRegressor\n",
        "from lightgbm import LGBMRegressor\n",
        "from sklearn.linear_model import LinearRegression\n",
        "from sklearn.ensemble import RandomForestRegressor\n",
        "from sklearn.tree import DecisionTreeRegressor\n",
        "\n",
        "from sklearn.metrics import mean_squared_error, make_scorer"
      ]
    },
    {
      "cell_type": "markdown",
      "metadata": {
        "id": "TXkqQZ7L4tSi"
      },
      "source": [
        "### Подготовка данных и первичное исследование"
      ]
    },
    {
      "cell_type": "code",
      "execution_count": null,
      "metadata": {
        "id": "CK8xvOb74tSi"
      },
      "outputs": [],
      "source": [
        "df = pd.read_csv('/datasets/autos.csv')"
      ]
    },
    {
      "cell_type": "code",
      "execution_count": null,
      "metadata": {
        "id": "z9XVLbLb4tSj",
        "outputId": "fb54e6d8-de56-4087-c4c2-fefed535b0d0"
      },
      "outputs": [
        {
          "data": {
            "text/html": [
              "<div>\n",
              "<style scoped>\n",
              "    .dataframe tbody tr th:only-of-type {\n",
              "        vertical-align: middle;\n",
              "    }\n",
              "\n",
              "    .dataframe tbody tr th {\n",
              "        vertical-align: top;\n",
              "    }\n",
              "\n",
              "    .dataframe thead th {\n",
              "        text-align: right;\n",
              "    }\n",
              "</style>\n",
              "<table border=\"1\" class=\"dataframe\">\n",
              "  <thead>\n",
              "    <tr style=\"text-align: right;\">\n",
              "      <th></th>\n",
              "      <th>DateCrawled</th>\n",
              "      <th>Price</th>\n",
              "      <th>VehicleType</th>\n",
              "      <th>RegistrationYear</th>\n",
              "      <th>Gearbox</th>\n",
              "      <th>Power</th>\n",
              "      <th>Model</th>\n",
              "      <th>Kilometer</th>\n",
              "      <th>RegistrationMonth</th>\n",
              "      <th>FuelType</th>\n",
              "      <th>Brand</th>\n",
              "      <th>Repaired</th>\n",
              "      <th>DateCreated</th>\n",
              "      <th>NumberOfPictures</th>\n",
              "      <th>PostalCode</th>\n",
              "      <th>LastSeen</th>\n",
              "    </tr>\n",
              "  </thead>\n",
              "  <tbody>\n",
              "    <tr>\n",
              "      <th>131743</th>\n",
              "      <td>2016-03-11 08:38:15</td>\n",
              "      <td>1200</td>\n",
              "      <td>suv</td>\n",
              "      <td>2006</td>\n",
              "      <td>manual</td>\n",
              "      <td>82</td>\n",
              "      <td>niva</td>\n",
              "      <td>150000</td>\n",
              "      <td>11</td>\n",
              "      <td>petrol</td>\n",
              "      <td>lada</td>\n",
              "      <td>yes</td>\n",
              "      <td>2016-03-11 00:00:00</td>\n",
              "      <td>0</td>\n",
              "      <td>19406</td>\n",
              "      <td>2016-03-22 18:47:49</td>\n",
              "    </tr>\n",
              "    <tr>\n",
              "      <th>230250</th>\n",
              "      <td>2016-03-19 10:51:33</td>\n",
              "      <td>170</td>\n",
              "      <td>sedan</td>\n",
              "      <td>1994</td>\n",
              "      <td>manual</td>\n",
              "      <td>115</td>\n",
              "      <td>80</td>\n",
              "      <td>150000</td>\n",
              "      <td>0</td>\n",
              "      <td>petrol</td>\n",
              "      <td>audi</td>\n",
              "      <td>yes</td>\n",
              "      <td>2016-03-19 00:00:00</td>\n",
              "      <td>0</td>\n",
              "      <td>85456</td>\n",
              "      <td>2016-03-31 17:47:30</td>\n",
              "    </tr>\n",
              "    <tr>\n",
              "      <th>344837</th>\n",
              "      <td>2016-03-13 01:00:06</td>\n",
              "      <td>1700</td>\n",
              "      <td>small</td>\n",
              "      <td>1998</td>\n",
              "      <td>manual</td>\n",
              "      <td>86</td>\n",
              "      <td>a_klasse</td>\n",
              "      <td>150000</td>\n",
              "      <td>7</td>\n",
              "      <td>petrol</td>\n",
              "      <td>mercedes_benz</td>\n",
              "      <td>no</td>\n",
              "      <td>2016-03-12 00:00:00</td>\n",
              "      <td>0</td>\n",
              "      <td>79336</td>\n",
              "      <td>2016-03-13 06:46:57</td>\n",
              "    </tr>\n",
              "    <tr>\n",
              "      <th>325101</th>\n",
              "      <td>2016-03-10 19:25:50</td>\n",
              "      <td>750</td>\n",
              "      <td>sedan</td>\n",
              "      <td>1996</td>\n",
              "      <td>manual</td>\n",
              "      <td>90</td>\n",
              "      <td>civic</td>\n",
              "      <td>150000</td>\n",
              "      <td>3</td>\n",
              "      <td>petrol</td>\n",
              "      <td>honda</td>\n",
              "      <td>NaN</td>\n",
              "      <td>2016-03-10 00:00:00</td>\n",
              "      <td>0</td>\n",
              "      <td>61169</td>\n",
              "      <td>2016-03-11 10:26:37</td>\n",
              "    </tr>\n",
              "    <tr>\n",
              "      <th>57362</th>\n",
              "      <td>2016-03-06 22:47:08</td>\n",
              "      <td>5500</td>\n",
              "      <td>small</td>\n",
              "      <td>2006</td>\n",
              "      <td>manual</td>\n",
              "      <td>80</td>\n",
              "      <td>golf</td>\n",
              "      <td>150000</td>\n",
              "      <td>10</td>\n",
              "      <td>petrol</td>\n",
              "      <td>volkswagen</td>\n",
              "      <td>no</td>\n",
              "      <td>2016-03-06 00:00:00</td>\n",
              "      <td>0</td>\n",
              "      <td>21483</td>\n",
              "      <td>2016-04-07 03:16:02</td>\n",
              "    </tr>\n",
              "  </tbody>\n",
              "</table>\n",
              "</div>"
            ],
            "text/plain": [
              "                DateCrawled  Price VehicleType  RegistrationYear Gearbox  \\\n",
              "131743  2016-03-11 08:38:15   1200         suv              2006  manual   \n",
              "230250  2016-03-19 10:51:33    170       sedan              1994  manual   \n",
              "344837  2016-03-13 01:00:06   1700       small              1998  manual   \n",
              "325101  2016-03-10 19:25:50    750       sedan              1996  manual   \n",
              "57362   2016-03-06 22:47:08   5500       small              2006  manual   \n",
              "\n",
              "        Power     Model  Kilometer  RegistrationMonth FuelType          Brand  \\\n",
              "131743     82      niva     150000                 11   petrol           lada   \n",
              "230250    115        80     150000                  0   petrol           audi   \n",
              "344837     86  a_klasse     150000                  7   petrol  mercedes_benz   \n",
              "325101     90     civic     150000                  3   petrol          honda   \n",
              "57362      80      golf     150000                 10   petrol     volkswagen   \n",
              "\n",
              "       Repaired          DateCreated  NumberOfPictures  PostalCode  \\\n",
              "131743      yes  2016-03-11 00:00:00                 0       19406   \n",
              "230250      yes  2016-03-19 00:00:00                 0       85456   \n",
              "344837       no  2016-03-12 00:00:00                 0       79336   \n",
              "325101      NaN  2016-03-10 00:00:00                 0       61169   \n",
              "57362        no  2016-03-06 00:00:00                 0       21483   \n",
              "\n",
              "                   LastSeen  \n",
              "131743  2016-03-22 18:47:49  \n",
              "230250  2016-03-31 17:47:30  \n",
              "344837  2016-03-13 06:46:57  \n",
              "325101  2016-03-11 10:26:37  \n",
              "57362   2016-04-07 03:16:02  "
            ]
          },
          "execution_count": 3,
          "metadata": {},
          "output_type": "execute_result"
        }
      ],
      "source": [
        "df.sample(5)"
      ]
    },
    {
      "cell_type": "code",
      "execution_count": null,
      "metadata": {
        "id": "qZNqfZW44tSj",
        "outputId": "7133a14a-21ae-4027-cd53-9bcf913f7805"
      },
      "outputs": [
        {
          "data": {
            "text/plain": [
              "4"
            ]
          },
          "execution_count": 4,
          "metadata": {},
          "output_type": "execute_result"
        }
      ],
      "source": [
        "#Подсчитаем и удалим полные дубликаты из таблицы\n",
        "df.duplicated().sum()"
      ]
    },
    {
      "cell_type": "code",
      "execution_count": null,
      "metadata": {
        "id": "VRMBTy8P4tSj"
      },
      "outputs": [],
      "source": [
        "df.drop_duplicates(inplace=True)"
      ]
    },
    {
      "cell_type": "code",
      "execution_count": null,
      "metadata": {
        "id": "y5MalxYX4tSk",
        "outputId": "e9421865-efc4-47ea-cf7e-f17c685b634b"
      },
      "outputs": [
        {
          "data": {
            "text/html": [
              "<style  type=\"text/css\" >\n",
              "#T_66883_row0_col0,#T_66883_row1_col0,#T_66883_row3_col0,#T_66883_row5_col0,#T_66883_row7_col0,#T_66883_row8_col0,#T_66883_row10_col0,#T_66883_row12_col0,#T_66883_row13_col0,#T_66883_row14_col0,#T_66883_row15_col0{\n",
              "            background-color:  #3b4cc0;\n",
              "            color:  #f1f1f1;\n",
              "        }#T_66883_row2_col0{\n",
              "            background-color:  #e9d5cb;\n",
              "            color:  #000000;\n",
              "        }#T_66883_row4_col0,#T_66883_row6_col0{\n",
              "            background-color:  #9ebeff;\n",
              "            color:  #000000;\n",
              "        }#T_66883_row9_col0{\n",
              "            background-color:  #cfdaea;\n",
              "            color:  #000000;\n",
              "        }#T_66883_row11_col0{\n",
              "            background-color:  #b40426;\n",
              "            color:  #f1f1f1;\n",
              "        }</style><table id=\"T_66883_\" ><thead>    <tr>        <th class=\"blank level0\" ></th>        <th class=\"col_heading level0 col0\" >0</th>    </tr></thead><tbody>\n",
              "                <tr>\n",
              "                        <th id=\"T_66883_level0_row0\" class=\"row_heading level0 row0\" >DateCrawled</th>\n",
              "                        <td id=\"T_66883_row0_col0\" class=\"data row0 col0\" >0.000000</td>\n",
              "            </tr>\n",
              "            <tr>\n",
              "                        <th id=\"T_66883_level0_row1\" class=\"row_heading level0 row1\" >Price</th>\n",
              "                        <td id=\"T_66883_row1_col0\" class=\"data row1 col0\" >0.000000</td>\n",
              "            </tr>\n",
              "            <tr>\n",
              "                        <th id=\"T_66883_level0_row2\" class=\"row_heading level0 row2\" >VehicleType</th>\n",
              "                        <td id=\"T_66883_row2_col0\" class=\"data row2 col0\" >11.000000</td>\n",
              "            </tr>\n",
              "            <tr>\n",
              "                        <th id=\"T_66883_level0_row3\" class=\"row_heading level0 row3\" >RegistrationYear</th>\n",
              "                        <td id=\"T_66883_row3_col0\" class=\"data row3 col0\" >0.000000</td>\n",
              "            </tr>\n",
              "            <tr>\n",
              "                        <th id=\"T_66883_level0_row4\" class=\"row_heading level0 row4\" >Gearbox</th>\n",
              "                        <td id=\"T_66883_row4_col0\" class=\"data row4 col0\" >6.000000</td>\n",
              "            </tr>\n",
              "            <tr>\n",
              "                        <th id=\"T_66883_level0_row5\" class=\"row_heading level0 row5\" >Power</th>\n",
              "                        <td id=\"T_66883_row5_col0\" class=\"data row5 col0\" >0.000000</td>\n",
              "            </tr>\n",
              "            <tr>\n",
              "                        <th id=\"T_66883_level0_row6\" class=\"row_heading level0 row6\" >Model</th>\n",
              "                        <td id=\"T_66883_row6_col0\" class=\"data row6 col0\" >6.000000</td>\n",
              "            </tr>\n",
              "            <tr>\n",
              "                        <th id=\"T_66883_level0_row7\" class=\"row_heading level0 row7\" >Kilometer</th>\n",
              "                        <td id=\"T_66883_row7_col0\" class=\"data row7 col0\" >0.000000</td>\n",
              "            </tr>\n",
              "            <tr>\n",
              "                        <th id=\"T_66883_level0_row8\" class=\"row_heading level0 row8\" >RegistrationMonth</th>\n",
              "                        <td id=\"T_66883_row8_col0\" class=\"data row8 col0\" >0.000000</td>\n",
              "            </tr>\n",
              "            <tr>\n",
              "                        <th id=\"T_66883_level0_row9\" class=\"row_heading level0 row9\" >FuelType</th>\n",
              "                        <td id=\"T_66883_row9_col0\" class=\"data row9 col0\" >9.000000</td>\n",
              "            </tr>\n",
              "            <tr>\n",
              "                        <th id=\"T_66883_level0_row10\" class=\"row_heading level0 row10\" >Brand</th>\n",
              "                        <td id=\"T_66883_row10_col0\" class=\"data row10 col0\" >0.000000</td>\n",
              "            </tr>\n",
              "            <tr>\n",
              "                        <th id=\"T_66883_level0_row11\" class=\"row_heading level0 row11\" >Repaired</th>\n",
              "                        <td id=\"T_66883_row11_col0\" class=\"data row11 col0\" >20.000000</td>\n",
              "            </tr>\n",
              "            <tr>\n",
              "                        <th id=\"T_66883_level0_row12\" class=\"row_heading level0 row12\" >DateCreated</th>\n",
              "                        <td id=\"T_66883_row12_col0\" class=\"data row12 col0\" >0.000000</td>\n",
              "            </tr>\n",
              "            <tr>\n",
              "                        <th id=\"T_66883_level0_row13\" class=\"row_heading level0 row13\" >NumberOfPictures</th>\n",
              "                        <td id=\"T_66883_row13_col0\" class=\"data row13 col0\" >0.000000</td>\n",
              "            </tr>\n",
              "            <tr>\n",
              "                        <th id=\"T_66883_level0_row14\" class=\"row_heading level0 row14\" >PostalCode</th>\n",
              "                        <td id=\"T_66883_row14_col0\" class=\"data row14 col0\" >0.000000</td>\n",
              "            </tr>\n",
              "            <tr>\n",
              "                        <th id=\"T_66883_level0_row15\" class=\"row_heading level0 row15\" >LastSeen</th>\n",
              "                        <td id=\"T_66883_row15_col0\" class=\"data row15 col0\" >0.000000</td>\n",
              "            </tr>\n",
              "    </tbody></table>"
            ],
            "text/plain": [
              "<pandas.io.formats.style.Styler at 0x7fe85a2e8fd0>"
            ]
          },
          "execution_count": 6,
          "metadata": {},
          "output_type": "execute_result"
        }
      ],
      "source": [
        "#Проверим число пропусков в столбцах\n",
        "pd.DataFrame(round(df.isna().mean()*100,)).style.background_gradient('coolwarm')"
      ]
    },
    {
      "cell_type": "code",
      "execution_count": null,
      "metadata": {
        "id": "SLzbpX_L4tSk",
        "outputId": "00d2b9e9-1888-4fff-c4fc-722669093e39"
      },
      "outputs": [
        {
          "data": {
            "text/html": [
              "<div>\n",
              "<style scoped>\n",
              "    .dataframe tbody tr th:only-of-type {\n",
              "        vertical-align: middle;\n",
              "    }\n",
              "\n",
              "    .dataframe tbody tr th {\n",
              "        vertical-align: top;\n",
              "    }\n",
              "\n",
              "    .dataframe thead th {\n",
              "        text-align: right;\n",
              "    }\n",
              "</style>\n",
              "<table border=\"1\" class=\"dataframe\">\n",
              "  <thead>\n",
              "    <tr style=\"text-align: right;\">\n",
              "      <th></th>\n",
              "      <th>DateCrawled</th>\n",
              "      <th>Price</th>\n",
              "      <th>VehicleType</th>\n",
              "      <th>RegistrationYear</th>\n",
              "      <th>Gearbox</th>\n",
              "      <th>Power</th>\n",
              "      <th>Model</th>\n",
              "      <th>Kilometer</th>\n",
              "      <th>RegistrationMonth</th>\n",
              "      <th>FuelType</th>\n",
              "      <th>Brand</th>\n",
              "      <th>Repaired</th>\n",
              "      <th>DateCreated</th>\n",
              "      <th>NumberOfPictures</th>\n",
              "      <th>PostalCode</th>\n",
              "      <th>LastSeen</th>\n",
              "    </tr>\n",
              "  </thead>\n",
              "  <tbody>\n",
              "    <tr>\n",
              "      <th>144182</th>\n",
              "      <td>2016-03-22 18:44:45</td>\n",
              "      <td>3290</td>\n",
              "      <td>sedan</td>\n",
              "      <td>2001</td>\n",
              "      <td>manual</td>\n",
              "      <td>115</td>\n",
              "      <td>3er</td>\n",
              "      <td>150000</td>\n",
              "      <td>0</td>\n",
              "      <td>petrol</td>\n",
              "      <td>bmw</td>\n",
              "      <td>no</td>\n",
              "      <td>2016-03-22 00:00:00</td>\n",
              "      <td>0</td>\n",
              "      <td>51377</td>\n",
              "      <td>2016-03-24 02:45:39</td>\n",
              "    </tr>\n",
              "    <tr>\n",
              "      <th>201782</th>\n",
              "      <td>2016-03-16 23:52:20</td>\n",
              "      <td>4780</td>\n",
              "      <td>sedan</td>\n",
              "      <td>2001</td>\n",
              "      <td>manual</td>\n",
              "      <td>170</td>\n",
              "      <td>3er</td>\n",
              "      <td>150000</td>\n",
              "      <td>9</td>\n",
              "      <td>petrol</td>\n",
              "      <td>bmw</td>\n",
              "      <td>no</td>\n",
              "      <td>2016-03-16 00:00:00</td>\n",
              "      <td>0</td>\n",
              "      <td>14542</td>\n",
              "      <td>2016-04-06 00:45:38</td>\n",
              "    </tr>\n",
              "    <tr>\n",
              "      <th>167326</th>\n",
              "      <td>2016-03-12 14:51:00</td>\n",
              "      <td>8750</td>\n",
              "      <td>sedan</td>\n",
              "      <td>2005</td>\n",
              "      <td>auto</td>\n",
              "      <td>177</td>\n",
              "      <td>5er</td>\n",
              "      <td>150000</td>\n",
              "      <td>8</td>\n",
              "      <td>gasoline</td>\n",
              "      <td>bmw</td>\n",
              "      <td>no</td>\n",
              "      <td>2016-03-12 00:00:00</td>\n",
              "      <td>0</td>\n",
              "      <td>48429</td>\n",
              "      <td>2016-03-16 18:17:42</td>\n",
              "    </tr>\n",
              "    <tr>\n",
              "      <th>234227</th>\n",
              "      <td>2016-03-13 20:06:16</td>\n",
              "      <td>6100</td>\n",
              "      <td>wagon</td>\n",
              "      <td>2011</td>\n",
              "      <td>manual</td>\n",
              "      <td>105</td>\n",
              "      <td>ibiza</td>\n",
              "      <td>150000</td>\n",
              "      <td>4</td>\n",
              "      <td>gasoline</td>\n",
              "      <td>seat</td>\n",
              "      <td>NaN</td>\n",
              "      <td>2016-03-13 00:00:00</td>\n",
              "      <td>0</td>\n",
              "      <td>65620</td>\n",
              "      <td>2016-03-20 09:15:43</td>\n",
              "    </tr>\n",
              "    <tr>\n",
              "      <th>258138</th>\n",
              "      <td>2016-03-16 19:42:10</td>\n",
              "      <td>4200</td>\n",
              "      <td>sedan</td>\n",
              "      <td>2006</td>\n",
              "      <td>manual</td>\n",
              "      <td>110</td>\n",
              "      <td>focus</td>\n",
              "      <td>150000</td>\n",
              "      <td>9</td>\n",
              "      <td>gasoline</td>\n",
              "      <td>ford</td>\n",
              "      <td>NaN</td>\n",
              "      <td>2016-03-16 00:00:00</td>\n",
              "      <td>0</td>\n",
              "      <td>50765</td>\n",
              "      <td>2016-04-07 04:45:54</td>\n",
              "    </tr>\n",
              "  </tbody>\n",
              "</table>\n",
              "</div>"
            ],
            "text/plain": [
              "                DateCrawled  Price VehicleType  RegistrationYear Gearbox  \\\n",
              "144182  2016-03-22 18:44:45   3290       sedan              2001  manual   \n",
              "201782  2016-03-16 23:52:20   4780       sedan              2001  manual   \n",
              "167326  2016-03-12 14:51:00   8750       sedan              2005    auto   \n",
              "234227  2016-03-13 20:06:16   6100       wagon              2011  manual   \n",
              "258138  2016-03-16 19:42:10   4200       sedan              2006  manual   \n",
              "\n",
              "        Power  Model  Kilometer  RegistrationMonth  FuelType Brand Repaired  \\\n",
              "144182    115    3er     150000                  0    petrol   bmw       no   \n",
              "201782    170    3er     150000                  9    petrol   bmw       no   \n",
              "167326    177    5er     150000                  8  gasoline   bmw       no   \n",
              "234227    105  ibiza     150000                  4  gasoline  seat      NaN   \n",
              "258138    110  focus     150000                  9  gasoline  ford      NaN   \n",
              "\n",
              "                DateCreated  NumberOfPictures  PostalCode             LastSeen  \n",
              "144182  2016-03-22 00:00:00                 0       51377  2016-03-24 02:45:39  \n",
              "201782  2016-03-16 00:00:00                 0       14542  2016-04-06 00:45:38  \n",
              "167326  2016-03-12 00:00:00                 0       48429  2016-03-16 18:17:42  \n",
              "234227  2016-03-13 00:00:00                 0       65620  2016-03-20 09:15:43  \n",
              "258138  2016-03-16 00:00:00                 0       50765  2016-04-07 04:45:54  "
            ]
          },
          "execution_count": 7,
          "metadata": {},
          "output_type": "execute_result"
        }
      ],
      "source": [
        "df.sample(5)"
      ]
    },
    {
      "cell_type": "code",
      "execution_count": null,
      "metadata": {
        "id": "NxVKn1Tp4tSk",
        "outputId": "6b72d11a-96f2-4594-a9b0-299d02286df9"
      },
      "outputs": [
        {
          "name": "stdout",
          "output_type": "stream",
          "text": [
            "<class 'pandas.core.frame.DataFrame'>\n",
            "Int64Index: 354365 entries, 0 to 354368\n",
            "Data columns (total 16 columns):\n",
            " #   Column             Non-Null Count   Dtype \n",
            "---  ------             --------------   ----- \n",
            " 0   DateCrawled        354365 non-null  object\n",
            " 1   Price              354365 non-null  int64 \n",
            " 2   VehicleType        316875 non-null  object\n",
            " 3   RegistrationYear   354365 non-null  int64 \n",
            " 4   Gearbox            334532 non-null  object\n",
            " 5   Power              354365 non-null  int64 \n",
            " 6   Model              334660 non-null  object\n",
            " 7   Kilometer          354365 non-null  int64 \n",
            " 8   RegistrationMonth  354365 non-null  int64 \n",
            " 9   FuelType           321470 non-null  object\n",
            " 10  Brand              354365 non-null  object\n",
            " 11  Repaired           283211 non-null  object\n",
            " 12  DateCreated        354365 non-null  object\n",
            " 13  NumberOfPictures   354365 non-null  int64 \n",
            " 14  PostalCode         354365 non-null  int64 \n",
            " 15  LastSeen           354365 non-null  object\n",
            "dtypes: int64(7), object(9)\n",
            "memory usage: 46.0+ MB\n"
          ]
        }
      ],
      "source": [
        "#Проверим типы данных в столбцах\n",
        "df.info()"
      ]
    },
    {
      "cell_type": "code",
      "execution_count": null,
      "metadata": {
        "scrolled": true,
        "id": "iXTQKiEC4tSk",
        "outputId": "3edfc266-a39e-45d6-d00c-f38eb06ad449"
      },
      "outputs": [
        {
          "data": {
            "text/html": [
              "<div>\n",
              "<style scoped>\n",
              "    .dataframe tbody tr th:only-of-type {\n",
              "        vertical-align: middle;\n",
              "    }\n",
              "\n",
              "    .dataframe tbody tr th {\n",
              "        vertical-align: top;\n",
              "    }\n",
              "\n",
              "    .dataframe thead th {\n",
              "        text-align: right;\n",
              "    }\n",
              "</style>\n",
              "<table border=\"1\" class=\"dataframe\">\n",
              "  <thead>\n",
              "    <tr style=\"text-align: right;\">\n",
              "      <th></th>\n",
              "      <th>Price</th>\n",
              "      <th>RegistrationYear</th>\n",
              "      <th>Power</th>\n",
              "      <th>Kilometer</th>\n",
              "      <th>RegistrationMonth</th>\n",
              "      <th>NumberOfPictures</th>\n",
              "      <th>PostalCode</th>\n",
              "    </tr>\n",
              "  </thead>\n",
              "  <tbody>\n",
              "    <tr>\n",
              "      <th>count</th>\n",
              "      <td>354365.000000</td>\n",
              "      <td>354365.000000</td>\n",
              "      <td>354365.000000</td>\n",
              "      <td>354365.000000</td>\n",
              "      <td>354365.000000</td>\n",
              "      <td>354365.0</td>\n",
              "      <td>354365.000000</td>\n",
              "    </tr>\n",
              "    <tr>\n",
              "      <th>mean</th>\n",
              "      <td>4416.679830</td>\n",
              "      <td>2004.234481</td>\n",
              "      <td>110.093816</td>\n",
              "      <td>128211.363989</td>\n",
              "      <td>5.714650</td>\n",
              "      <td>0.0</td>\n",
              "      <td>50508.503800</td>\n",
              "    </tr>\n",
              "    <tr>\n",
              "      <th>std</th>\n",
              "      <td>4514.176349</td>\n",
              "      <td>90.228466</td>\n",
              "      <td>189.851330</td>\n",
              "      <td>37905.083858</td>\n",
              "      <td>3.726432</td>\n",
              "      <td>0.0</td>\n",
              "      <td>25783.100078</td>\n",
              "    </tr>\n",
              "    <tr>\n",
              "      <th>min</th>\n",
              "      <td>0.000000</td>\n",
              "      <td>1000.000000</td>\n",
              "      <td>0.000000</td>\n",
              "      <td>5000.000000</td>\n",
              "      <td>0.000000</td>\n",
              "      <td>0.0</td>\n",
              "      <td>1067.000000</td>\n",
              "    </tr>\n",
              "    <tr>\n",
              "      <th>25%</th>\n",
              "      <td>1050.000000</td>\n",
              "      <td>1999.000000</td>\n",
              "      <td>69.000000</td>\n",
              "      <td>125000.000000</td>\n",
              "      <td>3.000000</td>\n",
              "      <td>0.0</td>\n",
              "      <td>30165.000000</td>\n",
              "    </tr>\n",
              "    <tr>\n",
              "      <th>50%</th>\n",
              "      <td>2700.000000</td>\n",
              "      <td>2003.000000</td>\n",
              "      <td>105.000000</td>\n",
              "      <td>150000.000000</td>\n",
              "      <td>6.000000</td>\n",
              "      <td>0.0</td>\n",
              "      <td>49413.000000</td>\n",
              "    </tr>\n",
              "    <tr>\n",
              "      <th>75%</th>\n",
              "      <td>6400.000000</td>\n",
              "      <td>2008.000000</td>\n",
              "      <td>143.000000</td>\n",
              "      <td>150000.000000</td>\n",
              "      <td>9.000000</td>\n",
              "      <td>0.0</td>\n",
              "      <td>71083.000000</td>\n",
              "    </tr>\n",
              "    <tr>\n",
              "      <th>max</th>\n",
              "      <td>20000.000000</td>\n",
              "      <td>9999.000000</td>\n",
              "      <td>20000.000000</td>\n",
              "      <td>150000.000000</td>\n",
              "      <td>12.000000</td>\n",
              "      <td>0.0</td>\n",
              "      <td>99998.000000</td>\n",
              "    </tr>\n",
              "  </tbody>\n",
              "</table>\n",
              "</div>"
            ],
            "text/plain": [
              "               Price  RegistrationYear          Power      Kilometer  \\\n",
              "count  354365.000000     354365.000000  354365.000000  354365.000000   \n",
              "mean     4416.679830       2004.234481     110.093816  128211.363989   \n",
              "std      4514.176349         90.228466     189.851330   37905.083858   \n",
              "min         0.000000       1000.000000       0.000000    5000.000000   \n",
              "25%      1050.000000       1999.000000      69.000000  125000.000000   \n",
              "50%      2700.000000       2003.000000     105.000000  150000.000000   \n",
              "75%      6400.000000       2008.000000     143.000000  150000.000000   \n",
              "max     20000.000000       9999.000000   20000.000000  150000.000000   \n",
              "\n",
              "       RegistrationMonth  NumberOfPictures     PostalCode  \n",
              "count      354365.000000          354365.0  354365.000000  \n",
              "mean            5.714650               0.0   50508.503800  \n",
              "std             3.726432               0.0   25783.100078  \n",
              "min             0.000000               0.0    1067.000000  \n",
              "25%             3.000000               0.0   30165.000000  \n",
              "50%             6.000000               0.0   49413.000000  \n",
              "75%             9.000000               0.0   71083.000000  \n",
              "max            12.000000               0.0   99998.000000  "
            ]
          },
          "execution_count": 9,
          "metadata": {},
          "output_type": "execute_result"
        }
      ],
      "source": [
        "#Изучим общюю информацию по распределению данных в таблице числовых данных\n",
        "df.describe()"
      ]
    },
    {
      "cell_type": "code",
      "execution_count": null,
      "metadata": {
        "id": "B9ao-Ei04tSl",
        "outputId": "a8cbfc0c-e0a0-447a-a0ca-c75d2a3ccaed"
      },
      "outputs": [
        {
          "name": "stdout",
          "output_type": "stream",
          "text": [
            "[nan 'coupe' 'suv' 'small' 'sedan' 'convertible' 'bus' 'wagon' 'other']\n",
            "['manual' 'auto' nan]\n",
            "['golf' nan 'grand' 'fabia' '3er' '2_reihe' 'other' 'c_max' '3_reihe'\n",
            " 'passat' 'navara' 'ka' 'polo' 'twingo' 'a_klasse' 'scirocco' '5er'\n",
            " 'meriva' 'arosa' 'c4' 'civic' 'transporter' 'punto' 'e_klasse' 'clio'\n",
            " 'kadett' 'kangoo' 'corsa' 'one' 'fortwo' '1er' 'b_klasse' 'signum'\n",
            " 'astra' 'a8' 'jetta' 'fiesta' 'c_klasse' 'micra' 'vito' 'sprinter' '156'\n",
            " 'escort' 'forester' 'xc_reihe' 'scenic' 'a4' 'a1' 'insignia' 'combo'\n",
            " 'focus' 'tt' 'a6' 'jazz' 'omega' 'slk' '7er' '80' '147' '100' 'z_reihe'\n",
            " 'sportage' 'sorento' 'v40' 'ibiza' 'mustang' 'eos' 'touran' 'getz' 'a3'\n",
            " 'almera' 'megane' 'lupo' 'r19' 'zafira' 'caddy' 'mondeo' 'cordoba' 'colt'\n",
            " 'impreza' 'vectra' 'berlingo' 'tiguan' 'i_reihe' 'espace' 'sharan'\n",
            " '6_reihe' 'panda' 'up' 'seicento' 'ceed' '5_reihe' 'yeti' 'octavia' 'mii'\n",
            " 'rx_reihe' '6er' 'modus' 'fox' 'matiz' 'beetle' 'c1' 'rio' 'touareg'\n",
            " 'logan' 'spider' 'cuore' 's_max' 'a2' 'galaxy' 'c3' 'viano' 's_klasse'\n",
            " '1_reihe' 'avensis' 'roomster' 'sl' 'kaefer' 'santa' 'cooper' 'leon'\n",
            " '4_reihe' 'a5' '500' 'laguna' 'ptcruiser' 'clk' 'primera' 'x_reihe'\n",
            " 'exeo' '159' 'transit' 'juke' 'qashqai' 'carisma' 'accord' 'corolla'\n",
            " 'lanos' 'phaeton' 'verso' 'swift' 'rav' 'picanto' 'boxster' 'kalos'\n",
            " 'superb' 'stilo' 'alhambra' 'mx_reihe' 'roadster' 'ypsilon' 'cayenne'\n",
            " 'galant' 'justy' '90' 'sirion' 'crossfire' 'agila' 'duster' 'cr_reihe'\n",
            " 'v50' 'c_reihe' 'v_klasse' 'm_klasse' 'yaris' 'c5' 'aygo' 'cc' 'carnival'\n",
            " 'fusion' '911' 'bora' 'forfour' 'm_reihe' 'cl' 'tigra' '300c' 'spark'\n",
            " 'v70' 'kuga' 'x_type' 'ducato' 's_type' 'x_trail' 'toledo' 'altea'\n",
            " 'voyager' 'calibra' 'bravo' 'antara' 'tucson' 'citigo' 'jimny' 'wrangler'\n",
            " 'lybra' 'q7' 'lancer' 'captiva' 'c2' 'discovery' 'freelander' 'sandero'\n",
            " 'note' '900' 'cherokee' 'clubman' 'samara' 'defender' '601' 'cx_reihe'\n",
            " 'legacy' 'pajero' 'auris' 'niva' 's60' 'nubira' 'vivaro' 'g_klasse'\n",
            " 'lodgy' '850' 'range_rover' 'q3' 'serie_2' 'glk' 'charade' 'croma'\n",
            " 'outlander' 'doblo' 'musa' 'move' '9000' 'v60' '145' 'aveo' '200' 'b_max'\n",
            " 'range_rover_sport' 'terios' 'rangerover' 'q5' 'range_rover_evoque'\n",
            " 'materia' 'delta' 'gl' 'kalina' 'amarok' 'elefantino' 'i3' 'kappa'\n",
            " 'serie_3' 'serie_1']\n",
            "['petrol' 'gasoline' nan 'lpg' 'other' 'hybrid' 'cng' 'electric']\n",
            "['volkswagen' 'audi' 'jeep' 'skoda' 'bmw' 'peugeot' 'ford' 'mazda'\n",
            " 'nissan' 'renault' 'mercedes_benz' 'opel' 'seat' 'citroen' 'honda' 'fiat'\n",
            " 'mini' 'smart' 'hyundai' 'sonstige_autos' 'alfa_romeo' 'subaru' 'volvo'\n",
            " 'mitsubishi' 'kia' 'suzuki' 'lancia' 'toyota' 'chevrolet' 'dacia'\n",
            " 'daihatsu' 'trabant' 'saab' 'chrysler' 'jaguar' 'daewoo' 'porsche'\n",
            " 'rover' 'land_rover' 'lada']\n",
            "[nan 'yes' 'no']\n"
          ]
        }
      ],
      "source": [
        "#Изучим первично столюцы с категориальными значениями\n",
        "# VehicleType, Gearbox, Model, FuelType, Brand, Repaired\n",
        "print(df['VehicleType'].unique())\n",
        "print(df['Gearbox'].unique())\n",
        "print(df['Model'].unique())\n",
        "print(df['FuelType'].unique())\n",
        "print(df['Brand'].unique())\n",
        "print(df['Repaired'].unique())\n"
      ]
    },
    {
      "cell_type": "markdown",
      "metadata": {
        "id": "2mdbYr4a4tSl"
      },
      "source": [
        "Первичные выводы:\n",
        "\n",
        "1. Полных дубликатов в таблице было не так много, всего 4, их мы удалили сразу\n",
        "2. Пропуски наблюдаются в столюцах: VehicleType, Gearbox, Model, FuelType и наибольшее колличество пропусков в столбце- Repaired, остальные столбцы не содержат пропусков\n",
        "3. Типы данных для всх столбцов, кроме столюцов содержащих дату и время: LastSeen, DateCrawled и DateCreated, указаны верно. Однако пока неизвестно нужны ли нам будут эти данные в будущем? Если они понадобятся, мы сможем преобразовать их в нужный формат DateTime\n",
        "4. В столюце Price есть строки с 0 значением и выброс со значением- 20 000\n",
        "5. В столюце RegistrationYear есть аномальное значение- 1000 и 9999\n",
        "6. В столбце Power есть строки с 0 значением и явный выброс со значением- 20 000\n",
        "7. В столюце NumberOfPictures есть только нулевые значения, его можно будет удалить\n",
        "8. В столбце Kilometer есть необычно мылые значения - 5000, надо будет изучить их подробнее\n",
        "9.  В столбце RegistrationMonth, есть значения 0, изучим их колличество\n",
        "10. В столюце Model есть неявные дубликаты- range_rover и rangerover\n",
        "11. В столюце Brand, неявные дубликаты отсутствуют\n",
        "12. В столбце FuelType- gasoline и petrol по сути являются одним и тем-же значением, так как оба означают питание машины от бензина https://economictimes.indiatimes.com/definition/gasoline\n"
      ]
    },
    {
      "cell_type": "markdown",
      "metadata": {
        "id": "h_Uuf6hL4tSl"
      },
      "source": [
        "### Предобработка данных и исследовательский анализ"
      ]
    },
    {
      "cell_type": "markdown",
      "metadata": {
        "id": "076-lFhu4tSl"
      },
      "source": [
        "Создадим небольшую функцию для анализа данных в числовых столбцах"
      ]
    },
    {
      "cell_type": "code",
      "execution_count": null,
      "metadata": {
        "id": "XhGse8P94tSl"
      },
      "outputs": [],
      "source": [
        "def custom_plot(df, x, x_label, y_label, title, bins):\n",
        "    plt.figure(figsize=(12, 8))\n",
        "    sns.histplot(data=df, x=x, kde=True, bins=bins)\n",
        "    plt.title(title)\n",
        "    plt.xlabel(x_label)\n",
        "    plt.ylabel(y_label)\n",
        "    plt.show()\n",
        "\n",
        "    plt.figure(figsize=(19, 7))\n",
        "    sns.boxplot(data=df, x=x)\n",
        "    plt.title(title)\n",
        "    plt.xlabel(x_label)\n",
        "    plt.show()"
      ]
    },
    {
      "cell_type": "markdown",
      "metadata": {
        "id": "llgzMC7Z4tSl"
      },
      "source": [
        "Изучим более пристально числовые аномалии по целевому признаку, выявленны нами на предыдущем этапе"
      ]
    },
    {
      "cell_type": "code",
      "execution_count": null,
      "metadata": {
        "id": "ptPIN5JU4tSl",
        "outputId": "be056789-9d85-4154-f39e-5d4b74d4616b"
      },
      "outputs": [
        {
          "data": {
            "text/html": [
              "<div>\n",
              "<style scoped>\n",
              "    .dataframe tbody tr th:only-of-type {\n",
              "        vertical-align: middle;\n",
              "    }\n",
              "\n",
              "    .dataframe tbody tr th {\n",
              "        vertical-align: top;\n",
              "    }\n",
              "\n",
              "    .dataframe thead th {\n",
              "        text-align: right;\n",
              "    }\n",
              "</style>\n",
              "<table border=\"1\" class=\"dataframe\">\n",
              "  <thead>\n",
              "    <tr style=\"text-align: right;\">\n",
              "      <th></th>\n",
              "      <th>DateCrawled</th>\n",
              "      <th>Price</th>\n",
              "      <th>VehicleType</th>\n",
              "      <th>RegistrationYear</th>\n",
              "      <th>Gearbox</th>\n",
              "      <th>Power</th>\n",
              "      <th>Model</th>\n",
              "      <th>Kilometer</th>\n",
              "      <th>RegistrationMonth</th>\n",
              "      <th>FuelType</th>\n",
              "      <th>Brand</th>\n",
              "      <th>Repaired</th>\n",
              "      <th>DateCreated</th>\n",
              "      <th>NumberOfPictures</th>\n",
              "      <th>PostalCode</th>\n",
              "      <th>LastSeen</th>\n",
              "    </tr>\n",
              "  </thead>\n",
              "  <tbody>\n",
              "    <tr>\n",
              "      <th>301446</th>\n",
              "      <td>2016-03-12 09:44:50</td>\n",
              "      <td>0</td>\n",
              "      <td>small</td>\n",
              "      <td>1999</td>\n",
              "      <td>manual</td>\n",
              "      <td>85</td>\n",
              "      <td>punto</td>\n",
              "      <td>150000</td>\n",
              "      <td>6</td>\n",
              "      <td>petrol</td>\n",
              "      <td>fiat</td>\n",
              "      <td>NaN</td>\n",
              "      <td>2016-03-12 00:00:00</td>\n",
              "      <td>0</td>\n",
              "      <td>51107</td>\n",
              "      <td>2016-03-17 05:47:01</td>\n",
              "    </tr>\n",
              "    <tr>\n",
              "      <th>155095</th>\n",
              "      <td>2016-03-15 21:58:21</td>\n",
              "      <td>0</td>\n",
              "      <td>small</td>\n",
              "      <td>2000</td>\n",
              "      <td>manual</td>\n",
              "      <td>60</td>\n",
              "      <td>polo</td>\n",
              "      <td>150000</td>\n",
              "      <td>5</td>\n",
              "      <td>petrol</td>\n",
              "      <td>volkswagen</td>\n",
              "      <td>yes</td>\n",
              "      <td>2016-03-15 00:00:00</td>\n",
              "      <td>0</td>\n",
              "      <td>1796</td>\n",
              "      <td>2016-03-17 19:46:00</td>\n",
              "    </tr>\n",
              "    <tr>\n",
              "      <th>220084</th>\n",
              "      <td>2016-03-18 03:02:50</td>\n",
              "      <td>0</td>\n",
              "      <td>NaN</td>\n",
              "      <td>2000</td>\n",
              "      <td>NaN</td>\n",
              "      <td>0</td>\n",
              "      <td>NaN</td>\n",
              "      <td>5000</td>\n",
              "      <td>1</td>\n",
              "      <td>NaN</td>\n",
              "      <td>sonstige_autos</td>\n",
              "      <td>NaN</td>\n",
              "      <td>2016-03-18 00:00:00</td>\n",
              "      <td>0</td>\n",
              "      <td>89312</td>\n",
              "      <td>2016-03-22 10:19:05</td>\n",
              "    </tr>\n",
              "    <tr>\n",
              "      <th>224252</th>\n",
              "      <td>2016-03-09 09:52:11</td>\n",
              "      <td>0</td>\n",
              "      <td>NaN</td>\n",
              "      <td>2017</td>\n",
              "      <td>manual</td>\n",
              "      <td>80</td>\n",
              "      <td>corsa</td>\n",
              "      <td>150000</td>\n",
              "      <td>10</td>\n",
              "      <td>petrol</td>\n",
              "      <td>opel</td>\n",
              "      <td>NaN</td>\n",
              "      <td>2016-03-09 00:00:00</td>\n",
              "      <td>0</td>\n",
              "      <td>40229</td>\n",
              "      <td>2016-04-07 11:44:33</td>\n",
              "    </tr>\n",
              "    <tr>\n",
              "      <th>55931</th>\n",
              "      <td>2016-03-17 19:40:16</td>\n",
              "      <td>0</td>\n",
              "      <td>wagon</td>\n",
              "      <td>1999</td>\n",
              "      <td>manual</td>\n",
              "      <td>0</td>\n",
              "      <td>c_klasse</td>\n",
              "      <td>150000</td>\n",
              "      <td>11</td>\n",
              "      <td>petrol</td>\n",
              "      <td>mercedes_benz</td>\n",
              "      <td>NaN</td>\n",
              "      <td>2016-03-17 00:00:00</td>\n",
              "      <td>0</td>\n",
              "      <td>37154</td>\n",
              "      <td>2016-03-17 19:40:16</td>\n",
              "    </tr>\n",
              "  </tbody>\n",
              "</table>\n",
              "</div>"
            ],
            "text/plain": [
              "                DateCrawled  Price VehicleType  RegistrationYear Gearbox  \\\n",
              "301446  2016-03-12 09:44:50      0       small              1999  manual   \n",
              "155095  2016-03-15 21:58:21      0       small              2000  manual   \n",
              "220084  2016-03-18 03:02:50      0         NaN              2000     NaN   \n",
              "224252  2016-03-09 09:52:11      0         NaN              2017  manual   \n",
              "55931   2016-03-17 19:40:16      0       wagon              1999  manual   \n",
              "\n",
              "        Power     Model  Kilometer  RegistrationMonth FuelType  \\\n",
              "301446     85     punto     150000                  6   petrol   \n",
              "155095     60      polo     150000                  5   petrol   \n",
              "220084      0       NaN       5000                  1      NaN   \n",
              "224252     80     corsa     150000                 10   petrol   \n",
              "55931       0  c_klasse     150000                 11   petrol   \n",
              "\n",
              "                 Brand Repaired          DateCreated  NumberOfPictures  \\\n",
              "301446            fiat      NaN  2016-03-12 00:00:00                 0   \n",
              "155095      volkswagen      yes  2016-03-15 00:00:00                 0   \n",
              "220084  sonstige_autos      NaN  2016-03-18 00:00:00                 0   \n",
              "224252            opel      NaN  2016-03-09 00:00:00                 0   \n",
              "55931    mercedes_benz      NaN  2016-03-17 00:00:00                 0   \n",
              "\n",
              "        PostalCode             LastSeen  \n",
              "301446       51107  2016-03-17 05:47:01  \n",
              "155095        1796  2016-03-17 19:46:00  \n",
              "220084       89312  2016-03-22 10:19:05  \n",
              "224252       40229  2016-04-07 11:44:33  \n",
              "55931        37154  2016-03-17 19:40:16  "
            ]
          },
          "execution_count": 12,
          "metadata": {},
          "output_type": "execute_result"
        }
      ],
      "source": [
        "df[df['Price'] == 0].sample(5)"
      ]
    },
    {
      "cell_type": "code",
      "execution_count": null,
      "metadata": {
        "id": "5O_IZDez4tSl",
        "outputId": "b9b62ca2-99da-4d70-f7ef-e16944dcd4de"
      },
      "outputs": [
        {
          "name": "stdout",
          "output_type": "stream",
          "text": [
            "Колличество аномальных значений по целевому признаку составляет: 3 %\n"
          ]
        }
      ],
      "source": [
        "print('Колличество аномальных значений по целевому признаку составляет:',\n",
        "      round(df[df['Price'] == 0].shape[0] / df.shape[0] * 100),'%')"
      ]
    },
    {
      "cell_type": "code",
      "execution_count": null,
      "metadata": {
        "id": "y7a1Igf-4tSm",
        "outputId": "b3447bf4-0c1d-4e7c-9235-832fdc3959fa"
      },
      "outputs": [
        {
          "name": "stdout",
          "output_type": "stream",
          "text": [
            "Колличество аномальных значений по целевому признаку составляет: 0.7173394663694214 %\n"
          ]
        }
      ],
      "source": [
        "print('Колличество аномальных значений по целевому признаку составляет:',\n",
        "      (df[(df['Price'] < 100) & (df['Price'] != 0)].shape[0] / df.shape[0] * 100),'%')"
      ]
    },
    {
      "cell_type": "code",
      "execution_count": null,
      "metadata": {
        "scrolled": true,
        "id": "yv9BaBdF4tSm",
        "outputId": "1d89d897-2151-4c11-a954-f93413b999db"
      },
      "outputs": [
        {
          "data": {
            "image/png": "[encoded data removed]",
            "text/plain": [
              "<Figure size 864x576 with 1 Axes>"
            ]
          },
          "metadata": {
            "needs_background": "light"
          },
          "output_type": "display_data"
        },
        {
          "data": {
            "image/png": "[encoded data removed]",
            "text/plain": [
              "<Figure size 1368x504 with 1 Axes>"
            ]
          },
          "metadata": {
            "needs_background": "light"
          },
          "output_type": "display_data"
        }
      ],
      "source": [
        "custom_plot(df, 'Price', 'Цена', 'Колличество', 'Распределение цены автомобилей', 100)\n"
      ]
    },
    {
      "cell_type": "markdown",
      "metadata": {
        "id": "yVXE07HV4tSm"
      },
      "source": [
        "Колличество аномальных значений с нулевой ценой не так велико от общего колличества, поэтому удалим их, какой-либо корреляции в пропусках, также не наблюдается. Также уберем и данные, до 100 евро, так как эти данные кажутся крайне маловероятными, но присутсвуют в таблице в небольшом колличестве"
      ]
    },
    {
      "cell_type": "code",
      "execution_count": null,
      "metadata": {
        "id": "2tfBGNvc4tSm"
      },
      "outputs": [],
      "source": [
        "fixed_df = df.loc[df['Price'] > 100]"
      ]
    },
    {
      "cell_type": "markdown",
      "metadata": {
        "id": "OR0bMnSX4tSm"
      },
      "source": [
        "Теперь изучим и аномальные значения в столбце с указанием года, насколько мы видели там есть машины созданные очень рано, и поскольку массовое, серийное произодство автомобилей началось около, 1890 года, более ранний год создания довольно маловероятен, то же самое касается и машин созданных после 2023 года, так как это года проведения данного анализа. Изучим какое колличество данных от общих составляют эти машины"
      ]
    },
    {
      "cell_type": "code",
      "execution_count": null,
      "metadata": {
        "id": "aGSnU8YQ4tSm",
        "outputId": "f175f15c-351c-4ae3-bc69-c0e6ffd208eb"
      },
      "outputs": [
        {
          "data": {
            "text/plain": [
              "1000    22\n",
              "1800     4\n",
              "1234     3\n",
              "1600     2\n",
              "1300     2\n",
              "1500     2\n",
              "1602     1\n",
              "1039     1\n",
              "1111     1\n",
              "1001     1\n",
              "1400     1\n",
              "Name: RegistrationYear, dtype: int64"
            ]
          },
          "execution_count": 17,
          "metadata": {},
          "output_type": "execute_result"
        }
      ],
      "source": [
        "fixed_df[fixed_df['RegistrationYear'] < 1890].RegistrationYear.value_counts()"
      ]
    },
    {
      "cell_type": "code",
      "execution_count": null,
      "metadata": {
        "id": "gtUpoNU14tSm",
        "outputId": "b107c8c2-31d5-4c3d-8801-db755de3c114"
      },
      "outputs": [
        {
          "data": {
            "text/plain": [
              "5000    13\n",
              "9999    13\n",
              "6000     5\n",
              "3000     4\n",
              "7000     4\n",
              "4000     3\n",
              "5911     2\n",
              "5555     2\n",
              "4500     2\n",
              "2500     2\n",
              "9000     2\n",
              "3800     1\n",
              "8500     1\n",
              "5600     1\n",
              "3200     1\n",
              "9450     1\n",
              "2290     1\n",
              "3700     1\n",
              "2900     1\n",
              "5300     1\n",
              "4800     1\n",
              "7100     1\n",
              "8888     1\n",
              "4100     1\n",
              "8200     1\n",
              "2200     1\n",
              "2066     1\n",
              "5900     1\n",
              "2800     1\n",
              "7800     1\n",
              "Name: RegistrationYear, dtype: int64"
            ]
          },
          "execution_count": 18,
          "metadata": {},
          "output_type": "execute_result"
        }
      ],
      "source": [
        "fixed_df[fixed_df['RegistrationYear'] > 2023].RegistrationYear.value_counts()"
      ]
    },
    {
      "cell_type": "code",
      "execution_count": null,
      "metadata": {
        "id": "cS9gCcVW4tSm",
        "outputId": "9e2ac1c8-be3b-4883-a5fd-65de89e1dc42"
      },
      "outputs": [
        {
          "name": "stdout",
          "output_type": "stream",
          "text": [
            "Колличество аномальных значений по признаку составляет: 0.03132363523485671 %\n"
          ]
        }
      ],
      "source": [
        "print('Колличество аномальных значений по признаку составляет:',\n",
        "      (fixed_df.loc[(fixed_df['RegistrationYear'] < 1890) | (fixed_df['RegistrationYear'] > 2023)].shape[0] / df.shape[0] * 100),'%')"
      ]
    },
    {
      "cell_type": "markdown",
      "metadata": {
        "id": "bW8kbwKt4tSn"
      },
      "source": [
        "Данные значения крайне млаовероятны и в них скорее всего допущена ошибка, удалим их, тем более что их количество достаточно мало"
      ]
    },
    {
      "cell_type": "code",
      "execution_count": null,
      "metadata": {
        "id": "z1vWjrcl4tSn"
      },
      "outputs": [],
      "source": [
        "fixed_df = fixed_df.loc[(fixed_df['RegistrationYear'] >= 1890) & (fixed_df['RegistrationYear'] <= 2023)]"
      ]
    },
    {
      "cell_type": "markdown",
      "source": [
        "Так как данные столбца Power представлены у нас в лошадиных силах, наличие автомобилей с значениями свыше 2000, в принципе не возможно удалим их"
      ],
      "metadata": {
        "id": "ghAHE20D52KC"
      }
    },
    {
      "cell_type": "code",
      "execution_count": null,
      "metadata": {
        "id": "7mSyFbBQ4tSn"
      },
      "outputs": [],
      "source": [
        "fixed_df[fixed_df['Power'] > 2000].count()['Power']\n",
        "fixed_df = fixed_df.loc[fixed_df['Power'] < 2000]"
      ]
    },
    {
      "cell_type": "code",
      "execution_count": null,
      "metadata": {
        "id": "kE7frOtX4tSn",
        "outputId": "a81eb8a4-78d6-4501-97f9-a8d62442b4f0"
      },
      "outputs": [
        {
          "data": {
            "image/png": "[encoded data removed]",
            "text/plain": [
              "<Figure size 864x576 with 1 Axes>"
            ]
          },
          "metadata": {
            "needs_background": "light"
          },
          "output_type": "display_data"
        },
        {
          "data": {
            "image/png": "[encoded data removed]",
            "text/plain": [
              "<Figure size 1368x504 with 1 Axes>"
            ]
          },
          "metadata": {
            "needs_background": "light"
          },
          "output_type": "display_data"
        }
      ],
      "source": [
        "custom_plot(fixed_df, 'Power', 'Мощность', 'Колличество', 'Распределение мощности автомобилей', 120)"
      ]
    },
    {
      "cell_type": "markdown",
      "metadata": {
        "id": "Noi9Rp264tSs"
      },
      "source": [
        "Видим, что в таблице так же присутвует большое кол-во значений возле 0, а так же выбросы начинаются примерно с 500, изучим также значения после 700, так как машины такой мощности достаточно редки, хотя и не невозможны, но это следует дополнительно проверить, на основе моделей машин. Проверим, не затесался ли среди них гоночный болид"
      ]
    },
    {
      "cell_type": "code",
      "execution_count": null,
      "metadata": {
        "id": "McANAV144tSs",
        "outputId": "3bf58bab-e78e-467c-e185-29802bae30a2"
      },
      "outputs": [
        {
          "data": {
            "text/html": [
              "<div>\n",
              "<style scoped>\n",
              "    .dataframe tbody tr th:only-of-type {\n",
              "        vertical-align: middle;\n",
              "    }\n",
              "\n",
              "    .dataframe tbody tr th {\n",
              "        vertical-align: top;\n",
              "    }\n",
              "\n",
              "    .dataframe thead th {\n",
              "        text-align: right;\n",
              "    }\n",
              "</style>\n",
              "<table border=\"1\" class=\"dataframe\">\n",
              "  <thead>\n",
              "    <tr style=\"text-align: right;\">\n",
              "      <th></th>\n",
              "      <th>DateCrawled</th>\n",
              "      <th>Price</th>\n",
              "      <th>VehicleType</th>\n",
              "      <th>RegistrationYear</th>\n",
              "      <th>Gearbox</th>\n",
              "      <th>Power</th>\n",
              "      <th>Model</th>\n",
              "      <th>Kilometer</th>\n",
              "      <th>RegistrationMonth</th>\n",
              "      <th>FuelType</th>\n",
              "      <th>Brand</th>\n",
              "      <th>Repaired</th>\n",
              "      <th>DateCreated</th>\n",
              "      <th>NumberOfPictures</th>\n",
              "      <th>PostalCode</th>\n",
              "      <th>LastSeen</th>\n",
              "    </tr>\n",
              "  </thead>\n",
              "  <tbody>\n",
              "    <tr>\n",
              "      <th>240661</th>\n",
              "      <td>2016-03-17 13:53:42</td>\n",
              "      <td>700</td>\n",
              "      <td>small</td>\n",
              "      <td>1996</td>\n",
              "      <td>manual</td>\n",
              "      <td>1275</td>\n",
              "      <td>micra</td>\n",
              "      <td>80000</td>\n",
              "      <td>5</td>\n",
              "      <td>petrol</td>\n",
              "      <td>nissan</td>\n",
              "      <td>no</td>\n",
              "      <td>2016-03-17 00:00:00</td>\n",
              "      <td>0</td>\n",
              "      <td>46446</td>\n",
              "      <td>2016-03-17 14:41:33</td>\n",
              "    </tr>\n",
              "    <tr>\n",
              "      <th>54753</th>\n",
              "      <td>2016-03-10 08:55:49</td>\n",
              "      <td>5500</td>\n",
              "      <td>small</td>\n",
              "      <td>2007</td>\n",
              "      <td>NaN</td>\n",
              "      <td>805</td>\n",
              "      <td>corsa</td>\n",
              "      <td>40000</td>\n",
              "      <td>0</td>\n",
              "      <td>petrol</td>\n",
              "      <td>opel</td>\n",
              "      <td>NaN</td>\n",
              "      <td>2016-03-10 00:00:00</td>\n",
              "      <td>0</td>\n",
              "      <td>33034</td>\n",
              "      <td>2016-04-06 07:16:05</td>\n",
              "    </tr>\n",
              "    <tr>\n",
              "      <th>49724</th>\n",
              "      <td>2016-03-05 17:48:02</td>\n",
              "      <td>1500</td>\n",
              "      <td>wagon</td>\n",
              "      <td>2003</td>\n",
              "      <td>manual</td>\n",
              "      <td>1001</td>\n",
              "      <td>focus</td>\n",
              "      <td>150000</td>\n",
              "      <td>10</td>\n",
              "      <td>gasoline</td>\n",
              "      <td>ford</td>\n",
              "      <td>NaN</td>\n",
              "      <td>2016-03-05 00:00:00</td>\n",
              "      <td>0</td>\n",
              "      <td>32791</td>\n",
              "      <td>2016-03-12 05:18:00</td>\n",
              "    </tr>\n",
              "    <tr>\n",
              "      <th>297505</th>\n",
              "      <td>2016-03-31 08:55:30</td>\n",
              "      <td>650</td>\n",
              "      <td>small</td>\n",
              "      <td>2000</td>\n",
              "      <td>manual</td>\n",
              "      <td>1299</td>\n",
              "      <td>ka</td>\n",
              "      <td>150000</td>\n",
              "      <td>4</td>\n",
              "      <td>petrol</td>\n",
              "      <td>ford</td>\n",
              "      <td>NaN</td>\n",
              "      <td>2016-03-31 00:00:00</td>\n",
              "      <td>0</td>\n",
              "      <td>26871</td>\n",
              "      <td>2016-04-06 03:15:43</td>\n",
              "    </tr>\n",
              "    <tr>\n",
              "      <th>22281</th>\n",
              "      <td>2016-03-17 05:03:48</td>\n",
              "      <td>3999</td>\n",
              "      <td>sedan</td>\n",
              "      <td>1998</td>\n",
              "      <td>manual</td>\n",
              "      <td>1993</td>\n",
              "      <td>3er</td>\n",
              "      <td>150000</td>\n",
              "      <td>2</td>\n",
              "      <td>cng</td>\n",
              "      <td>bmw</td>\n",
              "      <td>NaN</td>\n",
              "      <td>2016-03-17 00:00:00</td>\n",
              "      <td>0</td>\n",
              "      <td>33330</td>\n",
              "      <td>2016-03-22 13:16:50</td>\n",
              "    </tr>\n",
              "    <tr>\n",
              "      <th>273898</th>\n",
              "      <td>2016-03-30 09:37:16</td>\n",
              "      <td>777</td>\n",
              "      <td>wagon</td>\n",
              "      <td>2002</td>\n",
              "      <td>manual</td>\n",
              "      <td>1783</td>\n",
              "      <td>laguna</td>\n",
              "      <td>150000</td>\n",
              "      <td>2</td>\n",
              "      <td>petrol</td>\n",
              "      <td>renault</td>\n",
              "      <td>no</td>\n",
              "      <td>2016-03-30 00:00:00</td>\n",
              "      <td>0</td>\n",
              "      <td>14669</td>\n",
              "      <td>2016-04-04 21:17:42</td>\n",
              "    </tr>\n",
              "    <tr>\n",
              "      <th>264940</th>\n",
              "      <td>2016-03-24 16:44:22</td>\n",
              "      <td>3400</td>\n",
              "      <td>sedan</td>\n",
              "      <td>2002</td>\n",
              "      <td>manual</td>\n",
              "      <td>1433</td>\n",
              "      <td>3er</td>\n",
              "      <td>150000</td>\n",
              "      <td>0</td>\n",
              "      <td>petrol</td>\n",
              "      <td>bmw</td>\n",
              "      <td>no</td>\n",
              "      <td>2016-03-24 00:00:00</td>\n",
              "      <td>0</td>\n",
              "      <td>41836</td>\n",
              "      <td>2016-03-29 01:46:24</td>\n",
              "    </tr>\n",
              "    <tr>\n",
              "      <th>234099</th>\n",
              "      <td>2016-03-21 18:56:11</td>\n",
              "      <td>1290</td>\n",
              "      <td>sedan</td>\n",
              "      <td>2000</td>\n",
              "      <td>auto</td>\n",
              "      <td>1800</td>\n",
              "      <td>toledo</td>\n",
              "      <td>150000</td>\n",
              "      <td>6</td>\n",
              "      <td>petrol</td>\n",
              "      <td>seat</td>\n",
              "      <td>no</td>\n",
              "      <td>2016-03-21 00:00:00</td>\n",
              "      <td>0</td>\n",
              "      <td>13581</td>\n",
              "      <td>2016-04-06 21:16:50</td>\n",
              "    </tr>\n",
              "    <tr>\n",
              "      <th>101186</th>\n",
              "      <td>2016-03-14 13:58:10</td>\n",
              "      <td>600</td>\n",
              "      <td>wagon</td>\n",
              "      <td>2000</td>\n",
              "      <td>manual</td>\n",
              "      <td>1753</td>\n",
              "      <td>focus</td>\n",
              "      <td>150000</td>\n",
              "      <td>12</td>\n",
              "      <td>gasoline</td>\n",
              "      <td>ford</td>\n",
              "      <td>no</td>\n",
              "      <td>2016-03-14 00:00:00</td>\n",
              "      <td>0</td>\n",
              "      <td>49847</td>\n",
              "      <td>2016-03-23 14:46:49</td>\n",
              "    </tr>\n",
              "    <tr>\n",
              "      <th>157954</th>\n",
              "      <td>2016-04-01 22:50:14</td>\n",
              "      <td>1000</td>\n",
              "      <td>bus</td>\n",
              "      <td>1997</td>\n",
              "      <td>manual</td>\n",
              "      <td>1151</td>\n",
              "      <td>sharan</td>\n",
              "      <td>150000</td>\n",
              "      <td>3</td>\n",
              "      <td>petrol</td>\n",
              "      <td>volkswagen</td>\n",
              "      <td>NaN</td>\n",
              "      <td>2016-04-01 00:00:00</td>\n",
              "      <td>0</td>\n",
              "      <td>63691</td>\n",
              "      <td>2016-04-01 22:50:14</td>\n",
              "    </tr>\n",
              "  </tbody>\n",
              "</table>\n",
              "</div>"
            ],
            "text/plain": [
              "                DateCrawled  Price VehicleType  RegistrationYear Gearbox  \\\n",
              "240661  2016-03-17 13:53:42    700       small              1996  manual   \n",
              "54753   2016-03-10 08:55:49   5500       small              2007     NaN   \n",
              "49724   2016-03-05 17:48:02   1500       wagon              2003  manual   \n",
              "297505  2016-03-31 08:55:30    650       small              2000  manual   \n",
              "22281   2016-03-17 05:03:48   3999       sedan              1998  manual   \n",
              "273898  2016-03-30 09:37:16    777       wagon              2002  manual   \n",
              "264940  2016-03-24 16:44:22   3400       sedan              2002  manual   \n",
              "234099  2016-03-21 18:56:11   1290       sedan              2000    auto   \n",
              "101186  2016-03-14 13:58:10    600       wagon              2000  manual   \n",
              "157954  2016-04-01 22:50:14   1000         bus              1997  manual   \n",
              "\n",
              "        Power   Model  Kilometer  RegistrationMonth  FuelType       Brand  \\\n",
              "240661   1275   micra      80000                  5    petrol      nissan   \n",
              "54753     805   corsa      40000                  0    petrol        opel   \n",
              "49724    1001   focus     150000                 10  gasoline        ford   \n",
              "297505   1299      ka     150000                  4    petrol        ford   \n",
              "22281    1993     3er     150000                  2       cng         bmw   \n",
              "273898   1783  laguna     150000                  2    petrol     renault   \n",
              "264940   1433     3er     150000                  0    petrol         bmw   \n",
              "234099   1800  toledo     150000                  6    petrol        seat   \n",
              "101186   1753   focus     150000                 12  gasoline        ford   \n",
              "157954   1151  sharan     150000                  3    petrol  volkswagen   \n",
              "\n",
              "       Repaired          DateCreated  NumberOfPictures  PostalCode  \\\n",
              "240661       no  2016-03-17 00:00:00                 0       46446   \n",
              "54753       NaN  2016-03-10 00:00:00                 0       33034   \n",
              "49724       NaN  2016-03-05 00:00:00                 0       32791   \n",
              "297505      NaN  2016-03-31 00:00:00                 0       26871   \n",
              "22281       NaN  2016-03-17 00:00:00                 0       33330   \n",
              "273898       no  2016-03-30 00:00:00                 0       14669   \n",
              "264940       no  2016-03-24 00:00:00                 0       41836   \n",
              "234099       no  2016-03-21 00:00:00                 0       13581   \n",
              "101186       no  2016-03-14 00:00:00                 0       49847   \n",
              "157954      NaN  2016-04-01 00:00:00                 0       63691   \n",
              "\n",
              "                   LastSeen  \n",
              "240661  2016-03-17 14:41:33  \n",
              "54753   2016-04-06 07:16:05  \n",
              "49724   2016-03-12 05:18:00  \n",
              "297505  2016-04-06 03:15:43  \n",
              "22281   2016-03-22 13:16:50  \n",
              "273898  2016-04-04 21:17:42  \n",
              "264940  2016-03-29 01:46:24  \n",
              "234099  2016-04-06 21:16:50  \n",
              "101186  2016-03-23 14:46:49  \n",
              "157954  2016-04-01 22:50:14  "
            ]
          },
          "execution_count": 24,
          "metadata": {},
          "output_type": "execute_result"
        }
      ],
      "source": [
        "fixed_df.loc[fixed_df['Power'] > 700].sample(10)"
      ]
    },
    {
      "cell_type": "code",
      "execution_count": null,
      "metadata": {
        "id": "5ha5uhP-4tSt",
        "outputId": "f20f8402-a5ec-47dd-dd9e-7c1b9743aa53"
      },
      "outputs": [
        {
          "data": {
            "text/html": [
              "<div>\n",
              "<style scoped>\n",
              "    .dataframe tbody tr th:only-of-type {\n",
              "        vertical-align: middle;\n",
              "    }\n",
              "\n",
              "    .dataframe tbody tr th {\n",
              "        vertical-align: top;\n",
              "    }\n",
              "\n",
              "    .dataframe thead th {\n",
              "        text-align: right;\n",
              "    }\n",
              "</style>\n",
              "<table border=\"1\" class=\"dataframe\">\n",
              "  <thead>\n",
              "    <tr style=\"text-align: right;\">\n",
              "      <th></th>\n",
              "      <th>DateCrawled</th>\n",
              "      <th>Price</th>\n",
              "      <th>VehicleType</th>\n",
              "      <th>RegistrationYear</th>\n",
              "      <th>Gearbox</th>\n",
              "      <th>Power</th>\n",
              "      <th>Model</th>\n",
              "      <th>Kilometer</th>\n",
              "      <th>RegistrationMonth</th>\n",
              "      <th>FuelType</th>\n",
              "      <th>Brand</th>\n",
              "      <th>Repaired</th>\n",
              "      <th>DateCreated</th>\n",
              "      <th>NumberOfPictures</th>\n",
              "      <th>PostalCode</th>\n",
              "      <th>LastSeen</th>\n",
              "    </tr>\n",
              "  </thead>\n",
              "  <tbody>\n",
              "    <tr>\n",
              "      <th>301935</th>\n",
              "      <td>2016-03-05 18:44:24</td>\n",
              "      <td>1999</td>\n",
              "      <td>small</td>\n",
              "      <td>2005</td>\n",
              "      <td>manual</td>\n",
              "      <td>0</td>\n",
              "      <td>justy</td>\n",
              "      <td>125000</td>\n",
              "      <td>5</td>\n",
              "      <td>petrol</td>\n",
              "      <td>subaru</td>\n",
              "      <td>yes</td>\n",
              "      <td>2016-03-05 00:00:00</td>\n",
              "      <td>0</td>\n",
              "      <td>98634</td>\n",
              "      <td>2016-03-10 13:16:52</td>\n",
              "    </tr>\n",
              "    <tr>\n",
              "      <th>54617</th>\n",
              "      <td>2016-03-13 06:36:20</td>\n",
              "      <td>505</td>\n",
              "      <td>small</td>\n",
              "      <td>1998</td>\n",
              "      <td>NaN</td>\n",
              "      <td>0</td>\n",
              "      <td>NaN</td>\n",
              "      <td>125000</td>\n",
              "      <td>0</td>\n",
              "      <td>petrol</td>\n",
              "      <td>sonstige_autos</td>\n",
              "      <td>yes</td>\n",
              "      <td>2016-03-13 00:00:00</td>\n",
              "      <td>0</td>\n",
              "      <td>1744</td>\n",
              "      <td>2016-03-28 11:46:22</td>\n",
              "    </tr>\n",
              "    <tr>\n",
              "      <th>7755</th>\n",
              "      <td>2016-03-24 12:37:13</td>\n",
              "      <td>2500</td>\n",
              "      <td>sedan</td>\n",
              "      <td>1996</td>\n",
              "      <td>manual</td>\n",
              "      <td>0</td>\n",
              "      <td>corolla</td>\n",
              "      <td>125000</td>\n",
              "      <td>2</td>\n",
              "      <td>petrol</td>\n",
              "      <td>toyota</td>\n",
              "      <td>NaN</td>\n",
              "      <td>2016-03-24 00:00:00</td>\n",
              "      <td>0</td>\n",
              "      <td>13585</td>\n",
              "      <td>2016-04-01 08:15:55</td>\n",
              "    </tr>\n",
              "    <tr>\n",
              "      <th>23627</th>\n",
              "      <td>2016-03-19 14:50:35</td>\n",
              "      <td>150</td>\n",
              "      <td>other</td>\n",
              "      <td>2014</td>\n",
              "      <td>NaN</td>\n",
              "      <td>0</td>\n",
              "      <td>ducato</td>\n",
              "      <td>40000</td>\n",
              "      <td>0</td>\n",
              "      <td>NaN</td>\n",
              "      <td>fiat</td>\n",
              "      <td>NaN</td>\n",
              "      <td>2016-03-19 00:00:00</td>\n",
              "      <td>0</td>\n",
              "      <td>21502</td>\n",
              "      <td>2016-04-06 22:44:23</td>\n",
              "    </tr>\n",
              "    <tr>\n",
              "      <th>233318</th>\n",
              "      <td>2016-03-22 12:50:35</td>\n",
              "      <td>3950</td>\n",
              "      <td>small</td>\n",
              "      <td>2007</td>\n",
              "      <td>manual</td>\n",
              "      <td>0</td>\n",
              "      <td>corsa</td>\n",
              "      <td>150000</td>\n",
              "      <td>11</td>\n",
              "      <td>petrol</td>\n",
              "      <td>opel</td>\n",
              "      <td>no</td>\n",
              "      <td>2016-03-22 00:00:00</td>\n",
              "      <td>0</td>\n",
              "      <td>52372</td>\n",
              "      <td>2016-04-06 01:44:23</td>\n",
              "    </tr>\n",
              "    <tr>\n",
              "      <th>106517</th>\n",
              "      <td>2016-03-11 13:49:02</td>\n",
              "      <td>1950</td>\n",
              "      <td>wagon</td>\n",
              "      <td>2002</td>\n",
              "      <td>auto</td>\n",
              "      <td>0</td>\n",
              "      <td>golf</td>\n",
              "      <td>150000</td>\n",
              "      <td>2</td>\n",
              "      <td>petrol</td>\n",
              "      <td>volkswagen</td>\n",
              "      <td>no</td>\n",
              "      <td>2016-03-11 00:00:00</td>\n",
              "      <td>0</td>\n",
              "      <td>15711</td>\n",
              "      <td>2016-03-12 03:16:49</td>\n",
              "    </tr>\n",
              "    <tr>\n",
              "      <th>120185</th>\n",
              "      <td>2016-03-21 07:55:50</td>\n",
              "      <td>450</td>\n",
              "      <td>NaN</td>\n",
              "      <td>2016</td>\n",
              "      <td>NaN</td>\n",
              "      <td>0</td>\n",
              "      <td>polo</td>\n",
              "      <td>150000</td>\n",
              "      <td>10</td>\n",
              "      <td>petrol</td>\n",
              "      <td>volkswagen</td>\n",
              "      <td>NaN</td>\n",
              "      <td>2016-03-21 00:00:00</td>\n",
              "      <td>0</td>\n",
              "      <td>16515</td>\n",
              "      <td>2016-03-21 09:39:28</td>\n",
              "    </tr>\n",
              "    <tr>\n",
              "      <th>202071</th>\n",
              "      <td>2016-03-25 18:54:16</td>\n",
              "      <td>750</td>\n",
              "      <td>small</td>\n",
              "      <td>1986</td>\n",
              "      <td>manual</td>\n",
              "      <td>0</td>\n",
              "      <td>NaN</td>\n",
              "      <td>150000</td>\n",
              "      <td>6</td>\n",
              "      <td>petrol</td>\n",
              "      <td>sonstige_autos</td>\n",
              "      <td>NaN</td>\n",
              "      <td>2016-03-25 00:00:00</td>\n",
              "      <td>0</td>\n",
              "      <td>12557</td>\n",
              "      <td>2016-04-07 01:18:00</td>\n",
              "    </tr>\n",
              "    <tr>\n",
              "      <th>193639</th>\n",
              "      <td>2016-03-16 08:52:58</td>\n",
              "      <td>800</td>\n",
              "      <td>small</td>\n",
              "      <td>2000</td>\n",
              "      <td>manual</td>\n",
              "      <td>0</td>\n",
              "      <td>other</td>\n",
              "      <td>125000</td>\n",
              "      <td>2</td>\n",
              "      <td>petrol</td>\n",
              "      <td>peugeot</td>\n",
              "      <td>NaN</td>\n",
              "      <td>2016-03-16 00:00:00</td>\n",
              "      <td>0</td>\n",
              "      <td>50969</td>\n",
              "      <td>2016-03-17 07:17:00</td>\n",
              "    </tr>\n",
              "    <tr>\n",
              "      <th>34427</th>\n",
              "      <td>2016-03-05 17:59:15</td>\n",
              "      <td>1111</td>\n",
              "      <td>NaN</td>\n",
              "      <td>2017</td>\n",
              "      <td>manual</td>\n",
              "      <td>0</td>\n",
              "      <td>corsa</td>\n",
              "      <td>150000</td>\n",
              "      <td>0</td>\n",
              "      <td>petrol</td>\n",
              "      <td>opel</td>\n",
              "      <td>NaN</td>\n",
              "      <td>2016-03-05 00:00:00</td>\n",
              "      <td>0</td>\n",
              "      <td>16278</td>\n",
              "      <td>2016-03-06 04:44:35</td>\n",
              "    </tr>\n",
              "  </tbody>\n",
              "</table>\n",
              "</div>"
            ],
            "text/plain": [
              "                DateCrawled  Price VehicleType  RegistrationYear Gearbox  \\\n",
              "301935  2016-03-05 18:44:24   1999       small              2005  manual   \n",
              "54617   2016-03-13 06:36:20    505       small              1998     NaN   \n",
              "7755    2016-03-24 12:37:13   2500       sedan              1996  manual   \n",
              "23627   2016-03-19 14:50:35    150       other              2014     NaN   \n",
              "233318  2016-03-22 12:50:35   3950       small              2007  manual   \n",
              "106517  2016-03-11 13:49:02   1950       wagon              2002    auto   \n",
              "120185  2016-03-21 07:55:50    450         NaN              2016     NaN   \n",
              "202071  2016-03-25 18:54:16    750       small              1986  manual   \n",
              "193639  2016-03-16 08:52:58    800       small              2000  manual   \n",
              "34427   2016-03-05 17:59:15   1111         NaN              2017  manual   \n",
              "\n",
              "        Power    Model  Kilometer  RegistrationMonth FuelType           Brand  \\\n",
              "301935      0    justy     125000                  5   petrol          subaru   \n",
              "54617       0      NaN     125000                  0   petrol  sonstige_autos   \n",
              "7755        0  corolla     125000                  2   petrol          toyota   \n",
              "23627       0   ducato      40000                  0      NaN            fiat   \n",
              "233318      0    corsa     150000                 11   petrol            opel   \n",
              "106517      0     golf     150000                  2   petrol      volkswagen   \n",
              "120185      0     polo     150000                 10   petrol      volkswagen   \n",
              "202071      0      NaN     150000                  6   petrol  sonstige_autos   \n",
              "193639      0    other     125000                  2   petrol         peugeot   \n",
              "34427       0    corsa     150000                  0   petrol            opel   \n",
              "\n",
              "       Repaired          DateCreated  NumberOfPictures  PostalCode  \\\n",
              "301935      yes  2016-03-05 00:00:00                 0       98634   \n",
              "54617       yes  2016-03-13 00:00:00                 0        1744   \n",
              "7755        NaN  2016-03-24 00:00:00                 0       13585   \n",
              "23627       NaN  2016-03-19 00:00:00                 0       21502   \n",
              "233318       no  2016-03-22 00:00:00                 0       52372   \n",
              "106517       no  2016-03-11 00:00:00                 0       15711   \n",
              "120185      NaN  2016-03-21 00:00:00                 0       16515   \n",
              "202071      NaN  2016-03-25 00:00:00                 0       12557   \n",
              "193639      NaN  2016-03-16 00:00:00                 0       50969   \n",
              "34427       NaN  2016-03-05 00:00:00                 0       16278   \n",
              "\n",
              "                   LastSeen  \n",
              "301935  2016-03-10 13:16:52  \n",
              "54617   2016-03-28 11:46:22  \n",
              "7755    2016-04-01 08:15:55  \n",
              "23627   2016-04-06 22:44:23  \n",
              "233318  2016-04-06 01:44:23  \n",
              "106517  2016-03-12 03:16:49  \n",
              "120185  2016-03-21 09:39:28  \n",
              "202071  2016-04-07 01:18:00  \n",
              "193639  2016-03-17 07:17:00  \n",
              "34427   2016-03-06 04:44:35  "
            ]
          },
          "execution_count": 25,
          "metadata": {},
          "output_type": "execute_result"
        }
      ],
      "source": [
        "fixed_df.loc[fixed_df['Power'] == 0 ].sample(10)"
      ]
    },
    {
      "cell_type": "markdown",
      "metadata": {
        "id": "ueja6K7W4tSt"
      },
      "source": [
        "Насколько вижу, все машины из этой выборки не соответсвуют указанным лошадинным силам (согласно данным из открытых источников)\n",
        "А значит в данных допушена ошибка, причины которых мы пока не знаем, следовательно удалим их, как и данные в которых мощность указана нулевой"
      ]
    },
    {
      "cell_type": "code",
      "execution_count": null,
      "metadata": {
        "id": "Ms1edKHD4tSu"
      },
      "outputs": [],
      "source": [
        "fixed_df = fixed_df.loc[(fixed_df['Power'] > 30) & (fixed_df['Power'] <= 700)]"
      ]
    },
    {
      "cell_type": "markdown",
      "metadata": {
        "id": "vg-5JbkV4tSu"
      },
      "source": [
        "Изучим более подробно и столбец с пробегом"
      ]
    },
    {
      "cell_type": "code",
      "execution_count": null,
      "metadata": {
        "scrolled": false,
        "id": "70FA5KgK4tSu",
        "outputId": "95197689-ee0b-4517-916c-1ab36f45ec05"
      },
      "outputs": [
        {
          "data": {
            "image/png": "[encoded data removed]",
            "text/plain": [
              "<Figure size 864x576 with 1 Axes>"
            ]
          },
          "metadata": {
            "needs_background": "light"
          },
          "output_type": "display_data"
        },
        {
          "data": {
            "image/png": "[encoded data removed]",
            "text/plain": [
              "<Figure size 1368x504 with 1 Axes>"
            ]
          },
          "metadata": {
            "needs_background": "light"
          },
          "output_type": "display_data"
        }
      ],
      "source": [
        "custom_plot(fixed_df, 'Kilometer', 'Пробег', 'Колличество', 'Распределение пробега автомобилей', 100)"
      ]
    },
    {
      "cell_type": "markdown",
      "metadata": {
        "id": "avAn74RI4tSu"
      },
      "source": [
        "Насколкьо видим, большая часть значений находится на отметке 150 000 и не превышает его, что значит, что скорее всего на сайте есть максимальное указанное значени, выше которого программа не удает указать пробег автомобиля"
      ]
    },
    {
      "cell_type": "markdown",
      "metadata": {
        "id": "tO4jtLGG4tSv"
      },
      "source": [
        "В столбце RegistrationMonth, есть значения 0, их значение достаточно велико, поэтому оставим их без изменения, так как скорее всего, это может означать, что информация по месяцу регистрации просто не указана на сайте или была удалена из-за какой-то ошибки"
      ]
    },
    {
      "cell_type": "code",
      "execution_count": null,
      "metadata": {
        "id": "fliciRBF4tSv",
        "outputId": "44591d6a-4e83-4eca-c8dc-4dc9a3a9eec7"
      },
      "outputs": [
        {
          "data": {
            "text/plain": [
              "19386"
            ]
          },
          "execution_count": 28,
          "metadata": {},
          "output_type": "execute_result"
        }
      ],
      "source": [
        "fixed_df.loc[fixed_df['RegistrationMonth'] == 0]['RegistrationMonth'].count()"
      ]
    },
    {
      "cell_type": "markdown",
      "metadata": {
        "id": "DXFGm_jo4tSv"
      },
      "source": [
        "Также удалим и лишние столюцы, которые в данном случае не дают нам никакой информации, как например пустой столбец- NumberOfPictures, а также столбцы, которые будут нам мало полезны в данном иследованнии: DateCrawled , DateCreated , PostalCode  и LastSeen"
      ]
    },
    {
      "cell_type": "code",
      "execution_count": null,
      "metadata": {
        "id": "ymuMOA_H4tSv"
      },
      "outputs": [],
      "source": [
        "fixed_df.drop(columns=['DateCreated', 'DateCrawled', 'NumberOfPictures', 'PostalCode', 'LastSeen'], inplace=True)"
      ]
    },
    {
      "cell_type": "markdown",
      "metadata": {
        "id": "TzJ0r7xC4tSv"
      },
      "source": [
        "Изучим данные после первичной предобработки"
      ]
    },
    {
      "cell_type": "code",
      "execution_count": null,
      "metadata": {
        "id": "gOxO9qD-4tSv",
        "outputId": "d186aa37-5b52-48ca-f47a-5aab0988403a"
      },
      "outputs": [
        {
          "data": {
            "text/html": [
              "<div>\n",
              "<style scoped>\n",
              "    .dataframe tbody tr th:only-of-type {\n",
              "        vertical-align: middle;\n",
              "    }\n",
              "\n",
              "    .dataframe tbody tr th {\n",
              "        vertical-align: top;\n",
              "    }\n",
              "\n",
              "    .dataframe thead th {\n",
              "        text-align: right;\n",
              "    }\n",
              "</style>\n",
              "<table border=\"1\" class=\"dataframe\">\n",
              "  <thead>\n",
              "    <tr style=\"text-align: right;\">\n",
              "      <th></th>\n",
              "      <th>Price</th>\n",
              "      <th>RegistrationYear</th>\n",
              "      <th>Power</th>\n",
              "      <th>Kilometer</th>\n",
              "      <th>RegistrationMonth</th>\n",
              "    </tr>\n",
              "  </thead>\n",
              "  <tbody>\n",
              "    <tr>\n",
              "      <th>count</th>\n",
              "      <td>304148.000000</td>\n",
              "      <td>304148.000000</td>\n",
              "      <td>304148.000000</td>\n",
              "      <td>304148.000000</td>\n",
              "      <td>304148.000000</td>\n",
              "    </tr>\n",
              "    <tr>\n",
              "      <th>mean</th>\n",
              "      <td>4842.458116</td>\n",
              "      <td>2003.368416</td>\n",
              "      <td>120.697956</td>\n",
              "      <td>128598.149585</td>\n",
              "      <td>5.975995</td>\n",
              "    </tr>\n",
              "    <tr>\n",
              "      <th>std</th>\n",
              "      <td>4587.616788</td>\n",
              "      <td>6.832991</td>\n",
              "      <td>53.779955</td>\n",
              "      <td>36490.445974</td>\n",
              "      <td>3.594610</td>\n",
              "    </tr>\n",
              "    <tr>\n",
              "      <th>min</th>\n",
              "      <td>101.000000</td>\n",
              "      <td>1910.000000</td>\n",
              "      <td>31.000000</td>\n",
              "      <td>5000.000000</td>\n",
              "      <td>0.000000</td>\n",
              "    </tr>\n",
              "    <tr>\n",
              "      <th>25%</th>\n",
              "      <td>1350.000000</td>\n",
              "      <td>1999.000000</td>\n",
              "      <td>76.000000</td>\n",
              "      <td>125000.000000</td>\n",
              "      <td>3.000000</td>\n",
              "    </tr>\n",
              "    <tr>\n",
              "      <th>50%</th>\n",
              "      <td>3199.000000</td>\n",
              "      <td>2003.000000</td>\n",
              "      <td>110.000000</td>\n",
              "      <td>150000.000000</td>\n",
              "      <td>6.000000</td>\n",
              "    </tr>\n",
              "    <tr>\n",
              "      <th>75%</th>\n",
              "      <td>6990.000000</td>\n",
              "      <td>2008.000000</td>\n",
              "      <td>150.000000</td>\n",
              "      <td>150000.000000</td>\n",
              "      <td>9.000000</td>\n",
              "    </tr>\n",
              "    <tr>\n",
              "      <th>max</th>\n",
              "      <td>20000.000000</td>\n",
              "      <td>2019.000000</td>\n",
              "      <td>700.000000</td>\n",
              "      <td>150000.000000</td>\n",
              "      <td>12.000000</td>\n",
              "    </tr>\n",
              "  </tbody>\n",
              "</table>\n",
              "</div>"
            ],
            "text/plain": [
              "               Price  RegistrationYear          Power      Kilometer  \\\n",
              "count  304148.000000     304148.000000  304148.000000  304148.000000   \n",
              "mean     4842.458116       2003.368416     120.697956  128598.149585   \n",
              "std      4587.616788          6.832991      53.779955   36490.445974   \n",
              "min       101.000000       1910.000000      31.000000    5000.000000   \n",
              "25%      1350.000000       1999.000000      76.000000  125000.000000   \n",
              "50%      3199.000000       2003.000000     110.000000  150000.000000   \n",
              "75%      6990.000000       2008.000000     150.000000  150000.000000   \n",
              "max     20000.000000       2019.000000     700.000000  150000.000000   \n",
              "\n",
              "       RegistrationMonth  \n",
              "count      304148.000000  \n",
              "mean            5.975995  \n",
              "std             3.594610  \n",
              "min             0.000000  \n",
              "25%             3.000000  \n",
              "50%             6.000000  \n",
              "75%             9.000000  \n",
              "max            12.000000  "
            ]
          },
          "execution_count": 30,
          "metadata": {},
          "output_type": "execute_result"
        }
      ],
      "source": [
        "fixed_df.describe()"
      ]
    },
    {
      "cell_type": "markdown",
      "metadata": {
        "id": "zokHI-HE4tSv"
      },
      "source": [
        "Теперь данные выглядят значительно лучше и реалистичнее, переходим к следующему этапу"
      ]
    },
    {
      "cell_type": "markdown",
      "metadata": {
        "id": "Kr95uwh04tSw"
      },
      "source": [
        "### Обработка пропусков и дубликатов"
      ]
    },
    {
      "cell_type": "markdown",
      "metadata": {
        "id": "1TUZMX3A4tSw"
      },
      "source": [
        "Произведем замену неявных дубликатов в столбцах Model- range_rover и rangerover\n",
        "и в столбце FuelType- gasoline и petrol, которые по сути являются одним и тем-же значением, так как оба означают питание машины от бензина https://economictimes.indiatimes.com/definition/gasoline"
      ]
    },
    {
      "cell_type": "code",
      "execution_count": null,
      "metadata": {
        "scrolled": true,
        "id": "Y6h5hPQf4tSw",
        "outputId": "0ffcc849-d16b-4b0b-8f8a-8ec75a441f37"
      },
      "outputs": [
        {
          "data": {
            "text/plain": [
              "array(['petrol', nan, 'lpg', 'other', 'hybrid', 'cng', 'electric'],\n",
              "      dtype=object)"
            ]
          },
          "execution_count": 31,
          "metadata": {},
          "output_type": "execute_result"
        }
      ],
      "source": [
        "fixed_df['Model'] = fixed_df['Model'].replace('rangerover', 'range_rover')\n",
        "fixed_df['FuelType'] = fixed_df['FuelType'].replace('gasoline', 'petrol')\n",
        "fixed_df['FuelType'].unique()"
      ]
    },
    {
      "cell_type": "code",
      "execution_count": null,
      "metadata": {
        "id": "SuQU28Bg4tSw",
        "outputId": "a5a20c94-0bf4-42fa-b46b-c21e685bcfa9"
      },
      "outputs": [
        {
          "data": {
            "text/plain": [
              "Price                    0\n",
              "VehicleType          20840\n",
              "RegistrationYear         0\n",
              "Gearbox               5832\n",
              "Power                    0\n",
              "Model                11979\n",
              "Kilometer                0\n",
              "RegistrationMonth        0\n",
              "FuelType             19217\n",
              "Brand                    0\n",
              "Repaired             46159\n",
              "dtype: int64"
            ]
          },
          "execution_count": 32,
          "metadata": {},
          "output_type": "execute_result"
        }
      ],
      "source": [
        "fixed_df.isnull().sum()"
      ]
    },
    {
      "cell_type": "markdown",
      "metadata": {
        "id": "pMOj5JhV4tSw"
      },
      "source": [
        "Теперь перейдем к более подробному изучению, пропусков в столбцах"
      ]
    },
    {
      "cell_type": "code",
      "execution_count": null,
      "metadata": {
        "scrolled": true,
        "id": "B2nhB19Y4tSx",
        "outputId": "a07dff8a-1517-495c-cde8-afa0231a5c79"
      },
      "outputs": [
        {
          "name": "stdout",
          "output_type": "stream",
          "text": [
            "20840\n",
            "sedan          82586\n",
            "small          69076\n",
            "wagon          58987\n",
            "bus            26146\n",
            "convertible    18671\n",
            "coupe          14523\n",
            "suv            10926\n",
            "other           2393\n",
            "Name: VehicleType, dtype: int64\n"
          ]
        }
      ],
      "source": [
        "print(fixed_df['VehicleType'].isnull().sum())\n",
        "print(fixed_df['VehicleType'].value_counts())\n",
        "# В пропусках отсутствует корреляция, поэтому заполним пропуски unknown\n",
        "fixed_df.VehicleType = fixed_df.VehicleType.fillna('unknown')"
      ]
    },
    {
      "cell_type": "code",
      "execution_count": null,
      "metadata": {
        "id": "MktdRZ4A4tSx",
        "outputId": "07a9a6a6-a716-41e4-9ff5-3c2d88293b0d"
      },
      "outputs": [
        {
          "name": "stdout",
          "output_type": "stream",
          "text": [
            "5832\n",
            "manual    238316\n",
            "auto       60000\n",
            "Name: Gearbox, dtype: int64\n"
          ]
        }
      ],
      "source": [
        "print(fixed_df['Gearbox'].isnull().sum())\n",
        "print(fixed_df['Gearbox'].value_counts())\n",
        "# В данном случае мы видим что указано все 2 типа коробки передач, соответственно пропуски могут означать другой ее тип, заполним пропуски other\n",
        "fixed_df.Gearbox = fixed_df.Gearbox.fillna('other')"
      ]
    },
    {
      "cell_type": "code",
      "execution_count": null,
      "metadata": {
        "id": "GmcsxFiR4tSx",
        "outputId": "1bacecec-9770-478a-e164-9228727809d4"
      },
      "outputs": [
        {
          "name": "stdout",
          "output_type": "stream",
          "text": [
            "11979\n",
            "golf                  25837\n",
            "other                 20484\n",
            "3er                   17703\n",
            "polo                  11006\n",
            "corsa                 10374\n",
            "                      ...  \n",
            "samara                    5\n",
            "kalina                    5\n",
            "601                       5\n",
            "serie_3                   3\n",
            "range_rover_evoque        2\n",
            "Name: Model, Length: 248, dtype: int64\n"
          ]
        }
      ],
      "source": [
        "print(fixed_df['Model'].isnull().sum())\n",
        "print(fixed_df['Model'].value_counts())\n",
        "# Какая-либо корреляция в пропусках не прослеживается, заменим на unknown\n",
        "fixed_df.Model = fixed_df.Model.fillna('unknown')"
      ]
    },
    {
      "cell_type": "code",
      "execution_count": null,
      "metadata": {
        "id": "BzwqxYkp4tSx",
        "outputId": "02dfea75-e979-4a18-d73d-0c969fd530e3"
      },
      "outputs": [
        {
          "name": "stdout",
          "output_type": "stream",
          "text": [
            "19217\n",
            "petrol      279350\n",
            "lpg           4783\n",
            "cng            496\n",
            "hybrid         204\n",
            "other           60\n",
            "electric        38\n",
            "Name: FuelType, dtype: int64\n"
          ]
        }
      ],
      "source": [
        "print(fixed_df['FuelType'].isnull().sum())\n",
        "print(fixed_df['FuelType'].value_counts())\n",
        "# Какая-либо корреляция в пропусках не прослеживается, заменим на unknown, можно было бы предположить что это other, но он выделен в отдельную категорию\n",
        "fixed_df.FuelType = fixed_df.FuelType.fillna('unknown')"
      ]
    },
    {
      "cell_type": "code",
      "execution_count": null,
      "metadata": {
        "scrolled": true,
        "id": "GmVFWMMQ4tSx",
        "outputId": "ba10b444-6fcb-4b28-cf84-b52833d61222"
      },
      "outputs": [
        {
          "name": "stdout",
          "output_type": "stream",
          "text": [
            "46159\n"
          ]
        }
      ],
      "source": [
        "print(fixed_df['Repaired'].isnull().sum())\n",
        "fixed_df['Repaired'].value_counts()\n",
        "# Видим, что в данных преобладает число не отремонитрованных машин, заменим пропуски на no, как медианой\n",
        "fixed_df.Repaired = fixed_df.Repaired.fillna('no')"
      ]
    },
    {
      "cell_type": "code",
      "execution_count": null,
      "metadata": {
        "id": "sUnGHTxQ4tSx",
        "outputId": "4892321e-1cef-412b-bb08-8347dfe7f904"
      },
      "outputs": [
        {
          "data": {
            "text/plain": [
              "Price                0\n",
              "VehicleType          0\n",
              "RegistrationYear     0\n",
              "Gearbox              0\n",
              "Power                0\n",
              "Model                0\n",
              "Kilometer            0\n",
              "RegistrationMonth    0\n",
              "FuelType             0\n",
              "Brand                0\n",
              "Repaired             0\n",
              "dtype: int64"
            ]
          },
          "execution_count": 38,
          "metadata": {},
          "output_type": "execute_result"
        }
      ],
      "source": [
        "fixed_df.isnull().sum()"
      ]
    },
    {
      "cell_type": "markdown",
      "metadata": {
        "id": "dJ3A2bRW4tSx"
      },
      "source": [
        "Теперь когда пропуски удалены, перейдем к работе с данными и обучению модели"
      ]
    },
    {
      "cell_type": "markdown",
      "metadata": {
        "id": "uUYf30hm4tSx"
      },
      "source": [
        "## Обучение моделей"
      ]
    },
    {
      "cell_type": "code",
      "execution_count": null,
      "metadata": {
        "id": "FlqBUZ-U4tSy"
      },
      "outputs": [],
      "source": [
        "features = fixed_df.drop(['Price'], axis=1)\n",
        "target = fixed_df['Price']"
      ]
    },
    {
      "cell_type": "code",
      "execution_count": null,
      "metadata": {
        "id": "-HTk3VMm4tSy"
      },
      "outputs": [],
      "source": [
        "#Разделим выборку на 3 части- обучающуюу, валидционную и тестовую, для последующего обучения модели\n",
        "features_train, features_valid, target_train, target_valid =train_test_split(features, target, test_size=0.4, random_state=42)\n",
        "features_test, features_valid, target_test, target_valid = train_test_split(features_valid, target_valid, test_size=0.5, random_state=42)"
      ]
    },
    {
      "cell_type": "code",
      "execution_count": null,
      "metadata": {
        "id": "Tun7Zsjw4tSy",
        "outputId": "1215ae4b-8f30-4781-d759-bfa5948c1e94"
      },
      "outputs": [
        {
          "data": {
            "text/html": [
              "<div>\n",
              "<style scoped>\n",
              "    .dataframe tbody tr th:only-of-type {\n",
              "        vertical-align: middle;\n",
              "    }\n",
              "\n",
              "    .dataframe tbody tr th {\n",
              "        vertical-align: top;\n",
              "    }\n",
              "\n",
              "    .dataframe thead th {\n",
              "        text-align: right;\n",
              "    }\n",
              "</style>\n",
              "<table border=\"1\" class=\"dataframe\">\n",
              "  <thead>\n",
              "    <tr style=\"text-align: right;\">\n",
              "      <th></th>\n",
              "      <th>VehicleType</th>\n",
              "      <th>RegistrationYear</th>\n",
              "      <th>Gearbox</th>\n",
              "      <th>Power</th>\n",
              "      <th>Model</th>\n",
              "      <th>Kilometer</th>\n",
              "      <th>RegistrationMonth</th>\n",
              "      <th>FuelType</th>\n",
              "      <th>Brand</th>\n",
              "      <th>Repaired</th>\n",
              "    </tr>\n",
              "  </thead>\n",
              "  <tbody>\n",
              "    <tr>\n",
              "      <th>132268</th>\n",
              "      <td>small</td>\n",
              "      <td>2001</td>\n",
              "      <td>manual</td>\n",
              "      <td>69</td>\n",
              "      <td>2_reihe</td>\n",
              "      <td>150000</td>\n",
              "      <td>6</td>\n",
              "      <td>petrol</td>\n",
              "      <td>peugeot</td>\n",
              "      <td>yes</td>\n",
              "    </tr>\n",
              "    <tr>\n",
              "      <th>329379</th>\n",
              "      <td>unknown</td>\n",
              "      <td>2017</td>\n",
              "      <td>manual</td>\n",
              "      <td>116</td>\n",
              "      <td>3er</td>\n",
              "      <td>150000</td>\n",
              "      <td>11</td>\n",
              "      <td>unknown</td>\n",
              "      <td>bmw</td>\n",
              "      <td>no</td>\n",
              "    </tr>\n",
              "    <tr>\n",
              "      <th>156940</th>\n",
              "      <td>sedan</td>\n",
              "      <td>1998</td>\n",
              "      <td>manual</td>\n",
              "      <td>101</td>\n",
              "      <td>passat</td>\n",
              "      <td>150000</td>\n",
              "      <td>3</td>\n",
              "      <td>petrol</td>\n",
              "      <td>volkswagen</td>\n",
              "      <td>no</td>\n",
              "    </tr>\n",
              "    <tr>\n",
              "      <th>284988</th>\n",
              "      <td>other</td>\n",
              "      <td>1998</td>\n",
              "      <td>manual</td>\n",
              "      <td>102</td>\n",
              "      <td>3er</td>\n",
              "      <td>150000</td>\n",
              "      <td>6</td>\n",
              "      <td>petrol</td>\n",
              "      <td>bmw</td>\n",
              "      <td>yes</td>\n",
              "    </tr>\n",
              "    <tr>\n",
              "      <th>27400</th>\n",
              "      <td>bus</td>\n",
              "      <td>1997</td>\n",
              "      <td>manual</td>\n",
              "      <td>102</td>\n",
              "      <td>transporter</td>\n",
              "      <td>150000</td>\n",
              "      <td>12</td>\n",
              "      <td>petrol</td>\n",
              "      <td>volkswagen</td>\n",
              "      <td>no</td>\n",
              "    </tr>\n",
              "    <tr>\n",
              "      <th>...</th>\n",
              "      <td>...</td>\n",
              "      <td>...</td>\n",
              "      <td>...</td>\n",
              "      <td>...</td>\n",
              "      <td>...</td>\n",
              "      <td>...</td>\n",
              "      <td>...</td>\n",
              "      <td>...</td>\n",
              "      <td>...</td>\n",
              "      <td>...</td>\n",
              "    </tr>\n",
              "    <tr>\n",
              "      <th>139660</th>\n",
              "      <td>sedan</td>\n",
              "      <td>1998</td>\n",
              "      <td>manual</td>\n",
              "      <td>101</td>\n",
              "      <td>golf</td>\n",
              "      <td>150000</td>\n",
              "      <td>1</td>\n",
              "      <td>petrol</td>\n",
              "      <td>volkswagen</td>\n",
              "      <td>no</td>\n",
              "    </tr>\n",
              "    <tr>\n",
              "      <th>301885</th>\n",
              "      <td>sedan</td>\n",
              "      <td>2006</td>\n",
              "      <td>manual</td>\n",
              "      <td>130</td>\n",
              "      <td>megane</td>\n",
              "      <td>150000</td>\n",
              "      <td>3</td>\n",
              "      <td>petrol</td>\n",
              "      <td>renault</td>\n",
              "      <td>yes</td>\n",
              "    </tr>\n",
              "    <tr>\n",
              "      <th>153713</th>\n",
              "      <td>wagon</td>\n",
              "      <td>1999</td>\n",
              "      <td>manual</td>\n",
              "      <td>75</td>\n",
              "      <td>astra</td>\n",
              "      <td>150000</td>\n",
              "      <td>12</td>\n",
              "      <td>petrol</td>\n",
              "      <td>opel</td>\n",
              "      <td>yes</td>\n",
              "    </tr>\n",
              "    <tr>\n",
              "      <th>171117</th>\n",
              "      <td>sedan</td>\n",
              "      <td>2000</td>\n",
              "      <td>manual</td>\n",
              "      <td>101</td>\n",
              "      <td>passat</td>\n",
              "      <td>150000</td>\n",
              "      <td>4</td>\n",
              "      <td>petrol</td>\n",
              "      <td>volkswagen</td>\n",
              "      <td>yes</td>\n",
              "    </tr>\n",
              "    <tr>\n",
              "      <th>142073</th>\n",
              "      <td>wagon</td>\n",
              "      <td>2004</td>\n",
              "      <td>auto</td>\n",
              "      <td>204</td>\n",
              "      <td>e_klasse</td>\n",
              "      <td>150000</td>\n",
              "      <td>9</td>\n",
              "      <td>petrol</td>\n",
              "      <td>mercedes_benz</td>\n",
              "      <td>no</td>\n",
              "    </tr>\n",
              "  </tbody>\n",
              "</table>\n",
              "<p>182488 rows × 10 columns</p>\n",
              "</div>"
            ],
            "text/plain": [
              "       VehicleType  RegistrationYear Gearbox  Power        Model  Kilometer  \\\n",
              "132268       small              2001  manual     69      2_reihe     150000   \n",
              "329379     unknown              2017  manual    116          3er     150000   \n",
              "156940       sedan              1998  manual    101       passat     150000   \n",
              "284988       other              1998  manual    102          3er     150000   \n",
              "27400          bus              1997  manual    102  transporter     150000   \n",
              "...            ...               ...     ...    ...          ...        ...   \n",
              "139660       sedan              1998  manual    101         golf     150000   \n",
              "301885       sedan              2006  manual    130       megane     150000   \n",
              "153713       wagon              1999  manual     75        astra     150000   \n",
              "171117       sedan              2000  manual    101       passat     150000   \n",
              "142073       wagon              2004    auto    204     e_klasse     150000   \n",
              "\n",
              "        RegistrationMonth FuelType          Brand Repaired  \n",
              "132268                  6   petrol        peugeot      yes  \n",
              "329379                 11  unknown            bmw       no  \n",
              "156940                  3   petrol     volkswagen       no  \n",
              "284988                  6   petrol            bmw      yes  \n",
              "27400                  12   petrol     volkswagen       no  \n",
              "...                   ...      ...            ...      ...  \n",
              "139660                  1   petrol     volkswagen       no  \n",
              "301885                  3   petrol        renault      yes  \n",
              "153713                 12   petrol           opel      yes  \n",
              "171117                  4   petrol     volkswagen      yes  \n",
              "142073                  9   petrol  mercedes_benz       no  \n",
              "\n",
              "[182488 rows x 10 columns]"
            ]
          },
          "execution_count": 42,
          "metadata": {},
          "output_type": "execute_result"
        }
      ],
      "source": [
        "features_train"
      ]
    },
    {
      "cell_type": "markdown",
      "metadata": {
        "id": "QHjavhwf4tSy"
      },
      "source": [
        "Теперь проведем кодирование и масштабирование признаков"
      ]
    },
    {
      "cell_type": "code",
      "execution_count": null,
      "metadata": {
        "id": "rpSWdEQN4tS0"
      },
      "outputs": [],
      "source": [
        "ce_ord = ce.OrdinalEncoder(cols = ['VehicleType', 'Gearbox', 'Model', 'FuelType', 'Brand', 'Repaired'])\n",
        "features_train = ce_ord.fit_transform(features_train)\n",
        "features_valid = ce_ord.transform(features_valid)\n",
        "features_test = ce_ord.transform(features_test)"
      ]
    },
    {
      "cell_type": "code",
      "execution_count": null,
      "metadata": {
        "id": "z6biTKG14tS0"
      },
      "outputs": [],
      "source": [
        "scaler = StandardScaler()\n",
        "features_train = scaler.fit_transform(features_train)\n",
        "features_valid = scaler.transform(features_valid)\n",
        "features_test = scaler.transform(features_test)"
      ]
    },
    {
      "cell_type": "markdown",
      "metadata": {
        "id": "adOUy0Md4tS0"
      },
      "source": [
        "Напишем функцию для расчета RMSE"
      ]
    },
    {
      "cell_type": "code",
      "execution_count": null,
      "metadata": {
        "id": "jFPALg6M4tS1"
      },
      "outputs": [],
      "source": [
        "def RMSE(target,predictions):\n",
        "    MSE = mean_squared_error(target, predictions)\n",
        "    return MSE ** 0.5\n",
        "RMSE_score = make_scorer(RMSE, greater_is_better=False)"
      ]
    },
    {
      "cell_type": "markdown",
      "source": [
        "Модель Линейной регрессии"
      ],
      "metadata": {
        "id": "fVOyxxJ17C5K"
      }
    },
    {
      "cell_type": "markdown",
      "metadata": {
        "id": "9_H1mUK84tS2"
      },
      "source": [
        "Проверим работу функции, через алгоритм линейной регрессии без указания гиперпараметров, также возьмем эту модель за отправную точку"
      ]
    },
    {
      "cell_type": "code",
      "execution_count": null,
      "metadata": {
        "id": "rNTEsXDD4tS2",
        "outputId": "360a129a-637a-4411-b5ec-f10afcf6b1e6"
      },
      "outputs": [
        {
          "name": "stdout",
          "output_type": "stream",
          "text": [
            "Точность наилучшей модели на валидационной выборке: 3058.15317932484\n",
            "Точность на тестовой выборке- 3064.6408378003216\n",
            "Время обучения модели- 0.03862953186035156 , время предсказания модели - 0.003953456878662109\n"
          ]
        }
      ],
      "source": [
        "model = LinearRegression()\n",
        "start_time = time.time()\n",
        "model.fit(features_train, target_train)\n",
        "first_time = time.time() - start_time\n",
        "\n",
        "predictions_valid = model.predict(features_valid)\n",
        "\n",
        "score = RMSE(target_valid, predictions_valid)\n",
        "\n",
        "start_time2 = time.time()\n",
        "predictions_test = model.predict(features_test)\n",
        "second_time = time.time() - start_time2\n",
        "\n",
        "end_result = RMSE(target_test, predictions_test)\n",
        "\n",
        "Linear_Regressions = (score, first_time, second_time)\n",
        "\n",
        "print(\"Точность наилучшей модели на валидационной выборке:\", score)\n",
        "print('Точность на тестовой выборке-', end_result)\n",
        "print(\"Время обучения модели-\", first_time, ', время предсказания модели -', second_time)"
      ]
    },
    {
      "cell_type": "markdown",
      "metadata": {
        "id": "FQ2LgX1Z4tS2"
      },
      "source": [
        "Обучим LGBM модель"
      ]
    },
    {
      "cell_type": "code",
      "execution_count": null,
      "metadata": {
        "id": "LmGnXF0P4tS3",
        "outputId": "5286b4ac-6dd8-4b8b-c867-d499626f3bfb"
      },
      "outputs": [
        {
          "name": "stdout",
          "output_type": "stream",
          "text": [
            "Точность наилучшей модели на валидационной выборке: 1858.6579571795485 Лучший параметр n_estimators: 50 Лучшая глубина: 15 Лучший параметр leaf: 20\n",
            "Точность на тестовой выборке- 1886.6672214386874\n",
            "Время обучения модели- 13.102743864059448 , время предсказания модели - 0.2902359962463379\n"
          ]
        }
      ],
      "source": [
        "best_model = None\n",
        "best_result= 5000\n",
        "best_est = 0\n",
        "best_depth = 0\n",
        "best_leaf = 0\n",
        "train_time = 0\n",
        "\n",
        "for est in [10,50]:\n",
        "    start_time = time.time()\n",
        "    for depth in [10,15,30]:\n",
        "        for leaf in [10,20]:\n",
        "            model = LGBMRegressor(random_state=12345, learning_rate= 0.1, n_estimators=est, max_depth=depth, num_leaves = leaf)\n",
        "            model.fit(features_train, target_train)\n",
        "            first_time = time.time() - start_time\n",
        "\n",
        "            predictions_valid = model.predict(features_valid)\n",
        "\n",
        "            score = RMSE(target_valid, predictions_valid)\n",
        "\n",
        "            if score < best_result:\n",
        "                best_model = model\n",
        "                best_result = score\n",
        "                best_est = est\n",
        "                best_depth = depth\n",
        "                best_leaf = leaf\n",
        "                train_time = first_time\n",
        "\n",
        "start_time2 = time.time()\n",
        "predictions_test = best_model.predict(features_test)\n",
        "prediction_time = time.time() - start_time2\n",
        "end_result = RMSE(target_test, predictions_test)\n",
        "\n",
        "lgbm = (best_result, train_time, prediction_time)\n",
        "\n",
        "print(\"Точность наилучшей модели на валидационной выборке:\", best_result, \"Лучший параметр n_estimators:\", best_est, \"Лучшая глубина:\", best_depth, \"Лучший параметр leaf:\", leaf)\n",
        "print('Точность на тестовой выборке-', end_result)\n",
        "print(\"Время обучения модели-\", train_time, ', время предсказания модели -', prediction_time)"
      ]
    },
    {
      "cell_type": "markdown",
      "metadata": {
        "id": "3283s_NX4tS3"
      },
      "source": [
        "Обучим RandomForest модель"
      ]
    },
    {
      "cell_type": "code",
      "execution_count": null,
      "metadata": {
        "id": "fPjYGB-R4tS3",
        "outputId": "5a8058b9-babb-42de-c649-5fd72f4c2bb3"
      },
      "outputs": [
        {
          "name": "stdout",
          "output_type": "stream",
          "text": [
            "Точность наилучшей модели на валидационной выборке: 1598.8350605163996 Количество деревьев: 50 Максимальная глубина: 19\n",
            "Точность на тестовой выборке- 1623.7301778044005\n",
            "Время обучения модели- 235.50691890716553 , время предсказания модели - 0.878594160079956\n"
          ]
        }
      ],
      "source": [
        "best_model = None\n",
        "best_result= 5000\n",
        "best_est = 0\n",
        "best_depth = 0\n",
        "train_time = 0\n",
        "\n",
        "for est in range (10, 60, 10):\n",
        "    start_time = time.time()\n",
        "    for depth in range (1, 20):\n",
        "        model = RandomForestRegressor(random_state=12345, n_estimators=est, max_depth=depth)\n",
        "        model.fit(features_train, target_train)\n",
        "        first_time = time.time() - start_time\n",
        "\n",
        "        predictions_valid = model.predict(features_valid)\n",
        "\n",
        "        score = RMSE(target_valid, predictions_valid)\n",
        "\n",
        "        if score < best_result:\n",
        "            best_model = model\n",
        "            best_result = score\n",
        "            best_est = est\n",
        "            best_depth = depth\n",
        "            train_time = first_time\n",
        "\n",
        "start_time2 = time.time()\n",
        "predictions_test = best_model.predict(features_test)\n",
        "prediction_time = time.time() - start_time2\n",
        "end_result = RMSE(target_test, predictions_test)\n",
        "\n",
        "RandomForest = (best_result, train_time, prediction_time)\n",
        "print(\"Точность наилучшей модели на валидационной выборке:\", best_result, \"Количество деревьев:\", best_est, \"Максимальная глубина:\", best_depth)\n",
        "print('Точность на тестовой выборке-', end_result)\n",
        "print(\"Время обучения модели-\", train_time, ', время предсказания модели -', prediction_time)"
      ]
    },
    {
      "cell_type": "markdown",
      "metadata": {
        "id": "KmO4ckDl4tS3"
      },
      "source": [
        "Обучим DecisionTree модель"
      ]
    },
    {
      "cell_type": "code",
      "execution_count": null,
      "metadata": {
        "id": "BHSwbiXz4tS4",
        "outputId": "c2167225-06fd-41b6-d896-4df65c1e34ba"
      },
      "outputs": [
        {
          "name": "stdout",
          "output_type": "stream",
          "text": [
            "Точность наилучшей модели на валидационной выборке: 1918.649862897597 Максимальная глубина: 14\n",
            "Точность на тестовой выборке- 1922.4669066163297\n",
            "Время обучения модели- 0.4857645034790039 , время предсказания модели - 0.011472702026367188\n"
          ]
        }
      ],
      "source": [
        "best_model = None\n",
        "best_result= 5000\n",
        "best_depth = 0\n",
        "train_time = 0\n",
        "\n",
        "for depth in range(1, 20):\n",
        "    start_time = time.time()\n",
        "    model = DecisionTreeRegressor(random_state=12345, max_depth=depth)\n",
        "    model.fit(features_train, target_train)\n",
        "    first_time = time.time() - start_time\n",
        "\n",
        "    predictions_valid = model.predict(features_valid)\n",
        "\n",
        "    score = RMSE(target_valid, predictions_valid)\n",
        "\n",
        "    if score < best_result:\n",
        "        best_model = model\n",
        "        best_result = score\n",
        "        best_depth = depth\n",
        "        train_time = first_time\n",
        "\n",
        "start_time2 = time.time()\n",
        "predictions_test = best_model.predict(features_test)\n",
        "prediction_time = time.time() - start_time2\n",
        "end_result = RMSE(target_test, predictions_test)\n",
        "\n",
        "DecisionTree = (best_result, train_time, prediction_time)\n",
        "print(\"Точность наилучшей модели на валидационной выборке:\", best_result, \"Максимальная глубина:\", best_depth)\n",
        "print('Точность на тестовой выборке-', end_result)\n",
        "print(\"Время обучения модели-\", train_time, ', время предсказания модели -', prediction_time)"
      ]
    },
    {
      "cell_type": "markdown",
      "metadata": {
        "id": "QDFRFJQ94tS4"
      },
      "source": [
        "Обучим CatBoost модель"
      ]
    },
    {
      "cell_type": "code",
      "execution_count": null,
      "metadata": {
        "id": "2Nv9IGsF4tS4",
        "outputId": "39d2d8de-82d3-401a-84c5-044f48e0a315"
      },
      "outputs": [
        {
          "name": "stdout",
          "output_type": "stream",
          "text": [
            "Точность наилучшей модели на валидационной выборке: 1651.6259003577857 Лучший параметр iterations: 100 Лучшая глубина: 14\n",
            "Точность на тестовой выборке- 1674.0717408506844\n",
            "Время обучения модели- 89.49814438819885 , время предсказания модели - 0.04559016227722168\n"
          ]
        }
      ],
      "source": [
        "best_model = None\n",
        "best_result= 5000\n",
        "best_it = 0\n",
        "best_depth = 0\n",
        "train_time = 0\n",
        "\n",
        "for it in [10,50,100]:\n",
        "    start_time = time.time()\n",
        "    for depth in range (1,15):\n",
        "        model = CatBoostRegressor(random_state=12345, iterations= it, max_depth= depth, learning_rate = 0.1, silent=True)\n",
        "        model.fit(features_train, target_train)\n",
        "        first_time = time.time() - start_time\n",
        "\n",
        "        predictions_valid = model.predict(features_valid)\n",
        "\n",
        "        score = RMSE(target_valid, predictions_valid)\n",
        "\n",
        "        if score < best_result:\n",
        "            best_model = model\n",
        "            best_result = score\n",
        "            best_it = it\n",
        "            best_depth = depth\n",
        "            train_time = first_time\n",
        "\n",
        "start_time2 = time.time()\n",
        "predictions_test = best_model.predict(features_test)\n",
        "prediction_time = time.time() - start_time2\n",
        "end_result = RMSE(target_test, predictions_test)\n",
        "\n",
        "CatBoost = (best_result, train_time, prediction_time)\n",
        "print(\"Точность наилучшей модели на валидационной выборке:\", best_result, \"Лучший параметр iterations:\", best_it, \"Лучшая глубина:\", best_depth)\n",
        "print('Точность на тестовой выборке-', end_result)\n",
        "print(\"Время обучения модели-\", train_time, ', время предсказания модели -', prediction_time)"
      ]
    },
    {
      "cell_type": "markdown",
      "metadata": {
        "id": "u3dCNBNN4tS5"
      },
      "source": [
        "## Анализ моделей и итоговый вывод"
      ]
    },
    {
      "cell_type": "code",
      "execution_count": null,
      "metadata": {
        "id": "ePE6oLn64tS6",
        "outputId": "7d43da53-da0c-4c93-a88b-2f44f16141e0"
      },
      "outputs": [
        {
          "data": {
            "text/html": [
              "<div>\n",
              "<style scoped>\n",
              "    .dataframe tbody tr th:only-of-type {\n",
              "        vertical-align: middle;\n",
              "    }\n",
              "\n",
              "    .dataframe tbody tr th {\n",
              "        vertical-align: top;\n",
              "    }\n",
              "\n",
              "    .dataframe thead th {\n",
              "        text-align: right;\n",
              "    }\n",
              "</style>\n",
              "<table border=\"1\" class=\"dataframe\">\n",
              "  <thead>\n",
              "    <tr style=\"text-align: right;\">\n",
              "      <th></th>\n",
              "      <th>RMSE</th>\n",
              "      <th>Время обучения</th>\n",
              "      <th>Время предсказания</th>\n",
              "    </tr>\n",
              "  </thead>\n",
              "  <tbody>\n",
              "    <tr>\n",
              "      <th>Linear_Regression</th>\n",
              "      <td>3058.153179</td>\n",
              "      <td>0.038630</td>\n",
              "      <td>0.003953</td>\n",
              "    </tr>\n",
              "    <tr>\n",
              "      <th>LGBM</th>\n",
              "      <td>1858.657957</td>\n",
              "      <td>13.102744</td>\n",
              "      <td>0.290236</td>\n",
              "    </tr>\n",
              "    <tr>\n",
              "      <th>RandomForest</th>\n",
              "      <td>1598.835061</td>\n",
              "      <td>235.506919</td>\n",
              "      <td>0.878594</td>\n",
              "    </tr>\n",
              "    <tr>\n",
              "      <th>DecisionTree</th>\n",
              "      <td>1918.649863</td>\n",
              "      <td>0.485765</td>\n",
              "      <td>0.011473</td>\n",
              "    </tr>\n",
              "    <tr>\n",
              "      <th>CatBoost</th>\n",
              "      <td>1651.625900</td>\n",
              "      <td>89.498144</td>\n",
              "      <td>0.045590</td>\n",
              "    </tr>\n",
              "  </tbody>\n",
              "</table>\n",
              "</div>"
            ],
            "text/plain": [
              "                          RMSE  Время обучения  Время предсказания\n",
              "Linear_Regression  3058.153179        0.038630            0.003953\n",
              "LGBM               1858.657957       13.102744            0.290236\n",
              "RandomForest       1598.835061      235.506919            0.878594\n",
              "DecisionTree       1918.649863        0.485765            0.011473\n",
              "CatBoost           1651.625900       89.498144            0.045590"
            ]
          },
          "metadata": {},
          "output_type": "display_data"
        }
      ],
      "source": [
        "display(pd.DataFrame([Linear_Regressions, lgbm, RandomForest, DecisionTree, CatBoost],\n",
        "             columns=['RMSE', 'Время обучения', 'Время предсказания'],\n",
        "                      index=['Linear_Regression','LGBM','RandomForest', 'DecisionTree', 'CatBoost']))"
      ]
    },
    {
      "cell_type": "markdown",
      "metadata": {
        "id": "yqTfOgue4tS7"
      },
      "source": [
        "Выводы:\n",
        "1. По итогам работы, самое высокое качество предсказания показала модель- RandomForest\n",
        "2. Самую высокую скорость обучения и предсказания показала модель Линейной регрессии, но это произошло из-за отсутсвия необходимости в переборе гиперпараметров, а самую большую скорость обучения из числа моделей, работающих с перебором гиперпараметров, показало Дерево решений. Cамую высокую скорость предсказания среди можелей с перебором гиперпараметров, также показала модель Дерева решений\n",
        "3. Самое низкое качество предсказания показала модель Линейной регрессии"
      ]
    },
    {
      "cell_type": "markdown",
      "metadata": {
        "id": "OlaTmXmb4tS7"
      },
      "source": [
        "По итогу, наилучший результат с точки зрения качества предсказний, показала модель- RandomForest, однако она, в то-же время показала и самое долгое время обучения и предсказания, намного больше других моделей, Таким образом если клиент хочет воспользоваться некоторой золотой серединой, приоретезировав скорость обучения и предсказания, пусть даже немного в ущерб результатам обучения модели, наиболе оптимальной золотой серединой, для него будет модель- CatBoost.\n",
        "Она показала намного большую скорость обучения и предсказания, но с небольшим уменьшением качества предсказания.\n",
        "Однако, если заказчик хочет приоретезировать именно качество предсказания (пусть даже в ущерб времени обучения) оптимальнее всего будет использовать именно модель- RandomForest."
      ]
    }
  ],
  "metadata": {
    "ExecuteTimeLog": [
      {
        "duration": 406,
        "start_time": "2023-07-03T12:31:12.969Z"
      },
      {
        "duration": 2963,
        "start_time": "2023-07-03T12:31:14.461Z"
      },
      {
        "duration": 32,
        "start_time": "2023-07-03T12:31:36.840Z"
      },
      {
        "duration": 121,
        "start_time": "2023-07-03T12:31:52.872Z"
      },
      {
        "duration": 452,
        "start_time": "2023-07-03T12:32:15.744Z"
      },
      {
        "duration": 1037,
        "start_time": "2023-07-03T12:32:58.577Z"
      },
      {
        "duration": 463,
        "start_time": "2023-07-03T12:33:04.883Z"
      },
      {
        "duration": 823,
        "start_time": "2023-07-03T12:33:12.798Z"
      },
      {
        "duration": 23,
        "start_time": "2023-07-03T12:33:14.065Z"
      },
      {
        "duration": 109,
        "start_time": "2023-07-03T12:33:16.119Z"
      },
      {
        "duration": 3,
        "start_time": "2023-07-03T12:33:21.772Z"
      },
      {
        "duration": 2,
        "start_time": "2023-07-03T12:33:24.302Z"
      },
      {
        "duration": 446,
        "start_time": "2023-07-03T12:33:44.451Z"
      },
      {
        "duration": 456,
        "start_time": "2023-07-03T12:34:33.183Z"
      },
      {
        "duration": 525,
        "start_time": "2023-07-03T12:37:27.166Z"
      },
      {
        "duration": 553,
        "start_time": "2023-07-03T12:37:27.693Z"
      },
      {
        "duration": 123,
        "start_time": "2023-07-03T12:37:30.306Z"
      },
      {
        "duration": 96,
        "start_time": "2023-07-03T12:38:16.389Z"
      },
      {
        "duration": 22,
        "start_time": "2023-07-03T12:42:04.968Z"
      },
      {
        "duration": 72,
        "start_time": "2023-07-03T13:19:25.599Z"
      },
      {
        "duration": 8,
        "start_time": "2023-07-03T13:19:29.708Z"
      },
      {
        "duration": 18,
        "start_time": "2023-07-03T13:19:46.607Z"
      },
      {
        "duration": 124,
        "start_time": "2023-07-03T13:20:26.196Z"
      },
      {
        "duration": 2,
        "start_time": "2023-07-03T13:37:10.828Z"
      },
      {
        "duration": 35,
        "start_time": "2023-07-03T14:43:10.350Z"
      },
      {
        "duration": 14,
        "start_time": "2023-07-03T14:43:29.045Z"
      },
      {
        "duration": 21,
        "start_time": "2023-07-03T15:07:10.745Z"
      },
      {
        "duration": 45,
        "start_time": "2023-07-03T15:09:15.831Z"
      },
      {
        "duration": 8,
        "start_time": "2023-07-03T15:27:32.636Z"
      },
      {
        "duration": 9,
        "start_time": "2023-07-03T15:27:38.837Z"
      },
      {
        "duration": 7,
        "start_time": "2023-07-03T15:29:38.609Z"
      },
      {
        "duration": 10,
        "start_time": "2023-07-03T15:33:25.162Z"
      },
      {
        "duration": 1016,
        "start_time": "2023-07-03T15:33:36.602Z"
      },
      {
        "duration": 9,
        "start_time": "2023-07-03T15:33:49.808Z"
      },
      {
        "duration": 9,
        "start_time": "2023-07-03T15:35:34.588Z"
      },
      {
        "duration": 7,
        "start_time": "2023-07-03T15:35:38.865Z"
      },
      {
        "duration": 24,
        "start_time": "2023-07-03T15:35:52.794Z"
      },
      {
        "duration": 809,
        "start_time": "2023-07-03T15:35:54.529Z"
      },
      {
        "duration": 29,
        "start_time": "2023-07-03T15:35:55.340Z"
      },
      {
        "duration": 431,
        "start_time": "2023-07-03T15:35:56.554Z"
      },
      {
        "duration": 461,
        "start_time": "2023-07-03T15:35:57.007Z"
      },
      {
        "duration": 112,
        "start_time": "2023-07-03T15:35:57.470Z"
      },
      {
        "duration": 22,
        "start_time": "2023-07-03T15:35:57.857Z"
      },
      {
        "duration": 132,
        "start_time": "2023-07-03T15:35:58.367Z"
      },
      {
        "duration": 100,
        "start_time": "2023-07-03T15:35:58.776Z"
      },
      {
        "duration": 106,
        "start_time": "2023-07-03T15:35:59.199Z"
      },
      {
        "duration": 2,
        "start_time": "2023-07-03T15:36:00.556Z"
      },
      {
        "duration": 25,
        "start_time": "2023-07-03T15:36:00.864Z"
      },
      {
        "duration": 15,
        "start_time": "2023-07-03T15:36:01.290Z"
      },
      {
        "duration": 60,
        "start_time": "2023-07-03T15:36:02.186Z"
      },
      {
        "duration": 7,
        "start_time": "2023-07-03T15:36:03.316Z"
      },
      {
        "duration": 7,
        "start_time": "2023-07-03T15:36:03.977Z"
      },
      {
        "duration": 6,
        "start_time": "2023-07-03T15:36:06.224Z"
      },
      {
        "duration": 6,
        "start_time": "2023-07-03T15:36:16.025Z"
      },
      {
        "duration": 8,
        "start_time": "2023-07-03T15:36:34.378Z"
      },
      {
        "duration": 6,
        "start_time": "2023-07-03T15:36:42.768Z"
      },
      {
        "duration": 7,
        "start_time": "2023-07-03T15:37:07.148Z"
      },
      {
        "duration": 7,
        "start_time": "2023-07-03T15:37:15.284Z"
      },
      {
        "duration": 59,
        "start_time": "2023-07-03T15:37:19.188Z"
      },
      {
        "duration": 9,
        "start_time": "2023-07-03T15:52:39.506Z"
      },
      {
        "duration": 81,
        "start_time": "2023-07-03T15:53:09.337Z"
      },
      {
        "duration": 8,
        "start_time": "2023-07-03T15:53:17.869Z"
      },
      {
        "duration": 333,
        "start_time": "2023-07-03T15:54:57.682Z"
      },
      {
        "duration": 0,
        "start_time": "2023-07-03T15:54:58.016Z"
      },
      {
        "duration": 57,
        "start_time": "2023-07-03T15:54:58.433Z"
      },
      {
        "duration": 6,
        "start_time": "2023-07-03T15:55:06.068Z"
      },
      {
        "duration": 6,
        "start_time": "2023-07-03T15:55:06.559Z"
      },
      {
        "duration": 6,
        "start_time": "2023-07-03T15:55:13.852Z"
      },
      {
        "duration": 48,
        "start_time": "2023-07-03T15:55:16.807Z"
      },
      {
        "duration": 3,
        "start_time": "2023-07-03T15:55:17.752Z"
      },
      {
        "duration": 2,
        "start_time": "2023-07-03T15:55:19.808Z"
      },
      {
        "duration": 91,
        "start_time": "2023-07-03T15:55:20.111Z"
      },
      {
        "duration": 38,
        "start_time": "2023-07-03T15:55:45.823Z"
      },
      {
        "duration": 31,
        "start_time": "2023-07-03T15:55:49.342Z"
      },
      {
        "duration": 11,
        "start_time": "2023-07-03T15:57:03.342Z"
      },
      {
        "duration": 822,
        "start_time": "2023-07-03T15:57:23.286Z"
      },
      {
        "duration": 4,
        "start_time": "2023-07-03T15:57:32.936Z"
      },
      {
        "duration": 3,
        "start_time": "2023-07-03T15:57:52.224Z"
      },
      {
        "duration": 25,
        "start_time": "2023-07-03T15:57:52.613Z"
      },
      {
        "duration": 4,
        "start_time": "2023-07-03T15:57:52.952Z"
      },
      {
        "duration": 1110,
        "start_time": "2023-07-03T15:57:54.225Z"
      },
      {
        "duration": 402,
        "start_time": "2023-07-03T15:58:34.392Z"
      },
      {
        "duration": 0,
        "start_time": "2023-07-03T15:58:34.796Z"
      },
      {
        "duration": 750,
        "start_time": "2023-07-03T15:58:41.768Z"
      },
      {
        "duration": 20,
        "start_time": "2023-07-03T15:58:42.520Z"
      },
      {
        "duration": 409,
        "start_time": "2023-07-03T15:58:42.542Z"
      },
      {
        "duration": 452,
        "start_time": "2023-07-03T15:58:42.956Z"
      },
      {
        "duration": 107,
        "start_time": "2023-07-03T15:58:43.410Z"
      },
      {
        "duration": 18,
        "start_time": "2023-07-03T15:58:43.519Z"
      },
      {
        "duration": 120,
        "start_time": "2023-07-03T15:58:43.539Z"
      },
      {
        "duration": 98,
        "start_time": "2023-07-03T15:58:43.662Z"
      },
      {
        "duration": 107,
        "start_time": "2023-07-03T15:58:43.762Z"
      },
      {
        "duration": 2,
        "start_time": "2023-07-03T15:58:43.871Z"
      },
      {
        "duration": 23,
        "start_time": "2023-07-03T15:58:44.048Z"
      },
      {
        "duration": 14,
        "start_time": "2023-07-03T15:58:44.245Z"
      },
      {
        "duration": 47,
        "start_time": "2023-07-03T15:58:44.716Z"
      },
      {
        "duration": 8,
        "start_time": "2023-07-03T15:58:45.408Z"
      },
      {
        "duration": 7,
        "start_time": "2023-07-03T15:58:45.676Z"
      },
      {
        "duration": 7,
        "start_time": "2023-07-03T15:58:45.880Z"
      },
      {
        "duration": 48,
        "start_time": "2023-07-03T15:58:46.328Z"
      },
      {
        "duration": 2,
        "start_time": "2023-07-03T15:58:47.488Z"
      },
      {
        "duration": 49,
        "start_time": "2023-07-03T15:58:47.896Z"
      },
      {
        "duration": 4,
        "start_time": "2023-07-03T15:58:49.628Z"
      },
      {
        "duration": 1541,
        "start_time": "2023-07-03T15:58:49.988Z"
      },
      {
        "duration": 1707,
        "start_time": "2023-07-04T12:22:15.409Z"
      },
      {
        "duration": 0,
        "start_time": "2023-07-04T12:22:17.119Z"
      },
      {
        "duration": 0,
        "start_time": "2023-07-04T12:22:17.120Z"
      },
      {
        "duration": 0,
        "start_time": "2023-07-04T12:22:17.121Z"
      },
      {
        "duration": 0,
        "start_time": "2023-07-04T12:22:17.122Z"
      },
      {
        "duration": 0,
        "start_time": "2023-07-04T12:22:17.123Z"
      },
      {
        "duration": 0,
        "start_time": "2023-07-04T12:22:17.124Z"
      },
      {
        "duration": 0,
        "start_time": "2023-07-04T12:22:17.125Z"
      },
      {
        "duration": 0,
        "start_time": "2023-07-04T12:22:17.126Z"
      },
      {
        "duration": 0,
        "start_time": "2023-07-04T12:22:17.127Z"
      },
      {
        "duration": 0,
        "start_time": "2023-07-04T12:22:17.129Z"
      },
      {
        "duration": 0,
        "start_time": "2023-07-04T12:22:17.130Z"
      },
      {
        "duration": 0,
        "start_time": "2023-07-04T12:22:17.131Z"
      },
      {
        "duration": 0,
        "start_time": "2023-07-04T12:22:17.132Z"
      },
      {
        "duration": 0,
        "start_time": "2023-07-04T12:22:17.133Z"
      },
      {
        "duration": 0,
        "start_time": "2023-07-04T12:22:17.134Z"
      },
      {
        "duration": 0,
        "start_time": "2023-07-04T12:22:17.135Z"
      },
      {
        "duration": 0,
        "start_time": "2023-07-04T12:22:17.136Z"
      },
      {
        "duration": 0,
        "start_time": "2023-07-04T12:22:17.137Z"
      },
      {
        "duration": 0,
        "start_time": "2023-07-04T12:22:17.138Z"
      },
      {
        "duration": 0,
        "start_time": "2023-07-04T12:22:17.139Z"
      },
      {
        "duration": 0,
        "start_time": "2023-07-04T12:22:17.140Z"
      },
      {
        "duration": 0,
        "start_time": "2023-07-04T12:22:17.141Z"
      },
      {
        "duration": 14,
        "start_time": "2023-07-04T12:22:34.817Z"
      },
      {
        "duration": 89,
        "start_time": "2023-07-04T12:22:50.124Z"
      },
      {
        "duration": 3373,
        "start_time": "2023-07-04T12:22:56.012Z"
      },
      {
        "duration": 27,
        "start_time": "2023-07-04T12:22:59.387Z"
      },
      {
        "duration": 587,
        "start_time": "2023-07-04T12:22:59.416Z"
      },
      {
        "duration": 547,
        "start_time": "2023-07-04T12:23:00.005Z"
      },
      {
        "duration": 164,
        "start_time": "2023-07-04T12:23:00.554Z"
      },
      {
        "duration": 22,
        "start_time": "2023-07-04T12:23:00.719Z"
      },
      {
        "duration": 150,
        "start_time": "2023-07-04T12:23:00.743Z"
      },
      {
        "duration": 103,
        "start_time": "2023-07-04T12:23:00.895Z"
      },
      {
        "duration": 124,
        "start_time": "2023-07-04T12:23:01.000Z"
      },
      {
        "duration": 2,
        "start_time": "2023-07-04T12:23:01.126Z"
      },
      {
        "duration": 66,
        "start_time": "2023-07-04T12:23:01.130Z"
      },
      {
        "duration": 27,
        "start_time": "2023-07-04T12:23:01.198Z"
      },
      {
        "duration": 57,
        "start_time": "2023-07-04T12:23:01.227Z"
      },
      {
        "duration": 7,
        "start_time": "2023-07-04T12:23:01.286Z"
      },
      {
        "duration": 15,
        "start_time": "2023-07-04T12:23:01.323Z"
      },
      {
        "duration": 7,
        "start_time": "2023-07-04T12:23:01.730Z"
      },
      {
        "duration": 64,
        "start_time": "2023-07-04T12:23:02.364Z"
      },
      {
        "duration": 3,
        "start_time": "2023-07-04T12:23:02.815Z"
      },
      {
        "duration": 48,
        "start_time": "2023-07-04T12:23:03.038Z"
      },
      {
        "duration": 4,
        "start_time": "2023-07-04T12:23:03.251Z"
      },
      {
        "duration": 1820,
        "start_time": "2023-07-04T12:23:03.509Z"
      },
      {
        "duration": 20,
        "start_time": "2023-07-04T12:23:05.331Z"
      },
      {
        "duration": 95,
        "start_time": "2023-07-04T12:28:54.849Z"
      },
      {
        "duration": 31,
        "start_time": "2023-07-04T12:28:59.412Z"
      },
      {
        "duration": 21,
        "start_time": "2023-07-04T12:29:37.137Z"
      },
      {
        "duration": 45,
        "start_time": "2023-07-04T12:29:43.204Z"
      },
      {
        "duration": 1577,
        "start_time": "2023-07-04T12:30:36.171Z"
      },
      {
        "duration": 779,
        "start_time": "2023-07-04T14:01:13.006Z"
      },
      {
        "duration": 549,
        "start_time": "2023-07-04T14:01:18.109Z"
      },
      {
        "duration": 10,
        "start_time": "2023-07-04T14:04:01.992Z"
      },
      {
        "duration": 1803,
        "start_time": "2023-07-04T14:04:12.898Z"
      },
      {
        "duration": 1900,
        "start_time": "2023-07-04T14:06:30.241Z"
      },
      {
        "duration": 47,
        "start_time": "2023-07-04T14:20:38.518Z"
      },
      {
        "duration": 15,
        "start_time": "2023-07-04T14:20:51.554Z"
      },
      {
        "duration": 26,
        "start_time": "2023-07-04T14:58:34.185Z"
      },
      {
        "duration": 1899,
        "start_time": "2023-07-05T07:24:47.583Z"
      },
      {
        "duration": 2955,
        "start_time": "2023-07-05T07:24:49.485Z"
      },
      {
        "duration": 36,
        "start_time": "2023-07-05T07:24:52.442Z"
      },
      {
        "duration": 530,
        "start_time": "2023-07-05T07:24:52.480Z"
      },
      {
        "duration": 611,
        "start_time": "2023-07-05T07:24:53.013Z"
      },
      {
        "duration": 179,
        "start_time": "2023-07-05T07:24:53.626Z"
      },
      {
        "duration": 25,
        "start_time": "2023-07-05T07:24:53.807Z"
      },
      {
        "duration": 179,
        "start_time": "2023-07-05T07:24:53.833Z"
      },
      {
        "duration": 127,
        "start_time": "2023-07-05T07:24:54.014Z"
      },
      {
        "duration": 148,
        "start_time": "2023-07-05T07:24:54.144Z"
      },
      {
        "duration": 3,
        "start_time": "2023-07-05T07:24:54.294Z"
      },
      {
        "duration": 65,
        "start_time": "2023-07-05T07:24:54.299Z"
      },
      {
        "duration": 26,
        "start_time": "2023-07-05T07:24:54.366Z"
      },
      {
        "duration": 65,
        "start_time": "2023-07-05T07:24:54.395Z"
      },
      {
        "duration": 20,
        "start_time": "2023-07-05T07:24:54.462Z"
      },
      {
        "duration": 27,
        "start_time": "2023-07-05T07:24:54.484Z"
      },
      {
        "duration": 26,
        "start_time": "2023-07-05T07:24:54.513Z"
      },
      {
        "duration": 115,
        "start_time": "2023-07-05T07:24:54.541Z"
      },
      {
        "duration": 3,
        "start_time": "2023-07-05T07:24:54.658Z"
      },
      {
        "duration": 77,
        "start_time": "2023-07-05T07:24:54.662Z"
      },
      {
        "duration": 5,
        "start_time": "2023-07-05T07:24:54.741Z"
      },
      {
        "duration": 1948,
        "start_time": "2023-07-05T07:24:54.748Z"
      },
      {
        "duration": 18,
        "start_time": "2023-07-05T07:24:56.698Z"
      },
      {
        "duration": 66,
        "start_time": "2023-07-05T07:24:56.718Z"
      },
      {
        "duration": 47,
        "start_time": "2023-07-05T07:24:56.786Z"
      },
      {
        "duration": 2079,
        "start_time": "2023-07-05T07:24:56.835Z"
      },
      {
        "duration": 16,
        "start_time": "2023-07-05T07:24:58.916Z"
      },
      {
        "duration": 49,
        "start_time": "2023-07-05T07:24:58.934Z"
      },
      {
        "duration": 77,
        "start_time": "2023-07-05T07:25:03.599Z"
      },
      {
        "duration": 1966,
        "start_time": "2023-07-05T07:31:50.398Z"
      },
      {
        "duration": 5,
        "start_time": "2023-07-05T07:32:27.384Z"
      },
      {
        "duration": 1903,
        "start_time": "2023-07-05T07:32:29.485Z"
      },
      {
        "duration": 4,
        "start_time": "2023-07-05T07:32:44.654Z"
      },
      {
        "duration": 1992,
        "start_time": "2023-07-05T07:32:47.425Z"
      },
      {
        "duration": 5,
        "start_time": "2023-07-05T07:32:59.317Z"
      },
      {
        "duration": 1905,
        "start_time": "2023-07-05T07:33:01.841Z"
      },
      {
        "duration": 4,
        "start_time": "2023-07-05T07:33:17.038Z"
      },
      {
        "duration": 2103,
        "start_time": "2023-07-05T07:33:23.925Z"
      },
      {
        "duration": 53,
        "start_time": "2023-07-05T07:37:06.798Z"
      },
      {
        "duration": 14,
        "start_time": "2023-07-05T07:37:19.470Z"
      },
      {
        "duration": 16,
        "start_time": "2023-07-05T07:37:29.466Z"
      },
      {
        "duration": 18,
        "start_time": "2023-07-05T07:37:35.406Z"
      },
      {
        "duration": 14,
        "start_time": "2023-07-05T07:37:38.846Z"
      },
      {
        "duration": 5,
        "start_time": "2023-07-05T07:38:28.718Z"
      },
      {
        "duration": 126,
        "start_time": "2023-07-05T07:38:40.541Z"
      },
      {
        "duration": 11,
        "start_time": "2023-07-05T07:39:12.257Z"
      },
      {
        "duration": 13,
        "start_time": "2023-07-05T07:39:40.504Z"
      },
      {
        "duration": 12,
        "start_time": "2023-07-05T07:39:44.515Z"
      },
      {
        "duration": 38,
        "start_time": "2023-07-05T07:41:56.763Z"
      },
      {
        "duration": 58,
        "start_time": "2023-07-05T07:43:44.957Z"
      },
      {
        "duration": 101,
        "start_time": "2023-07-05T07:43:52.866Z"
      },
      {
        "duration": 861,
        "start_time": "2023-07-05T07:44:33.956Z"
      },
      {
        "duration": 6,
        "start_time": "2023-07-05T07:44:35.824Z"
      },
      {
        "duration": 833,
        "start_time": "2023-07-05T07:44:35.832Z"
      },
      {
        "duration": 22,
        "start_time": "2023-07-05T07:44:36.667Z"
      },
      {
        "duration": 461,
        "start_time": "2023-07-05T07:44:36.691Z"
      },
      {
        "duration": 504,
        "start_time": "2023-07-05T07:44:37.154Z"
      },
      {
        "duration": 124,
        "start_time": "2023-07-05T07:44:37.660Z"
      },
      {
        "duration": 24,
        "start_time": "2023-07-05T07:44:37.786Z"
      },
      {
        "duration": 142,
        "start_time": "2023-07-05T07:44:37.812Z"
      },
      {
        "duration": 112,
        "start_time": "2023-07-05T07:44:37.956Z"
      },
      {
        "duration": 124,
        "start_time": "2023-07-05T07:44:38.070Z"
      },
      {
        "duration": 5,
        "start_time": "2023-07-05T07:44:38.196Z"
      },
      {
        "duration": 33,
        "start_time": "2023-07-05T07:44:38.202Z"
      },
      {
        "duration": 31,
        "start_time": "2023-07-05T07:44:38.237Z"
      },
      {
        "duration": 11,
        "start_time": "2023-07-05T07:44:38.271Z"
      },
      {
        "duration": 2077,
        "start_time": "2023-07-05T07:44:38.285Z"
      },
      {
        "duration": 66,
        "start_time": "2023-07-05T07:44:40.366Z"
      },
      {
        "duration": 9,
        "start_time": "2023-07-05T07:44:40.434Z"
      },
      {
        "duration": 25,
        "start_time": "2023-07-05T07:44:40.445Z"
      },
      {
        "duration": 39,
        "start_time": "2023-07-05T07:44:40.472Z"
      },
      {
        "duration": 57,
        "start_time": "2023-07-05T07:44:40.513Z"
      },
      {
        "duration": 3,
        "start_time": "2023-07-05T07:44:40.571Z"
      },
      {
        "duration": 65,
        "start_time": "2023-07-05T07:44:40.576Z"
      },
      {
        "duration": 1750,
        "start_time": "2023-07-05T07:44:40.643Z"
      },
      {
        "duration": 18,
        "start_time": "2023-07-05T07:44:42.395Z"
      },
      {
        "duration": 31,
        "start_time": "2023-07-05T07:44:42.415Z"
      },
      {
        "duration": 63,
        "start_time": "2023-07-05T07:44:42.448Z"
      },
      {
        "duration": 2016,
        "start_time": "2023-07-05T07:44:42.514Z"
      },
      {
        "duration": 17,
        "start_time": "2023-07-05T07:44:44.531Z"
      },
      {
        "duration": 37,
        "start_time": "2023-07-05T07:44:44.551Z"
      },
      {
        "duration": 83,
        "start_time": "2023-07-05T07:44:44.590Z"
      },
      {
        "duration": 7,
        "start_time": "2023-07-05T07:52:56.168Z"
      },
      {
        "duration": 86,
        "start_time": "2023-07-05T07:53:19.334Z"
      },
      {
        "duration": 79,
        "start_time": "2023-07-05T07:53:27.606Z"
      },
      {
        "duration": 23,
        "start_time": "2023-07-05T07:54:55.914Z"
      },
      {
        "duration": 5,
        "start_time": "2023-07-05T07:55:07.485Z"
      },
      {
        "duration": 1934,
        "start_time": "2023-07-05T07:55:10.285Z"
      },
      {
        "duration": 2207,
        "start_time": "2023-07-05T07:55:31.973Z"
      },
      {
        "duration": 5,
        "start_time": "2023-07-05T07:55:52.715Z"
      },
      {
        "duration": 1771,
        "start_time": "2023-07-05T07:55:55.074Z"
      },
      {
        "duration": 1771,
        "start_time": "2023-07-05T07:56:18.313Z"
      },
      {
        "duration": 75,
        "start_time": "2023-07-05T07:56:22.900Z"
      },
      {
        "duration": 13,
        "start_time": "2023-07-05T08:20:06.921Z"
      },
      {
        "duration": 2302,
        "start_time": "2023-07-05T09:01:43.181Z"
      },
      {
        "duration": 25,
        "start_time": "2023-07-05T09:01:51.774Z"
      },
      {
        "duration": 39,
        "start_time": "2023-07-05T09:02:18.880Z"
      },
      {
        "duration": 12,
        "start_time": "2023-07-05T09:06:13.574Z"
      },
      {
        "duration": 45,
        "start_time": "2023-07-05T09:06:16.166Z"
      },
      {
        "duration": 58,
        "start_time": "2023-07-05T09:28:55.175Z"
      },
      {
        "duration": 41,
        "start_time": "2023-07-05T09:44:41.323Z"
      },
      {
        "duration": 40,
        "start_time": "2023-07-05T09:47:46.797Z"
      },
      {
        "duration": 42,
        "start_time": "2023-07-05T09:47:47.106Z"
      },
      {
        "duration": 36,
        "start_time": "2023-07-05T09:47:47.525Z"
      },
      {
        "duration": 40,
        "start_time": "2023-07-05T09:47:49.201Z"
      },
      {
        "duration": 52,
        "start_time": "2023-07-05T10:22:43.227Z"
      },
      {
        "duration": 66,
        "start_time": "2023-07-05T10:23:54.047Z"
      },
      {
        "duration": 47,
        "start_time": "2023-07-05T10:24:21.838Z"
      },
      {
        "duration": 65,
        "start_time": "2023-07-05T10:26:07.350Z"
      },
      {
        "duration": 9,
        "start_time": "2023-07-05T10:26:29.616Z"
      },
      {
        "duration": 844,
        "start_time": "2023-07-05T10:26:29.627Z"
      },
      {
        "duration": 29,
        "start_time": "2023-07-05T10:26:30.473Z"
      },
      {
        "duration": 483,
        "start_time": "2023-07-05T10:26:30.504Z"
      },
      {
        "duration": 517,
        "start_time": "2023-07-05T10:26:30.989Z"
      },
      {
        "duration": 127,
        "start_time": "2023-07-05T10:26:31.508Z"
      },
      {
        "duration": 87,
        "start_time": "2023-07-05T10:26:31.637Z"
      },
      {
        "duration": 136,
        "start_time": "2023-07-05T10:26:31.726Z"
      },
      {
        "duration": 90,
        "start_time": "2023-07-05T10:26:31.866Z"
      },
      {
        "duration": 108,
        "start_time": "2023-07-05T10:26:31.968Z"
      },
      {
        "duration": 40,
        "start_time": "2023-07-05T10:26:32.077Z"
      },
      {
        "duration": 47,
        "start_time": "2023-07-05T10:26:32.119Z"
      },
      {
        "duration": 15,
        "start_time": "2023-07-05T10:26:32.168Z"
      },
      {
        "duration": 28,
        "start_time": "2023-07-05T10:26:32.185Z"
      },
      {
        "duration": 1855,
        "start_time": "2023-07-05T10:26:32.215Z"
      },
      {
        "duration": 48,
        "start_time": "2023-07-05T10:26:34.073Z"
      },
      {
        "duration": 12,
        "start_time": "2023-07-05T10:26:34.123Z"
      },
      {
        "duration": 30,
        "start_time": "2023-07-05T10:26:34.137Z"
      },
      {
        "duration": 7,
        "start_time": "2023-07-05T10:26:34.171Z"
      },
      {
        "duration": 70,
        "start_time": "2023-07-05T10:26:34.179Z"
      },
      {
        "duration": 3,
        "start_time": "2023-07-05T10:26:34.251Z"
      },
      {
        "duration": 62,
        "start_time": "2023-07-05T10:26:34.256Z"
      },
      {
        "duration": 1753,
        "start_time": "2023-07-05T10:26:34.320Z"
      },
      {
        "duration": 16,
        "start_time": "2023-07-05T10:26:36.075Z"
      },
      {
        "duration": 43,
        "start_time": "2023-07-05T10:26:36.093Z"
      },
      {
        "duration": 50,
        "start_time": "2023-07-05T10:26:36.138Z"
      },
      {
        "duration": 1716,
        "start_time": "2023-07-05T10:26:36.190Z"
      },
      {
        "duration": 17,
        "start_time": "2023-07-05T10:26:37.909Z"
      },
      {
        "duration": 41,
        "start_time": "2023-07-05T10:26:37.928Z"
      },
      {
        "duration": 64,
        "start_time": "2023-07-05T10:26:37.970Z"
      },
      {
        "duration": 11,
        "start_time": "2023-07-05T10:26:38.035Z"
      },
      {
        "duration": 0,
        "start_time": "2023-07-05T10:26:38.048Z"
      },
      {
        "duration": 0,
        "start_time": "2023-07-05T10:26:38.068Z"
      },
      {
        "duration": 0,
        "start_time": "2023-07-05T10:26:38.070Z"
      },
      {
        "duration": 0,
        "start_time": "2023-07-05T10:26:38.072Z"
      },
      {
        "duration": 0,
        "start_time": "2023-07-05T10:26:38.073Z"
      },
      {
        "duration": 0,
        "start_time": "2023-07-05T10:26:38.075Z"
      },
      {
        "duration": 0,
        "start_time": "2023-07-05T10:26:38.077Z"
      },
      {
        "duration": 0,
        "start_time": "2023-07-05T10:26:38.078Z"
      },
      {
        "duration": 1800,
        "start_time": "2023-07-05T12:20:53.334Z"
      },
      {
        "duration": 2781,
        "start_time": "2023-07-05T12:20:55.136Z"
      },
      {
        "duration": 26,
        "start_time": "2023-07-05T12:20:57.919Z"
      },
      {
        "duration": 462,
        "start_time": "2023-07-05T12:20:57.947Z"
      },
      {
        "duration": 489,
        "start_time": "2023-07-05T12:20:58.412Z"
      },
      {
        "duration": 153,
        "start_time": "2023-07-05T12:20:58.903Z"
      },
      {
        "duration": 27,
        "start_time": "2023-07-05T12:20:59.057Z"
      },
      {
        "duration": 148,
        "start_time": "2023-07-05T12:20:59.086Z"
      },
      {
        "duration": 100,
        "start_time": "2023-07-05T12:20:59.236Z"
      },
      {
        "duration": 110,
        "start_time": "2023-07-05T12:20:59.337Z"
      },
      {
        "duration": 4,
        "start_time": "2023-07-05T12:20:59.449Z"
      },
      {
        "duration": 54,
        "start_time": "2023-07-05T12:20:59.454Z"
      },
      {
        "duration": 11,
        "start_time": "2023-07-05T12:20:59.510Z"
      },
      {
        "duration": 55,
        "start_time": "2023-07-05T12:20:59.524Z"
      },
      {
        "duration": 2064,
        "start_time": "2023-07-05T12:20:59.581Z"
      },
      {
        "duration": 40,
        "start_time": "2023-07-05T12:21:01.647Z"
      },
      {
        "duration": 7,
        "start_time": "2023-07-05T12:21:01.688Z"
      },
      {
        "duration": 39,
        "start_time": "2023-07-05T12:21:01.696Z"
      },
      {
        "duration": 31,
        "start_time": "2023-07-05T12:21:01.736Z"
      },
      {
        "duration": 78,
        "start_time": "2023-07-05T12:21:01.769Z"
      },
      {
        "duration": 2,
        "start_time": "2023-07-05T12:21:01.849Z"
      },
      {
        "duration": 59,
        "start_time": "2023-07-05T12:21:01.853Z"
      },
      {
        "duration": 1762,
        "start_time": "2023-07-05T12:21:01.915Z"
      },
      {
        "duration": 35,
        "start_time": "2023-07-05T12:21:03.679Z"
      },
      {
        "duration": 31,
        "start_time": "2023-07-05T12:21:03.716Z"
      },
      {
        "duration": 50,
        "start_time": "2023-07-05T12:21:03.749Z"
      },
      {
        "duration": 2001,
        "start_time": "2023-07-05T12:21:03.801Z"
      },
      {
        "duration": 22,
        "start_time": "2023-07-05T12:21:05.804Z"
      },
      {
        "duration": 36,
        "start_time": "2023-07-05T12:21:05.828Z"
      },
      {
        "duration": 64,
        "start_time": "2023-07-05T12:21:05.866Z"
      },
      {
        "duration": 137,
        "start_time": "2023-07-05T12:21:05.931Z"
      },
      {
        "duration": 0,
        "start_time": "2023-07-05T12:21:06.069Z"
      },
      {
        "duration": 0,
        "start_time": "2023-07-05T12:21:06.071Z"
      },
      {
        "duration": 0,
        "start_time": "2023-07-05T12:21:06.073Z"
      },
      {
        "duration": 0,
        "start_time": "2023-07-05T12:21:06.074Z"
      },
      {
        "duration": 0,
        "start_time": "2023-07-05T12:21:06.076Z"
      },
      {
        "duration": 0,
        "start_time": "2023-07-05T12:21:06.077Z"
      },
      {
        "duration": 0,
        "start_time": "2023-07-05T12:21:06.079Z"
      },
      {
        "duration": 6,
        "start_time": "2023-07-05T12:21:19.152Z"
      },
      {
        "duration": 897,
        "start_time": "2023-07-05T12:21:19.160Z"
      },
      {
        "duration": 23,
        "start_time": "2023-07-05T12:21:20.059Z"
      },
      {
        "duration": 413,
        "start_time": "2023-07-05T12:21:20.083Z"
      },
      {
        "duration": 442,
        "start_time": "2023-07-05T12:21:20.499Z"
      },
      {
        "duration": 114,
        "start_time": "2023-07-05T12:21:20.942Z"
      },
      {
        "duration": 21,
        "start_time": "2023-07-05T12:21:21.058Z"
      },
      {
        "duration": 121,
        "start_time": "2023-07-05T12:21:21.081Z"
      },
      {
        "duration": 94,
        "start_time": "2023-07-05T12:21:21.204Z"
      },
      {
        "duration": 126,
        "start_time": "2023-07-05T12:21:21.300Z"
      },
      {
        "duration": 60,
        "start_time": "2023-07-05T12:21:21.428Z"
      },
      {
        "duration": 107,
        "start_time": "2023-07-05T12:21:21.490Z"
      },
      {
        "duration": 54,
        "start_time": "2023-07-05T12:21:21.599Z"
      },
      {
        "duration": 35,
        "start_time": "2023-07-05T12:21:21.657Z"
      },
      {
        "duration": 1875,
        "start_time": "2023-07-05T12:21:21.694Z"
      },
      {
        "duration": 58,
        "start_time": "2023-07-05T12:21:23.571Z"
      },
      {
        "duration": 8,
        "start_time": "2023-07-05T12:21:23.632Z"
      },
      {
        "duration": 37,
        "start_time": "2023-07-05T12:21:23.642Z"
      },
      {
        "duration": 16,
        "start_time": "2023-07-05T12:21:23.682Z"
      },
      {
        "duration": 65,
        "start_time": "2023-07-05T12:21:23.699Z"
      },
      {
        "duration": 3,
        "start_time": "2023-07-05T12:21:23.765Z"
      },
      {
        "duration": 47,
        "start_time": "2023-07-05T12:21:23.770Z"
      },
      {
        "duration": 1794,
        "start_time": "2023-07-05T12:21:23.819Z"
      },
      {
        "duration": 18,
        "start_time": "2023-07-05T12:21:25.614Z"
      },
      {
        "duration": 36,
        "start_time": "2023-07-05T12:21:25.634Z"
      },
      {
        "duration": 59,
        "start_time": "2023-07-05T12:21:25.672Z"
      },
      {
        "duration": 1780,
        "start_time": "2023-07-05T12:21:25.733Z"
      },
      {
        "duration": 14,
        "start_time": "2023-07-05T12:21:27.515Z"
      },
      {
        "duration": 21,
        "start_time": "2023-07-05T12:21:27.531Z"
      },
      {
        "duration": 88,
        "start_time": "2023-07-05T12:21:27.554Z"
      },
      {
        "duration": 11,
        "start_time": "2023-07-05T12:21:27.644Z"
      },
      {
        "duration": 0,
        "start_time": "2023-07-05T12:21:27.657Z"
      },
      {
        "duration": 0,
        "start_time": "2023-07-05T12:21:27.659Z"
      },
      {
        "duration": 0,
        "start_time": "2023-07-05T12:21:27.660Z"
      },
      {
        "duration": 0,
        "start_time": "2023-07-05T12:21:27.662Z"
      },
      {
        "duration": 0,
        "start_time": "2023-07-05T12:21:27.663Z"
      },
      {
        "duration": 0,
        "start_time": "2023-07-05T12:21:27.665Z"
      },
      {
        "duration": 0,
        "start_time": "2023-07-05T12:21:27.666Z"
      },
      {
        "duration": 0,
        "start_time": "2023-07-05T12:21:27.668Z"
      },
      {
        "duration": 6,
        "start_time": "2023-07-05T12:21:46.978Z"
      },
      {
        "duration": 814,
        "start_time": "2023-07-05T12:21:46.987Z"
      },
      {
        "duration": 26,
        "start_time": "2023-07-05T12:21:47.804Z"
      },
      {
        "duration": 454,
        "start_time": "2023-07-05T12:21:47.833Z"
      },
      {
        "duration": 482,
        "start_time": "2023-07-05T12:21:48.289Z"
      },
      {
        "duration": 159,
        "start_time": "2023-07-05T12:21:48.773Z"
      },
      {
        "duration": 23,
        "start_time": "2023-07-05T12:21:48.934Z"
      },
      {
        "duration": 135,
        "start_time": "2023-07-05T12:21:48.959Z"
      },
      {
        "duration": 105,
        "start_time": "2023-07-05T12:21:49.095Z"
      },
      {
        "duration": 135,
        "start_time": "2023-07-05T12:21:49.201Z"
      },
      {
        "duration": 4,
        "start_time": "2023-07-05T12:21:49.338Z"
      },
      {
        "duration": 25,
        "start_time": "2023-07-05T12:21:49.343Z"
      },
      {
        "duration": 12,
        "start_time": "2023-07-05T12:21:49.371Z"
      },
      {
        "duration": 42,
        "start_time": "2023-07-05T12:21:49.386Z"
      },
      {
        "duration": 1942,
        "start_time": "2023-07-05T12:21:49.430Z"
      },
      {
        "duration": 54,
        "start_time": "2023-07-05T12:21:51.374Z"
      },
      {
        "duration": 7,
        "start_time": "2023-07-05T12:21:51.430Z"
      },
      {
        "duration": 39,
        "start_time": "2023-07-05T12:21:51.439Z"
      },
      {
        "duration": 33,
        "start_time": "2023-07-05T12:21:51.480Z"
      },
      {
        "duration": 80,
        "start_time": "2023-07-05T12:21:51.515Z"
      },
      {
        "duration": 2,
        "start_time": "2023-07-05T12:21:51.597Z"
      },
      {
        "duration": 72,
        "start_time": "2023-07-05T12:21:51.601Z"
      },
      {
        "duration": 1812,
        "start_time": "2023-07-05T12:21:51.675Z"
      },
      {
        "duration": 25,
        "start_time": "2023-07-05T12:21:53.489Z"
      },
      {
        "duration": 27,
        "start_time": "2023-07-05T12:21:53.516Z"
      },
      {
        "duration": 48,
        "start_time": "2023-07-05T12:21:53.544Z"
      },
      {
        "duration": 1849,
        "start_time": "2023-07-05T12:21:53.594Z"
      },
      {
        "duration": 18,
        "start_time": "2023-07-05T12:21:55.445Z"
      },
      {
        "duration": 49,
        "start_time": "2023-07-05T12:21:55.465Z"
      },
      {
        "duration": 79,
        "start_time": "2023-07-05T12:21:55.516Z"
      },
      {
        "duration": 26,
        "start_time": "2023-07-05T12:21:55.597Z"
      },
      {
        "duration": 0,
        "start_time": "2023-07-05T12:21:55.625Z"
      },
      {
        "duration": 0,
        "start_time": "2023-07-05T12:21:55.627Z"
      },
      {
        "duration": 0,
        "start_time": "2023-07-05T12:21:55.628Z"
      },
      {
        "duration": 1,
        "start_time": "2023-07-05T12:21:55.630Z"
      },
      {
        "duration": 0,
        "start_time": "2023-07-05T12:21:55.632Z"
      },
      {
        "duration": 0,
        "start_time": "2023-07-05T12:21:55.634Z"
      },
      {
        "duration": 0,
        "start_time": "2023-07-05T12:21:55.635Z"
      },
      {
        "duration": 0,
        "start_time": "2023-07-05T12:21:55.637Z"
      },
      {
        "duration": 54,
        "start_time": "2023-07-05T12:22:03.451Z"
      },
      {
        "duration": 82,
        "start_time": "2023-07-05T12:22:03.871Z"
      },
      {
        "duration": 50,
        "start_time": "2023-07-05T12:22:04.425Z"
      },
      {
        "duration": 53,
        "start_time": "2023-07-05T12:22:04.607Z"
      },
      {
        "duration": 65,
        "start_time": "2023-07-05T12:22:04.782Z"
      },
      {
        "duration": 51,
        "start_time": "2023-07-05T12:22:04.959Z"
      },
      {
        "duration": 58,
        "start_time": "2023-07-05T12:22:05.147Z"
      },
      {
        "duration": 10,
        "start_time": "2023-07-05T12:22:05.330Z"
      },
      {
        "duration": 65,
        "start_time": "2023-07-05T12:22:10.695Z"
      },
      {
        "duration": 69,
        "start_time": "2023-07-05T12:22:32.135Z"
      },
      {
        "duration": 56,
        "start_time": "2023-07-05T12:22:35.334Z"
      },
      {
        "duration": 79,
        "start_time": "2023-07-05T12:22:45.645Z"
      },
      {
        "duration": 8,
        "start_time": "2023-07-05T12:22:51.074Z"
      },
      {
        "duration": 861,
        "start_time": "2023-07-05T12:22:51.085Z"
      },
      {
        "duration": 24,
        "start_time": "2023-07-05T12:22:51.947Z"
      },
      {
        "duration": 455,
        "start_time": "2023-07-05T12:22:51.974Z"
      },
      {
        "duration": 476,
        "start_time": "2023-07-05T12:22:52.431Z"
      },
      {
        "duration": 121,
        "start_time": "2023-07-05T12:22:52.909Z"
      },
      {
        "duration": 23,
        "start_time": "2023-07-05T12:22:53.032Z"
      },
      {
        "duration": 173,
        "start_time": "2023-07-05T12:22:53.057Z"
      },
      {
        "duration": 105,
        "start_time": "2023-07-05T12:22:53.232Z"
      },
      {
        "duration": 110,
        "start_time": "2023-07-05T12:22:53.340Z"
      },
      {
        "duration": 4,
        "start_time": "2023-07-05T12:22:53.452Z"
      },
      {
        "duration": 56,
        "start_time": "2023-07-05T12:22:53.457Z"
      },
      {
        "duration": 12,
        "start_time": "2023-07-05T12:22:53.515Z"
      },
      {
        "duration": 16,
        "start_time": "2023-07-05T12:22:53.528Z"
      },
      {
        "duration": 1955,
        "start_time": "2023-07-05T12:22:53.545Z"
      },
      {
        "duration": 46,
        "start_time": "2023-07-05T12:22:55.502Z"
      },
      {
        "duration": 6,
        "start_time": "2023-07-05T12:22:55.550Z"
      },
      {
        "duration": 8,
        "start_time": "2023-07-05T12:22:55.558Z"
      },
      {
        "duration": 6,
        "start_time": "2023-07-05T12:22:55.568Z"
      },
      {
        "duration": 88,
        "start_time": "2023-07-05T12:22:55.576Z"
      },
      {
        "duration": 3,
        "start_time": "2023-07-05T12:22:55.666Z"
      },
      {
        "duration": 76,
        "start_time": "2023-07-05T12:22:55.671Z"
      },
      {
        "duration": 1833,
        "start_time": "2023-07-05T12:22:55.749Z"
      },
      {
        "duration": 16,
        "start_time": "2023-07-05T12:22:57.584Z"
      },
      {
        "duration": 34,
        "start_time": "2023-07-05T12:22:57.614Z"
      },
      {
        "duration": 66,
        "start_time": "2023-07-05T12:22:57.649Z"
      },
      {
        "duration": 1856,
        "start_time": "2023-07-05T12:22:57.717Z"
      },
      {
        "duration": 19,
        "start_time": "2023-07-05T12:22:59.578Z"
      },
      {
        "duration": 39,
        "start_time": "2023-07-05T12:22:59.599Z"
      },
      {
        "duration": 88,
        "start_time": "2023-07-05T12:22:59.640Z"
      },
      {
        "duration": 50,
        "start_time": "2023-07-05T12:22:59.731Z"
      },
      {
        "duration": 131,
        "start_time": "2023-07-05T12:22:59.783Z"
      },
      {
        "duration": 55,
        "start_time": "2023-07-05T12:22:59.916Z"
      },
      {
        "duration": 66,
        "start_time": "2023-07-05T12:22:59.974Z"
      },
      {
        "duration": 50,
        "start_time": "2023-07-05T12:23:00.042Z"
      },
      {
        "duration": 196,
        "start_time": "2023-07-05T12:23:00.093Z"
      },
      {
        "duration": 80,
        "start_time": "2023-07-05T12:23:00.291Z"
      },
      {
        "duration": 71,
        "start_time": "2023-07-05T12:23:00.373Z"
      },
      {
        "duration": 99,
        "start_time": "2023-07-05T12:25:02.095Z"
      },
      {
        "duration": 37,
        "start_time": "2023-07-05T12:25:18.592Z"
      },
      {
        "duration": 13,
        "start_time": "2023-07-05T12:25:32.825Z"
      },
      {
        "duration": 60,
        "start_time": "2023-07-05T12:25:47.436Z"
      },
      {
        "duration": 66,
        "start_time": "2023-07-05T12:26:00.696Z"
      },
      {
        "duration": 13,
        "start_time": "2023-07-05T12:27:28.292Z"
      },
      {
        "duration": 18,
        "start_time": "2023-07-05T12:28:04.432Z"
      },
      {
        "duration": 17,
        "start_time": "2023-07-05T12:28:19.467Z"
      },
      {
        "duration": 3606,
        "start_time": "2023-07-05T12:28:59.067Z"
      },
      {
        "duration": 46,
        "start_time": "2023-07-05T12:29:06.771Z"
      },
      {
        "duration": 28,
        "start_time": "2023-07-05T12:29:18.015Z"
      },
      {
        "duration": 18,
        "start_time": "2023-07-05T12:29:35.963Z"
      },
      {
        "duration": 7,
        "start_time": "2023-07-05T12:29:39.759Z"
      },
      {
        "duration": 9,
        "start_time": "2023-07-05T12:29:43.953Z"
      },
      {
        "duration": 18,
        "start_time": "2023-07-05T12:29:47.146Z"
      },
      {
        "duration": 1101,
        "start_time": "2023-07-05T12:37:39.155Z"
      },
      {
        "duration": 103,
        "start_time": "2023-07-05T12:38:07.752Z"
      },
      {
        "duration": 17,
        "start_time": "2023-07-05T12:41:44.543Z"
      },
      {
        "duration": 57,
        "start_time": "2023-07-05T12:41:44.830Z"
      },
      {
        "duration": 10,
        "start_time": "2023-07-05T13:23:37.797Z"
      },
      {
        "duration": 3,
        "start_time": "2023-07-05T13:23:41.032Z"
      },
      {
        "duration": 5,
        "start_time": "2023-07-05T13:23:41.600Z"
      },
      {
        "duration": 303102,
        "start_time": "2023-07-05T13:23:42.520Z"
      },
      {
        "duration": 16,
        "start_time": "2023-07-05T13:30:05.523Z"
      },
      {
        "duration": 15,
        "start_time": "2023-07-05T13:32:02.541Z"
      },
      {
        "duration": 4,
        "start_time": "2023-07-05T13:32:18.133Z"
      },
      {
        "duration": 5,
        "start_time": "2023-07-05T13:32:24.945Z"
      },
      {
        "duration": 147922,
        "start_time": "2023-07-05T13:32:38.828Z"
      },
      {
        "duration": 0,
        "start_time": "2023-07-05T13:35:06.752Z"
      },
      {
        "duration": 213124,
        "start_time": "2023-07-05T13:41:19.020Z"
      },
      {
        "duration": 0,
        "start_time": "2023-07-05T13:44:52.214Z"
      },
      {
        "duration": 0,
        "start_time": "2023-07-05T13:44:52.215Z"
      },
      {
        "duration": 76814,
        "start_time": "2023-07-05T13:46:53.517Z"
      },
      {
        "duration": 687994,
        "start_time": "2023-07-05T13:48:10.333Z"
      },
      {
        "duration": 0,
        "start_time": "2023-07-05T13:59:38.331Z"
      },
      {
        "duration": 0,
        "start_time": "2023-07-05T13:59:38.332Z"
      },
      {
        "duration": 0,
        "start_time": "2023-07-05T13:59:38.333Z"
      },
      {
        "duration": 0,
        "start_time": "2023-07-05T13:59:38.334Z"
      },
      {
        "duration": 4,
        "start_time": "2023-07-05T13:59:41.753Z"
      },
      {
        "duration": 154804,
        "start_time": "2023-07-05T13:59:44.633Z"
      },
      {
        "duration": 0,
        "start_time": "2023-07-05T14:02:19.439Z"
      },
      {
        "duration": 0,
        "start_time": "2023-07-05T14:02:19.440Z"
      },
      {
        "duration": 0,
        "start_time": "2023-07-05T14:02:19.441Z"
      },
      {
        "duration": 312119,
        "start_time": "2023-07-05T14:02:21.306Z"
      },
      {
        "duration": 0,
        "start_time": "2023-07-05T14:07:33.427Z"
      },
      {
        "duration": 0,
        "start_time": "2023-07-05T14:07:33.428Z"
      },
      {
        "duration": 0,
        "start_time": "2023-07-05T14:07:33.429Z"
      },
      {
        "duration": 4,
        "start_time": "2023-07-05T14:19:10.571Z"
      },
      {
        "duration": 14368,
        "start_time": "2023-07-05T14:19:16.431Z"
      },
      {
        "duration": 10642,
        "start_time": "2023-07-05T14:19:33.107Z"
      },
      {
        "duration": 4,
        "start_time": "2023-07-05T14:20:39.142Z"
      },
      {
        "duration": 10761,
        "start_time": "2023-07-05T14:20:43.262Z"
      },
      {
        "duration": 5,
        "start_time": "2023-07-05T14:21:53.997Z"
      },
      {
        "duration": 10441,
        "start_time": "2023-07-05T14:21:59.046Z"
      },
      {
        "duration": 54652,
        "start_time": "2023-07-05T14:22:09.488Z"
      },
      {
        "duration": 0,
        "start_time": "2023-07-05T14:23:04.142Z"
      },
      {
        "duration": 9,
        "start_time": "2023-07-05T14:23:07.836Z"
      },
      {
        "duration": 2,
        "start_time": "2023-07-05T14:24:05.867Z"
      },
      {
        "duration": 11,
        "start_time": "2023-07-05T14:24:11.895Z"
      },
      {
        "duration": 32,
        "start_time": "2023-07-05T14:24:25.114Z"
      },
      {
        "duration": 0,
        "start_time": "2023-07-05T14:26:12.481Z"
      },
      {
        "duration": 0,
        "start_time": "2023-07-05T14:26:12.482Z"
      },
      {
        "duration": 74376,
        "start_time": "2023-07-05T14:27:27.674Z"
      },
      {
        "duration": 23819,
        "start_time": "2023-07-05T14:32:53.253Z"
      },
      {
        "duration": 0,
        "start_time": "2023-07-05T14:33:17.074Z"
      },
      {
        "duration": 184477,
        "start_time": "2023-07-05T14:33:18.261Z"
      },
      {
        "duration": 12,
        "start_time": "2023-07-05T14:36:22.918Z"
      },
      {
        "duration": 1600,
        "start_time": "2023-07-05T14:37:56.514Z"
      },
      {
        "duration": 1349,
        "start_time": "2023-07-05T14:38:03.365Z"
      },
      {
        "duration": 4818,
        "start_time": "2023-07-06T05:14:48.283Z"
      },
      {
        "duration": 3,
        "start_time": "2023-07-06T05:14:53.103Z"
      },
      {
        "duration": 1112,
        "start_time": "2023-07-06T05:14:53.108Z"
      },
      {
        "duration": 28,
        "start_time": "2023-07-06T05:14:54.222Z"
      },
      {
        "duration": 463,
        "start_time": "2023-07-06T05:14:54.252Z"
      },
      {
        "duration": 482,
        "start_time": "2023-07-06T05:14:54.717Z"
      },
      {
        "duration": 175,
        "start_time": "2023-07-06T05:14:55.201Z"
      },
      {
        "duration": 23,
        "start_time": "2023-07-06T05:14:55.377Z"
      },
      {
        "duration": 164,
        "start_time": "2023-07-06T05:14:55.402Z"
      },
      {
        "duration": 109,
        "start_time": "2023-07-06T05:14:55.567Z"
      },
      {
        "duration": 153,
        "start_time": "2023-07-06T05:14:55.679Z"
      },
      {
        "duration": 5,
        "start_time": "2023-07-06T05:14:55.834Z"
      },
      {
        "duration": 44,
        "start_time": "2023-07-06T05:14:55.841Z"
      },
      {
        "duration": 12,
        "start_time": "2023-07-06T05:14:55.889Z"
      },
      {
        "duration": 32,
        "start_time": "2023-07-06T05:14:55.902Z"
      },
      {
        "duration": 1813,
        "start_time": "2023-07-06T05:14:55.936Z"
      },
      {
        "duration": 38,
        "start_time": "2023-07-06T05:14:57.750Z"
      },
      {
        "duration": 6,
        "start_time": "2023-07-06T05:14:57.790Z"
      },
      {
        "duration": 16,
        "start_time": "2023-07-06T05:14:57.797Z"
      },
      {
        "duration": 20,
        "start_time": "2023-07-06T05:14:57.815Z"
      },
      {
        "duration": 58,
        "start_time": "2023-07-06T05:14:57.837Z"
      },
      {
        "duration": 3,
        "start_time": "2023-07-06T05:14:57.896Z"
      },
      {
        "duration": 61,
        "start_time": "2023-07-06T05:14:57.900Z"
      },
      {
        "duration": 1553,
        "start_time": "2023-07-06T05:14:57.963Z"
      },
      {
        "duration": 23,
        "start_time": "2023-07-06T05:14:59.518Z"
      },
      {
        "duration": 56,
        "start_time": "2023-07-06T05:14:59.542Z"
      },
      {
        "duration": 38,
        "start_time": "2023-07-06T05:14:59.599Z"
      },
      {
        "duration": 1617,
        "start_time": "2023-07-06T05:14:59.639Z"
      },
      {
        "duration": 13,
        "start_time": "2023-07-06T05:15:01.257Z"
      },
      {
        "duration": 154,
        "start_time": "2023-07-06T05:15:01.272Z"
      },
      {
        "duration": 117,
        "start_time": "2023-07-06T05:15:01.428Z"
      },
      {
        "duration": 56,
        "start_time": "2023-07-06T05:15:01.547Z"
      },
      {
        "duration": 91,
        "start_time": "2023-07-06T05:15:01.605Z"
      },
      {
        "duration": 176,
        "start_time": "2023-07-06T05:15:01.697Z"
      },
      {
        "duration": 62,
        "start_time": "2023-07-06T05:15:01.875Z"
      },
      {
        "duration": 68,
        "start_time": "2023-07-06T05:15:01.939Z"
      },
      {
        "duration": 52,
        "start_time": "2023-07-06T05:15:02.009Z"
      },
      {
        "duration": 73,
        "start_time": "2023-07-06T05:15:02.063Z"
      },
      {
        "duration": 66,
        "start_time": "2023-07-06T05:15:02.138Z"
      },
      {
        "duration": 103,
        "start_time": "2023-07-06T05:15:02.206Z"
      },
      {
        "duration": 111,
        "start_time": "2023-07-06T05:15:02.314Z"
      },
      {
        "duration": 47,
        "start_time": "2023-07-06T05:15:02.427Z"
      },
      {
        "duration": 876,
        "start_time": "2023-07-06T05:15:02.476Z"
      },
      {
        "duration": 86,
        "start_time": "2023-07-06T05:15:03.354Z"
      },
      {
        "duration": 3,
        "start_time": "2023-07-06T05:15:03.442Z"
      },
      {
        "duration": 37,
        "start_time": "2023-07-06T05:15:03.447Z"
      },
      {
        "duration": 1453,
        "start_time": "2023-07-06T05:15:03.486Z"
      },
      {
        "duration": 2913638,
        "start_time": "2023-07-06T05:15:04.942Z"
      },
      {
        "duration": 0,
        "start_time": "2023-07-06T06:03:38.582Z"
      },
      {
        "duration": 0,
        "start_time": "2023-07-06T06:03:38.583Z"
      },
      {
        "duration": 0,
        "start_time": "2023-07-06T06:03:38.584Z"
      },
      {
        "duration": 0,
        "start_time": "2023-07-06T06:03:38.585Z"
      },
      {
        "duration": 0,
        "start_time": "2023-07-06T06:03:38.587Z"
      },
      {
        "duration": 2456185,
        "start_time": "2023-07-06T06:03:48.757Z"
      },
      {
        "duration": 951247,
        "start_time": "2023-07-06T06:44:44.945Z"
      },
      {
        "duration": 9603,
        "start_time": "2023-07-06T07:00:36.193Z"
      },
      {
        "duration": 38255,
        "start_time": "2023-07-06T07:00:45.798Z"
      },
      {
        "duration": 10,
        "start_time": "2023-07-06T07:01:24.054Z"
      },
      {
        "duration": 0,
        "start_time": "2023-07-06T07:01:24.065Z"
      },
      {
        "duration": 4,
        "start_time": "2023-07-06T10:18:16.957Z"
      },
      {
        "duration": 65,
        "start_time": "2023-07-06T10:18:52.378Z"
      },
      {
        "duration": 4,
        "start_time": "2023-07-06T10:19:00.693Z"
      },
      {
        "duration": 4,
        "start_time": "2023-07-06T10:19:50.354Z"
      },
      {
        "duration": 15,
        "start_time": "2023-07-06T10:20:02.246Z"
      },
      {
        "duration": 6,
        "start_time": "2023-07-06T10:20:08.967Z"
      },
      {
        "duration": 7,
        "start_time": "2023-07-06T10:20:52.384Z"
      },
      {
        "duration": 9,
        "start_time": "2023-07-06T10:21:11.298Z"
      },
      {
        "duration": 4,
        "start_time": "2023-07-06T10:21:22.951Z"
      },
      {
        "duration": 10,
        "start_time": "2023-07-06T10:33:10.211Z"
      },
      {
        "duration": 9,
        "start_time": "2023-07-06T10:33:16.750Z"
      },
      {
        "duration": 12,
        "start_time": "2023-07-06T10:33:21.887Z"
      },
      {
        "duration": 10,
        "start_time": "2023-07-06T10:33:39.685Z"
      },
      {
        "duration": 6,
        "start_time": "2023-07-06T10:34:33.742Z"
      },
      {
        "duration": 1187,
        "start_time": "2023-07-06T10:34:36.156Z"
      },
      {
        "duration": 6,
        "start_time": "2023-07-06T10:34:45.937Z"
      },
      {
        "duration": 1271,
        "start_time": "2023-07-06T10:34:47.684Z"
      },
      {
        "duration": 3271,
        "start_time": "2023-07-06T10:34:51.189Z"
      },
      {
        "duration": 12418,
        "start_time": "2023-07-06T10:34:57.117Z"
      },
      {
        "duration": 12107,
        "start_time": "2023-07-06T10:35:22.047Z"
      },
      {
        "duration": 1590,
        "start_time": "2023-07-06T10:35:34.156Z"
      },
      {
        "duration": 1098316,
        "start_time": "2023-07-06T10:35:35.832Z"
      },
      {
        "duration": 1107162,
        "start_time": "2023-07-06T10:53:54.150Z"
      },
      {
        "duration": 13858,
        "start_time": "2023-07-06T11:12:21.315Z"
      },
      {
        "duration": 57312,
        "start_time": "2023-07-06T11:12:35.175Z"
      },
      {
        "duration": 4,
        "start_time": "2023-07-06T11:27:21.299Z"
      },
      {
        "duration": 33081,
        "start_time": "2023-07-06T11:28:28.485Z"
      },
      {
        "duration": 0,
        "start_time": "2023-07-06T11:29:01.569Z"
      },
      {
        "duration": 33316,
        "start_time": "2023-07-06T11:29:03.547Z"
      },
      {
        "duration": 0,
        "start_time": "2023-07-06T11:29:36.868Z"
      },
      {
        "duration": 0,
        "start_time": "2023-07-06T11:29:36.869Z"
      },
      {
        "duration": 165722,
        "start_time": "2023-07-06T11:29:44.024Z"
      },
      {
        "duration": 0,
        "start_time": "2023-07-06T11:32:29.748Z"
      },
      {
        "duration": 0,
        "start_time": "2023-07-06T11:32:29.749Z"
      },
      {
        "duration": 5,
        "start_time": "2023-07-06T11:32:31.454Z"
      },
      {
        "duration": 729733,
        "start_time": "2023-07-06T11:33:25.025Z"
      },
      {
        "duration": 80988,
        "start_time": "2023-07-06T11:45:34.763Z"
      },
      {
        "duration": 16,
        "start_time": "2023-07-06T12:32:33.250Z"
      },
      {
        "duration": 8,
        "start_time": "2023-07-06T12:32:58.163Z"
      },
      {
        "duration": 11,
        "start_time": "2023-07-06T12:33:22.256Z"
      },
      {
        "duration": 2167,
        "start_time": "2023-07-06T12:36:58.445Z"
      },
      {
        "duration": 109,
        "start_time": "2023-07-07T05:35:32.636Z"
      },
      {
        "duration": 5403,
        "start_time": "2023-07-07T05:36:21.010Z"
      },
      {
        "duration": 3496,
        "start_time": "2023-07-07T05:36:26.415Z"
      },
      {
        "duration": 30,
        "start_time": "2023-07-07T05:36:29.913Z"
      },
      {
        "duration": 580,
        "start_time": "2023-07-07T05:36:29.945Z"
      },
      {
        "duration": 647,
        "start_time": "2023-07-07T05:36:30.528Z"
      },
      {
        "duration": 183,
        "start_time": "2023-07-07T05:36:31.180Z"
      },
      {
        "duration": 37,
        "start_time": "2023-07-07T05:36:31.365Z"
      },
      {
        "duration": 209,
        "start_time": "2023-07-07T05:36:31.405Z"
      },
      {
        "duration": 156,
        "start_time": "2023-07-07T05:36:31.616Z"
      },
      {
        "duration": 134,
        "start_time": "2023-07-07T05:36:31.776Z"
      },
      {
        "duration": 4,
        "start_time": "2023-07-07T05:36:31.912Z"
      },
      {
        "duration": 84,
        "start_time": "2023-07-07T05:36:31.918Z"
      },
      {
        "duration": 17,
        "start_time": "2023-07-07T05:36:32.004Z"
      },
      {
        "duration": 16,
        "start_time": "2023-07-07T05:36:32.026Z"
      },
      {
        "duration": 2433,
        "start_time": "2023-07-07T05:36:32.044Z"
      },
      {
        "duration": 56,
        "start_time": "2023-07-07T05:36:34.480Z"
      },
      {
        "duration": 7,
        "start_time": "2023-07-07T05:36:34.538Z"
      },
      {
        "duration": 145,
        "start_time": "2023-07-07T05:36:34.548Z"
      },
      {
        "duration": 9,
        "start_time": "2023-07-07T05:36:34.695Z"
      },
      {
        "duration": 73,
        "start_time": "2023-07-07T05:36:34.706Z"
      },
      {
        "duration": 12,
        "start_time": "2023-07-07T05:36:34.783Z"
      },
      {
        "duration": 50,
        "start_time": "2023-07-07T05:36:34.797Z"
      },
      {
        "duration": 1988,
        "start_time": "2023-07-07T05:36:34.849Z"
      },
      {
        "duration": 35,
        "start_time": "2023-07-07T05:36:36.839Z"
      },
      {
        "duration": 38,
        "start_time": "2023-07-07T05:36:36.876Z"
      },
      {
        "duration": 67,
        "start_time": "2023-07-07T05:36:36.916Z"
      },
      {
        "duration": 2251,
        "start_time": "2023-07-07T05:36:36.985Z"
      },
      {
        "duration": 20,
        "start_time": "2023-07-07T05:36:39.238Z"
      },
      {
        "duration": 37,
        "start_time": "2023-07-07T05:36:39.261Z"
      },
      {
        "duration": 82,
        "start_time": "2023-07-07T05:36:39.300Z"
      },
      {
        "duration": 48,
        "start_time": "2023-07-07T05:36:39.385Z"
      },
      {
        "duration": 101,
        "start_time": "2023-07-07T05:36:39.435Z"
      },
      {
        "duration": 84,
        "start_time": "2023-07-07T05:36:39.538Z"
      },
      {
        "duration": 68,
        "start_time": "2023-07-07T05:36:39.624Z"
      },
      {
        "duration": 58,
        "start_time": "2023-07-07T05:36:39.694Z"
      },
      {
        "duration": 104,
        "start_time": "2023-07-07T05:36:39.758Z"
      },
      {
        "duration": 97,
        "start_time": "2023-07-07T05:36:39.864Z"
      },
      {
        "duration": 125,
        "start_time": "2023-07-07T05:36:39.966Z"
      },
      {
        "duration": 21,
        "start_time": "2023-07-07T05:36:40.098Z"
      },
      {
        "duration": 113,
        "start_time": "2023-07-07T05:36:40.121Z"
      },
      {
        "duration": 38,
        "start_time": "2023-07-07T05:36:40.240Z"
      },
      {
        "duration": 1168,
        "start_time": "2023-07-07T05:36:40.280Z"
      },
      {
        "duration": 237,
        "start_time": "2023-07-07T05:37:06.396Z"
      },
      {
        "duration": 28,
        "start_time": "2023-07-07T05:37:15.925Z"
      },
      {
        "duration": 21,
        "start_time": "2023-07-07T05:37:23.089Z"
      },
      {
        "duration": 97,
        "start_time": "2023-07-07T05:37:24.443Z"
      },
      {
        "duration": 17,
        "start_time": "2023-07-07T05:37:25.029Z"
      },
      {
        "duration": 1056,
        "start_time": "2023-07-07T05:37:27.582Z"
      },
      {
        "duration": 116,
        "start_time": "2023-07-07T05:37:32.332Z"
      },
      {
        "duration": 18,
        "start_time": "2023-07-07T05:40:13.190Z"
      },
      {
        "duration": 91,
        "start_time": "2023-07-07T05:40:18.154Z"
      },
      {
        "duration": 871,
        "start_time": "2023-07-07T05:40:20.624Z"
      },
      {
        "duration": 100,
        "start_time": "2023-07-07T05:40:24.179Z"
      },
      {
        "duration": 22,
        "start_time": "2023-07-07T06:20:37.039Z"
      },
      {
        "duration": 110,
        "start_time": "2023-07-07T06:20:37.494Z"
      },
      {
        "duration": 27,
        "start_time": "2023-07-07T06:20:38.005Z"
      },
      {
        "duration": 1054,
        "start_time": "2023-07-07T06:20:40.479Z"
      },
      {
        "duration": 97,
        "start_time": "2023-07-07T06:21:00.897Z"
      },
      {
        "duration": 21,
        "start_time": "2023-07-07T06:21:17.655Z"
      },
      {
        "duration": 21,
        "start_time": "2023-07-07T06:21:21.369Z"
      },
      {
        "duration": 112,
        "start_time": "2023-07-07T06:21:21.762Z"
      },
      {
        "duration": 29,
        "start_time": "2023-07-07T06:21:22.363Z"
      },
      {
        "duration": 1513,
        "start_time": "2023-07-07T06:21:25.268Z"
      },
      {
        "duration": 98,
        "start_time": "2023-07-07T06:21:28.778Z"
      },
      {
        "duration": 6959,
        "start_time": "2023-07-08T13:46:06.333Z"
      },
      {
        "duration": 1439,
        "start_time": "2023-07-08T13:46:13.295Z"
      },
      {
        "duration": 50,
        "start_time": "2023-07-08T13:46:14.737Z"
      },
      {
        "duration": 839,
        "start_time": "2023-07-08T13:46:14.793Z"
      },
      {
        "duration": 676,
        "start_time": "2023-07-08T13:46:15.634Z"
      },
      {
        "duration": 266,
        "start_time": "2023-07-08T13:46:16.313Z"
      },
      {
        "duration": 43,
        "start_time": "2023-07-08T13:46:16.582Z"
      },
      {
        "duration": 324,
        "start_time": "2023-07-08T13:46:16.629Z"
      },
      {
        "duration": 168,
        "start_time": "2023-07-08T13:46:16.956Z"
      },
      {
        "duration": 186,
        "start_time": "2023-07-08T13:46:17.131Z"
      },
      {
        "duration": 7,
        "start_time": "2023-07-08T13:46:17.319Z"
      },
      {
        "duration": 132,
        "start_time": "2023-07-08T13:46:17.329Z"
      },
      {
        "duration": 59,
        "start_time": "2023-07-08T13:46:17.464Z"
      },
      {
        "duration": 91,
        "start_time": "2023-07-08T13:46:17.525Z"
      },
      {
        "duration": 2488,
        "start_time": "2023-07-08T13:46:17.618Z"
      },
      {
        "duration": 58,
        "start_time": "2023-07-08T13:46:20.108Z"
      },
      {
        "duration": 53,
        "start_time": "2023-07-08T13:46:20.168Z"
      },
      {
        "duration": 48,
        "start_time": "2023-07-08T13:46:20.224Z"
      },
      {
        "duration": 11,
        "start_time": "2023-07-08T13:46:20.274Z"
      },
      {
        "duration": 96,
        "start_time": "2023-07-08T13:46:20.287Z"
      },
      {
        "duration": 3,
        "start_time": "2023-07-08T13:46:20.386Z"
      },
      {
        "duration": 135,
        "start_time": "2023-07-08T13:46:20.391Z"
      },
      {
        "duration": 1710,
        "start_time": "2023-07-08T13:46:20.528Z"
      },
      {
        "duration": 26,
        "start_time": "2023-07-08T13:46:22.241Z"
      },
      {
        "duration": 32,
        "start_time": "2023-07-08T13:46:22.269Z"
      },
      {
        "duration": 76,
        "start_time": "2023-07-08T13:46:22.303Z"
      },
      {
        "duration": 1954,
        "start_time": "2023-07-08T13:46:22.381Z"
      },
      {
        "duration": 32,
        "start_time": "2023-07-08T13:46:24.341Z"
      },
      {
        "duration": 46,
        "start_time": "2023-07-08T13:46:24.375Z"
      },
      {
        "duration": 108,
        "start_time": "2023-07-08T13:46:24.424Z"
      },
      {
        "duration": 68,
        "start_time": "2023-07-08T13:46:24.534Z"
      },
      {
        "duration": 77,
        "start_time": "2023-07-08T13:46:24.605Z"
      },
      {
        "duration": 209,
        "start_time": "2023-07-08T13:46:24.685Z"
      },
      {
        "duration": 105,
        "start_time": "2023-07-08T13:46:24.897Z"
      },
      {
        "duration": 103,
        "start_time": "2023-07-08T13:46:25.005Z"
      },
      {
        "duration": 101,
        "start_time": "2023-07-08T13:46:25.111Z"
      },
      {
        "duration": 103,
        "start_time": "2023-07-08T13:46:25.216Z"
      },
      {
        "duration": 106,
        "start_time": "2023-07-08T13:46:25.322Z"
      },
      {
        "duration": 90,
        "start_time": "2023-07-08T13:46:25.430Z"
      },
      {
        "duration": 167,
        "start_time": "2023-07-08T13:46:25.523Z"
      },
      {
        "duration": 21,
        "start_time": "2023-07-08T13:46:25.693Z"
      },
      {
        "duration": 1114,
        "start_time": "2023-07-08T13:46:25.717Z"
      },
      {
        "duration": 105,
        "start_time": "2023-07-08T13:46:26.833Z"
      },
      {
        "duration": 15,
        "start_time": "2023-07-08T13:46:26.940Z"
      },
      {
        "duration": 45,
        "start_time": "2023-07-08T13:46:26.958Z"
      },
      {
        "duration": 2067,
        "start_time": "2023-07-08T13:46:27.006Z"
      },
      {
        "duration": 0,
        "start_time": "2023-07-08T13:46:29.077Z"
      },
      {
        "duration": 0,
        "start_time": "2023-07-08T13:46:29.079Z"
      },
      {
        "duration": 0,
        "start_time": "2023-07-08T13:46:29.081Z"
      },
      {
        "duration": 0,
        "start_time": "2023-07-08T13:46:29.083Z"
      },
      {
        "duration": 0,
        "start_time": "2023-07-08T13:46:29.085Z"
      },
      {
        "duration": 0,
        "start_time": "2023-07-08T13:46:29.087Z"
      },
      {
        "duration": 0,
        "start_time": "2023-07-08T13:46:29.088Z"
      },
      {
        "duration": 0,
        "start_time": "2023-07-08T13:46:29.090Z"
      },
      {
        "duration": 1785,
        "start_time": "2023-07-08T13:47:11.187Z"
      },
      {
        "duration": 4,
        "start_time": "2023-07-08T13:47:38.132Z"
      },
      {
        "duration": 7,
        "start_time": "2023-07-08T13:47:44.195Z"
      },
      {
        "duration": 1256,
        "start_time": "2023-07-08T13:47:46.696Z"
      },
      {
        "duration": 58,
        "start_time": "2023-07-09T10:54:36.909Z"
      },
      {
        "duration": 5337,
        "start_time": "2023-07-09T10:54:46.490Z"
      },
      {
        "duration": 3087,
        "start_time": "2023-07-09T10:54:51.829Z"
      },
      {
        "duration": 34,
        "start_time": "2023-07-09T10:54:54.918Z"
      },
      {
        "duration": 501,
        "start_time": "2023-07-09T10:54:54.954Z"
      },
      {
        "duration": 571,
        "start_time": "2023-07-09T10:54:55.458Z"
      },
      {
        "duration": 159,
        "start_time": "2023-07-09T10:54:56.031Z"
      },
      {
        "duration": 38,
        "start_time": "2023-07-09T10:54:56.191Z"
      },
      {
        "duration": 117,
        "start_time": "2023-07-09T10:54:56.231Z"
      },
      {
        "duration": 103,
        "start_time": "2023-07-09T10:54:56.349Z"
      },
      {
        "duration": 112,
        "start_time": "2023-07-09T10:54:56.453Z"
      },
      {
        "duration": 4,
        "start_time": "2023-07-09T10:54:56.567Z"
      },
      {
        "duration": 41,
        "start_time": "2023-07-09T10:54:56.573Z"
      },
      {
        "duration": 14,
        "start_time": "2023-07-09T10:54:56.617Z"
      },
      {
        "duration": 13,
        "start_time": "2023-07-09T10:54:56.635Z"
      },
      {
        "duration": 2150,
        "start_time": "2023-07-09T10:54:56.649Z"
      },
      {
        "duration": 51,
        "start_time": "2023-07-09T10:54:58.801Z"
      },
      {
        "duration": 7,
        "start_time": "2023-07-09T10:54:58.853Z"
      },
      {
        "duration": 25,
        "start_time": "2023-07-09T10:54:58.861Z"
      },
      {
        "duration": 19,
        "start_time": "2023-07-09T10:54:58.888Z"
      },
      {
        "duration": 62,
        "start_time": "2023-07-09T10:54:58.909Z"
      },
      {
        "duration": 3,
        "start_time": "2023-07-09T10:54:58.974Z"
      },
      {
        "duration": 72,
        "start_time": "2023-07-09T10:54:58.978Z"
      },
      {
        "duration": 1820,
        "start_time": "2023-07-09T10:54:59.052Z"
      },
      {
        "duration": 16,
        "start_time": "2023-07-09T10:55:00.873Z"
      },
      {
        "duration": 88,
        "start_time": "2023-07-09T10:55:00.891Z"
      },
      {
        "duration": 69,
        "start_time": "2023-07-09T10:55:00.981Z"
      },
      {
        "duration": 1805,
        "start_time": "2023-07-09T10:55:01.052Z"
      },
      {
        "duration": 15,
        "start_time": "2023-07-09T10:55:02.859Z"
      },
      {
        "duration": 38,
        "start_time": "2023-07-09T10:55:02.876Z"
      },
      {
        "duration": 70,
        "start_time": "2023-07-09T10:55:02.916Z"
      },
      {
        "duration": 43,
        "start_time": "2023-07-09T10:55:02.987Z"
      },
      {
        "duration": 59,
        "start_time": "2023-07-09T10:55:03.032Z"
      },
      {
        "duration": 73,
        "start_time": "2023-07-09T10:55:03.093Z"
      },
      {
        "duration": 72,
        "start_time": "2023-07-09T10:55:03.168Z"
      },
      {
        "duration": 49,
        "start_time": "2023-07-09T10:55:03.242Z"
      },
      {
        "duration": 74,
        "start_time": "2023-07-09T10:55:03.293Z"
      },
      {
        "duration": 64,
        "start_time": "2023-07-09T10:55:03.369Z"
      },
      {
        "duration": 58,
        "start_time": "2023-07-09T10:55:03.435Z"
      },
      {
        "duration": 33,
        "start_time": "2023-07-09T10:55:03.495Z"
      },
      {
        "duration": 74,
        "start_time": "2023-07-09T10:55:03.530Z"
      },
      {
        "duration": 23,
        "start_time": "2023-07-09T10:55:03.612Z"
      },
      {
        "duration": 946,
        "start_time": "2023-07-09T10:55:03.638Z"
      },
      {
        "duration": 88,
        "start_time": "2023-07-09T10:55:04.585Z"
      },
      {
        "duration": 3,
        "start_time": "2023-07-09T10:55:04.675Z"
      },
      {
        "duration": 41,
        "start_time": "2023-07-09T10:55:04.679Z"
      },
      {
        "duration": 1298,
        "start_time": "2023-07-09T10:55:04.722Z"
      },
      {
        "duration": 224,
        "start_time": "2023-07-09T10:55:06.022Z"
      },
      {
        "duration": 0,
        "start_time": "2023-07-09T10:55:06.248Z"
      },
      {
        "duration": 0,
        "start_time": "2023-07-09T10:55:06.249Z"
      },
      {
        "duration": 0,
        "start_time": "2023-07-09T10:55:06.250Z"
      },
      {
        "duration": 0,
        "start_time": "2023-07-09T10:55:06.251Z"
      },
      {
        "duration": 0,
        "start_time": "2023-07-09T10:55:06.252Z"
      },
      {
        "duration": 0,
        "start_time": "2023-07-09T10:55:06.253Z"
      },
      {
        "duration": 0,
        "start_time": "2023-07-09T10:55:06.254Z"
      },
      {
        "duration": 20,
        "start_time": "2023-07-09T11:07:06.234Z"
      },
      {
        "duration": 4004,
        "start_time": "2023-07-09T11:07:20.333Z"
      },
      {
        "duration": 4116,
        "start_time": "2023-07-09T11:07:36.426Z"
      },
      {
        "duration": 3902,
        "start_time": "2023-07-09T11:08:03.932Z"
      },
      {
        "duration": 3910,
        "start_time": "2023-07-09T11:10:02.329Z"
      },
      {
        "duration": 4100,
        "start_time": "2023-07-09T11:12:05.039Z"
      },
      {
        "duration": 3,
        "start_time": "2023-07-09T11:13:46.004Z"
      },
      {
        "duration": 4021,
        "start_time": "2023-07-09T11:13:52.205Z"
      },
      {
        "duration": 47213,
        "start_time": "2023-07-09T11:14:08.703Z"
      },
      {
        "duration": 531,
        "start_time": "2023-07-09T11:19:34.416Z"
      },
      {
        "duration": 47877,
        "start_time": "2023-07-09T11:20:01.207Z"
      },
      {
        "duration": 270279,
        "start_time": "2023-07-09T11:22:23.466Z"
      },
      {
        "duration": 20947,
        "start_time": "2023-07-09T11:29:45.842Z"
      },
      {
        "duration": 250355,
        "start_time": "2023-07-09T11:30:07.795Z"
      },
      {
        "duration": 803397,
        "start_time": "2023-07-09T11:40:39.225Z"
      },
      {
        "duration": 0,
        "start_time": "2023-07-09T11:54:02.624Z"
      },
      {
        "duration": 0,
        "start_time": "2023-07-09T11:54:02.626Z"
      },
      {
        "duration": 483387,
        "start_time": "2023-07-09T11:54:35.647Z"
      },
      {
        "duration": 85,
        "start_time": "2023-07-09T12:02:39.036Z"
      },
      {
        "duration": 0,
        "start_time": "2023-07-09T12:02:39.124Z"
      },
      {
        "duration": 15,
        "start_time": "2023-07-09T12:07:43.847Z"
      },
      {
        "duration": 7,
        "start_time": "2023-07-09T12:08:01.541Z"
      },
      {
        "duration": 1371,
        "start_time": "2023-07-09T12:08:04.943Z"
      },
      {
        "duration": 140,
        "start_time": "2023-07-09T12:08:08.385Z"
      },
      {
        "duration": 13,
        "start_time": "2023-07-09T12:08:53.278Z"
      },
      {
        "duration": 19,
        "start_time": "2023-07-09T12:09:06.312Z"
      },
      {
        "duration": 12,
        "start_time": "2023-07-09T12:09:18.505Z"
      },
      {
        "duration": 7,
        "start_time": "2023-07-09T12:09:27.495Z"
      },
      {
        "duration": 15,
        "start_time": "2023-07-09T12:09:30.108Z"
      },
      {
        "duration": 2305,
        "start_time": "2023-07-09T12:10:16.334Z"
      },
      {
        "duration": 1439,
        "start_time": "2023-07-09T12:10:29.496Z"
      },
      {
        "duration": 139,
        "start_time": "2023-07-09T12:10:36.706Z"
      },
      {
        "duration": 160,
        "start_time": "2023-07-09T12:10:46.359Z"
      },
      {
        "duration": 10274,
        "start_time": "2023-07-09T12:11:06.927Z"
      },
      {
        "duration": 46868,
        "start_time": "2023-07-09T12:11:32.035Z"
      },
      {
        "duration": 2840,
        "start_time": "2023-07-09T12:12:21.296Z"
      },
      {
        "duration": 93187,
        "start_time": "2023-07-09T12:12:47.533Z"
      },
      {
        "duration": 0,
        "start_time": "2023-07-09T12:14:20.728Z"
      },
      {
        "duration": 0,
        "start_time": "2023-07-09T12:14:20.733Z"
      },
      {
        "duration": 7160,
        "start_time": "2023-07-09T12:14:22.505Z"
      },
      {
        "duration": 208709,
        "start_time": "2023-07-09T12:15:02.564Z"
      },
      {
        "duration": 12,
        "start_time": "2023-07-09T12:18:31.275Z"
      },
      {
        "duration": 26,
        "start_time": "2023-07-09T12:19:12.603Z"
      },
      {
        "duration": 202,
        "start_time": "2023-07-09T12:19:20.814Z"
      },
      {
        "duration": 16,
        "start_time": "2023-07-09T12:19:28.631Z"
      },
      {
        "duration": 176,
        "start_time": "2023-07-09T12:19:38.073Z"
      },
      {
        "duration": 15,
        "start_time": "2023-07-09T12:19:46.462Z"
      },
      {
        "duration": 24,
        "start_time": "2023-07-09T12:20:07.903Z"
      },
      {
        "duration": 82782,
        "start_time": "2023-07-09T12:23:45.508Z"
      },
      {
        "duration": 0,
        "start_time": "2023-07-09T12:25:08.292Z"
      },
      {
        "duration": 10282,
        "start_time": "2023-07-09T12:25:12.610Z"
      },
      {
        "duration": 16,
        "start_time": "2023-07-09T12:25:35.514Z"
      },
      {
        "duration": 1039583,
        "start_time": "2023-07-09T12:25:53.111Z"
      },
      {
        "duration": 129,
        "start_time": "2023-07-09T12:43:12.696Z"
      },
      {
        "duration": 0,
        "start_time": "2023-07-09T12:43:12.826Z"
      },
      {
        "duration": 0,
        "start_time": "2023-07-09T12:43:12.828Z"
      },
      {
        "duration": 14,
        "start_time": "2023-07-09T12:45:30.870Z"
      },
      {
        "duration": 67,
        "start_time": "2023-07-09T16:53:16.025Z"
      },
      {
        "duration": 5026,
        "start_time": "2023-07-09T17:03:28.702Z"
      },
      {
        "duration": 3009,
        "start_time": "2023-07-09T17:03:33.730Z"
      },
      {
        "duration": 31,
        "start_time": "2023-07-09T17:03:36.741Z"
      },
      {
        "duration": 498,
        "start_time": "2023-07-09T17:03:36.774Z"
      },
      {
        "duration": 531,
        "start_time": "2023-07-09T17:03:37.275Z"
      },
      {
        "duration": 171,
        "start_time": "2023-07-09T17:03:37.808Z"
      },
      {
        "duration": 20,
        "start_time": "2023-07-09T17:03:37.981Z"
      },
      {
        "duration": 136,
        "start_time": "2023-07-09T17:03:38.003Z"
      },
      {
        "duration": 97,
        "start_time": "2023-07-09T17:03:38.141Z"
      },
      {
        "duration": 125,
        "start_time": "2023-07-09T17:03:38.240Z"
      },
      {
        "duration": 6,
        "start_time": "2023-07-09T17:03:38.367Z"
      },
      {
        "duration": 34,
        "start_time": "2023-07-09T17:03:38.374Z"
      },
      {
        "duration": 13,
        "start_time": "2023-07-09T17:03:38.409Z"
      },
      {
        "duration": 12,
        "start_time": "2023-07-09T17:03:38.426Z"
      },
      {
        "duration": 2092,
        "start_time": "2023-07-09T17:03:38.460Z"
      },
      {
        "duration": 45,
        "start_time": "2023-07-09T17:03:40.559Z"
      },
      {
        "duration": 7,
        "start_time": "2023-07-09T17:03:40.605Z"
      },
      {
        "duration": 6,
        "start_time": "2023-07-09T17:03:40.614Z"
      },
      {
        "duration": 9,
        "start_time": "2023-07-09T17:03:40.621Z"
      },
      {
        "duration": 81,
        "start_time": "2023-07-09T17:03:40.631Z"
      },
      {
        "duration": 3,
        "start_time": "2023-07-09T17:03:40.714Z"
      },
      {
        "duration": 68,
        "start_time": "2023-07-09T17:03:40.718Z"
      },
      {
        "duration": 1747,
        "start_time": "2023-07-09T17:03:40.788Z"
      },
      {
        "duration": 26,
        "start_time": "2023-07-09T17:03:42.537Z"
      },
      {
        "duration": 56,
        "start_time": "2023-07-09T17:03:42.565Z"
      },
      {
        "duration": 46,
        "start_time": "2023-07-09T17:03:42.622Z"
      },
      {
        "duration": 1924,
        "start_time": "2023-07-09T17:03:42.671Z"
      },
      {
        "duration": 16,
        "start_time": "2023-07-09T17:03:44.598Z"
      },
      {
        "duration": 45,
        "start_time": "2023-07-09T17:03:44.616Z"
      },
      {
        "duration": 65,
        "start_time": "2023-07-09T17:03:44.663Z"
      },
      {
        "duration": 58,
        "start_time": "2023-07-09T17:03:44.730Z"
      },
      {
        "duration": 73,
        "start_time": "2023-07-09T17:03:44.790Z"
      },
      {
        "duration": 51,
        "start_time": "2023-07-09T17:03:44.866Z"
      },
      {
        "duration": 78,
        "start_time": "2023-07-09T17:03:44.919Z"
      },
      {
        "duration": 50,
        "start_time": "2023-07-09T17:03:44.998Z"
      },
      {
        "duration": 58,
        "start_time": "2023-07-09T17:03:45.060Z"
      },
      {
        "duration": 73,
        "start_time": "2023-07-09T17:03:45.120Z"
      },
      {
        "duration": 2318,
        "start_time": "2023-07-09T17:04:23.132Z"
      },
      {
        "duration": 856,
        "start_time": "2023-07-09T17:04:25.453Z"
      },
      {
        "duration": 22,
        "start_time": "2023-07-09T17:04:26.311Z"
      },
      {
        "duration": 445,
        "start_time": "2023-07-09T17:04:26.335Z"
      },
      {
        "duration": 471,
        "start_time": "2023-07-09T17:04:26.781Z"
      },
      {
        "duration": 128,
        "start_time": "2023-07-09T17:04:27.254Z"
      },
      {
        "duration": 22,
        "start_time": "2023-07-09T17:04:27.385Z"
      },
      {
        "duration": 133,
        "start_time": "2023-07-09T17:04:27.409Z"
      },
      {
        "duration": 106,
        "start_time": "2023-07-09T17:04:27.543Z"
      },
      {
        "duration": 123,
        "start_time": "2023-07-09T17:04:27.659Z"
      },
      {
        "duration": 4,
        "start_time": "2023-07-09T17:04:27.784Z"
      },
      {
        "duration": 24,
        "start_time": "2023-07-09T17:04:27.790Z"
      },
      {
        "duration": 13,
        "start_time": "2023-07-09T17:04:27.815Z"
      },
      {
        "duration": 34,
        "start_time": "2023-07-09T17:04:27.829Z"
      },
      {
        "duration": 2067,
        "start_time": "2023-07-09T17:04:27.865Z"
      },
      {
        "duration": 59,
        "start_time": "2023-07-09T17:04:29.934Z"
      },
      {
        "duration": 7,
        "start_time": "2023-07-09T17:04:29.995Z"
      },
      {
        "duration": 63,
        "start_time": "2023-07-09T17:04:30.004Z"
      },
      {
        "duration": 43,
        "start_time": "2023-07-09T17:04:30.069Z"
      },
      {
        "duration": 59,
        "start_time": "2023-07-09T17:04:30.113Z"
      },
      {
        "duration": 3,
        "start_time": "2023-07-09T17:04:30.174Z"
      },
      {
        "duration": 80,
        "start_time": "2023-07-09T17:04:30.179Z"
      },
      {
        "duration": 1829,
        "start_time": "2023-07-09T17:04:30.261Z"
      },
      {
        "duration": 18,
        "start_time": "2023-07-09T17:04:32.092Z"
      },
      {
        "duration": 83,
        "start_time": "2023-07-09T17:04:32.112Z"
      },
      {
        "duration": 59,
        "start_time": "2023-07-09T17:04:32.197Z"
      },
      {
        "duration": 1924,
        "start_time": "2023-07-09T17:04:32.258Z"
      },
      {
        "duration": 19,
        "start_time": "2023-07-09T17:04:34.187Z"
      },
      {
        "duration": 57,
        "start_time": "2023-07-09T17:04:34.208Z"
      },
      {
        "duration": 73,
        "start_time": "2023-07-09T17:04:34.267Z"
      },
      {
        "duration": 52,
        "start_time": "2023-07-09T17:04:34.342Z"
      },
      {
        "duration": 76,
        "start_time": "2023-07-09T17:04:34.397Z"
      },
      {
        "duration": 94,
        "start_time": "2023-07-09T17:04:34.475Z"
      },
      {
        "duration": 58,
        "start_time": "2023-07-09T17:04:34.571Z"
      },
      {
        "duration": 74,
        "start_time": "2023-07-09T17:04:34.631Z"
      },
      {
        "duration": 69,
        "start_time": "2023-07-09T17:04:34.707Z"
      },
      {
        "duration": 58,
        "start_time": "2023-07-09T17:04:34.778Z"
      },
      {
        "duration": 86,
        "start_time": "2023-07-09T17:04:34.837Z"
      },
      {
        "duration": 23,
        "start_time": "2023-07-09T17:07:08.762Z"
      },
      {
        "duration": 122,
        "start_time": "2023-07-09T17:07:13.043Z"
      },
      {
        "duration": 115,
        "start_time": "2023-07-09T17:08:20.159Z"
      },
      {
        "duration": 16,
        "start_time": "2023-07-09T17:08:22.538Z"
      },
      {
        "duration": 786,
        "start_time": "2023-07-09T17:09:17.893Z"
      },
      {
        "duration": 67,
        "start_time": "2023-07-09T17:09:19.186Z"
      },
      {
        "duration": 394,
        "start_time": "2023-07-09T17:17:15.789Z"
      },
      {
        "duration": 4,
        "start_time": "2023-07-09T17:17:23.154Z"
      },
      {
        "duration": 62,
        "start_time": "2023-07-09T17:17:29.102Z"
      },
      {
        "duration": 7465,
        "start_time": "2023-07-09T17:20:40.819Z"
      },
      {
        "duration": 7855,
        "start_time": "2023-07-09T17:21:57.553Z"
      },
      {
        "duration": 7650,
        "start_time": "2023-07-09T17:22:05.638Z"
      },
      {
        "duration": 112,
        "start_time": "2023-07-09T17:24:48.459Z"
      },
      {
        "duration": 7535,
        "start_time": "2023-07-09T17:29:59.307Z"
      },
      {
        "duration": 61,
        "start_time": "2023-07-09T17:31:33.903Z"
      },
      {
        "duration": 62396,
        "start_time": "2023-07-09T17:31:42.963Z"
      },
      {
        "duration": 0,
        "start_time": "2023-07-09T17:34:25.493Z"
      },
      {
        "duration": 0,
        "start_time": "2023-07-09T17:34:25.496Z"
      },
      {
        "duration": 0,
        "start_time": "2023-07-09T17:34:25.497Z"
      },
      {
        "duration": 0,
        "start_time": "2023-07-09T17:34:25.499Z"
      },
      {
        "duration": 0,
        "start_time": "2023-07-09T17:34:25.500Z"
      },
      {
        "duration": 227,
        "start_time": "2023-07-09T17:34:33.335Z"
      },
      {
        "duration": 802352,
        "start_time": "2023-07-09T17:34:36.120Z"
      },
      {
        "duration": 767659,
        "start_time": "2023-07-09T17:47:58.474Z"
      },
      {
        "duration": 7137,
        "start_time": "2023-07-09T18:00:46.135Z"
      },
      {
        "duration": 175223,
        "start_time": "2023-07-09T18:00:53.275Z"
      },
      {
        "duration": 10,
        "start_time": "2023-07-09T18:03:48.499Z"
      },
      {
        "duration": 238,
        "start_time": "2023-07-09T18:12:43.425Z"
      },
      {
        "duration": 7420,
        "start_time": "2023-07-09T18:12:49.893Z"
      },
      {
        "duration": 389951,
        "start_time": "2023-07-09T18:13:14.610Z"
      },
      {
        "duration": 771539,
        "start_time": "2023-07-09T18:19:44.563Z"
      },
      {
        "duration": 177049,
        "start_time": "2023-07-09T18:32:36.104Z"
      },
      {
        "duration": 10,
        "start_time": "2023-07-09T18:35:33.158Z"
      },
      {
        "duration": 11,
        "start_time": "2023-07-09T18:35:33.170Z"
      },
      {
        "duration": 378,
        "start_time": "2023-07-09T18:40:19.809Z"
      },
      {
        "duration": 46,
        "start_time": "2023-10-07T10:08:18.060Z"
      },
      {
        "duration": 5112,
        "start_time": "2024-03-24T17:13:53.589Z"
      },
      {
        "duration": 1166,
        "start_time": "2024-03-24T17:13:58.704Z"
      },
      {
        "duration": 25,
        "start_time": "2024-03-24T17:13:59.872Z"
      },
      {
        "duration": 443,
        "start_time": "2024-03-24T17:13:59.899Z"
      },
      {
        "duration": 507,
        "start_time": "2024-03-24T17:14:00.344Z"
      },
      {
        "duration": 180,
        "start_time": "2024-03-24T17:14:00.852Z"
      },
      {
        "duration": 50,
        "start_time": "2024-03-24T17:14:01.034Z"
      },
      {
        "duration": 134,
        "start_time": "2024-03-24T17:14:01.085Z"
      },
      {
        "duration": 97,
        "start_time": "2024-03-24T17:14:01.221Z"
      },
      {
        "duration": 118,
        "start_time": "2024-03-24T17:14:01.321Z"
      },
      {
        "duration": 4,
        "start_time": "2024-03-24T17:14:01.440Z"
      },
      {
        "duration": 59,
        "start_time": "2024-03-24T17:14:01.445Z"
      },
      {
        "duration": 38,
        "start_time": "2024-03-24T17:14:01.505Z"
      },
      {
        "duration": 145,
        "start_time": "2024-03-24T17:14:01.544Z"
      },
      {
        "duration": 2198,
        "start_time": "2024-03-24T17:14:01.691Z"
      },
      {
        "duration": 40,
        "start_time": "2024-03-24T17:14:03.891Z"
      },
      {
        "duration": 8,
        "start_time": "2024-03-24T17:14:03.932Z"
      },
      {
        "duration": 26,
        "start_time": "2024-03-24T17:14:03.942Z"
      },
      {
        "duration": 15,
        "start_time": "2024-03-24T17:14:03.970Z"
      },
      {
        "duration": 56,
        "start_time": "2024-03-24T17:14:03.987Z"
      },
      {
        "duration": 3,
        "start_time": "2024-03-24T17:14:04.045Z"
      },
      {
        "duration": 57,
        "start_time": "2024-03-24T17:14:04.049Z"
      },
      {
        "duration": 1710,
        "start_time": "2024-03-24T17:14:04.109Z"
      },
      {
        "duration": 15,
        "start_time": "2024-03-24T17:14:05.820Z"
      },
      {
        "duration": 31,
        "start_time": "2024-03-24T17:14:05.837Z"
      },
      {
        "duration": 47,
        "start_time": "2024-03-24T17:14:05.869Z"
      },
      {
        "duration": 1698,
        "start_time": "2024-03-24T17:14:05.917Z"
      },
      {
        "duration": 12,
        "start_time": "2024-03-24T17:14:07.619Z"
      },
      {
        "duration": 29,
        "start_time": "2024-03-24T17:14:07.633Z"
      },
      {
        "duration": 58,
        "start_time": "2024-03-24T17:14:07.664Z"
      },
      {
        "duration": 39,
        "start_time": "2024-03-24T17:14:07.723Z"
      },
      {
        "duration": 93,
        "start_time": "2024-03-24T17:14:07.764Z"
      },
      {
        "duration": 67,
        "start_time": "2024-03-24T17:14:07.858Z"
      },
      {
        "duration": 74,
        "start_time": "2024-03-24T17:14:07.927Z"
      },
      {
        "duration": 63,
        "start_time": "2024-03-24T17:14:08.002Z"
      },
      {
        "duration": 77,
        "start_time": "2024-03-24T17:14:08.067Z"
      },
      {
        "duration": 71,
        "start_time": "2024-03-24T17:14:08.145Z"
      },
      {
        "duration": 133,
        "start_time": "2024-03-24T17:14:08.217Z"
      },
      {
        "duration": 13,
        "start_time": "2024-03-24T17:14:08.351Z"
      },
      {
        "duration": 2,
        "start_time": "2024-03-24T17:14:08.365Z"
      },
      {
        "duration": 105,
        "start_time": "2024-03-24T17:14:08.368Z"
      },
      {
        "duration": 16,
        "start_time": "2024-03-24T17:14:08.475Z"
      },
      {
        "duration": 559,
        "start_time": "2024-03-24T17:14:08.492Z"
      },
      {
        "duration": 71,
        "start_time": "2024-03-24T17:14:09.053Z"
      },
      {
        "duration": 3,
        "start_time": "2024-03-24T17:14:09.126Z"
      },
      {
        "duration": 13,
        "start_time": "2024-03-24T17:14:09.131Z"
      },
      {
        "duration": 385,
        "start_time": "2024-03-24T17:14:09.145Z"
      },
      {
        "duration": 127,
        "start_time": "2024-03-24T17:14:09.532Z"
      },
      {
        "duration": 0,
        "start_time": "2024-03-24T17:14:09.661Z"
      },
      {
        "duration": 0,
        "start_time": "2024-03-24T17:14:09.662Z"
      },
      {
        "duration": 0,
        "start_time": "2024-03-24T17:14:09.663Z"
      },
      {
        "duration": 0,
        "start_time": "2024-03-24T17:14:09.665Z"
      },
      {
        "duration": 0,
        "start_time": "2024-03-24T17:14:09.666Z"
      },
      {
        "duration": 0,
        "start_time": "2024-03-24T17:14:09.667Z"
      },
      {
        "duration": 1,
        "start_time": "2024-03-24T17:14:09.680Z"
      },
      {
        "duration": 0,
        "start_time": "2024-03-24T17:14:09.682Z"
      },
      {
        "duration": 0,
        "start_time": "2024-03-24T17:14:09.684Z"
      },
      {
        "duration": 0,
        "start_time": "2024-03-24T17:14:09.685Z"
      },
      {
        "duration": 0,
        "start_time": "2024-03-24T17:14:09.686Z"
      },
      {
        "duration": 224,
        "start_time": "2024-03-24T17:24:07.857Z"
      },
      {
        "duration": 9,
        "start_time": "2024-03-24T17:24:39.062Z"
      },
      {
        "duration": 231,
        "start_time": "2024-03-24T17:24:54.554Z"
      },
      {
        "duration": 25662,
        "start_time": "2024-03-24T17:27:55.827Z"
      },
      {
        "duration": 710867,
        "start_time": "2024-03-24T17:28:26.581Z"
      },
      {
        "duration": 6807,
        "start_time": "2024-03-24T17:40:17.450Z"
      },
      {
        "duration": 157459,
        "start_time": "2024-03-24T17:40:24.259Z"
      },
      {
        "duration": 15,
        "start_time": "2024-03-24T17:43:01.721Z"
      },
      {
        "duration": 0,
        "start_time": "2024-03-24T17:43:01.737Z"
      },
      {
        "duration": 5,
        "start_time": "2024-03-24T18:51:19.115Z"
      },
      {
        "duration": 3,
        "start_time": "2024-03-24T18:51:37.358Z"
      },
      {
        "duration": 10,
        "start_time": "2024-03-24T18:51:43.831Z"
      },
      {
        "duration": 342,
        "start_time": "2024-03-24T18:54:43.242Z"
      },
      {
        "duration": 1157,
        "start_time": "2024-03-24T18:54:53.840Z"
      }
    ],
    "kernelspec": {
      "display_name": "Python 3 (ipykernel)",
      "language": "python",
      "name": "python3"
    },
    "language_info": {
      "codemirror_mode": {
        "name": "ipython",
        "version": 3
      },
      "file_extension": ".py",
      "mimetype": "text/x-python",
      "name": "python",
      "nbconvert_exporter": "python",
      "pygments_lexer": "ipython3",
      "version": "3.9.5"
    },
    "toc": {
      "base_numbering": 1,
      "nav_menu": {},
      "number_sections": true,
      "sideBar": true,
      "skip_h1_title": true,
      "title_cell": "Table of Contents",
      "title_sidebar": "Contents",
      "toc_cell": false,
      "toc_position": {},
      "toc_section_display": true,
      "toc_window_display": false
    },
    "colab": {
      "provenance": []
    }
  },
  "nbformat": 4,
  "nbformat_minor": 0
}