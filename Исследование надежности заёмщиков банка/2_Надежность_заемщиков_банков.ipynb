{
  "cells": [
    {
      "cell_type": "markdown",
      "source": [
        "# Исследование надёжности заёмщиков по данным банка"
      ],
      "metadata": {
        "id": "ECNvGx76L3gG"
      },
      "id": "ECNvGx76L3gG"
    },
    {
      "cell_type": "markdown",
      "source": [
        "## Импорт необходимых библиотек"
      ],
      "metadata": {
        "id": "UboDuv9e8cYr"
      },
      "id": "UboDuv9e8cYr"
    },
    {
      "cell_type": "code",
      "source": [
        "import pandas as pd"
      ],
      "metadata": {
        "id": "8M1Y_7618cEp"
      },
      "id": "8M1Y_7618cEp",
      "execution_count": null,
      "outputs": []
    },
    {
      "cell_type": "markdown",
      "id": "744d7639",
      "metadata": {
        "deletable": false,
        "id": "744d7639"
      },
      "source": [
        "## Первичный анализ данных"
      ]
    },
    {
      "cell_type": "code",
      "source": [
        "data = pd.read_csv('/datasets/data.csv')"
      ],
      "metadata": {
        "id": "Xl-0xVKMFMxh"
      },
      "id": "Xl-0xVKMFMxh",
      "execution_count": null,
      "outputs": []
    },
    {
      "cell_type": "code",
      "execution_count": null,
      "id": "2a7cab99",
      "metadata": {
        "deletable": false,
        "id": "2a7cab99",
        "outputId": "1a8f3ef2-d323-4ec2-ddf7-89670b5944c4"
      },
      "outputs": [
        {
          "data": {
            "text/html": [
              "<div>\n",
              "<style scoped>\n",
              "    .dataframe tbody tr th:only-of-type {\n",
              "        vertical-align: middle;\n",
              "    }\n",
              "\n",
              "    .dataframe tbody tr th {\n",
              "        vertical-align: top;\n",
              "    }\n",
              "\n",
              "    .dataframe thead th {\n",
              "        text-align: right;\n",
              "    }\n",
              "</style>\n",
              "<table border=\"1\" class=\"dataframe\">\n",
              "  <thead>\n",
              "    <tr style=\"text-align: right;\">\n",
              "      <th></th>\n",
              "      <th>children</th>\n",
              "      <th>days_employed</th>\n",
              "      <th>dob_years</th>\n",
              "      <th>education</th>\n",
              "      <th>education_id</th>\n",
              "      <th>family_status</th>\n",
              "      <th>family_status_id</th>\n",
              "      <th>gender</th>\n",
              "      <th>income_type</th>\n",
              "      <th>debt</th>\n",
              "      <th>total_income</th>\n",
              "      <th>purpose</th>\n",
              "    </tr>\n",
              "  </thead>\n",
              "  <tbody>\n",
              "    <tr>\n",
              "      <th>0</th>\n",
              "      <td>1</td>\n",
              "      <td>-8437.673028</td>\n",
              "      <td>42</td>\n",
              "      <td>высшее</td>\n",
              "      <td>0</td>\n",
              "      <td>женат / замужем</td>\n",
              "      <td>0</td>\n",
              "      <td>F</td>\n",
              "      <td>сотрудник</td>\n",
              "      <td>0</td>\n",
              "      <td>253875.639453</td>\n",
              "      <td>покупка жилья</td>\n",
              "    </tr>\n",
              "    <tr>\n",
              "      <th>1</th>\n",
              "      <td>1</td>\n",
              "      <td>-4024.803754</td>\n",
              "      <td>36</td>\n",
              "      <td>среднее</td>\n",
              "      <td>1</td>\n",
              "      <td>женат / замужем</td>\n",
              "      <td>0</td>\n",
              "      <td>F</td>\n",
              "      <td>сотрудник</td>\n",
              "      <td>0</td>\n",
              "      <td>112080.014102</td>\n",
              "      <td>приобретение автомобиля</td>\n",
              "    </tr>\n",
              "    <tr>\n",
              "      <th>2</th>\n",
              "      <td>0</td>\n",
              "      <td>-5623.422610</td>\n",
              "      <td>33</td>\n",
              "      <td>Среднее</td>\n",
              "      <td>1</td>\n",
              "      <td>женат / замужем</td>\n",
              "      <td>0</td>\n",
              "      <td>M</td>\n",
              "      <td>сотрудник</td>\n",
              "      <td>0</td>\n",
              "      <td>145885.952297</td>\n",
              "      <td>покупка жилья</td>\n",
              "    </tr>\n",
              "    <tr>\n",
              "      <th>3</th>\n",
              "      <td>3</td>\n",
              "      <td>-4124.747207</td>\n",
              "      <td>32</td>\n",
              "      <td>среднее</td>\n",
              "      <td>1</td>\n",
              "      <td>женат / замужем</td>\n",
              "      <td>0</td>\n",
              "      <td>M</td>\n",
              "      <td>сотрудник</td>\n",
              "      <td>0</td>\n",
              "      <td>267628.550329</td>\n",
              "      <td>дополнительное образование</td>\n",
              "    </tr>\n",
              "    <tr>\n",
              "      <th>4</th>\n",
              "      <td>0</td>\n",
              "      <td>340266.072047</td>\n",
              "      <td>53</td>\n",
              "      <td>среднее</td>\n",
              "      <td>1</td>\n",
              "      <td>гражданский брак</td>\n",
              "      <td>1</td>\n",
              "      <td>F</td>\n",
              "      <td>пенсионер</td>\n",
              "      <td>0</td>\n",
              "      <td>158616.077870</td>\n",
              "      <td>сыграть свадьбу</td>\n",
              "    </tr>\n",
              "    <tr>\n",
              "      <th>5</th>\n",
              "      <td>0</td>\n",
              "      <td>-926.185831</td>\n",
              "      <td>27</td>\n",
              "      <td>высшее</td>\n",
              "      <td>0</td>\n",
              "      <td>гражданский брак</td>\n",
              "      <td>1</td>\n",
              "      <td>M</td>\n",
              "      <td>компаньон</td>\n",
              "      <td>0</td>\n",
              "      <td>255763.565419</td>\n",
              "      <td>покупка жилья</td>\n",
              "    </tr>\n",
              "    <tr>\n",
              "      <th>6</th>\n",
              "      <td>0</td>\n",
              "      <td>-2879.202052</td>\n",
              "      <td>43</td>\n",
              "      <td>высшее</td>\n",
              "      <td>0</td>\n",
              "      <td>женат / замужем</td>\n",
              "      <td>0</td>\n",
              "      <td>F</td>\n",
              "      <td>компаньон</td>\n",
              "      <td>0</td>\n",
              "      <td>240525.971920</td>\n",
              "      <td>операции с жильем</td>\n",
              "    </tr>\n",
              "    <tr>\n",
              "      <th>7</th>\n",
              "      <td>0</td>\n",
              "      <td>-152.779569</td>\n",
              "      <td>50</td>\n",
              "      <td>СРЕДНЕЕ</td>\n",
              "      <td>1</td>\n",
              "      <td>женат / замужем</td>\n",
              "      <td>0</td>\n",
              "      <td>M</td>\n",
              "      <td>сотрудник</td>\n",
              "      <td>0</td>\n",
              "      <td>135823.934197</td>\n",
              "      <td>образование</td>\n",
              "    </tr>\n",
              "    <tr>\n",
              "      <th>8</th>\n",
              "      <td>2</td>\n",
              "      <td>-6929.865299</td>\n",
              "      <td>35</td>\n",
              "      <td>ВЫСШЕЕ</td>\n",
              "      <td>0</td>\n",
              "      <td>гражданский брак</td>\n",
              "      <td>1</td>\n",
              "      <td>F</td>\n",
              "      <td>сотрудник</td>\n",
              "      <td>0</td>\n",
              "      <td>95856.832424</td>\n",
              "      <td>на проведение свадьбы</td>\n",
              "    </tr>\n",
              "    <tr>\n",
              "      <th>9</th>\n",
              "      <td>0</td>\n",
              "      <td>-2188.756445</td>\n",
              "      <td>41</td>\n",
              "      <td>среднее</td>\n",
              "      <td>1</td>\n",
              "      <td>женат / замужем</td>\n",
              "      <td>0</td>\n",
              "      <td>M</td>\n",
              "      <td>сотрудник</td>\n",
              "      <td>0</td>\n",
              "      <td>144425.938277</td>\n",
              "      <td>покупка жилья для семьи</td>\n",
              "    </tr>\n",
              "    <tr>\n",
              "      <th>10</th>\n",
              "      <td>2</td>\n",
              "      <td>-4171.483647</td>\n",
              "      <td>36</td>\n",
              "      <td>высшее</td>\n",
              "      <td>0</td>\n",
              "      <td>женат / замужем</td>\n",
              "      <td>0</td>\n",
              "      <td>M</td>\n",
              "      <td>компаньон</td>\n",
              "      <td>0</td>\n",
              "      <td>113943.491460</td>\n",
              "      <td>покупка недвижимости</td>\n",
              "    </tr>\n",
              "    <tr>\n",
              "      <th>11</th>\n",
              "      <td>0</td>\n",
              "      <td>-792.701887</td>\n",
              "      <td>40</td>\n",
              "      <td>среднее</td>\n",
              "      <td>1</td>\n",
              "      <td>женат / замужем</td>\n",
              "      <td>0</td>\n",
              "      <td>F</td>\n",
              "      <td>сотрудник</td>\n",
              "      <td>0</td>\n",
              "      <td>77069.234271</td>\n",
              "      <td>покупка коммерческой недвижимости</td>\n",
              "    </tr>\n",
              "    <tr>\n",
              "      <th>12</th>\n",
              "      <td>0</td>\n",
              "      <td>NaN</td>\n",
              "      <td>65</td>\n",
              "      <td>среднее</td>\n",
              "      <td>1</td>\n",
              "      <td>гражданский брак</td>\n",
              "      <td>1</td>\n",
              "      <td>M</td>\n",
              "      <td>пенсионер</td>\n",
              "      <td>0</td>\n",
              "      <td>NaN</td>\n",
              "      <td>сыграть свадьбу</td>\n",
              "    </tr>\n",
              "    <tr>\n",
              "      <th>13</th>\n",
              "      <td>0</td>\n",
              "      <td>-1846.641941</td>\n",
              "      <td>54</td>\n",
              "      <td>неоконченное высшее</td>\n",
              "      <td>2</td>\n",
              "      <td>женат / замужем</td>\n",
              "      <td>0</td>\n",
              "      <td>F</td>\n",
              "      <td>сотрудник</td>\n",
              "      <td>0</td>\n",
              "      <td>130458.228857</td>\n",
              "      <td>приобретение автомобиля</td>\n",
              "    </tr>\n",
              "    <tr>\n",
              "      <th>14</th>\n",
              "      <td>0</td>\n",
              "      <td>-1844.956182</td>\n",
              "      <td>56</td>\n",
              "      <td>высшее</td>\n",
              "      <td>0</td>\n",
              "      <td>гражданский брак</td>\n",
              "      <td>1</td>\n",
              "      <td>F</td>\n",
              "      <td>компаньон</td>\n",
              "      <td>1</td>\n",
              "      <td>165127.911772</td>\n",
              "      <td>покупка жилой недвижимости</td>\n",
              "    </tr>\n",
              "    <tr>\n",
              "      <th>15</th>\n",
              "      <td>1</td>\n",
              "      <td>-972.364419</td>\n",
              "      <td>26</td>\n",
              "      <td>среднее</td>\n",
              "      <td>1</td>\n",
              "      <td>женат / замужем</td>\n",
              "      <td>0</td>\n",
              "      <td>F</td>\n",
              "      <td>сотрудник</td>\n",
              "      <td>0</td>\n",
              "      <td>116820.904450</td>\n",
              "      <td>строительство собственной недвижимости</td>\n",
              "    </tr>\n",
              "    <tr>\n",
              "      <th>16</th>\n",
              "      <td>0</td>\n",
              "      <td>-1719.934226</td>\n",
              "      <td>35</td>\n",
              "      <td>среднее</td>\n",
              "      <td>1</td>\n",
              "      <td>женат / замужем</td>\n",
              "      <td>0</td>\n",
              "      <td>F</td>\n",
              "      <td>сотрудник</td>\n",
              "      <td>0</td>\n",
              "      <td>289202.704229</td>\n",
              "      <td>недвижимость</td>\n",
              "    </tr>\n",
              "    <tr>\n",
              "      <th>17</th>\n",
              "      <td>0</td>\n",
              "      <td>-2369.999720</td>\n",
              "      <td>33</td>\n",
              "      <td>высшее</td>\n",
              "      <td>0</td>\n",
              "      <td>гражданский брак</td>\n",
              "      <td>1</td>\n",
              "      <td>M</td>\n",
              "      <td>сотрудник</td>\n",
              "      <td>0</td>\n",
              "      <td>90410.586745</td>\n",
              "      <td>строительство недвижимости</td>\n",
              "    </tr>\n",
              "    <tr>\n",
              "      <th>18</th>\n",
              "      <td>0</td>\n",
              "      <td>400281.136913</td>\n",
              "      <td>53</td>\n",
              "      <td>среднее</td>\n",
              "      <td>1</td>\n",
              "      <td>вдовец / вдова</td>\n",
              "      <td>2</td>\n",
              "      <td>F</td>\n",
              "      <td>пенсионер</td>\n",
              "      <td>0</td>\n",
              "      <td>56823.777243</td>\n",
              "      <td>на покупку подержанного автомобиля</td>\n",
              "    </tr>\n",
              "    <tr>\n",
              "      <th>19</th>\n",
              "      <td>0</td>\n",
              "      <td>-10038.818549</td>\n",
              "      <td>48</td>\n",
              "      <td>СРЕДНЕЕ</td>\n",
              "      <td>1</td>\n",
              "      <td>в разводе</td>\n",
              "      <td>3</td>\n",
              "      <td>F</td>\n",
              "      <td>сотрудник</td>\n",
              "      <td>0</td>\n",
              "      <td>242831.107982</td>\n",
              "      <td>на покупку своего автомобиля</td>\n",
              "    </tr>\n",
              "  </tbody>\n",
              "</table>\n",
              "</div>"
            ],
            "text/plain": [
              "    children  days_employed  dob_years            education  education_id  \\\n",
              "0          1   -8437.673028         42               высшее             0   \n",
              "1          1   -4024.803754         36              среднее             1   \n",
              "2          0   -5623.422610         33              Среднее             1   \n",
              "3          3   -4124.747207         32              среднее             1   \n",
              "4          0  340266.072047         53              среднее             1   \n",
              "5          0    -926.185831         27               высшее             0   \n",
              "6          0   -2879.202052         43               высшее             0   \n",
              "7          0    -152.779569         50              СРЕДНЕЕ             1   \n",
              "8          2   -6929.865299         35               ВЫСШЕЕ             0   \n",
              "9          0   -2188.756445         41              среднее             1   \n",
              "10         2   -4171.483647         36               высшее             0   \n",
              "11         0    -792.701887         40              среднее             1   \n",
              "12         0            NaN         65              среднее             1   \n",
              "13         0   -1846.641941         54  неоконченное высшее             2   \n",
              "14         0   -1844.956182         56               высшее             0   \n",
              "15         1    -972.364419         26              среднее             1   \n",
              "16         0   -1719.934226         35              среднее             1   \n",
              "17         0   -2369.999720         33               высшее             0   \n",
              "18         0  400281.136913         53              среднее             1   \n",
              "19         0  -10038.818549         48              СРЕДНЕЕ             1   \n",
              "\n",
              "       family_status  family_status_id gender income_type  debt  \\\n",
              "0    женат / замужем                 0      F   сотрудник     0   \n",
              "1    женат / замужем                 0      F   сотрудник     0   \n",
              "2    женат / замужем                 0      M   сотрудник     0   \n",
              "3    женат / замужем                 0      M   сотрудник     0   \n",
              "4   гражданский брак                 1      F   пенсионер     0   \n",
              "5   гражданский брак                 1      M   компаньон     0   \n",
              "6    женат / замужем                 0      F   компаньон     0   \n",
              "7    женат / замужем                 0      M   сотрудник     0   \n",
              "8   гражданский брак                 1      F   сотрудник     0   \n",
              "9    женат / замужем                 0      M   сотрудник     0   \n",
              "10   женат / замужем                 0      M   компаньон     0   \n",
              "11   женат / замужем                 0      F   сотрудник     0   \n",
              "12  гражданский брак                 1      M   пенсионер     0   \n",
              "13   женат / замужем                 0      F   сотрудник     0   \n",
              "14  гражданский брак                 1      F   компаньон     1   \n",
              "15   женат / замужем                 0      F   сотрудник     0   \n",
              "16   женат / замужем                 0      F   сотрудник     0   \n",
              "17  гражданский брак                 1      M   сотрудник     0   \n",
              "18    вдовец / вдова                 2      F   пенсионер     0   \n",
              "19         в разводе                 3      F   сотрудник     0   \n",
              "\n",
              "     total_income                                 purpose  \n",
              "0   253875.639453                           покупка жилья  \n",
              "1   112080.014102                 приобретение автомобиля  \n",
              "2   145885.952297                           покупка жилья  \n",
              "3   267628.550329              дополнительное образование  \n",
              "4   158616.077870                         сыграть свадьбу  \n",
              "5   255763.565419                           покупка жилья  \n",
              "6   240525.971920                       операции с жильем  \n",
              "7   135823.934197                             образование  \n",
              "8    95856.832424                   на проведение свадьбы  \n",
              "9   144425.938277                 покупка жилья для семьи  \n",
              "10  113943.491460                    покупка недвижимости  \n",
              "11   77069.234271       покупка коммерческой недвижимости  \n",
              "12            NaN                         сыграть свадьбу  \n",
              "13  130458.228857                 приобретение автомобиля  \n",
              "14  165127.911772              покупка жилой недвижимости  \n",
              "15  116820.904450  строительство собственной недвижимости  \n",
              "16  289202.704229                            недвижимость  \n",
              "17   90410.586745              строительство недвижимости  \n",
              "18   56823.777243      на покупку подержанного автомобиля  \n",
              "19  242831.107982            на покупку своего автомобиля  "
            ]
          },
          "execution_count": 4,
          "metadata": {},
          "output_type": "execute_result"
        }
      ],
      "source": [
        "data.head(20)"
      ]
    },
    {
      "cell_type": "code",
      "execution_count": null,
      "id": "2b757bca",
      "metadata": {
        "deletable": false,
        "id": "2b757bca",
        "outputId": "15376089-8dad-46c9-b520-c05248d43158"
      },
      "outputs": [
        {
          "name": "stdout",
          "output_type": "stream",
          "text": [
            "<class 'pandas.core.frame.DataFrame'>\n",
            "RangeIndex: 21525 entries, 0 to 21524\n",
            "Data columns (total 12 columns):\n",
            " #   Column            Non-Null Count  Dtype  \n",
            "---  ------            --------------  -----  \n",
            " 0   children          21525 non-null  int64  \n",
            " 1   days_employed     19351 non-null  float64\n",
            " 2   dob_years         21525 non-null  int64  \n",
            " 3   education         21525 non-null  object \n",
            " 4   education_id      21525 non-null  int64  \n",
            " 5   family_status     21525 non-null  object \n",
            " 6   family_status_id  21525 non-null  int64  \n",
            " 7   gender            21525 non-null  object \n",
            " 8   income_type       21525 non-null  object \n",
            " 9   debt              21525 non-null  int64  \n",
            " 10  total_income      19351 non-null  float64\n",
            " 11  purpose           21525 non-null  object \n",
            "dtypes: float64(2), int64(5), object(5)\n",
            "memory usage: 2.0+ MB\n"
          ]
        }
      ],
      "source": [
        "data.info()"
      ]
    },
    {
      "cell_type": "markdown",
      "source": [
        "После нашего первичного знакомства с таблицей, мы моем сделать следующие выводы:\n",
        "\n",
        "1. В столбце \"total_income\" и  \"days_employed\" колличество строк гораздо меньше, чем в остальных. Это говорит о том, что в данном столбце есть какие-то проблемы с данными.\n",
        "2.  Некорректно отображается минимальный и максимальный показатель по детям(ну 20 детей вполне вероятно, что такое возможно, но не будем упускать этот момент из виду, но -1 ребёнок...)\n",
        "3. Так же огромный разброс в колличестве стажа работы. Данный стоблец имеет отрцательные показатели так и сверхположительные. Максимальное значение 400 тыс. дней, что равно ~100 годам работы при максмальном занчении в столбце \"dob_years\" в 75 лет. Что явно говорит о том, что данные отображаются неккоректно.\n",
        "4. Возраст. Минимальное значение равняется 0. Тут два варианта. Либо он не указан, либо какая-то ошибка.\n",
        "5. В столбце education значения имеют разный регистр, но одинаковый id.\n",
        "6. в столце purpose имеются одинаковые по смыслу цели, но разные по описанию\n",
        "7. столбец days_employed имеет тип float64, что не совсем корректно для наших исследований, т.к. нельзя сказать, что человек отработал 25.62737237 дней"
      ],
      "metadata": {
        "id": "4E1UyUXJF_av"
      },
      "id": "4E1UyUXJF_av"
    },
    {
      "cell_type": "markdown",
      "id": "333ec665",
      "metadata": {
        "deletable": false,
        "id": "333ec665"
      },
      "source": [
        "## Предобработка данных"
      ]
    },
    {
      "cell_type": "markdown",
      "id": "02d92d53",
      "metadata": {
        "deletable": false,
        "id": "02d92d53"
      },
      "source": [
        "### Удаление пропусков"
      ]
    },
    {
      "cell_type": "code",
      "execution_count": null,
      "id": "7f9b2309",
      "metadata": {
        "deletable": false,
        "id": "7f9b2309",
        "outputId": "81f4d817-781c-465c-ed15-91ce4446810d"
      },
      "outputs": [
        {
          "data": {
            "text/plain": [
              "children               0\n",
              "days_employed       2174\n",
              "dob_years              0\n",
              "education              0\n",
              "education_id           0\n",
              "family_status          0\n",
              "family_status_id       0\n",
              "gender                 0\n",
              "income_type            0\n",
              "debt                   0\n",
              "total_income        2174\n",
              "purpose                0\n",
              "dtype: int64"
            ]
          },
          "execution_count": 6,
          "metadata": {},
          "output_type": "execute_result"
        }
      ],
      "source": [
        "data.isna().sum() # Изучим кол-во пропусков в таблице"
      ]
    },
    {
      "cell_type": "markdown",
      "id": "db86e27b",
      "metadata": {
        "deletable": false,
        "id": "db86e27b"
      },
      "source": [
        "Как видим в двух столбцах есть пропущенные значения. Один из них — `days_employed`. Другой столбец с пропущенными значениями — `total_income` — хранит данные о доходах. На сумму дохода сильнее всего влияет тип занятости, поэтому заполнить пропуски в этом столбце следует медианным значением по каждому типу из столбца `income_type`. Например, у человека с типом занятости `сотрудник` пропуск в столбце `total_income` должен быть заполнен медианным доходом среди всех записей с тем же типом."
      ]
    },
    {
      "cell_type": "code",
      "execution_count": null,
      "id": "42006a93",
      "metadata": {
        "deletable": false,
        "id": "42006a93"
      },
      "outputs": [],
      "source": [
        "for t in data['income_type'].unique():\n",
        "    data.loc[(data['income_type'] == t) & (data['total_income'].isna()), 'total_income'] = \\\n",
        "    data.loc[(data['income_type'] == t), 'total_income'].median()"
      ]
    },
    {
      "cell_type": "markdown",
      "source": [
        "Заполним пропуски в столбце days_employed медианными значениями для каждого типа занятости income_type."
      ],
      "metadata": {
        "id": "8_wRpQpoDMHS"
      },
      "id": "8_wRpQpoDMHS"
    },
    {
      "cell_type": "code",
      "source": [
        "for t in data['income_type'].unique():\n",
        "    data.loc[(data['income_type'] == t) & (data['days_employed'].isna()), 'days_employed'] = \\\n",
        "    data.loc[(data['income_type'] == t), 'days_employed'].median()"
      ],
      "metadata": {
        "id": "K0KRLdUPDUe-"
      },
      "id": "K0KRLdUPDUe-",
      "execution_count": null,
      "outputs": []
    },
    {
      "cell_type": "markdown",
      "source": [
        "Убедимся, что все пропуски заполнены"
      ],
      "metadata": {
        "id": "5iuGGhF2ETbq"
      },
      "id": "5iuGGhF2ETbq"
    },
    {
      "cell_type": "code",
      "execution_count": null,
      "id": "55f78bc2",
      "metadata": {
        "deletable": false,
        "id": "55f78bc2",
        "outputId": "8da1e4e1-358e-4e87-98c9-f261bce0a7b2"
      },
      "outputs": [
        {
          "data": {
            "text/plain": [
              "children            0\n",
              "days_employed       0\n",
              "dob_years           0\n",
              "education           0\n",
              "education_id        0\n",
              "family_status       0\n",
              "family_status_id    0\n",
              "gender              0\n",
              "income_type         0\n",
              "debt                0\n",
              "total_income        0\n",
              "purpose             0\n",
              "dtype: int64"
            ]
          },
          "execution_count": 14,
          "metadata": {},
          "output_type": "execute_result"
        }
      ],
      "source": [
        "data.isna().sum()"
      ]
    },
    {
      "cell_type": "code",
      "source": [],
      "metadata": {
        "id": "xzIsw7FRKJrW"
      },
      "id": "xzIsw7FRKJrW",
      "execution_count": null,
      "outputs": []
    },
    {
      "cell_type": "markdown",
      "id": "89da5ece",
      "metadata": {
        "deletable": false,
        "id": "89da5ece"
      },
      "source": [
        "### Обработка аномальных значений"
      ]
    },
    {
      "cell_type": "markdown",
      "id": "57964554",
      "metadata": {
        "deletable": false,
        "id": "57964554"
      },
      "source": [
        "Во время первичного анализа данных, нами была выявлена аномалия -  отрицательное количество дней трудового стажа в столбце `days_employed`. Это явная ошибка в данных, обработаем значения в этом столбце, заменив все отрицательные значения положительными с помощью метода `abs()`."
      ]
    },
    {
      "cell_type": "code",
      "execution_count": null,
      "id": "f6f055bf",
      "metadata": {
        "deletable": false,
        "id": "f6f055bf"
      },
      "outputs": [],
      "source": [
        "data['days_employed'] = data['days_employed'].abs()"
      ]
    },
    {
      "cell_type": "markdown",
      "source": [
        "Проверим наличие ошибок в и столбце `children`, выведя список уникальных значений в этом столбце."
      ],
      "metadata": {
        "id": "0QGyG8FWEuDt"
      },
      "id": "0QGyG8FWEuDt"
    },
    {
      "cell_type": "code",
      "execution_count": null,
      "id": "ef5056eb",
      "metadata": {
        "deletable": false,
        "id": "ef5056eb",
        "outputId": "6975b15c-7f95-4697-d16d-a0c79b657b03"
      },
      "outputs": [
        {
          "data": {
            "text/plain": [
              "array([ 1,  0,  3,  2, -1,  4, 20,  5])"
            ]
          },
          "execution_count": 10,
          "metadata": {},
          "output_type": "execute_result"
        }
      ],
      "source": [
        "data['children'].unique()  #  Выведем перечень уникальных значений столбца `children`."
      ]
    },
    {
      "cell_type": "markdown",
      "id": "40b9ebf2",
      "metadata": {
        "deletable": false,
        "id": "40b9ebf2"
      },
      "source": [
        "В столбце `children` есть два аномальных значения. Удалим эти строки из датафрейма"
      ]
    },
    {
      "cell_type": "code",
      "execution_count": null,
      "id": "3ff9801d",
      "metadata": {
        "deletable": false,
        "id": "3ff9801d"
      },
      "outputs": [],
      "source": [
        "data = data[(data['children'] != -1) & (data['children'] != 20)]"
      ]
    },
    {
      "cell_type": "markdown",
      "source": [
        "Убедимся, что артефакты удалены"
      ],
      "metadata": {
        "id": "Q9Pdq-NeFlSG"
      },
      "id": "Q9Pdq-NeFlSG"
    },
    {
      "cell_type": "code",
      "execution_count": null,
      "id": "ad4fa8b7",
      "metadata": {
        "deletable": false,
        "id": "ad4fa8b7",
        "outputId": "b2097101-d49d-44d9-901b-32a65c9463d1"
      },
      "outputs": [
        {
          "data": {
            "text/plain": [
              "array([1, 0, 3, 2, 4, 5])"
            ]
          },
          "execution_count": 12,
          "metadata": {},
          "output_type": "execute_result"
        }
      ],
      "source": [
        "data['children'].unique()"
      ]
    },
    {
      "cell_type": "markdown",
      "id": "ddc81e43",
      "metadata": {
        "deletable": false,
        "id": "ddc81e43"
      },
      "source": [
        "### Изменение типов данных"
      ]
    },
    {
      "cell_type": "markdown",
      "id": "42d19d24",
      "metadata": {
        "deletable": false,
        "id": "42d19d24"
      },
      "source": [
        "Замените вещественный тип данных в столбце `total_income` и `days_employed` на целочисленный с помощью метода `astype()`."
      ]
    },
    {
      "cell_type": "code",
      "execution_count": null,
      "id": "920b65ad",
      "metadata": {
        "deletable": false,
        "id": "920b65ad"
      },
      "outputs": [],
      "source": [
        "data['total_income'] = data['total_income'].astype(int)\n",
        "data['days_employed '] = data['total_income'].astype(int)"
      ]
    },
    {
      "cell_type": "markdown",
      "id": "80c420ba",
      "metadata": {
        "deletable": false,
        "id": "80c420ba"
      },
      "source": [
        "### Обработка дубликатов"
      ]
    },
    {
      "cell_type": "markdown",
      "id": "dc587695",
      "metadata": {
        "deletable": false,
        "id": "dc587695"
      },
      "source": [
        "Выведем на экран количество строк-дубликатов в данных. И если такие строки присутствуют, удалим их."
      ]
    },
    {
      "cell_type": "code",
      "execution_count": null,
      "id": "3ee445e4",
      "metadata": {
        "deletable": false,
        "id": "3ee445e4",
        "outputId": "9684deba-1934-42d1-99e1-cda61740f822"
      },
      "outputs": [
        {
          "data": {
            "text/plain": [
              "54"
            ]
          },
          "execution_count": 16,
          "metadata": {},
          "output_type": "execute_result"
        }
      ],
      "source": [
        "data.duplicated().sum()"
      ]
    },
    {
      "cell_type": "code",
      "execution_count": null,
      "id": "8575fe05",
      "metadata": {
        "deletable": false,
        "id": "8575fe05"
      },
      "outputs": [],
      "source": [
        "data = data.drop_duplicates()"
      ]
    },
    {
      "cell_type": "markdown",
      "id": "9771a76c",
      "metadata": {
        "deletable": false,
        "id": "9771a76c"
      },
      "source": [
        "Обработаем также и неявные дубликаты в столбце `education` найденные на этапе первичного анализа. В этом столбце есть одни и те же значения, но записанные по-разному: с использованием заглавных и строчных букв. Приведем их к нижнему регистру."
      ]
    },
    {
      "cell_type": "code",
      "execution_count": null,
      "id": "a9f8e2bf",
      "metadata": {
        "deletable": false,
        "id": "a9f8e2bf"
      },
      "outputs": [],
      "source": [
        "data['education'] = data['education'].str.lower()"
      ]
    },
    {
      "cell_type": "markdown",
      "id": "9904cf55",
      "metadata": {
        "deletable": false,
        "id": "9904cf55"
      },
      "source": [
        "### Категоризация данных"
      ]
    },
    {
      "cell_type": "markdown",
      "id": "72fcc8a2",
      "metadata": {
        "deletable": false,
        "id": "72fcc8a2"
      },
      "source": [
        "Для облегения дальнейшего анализа, создадим в датафрейме `data` столбец `total_income_category` с категориями со следующими:\n",
        "\n",
        "- 0–30000 — `'E'`;\n",
        "- 30001–50000 — `'D'`;\n",
        "- 50001–200000 — `'C'`;\n",
        "- 200001–1000000 — `'B'`;\n",
        "- 1000001 и выше — `'A'`."
      ]
    },
    {
      "cell_type": "code",
      "execution_count": null,
      "id": "e1771346",
      "metadata": {
        "deletable": false,
        "id": "e1771346"
      },
      "outputs": [],
      "source": [
        "def categorize_income(income):\n",
        "    try:\n",
        "        if 0 <= income <= 30000:\n",
        "            return 'E'\n",
        "        elif 30001 <= income <= 50000:\n",
        "            return 'D'\n",
        "        elif 50001 <= income <= 200000:\n",
        "            return 'C'\n",
        "        elif 200001 <= income <= 1000000:\n",
        "            return 'B'\n",
        "        elif income >= 1000001:\n",
        "            return 'A'\n",
        "    except:\n",
        "        pass"
      ]
    },
    {
      "cell_type": "code",
      "execution_count": null,
      "id": "d5f3586d",
      "metadata": {
        "deletable": false,
        "id": "d5f3586d"
      },
      "outputs": [],
      "source": [
        "data['total_income_category'] = data['total_income'].apply(categorize_income)"
      ]
    },
    {
      "cell_type": "markdown",
      "id": "dde49b5c",
      "metadata": {
        "deletable": false,
        "id": "dde49b5c"
      },
      "source": [
        "Выведем на экран перечень уникальных целей взятия кредита из столбца `purpose`."
      ]
    },
    {
      "cell_type": "code",
      "execution_count": null,
      "id": "f67ce9b3",
      "metadata": {
        "deletable": false,
        "id": "f67ce9b3",
        "outputId": "673c12d9-7d7e-4ae0-9812-c622c89dd244"
      },
      "outputs": [
        {
          "data": {
            "text/plain": [
              "array(['покупка жилья', 'приобретение автомобиля',\n",
              "       'дополнительное образование', 'сыграть свадьбу',\n",
              "       'операции с жильем', 'образование', 'на проведение свадьбы',\n",
              "       'покупка жилья для семьи', 'покупка недвижимости',\n",
              "       'покупка коммерческой недвижимости', 'покупка жилой недвижимости',\n",
              "       'строительство собственной недвижимости', 'недвижимость',\n",
              "       'строительство недвижимости', 'на покупку подержанного автомобиля',\n",
              "       'на покупку своего автомобиля',\n",
              "       'операции с коммерческой недвижимостью',\n",
              "       'строительство жилой недвижимости', 'жилье',\n",
              "       'операции со своей недвижимостью', 'автомобили',\n",
              "       'заняться образованием', 'сделка с подержанным автомобилем',\n",
              "       'получение образования', 'автомобиль', 'свадьба',\n",
              "       'получение дополнительного образования', 'покупка своего жилья',\n",
              "       'операции с недвижимостью', 'получение высшего образования',\n",
              "       'свой автомобиль', 'сделка с автомобилем',\n",
              "       'профильное образование', 'высшее образование',\n",
              "       'покупка жилья для сдачи', 'на покупку автомобиля', 'ремонт жилью',\n",
              "       'заняться высшим образованием'], dtype=object)"
            ]
          },
          "execution_count": 21,
          "metadata": {},
          "output_type": "execute_result"
        }
      ],
      "source": [
        "data['purpose'].unique()"
      ]
    },
    {
      "cell_type": "markdown",
      "id": "85d0aef0",
      "metadata": {
        "deletable": false,
        "id": "85d0aef0"
      },
      "source": [
        "Как мы можем, видеть, по сути все указанные выше цели, можно отнести к 4м основным категориям:\n",
        "\n",
        "- `'операции с автомобилем'`,\n",
        "- `'операции с недвижимостью'`,\n",
        "- `'проведение свадьбы'`,\n",
        "- `'получение образования'`.\n",
        "\n",
        "Создадим функцию, которая на основании данных из столбца `purpose` сформирует новый столбец `purpose_category` с категориями выделенными мной выше."
      ]
    },
    {
      "cell_type": "code",
      "execution_count": null,
      "id": "e149fab4",
      "metadata": {
        "deletable": false,
        "id": "e149fab4"
      },
      "outputs": [],
      "source": [
        "def categorize_purpose(row):\n",
        "    try:\n",
        "        if 'автом' in row:\n",
        "            return 'операции с автомобилем'\n",
        "        elif 'жил' in row or 'недвиж' in row:\n",
        "            return 'операции с недвижимостью'\n",
        "        elif 'свад' in row:\n",
        "            return 'проведение свадьбы'\n",
        "        elif 'образов' in row:\n",
        "            return 'получение образования'\n",
        "    except:\n",
        "        return 'нет категории'"
      ]
    },
    {
      "cell_type": "code",
      "execution_count": null,
      "id": "bf36e69b",
      "metadata": {
        "deletable": false,
        "id": "bf36e69b"
      },
      "outputs": [],
      "source": [
        "data['purpose_category'] = data['purpose'].apply(categorize_purpose)"
      ]
    },
    {
      "cell_type": "markdown",
      "id": "09b242bf",
      "metadata": {
        "deletable": false,
        "editable": false,
        "id": "09b242bf"
      },
      "source": [
        "## Исследование гипотез"
      ]
    },
    {
      "cell_type": "markdown",
      "source": [
        "Теперь подробнее изучим гипотезы, поставленных в самом начале исследования:\n",
        "- Есть ли зависимость между количеством детей и возвратом кредита в срок?\n",
        "- Есть ли зависимость между семейным положением и возвратом кредита в срок?\n",
        "- Есть ли зависимость между уровнем дохода и возвратом кредита в срок?\n",
        "- Как разные цели кредита влияют на его возврат в срок?\n"
      ],
      "metadata": {
        "id": "4K6ZThEeH4Ge"
      },
      "id": "4K6ZThEeH4Ge"
    },
    {
      "cell_type": "markdown",
      "id": "c5d66278",
      "metadata": {
        "deletable": false,
        "editable": false,
        "id": "c5d66278"
      },
      "source": [
        "**Есть ли зависимость между количеством детей и возвратом кредита в срок?**"
      ]
    },
    {
      "cell_type": "code",
      "execution_count": null,
      "id": "2cacfc4a",
      "metadata": {
        "id": "2cacfc4a",
        "outputId": "652612f6-4792-4f35-e975-7d7e7f2611e1"
      },
      "outputs": [
        {
          "data": {
            "text/plain": [
              "children\n",
              "0    7.535266\n",
              "1    9.232689\n",
              "2    9.454191\n",
              "3    8.181818\n",
              "4    9.756098\n",
              "5    0.000000\n",
              "Name: debt, dtype: float64"
            ]
          },
          "execution_count": 26,
          "metadata": {},
          "output_type": "execute_result"
        }
      ],
      "source": [
        "(data.groupby('children')['debt'].sum() / data.groupby('children')['debt'].count())*100"
      ]
    },
    {
      "cell_type": "markdown",
      "id": "3a6b99ec",
      "metadata": {
        "deletable": false,
        "id": "3a6b99ec"
      },
      "source": [
        "**Вывод:**\n",
        "\n",
        " Колличество детей не сильно влияет на вероятность своевременной выплаты кредита. Из всех результатов, наименьший процент задолженностей по кредитам (7.535266 %) показали только люди без детей, далее результаты были примерно равны, за исключением семей с тремя детьми, также полное отсутвие задолженности показали люди с пятью детьми, но я считаю что выборка таких людей слишком мала (9 человек) чтобы делать окончательные выводы.\n",
        "\n",
        " Таким образом, можно точно заявить что отсутсвие детей, положительно влияет на возврат кредита в срок. Далее, незаивисмо от колличества детей, участники выборки показывают одинаковый  процент просрочек по кредитам с минимальными расхождениями, кроме семей с тремя детьми (8.181818 %) где этот процент понижается.\n",
        "\n",
        "Лучший заёмщик- без детей, Худший заёмщик- 4 ребенка"
      ]
    },
    {
      "cell_type": "markdown",
      "id": "97be82ca",
      "metadata": {
        "deletable": false,
        "editable": false,
        "id": "97be82ca"
      },
      "source": [
        "**Есть ли зависимость между семейным положением и возвратом кредита в срок?**"
      ]
    },
    {
      "cell_type": "code",
      "execution_count": null,
      "id": "dc3f7ee8",
      "metadata": {
        "id": "dc3f7ee8",
        "outputId": "bb888612-d85f-4991-a64e-23a46d864325"
      },
      "outputs": [
        {
          "data": {
            "text/plain": [
              "family_status\n",
              "Не женат / не замужем    9.763948\n",
              "в разводе                7.064760\n",
              "вдовец / вдова           6.624606\n",
              "гражданский брак         9.286059\n",
              "женат / замужем          7.557476\n",
              "Name: debt, dtype: float64"
            ]
          },
          "execution_count": 29,
          "metadata": {},
          "output_type": "execute_result"
        }
      ],
      "source": [
        "(data.groupby('family_status')['debt'].sum() / data.groupby('family_status')['debt'].count())*100 # Ваш код будет здесь. Вы можете создавать новые ячейки."
      ]
    },
    {
      "cell_type": "markdown",
      "id": "95ee44d3",
      "metadata": {
        "deletable": false,
        "id": "95ee44d3"
      },
      "source": [
        "**Вывод:** Да и разница довольно ощутима, так например не связанные узами брака люди (9.763948 % людей с просроченным долгом от общего числа людей в базе), намного чаще, чем вдовцы (6.624606 % людей с просроченным долгом от общего числа людей в базе) не выплачивают долг вовремя. В то время, как люди состоящие в браке, обладают меньшим колличеством, просроченных кредитов, несмотря на то, что являются одной из самых крупных групп в выборке. Похоже, что люди не связанные браком сейчас и никогда не бывшие в браке ('Не женат / не замужем'  и 'гражданский брак') чаще склонны не возвращать кредит в срок.\n",
        "\n",
        "Лучший заёмщик- Вдовец, Худший заёмщик- Не женатый"
      ]
    },
    {
      "cell_type": "markdown",
      "id": "1e8b2fca",
      "metadata": {
        "deletable": false,
        "editable": false,
        "id": "1e8b2fca"
      },
      "source": [
        "**Есть ли зависимость между уровнем дохода и возвратом кредита в срок?**"
      ]
    },
    {
      "cell_type": "code",
      "execution_count": null,
      "id": "cd7e3720",
      "metadata": {
        "id": "cd7e3720",
        "scrolled": true,
        "outputId": "a91edc88-59bf-488e-ac73-ff5e594341a1"
      },
      "outputs": [
        {
          "data": {
            "text/plain": [
              "total_income_category\n",
              "A       25\n",
              "B     5014\n",
              "C    15938\n",
              "D      349\n",
              "E       22\n",
              "Name: debt, dtype: int64"
            ]
          },
          "execution_count": 30,
          "metadata": {},
          "output_type": "execute_result"
        }
      ],
      "source": [
        "data.groupby('total_income_category')['debt'].count() # Ваш код будет здесь. Вы можете создавать новые ячейки."
      ]
    },
    {
      "cell_type": "code",
      "execution_count": null,
      "id": "2f9645b3",
      "metadata": {
        "scrolled": true,
        "id": "2f9645b3",
        "outputId": "f3393851-a94b-47a4-f70a-5570c649de76"
      },
      "outputs": [
        {
          "data": {
            "text/plain": [
              "total_income_category\n",
              "A       2\n",
              "B     354\n",
              "C    1353\n",
              "D      21\n",
              "E       2\n",
              "Name: debt, dtype: int64"
            ]
          },
          "execution_count": 31,
          "metadata": {},
          "output_type": "execute_result"
        }
      ],
      "source": [
        "data.groupby('total_income_category')['debt'].sum()"
      ]
    },
    {
      "cell_type": "code",
      "execution_count": null,
      "id": "727f3ece",
      "metadata": {
        "id": "727f3ece",
        "outputId": "30c600d4-084e-4f2f-e4d8-9ce28e42da88"
      },
      "outputs": [
        {
          "data": {
            "text/plain": [
              "total_income_category\n",
              "A    8.000000\n",
              "B    7.060231\n",
              "C    8.489145\n",
              "D    6.017192\n",
              "E    9.090909\n",
              "Name: debt, dtype: float64"
            ]
          },
          "execution_count": 32,
          "metadata": {},
          "output_type": "execute_result"
        }
      ],
      "source": [
        "(data.groupby('total_income_category')['debt'].sum() / data.groupby('total_income_category')['debt'].count())*100"
      ]
    },
    {
      "cell_type": "markdown",
      "id": "e8593def",
      "metadata": {
        "deletable": false,
        "id": "e8593def"
      },
      "source": [
        "**Вывод:** Согласно показаниям, прямой зависимости между уровнем дохода и вероянтностью возврата кредита в срок выявить не удалось. Так например категория D ( уровень дохода 30001–50000), показал меньший процент невозвращенных кредитов, чем категории с большим доходом\n",
        "\n",
        "\n",
        "В то-же время, категория B, с большим доходом чем категория С, показала меньший уровень просрочек по кредитам, чем другие категории равно как с большим (A) так и меньшим доходом (С). Таким образом наименьший процент просроченных кредитов был у групп D (6.017192 %) и затем С (7.060231 %). Остальные группы были примерно равны, за исключением группы Е с наибольшим результатом просроченных кредитов.\n",
        "\n",
        "\n",
        "Я считаю, что выборка по категориям А и Е слишком мала, чтобы делать окончательные выводы по зависимости уровня дохода от вероятности возврата кредита в срок по этим двум группам, хотя эта закономерность четко прослеживается.\n",
        "\n",
        "\n",
        "Луч- D (30001–50000) Худ- E (0–30000)"
      ]
    },
    {
      "cell_type": "markdown",
      "id": "99ecbd1f",
      "metadata": {
        "deletable": false,
        "editable": false,
        "id": "99ecbd1f"
      },
      "source": [
        "**Как разные цели кредита влияют на его возврат в срок?**"
      ]
    },
    {
      "cell_type": "code",
      "execution_count": null,
      "id": "2b687290",
      "metadata": {
        "id": "2b687290",
        "outputId": "9adb516f-6114-4e31-bfdf-eca69ed17e44"
      },
      "outputs": [
        {
          "data": {
            "text/plain": [
              "purpose_category\n",
              "операции с автомобилем       4281\n",
              "операции с недвижимостью    10754\n",
              "получение образования        3989\n",
              "проведение свадьбы           2324\n",
              "Name: debt, dtype: int64"
            ]
          },
          "execution_count": 33,
          "metadata": {},
          "output_type": "execute_result"
        }
      ],
      "source": [
        "data.groupby('purpose_category')['debt'].count()"
      ]
    },
    {
      "cell_type": "code",
      "execution_count": null,
      "id": "9d1089e9",
      "metadata": {
        "id": "9d1089e9",
        "outputId": "08b9f499-fb8d-47d4-ab94-2a550c4161b7"
      },
      "outputs": [
        {
          "data": {
            "text/plain": [
              "purpose_category\n",
              "операции с автомобилем      9.343611\n",
              "операции с недвижимостью    7.253115\n",
              "получение образования       9.250439\n",
              "проведение свадьбы          7.874355\n",
              "Name: debt, dtype: float64"
            ]
          },
          "execution_count": 35,
          "metadata": {},
          "output_type": "execute_result"
        }
      ],
      "source": [
        "(data.groupby('purpose_category')['debt'].sum() / data.groupby('purpose_category')['debt'].count())*100"
      ]
    },
    {
      "cell_type": "markdown",
      "id": "b4bb2ce6",
      "metadata": {
        "deletable": false,
        "id": "b4bb2ce6"
      },
      "source": [
        "**Вывод:** Наибольшее число целей получения кредита демонстрирует цель- операции с недвижимостью, они также являются и наибольшими (7.253115%) по вероятности возвращения кредита, второй по вероятности возврата кредита в срок, является цель- проведение свадьбы с вторым по вероятности возврата кредита (7.874355 %).\n",
        "Луч- операции с недвижимостью Худ- операции с автомобилем Луч- D (30001–50000) Худ- E (0–30000) Луч- Вдовец, Худ- Не женатый Луч- без детей, Худ- 4 ребенка  "
      ]
    },
    {
      "cell_type": "markdown",
      "id": "6db5255a",
      "metadata": {
        "deletable": false,
        "editable": false,
        "id": "6db5255a"
      },
      "source": [
        "## Общий вывод."
      ]
    },
    {
      "cell_type": "markdown",
      "source": [
        "1.  Люди у которых нет детей более ответственны к своим долговым обязательствам, чем те, у кого они есть.\n",
        "2.  Люди, не имеющие законных отношений более склонны к допущению задолжности.\n",
        "3. Чем ниже достаток, тем более ответственен заёмщик\n",
        "4. Люди, чья цель кредита является в приобретении недвижимости являются самыми надёжными, чем те чья цель является приобретение автомобиля или получение образования\n",
        "\n",
        "\n",
        "\n",
        "**Заключение**\n",
        "\n",
        "\n",
        "Получив ответы на вопросы выше, мы можем сделать вывод, что самым надежным заёмщиком , будет клиент, отвечающий следующим критериям:\n",
        "    1. Вдовец, без детей, с доходом от 30001 до 50000, берущий кредит на операции с недвижимостью\n",
        "\n",
        "В то время как наименее надежным заёмщиком, будет:\n",
        "    1. Не женатый человек, с 4мя детьми и доходом от 0 до 30000, берущий кредит для операций с автомобилем или для получения образования"
      ],
      "metadata": {
        "id": "0vCiyEv0KzFk"
      },
      "id": "0vCiyEv0KzFk"
    }
  ],
  "metadata": {
    "ExecuteTimeLog": [
      {
        "duration": 457,
        "start_time": "2022-06-27T16:34:55.690Z"
      },
      {
        "duration": 28,
        "start_time": "2022-06-27T16:34:56.149Z"
      },
      {
        "duration": 17,
        "start_time": "2022-06-27T16:34:56.178Z"
      },
      {
        "duration": 12,
        "start_time": "2022-06-27T16:34:56.198Z"
      },
      {
        "duration": 70,
        "start_time": "2022-06-27T16:34:56.212Z"
      },
      {
        "duration": 3,
        "start_time": "2022-06-27T16:34:56.284Z"
      },
      {
        "duration": 13,
        "start_time": "2022-06-27T16:34:56.288Z"
      },
      {
        "duration": 6,
        "start_time": "2022-06-27T16:34:56.302Z"
      },
      {
        "duration": 9,
        "start_time": "2022-06-27T16:34:56.310Z"
      },
      {
        "duration": 4,
        "start_time": "2022-06-27T16:34:56.322Z"
      },
      {
        "duration": 48,
        "start_time": "2022-06-27T16:34:56.352Z"
      },
      {
        "duration": 10,
        "start_time": "2022-06-27T16:34:56.402Z"
      },
      {
        "duration": 5,
        "start_time": "2022-06-27T16:34:56.414Z"
      },
      {
        "duration": 44,
        "start_time": "2022-06-27T16:34:56.420Z"
      },
      {
        "duration": 20,
        "start_time": "2022-06-27T16:34:56.466Z"
      },
      {
        "duration": 12,
        "start_time": "2022-06-27T16:34:56.487Z"
      },
      {
        "duration": 8,
        "start_time": "2022-06-27T16:34:56.500Z"
      },
      {
        "duration": 12,
        "start_time": "2022-06-27T16:34:56.510Z"
      },
      {
        "duration": 30,
        "start_time": "2022-06-27T16:34:56.524Z"
      },
      {
        "duration": 6,
        "start_time": "2022-06-27T16:34:56.556Z"
      },
      {
        "duration": 20,
        "start_time": "2022-06-27T16:34:56.564Z"
      },
      {
        "duration": 6,
        "start_time": "2022-06-27T16:34:56.586Z"
      },
      {
        "duration": 6,
        "start_time": "2022-06-27T16:34:56.594Z"
      },
      {
        "duration": 5,
        "start_time": "2022-06-27T16:34:56.602Z"
      },
      {
        "duration": 7,
        "start_time": "2022-06-27T16:34:56.608Z"
      },
      {
        "duration": 77,
        "start_time": "2022-06-27T16:41:46.726Z"
      },
      {
        "duration": 9,
        "start_time": "2022-06-27T16:41:54.835Z"
      },
      {
        "duration": 72,
        "start_time": "2022-06-27T16:55:44.917Z"
      },
      {
        "duration": 11,
        "start_time": "2022-06-27T16:56:01.964Z"
      },
      {
        "duration": 14,
        "start_time": "2022-06-27T16:56:24.418Z"
      },
      {
        "duration": 7,
        "start_time": "2022-06-27T16:59:54.368Z"
      },
      {
        "duration": 8,
        "start_time": "2022-06-27T16:59:58.538Z"
      },
      {
        "duration": 26,
        "start_time": "2022-06-27T17:00:32.702Z"
      },
      {
        "duration": 8,
        "start_time": "2022-06-27T17:00:37.437Z"
      },
      {
        "duration": 10,
        "start_time": "2022-06-27T17:02:53.502Z"
      },
      {
        "duration": 94,
        "start_time": "2022-06-27T17:05:19.840Z"
      },
      {
        "duration": 74,
        "start_time": "2022-06-27T17:05:34.040Z"
      },
      {
        "duration": 88,
        "start_time": "2022-06-27T17:05:45.198Z"
      },
      {
        "duration": 12,
        "start_time": "2022-06-27T17:05:48.297Z"
      },
      {
        "duration": 11,
        "start_time": "2022-06-27T17:06:11.600Z"
      },
      {
        "duration": 14,
        "start_time": "2022-06-27T17:09:37.387Z"
      },
      {
        "duration": 8,
        "start_time": "2022-06-27T17:11:23.628Z"
      },
      {
        "duration": 11,
        "start_time": "2022-06-27T17:13:54.496Z"
      },
      {
        "duration": 8,
        "start_time": "2022-06-27T17:14:40.603Z"
      },
      {
        "duration": 7,
        "start_time": "2022-06-27T17:14:47.718Z"
      },
      {
        "duration": 10,
        "start_time": "2022-06-27T17:18:46.355Z"
      },
      {
        "duration": 6,
        "start_time": "2022-06-27T17:19:54.738Z"
      },
      {
        "duration": 7,
        "start_time": "2022-06-27T17:22:52.681Z"
      },
      {
        "duration": 11,
        "start_time": "2022-06-27T17:40:31.148Z"
      },
      {
        "duration": 6,
        "start_time": "2022-06-27T17:40:42.722Z"
      },
      {
        "duration": 8,
        "start_time": "2022-06-27T17:40:54.600Z"
      },
      {
        "duration": 9,
        "start_time": "2022-06-27T17:41:25.103Z"
      },
      {
        "duration": 9,
        "start_time": "2022-06-27T17:55:12.487Z"
      },
      {
        "duration": 8,
        "start_time": "2022-06-27T17:55:15.442Z"
      },
      {
        "duration": 11,
        "start_time": "2022-06-27T17:55:47.393Z"
      },
      {
        "duration": 18,
        "start_time": "2022-06-27T18:12:57.412Z"
      },
      {
        "duration": 13,
        "start_time": "2022-06-27T18:13:06.117Z"
      },
      {
        "duration": 69,
        "start_time": "2022-06-27T18:13:14.869Z"
      },
      {
        "duration": 16,
        "start_time": "2022-06-27T18:13:14.940Z"
      },
      {
        "duration": 14,
        "start_time": "2022-06-27T18:13:14.957Z"
      },
      {
        "duration": 10,
        "start_time": "2022-06-27T18:13:14.973Z"
      },
      {
        "duration": 37,
        "start_time": "2022-06-27T18:13:14.984Z"
      },
      {
        "duration": 3,
        "start_time": "2022-06-27T18:13:15.023Z"
      },
      {
        "duration": 8,
        "start_time": "2022-06-27T18:13:15.053Z"
      },
      {
        "duration": 11,
        "start_time": "2022-06-27T18:13:15.063Z"
      },
      {
        "duration": 7,
        "start_time": "2022-06-27T18:13:15.076Z"
      },
      {
        "duration": 8,
        "start_time": "2022-06-27T18:13:15.085Z"
      },
      {
        "duration": 65,
        "start_time": "2022-06-27T18:13:15.094Z"
      },
      {
        "duration": 10,
        "start_time": "2022-06-27T18:13:15.160Z"
      },
      {
        "duration": 12,
        "start_time": "2022-06-27T18:13:15.171Z"
      },
      {
        "duration": 22,
        "start_time": "2022-06-27T18:13:15.185Z"
      },
      {
        "duration": 19,
        "start_time": "2022-06-27T18:13:15.209Z"
      },
      {
        "duration": 29,
        "start_time": "2022-06-27T18:13:15.230Z"
      },
      {
        "duration": 5,
        "start_time": "2022-06-27T18:13:15.261Z"
      },
      {
        "duration": 15,
        "start_time": "2022-06-27T18:13:15.267Z"
      },
      {
        "duration": 10,
        "start_time": "2022-06-27T18:13:15.284Z"
      },
      {
        "duration": 5,
        "start_time": "2022-06-27T18:13:15.295Z"
      },
      {
        "duration": 15,
        "start_time": "2022-06-27T18:13:15.302Z"
      },
      {
        "duration": 5,
        "start_time": "2022-06-27T18:13:15.318Z"
      },
      {
        "duration": 31,
        "start_time": "2022-06-27T18:13:15.325Z"
      },
      {
        "duration": 8,
        "start_time": "2022-06-27T18:13:15.358Z"
      },
      {
        "duration": 8,
        "start_time": "2022-06-27T18:13:15.368Z"
      },
      {
        "duration": 9,
        "start_time": "2022-06-27T18:13:15.378Z"
      },
      {
        "duration": 12,
        "start_time": "2022-06-27T18:13:15.388Z"
      },
      {
        "duration": 6,
        "start_time": "2022-06-27T18:13:15.402Z"
      },
      {
        "duration": 48,
        "start_time": "2022-06-27T18:13:15.409Z"
      },
      {
        "duration": 10,
        "start_time": "2022-06-27T18:13:15.459Z"
      },
      {
        "duration": 8,
        "start_time": "2022-06-27T18:13:15.470Z"
      },
      {
        "duration": 8,
        "start_time": "2022-06-27T18:13:15.480Z"
      },
      {
        "duration": 12,
        "start_time": "2022-06-27T18:13:15.490Z"
      },
      {
        "duration": 9,
        "start_time": "2022-06-27T18:24:28.791Z"
      },
      {
        "duration": 8,
        "start_time": "2022-06-27T18:24:45.351Z"
      },
      {
        "duration": 8,
        "start_time": "2022-06-27T18:25:11.945Z"
      },
      {
        "duration": 7,
        "start_time": "2022-06-27T18:25:14.886Z"
      },
      {
        "duration": 9,
        "start_time": "2022-06-27T18:25:29.289Z"
      },
      {
        "duration": 78,
        "start_time": "2022-06-27T18:25:31.904Z"
      },
      {
        "duration": 14,
        "start_time": "2022-06-27T18:25:31.984Z"
      },
      {
        "duration": 17,
        "start_time": "2022-06-27T18:25:32.000Z"
      },
      {
        "duration": 9,
        "start_time": "2022-06-27T18:25:32.020Z"
      },
      {
        "duration": 59,
        "start_time": "2022-06-27T18:25:32.030Z"
      },
      {
        "duration": 4,
        "start_time": "2022-06-27T18:25:32.090Z"
      },
      {
        "duration": 16,
        "start_time": "2022-06-27T18:25:32.096Z"
      },
      {
        "duration": 9,
        "start_time": "2022-06-27T18:25:32.114Z"
      },
      {
        "duration": 0,
        "start_time": "2022-06-27T18:25:32.156Z"
      },
      {
        "duration": 0,
        "start_time": "2022-06-27T18:25:32.157Z"
      },
      {
        "duration": 0,
        "start_time": "2022-06-27T18:25:32.158Z"
      },
      {
        "duration": 0,
        "start_time": "2022-06-27T18:25:32.160Z"
      },
      {
        "duration": 0,
        "start_time": "2022-06-27T18:25:32.161Z"
      },
      {
        "duration": 0,
        "start_time": "2022-06-27T18:25:32.162Z"
      },
      {
        "duration": 0,
        "start_time": "2022-06-27T18:25:32.163Z"
      },
      {
        "duration": 0,
        "start_time": "2022-06-27T18:25:32.164Z"
      },
      {
        "duration": 0,
        "start_time": "2022-06-27T18:25:32.165Z"
      },
      {
        "duration": 0,
        "start_time": "2022-06-27T18:25:32.166Z"
      },
      {
        "duration": 0,
        "start_time": "2022-06-27T18:25:32.167Z"
      },
      {
        "duration": 0,
        "start_time": "2022-06-27T18:25:32.168Z"
      },
      {
        "duration": 0,
        "start_time": "2022-06-27T18:25:32.169Z"
      },
      {
        "duration": 0,
        "start_time": "2022-06-27T18:25:32.170Z"
      },
      {
        "duration": 0,
        "start_time": "2022-06-27T18:25:32.170Z"
      },
      {
        "duration": 0,
        "start_time": "2022-06-27T18:25:32.172Z"
      },
      {
        "duration": 0,
        "start_time": "2022-06-27T18:25:32.173Z"
      },
      {
        "duration": 0,
        "start_time": "2022-06-27T18:25:32.174Z"
      },
      {
        "duration": 0,
        "start_time": "2022-06-27T18:25:32.175Z"
      },
      {
        "duration": 0,
        "start_time": "2022-06-27T18:25:32.176Z"
      },
      {
        "duration": 0,
        "start_time": "2022-06-27T18:25:32.177Z"
      },
      {
        "duration": 0,
        "start_time": "2022-06-27T18:25:32.178Z"
      },
      {
        "duration": 0,
        "start_time": "2022-06-27T18:25:32.180Z"
      },
      {
        "duration": 0,
        "start_time": "2022-06-27T18:25:32.181Z"
      },
      {
        "duration": 0,
        "start_time": "2022-06-27T18:25:32.182Z"
      },
      {
        "duration": 0,
        "start_time": "2022-06-27T18:25:32.183Z"
      },
      {
        "duration": 8,
        "start_time": "2022-06-27T18:25:56.033Z"
      },
      {
        "duration": 10,
        "start_time": "2022-06-27T18:26:07.520Z"
      },
      {
        "duration": 9,
        "start_time": "2022-06-27T18:26:12.992Z"
      },
      {
        "duration": 7,
        "start_time": "2022-06-27T18:33:59.645Z"
      },
      {
        "duration": 514,
        "start_time": "2022-06-27T20:50:33.624Z"
      },
      {
        "duration": 34,
        "start_time": "2022-06-27T20:50:34.142Z"
      },
      {
        "duration": 75,
        "start_time": "2022-06-27T20:50:34.181Z"
      },
      {
        "duration": 73,
        "start_time": "2022-06-27T20:50:34.260Z"
      },
      {
        "duration": 76,
        "start_time": "2022-06-27T20:50:34.336Z"
      },
      {
        "duration": 41,
        "start_time": "2022-06-27T20:50:34.413Z"
      },
      {
        "duration": 76,
        "start_time": "2022-06-27T20:50:34.457Z"
      },
      {
        "duration": 7,
        "start_time": "2022-06-27T20:50:34.535Z"
      },
      {
        "duration": 36,
        "start_time": "2022-06-27T20:50:34.545Z"
      },
      {
        "duration": 47,
        "start_time": "2022-06-27T20:50:34.593Z"
      },
      {
        "duration": 56,
        "start_time": "2022-06-27T20:50:34.642Z"
      },
      {
        "duration": 28,
        "start_time": "2022-06-27T20:50:34.702Z"
      },
      {
        "duration": 45,
        "start_time": "2022-06-27T20:50:34.732Z"
      },
      {
        "duration": 68,
        "start_time": "2022-06-27T20:50:34.784Z"
      },
      {
        "duration": 35,
        "start_time": "2022-06-27T20:50:34.855Z"
      },
      {
        "duration": 54,
        "start_time": "2022-06-27T20:50:34.892Z"
      },
      {
        "duration": 66,
        "start_time": "2022-06-27T20:50:34.949Z"
      },
      {
        "duration": 23,
        "start_time": "2022-06-27T20:50:35.025Z"
      },
      {
        "duration": 15,
        "start_time": "2022-06-27T20:50:35.050Z"
      },
      {
        "duration": 57,
        "start_time": "2022-06-27T20:50:35.067Z"
      },
      {
        "duration": 15,
        "start_time": "2022-06-27T20:50:35.126Z"
      },
      {
        "duration": 29,
        "start_time": "2022-06-27T20:50:35.146Z"
      },
      {
        "duration": 50,
        "start_time": "2022-06-27T20:50:35.178Z"
      },
      {
        "duration": 13,
        "start_time": "2022-06-27T20:50:35.230Z"
      },
      {
        "duration": 14,
        "start_time": "2022-06-27T20:50:35.245Z"
      },
      {
        "duration": 74,
        "start_time": "2022-06-27T20:50:35.260Z"
      },
      {
        "duration": 15,
        "start_time": "2022-06-27T20:50:35.336Z"
      },
      {
        "duration": 31,
        "start_time": "2022-06-27T20:50:35.352Z"
      },
      {
        "duration": 41,
        "start_time": "2022-06-27T20:50:35.384Z"
      },
      {
        "duration": 16,
        "start_time": "2022-06-27T20:50:35.428Z"
      },
      {
        "duration": 10,
        "start_time": "2022-06-27T20:50:35.446Z"
      },
      {
        "duration": 67,
        "start_time": "2022-06-27T20:50:35.458Z"
      },
      {
        "duration": 17,
        "start_time": "2022-06-27T20:50:35.527Z"
      },
      {
        "duration": 123,
        "start_time": "2022-06-28T14:38:00.340Z"
      },
      {
        "duration": 44,
        "start_time": "2022-06-28T14:56:04.249Z"
      },
      {
        "duration": 515,
        "start_time": "2022-06-28T14:56:07.734Z"
      },
      {
        "duration": 21,
        "start_time": "2022-06-28T14:56:08.251Z"
      },
      {
        "duration": 14,
        "start_time": "2022-06-28T14:56:08.274Z"
      },
      {
        "duration": 9,
        "start_time": "2022-06-28T14:56:08.290Z"
      },
      {
        "duration": 47,
        "start_time": "2022-06-28T14:56:08.300Z"
      },
      {
        "duration": 3,
        "start_time": "2022-06-28T14:56:08.349Z"
      },
      {
        "duration": 10,
        "start_time": "2022-06-28T14:56:08.354Z"
      },
      {
        "duration": 3,
        "start_time": "2022-06-28T14:56:08.366Z"
      },
      {
        "duration": 10,
        "start_time": "2022-06-28T14:56:08.371Z"
      },
      {
        "duration": 5,
        "start_time": "2022-06-28T14:56:08.384Z"
      },
      {
        "duration": 55,
        "start_time": "2022-06-28T14:56:08.390Z"
      },
      {
        "duration": 9,
        "start_time": "2022-06-28T14:56:08.447Z"
      },
      {
        "duration": 4,
        "start_time": "2022-06-28T14:56:08.457Z"
      },
      {
        "duration": 20,
        "start_time": "2022-06-28T14:56:08.462Z"
      },
      {
        "duration": 15,
        "start_time": "2022-06-28T14:56:08.484Z"
      },
      {
        "duration": 31,
        "start_time": "2022-06-28T14:56:08.501Z"
      },
      {
        "duration": 6,
        "start_time": "2022-06-28T14:56:08.534Z"
      },
      {
        "duration": 13,
        "start_time": "2022-06-28T14:56:08.542Z"
      },
      {
        "duration": 11,
        "start_time": "2022-06-28T14:56:08.556Z"
      },
      {
        "duration": 4,
        "start_time": "2022-06-28T14:56:08.568Z"
      },
      {
        "duration": 13,
        "start_time": "2022-06-28T14:56:08.573Z"
      },
      {
        "duration": 5,
        "start_time": "2022-06-28T14:56:08.588Z"
      },
      {
        "duration": 6,
        "start_time": "2022-06-28T14:56:08.594Z"
      },
      {
        "duration": 8,
        "start_time": "2022-06-28T14:56:08.623Z"
      },
      {
        "duration": 6,
        "start_time": "2022-06-28T14:56:08.633Z"
      },
      {
        "duration": 6,
        "start_time": "2022-06-28T14:56:08.641Z"
      },
      {
        "duration": 10,
        "start_time": "2022-06-28T14:56:08.648Z"
      },
      {
        "duration": 5,
        "start_time": "2022-06-28T14:56:08.661Z"
      },
      {
        "duration": 16,
        "start_time": "2022-06-28T14:56:08.667Z"
      },
      {
        "duration": 39,
        "start_time": "2022-06-28T14:56:08.685Z"
      },
      {
        "duration": 6,
        "start_time": "2022-06-28T14:56:08.725Z"
      },
      {
        "duration": 8,
        "start_time": "2022-06-28T14:56:08.733Z"
      },
      {
        "duration": 16,
        "start_time": "2022-06-28T14:56:08.743Z"
      },
      {
        "duration": 42,
        "start_time": "2022-06-28T14:56:08.761Z"
      },
      {
        "duration": 36,
        "start_time": "2022-06-28T14:58:38.899Z"
      },
      {
        "duration": 15,
        "start_time": "2022-06-28T15:11:09.674Z"
      },
      {
        "duration": 37,
        "start_time": "2022-06-28T15:12:13.983Z"
      },
      {
        "duration": 34,
        "start_time": "2022-06-28T15:12:17.678Z"
      },
      {
        "duration": 14,
        "start_time": "2022-06-28T15:12:25.683Z"
      },
      {
        "duration": 36,
        "start_time": "2022-06-28T15:12:35.426Z"
      },
      {
        "duration": 15,
        "start_time": "2022-06-28T15:12:44.900Z"
      }
    ],
    "celltoolbar": "Edit Metadata",
    "colab": {
      "provenance": [],
      "toc_visible": true
    },
    "kernelspec": {
      "display_name": "Python 3 (ipykernel)",
      "language": "python",
      "name": "python3"
    },
    "language_info": {
      "codemirror_mode": {
        "name": "ipython",
        "version": 3
      },
      "file_extension": ".py",
      "mimetype": "text/x-python",
      "name": "python",
      "nbconvert_exporter": "python",
      "pygments_lexer": "ipython3",
      "version": "3.9.5"
    },
    "toc": {
      "base_numbering": 1,
      "nav_menu": {},
      "number_sections": true,
      "sideBar": true,
      "skip_h1_title": true,
      "title_cell": "Table of Contents",
      "title_sidebar": "Contents",
      "toc_cell": false,
      "toc_position": {},
      "toc_section_display": true,
      "toc_window_display": false
    }
  },
  "nbformat": 4,
  "nbformat_minor": 5
}